{
 "cells": [
  {
   "cell_type": "markdown",
   "metadata": {},
   "source": [
    "# Organic matter decomposition kinetics in cranberry agroecosystems \n",
    "\n",
    "*Wilfried Dossou-Yovo, Serge Étienne Parent,Noura Ziadi, Élizabeth Parent and Léon Étienne Parent*"
   ]
  },
  {
   "cell_type": "code",
   "execution_count": 1,
   "metadata": {},
   "outputs": [
    {
     "name": "stdout",
     "output_type": "stream",
     "text": [
      "[1] \"2020-06-09\"\n"
     ]
    }
   ],
   "source": [
    "print(Sys.Date())"
   ]
  },
  {
   "cell_type": "markdown",
   "metadata": {},
   "source": [
    "## Objective"
   ]
  },
  {
   "cell_type": "markdown",
   "metadata": {},
   "source": [
    "This notebook generates the results included in the manuscript *Tea bag index (TBI) and decomposition kinetics in cranberry agroecosystems*. The data set from 2017 trial is a collection of incubated tea bag weight, nitrogen, carbon and sulfur content, nitrogen type and doses on trials fieds. The aims of this study were to measure the TBI and kinetics of plant residue decomposition to estimate soil sequestration capacity in cranberry stands of Eastern Canada."
   ]
  },
  {
   "cell_type": "markdown",
   "metadata": {},
   "source": [
    "## Packages"
   ]
  },
  {
   "cell_type": "markdown",
   "metadata": {},
   "source": [
    "We need package [tidyverse](https://www.tidyverse.org/) which loads a set of packages for easy data manipulation(Ex: [dplyr](https://www.rdocumentation.org/packages/dplyr/versions/0.7.8)) and visualization (ex: [ggplot2](https://www.rdocumentation.org/packages/ggplot2/versions/3.2.1)). A set of other packages is used: [nlme](https://www.rdocumentation.org/packages/nlme/versions/3.1-143/topics/nlme) for fitting a nonlinear mixed-effects model, [e1071](https://www.rdocumentation.org/packages/e1071/versions/1.7-3) for latent class analysis, [ggmap](https://www.rdocumentation.org/packages/ggmap/versions/3.0.0) for mapping, [ggrepel](https://www.rdocumentation.org/packages/ggrepel/versions/0.8.1) that provides text and label geoms for 'ggplot2' and [cowplot](https://www.rdocumentation.org/packages/cowplot/versions/1.0.0) that provides various features that help with creating publication-quality figures with 'ggplot2', [composition](https://www.rdocumentation.org/packages/compositions/versions/1.40-5) for compositional data analysis and [patchwork](https://www.rdocumentation.org/packages/patchwork/versions/1.0.0/topics/patchwork-package) is a package that expands the API to allow for arbitrarily complex composition of plots by, among others, providing mathematical operators for combining multiple plots."
   ]
  },
  {
   "cell_type": "code",
   "execution_count": 2,
   "metadata": {},
   "outputs": [
    {
     "name": "stderr",
     "output_type": "stream",
     "text": [
      "Warning message:\n",
      "\"package 'tidyverse' was built under R version 3.6.2\"-- Attaching packages --------------------------------------- tidyverse 1.3.0 --\n",
      "v ggplot2 3.2.1     v purrr   0.3.3\n",
      "v tibble  2.1.3     v dplyr   0.8.3\n",
      "v tidyr   1.0.0     v stringr 1.4.0\n",
      "v readr   1.3.1     v forcats 0.4.0\n",
      "Warning message:\n",
      "\"package 'ggplot2' was built under R version 3.6.2\"Warning message:\n",
      "\"package 'tibble' was built under R version 3.6.2\"Warning message:\n",
      "\"package 'tidyr' was built under R version 3.6.2\"Warning message:\n",
      "\"package 'readr' was built under R version 3.6.2\"Warning message:\n",
      "\"package 'purrr' was built under R version 3.6.2\"Warning message:\n",
      "\"package 'dplyr' was built under R version 3.6.2\"Warning message:\n",
      "\"package 'stringr' was built under R version 3.6.2\"Warning message:\n",
      "\"package 'forcats' was built under R version 3.6.2\"-- Conflicts ------------------------------------------ tidyverse_conflicts() --\n",
      "x dplyr::filter() masks stats::filter()\n",
      "x dplyr::lag()    masks stats::lag()\n",
      "Warning message:\n",
      "\"package 'nlme' was built under R version 3.6.2\"\n",
      "Attaching package: 'nlme'\n",
      "\n",
      "The following object is masked from 'package:dplyr':\n",
      "\n",
      "    collapse\n",
      "\n",
      "Warning message:\n",
      "\"package 'e1071' was built under R version 3.6.2\"Warning message:\n",
      "\"package 'ggmap' was built under R version 3.6.2\"Google's Terms of Service: https://cloud.google.com/maps-platform/terms/.\n",
      "Please cite ggmap if you use it! See citation(\"ggmap\") for details.\n",
      "Warning message:\n",
      "\"package 'ggrepel' was built under R version 3.6.2\"Warning message:\n",
      "\"package 'cowplot' was built under R version 3.6.2\"\n",
      "********************************************************\n",
      "Note: As of version 1.0.0, cowplot does not change the\n",
      "  default ggplot2 theme anymore. To recover the previous\n",
      "  behavior, execute:\n",
      "  theme_set(theme_cowplot())\n",
      "********************************************************\n",
      "\n",
      "\n",
      "Attaching package: 'cowplot'\n",
      "\n",
      "The following object is masked from 'package:ggmap':\n",
      "\n",
      "    theme_nothing\n",
      "\n",
      "Warning message:\n",
      "\"package 'compositions' was built under R version 3.6.2\"Loading required package: tensorA\n",
      "\n",
      "Attaching package: 'tensorA'\n",
      "\n",
      "The following object is masked from 'package:base':\n",
      "\n",
      "    norm\n",
      "\n",
      "Loading required package: robustbase\n",
      "Warning message:\n",
      "\"package 'robustbase' was built under R version 3.6.2\"Loading required package: bayesm\n",
      "Warning message:\n",
      "\"package 'bayesm' was built under R version 3.6.2\"Welcome to compositions, a package for compositional data analysis.\n",
      "Find an intro with \"? compositions\"\n",
      "\n",
      "\n",
      "Attaching package: 'compositions'\n",
      "\n",
      "The following objects are masked from 'package:stats':\n",
      "\n",
      "    cor, cov, dist, var\n",
      "\n",
      "The following objects are masked from 'package:base':\n",
      "\n",
      "    %*%, scale, scale.default\n",
      "\n"
     ]
    }
   ],
   "source": [
    "library(\"tidyverse\")\n",
    "library(\"nlme\")\n",
    "library(\"e1071\")\n",
    "library(\"ggmap\")\n",
    "library(\"ggrepel\")\n",
    "library(\"cowplot\")\n",
    "library(\"compositions\")\n",
    "library(\"patchwork\")"
   ]
  },
  {
   "cell_type": "markdown",
   "metadata": {},
   "source": [
    "### Map design : Experimental site study"
   ]
  },
  {
   "cell_type": "markdown",
   "metadata": {},
   "source": [
    "We design a map of our four experimental sites with geographical position collected from google earth."
   ]
  },
  {
   "cell_type": "code",
   "execution_count": 3,
   "metadata": {},
   "outputs": [
    {
     "name": "stderr",
     "output_type": "stream",
     "text": [
      "Source : http://tile.stamen.com/toner-lite/4/4/4.png\n",
      "Source : http://tile.stamen.com/toner-lite/4/5/4.png\n",
      "Source : http://tile.stamen.com/toner-lite/4/4/5.png\n",
      "Source : http://tile.stamen.com/toner-lite/4/5/5.png\n",
      "Source : http://tile.stamen.com/toner-lite/8/76/90.png\n",
      "Source : http://tile.stamen.com/toner-lite/8/77/90.png\n",
      "Source : http://tile.stamen.com/toner-lite/8/76/91.png\n",
      "Source : http://tile.stamen.com/toner-lite/8/77/91.png\n",
      "Warning message:\n",
      "\"package 'patchwork' was built under R version 3.6.3\"\n",
      "Attaching package: 'patchwork'\n",
      "\n",
      "The following object is masked from 'package:cowplot':\n",
      "\n",
      "    align_plots\n",
      "\n",
      "Warning message in min(x):\n",
      "\"aucun argument trouvé pour min ; Inf est renvoyé\"Warning message in max(x):\n",
      "\"aucun argument pour max ; -Inf est renvoyé\"Warning message in min(x):\n",
      "\"aucun argument trouvé pour min ; Inf est renvoyé\"Warning message in max(x):\n",
      "\"aucun argument pour max ; -Inf est renvoyé\"Warning message in min(x):\n",
      "\"aucun argument trouvé pour min ; Inf est renvoyé\"Warning message in max(x):\n",
      "\"aucun argument pour max ; -Inf est renvoyé\"Warning message in min(x):\n",
      "\"aucun argument trouvé pour min ; Inf est renvoyé\"Warning message in max(x):\n",
      "\"aucun argument pour max ; -Inf est renvoyé\""
     ]
    },
    {
     "data": {
      "image/png": "[encoded data removed]",
      "text/plain": [
       "plot without title"
      ]
     },
     "metadata": {},
     "output_type": "display_data"
    }
   ],
   "source": [
    "sites <- tibble(sites = c(\"\", \"\", \"\", \"\"),\n",
    "                lat = c(46.2759555, 46.2759555, 46.2329064, 46.3277404),\n",
    "                lon = c(-71.8584291, -71.8584291, -72.0461854, -71.7486645))\n",
    "site <- tibble(sites = c(\"Fortier/45\", \"Fortier/9\", \"Belanger/A9\", \"Belanger/10\"),\n",
    "                lat = c(46.2759555, 46.2759555, 46.2329064, 46.3277404),\n",
    "                lon = c(-71.8584291, -71.8584291, -72.0461854, -71.7486645))\n",
    "\n",
    "frame_map_zoom_out <- c(left = -90, bottom = 44, right = -53, top = 63)\n",
    "frame_map_zoom_in <- c(left = -73, bottom = 46, right = -71, top = 47)\n",
    "\n",
    "rect_zoom <- data.frame(t(data.frame(frame_map_zoom_in)))\n",
    "frame_map_zoom_out <- c(left = -90, bottom = 44, right = -53, top = 63)\n",
    "frame_map_zoom_in <- c(left = -73, bottom = 46, right = -71, top = 47)\n",
    "\n",
    "map_out <- get_stamenmap(frame_map_zoom_out, zoom = 4, maptype = \"toner-lite\") %>%\n",
    "  ggmap() +\n",
    "  geom_rect(data = rect_zoom, aes(xmin = left, xmax = right,\n",
    "                                  ymin = bottom, ymax = top,\n",
    "                                  x = NULL, y = NULL),\n",
    "            fill = rgb(0, 0, 0, 0.2), colour = \"black\") +\n",
    "  geom_label_repel(data = sites, aes(x = lon, y = lat, label = sites)) +\n",
    "  labs(x = \"Longitude\", y = \"Latiude\", title = \"A\")\n",
    "\n",
    "map_in <- get_stamenmap(frame_map_zoom_in, zoom = 8, maptype = \"toner-lite\") %>%\n",
    "  ggmap() +\n",
    "  geom_label_repel(data = site, aes(x = lon, y = lat, label = sites)) +\n",
    "  labs(x = \"Longitude\", y = \"Latiude\", title = \"B\")\n",
    "\n",
    "library(\"patchwork\")\n",
    "map_out + map_in\n",
    "\n",
    "ggsave(\"figures/site_map.png\", width = 8, height = 6, dpi = 600)\n"
   ]
  },
  {
   "cell_type": "markdown",
   "metadata": {},
   "source": [
    "## Some custom functions.\n",
    "### Pseudo R-square\n",
    "Pseudo R-square allows to measure how well variables of our model explain organic matter decomposition"
   ]
  },
  {
   "cell_type": "code",
   "execution_count": 4,
   "metadata": {},
   "outputs": [],
   "source": [
    "pseudoR2 <- function(y, y_hat) {\n",
    "  1 - (sum((y - y_hat)^2) / sum((y - mean(y))^2))\n",
    "}\n",
    "\n",
    "# Residuals\n",
    "residues <- function(model, level = 0, computeResidues = TRUE, residues,\n",
    "                   main = \"\") {\n",
    "  if (computeResidues) {\n",
    "    r = residuals(model, type=\"normalized\", level)\n",
    "  } else {\n",
    "    r = residues\n",
    "  }\n",
    "  hist(r, freq=F, main = main, breaks=20)\n",
    "  xfit<-seq(min(r),max(r),length=40)\n",
    "  yfit<-dnorm(xfit)\n",
    "  lines(xfit, yfit, col=\"red\", lwd=2)\n",
    "  print(\"Shapiro-Wilk:\")\n",
    "  print(shapiro.test(r))\n",
    "  print(paste(\"Kurtosis:\", kurtosis(r)))\n",
    "  print(paste(\"Skewness:\", skewness(r)))\n",
    "}\n"
   ]
  },
  {
   "cell_type": "markdown",
   "metadata": {},
   "source": [
    "## Import data\n",
    "Here, we load our data `data.csv` available for the project in the `data` folder."
   ]
  },
  {
   "cell_type": "code",
   "execution_count": 5,
   "metadata": {},
   "outputs": [
    {
     "name": "stderr",
     "output_type": "stream",
     "text": [
      "Parsed with column specification:\n",
      "cols(\n",
      "  No = col_double(),\n",
      "  `Tea type abbr` = col_character(),\n",
      "  `Tea type` = col_character(),\n",
      "  `Initial tea weight (g)` = col_double(),\n",
      "  `Initial total weight (g)` = col_double(),\n",
      "  `Initial bag weight (g)` = col_double(),\n",
      "  `Remaining tea weight (g)` = col_double(),\n",
      "  Farm = col_character(),\n",
      "  Site = col_character(),\n",
      "  `Farming system` = col_character(),\n",
      "  `Nitrogen type` = col_character(),\n",
      "  `Nitrogen dose` = col_double(),\n",
      "  Repetition = col_double(),\n",
      "  `Remaining C (%)` = col_double(),\n",
      "  `Remaining N (%)` = col_double(),\n",
      "  `Remaining S (%)` = col_double(),\n",
      "  `Initial C fraction` = col_double()\n",
      ")\n"
     ]
    }
   ],
   "source": [
    "df <- read_csv(\"data/data.csv\")"
   ]
  },
  {
   "cell_type": "markdown",
   "metadata": {},
   "source": [
    "Label repetitions in such a way they are unique per field and dose"
   ]
  },
  {
   "cell_type": "code",
   "execution_count": 6,
   "metadata": {},
   "outputs": [],
   "source": [
    "df$`Dose repetition` = paste0(df$`Nitrogen dose`, '_', df$Repetition,'_', df$Site)"
   ]
  },
  {
   "cell_type": "markdown",
   "metadata": {},
   "source": [
    "*Cranberry litter* category will be used for the reference category in modeling."
   ]
  },
  {
   "cell_type": "code",
   "execution_count": 7,
   "metadata": {},
   "outputs": [],
   "source": [
    "df$`Tea type` = relevel(factor(df$`Tea type`), ref = 'Cranberry litter')"
   ]
  },
  {
   "cell_type": "markdown",
   "metadata": {},
   "source": [
    "## Preprocess : weight loss rate"
   ]
  },
  {
   "cell_type": "markdown",
   "metadata": {},
   "source": [
    "Weight loss rate has been estimate by\n",
    "\n",
    "$$k_1 = \\frac{-ln \\left( \\frac{M(t)}{M_0} \\right) }{t}$$\n",
    "\n",
    "Where $M_0$ is initial litter organic mass, $M(t)$ is litter organic mass that remains after incubation time $t = 90~days$, and $k_1$ is decomposition rate. "
   ]
  },
  {
   "cell_type": "code",
   "execution_count": 8,
   "metadata": {},
   "outputs": [],
   "source": [
    "kinetics_1st <- function(rw, iw, t) {\n",
    "    -log(rw/iw)/t\n",
    "}"
   ]
  },
  {
   "cell_type": "code",
   "execution_count": 9,
   "metadata": {},
   "outputs": [],
   "source": [
    "df$k1 <- kinetics_1st(rw = df$`Remaining tea weight (g)`,\n",
    "                      iw = df$`Initial tea weight (g)`,\n",
    "                      t = 90)"
   ]
  },
  {
   "cell_type": "markdown",
   "metadata": {},
   "source": [
    "## Data exploration"
   ]
  },
  {
   "cell_type": "code",
   "execution_count": 10,
   "metadata": {},
   "outputs": [
    {
     "data": {
      "text/html": [
       "<table>\n",
       "<thead><tr><th scope=col>No</th><th scope=col>Tea type abbr</th><th scope=col>Tea type</th><th scope=col>Initial tea weight (g)</th><th scope=col>Initial total weight (g)</th><th scope=col>Initial bag weight (g)</th><th scope=col>Remaining tea weight (g)</th><th scope=col>Farm</th><th scope=col>Site</th><th scope=col>Farming system</th><th scope=col>Nitrogen type</th><th scope=col>Nitrogen dose</th><th scope=col>Repetition</th><th scope=col>Remaining C (%)</th><th scope=col>Remaining N (%)</th><th scope=col>Remaining S (%)</th><th scope=col>Initial C fraction</th><th scope=col>Dose repetition</th><th scope=col>k1</th></tr></thead>\n",
       "<tbody>\n",
       "\t<tr><td>1          </td><td>G          </td><td>Green tea  </td><td>1.793      </td><td>2.019      </td><td>0.226      </td><td>0.783      </td><td>Belanger   </td><td>A9         </td><td>Organic    </td><td>N-8-0-0    </td><td>0          </td><td>1          </td><td>50.144     </td><td>5.2809     </td><td>0.290      </td><td>0.8605444  </td><td>0_1_A9     </td><td>0.009205698</td></tr>\n",
       "\t<tr><td>2          </td><td>G          </td><td>Green tea  </td><td>1.786      </td><td>2.011      </td><td>0.225      </td><td>0.797      </td><td>Belanger   </td><td>A9         </td><td>Organic    </td><td>N-8-0-0    </td><td>0          </td><td>1          </td><td>50.933     </td><td>4.4082     </td><td>0.251      </td><td>0.8571847  </td><td>0_1_A9     </td><td>0.008965323</td></tr>\n",
       "\t<tr><td>3          </td><td>G          </td><td>Green tea  </td><td>1.782      </td><td>2.008      </td><td>0.228      </td><td>   NA      </td><td>Belanger   </td><td>A9         </td><td>Organic    </td><td>N-8-0-0    </td><td>0          </td><td>1          </td><td>    NA     </td><td>    NA     </td><td>   NA      </td><td>0.8552650  </td><td>0_1_A9     </td><td>         NA</td></tr>\n",
       "\t<tr><td>4          </td><td>G          </td><td>Green tea  </td><td>1.760      </td><td>1.987      </td><td>0.227      </td><td>0.778      </td><td>Belanger   </td><td>A9         </td><td>Organic    </td><td>N-8-0-0    </td><td>0          </td><td>2          </td><td>50.292     </td><td>5.4397     </td><td>0.296      </td><td>0.8447061  </td><td>0_2_A9     </td><td>0.009070473</td></tr>\n",
       "\t<tr><td>5          </td><td>G          </td><td>Green tea  </td><td>1.788      </td><td>2.013      </td><td>0.226      </td><td>0.779      </td><td>Belanger   </td><td>A9         </td><td>Organic    </td><td>N-8-0-0    </td><td>0          </td><td>2          </td><td>47.718     </td><td>4.8735     </td><td>0.277      </td><td>0.8581446  </td><td>0_2_A9     </td><td>0.009231577</td></tr>\n",
       "\t<tr><td>6          </td><td>G          </td><td>Green tea  </td><td>1.779      </td><td>2.004      </td><td>0.227      </td><td>   NA      </td><td>Belanger   </td><td>A9         </td><td>Organic    </td><td>N-8-0-0    </td><td>0          </td><td>2          </td><td>    NA     </td><td>    NA     </td><td>   NA      </td><td>0.8538251  </td><td>0_2_A9     </td><td>         NA</td></tr>\n",
       "</tbody>\n",
       "</table>\n"
      ],
      "text/latex": [
       "\\begin{tabular}{r|lllllllllllllllllll}\n",
       " No & Tea type abbr & Tea type & Initial tea weight (g) & Initial total weight (g) & Initial bag weight (g) & Remaining tea weight (g) & Farm & Site & Farming system & Nitrogen type & Nitrogen dose & Repetition & Remaining C (\\%) & Remaining N (\\%) & Remaining S (\\%) & Initial C fraction & Dose repetition & k1\\\\\n",
       "\\hline\n",
       "\t 1           & G           & Green tea   & 1.793       & 2.019       & 0.226       & 0.783       & Belanger    & A9          & Organic     & N-8-0-0     & 0           & 1           & 50.144      & 5.2809      & 0.290       & 0.8605444   & 0\\_1\\_A9  & 0.009205698\\\\\n",
       "\t 2           & G           & Green tea   & 1.786       & 2.011       & 0.225       & 0.797       & Belanger    & A9          & Organic     & N-8-0-0     & 0           & 1           & 50.933      & 4.4082      & 0.251       & 0.8571847   & 0\\_1\\_A9  & 0.008965323\\\\\n",
       "\t 3           & G           & Green tea   & 1.782       & 2.008       & 0.228       &    NA       & Belanger    & A9          & Organic     & N-8-0-0     & 0           & 1           &     NA      &     NA      &    NA       & 0.8552650   & 0\\_1\\_A9  &          NA\\\\\n",
       "\t 4           & G           & Green tea   & 1.760       & 1.987       & 0.227       & 0.778       & Belanger    & A9          & Organic     & N-8-0-0     & 0           & 2           & 50.292      & 5.4397      & 0.296       & 0.8447061   & 0\\_2\\_A9  & 0.009070473\\\\\n",
       "\t 5           & G           & Green tea   & 1.788       & 2.013       & 0.226       & 0.779       & Belanger    & A9          & Organic     & N-8-0-0     & 0           & 2           & 47.718      & 4.8735      & 0.277       & 0.8581446   & 0\\_2\\_A9  & 0.009231577\\\\\n",
       "\t 6           & G           & Green tea   & 1.779       & 2.004       & 0.227       &    NA       & Belanger    & A9          & Organic     & N-8-0-0     & 0           & 2           &     NA      &     NA      &    NA       & 0.8538251   & 0\\_2\\_A9  &          NA\\\\\n",
       "\\end{tabular}\n"
      ],
      "text/markdown": [
       "\n",
       "| No | Tea type abbr | Tea type | Initial tea weight (g) | Initial total weight (g) | Initial bag weight (g) | Remaining tea weight (g) | Farm | Site | Farming system | Nitrogen type | Nitrogen dose | Repetition | Remaining C (%) | Remaining N (%) | Remaining S (%) | Initial C fraction | Dose repetition | k1 |\n",
       "|---|---|---|---|---|---|---|---|---|---|---|---|---|---|---|---|---|---|---|\n",
       "| 1           | G           | Green tea   | 1.793       | 2.019       | 0.226       | 0.783       | Belanger    | A9          | Organic     | N-8-0-0     | 0           | 1           | 50.144      | 5.2809      | 0.290       | 0.8605444   | 0_1_A9      | 0.009205698 |\n",
       "| 2           | G           | Green tea   | 1.786       | 2.011       | 0.225       | 0.797       | Belanger    | A9          | Organic     | N-8-0-0     | 0           | 1           | 50.933      | 4.4082      | 0.251       | 0.8571847   | 0_1_A9      | 0.008965323 |\n",
       "| 3           | G           | Green tea   | 1.782       | 2.008       | 0.228       |    NA       | Belanger    | A9          | Organic     | N-8-0-0     | 0           | 1           |     NA      |     NA      |    NA       | 0.8552650   | 0_1_A9      |          NA |\n",
       "| 4           | G           | Green tea   | 1.760       | 1.987       | 0.227       | 0.778       | Belanger    | A9          | Organic     | N-8-0-0     | 0           | 2           | 50.292      | 5.4397      | 0.296       | 0.8447061   | 0_2_A9      | 0.009070473 |\n",
       "| 5           | G           | Green tea   | 1.788       | 2.013       | 0.226       | 0.779       | Belanger    | A9          | Organic     | N-8-0-0     | 0           | 2           | 47.718      | 4.8735      | 0.277       | 0.8581446   | 0_2_A9      | 0.009231577 |\n",
       "| 6           | G           | Green tea   | 1.779       | 2.004       | 0.227       |    NA       | Belanger    | A9          | Organic     | N-8-0-0     | 0           | 2           |     NA      |     NA      |    NA       | 0.8538251   | 0_2_A9      |          NA |\n",
       "\n"
      ],
      "text/plain": [
       "  No Tea type abbr Tea type  Initial tea weight (g) Initial total weight (g)\n",
       "1 1  G             Green tea 1.793                  2.019                   \n",
       "2 2  G             Green tea 1.786                  2.011                   \n",
       "3 3  G             Green tea 1.782                  2.008                   \n",
       "4 4  G             Green tea 1.760                  1.987                   \n",
       "5 5  G             Green tea 1.788                  2.013                   \n",
       "6 6  G             Green tea 1.779                  2.004                   \n",
       "  Initial bag weight (g) Remaining tea weight (g) Farm     Site Farming system\n",
       "1 0.226                  0.783                    Belanger A9   Organic       \n",
       "2 0.225                  0.797                    Belanger A9   Organic       \n",
       "3 0.228                     NA                    Belanger A9   Organic       \n",
       "4 0.227                  0.778                    Belanger A9   Organic       \n",
       "5 0.226                  0.779                    Belanger A9   Organic       \n",
       "6 0.227                     NA                    Belanger A9   Organic       \n",
       "  Nitrogen type Nitrogen dose Repetition Remaining C (%) Remaining N (%)\n",
       "1 N-8-0-0       0             1          50.144          5.2809         \n",
       "2 N-8-0-0       0             1          50.933          4.4082         \n",
       "3 N-8-0-0       0             1              NA              NA         \n",
       "4 N-8-0-0       0             2          50.292          5.4397         \n",
       "5 N-8-0-0       0             2          47.718          4.8735         \n",
       "6 N-8-0-0       0             2              NA              NA         \n",
       "  Remaining S (%) Initial C fraction Dose repetition k1         \n",
       "1 0.290           0.8605444          0_1_A9          0.009205698\n",
       "2 0.251           0.8571847          0_1_A9          0.008965323\n",
       "3    NA           0.8552650          0_1_A9                   NA\n",
       "4 0.296           0.8447061          0_2_A9          0.009070473\n",
       "5 0.277           0.8581446          0_2_A9          0.009231577\n",
       "6    NA           0.8538251          0_2_A9                   NA"
      ]
     },
     "metadata": {},
     "output_type": "display_data"
    }
   ],
   "source": [
    "head(df)"
   ]
  },
  {
   "cell_type": "markdown",
   "metadata": {},
   "source": [
    "Boxplot"
   ]
  },
  {
   "cell_type": "code",
   "execution_count": 11,
   "metadata": {},
   "outputs": [
    {
     "name": "stderr",
     "output_type": "stream",
     "text": [
      "Warning message:\n",
      "\"Removed 49 rows containing non-finite values (stat_boxplot).\""
     ]
    },
    {
     "data": {
      "image/png": "[encoded data removed]",
      "text/plain": [
       "plot without title"
      ]
     },
     "metadata": {},
     "output_type": "display_data"
    }
   ],
   "source": [
    "options(repr.plot.width = 6, repr.plot.height = 10)\n",
    "ggplot(data = df,\n",
    "       mapping = aes(x = `Nitrogen type`, y = k1)) +\n",
    "  facet_grid(`Tea type` ~ ., scales = \"free\") +\n",
    "  geom_boxplot()"
   ]
  },
  {
   "cell_type": "markdown",
   "metadata": {},
   "source": [
    "## What's affecting litters weight?"
   ]
  },
  {
   "cell_type": "markdown",
   "metadata": {},
   "source": [
    "### Mixed model"
   ]
  },
  {
   "cell_type": "code",
   "execution_count": 12,
   "metadata": {},
   "outputs": [],
   "source": [
    "df <- df %>%\n",
    "  mutate(`Nitrogen dose scaled` = scale(`Nitrogen dose`))"
   ]
  },
  {
   "cell_type": "code",
   "execution_count": 13,
   "metadata": {},
   "outputs": [],
   "source": [
    "df_mm <- df %>%\n",
    "  rename(tea = `Tea type`,\n",
    "         Ntype = `Nitrogen type`,\n",
    "         Ndose = `Nitrogen dose scaled`) %>%\n",
    "  mutate(tea = factor(tea),\n",
    "         Ntype = factor(Ntype)) %>%\n",
    "  drop_na() %>%\n",
    "  droplevels()"
   ]
  },
  {
   "cell_type": "code",
   "execution_count": 14,
   "metadata": {},
   "outputs": [],
   "source": [
    "k1_mm <- lme(fixed = k1 ~ Ntype + Ndose * tea,\n",
    "                     random = ~ 1 | Farm/Site,\n",
    "                     data = df_mm)"
   ]
  },
  {
   "cell_type": "code",
   "execution_count": 15,
   "metadata": {},
   "outputs": [
    {
     "data": {
      "text/html": [
       "<table>\n",
       "<thead><tr><th></th><th scope=col>numDF</th><th scope=col>denDF</th><th scope=col>F-value</th><th scope=col>p-value</th></tr></thead>\n",
       "<tbody>\n",
       "\t<tr><th scope=row>(Intercept)</th><td>1           </td><td>346         </td><td>  90.4235185</td><td>0.000000e+00</td></tr>\n",
       "\t<tr><th scope=row>Ntype</th><td>3           </td><td>346         </td><td>   9.2425070</td><td>6.769315e-06</td></tr>\n",
       "\t<tr><th scope=row>Ndose</th><td>1           </td><td>346         </td><td>   0.4951898</td><td>4.820946e-01</td></tr>\n",
       "\t<tr><th scope=row>tea</th><td>4           </td><td>346         </td><td>1309.7307309</td><td>0.000000e+00</td></tr>\n",
       "\t<tr><th scope=row>Ndose:tea</th><td>4           </td><td>346         </td><td>   2.4427939</td><td>4.649410e-02</td></tr>\n",
       "</tbody>\n",
       "</table>\n"
      ],
      "text/latex": [
       "\\begin{tabular}{r|llll}\n",
       "  & numDF & denDF & F-value & p-value\\\\\n",
       "\\hline\n",
       "\t(Intercept) & 1            & 346          &   90.4235185 & 0.000000e+00\\\\\n",
       "\tNtype & 3            & 346          &    9.2425070 & 6.769315e-06\\\\\n",
       "\tNdose & 1            & 346          &    0.4951898 & 4.820946e-01\\\\\n",
       "\ttea & 4            & 346          & 1309.7307309 & 0.000000e+00\\\\\n",
       "\tNdose:tea & 4            & 346          &    2.4427939 & 4.649410e-02\\\\\n",
       "\\end{tabular}\n"
      ],
      "text/markdown": [
       "\n",
       "| <!--/--> | numDF | denDF | F-value | p-value |\n",
       "|---|---|---|---|---|\n",
       "| (Intercept) | 1            | 346          |   90.4235185 | 0.000000e+00 |\n",
       "| Ntype | 3            | 346          |    9.2425070 | 6.769315e-06 |\n",
       "| Ndose | 1            | 346          |    0.4951898 | 4.820946e-01 |\n",
       "| tea | 4            | 346          | 1309.7307309 | 0.000000e+00 |\n",
       "| Ndose:tea | 4            | 346          |    2.4427939 | 4.649410e-02 |\n",
       "\n"
      ],
      "text/plain": [
       "            numDF denDF F-value      p-value     \n",
       "(Intercept) 1     346     90.4235185 0.000000e+00\n",
       "Ntype       3     346      9.2425070 6.769315e-06\n",
       "Ndose       1     346      0.4951898 4.820946e-01\n",
       "tea         4     346   1309.7307309 0.000000e+00\n",
       "Ndose:tea   4     346      2.4427939 4.649410e-02"
      ]
     },
     "metadata": {},
     "output_type": "display_data"
    }
   ],
   "source": [
    "anova(k1_mm)"
   ]
  },
  {
   "cell_type": "markdown",
   "metadata": {},
   "source": [
    "### Pseudo r-square\n",
    "Pseudo r-square was high with(0.94) and without(0.91) random effect indicated the influence of random effects was not impotant. Moreover, pseudo r-square was high, indicated mixed model was well fit to data.   "
   ]
  },
  {
   "cell_type": "code",
   "execution_count": 16,
   "metadata": {},
   "outputs": [
    {
     "data": {
      "text/html": [
       "0.917998181500839"
      ],
      "text/latex": [
       "0.917998181500839"
      ],
      "text/markdown": [
       "0.917998181500839"
      ],
      "text/plain": [
       "[1] 0.9179982"
      ]
     },
     "metadata": {},
     "output_type": "display_data"
    },
    {
     "data": {
      "text/html": [
       "0.940505395382787"
      ],
      "text/latex": [
       "0.940505395382787"
      ],
      "text/markdown": [
       "0.940505395382787"
      ],
      "text/plain": [
       "[1] 0.9405054"
      ]
     },
     "metadata": {},
     "output_type": "display_data"
    }
   ],
   "source": [
    "pseudoR2(y = df_mm$k1,\n",
    "         y_hat = predict(k1_mm, level = 0))\n",
    "\n",
    "pseudoR2(y = df_mm$k1,\n",
    "         y_hat = predict(k1_mm, level = 2))"
   ]
  },
  {
   "cell_type": "markdown",
   "metadata": {},
   "source": [
    "### Shapiro-Wilk normality test"
   ]
  },
  {
   "cell_type": "code",
   "execution_count": 17,
   "metadata": {},
   "outputs": [
    {
     "name": "stdout",
     "output_type": "stream",
     "text": [
      "[1] \"Shapiro-Wilk:\"\n",
      "\n",
      "\tShapiro-Wilk normality test\n",
      "\n",
      "data:  r\n",
      "W = 0.93463, p-value = 1.636e-11\n",
      "\n",
      "[1] \"Kurtosis: 4.72506311595992\"\n",
      "[1] \"Skewness: 0.0203648806888307\"\n"
     ]
    },
    {
     "data": {
      "image/png": "[encoded data removed]",
      "text/plain": [
       "Plot with title \"\""
      ]
     },
     "metadata": {},
     "output_type": "display_data"
    }
   ],
   "source": [
    "options(repr.plot.width = 6, repr.plot.height = 4)\n",
    "residues(k1_mm)"
   ]
  },
  {
   "cell_type": "markdown",
   "metadata": {},
   "source": [
    "## Mixed model"
   ]
  },
  {
   "cell_type": "code",
   "execution_count": 18,
   "metadata": {},
   "outputs": [],
   "source": [
    "k1_gg <- data.frame(intervals(k1_mm, which = \"fixed\")$fixed)\n",
    "k1_gg <- k1_gg %>%\n",
    "  mutate(variable = rownames(k1_gg))\n",
    "k1_gg <- k1_gg %>%\n",
    "  mutate(pvalue = summary(k1_mm)$tTable[, 5],\n",
    "         is_significant = ifelse(pvalue <= 0.05, 'Significant at 0.05 level', 'Not significant at 0.05 level'))\n",
    "\n",
    "k1_gg$variable <- c(\"Intercept\", \"N 6-1-1\", \"N 8-0-0\", \"N SCU-39-0-0\", # Ajust names\n",
    "                    \"Dose N (scaled)\", \"Green tea\", \"Hibiscus tea\", \"Rooibos tea\", \"Sencha tea\",\n",
    "                     \"Green tea : Dose N\", \"Hibiscus tea : Dose N\", \"Rooibos tea : Dose N\", \"Sencha tea : Dose N\")"
   ]
  },
  {
   "cell_type": "markdown",
   "metadata": {},
   "source": [
    "Adding random effects to the table."
   ]
  },
  {
   "cell_type": "code",
   "execution_count": 19,
   "metadata": {},
   "outputs": [],
   "source": [
    "k1_re <- data.frame(matrix(ncol = ncol(k1_gg), nrow = 6))\n",
    "names(k1_re) <- names(k1_gg)\n",
    "k1_re$est. <- c(ranef(k1_mm)$Farm[, 1], ranef(k1_mm)$Site[, 1])\n",
    "k1_re$variable <- c(rownames(ranef(k1_mm)$Farm),\n",
    "                    rownames(ranef(k1_mm)$Site))\n",
    "\n",
    "if (!(\"Belanger\" %in% k1_gg$variable)) k1_gg <- bind_rows(k1_gg, k1_re) # with an if to make sure ranefs are stacked only once"
   ]
  },
  {
   "cell_type": "markdown",
   "metadata": {},
   "source": [
    "Create a facet column to separate effects by effect category in the plot."
   ]
  },
  {
   "cell_type": "code",
   "execution_count": 20,
   "metadata": {},
   "outputs": [],
   "source": [
    "k1_gg$facet <- factor(c('Intercept',\n",
    "                        'N source', 'N source', 'N source',\n",
    "                        \"N dosage\",\n",
    "                        'Tea type', 'Tea type', 'Tea type', 'Tea type',\n",
    "                        'Tea type x N dosage', 'Tea type x N dosage', \n",
    "                        'Tea type x N dosage', 'Tea type x N dosage',\n",
    "                        \"Random effect\", \"Random effect\", \"Random effect\", \"Random effect\", \"Random effect\", \"Random effect\"))\n",
    "\n",
    "k1_gg <- k1_gg %>%\n",
    "  mutate(facet = factor(facet, levels = rev(c(\"Random effect\", \"Tea type x N dosage\", \"Tea type\", \"N dosage\", \"N source\"))))"
   ]
  },
  {
   "cell_type": "markdown",
   "metadata": {},
   "source": [
    "### Mixed model showing factors that impacted organic matter decomposition rate (k1), using cranberry litter as reference (95% confident interval)."
   ]
  },
  {
   "cell_type": "code",
   "execution_count": 21,
   "metadata": {},
   "outputs": [
    {
     "name": "stderr",
     "output_type": "stream",
     "text": [
      "Warning message:\n",
      "\"Removed 6 rows containing missing values (geom_segment).\"Warning message:\n",
      "\"Removed 6 rows containing missing values (geom_segment).\""
     ]
    },
    {
     "data": {
      "image/png": "[encoded data removed]",
      "text/plain": [
       "plot without title"
      ]
     },
     "metadata": {},
     "output_type": "display_data"
    }
   ],
   "source": [
    "options(repr.plot.width = 12, repr.plot.height = 6)\n",
    "k1_gg %>%\n",
    "  filter(variable != \"Intercept\") %>%\n",
    "  ggplot(aes(x = est., y = variable)) +\n",
    "  facet_grid(facet ~ ., scales = 'free', space = 'free') +\n",
    "  geom_vline(xintercept = 0, colour='grey70') +\n",
    "  geom_point() +\n",
    "  geom_segment(aes(x = lower, xend = upper, y = variable, yend = variable)) +\n",
    "  xlab('Coefficient') +\n",
    "  ylab('') +\n",
    "  theme_bw() +\n",
    "  theme(strip.text.y = element_text(angle=0),\n",
    "        legend.title = element_blank(),\n",
    "        legend.position = \"bottom\",\n",
    "        text = element_text(size = 20)) +\n",
    "  ggsave(\"figures/Figure2.png\", width = 8, height = 6, dpi = 600)"
   ]
  },
  {
   "cell_type": "markdown",
   "metadata": {},
   "source": [
    "### Effect of N dosage on organic matter decomposition rate (k1)"
   ]
  },
  {
   "cell_type": "code",
   "execution_count": 22,
   "metadata": {},
   "outputs": [],
   "source": [
    "pred_grid <- expand.grid(tea = unique(df_mm$tea),\n",
    "                                     Ndose = c(-2, 2),\n",
    "                                     Ntype = unique(df_mm$Ntype))\n",
    "pred_grid <- pred_grid %>%\n",
    "  mutate(k1 = predict(k1_mm, newdata = pred_grid,\n",
    "                              level = 0),\n",
    "         Ndose = Ndose * sd(df$`Nitrogen dose`) + mean(df$`Nitrogen dose`)) %>%\n",
    "  rename(`Tea type` = tea,\n",
    "         `Nitrogen dose` = Ndose,\n",
    "         `Nitrogen type` = Ntype)"
   ]
  },
  {
   "cell_type": "markdown",
   "metadata": {},
   "source": [
    "### Effect of N dosage on organic matter decomposition rate (k1)."
   ]
  },
  {
   "cell_type": "code",
   "execution_count": 23,
   "metadata": {},
   "outputs": [
    {
     "name": "stderr",
     "output_type": "stream",
     "text": [
      "Warning message:\n",
      "\"Removed 49 rows containing missing values (geom_point).\"Warning message:\n",
      "\"Removed 49 rows containing missing values (geom_point).\""
     ]
    },
    {
     "data": {
      "image/png": "[encoded data removed]",
      "text/plain": [
       "plot without title"
      ]
     },
     "metadata": {},
     "output_type": "display_data"
    }
   ],
   "source": [
    "options(repr.plot.width = 10, repr.plot.height = 10)\n",
    "\n",
    "ggplot(df, aes(x = `Nitrogen dose`, y = `k1`)) +\n",
    "  facet_grid(`Nitrogen type` ~ `Tea type`) +\n",
    "  geom_point() +\n",
    "  geom_line(data = pred_grid) +\n",
    "  labs(x = expression(\"Dose N (kg ha\"^\"-1\"~\")\"), y = \"First order kinetics\") +\n",
    "  theme_bw() +\n",
    "  theme(text = element_text(size = 20)) + \n",
    "  ggsave(\"figures/k1-model-lines.png\", width = 10, height = 6, dpi = 600)# nomme figure"
   ]
  },
  {
   "cell_type": "markdown",
   "metadata": {},
   "source": [
    "## Tea bag index\n",
    "\n",
    "Adding `M / M0` variable to data `df`"
   ]
  },
  {
   "cell_type": "code",
   "execution_count": 24,
   "metadata": {},
   "outputs": [],
   "source": [
    "df <- df %>%\n",
    "  mutate(`M / M0` = `Remaining tea weight (g)` / `Initial tea weight (g)`)"
   ]
  },
  {
   "cell_type": "code",
   "execution_count": 129,
   "metadata": {},
   "outputs": [
    {
     "name": "stderr",
     "output_type": "stream",
     "text": [
      "Using ',' as decimal and '.' as grouping mark. Use read_delim() for more control.\n",
      "Parsed with column specification:\n",
      "cols(\n",
      "  `Tea type` = col_character(),\n",
      "  Prelevement = col_double(),\n",
      "  `Final carbon (%)` = col_double(),\n",
      "  `Final weight (g)` = col_double(),\n",
      "  `Initial weight (g)` = col_double(),\n",
      "  `Initial carbon (%)` = col_double()\n",
      ")\n"
     ]
    },
    {
     "data": {
      "text/html": [
       "<ol class=list-inline>\n",
       "\t<li>'Tea type'</li>\n",
       "\t<li>'Prelevement'</li>\n",
       "\t<li>'Final carbon (%)'</li>\n",
       "\t<li>'Final weight (g)'</li>\n",
       "\t<li>'Initial weight (g)'</li>\n",
       "\t<li>'Initial carbon (%)'</li>\n",
       "</ol>\n"
      ],
      "text/latex": [
       "\\begin{enumerate*}\n",
       "\\item 'Tea type'\n",
       "\\item 'Prelevement'\n",
       "\\item 'Final carbon (\\%)'\n",
       "\\item 'Final weight (g)'\n",
       "\\item 'Initial weight (g)'\n",
       "\\item 'Initial carbon (\\%)'\n",
       "\\end{enumerate*}\n"
      ],
      "text/markdown": [
       "1. 'Tea type'\n",
       "2. 'Prelevement'\n",
       "3. 'Final carbon (%)'\n",
       "4. 'Final weight (g)'\n",
       "5. 'Initial weight (g)'\n",
       "6. 'Initial carbon (%)'\n",
       "\n",
       "\n"
      ],
      "text/plain": [
       "[1] \"Tea type\"           \"Prelevement\"        \"Final carbon (%)\"  \n",
       "[4] \"Final weight (g)\"   \"Initial weight (g)\" \"Initial carbon (%)\""
      ]
     },
     "metadata": {},
     "output_type": "display_data"
    }
   ],
   "source": [
    "data_fractal <- read_csv2(\"data/data_fractal.csv\")\n",
    "df2 <- subset(data_fractal, Prelevement <= 4 ) %>%\n",
    "            rename(`Remaining tea weight (g)` = `Final weight (g)`,\n",
    "                  `Initial tea weight (g)` = `Initial weight (g)`)"
   ]
  },
  {
   "cell_type": "code",
   "execution_count": 113,
   "metadata": {},
   "outputs": [],
   "source": [
    "df2 <- df2 %>%\n",
    "  mutate(`M / M0` = `Remaining tea weight (g)` / `Initial tea weight (g)`)"
   ]
  },
  {
   "cell_type": "markdown",
   "metadata": {},
   "source": [
    "Hydrolysable fraction "
   ]
  },
  {
   "cell_type": "code",
   "execution_count": 114,
   "metadata": {},
   "outputs": [],
   "source": [
    "Hf_g = 0.805   # Hydrolysable fraction for Green tea\n",
    "Hf_r = 0.826   # Hydrolysable fraction for Rooibos tea"
   ]
  },
  {
   "cell_type": "markdown",
   "metadata": {},
   "source": [
    "For comparaison purpose, we brought Keuskamp et al.(2013) Hydrolysable fraction.  \n",
    "Keuskamp Hydrolysable fraction for Green tea `Hf_g = 0.842`  \n",
    "Keuskamp Hydrolysable fraction for Rooibos tea `Hf_r = 0.552`"
   ]
  },
  {
   "cell_type": "markdown",
   "metadata": {},
   "source": [
    "### Computation of labile fraction (a) and stabilization factor (s) of green tea\n",
    "The key point to understand about TBI is that decomposition rate `k_tbi` is computed from Rooibos tea as for 90 days incubation time. TBI suppose that Green tea decomposition is over whereas Rooibos tea still decomposing. Stabilization factor `S` is computed from Green tea."
   ]
  },
  {
   "cell_type": "code",
   "execution_count": 121,
   "metadata": {},
   "outputs": [],
   "source": [
    "df <- df %>%\n",
    "  mutate(a = ifelse(`Tea type` == \"Green tea\",\n",
    "                    (`Initial tea weight (g)` - `Remaining tea weight (g)`) / `Initial tea weight (g)`,\n",
    "                    NA),\n",
    "         S = 1 - a / Hf_g)"
   ]
  },
  {
   "cell_type": "markdown",
   "metadata": {},
   "source": [
    "Compute litter stability `Sg` (Green tea) and decomposition constant `k_tbi` (Rooibos) for each experimental unit."
   ]
  },
  {
   "cell_type": "code",
   "execution_count": 122,
   "metadata": {},
   "outputs": [],
   "source": [
    "df <- df %>%\n",
    "  mutate(sdr = paste(df$Site, df$`Nitrogen dose`, df$Repetition))\n",
    "sdr_u <- unique(df$sdr)"
   ]
  },
  {
   "cell_type": "code",
   "execution_count": 123,
   "metadata": {},
   "outputs": [],
   "source": [
    "for (i in 1:length(sdr_u)) {\n",
    "  # Green tea\n",
    "  Sg_i <- mean(df$S[df$sdr == sdr_u[i] & df$`Tea type` == \"Green tea\"], na.rm = TRUE)\n",
    "  \n",
    "  # Rooibos\n",
    "  df$a[df$sdr == sdr_u[i] & df$`Tea type` == \"Rooibos tea\"] <- Hf_r * (1 - Sg_i)\n",
    "  ar_i <- df$a[df$sdr == sdr_u[i] & df$`Tea type` == \"Rooibos tea\"]\n",
    "  M_M0i <- df$`M / M0`[df$sdr == sdr_u[i] & df$`Tea type` == \"Rooibos tea\"]\n",
    "  df$k_tbi[df$sdr == sdr_u[i] & df$`Tea type` == \"Rooibos tea\"] <- log(ar_i / (M_M0i - (1-ar_i))) / 90\n",
    "}"
   ]
  },
  {
   "cell_type": "markdown",
   "metadata": {},
   "source": [
    "Data exploration for N dose type."
   ]
  },
  {
   "cell_type": "code",
   "execution_count": 125,
   "metadata": {},
   "outputs": [
    {
     "name": "stderr",
     "output_type": "stream",
     "text": [
      "Warning message:\n",
      "\"Removed 388 rows containing non-finite values (stat_boxplot).\""
     ]
    },
    {
     "data": {
      "image/png": "[encoded data removed]",
      "text/plain": [
       "plot without title"
      ]
     },
     "metadata": {},
     "output_type": "display_data"
    }
   ],
   "source": [
    "options(repr.plot.width=8, repr.plot.height=8)\n",
    "ggplot(data = df,\n",
    "       mapping = aes(x = `Nitrogen type`, y = k_tbi)) +\n",
    "  facet_grid(`Nitrogen dose` ~ .) +\n",
    "  geom_boxplot()"
   ]
  },
  {
   "cell_type": "markdown",
   "metadata": {},
   "source": [
    "### What affecting TBI parameters (k)?\n",
    "As underline above, `k_tbi` is computed from Rooibos tea. Then, first we substract Rooibos data named `df_rooibos` "
   ]
  },
  {
   "cell_type": "code",
   "execution_count": 30,
   "metadata": {},
   "outputs": [],
   "source": [
    "df_rooibos <- df %>% \n",
    "  filter(`Tea type` == \"Rooibos tea\")\n",
    "\n",
    "TBI_data <- df %>%\n",
    "  select(k_tbi, `Tea type`, Farm, `Nitrogen dose`, Site,\n",
    "         `Nitrogen type`) %>%\n",
    "  rename(Ntype = `Nitrogen type`,\n",
    "         Ndose = `Nitrogen dose`) %>%\n",
    "  drop_na() %>%\n",
    "  droplevels()"
   ]
  },
  {
   "cell_type": "code",
   "execution_count": 31,
   "metadata": {},
   "outputs": [],
   "source": [
    "TBI_rooibos <- TBI_data %>%\n",
    "  filter(`Tea type` == \"Rooibos tea\")"
   ]
  },
  {
   "cell_type": "markdown",
   "metadata": {},
   "source": [
    "### `k_tbi` mixed model"
   ]
  },
  {
   "cell_type": "code",
   "execution_count": 32,
   "metadata": {},
   "outputs": [],
   "source": [
    "lme_TBI <- lme(fixed = k_tbi ~  Ndose + Ntype,\n",
    "    random = ~ 1 | Farm/Site,\n",
    "    data = TBI_rooibos)"
   ]
  },
  {
   "cell_type": "code",
   "execution_count": 33,
   "metadata": {},
   "outputs": [],
   "source": [
    "pred_grid_tbi <- expand.grid(Ndose = c(0, 60),\n",
    "                             Ntype = unique(df_mm$Ntype))\n",
    "pred_grid_tbi <- pred_grid_tbi %>%\n",
    "  mutate(k_tbi = predict(lme_TBI, newdata = pred_grid_tbi,\n",
    "                              level = 0)) %>%\n",
    "  rename(`Nitrogen dose` = Ndose,\n",
    "         `Nitrogen type` = Ntype)"
   ]
  },
  {
   "cell_type": "markdown",
   "metadata": {},
   "source": [
    "### Effect of N dosage on k_tbi."
   ]
  },
  {
   "cell_type": "code",
   "execution_count": 34,
   "metadata": {},
   "outputs": [
    {
     "data": {
      "image/png": "[encoded data removed]",
      "text/plain": [
       "plot without title"
      ]
     },
     "metadata": {},
     "output_type": "display_data"
    }
   ],
   "source": [
    "options(repr.plot.width=10, repr.plot.height=10)\n",
    "\n",
    "TBI_rooibos %>% \n",
    "  rename(`Nitrogen dose` = Ndose,\n",
    "         `Nitrogen type` = Ntype) %>%\n",
    "  ggplot(aes(x = `Nitrogen dose`, y = k_tbi)) +\n",
    "  facet_grid(`Nitrogen type` ~ .) +\n",
    "  geom_point() +\n",
    "  geom_line(data = pred_grid_tbi) +\n",
    "  labs(x = expression(\"Dose N (kg ha\"^\"-1\"~\")\"), y = \"Tea bag index kinetics\") +\n",
    "  theme_bw() +\n",
    "  theme(text = element_text(size = 20),\n",
    "        strip.text.y = element_text(angle=0)) +\n",
    "  ggsave(\"figures/tbi-model-lines.png\", width = 10, height = 6, dpi = 600)"
   ]
  },
  {
   "cell_type": "markdown",
   "metadata": {},
   "source": [
    "### Mixed model"
   ]
  },
  {
   "cell_type": "code",
   "execution_count": 35,
   "metadata": {},
   "outputs": [],
   "source": [
    "ktbi_gg <- data.frame(intervals(lme_TBI, which = \"fixed\")$fixed)\n",
    "ktbi_gg <- ktbi_gg %>%\n",
    "  mutate(variable = rownames(ktbi_gg))\n",
    "ktbi_gg <- ktbi_gg %>%\n",
    "  mutate(pvalue = summary(lme_TBI)$tTable[, 5],\n",
    "         is_significant = ifelse(pvalue <= 0.05, 'Significant at 0.05 level', 'Not significant at 0.05 level'))"
   ]
  },
  {
   "cell_type": "markdown",
   "metadata": {},
   "source": [
    "Ajust names."
   ]
  },
  {
   "cell_type": "code",
   "execution_count": 36,
   "metadata": {},
   "outputs": [],
   "source": [
    "ktbi_gg$variable <- c(\"Intercept\", \"Dose N\", \"N 6-1-1\", \"N 8-0-0\", \"N SCU-39-0-0\")"
   ]
  },
  {
   "cell_type": "markdown",
   "metadata": {},
   "source": [
    "Add random effects to the table."
   ]
  },
  {
   "cell_type": "code",
   "execution_count": 37,
   "metadata": {},
   "outputs": [],
   "source": [
    "ktbi_re <- data.frame(matrix(ncol = ncol(ktbi_gg), nrow = 6))\n",
    "names(ktbi_re) <- names(ktbi_gg)\n",
    "ktbi_re$est. <- c(ranef(lme_TBI)$Farm[, 1], ranef(lme_TBI)$Site[, 1])\n",
    "ktbi_re$variable <- c(rownames(ranef(lme_TBI)$Farm),\n",
    "                    rownames(ranef(lme_TBI)$Site))"
   ]
  },
  {
   "cell_type": "code",
   "execution_count": 38,
   "metadata": {},
   "outputs": [],
   "source": [
    "if (!(\"Belanger\" %in% ktbi_gg$variable)) ktbi_gg <- bind_rows(ktbi_gg, ktbi_re) # with an if to make sure ranefs are stacked only once"
   ]
  },
  {
   "cell_type": "markdown",
   "metadata": {},
   "source": [
    "Create a facet column to separate effects by effect category in the plot."
   ]
  },
  {
   "cell_type": "code",
   "execution_count": 39,
   "metadata": {},
   "outputs": [],
   "source": [
    "ktbi_gg$facet <- factor(c('Intercept',\n",
    "                        \"N dosage\",\n",
    "                        'N source', 'N source', 'N source',\n",
    "                        \"Random effect\", \"Random effect\", \"Random effect\", \"Random effect\", \"Random effect\", \"Random effect\"))"
   ]
  },
  {
   "cell_type": "code",
   "execution_count": 40,
   "metadata": {},
   "outputs": [],
   "source": [
    "ktbi_gg <- ktbi_gg %>%\n",
    "  mutate(facet = factor(facet, levels = rev(c(\"Random effect\", \"N dosage\", \"N source\", \"Intercept\"))))"
   ]
  },
  {
   "cell_type": "code",
   "execution_count": 41,
   "metadata": {},
   "outputs": [
    {
     "name": "stderr",
     "output_type": "stream",
     "text": [
      "Warning message:\n",
      "\"Removed 6 rows containing missing values (geom_segment).\"Warning message:\n",
      "\"Removed 6 rows containing missing values (geom_segment).\""
     ]
    },
    {
     "data": {
      "image/png": "[encoded data removed]",
      "text/plain": [
       "plot without title"
      ]
     },
     "metadata": {},
     "output_type": "display_data"
    }
   ],
   "source": [
    "options(repr.plot.width = 12, repr.plot.height = 6)\n",
    "\n",
    "ktbi_gg %>%\n",
    "  filter(variable != \"Intercept\") %>%\n",
    "  ggplot(aes(x = est., y = variable)) +\n",
    "  facet_grid(facet ~ ., scales = 'free', space = 'free') +\n",
    "  geom_vline(xintercept = 0, colour='grey70') +\n",
    "  geom_point() +\n",
    "  geom_segment(aes(x = lower, xend = upper, y = variable, yend = variable)) +\n",
    "  xlab('Coefficient') +\n",
    "  ylab('') +\n",
    "  theme_bw() +\n",
    "  theme(strip.text.y = element_text(angle=0),\n",
    "        legend.title = element_blank(),\n",
    "        legend.position = \"bottom\",\n",
    "        text = element_text(size = 20)) +\n",
    "  ggsave(\"figures/ktbi-lme-effects.png\", width = 8, height = 5, dpi = 600)"
   ]
  },
  {
   "cell_type": "markdown",
   "metadata": {},
   "source": [
    "## Litters biochemical composition balance"
   ]
  },
  {
   "cell_type": "markdown",
   "metadata": {},
   "source": [
    "### Import data"
   ]
  },
  {
   "cell_type": "code",
   "execution_count": 42,
   "metadata": {},
   "outputs": [
    {
     "name": "stderr",
     "output_type": "stream",
     "text": [
      "Parsed with column specification:\n",
      "cols(\n",
      "  `Biomass type` = col_character(),\n",
      "  `SOL perc initial (%)` = col_double(),\n",
      "  `HOLO perc initial (%)` = col_double(),\n",
      "  `LIC perc initial (%)` = col_double()\n",
      ")\n"
     ]
    }
   ],
   "source": [
    "data_fiber <- read_csv('data/data_fiber_initial.csv')"
   ]
  },
  {
   "cell_type": "markdown",
   "metadata": {},
   "source": [
    "### Isometic log ratio (Ilr)"
   ]
  },
  {
   "cell_type": "code",
   "execution_count": 43,
   "metadata": {},
   "outputs": [],
   "source": [
    "TeaCompositionSBP <- matrix(c(-1, 1,1,\n",
    "                              0, 1, -1),\n",
    "                           byrow = TRUE,\n",
    "                           ncol = 3)\n",
    "colnames(TeaCompositionSBP) <- c('Lignine', 'Soluble', 'Holocelulose')\n",
    "TeaCompositionComp <- acomp(data_fiber %>%\n",
    "                      select(`LIC perc initial (%)`, `SOL perc initial (%)`,  `HOLO perc initial (%)`))\n",
    "TeaCompositionBal <- ilr(TeaCompositionComp, V = gsi.buildilrBase(t(TeaCompositionSBP)))\n",
    "data_fiber$TeaComposition_L.HS <- TeaCompositionBal[, 1] # ilr1 [Lignin | Soluble.Holocelulose]\n",
    "data_fiber$TeaComposition_S.H <- TeaCompositionBal[, 2] # ilr2 [Soluble | Holocelulose]"
   ]
  },
  {
   "cell_type": "markdown",
   "metadata": {},
   "source": [
    "### Plot of classification of litters using balances among biochemical components"
   ]
  },
  {
   "cell_type": "code",
   "execution_count": 44,
   "metadata": {},
   "outputs": [
    {
     "name": "stderr",
     "output_type": "stream",
     "text": [
      "Scale for 'x' is already present. Adding another scale for 'x', which will\n",
      "replace the existing scale.\n"
     ]
    },
    {
     "data": {
      "image/png": "[encoded data removed]",
      "text/plain": [
       "plot without title"
      ]
     },
     "metadata": {},
     "output_type": "display_data"
    }
   ],
   "source": [
    "options(repr.plot.width = 6.5, repr.plot.height = 4)\n",
    "ggplot(data_fiber, aes(x =  `TeaComposition_S.H`, y = `TeaComposition_L.HS`)) +\n",
    "geom_point()+\n",
    "geom_label_repel(aes(label = `Biomass type`), size = 3) +\n",
    "labs(x = \"[Soluble | Holocelulose]\" , y = \"[Lignin + Cutin | Soluble.Holocelulose]\") +\n",
    "theme(axis.title.x = element_text(size = 14), axis.title.y = element_text(size = 14)) +\n",
    "xlim(-1.5, 1.5) +\n",
    "scale_y_continuous(breaks=seq(-2,2,0.2)) + \n",
    "scale_x_continuous(breaks=seq(-2,2,0.2)) +\n",
    "geom_hline(yintercept = 0, linetype = \"dashed\") +\n",
    "geom_vline(xintercept = 0, linetype = \"dashed\") +\n",
    "theme_bw() +\n",
    "geom_point(size = 1, alpha = 0.5, pch = 21, fill = \"white\") \n",
    "ggsave(\"figures/Classification of litters using balances among biochemical components.png\", width = 6, height = 4, dpi = 120)"
   ]
  },
  {
   "cell_type": "markdown",
   "metadata": {},
   "source": [
    "## Reproducing Keuskamp's TBI\n",
    "We adapted keuskamp's TBI by adding cranberry ecosystem"
   ]
  },
  {
   "cell_type": "markdown",
   "metadata": {},
   "source": [
    "### Import data"
   ]
  },
  {
   "cell_type": "code",
   "execution_count": 230,
   "metadata": {},
   "outputs": [
    {
     "name": "stderr",
     "output_type": "stream",
     "text": [
      "Parsed with column specification:\n",
      "cols(\n",
      "  Nombre = col_double(),\n",
      "  Region = col_character(),\n",
      "  Stabilisation_factor_S = col_double(),\n",
      "  Decomposition_rate_K = col_double()\n",
      ")\n"
     ]
    }
   ],
   "source": [
    "df_keuskamp <- read_csv(\"data/keuskamp_tbi_data.csv\")# Import Keuskamp data"
   ]
  },
  {
   "cell_type": "code",
   "execution_count": 231,
   "metadata": {},
   "outputs": [],
   "source": [
    "df_keuskamp <- df_keuskamp %>%\n",
    "  mutate(is_cranberry = Region == \"Cranberries\")"
   ]
  },
  {
   "cell_type": "code",
   "execution_count": 232,
   "metadata": {},
   "outputs": [
    {
     "data": {
      "image/png": "[encoded data removed]",
      "text/plain": [
       "plot without title"
      ]
     },
     "metadata": {},
     "output_type": "display_data"
    }
   ],
   "source": [
    "options(repr.plot.width = 6.5, repr.plot.height = 6)\n",
    "ggplot(data = df_keuskamp, aes(x = Stabilisation_factor_S, y = Decomposition_rate_K)) +\n",
    "  geom_point() +\n",
    "  geom_label_repel(aes(label = Region, fill = is_cranberry, colour = is_cranberry),\n",
    "                   size = 3.5) +\n",
    "  scale_fill_manual(values = c(\"white\", \"black\")) +\n",
    "  scale_colour_manual(values = c(\"black\", \"white\")) +\n",
    "  theme_bw() +\n",
    "  theme(legend.position = \"none\") +\n",
    "  labs(x = \"Stabilization factor (S)\", y = \"Decomposition rate (k1)\") +\n",
    "  ggsave(\"figures/TBI_keuskamp.png\", width = 6, height = 6, dpi = 120)"
   ]
  },
  {
   "cell_type": "markdown",
   "metadata": {},
   "source": [
    "## Fractal kinetic\n",
    "\n",
    "Depending on the nature of decaying material and its immediate environment, the decomposition rate of plant residues can decrease gradually through time as follow: \n",
    "$$K(t) = k_1 t^{{-h}}$$\n",
    "\n",
    "Where $k_1$ is reaction rate at time t = 1 and $h$ is a fractal coefficient (0 ≤ h ≤ 1) accounting for the decreasing decomposition rate through time"
   ]
  },
  {
   "cell_type": "markdown",
   "metadata": {},
   "source": [
    "### Import data"
   ]
  },
  {
   "cell_type": "code",
   "execution_count": 81,
   "metadata": {},
   "outputs": [
    {
     "name": "stderr",
     "output_type": "stream",
     "text": [
      "Using ',' as decimal and '.' as grouping mark. Use read_delim() for more control.\n",
      "Parsed with column specification:\n",
      "cols(\n",
      "  `Tea type` = col_character(),\n",
      "  Prelevement = col_double(),\n",
      "  `Final carbon (%)` = col_double(),\n",
      "  `Final weight (g)` = col_double(),\n",
      "  `Initial weight (g)` = col_double(),\n",
      "  `Initial carbon (%)` = col_double()\n",
      ")\n"
     ]
    }
   ],
   "source": [
    "data_fractal <- read_csv2(\"data/data_fractal.csv\")"
   ]
  },
  {
   "cell_type": "markdown",
   "metadata": {},
   "source": [
    "### Adding some variables\n",
    "`Initial carbon (g)`, `Final carbon (g)` and `Log ratio` has been computed "
   ]
  },
  {
   "cell_type": "code",
   "execution_count": 49,
   "metadata": {},
   "outputs": [
    {
     "data": {
      "text/html": [
       "<ol class=list-inline>\n",
       "\t<li>'Tea type'</li>\n",
       "\t<li>'Prelevement'</li>\n",
       "\t<li>'Final carbon (%)'</li>\n",
       "\t<li>'Final weight (g)'</li>\n",
       "\t<li>'Initial weight (g)'</li>\n",
       "\t<li>'Initial carbon (%)'</li>\n",
       "</ol>\n"
      ],
      "text/latex": [
       "\\begin{enumerate*}\n",
       "\\item 'Tea type'\n",
       "\\item 'Prelevement'\n",
       "\\item 'Final carbon (\\%)'\n",
       "\\item 'Final weight (g)'\n",
       "\\item 'Initial weight (g)'\n",
       "\\item 'Initial carbon (\\%)'\n",
       "\\end{enumerate*}\n"
      ],
      "text/markdown": [
       "1. 'Tea type'\n",
       "2. 'Prelevement'\n",
       "3. 'Final carbon (%)'\n",
       "4. 'Final weight (g)'\n",
       "5. 'Initial weight (g)'\n",
       "6. 'Initial carbon (%)'\n",
       "\n",
       "\n"
      ],
      "text/plain": [
       "[1] \"Tea type\"           \"Prelevement\"        \"Final carbon (%)\"  \n",
       "[4] \"Final weight (g)\"   \"Initial weight (g)\" \"Initial carbon (%)\""
      ]
     },
     "metadata": {},
     "output_type": "display_data"
    }
   ],
   "source": [
    "names(data_fractal)"
   ]
  },
  {
   "cell_type": "code",
   "execution_count": 50,
   "metadata": {},
   "outputs": [],
   "source": [
    "data_fractal <- data_fractal %>%\n",
    "mutate(`Initial carbon (g)` = `Initial weight (g)` * `Initial carbon (%)` / 100,\n",
    "       `Final carbon (g)` = `Final weight (g)` * `Final carbon (%)` / 100,\n",
    "      `Log ratio` = - log(`Final carbon (g)`/`Initial carbon (g)`))\n",
    "     "
   ]
  },
  {
   "cell_type": "markdown",
   "metadata": {},
   "source": [
    "### Fractal kinetic ranged from 0 to 1. It's has been determined by trying value from `(0; 0.1; 0.2 ....1)` and choosing the one with maximum R square"
   ]
  },
  {
   "cell_type": "markdown",
   "metadata": {},
   "source": [
    "## Rooibos tea fractal kinetic `H_Rooibos = 0.2`"
   ]
  },
  {
   "cell_type": "code",
   "execution_count": 51,
   "metadata": {},
   "outputs": [
    {
     "data": {
      "text/html": [
       "0.943642960537353"
      ],
      "text/latex": [
       "0.943642960537353"
      ],
      "text/markdown": [
       "0.943642960537353"
      ],
      "text/plain": [
       "[1] 0.943643"
      ]
     },
     "metadata": {},
     "output_type": "display_data"
    },
    {
     "data": {
      "text/html": [
       "<strong>Time:</strong> 0.00734107297489324"
      ],
      "text/latex": [
       "\\textbf{Time:} 0.00734107297489324"
      ],
      "text/markdown": [
       "**Time:** 0.00734107297489324"
      ],
      "text/plain": [
       "       Time \n",
       "0.007341073 "
      ]
     },
     "metadata": {},
     "output_type": "display_data"
    },
    {
     "data": {
      "text/html": [
       "<strong>(Intercept):</strong> -0.0210209605592837"
      ],
      "text/latex": [
       "\\textbf{(Intercept):} -0.0210209605592837"
      ],
      "text/markdown": [
       "**(Intercept):** -0.0210209605592837"
      ],
      "text/plain": [
       "(Intercept) \n",
       "-0.02102096 "
      ]
     },
     "metadata": {},
     "output_type": "display_data"
    }
   ],
   "source": [
    "H_Rooibos = 0.2\n",
    "P_Rooibos = 1- H_Rooibos\n",
    "\n",
    "data_rooibos <- subset(data_fractal, `Tea type` == \"Rooibos tea\")\n",
    "\n",
    "data_rooibos <- data_rooibos %>%\n",
    "                mutate(Time = (Prelevement * 21) ** P_Rooibos)%>%\n",
    "                select(Prelevement, Time, `Log ratio`, `Tea type`)%>%\n",
    "                rename(Log = `Log ratio`, `Tea.type` = 'Tea type')\n",
    "\n",
    "data_rooibos <- rbind(data_rooibos, data.frame(\"Log\" = 0, \"Time\" = 0, \"Prelevement\" = 0,\n",
    "                                              \"Tea.type\" = \"Rooibos tea\")) \n",
    "\n",
    "data_median_rooibos <- aggregate(cbind(Time, Log) ~ Prelevement + Tea.type, data = data_rooibos, FUN = median)\n",
    "\n",
    "Slope = coef(lm(`Log` ~ `Time`, data_median_rooibos))[2]\n",
    "Intercept = coef(lm(`Log` ~ `Time`, data_median_rooibos))[1]\n",
    "R.squared = summary(lm(Log ~ Time, data_median_rooibos))$r.squared\n",
    "R.squared\n",
    "Slope\n",
    "Intercept\n"
   ]
  },
  {
   "cell_type": "markdown",
   "metadata": {},
   "source": [
    "## Cranberry residue fractal kinetic `H_Cranberry = 0`"
   ]
  },
  {
   "cell_type": "code",
   "execution_count": 52,
   "metadata": {},
   "outputs": [
    {
     "data": {
      "text/html": [
       "0.804035722687564"
      ],
      "text/latex": [
       "0.804035722687564"
      ],
      "text/markdown": [
       "0.804035722687564"
      ],
      "text/plain": [
       "[1] 0.8040357"
      ]
     },
     "metadata": {},
     "output_type": "display_data"
    },
    {
     "data": {
      "text/html": [
       "<strong>Time:</strong> 0.00168488930378451"
      ],
      "text/latex": [
       "\\textbf{Time:} 0.00168488930378451"
      ],
      "text/markdown": [
       "**Time:** 0.00168488930378451"
      ],
      "text/plain": [
       "       Time \n",
       "0.001684889 "
      ]
     },
     "metadata": {},
     "output_type": "display_data"
    },
    {
     "data": {
      "text/html": [
       "<strong>(Intercept):</strong> -0.075687612700373"
      ],
      "text/latex": [
       "\\textbf{(Intercept):} -0.075687612700373"
      ],
      "text/markdown": [
       "**(Intercept):** -0.075687612700373"
      ],
      "text/plain": [
       "(Intercept) \n",
       "-0.07568761 "
      ]
     },
     "metadata": {},
     "output_type": "display_data"
    }
   ],
   "source": [
    "H_Cranberry = 0\n",
    "P_Cranberry = 1- H_Cranberry\n",
    "\n",
    "data_cranberry <- subset(data_fractal, `Tea type` == \"Cranberry litter\")\n",
    "\n",
    "data_cranberry <- data_cranberry %>%\n",
    "                mutate(Time = (Prelevement * 21) ** P_Cranberry)%>%\n",
    "                select(Prelevement, Time, `Log ratio`, `Tea type`)%>%\n",
    "                rename(Log = `Log ratio`, `Tea.type` = 'Tea type')\n",
    "\n",
    "data_cranberry <- rbind(data_cranberry, data.frame(\"Log\" = 0, \"Time\" = 0, \"Prelevement\" = 0,\n",
    "                                                  \"Tea.type\" = \"Cranberry litter\")) \n",
    "\n",
    "data_median_cranberry <- aggregate(cbind(Time, Log) ~ Prelevement + Tea.type, data = data_cranberry, FUN = median)\n",
    "\n",
    "Slope = coef(lm(`Log`~ `Time`, data_median_cranberry))[2]\n",
    "Intercept = coef(lm(`Log`~ `Time`, data_median_cranberry))[1]\n",
    "R.squared = summary(lm(Log ~ Time, data_median_cranberry))$r.squared\n",
    "R.squared\n",
    "Slope\n",
    "Intercept"
   ]
  },
  {
   "cell_type": "markdown",
   "metadata": {},
   "source": [
    "## Green tea fractal kinetic `H_Green = 0.7`"
   ]
  },
  {
   "cell_type": "code",
   "execution_count": 53,
   "metadata": {},
   "outputs": [
    {
     "data": {
      "text/html": [
       "0.979654891193064"
      ],
      "text/latex": [
       "0.979654891193064"
      ],
      "text/markdown": [
       "0.979654891193064"
      ],
      "text/plain": [
       "[1] 0.9796549"
      ]
     },
     "metadata": {},
     "output_type": "display_data"
    },
    {
     "data": {
      "text/html": [
       "<strong>Time:</strong> 0.191079823816529"
      ],
      "text/latex": [
       "\\textbf{Time:} 0.191079823816529"
      ],
      "text/markdown": [
       "**Time:** 0.191079823816529"
      ],
      "text/plain": [
       "     Time \n",
       "0.1910798 "
      ]
     },
     "metadata": {},
     "output_type": "display_data"
    },
    {
     "data": {
      "text/html": [
       "<strong>(Intercept):</strong> -0.0133671365472937"
      ],
      "text/latex": [
       "\\textbf{(Intercept):} -0.0133671365472937"
      ],
      "text/markdown": [
       "**(Intercept):** -0.0133671365472937"
      ],
      "text/plain": [
       "(Intercept) \n",
       "-0.01336714 "
      ]
     },
     "metadata": {},
     "output_type": "display_data"
    }
   ],
   "source": [
    "H_Green = 0.7\n",
    "P_Green = 1- H_Green\n",
    "\n",
    "data_green <- subset(data_fractal, `Tea type` == \"Green tea\")\n",
    "\n",
    "data_green <- data_green %>%\n",
    "                mutate(Time = (Prelevement * 21) ** P_Green)%>%\n",
    "                select(Prelevement, Time, `Log ratio`, `Tea type`)%>%\n",
    "                rename(Log = `Log ratio`, `Tea.type` = 'Tea type')\n",
    "\n",
    "data_green <- rbind(data_green, data.frame(\"Prelevement\" = 0,\"Time\" = 0, \n",
    "                                           \"Log\" = 0, \"Tea.type\" = \"Green tea\")) \n",
    "\n",
    "data_median_green <- aggregate(cbind(Time, Log) ~ Prelevement + Tea.type  , data = data_green, FUN = median)\n",
    "\n",
    "Slope = coef(lm(`Log` ~ `Time`, data_median_green))[2]\n",
    "Intercept = coef(lm(`Log` ~ `Time`, data_median_green))[1]\n",
    "R.squared = summary(lm(Log ~ Time, data_median_green))$r.squared\n",
    "R.squared\n",
    "Slope\n",
    "Intercept"
   ]
  },
  {
   "cell_type": "markdown",
   "metadata": {},
   "source": [
    "### Fractal kinetics of green tea, rooibos tea and cranberry litter decomposition under field conditions"
   ]
  },
  {
   "cell_type": "code",
   "execution_count": 54,
   "metadata": {},
   "outputs": [],
   "source": [
    "data_fractal <- rbind(data_median_green, data_median_rooibos, data_median_cranberry)"
   ]
  },
  {
   "cell_type": "code",
   "execution_count": 55,
   "metadata": {},
   "outputs": [
    {
     "data": {
      "image/png": "[encoded data removed]",
      "text/plain": [
       "plot without title"
      ]
     },
     "metadata": {},
     "output_type": "display_data"
    }
   ],
   "source": [
    "options(repr.plot.width = 10, repr.plot.height = 6)\n",
    "ggplot(data_fractal, aes(x = `Time`, y = `Log`, group = Tea.type)) +\n",
    "labs(x = expression(\"t\"^\"1-h\"), y = expression(-ln(C[t]~\"/\"~C[o]))) +\n",
    "facet_grid( .~ Tea.type, scales = 'free') +\n",
    "theme(axis.title.x = element_text(size = 14), \n",
    "  axis.title.y = element_text(size = 14)) +\n",
    "theme_bw() +\n",
    "  geom_point() +\n",
    "  geom_smooth(method = \"lm\",color = 'grey', se = FALSE) +\n",
    "ggsave(\"figures/Fractal kinetic.png\", width = 6, height = 4, dpi = 120)"
   ]
  },
  {
   "cell_type": "code",
   "execution_count": 56,
   "metadata": {},
   "outputs": [
    {
     "data": {
      "text/html": [
       "0.111990762676144"
      ],
      "text/latex": [
       "0.111990762676144"
      ],
      "text/markdown": [
       "0.111990762676144"
      ],
      "text/plain": [
       "[1] 0.1119908"
      ]
     },
     "metadata": {},
     "output_type": "display_data"
    },
    {
     "data": {
      "text/html": [
       "<strong>Time:</strong> -0.00235749929604267"
      ],
      "text/latex": [
       "\\textbf{Time:} -0.00235749929604267"
      ],
      "text/markdown": [
       "**Time:** -0.00235749929604267"
      ],
      "text/plain": [
       "        Time \n",
       "-0.002357499 "
      ]
     },
     "metadata": {},
     "output_type": "display_data"
    },
    {
     "data": {
      "text/html": [
       "<strong>(Intercept):</strong> 0.364267981088227"
      ],
      "text/latex": [
       "\\textbf{(Intercept):} 0.364267981088227"
      ],
      "text/markdown": [
       "**(Intercept):** 0.364267981088227"
      ],
      "text/plain": [
       "(Intercept) \n",
       "   0.364268 "
      ]
     },
     "metadata": {},
     "output_type": "display_data"
    },
    {
     "data": {
      "text/plain": [
       "\n",
       "Call:\n",
       "lm(formula = Log ~ Time, data = data_fractal)\n",
       "\n",
       "Residuals:\n",
       "     Min       1Q   Median       3Q      Max \n",
       "-0.39705 -0.23492  0.00385  0.16872  0.45764 \n",
       "\n",
       "Coefficients:\n",
       "             Estimate Std. Error t value Pr(>|t|)    \n",
       "(Intercept)  0.364268   0.077122   4.723 0.000103 ***\n",
       "Time        -0.002357   0.001415  -1.666 0.109953    \n",
       "---\n",
       "Signif. codes:  0 '***' 0.001 '**' 0.01 '*' 0.05 '.' 0.1 ' ' 1\n",
       "\n",
       "Residual standard error: 0.287 on 22 degrees of freedom\n",
       "Multiple R-squared:  0.112,\tAdjusted R-squared:  0.07163 \n",
       "F-statistic: 2.775 on 1 and 22 DF,  p-value: 0.11\n"
      ]
     },
     "metadata": {},
     "output_type": "display_data"
    }
   ],
   "source": [
    "Slope = coef(lm(`Log` ~ `Time`, data_fractal))[2]\n",
    "Intercept = coef(lm(`Log` ~ `Time`, data_fractal))[1]\n",
    "R.squared = summary(lm(Log ~ Time, data_fractal))$r.squared\n",
    "R.squared\n",
    "Slope\n",
    "Intercept\n",
    "summary(lm(Log ~ Time, data_fractal))"
   ]
  },
  {
   "cell_type": "markdown",
   "metadata": {},
   "source": [
    "## Estimation of the carbon decreasing rate of teas and cranberry residue"
   ]
  },
  {
   "cell_type": "markdown",
   "metadata": {},
   "source": [
    "### Reaction rate $k_1$ at time t = 1\n",
    "$k_1$ is the slope of the regresssion lines"
   ]
  },
  {
   "cell_type": "code",
   "execution_count": 57,
   "metadata": {},
   "outputs": [],
   "source": [
    "K1_rooibos = 0.007 \n",
    "K1_green = 0.19\n",
    "K1_cranberry = 0.002"
   ]
  },
  {
   "cell_type": "markdown",
   "metadata": {},
   "source": [
    "### Litter decomposition rate K depends on time\n",
    "$$K(t) = k_1 t^{{-h}}$$"
   ]
  },
  {
   "cell_type": "code",
   "execution_count": 70,
   "metadata": {},
   "outputs": [],
   "source": [
    "data_rate <- data.frame(Prelevement = 1:7)%>%\n",
    "                            mutate(`Time (days)` = `Prelevement` * 21,\n",
    "                                  `Rate cranberry` = K1_cranberry *  `Time (days)`**-H_Cranberry,\n",
    "                                  `Rate rooibos` = K1_rooibos * `Time (days)`**-H_Rooibos,\n",
    "                                  `Rate green` = K1_green * `Time (days)`**-H_Green) %>%\n",
    "                            rename(`Cranberry litter` = `Rate cranberry`,\n",
    "                                  `Rooibos tea` = `Rate rooibos`,\n",
    "                                   `Green tea` = `Rate green`)"
   ]
  },
  {
   "cell_type": "markdown",
   "metadata": {},
   "source": [
    "### Tranforming data_rate into long format data in order to generate the plot"
   ]
  },
  {
   "cell_type": "code",
   "execution_count": 71,
   "metadata": {},
   "outputs": [],
   "source": [
    "data_long <- gather(data = data_rate, key = `tea type`, value = Rate, c(`Cranberry litter`, `Rooibos tea`, `Green tea`),\n",
    "                    factor_key=TRUE)\n",
    "data_long <- data_long %>%\n",
    "             rename(`Litter type`= `tea type`)   "
   ]
  },
  {
   "cell_type": "markdown",
   "metadata": {},
   "source": [
    "### Plot of litter decomposition rate over time under field conditions"
   ]
  },
  {
   "cell_type": "code",
   "execution_count": 75,
   "metadata": {},
   "outputs": [
    {
     "data": {
      "image/png": "[encoded data removed]",
      "text/plain": [
       "plot without title"
      ]
     },
     "metadata": {},
     "output_type": "display_data"
    }
   ],
   "source": [
    "options(repr.plot.width = 10, repr.plot.height = 6)\n",
    "ggplot(data_long, aes(x = `Time (days)`, y = `Rate`, group = `Litter type`)) +\n",
    "geom_point(aes(shape = `Litter type`), size = 3)+\n",
    "geom_smooth(method = \"lm\", formula = y ~ poly(x, 6) , color = 'grey', se = FALSE) + \n",
    "labs(x = \"Elapsed time (days)\" , y = expression(\"Decomposition rate (d\"^\" -1\"~\")\"))  +\n",
    "theme(axis.title.x = element_text(size = 14), \n",
    "  axis.title.y = element_text(size = 14),\n",
    "     legend.text=element_text(size=14)) +\n",
    "scale_y_continuous(breaks = 0.002*0:1000,\n",
    "                     expand = expand_scale(add = 0.002)) +\n",
    "scale_x_continuous(breaks = 10*0:1000,\n",
    "                     expand = expand_scale(add = 10)) +\n",
    "theme_bw() +\n",
    "  geom_point() +\n",
    "ggsave(\"figures/K(t).png\", width = 6, height = 4, dpi = 120) # mettre litter type"
   ]
  },
  {
   "cell_type": "code",
   "execution_count": 61,
   "metadata": {},
   "outputs": [
    {
     "data": {
      "text/html": [
       "0.992139857770551"
      ],
      "text/latex": [
       "0.992139857770551"
      ],
      "text/markdown": [
       "0.992139857770551"
      ],
      "text/plain": [
       "[1] 0.9921399"
      ]
     },
     "metadata": {},
     "output_type": "display_data"
    }
   ],
   "source": [
    "r_squared <- summary(lm(Log ~ poly(Time, 6),data_median_green))$r.squared\n",
    "r_squared"
   ]
  }
 ],
 "metadata": {
  "kernelspec": {
   "display_name": "R",
   "language": "R",
   "name": "ir"
  },
  "language_info": {
   "codemirror_mode": "r",
   "file_extension": ".r",
   "mimetype": "text/x-r-source",
   "name": "R",
   "pygments_lexer": "r",
   "version": "3.6.1"
  }
 },
 "nbformat": 4,
 "nbformat_minor": 4
}
