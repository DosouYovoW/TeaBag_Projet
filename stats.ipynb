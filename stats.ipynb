{
 "cells": [
  {
   "cell_type": "markdown",
   "metadata": {},
   "source": [
    "# Organic matter decomposition kinetics and potential carbon sequestration in cranberry(Vaccinium macrocarpon Ait.)  agroecosystems \n",
    "\n",
    "*Wilfried Dossou-Yovo, Serge Étienne Parent,Noura Ziadi, Élizabeth Parent and Léon Étienne Parent*"
   ]
  },
  {
   "cell_type": "code",
   "execution_count": 253,
   "metadata": {},
   "outputs": [
    {
     "name": "stdout",
     "output_type": "stream",
     "text": [
      "[1] \"2020-10-19\"\n"
     ]
    }
   ],
   "source": [
    "print(Sys.Date())"
   ]
  },
  {
   "cell_type": "markdown",
   "metadata": {},
   "source": [
    "## 1. Objective"
   ]
  },
  {
   "cell_type": "markdown",
   "metadata": {},
   "source": [
    "This notebook generates the results included in the manuscript *Organic matter decomposition kinetics and potential carbon sequestration in cranberry (Vaccinium macrocarpon Ait.) agroecosystems*. Two trials have been made, first one in 2017 (data_2017.csv) and the second in 2018 (data_2018.csv).Data set from trials are a collection of incubated tea bag weight, nitrogen, carbon and sulfur content, nitrogen type and doses on trials fieds. The aims of this study was to assess soil carbon sequestration capacity of cranberry stands in eastern Canada."
   ]
  },
  {
   "cell_type": "markdown",
   "metadata": {},
   "source": [
    "## 2. Statistical questions\n",
    "\n",
    "In addition to data exploration, this notebook will answer the following statistical questions.\n",
    "\n",
    "1. What's affecting 1st order kinetics?\n",
    "2. What affecting TBI parameters (k)?\n",
    "3. Where cranberry soils are placed among the axes of the *TBI*?\n",
    "4. What is the fractal kinetics of litter matterials ?\n",
    "5. What is the fractal kinetics of litter biochemical composition ?"
   ]
  },
  {
   "cell_type": "markdown",
   "metadata": {},
   "source": [
    "## 3. Packages and Function"
   ]
  },
  {
   "cell_type": "markdown",
   "metadata": {},
   "source": [
    "### 3.1 Packages"
   ]
  },
  {
   "cell_type": "markdown",
   "metadata": {},
   "source": [
    "We need package [tidyverse](https://www.tidyverse.org/) which loads a set of packages for easy data manipulation (e.g. [dplyr](https://www.rdocumentation.org/packages/dplyr/versions/0.7.8)) and visualization (e.g. [ggplot2](https://www.rdocumentation.org/packages/ggplot2/versions/3.2.1)). A set of other packages is used: [nlme](https://www.rdocumentation.org/packages/nlme/versions/3.1-143/topics/nlme) for fitting nonlinear mixed-effects models, the [broom](https://www.rdocumentation.org/packages/broom/versions/0.7.0) package summarises model outputs in a \"tidy\" way, [e1071](https://www.rdocumentation.org/packages/e1071/versions/1.7-3) to test distributions, [ggmap](https://www.rdocumentation.org/packages/ggmap/versions/3.0.0) for mapping, [ggrepel](https://www.rdocumentation.org/packages/ggrepel/versions/0.8.1) to avoid text overlaping on ggplot2, [patchwork](https://www.rdocumentation.org/packages/patchwork/versions/1.0.0/topics/patchwork-package) to assemble plots in grids, [composition](https://www.rdocumentation.org/packages/compositions/versions/1.40-5) for compositional data transformations."
   ]
  },
  {
   "cell_type": "code",
   "execution_count": 254,
   "metadata": {},
   "outputs": [],
   "source": [
    "library(\"tidyverse\")\n",
    "library(\"nlme\")\n",
    "library(\"broom\")\n",
    "library(\"e1071\")\n",
    "library(\"ggmap\")\n",
    "library(\"ggrepel\")\n",
    "library(\"compositions\")\n",
    "library(\"patchwork\")"
   ]
  },
  {
   "cell_type": "markdown",
   "metadata": {},
   "source": [
    "## 3.2 Some custom functions.\n",
    "### Pseudo R-square\n",
    "Pseudo R-square allows to measure how well variables of our model explain organic matter decomposition"
   ]
  },
  {
   "cell_type": "code",
   "execution_count": 255,
   "metadata": {},
   "outputs": [],
   "source": [
    "pseudoR2 <- function(y, y_hat) {\n",
    "  1 - (sum((y - y_hat)^2) / sum((y - mean(y))^2))\n",
    "}\n",
    "\n",
    "# Residuals\n",
    "residues <- function(model, level = 0, computeResidues = TRUE, residues,\n",
    "                   main = \"\") {\n",
    "  if (computeResidues) {\n",
    "    r = residuals(model, type=\"normalized\", level)\n",
    "  } else {\n",
    "    r = residues\n",
    "  }\n",
    "  hist(r, freq=F, main = main, breaks=20)\n",
    "  xfit<-seq(min(r),max(r),length=40)\n",
    "  yfit<-dnorm(xfit)\n",
    "  lines(xfit, yfit, col=\"red\", lwd=2)\n",
    "  print(\"Shapiro-Wilk:\")\n",
    "  print(shapiro.test(r))\n",
    "  print(paste(\"Kurtosis:\", kurtosis(r)))\n",
    "  print(paste(\"Skewness:\", skewness(r)))\n",
    "}\n"
   ]
  },
  {
   "cell_type": "markdown",
   "metadata": {},
   "source": [
    "## 4. Import data\n",
    "Here, we load our data `data.csv` available for the project in the `data` folder."
   ]
  },
  {
   "cell_type": "code",
   "execution_count": 256,
   "metadata": {},
   "outputs": [
    {
     "name": "stderr",
     "output_type": "stream",
     "text": [
      "Parsed with column specification:\n",
      "cols(\n",
      "  No = col_double(),\n",
      "  `Tea type abbr` = col_character(),\n",
      "  `Tea type` = col_character(),\n",
      "  `Initial tea weight (g)` = col_double(),\n",
      "  `Initial total weight (g)` = col_double(),\n",
      "  `Initial bag weight (g)` = col_double(),\n",
      "  `Remaining tea weight (g)` = col_double(),\n",
      "  Farm = col_character(),\n",
      "  Site = col_character(),\n",
      "  `Farming system` = col_character(),\n",
      "  `Nitrogen type` = col_character(),\n",
      "  `Nitrogen dose` = col_double(),\n",
      "  Repetition = col_double(),\n",
      "  `Remaining C (%)` = col_double(),\n",
      "  `Remaining N (%)` = col_double(),\n",
      "  `Remaining S (%)` = col_double(),\n",
      "  `Initial C fraction` = col_double()\n",
      ")\n"
     ]
    }
   ],
   "source": [
    "df <- read_csv(\"data/data_2017.csv\")"
   ]
  },
  {
   "cell_type": "markdown",
   "metadata": {},
   "source": [
    "We create a label `Dose repetition` to create unique identifiers for blocks."
   ]
  },
  {
   "cell_type": "code",
   "execution_count": 257,
   "metadata": {},
   "outputs": [],
   "source": [
    "df$`Dose repetition` <- paste0(df$`Nitrogen dose`, '_', df$Repetition,'_', df$Site)"
   ]
  },
  {
   "cell_type": "markdown",
   "metadata": {},
   "source": [
    "*Cranberry litter* category will be used for the reference category in modeling."
   ]
  },
  {
   "cell_type": "code",
   "execution_count": 258,
   "metadata": {},
   "outputs": [],
   "source": [
    "df$`Tea type` <- relevel(factor(df$`Tea type`), ref = 'Cranberry litter')"
   ]
  },
  {
   "cell_type": "markdown",
   "metadata": {},
   "source": [
    "## 5. Mapping experimental sites"
   ]
  },
  {
   "cell_type": "markdown",
   "metadata": {},
   "source": [
    "We design a map of our four experimental sites with geographical position collected from Stamen maps. Warnings appear, but it seems its a bug that comes out when mixing ggmap and geom_label_repel."
   ]
  },
  {
   "cell_type": "code",
   "execution_count": 259,
   "metadata": {},
   "outputs": [
    {
     "name": "stderr",
     "output_type": "stream",
     "text": [
      "Warning message in min(x):\n",
      "\"aucun argument trouvé pour min ; Inf est renvoyé\"Warning message in max(x):\n",
      "\"aucun argument pour max ; -Inf est renvoyé\"Warning message in min(x):\n",
      "\"aucun argument trouvé pour min ; Inf est renvoyé\"Warning message in max(x):\n",
      "\"aucun argument pour max ; -Inf est renvoyé\""
     ]
    }
   ],
   "source": [
    "# table including sites and their geograhic position\n",
    "sites <- tibble(names = c(\"Fortier/45\", \"Fortier/9\", \"Belanger/A9\", \"Belanger/10\"),\n",
    "                lat = c(46.2759555, 46.2759555, 46.2329064, 46.3277404),\n",
    "                lon = c(-71.8584291, -71.8584291, -72.0461854, -71.7486645))\n",
    "\n",
    "# create two frames, one for zoom out, the other for zoom in\n",
    "frame_map_zoom_out <- c(left = -90, bottom = 44, right = -53, top = 63)\n",
    "frame_map_zoom_in <- c(left = -73, bottom = 46, right = -70.5, top = 47)\n",
    "\n",
    "# to draw the zoom in frame on the zoom out map\n",
    "rect_zoom <- data.frame(t(data.frame(frame_map_zoom_in)))\n",
    "\n",
    "# the map with zoom out\n",
    "map_out <- get_stamenmap(frame_map_zoom_out, zoom = 4, maptype = \"toner-lite\") %>%\n",
    "  ggmap() +\n",
    "  geom_rect(data = rect_zoom, aes(xmin = left, xmax = right,\n",
    "                                  ymin = bottom, ymax = top,\n",
    "                                  x = NULL, y = NULL),\n",
    "            fill = rgb(0, 0, 0, 0.2), colour = \"black\") +\n",
    "  #geom_label_repel(data = sites, aes(x = lon, y = lat, label = names)) +\n",
    "  labs(x = \"Longitude\", y = \"Latiude\", title = \"A\")\n",
    "\n",
    "# the map with zoom in\n",
    "map_in <- get_stamenmap(frame_map_zoom_in, zoom = 8, maptype = \"toner-lite\") %>%\n",
    "  ggmap() +\n",
    "  geom_label_repel(data = sites, aes(x = lon, y = lat, label = names)) +\n",
    "  labs(x = \"Longitude\", y = \"Latiude\", title = \"B\")\n",
    "\n",
    "# combining the plots\n",
    "maps_ <- map_out + map_in\n",
    "\n",
    "ggsave(\"figures/site_map.png\", plot = maps_, width = 8, height = 6, dpi = 600)"
   ]
  },
  {
   "cell_type": "markdown",
   "metadata": {},
   "source": [
    "## 6. Monthly weather data (2008-2018) at Lemieux, Quebec (46° 09′ 56″ N 72° 19′ 28″ W), for experimental sites (Gouvernement du Canada, 2018)"
   ]
  },
  {
   "cell_type": "markdown",
   "metadata": {},
   "source": [
    "### 6.1 Import data weather\n",
    "\n",
    "`Data weather` has been collected from environnement canada. The content is the collection of data history about temperature and precipitation from years of field trial (2017 and 2018) and 10 years average (2008 to 2018)."
   ]
  },
  {
   "cell_type": "code",
   "execution_count": 260,
   "metadata": {},
   "outputs": [
    {
     "name": "stderr",
     "output_type": "stream",
     "text": [
      "Using ',' as decimal and '.' as grouping mark. Use read_delim() for more control.\n",
      "Parsed with column specification:\n",
      "cols(\n",
      "  Years = col_character(),\n",
      "  Months = col_character(),\n",
      "  `Precipitations(mm)` = col_double(),\n",
      "  `Temperatures(oC)` = col_double()\n",
      ")\n"
     ]
    }
   ],
   "source": [
    "df_weather <- read_csv2(\"data/data_weather.csv\")"
   ]
  },
  {
   "cell_type": "markdown",
   "metadata": {},
   "source": [
    "### 6.2 Plot weather data"
   ]
  },
  {
   "cell_type": "code",
   "execution_count": 261,
   "metadata": {},
   "outputs": [
    {
     "data": {
      "image/png": "[encoded data removed]",
      "text/plain": [
       "plot without title"
      ]
     },
     "metadata": {},
     "output_type": "display_data"
    }
   ],
   "source": [
    "df_weather$Months <- factor(df_weather$Months,levels = c(\"June\", \"July\", \"August\", \"September\")) #  Sorting bars by Months\n",
    "\n",
    "df_weather_long <- df_weather %>%\n",
    "  pivot_longer(cols = -c(Years, Months))\n",
    "\n",
    "Weather <- df_weather_long %>%\n",
    "  filter(Years %in% c(\"2017\", \"2018\")) %>%\n",
    "  ggplot(aes(x = `Months`, y = value)) +\n",
    "  facet_grid(name ~ ., scales = \"free\", switch = \"y\") +\n",
    "  geom_bar(aes(fill= Years), colour = \"black\", stat=\"identity\", position=\"dodge\") +\n",
    "  geom_errorbar(data = df_weather_long %>% filter(Years == \"10 Years average\"),\n",
    "                mapping = aes(x = `Months`, ymax = value, ymin = value)) +\n",
    "  geom_label(data = df_weather_long %>% filter(Years == \"10 Years average\"),\n",
    "            mapping = aes(label = paste(\"10-y. av. = \", value), hjust = 0.6, vjust = 0.5)) +\n",
    "  #scale_fill_brewer(palette = \"Set2\") +\n",
    "  theme_bw() +\n",
    "  theme(axis.title.y = element_blank(),\n",
    "        strip.background = element_rect(fill = \"transparent\", colour = \"transparent\"),\n",
    "        strip.placement = \"outside\")\n",
    "Weather\n",
    "ggsave(\"figures/Weather.png\", plot = Weather, width = 7, height = 8, dpi = 120)"
   ]
  },
  {
   "cell_type": "markdown",
   "metadata": {},
   "source": [
    "## 7. Compute the 1st order kinetics"
   ]
  },
  {
   "cell_type": "markdown",
   "metadata": {},
   "source": [
    "Weight loss rate has been estimated with the function\n",
    "\n",
    "$k_1 = \\frac{-ln \\left( \\frac{M(t)}{M_0} \\right) }{t}$,\n",
    "\n",
    "where $M_0$ is initial litter organic mass, $M(t)$ is litter organic mass that remains after incubation time $t = 90~days$, and $k_1$ is decomposition rate. "
   ]
  },
  {
   "cell_type": "code",
   "execution_count": 262,
   "metadata": {},
   "outputs": [],
   "source": [
    "kinetics_1st <- function(rw, iw, t) { # First order kinetic function\n",
    "    -log(rw/iw)/t\n",
    "}"
   ]
  },
  {
   "cell_type": "markdown",
   "metadata": {},
   "source": [
    "We can compute `k1` for each row of the `df` table."
   ]
  },
  {
   "cell_type": "code",
   "execution_count": 263,
   "metadata": {},
   "outputs": [],
   "source": [
    "df$k1 <- kinetics_1st(rw = df$`Remaining tea weight (g)`,\n",
    "                      iw = df$`Initial tea weight (g)`,\n",
    "                      t = 90)"
   ]
  },
  {
   "cell_type": "markdown",
   "metadata": {},
   "source": [
    "## 8. Data exploration"
   ]
  },
  {
   "cell_type": "markdown",
   "metadata": {},
   "source": [
    "Boxplot of $k_1$ for different N dosages per litter."
   ]
  },
  {
   "cell_type": "code",
   "execution_count": 264,
   "metadata": {},
   "outputs": [
    {
     "name": "stderr",
     "output_type": "stream",
     "text": [
      "Warning message:\n",
      "\"Removed 34 rows containing non-finite values (stat_boxplot).\""
     ]
    },
    {
     "data": {
      "image/png": "[encoded data removed]",
      "text/plain": [
       "plot without title"
      ]
     },
     "metadata": {},
     "output_type": "display_data"
    }
   ],
   "source": [
    "options(repr.plot.width = 6, repr.plot.height = 10)\n",
    "ggplot(data = df,\n",
    "       mapping = aes(x = `Nitrogen type`, y = k1)) +\n",
    "  facet_grid(`Tea type` ~ ., scales = \"free\") +\n",
    "  geom_boxplot()"
   ]
  },
  {
   "cell_type": "markdown",
   "metadata": {},
   "source": [
    "## 9. Mixed model"
   ]
  },
  {
   "cell_type": "markdown",
   "metadata": {},
   "source": [
    "## 9.1 **Question 1**: What's affecting 1st order kinetics?"
   ]
  },
  {
   "cell_type": "markdown",
   "metadata": {},
   "source": [
    "The dose is standardized to zero mean and unit variance."
   ]
  },
  {
   "cell_type": "code",
   "execution_count": 265,
   "metadata": {},
   "outputs": [],
   "source": [
    "df <- df %>%\n",
    "  mutate(`Nitrogen dose scaled` = scale(`Nitrogen dose`))"
   ]
  },
  {
   "cell_type": "markdown",
   "metadata": {},
   "source": [
    "We rename variables without special characters to avoid errors, make sure litters and N dose types are categories, remove NAs in the table and remove categories that might still be in the description but now removed from the table, just in case."
   ]
  },
  {
   "cell_type": "code",
   "execution_count": 266,
   "metadata": {},
   "outputs": [],
   "source": [
    "df_mm <- df %>%\n",
    "  rename(tea = `Tea type`,\n",
    "         Ntype = `Nitrogen type`,\n",
    "         Ndose = `Nitrogen dose scaled`) %>%\n",
    "  mutate(tea = factor(tea),\n",
    "         Ntype = factor(Ntype)) %>%\n",
    "  drop_na() %>%\n",
    "  droplevels()"
   ]
  },
  {
   "cell_type": "markdown",
   "metadata": {},
   "source": [
    "The model investigates the effect of the type of the dose (`Ntype`), the magnitude of the dose (`Ndose`) and the litter (`tea`) on `k1`, considering the random effect of sites (`Site`) nested in farms (`Farm`)."
   ]
  },
  {
   "cell_type": "code",
   "execution_count": 267,
   "metadata": {},
   "outputs": [
    {
     "data": {
      "text/plain": [
       "Approximate 95% confidence intervals\n",
       "\n",
       " Fixed effects:\n",
       "                             lower          est.         upper\n",
       "(Intercept)          -9.313968e-04  1.297328e-04  1.190862e-03\n",
       "NtypeN-6-1-1         -3.155406e-04  3.954875e-04  1.106516e-03\n",
       "NtypeN-8-0-0         -1.912409e-04  5.951902e-04  1.381621e-03\n",
       "NtypeN-SCU           -4.244786e-04  2.101112e-06  4.286808e-04\n",
       "Ndose                -3.189136e-05  1.667550e-04  3.654014e-04\n",
       "teaGreen tea          9.357611e-03  9.629919e-03  9.902227e-03\n",
       "teaRooibos tea        2.828398e-03  3.100488e-03  3.372578e-03\n",
       "Ndose:teaGreen tea   -5.644358e-04 -2.997392e-04 -3.504256e-05\n",
       "Ndose:teaRooibos tea -4.541094e-04 -1.927639e-04  6.858164e-05\n",
       "attr(,\"label\")\n",
       "[1] \"Fixed effects:\"\n",
       "\n",
       " Random Effects:\n",
       "  Level: Farm \n",
       "                       lower         est.       upper\n",
       "sd((Intercept)) 0.0001120067 0.0006623456 0.003916743\n",
       "  Level: Site \n",
       "                       lower         est.       upper\n",
       "sd((Intercept)) 0.0001396898 0.0004478301 0.001435694\n",
       "\n",
       " Within-group standard error:\n",
       "       lower         est.        upper \n",
       "0.0009173123 0.0009893581 0.0010670623 "
      ]
     },
     "metadata": {},
     "output_type": "display_data"
    }
   ],
   "source": [
    "k1_mm <- lme(fixed = k1 ~ Ntype + Ndose * tea,\n",
    "                     random = ~ 1 | Farm/Site,\n",
    "                     data = df_mm)\n",
    "intervals(k1_mm, level = 0.95)"
   ]
  },
  {
   "cell_type": "markdown",
   "metadata": {},
   "source": [
    "### 9.2.1 P-value"
   ]
  },
  {
   "cell_type": "code",
   "execution_count": 268,
   "metadata": {},
   "outputs": [
    {
     "data": {
      "text/html": [
       "<table>\n",
       "<thead><tr><th></th><th scope=col>numDF</th><th scope=col>denDF</th><th scope=col>F-value</th><th scope=col>p-value</th></tr></thead>\n",
       "<tbody>\n",
       "\t<tr><th scope=row>(Intercept)</th><td>1           </td><td>336         </td><td>  87.2114059</td><td>0.000000000 </td></tr>\n",
       "\t<tr><th scope=row>Ntype</th><td>3           </td><td>336         </td><td>   5.1412186</td><td>0.001731153 </td></tr>\n",
       "\t<tr><th scope=row>Ndose</th><td>1           </td><td>336         </td><td>   0.6036444</td><td>0.437737523 </td></tr>\n",
       "\t<tr><th scope=row>tea</th><td>2           </td><td>336         </td><td>2666.5382028</td><td>0.000000000 </td></tr>\n",
       "\t<tr><th scope=row>Ndose:tea</th><td>2           </td><td>336         </td><td>   2.5151723</td><td>0.082370291 </td></tr>\n",
       "</tbody>\n",
       "</table>\n"
      ],
      "text/latex": [
       "\\begin{tabular}{r|llll}\n",
       "  & numDF & denDF & F-value & p-value\\\\\n",
       "\\hline\n",
       "\t(Intercept) & 1            & 336          &   87.2114059 & 0.000000000 \\\\\n",
       "\tNtype & 3            & 336          &    5.1412186 & 0.001731153 \\\\\n",
       "\tNdose & 1            & 336          &    0.6036444 & 0.437737523 \\\\\n",
       "\ttea & 2            & 336          & 2666.5382028 & 0.000000000 \\\\\n",
       "\tNdose:tea & 2            & 336          &    2.5151723 & 0.082370291 \\\\\n",
       "\\end{tabular}\n"
      ],
      "text/markdown": [
       "\n",
       "| <!--/--> | numDF | denDF | F-value | p-value |\n",
       "|---|---|---|---|---|\n",
       "| (Intercept) | 1            | 336          |   87.2114059 | 0.000000000  |\n",
       "| Ntype | 3            | 336          |    5.1412186 | 0.001731153  |\n",
       "| Ndose | 1            | 336          |    0.6036444 | 0.437737523  |\n",
       "| tea | 2            | 336          | 2666.5382028 | 0.000000000  |\n",
       "| Ndose:tea | 2            | 336          |    2.5151723 | 0.082370291  |\n",
       "\n"
      ],
      "text/plain": [
       "            numDF denDF F-value      p-value    \n",
       "(Intercept) 1     336     87.2114059 0.000000000\n",
       "Ntype       3     336      5.1412186 0.001731153\n",
       "Ndose       1     336      0.6036444 0.437737523\n",
       "tea         2     336   2666.5382028 0.000000000\n",
       "Ndose:tea   2     336      2.5151723 0.082370291"
      ]
     },
     "metadata": {},
     "output_type": "display_data"
    }
   ],
   "source": [
    "anova(k1_mm)"
   ]
  },
  {
   "cell_type": "markdown",
   "metadata": {},
   "source": [
    "### 9.1.2 Pseudo r-square\n",
    "Pseudo r-square was high with(0.94) and without(0.91) random effect indicated the influence of random effects was not impotant. Moreover, these high pseudo r-square value indicated mixed model was well fit to data.   "
   ]
  },
  {
   "cell_type": "code",
   "execution_count": 269,
   "metadata": {},
   "outputs": [
    {
     "data": {
      "text/html": [
       "0.920709460087039"
      ],
      "text/latex": [
       "0.920709460087039"
      ],
      "text/markdown": [
       "0.920709460087039"
      ],
      "text/plain": [
       "[1] 0.9207095"
      ]
     },
     "metadata": {},
     "output_type": "display_data"
    },
    {
     "data": {
      "text/html": [
       "0.943056618267993"
      ],
      "text/latex": [
       "0.943056618267993"
      ],
      "text/markdown": [
       "0.943056618267993"
      ],
      "text/plain": [
       "[1] 0.9430566"
      ]
     },
     "metadata": {},
     "output_type": "display_data"
    }
   ],
   "source": [
    "pseudoR2(y = df_mm$k1,\n",
    "         y_hat = predict(k1_mm, level = 0))\n",
    "\n",
    "pseudoR2(y = df_mm$k1,\n",
    "         y_hat = predict(k1_mm, level = 2))"
   ]
  },
  {
   "cell_type": "markdown",
   "metadata": {},
   "source": [
    "### 9.1.3 Shapiro-Wilk normality test"
   ]
  },
  {
   "cell_type": "markdown",
   "metadata": {},
   "source": [
    "Our data were normaly distributed as shown by the following residues plot "
   ]
  },
  {
   "cell_type": "code",
   "execution_count": 270,
   "metadata": {},
   "outputs": [
    {
     "name": "stdout",
     "output_type": "stream",
     "text": [
      "[1] \"Shapiro-Wilk:\"\n",
      "\n",
      "\tShapiro-Wilk normality test\n",
      "\n",
      "data:  r\n",
      "W = 0.93695, p-value = 5.486e-11\n",
      "\n",
      "[1] \"Kurtosis: 4.59931042065915\"\n",
      "[1] \"Skewness: 0.262024293490676\"\n"
     ]
    },
    {
     "data": {
      "image/png": "[encoded data removed]",
      "text/plain": [
       "Plot with title \"\""
      ]
     },
     "metadata": {},
     "output_type": "display_data"
    }
   ],
   "source": [
    "options(repr.plot.width = 6, repr.plot.height = 4)\n",
    "residues(k1_mm)"
   ]
  },
  {
   "cell_type": "markdown",
   "metadata": {},
   "source": [
    "### 9.1.4 Reporting the results of the mixed models"
   ]
  },
  {
   "cell_type": "markdown",
   "metadata": {},
   "source": [
    "I create a table including the results I need: estimates, confidence intervals and p-values."
   ]
  },
  {
   "cell_type": "code",
   "execution_count": 271,
   "metadata": {},
   "outputs": [],
   "source": [
    "k1_gg <- data.frame(intervals(k1_mm, which = \"fixed\")$fixed)\n",
    "k1_gg <- k1_gg %>%\n",
    "  mutate(variable = rownames(k1_gg))\n",
    "k1_gg <- k1_gg %>%\n",
    "  mutate(pvalue = summary(k1_mm)$tTable[, 5],\n",
    "         is_significant = ifelse(pvalue <= 0.05, 'Significant at 0.05 level', 'Not significant at 0.05 level'))\n",
    "\n",
    "k1_gg$variable <- c(\"Intercept\", \"N 6-1-1\", \"N 8-0-0\", \"N SCU-39-0-0\", # Ajust names\n",
    "                    \"Dose N (scaled)\", \"Green tea\", \"Rooibos tea\",\n",
    "                     \"Green tea : Dose N\", \"Rooibos tea : Dose N\")"
   ]
  },
  {
   "cell_type": "markdown",
   "metadata": {},
   "source": [
    "Adding random effects to the table."
   ]
  },
  {
   "cell_type": "code",
   "execution_count": 272,
   "metadata": {},
   "outputs": [
    {
     "data": {
      "text/html": [
       "<table>\n",
       "<thead><tr><th scope=col>lower</th><th scope=col>est.</th><th scope=col>upper</th><th scope=col>variable</th><th scope=col>pvalue</th><th scope=col>is_significant</th></tr></thead>\n",
       "<tbody>\n",
       "\t<tr><td>NA           </td><td>-0.0004137932</td><td>NA           </td><td>Belanger     </td><td>NA           </td><td>NA           </td></tr>\n",
       "\t<tr><td>NA           </td><td> 0.0004137932</td><td>NA           </td><td>Fortier      </td><td>NA           </td><td>NA           </td></tr>\n",
       "\t<tr><td>NA           </td><td> 0.0001161013</td><td>NA           </td><td>Belanger/10  </td><td>NA           </td><td>NA           </td></tr>\n",
       "\t<tr><td>NA           </td><td>-0.0003052662</td><td>NA           </td><td>Belanger/A9  </td><td>NA           </td><td>NA           </td></tr>\n",
       "\t<tr><td>NA           </td><td>-0.0002405905</td><td>NA           </td><td>Fortier/45   </td><td>NA           </td><td>NA           </td></tr>\n",
       "\t<tr><td>NA           </td><td> 0.0004297555</td><td>NA           </td><td>Fortier/9    </td><td>NA           </td><td>NA           </td></tr>\n",
       "</tbody>\n",
       "</table>\n"
      ],
      "text/latex": [
       "\\begin{tabular}{r|llllll}\n",
       " lower & est. & upper & variable & pvalue & is\\_significant\\\\\n",
       "\\hline\n",
       "\t NA            & -0.0004137932 & NA            & Belanger      & NA            & NA           \\\\\n",
       "\t NA            &  0.0004137932 & NA            & Fortier       & NA            & NA           \\\\\n",
       "\t NA            &  0.0001161013 & NA            & Belanger/10   & NA            & NA           \\\\\n",
       "\t NA            & -0.0003052662 & NA            & Belanger/A9   & NA            & NA           \\\\\n",
       "\t NA            & -0.0002405905 & NA            & Fortier/45    & NA            & NA           \\\\\n",
       "\t NA            &  0.0004297555 & NA            & Fortier/9     & NA            & NA           \\\\\n",
       "\\end{tabular}\n"
      ],
      "text/markdown": [
       "\n",
       "| lower | est. | upper | variable | pvalue | is_significant |\n",
       "|---|---|---|---|---|---|\n",
       "| NA            | -0.0004137932 | NA            | Belanger      | NA            | NA            |\n",
       "| NA            |  0.0004137932 | NA            | Fortier       | NA            | NA            |\n",
       "| NA            |  0.0001161013 | NA            | Belanger/10   | NA            | NA            |\n",
       "| NA            | -0.0003052662 | NA            | Belanger/A9   | NA            | NA            |\n",
       "| NA            | -0.0002405905 | NA            | Fortier/45    | NA            | NA            |\n",
       "| NA            |  0.0004297555 | NA            | Fortier/9     | NA            | NA            |\n",
       "\n"
      ],
      "text/plain": [
       "  lower est.          upper variable    pvalue is_significant\n",
       "1 NA    -0.0004137932 NA    Belanger    NA     NA            \n",
       "2 NA     0.0004137932 NA    Fortier     NA     NA            \n",
       "3 NA     0.0001161013 NA    Belanger/10 NA     NA            \n",
       "4 NA    -0.0003052662 NA    Belanger/A9 NA     NA            \n",
       "5 NA    -0.0002405905 NA    Fortier/45  NA     NA            \n",
       "6 NA     0.0004297555 NA    Fortier/9   NA     NA            "
      ]
     },
     "metadata": {},
     "output_type": "display_data"
    }
   ],
   "source": [
    "k1_re <- data.frame(matrix(ncol = ncol(k1_gg), nrow = 6))\n",
    "names(k1_re) <- names(k1_gg)\n",
    "k1_re$est. <- c(ranef(k1_mm)$Farm[, 1], ranef(k1_mm)$Site[, 1])\n",
    "k1_re$variable <- c(rownames(ranef(k1_mm)$Farm),\n",
    "                    rownames(ranef(k1_mm)$Site))\n",
    "k1_re\n",
    "\n",
    "if (!(\"Belanger\" %in% k1_gg$variable)) k1_gg <- bind_rows(k1_gg, k1_re) # with an if to make sure ranefs are stacked only once"
   ]
  },
  {
   "cell_type": "markdown",
   "metadata": {},
   "source": [
    "Create a facet column to separate effects by effect category in the plot."
   ]
  },
  {
   "cell_type": "code",
   "execution_count": 273,
   "metadata": {},
   "outputs": [],
   "source": [
    "k1_gg$facet <- factor(c('Intercept',\n",
    "                        'N source', 'N source', 'N source',\n",
    "                        \"N dosage\",\n",
    "                        'Tea type', 'Tea type',\n",
    "                        'Tea type × N dosage', 'Tea type × N dosage',\n",
    "                        \"Random effect\", \"Random effect\", \"Random effect\", \"Random effect\", \"Random effect\", \"Random effect\"))\n",
    "\n",
    "k1_gg <- k1_gg %>%\n",
    "  mutate(facet = factor(facet, levels = rev(c(\"Random effect\", \"Tea type × N dosage\", \"Tea type\", \"N dosage\", \"N source\"))))"
   ]
  },
  {
   "cell_type": "markdown",
   "metadata": {},
   "source": [
    "The `k1_gg` table is now set up for the plot."
   ]
  },
  {
   "cell_type": "code",
   "execution_count": 292,
   "metadata": {},
   "outputs": [
    {
     "name": "stderr",
     "output_type": "stream",
     "text": [
      "Warning message:\n",
      "\"Removed 6 rows containing missing values (geom_segment).\"Warning message:\n",
      "\"Removed 6 rows containing missing values (geom_segment).\""
     ]
    },
    {
     "data": {
      "image/png": "[encoded data removed]",
      "text/plain": [
       "plot without title"
      ]
     },
     "metadata": {},
     "output_type": "display_data"
    }
   ],
   "source": [
    "options(repr.plot.width = 9, repr.plot.height = 6)\n",
    "k1_gg %>%\n",
    "  filter(variable != \"Intercept\") %>%\n",
    "  ggplot(aes(x = est., y = variable)) +\n",
    "  facet_grid(facet ~ ., scales = 'free', space = 'free') +\n",
    "  geom_vline(xintercept = 0, colour='grey70') +\n",
    "  geom_point() +\n",
    "  geom_segment(aes(x = lower, xend = upper, y = variable, yend = variable)) +\n",
    "  xlab('Coefficient') +\n",
    "  ylab('') +\n",
    "  theme_bw() +\n",
    "  theme(strip.text.y = element_text(angle=0),\n",
    "        legend.title = element_blank(),\n",
    "        legend.position = \"bottom\",\n",
    "        text = element_text(size = 20)) +\n",
    "  ggsave(\"figures/mixed-model-coefficients.png\", width = 10, height = 6, dpi = 600)"
   ]
  },
  {
   "cell_type": "markdown",
   "metadata": {},
   "source": [
    "How did $k_1$ react across tea types and nitrogen sources for a range of doses, according to the model? To answer this question, I create a grid of values and categories, predict the model for each row of the grid, then put nitrogen dosage back to its original scale."
   ]
  },
  {
   "cell_type": "code",
   "execution_count": 275,
   "metadata": {},
   "outputs": [],
   "source": [
    "pred_grid <- expand.grid(tea = unique(df_mm$tea),\n",
    "                         Ndose = c(min(df_mm$Ndose), max(df_mm$Ndose)),\n",
    "                         Ntype = unique(df_mm$Ntype))\n",
    "pred_grid <- pred_grid %>%\n",
    "  mutate(k1 = predict(k1_mm, newdata = pred_grid,\n",
    "                              level = 0),\n",
    "         Ndose = Ndose * sd(df$`Nitrogen dose`) + mean(df$`Nitrogen dose`)) %>%\n",
    "  rename(`Tea type` = tea,\n",
    "         `Nitrogen dose` = Ndose,\n",
    "         `Nitrogen type` = Ntype)"
   ]
  },
  {
   "cell_type": "code",
   "execution_count": 276,
   "metadata": {},
   "outputs": [
    {
     "data": {
      "text/html": [
       "<table>\n",
       "<thead><tr><th scope=col>Tea type</th><th scope=col>Nitrogen dose</th><th scope=col>Nitrogen type</th><th scope=col>k1</th></tr></thead>\n",
       "<tbody>\n",
       "\t<tr><td>Cranberry litter</td><td> 6.000000e+01   </td><td>N-21-0-0        </td><td>0.0003536266    </td></tr>\n",
       "\t<tr><td>Rooibos tea     </td><td> 6.000000e+01   </td><td>N-21-0-0        </td><td>0.0031952998    </td></tr>\n",
       "\t<tr><td>Cranberry litter</td><td> 6.000000e+01   </td><td>N-6-1-1         </td><td>0.0007491141    </td></tr>\n",
       "\t<tr><td>Green tea       </td><td>-3.552714e-15   </td><td>N-SCU           </td><td>0.0099651544    </td></tr>\n",
       "\t<tr><td>Cranberry litter</td><td> 6.000000e+01   </td><td>N-SCU           </td><td>0.0003557277    </td></tr>\n",
       "\t<tr><td>Rooibos tea     </td><td>-3.552714e-15   </td><td>N-SCU           </td><td>0.0032721027    </td></tr>\n",
       "\t<tr><td>Green tea       </td><td>-3.552714e-15   </td><td>N-6-1-1         </td><td>0.0103585408    </td></tr>\n",
       "\t<tr><td>Rooibos tea     </td><td>-3.552714e-15   </td><td>N-6-1-1         </td><td>0.0036654892    </td></tr>\n",
       "\t<tr><td>Green tea       </td><td> 6.000000e+01   </td><td>N-SCU           </td><td>0.0095832018    </td></tr>\n",
       "\t<tr><td>Cranberry litter</td><td> 6.000000e+01   </td><td>N-8-0-0         </td><td>0.0009488168    </td></tr>\n",
       "</tbody>\n",
       "</table>\n"
      ],
      "text/latex": [
       "\\begin{tabular}{r|llll}\n",
       " Tea type & Nitrogen dose & Nitrogen type & k1\\\\\n",
       "\\hline\n",
       "\t Cranberry litter &  6.000000e+01    & N-21-0-0         & 0.0003536266    \\\\\n",
       "\t Rooibos tea      &  6.000000e+01    & N-21-0-0         & 0.0031952998    \\\\\n",
       "\t Cranberry litter &  6.000000e+01    & N-6-1-1          & 0.0007491141    \\\\\n",
       "\t Green tea        & -3.552714e-15    & N-SCU            & 0.0099651544    \\\\\n",
       "\t Cranberry litter &  6.000000e+01    & N-SCU            & 0.0003557277    \\\\\n",
       "\t Rooibos tea      & -3.552714e-15    & N-SCU            & 0.0032721027    \\\\\n",
       "\t Green tea        & -3.552714e-15    & N-6-1-1          & 0.0103585408    \\\\\n",
       "\t Rooibos tea      & -3.552714e-15    & N-6-1-1          & 0.0036654892    \\\\\n",
       "\t Green tea        &  6.000000e+01    & N-SCU            & 0.0095832018    \\\\\n",
       "\t Cranberry litter &  6.000000e+01    & N-8-0-0          & 0.0009488168    \\\\\n",
       "\\end{tabular}\n"
      ],
      "text/markdown": [
       "\n",
       "| Tea type | Nitrogen dose | Nitrogen type | k1 |\n",
       "|---|---|---|---|\n",
       "| Cranberry litter |  6.000000e+01    | N-21-0-0         | 0.0003536266     |\n",
       "| Rooibos tea      |  6.000000e+01    | N-21-0-0         | 0.0031952998     |\n",
       "| Cranberry litter |  6.000000e+01    | N-6-1-1          | 0.0007491141     |\n",
       "| Green tea        | -3.552714e-15    | N-SCU            | 0.0099651544     |\n",
       "| Cranberry litter |  6.000000e+01    | N-SCU            | 0.0003557277     |\n",
       "| Rooibos tea      | -3.552714e-15    | N-SCU            | 0.0032721027     |\n",
       "| Green tea        | -3.552714e-15    | N-6-1-1          | 0.0103585408     |\n",
       "| Rooibos tea      | -3.552714e-15    | N-6-1-1          | 0.0036654892     |\n",
       "| Green tea        |  6.000000e+01    | N-SCU            | 0.0095832018     |\n",
       "| Cranberry litter |  6.000000e+01    | N-8-0-0          | 0.0009488168     |\n",
       "\n"
      ],
      "text/plain": [
       "   Tea type         Nitrogen dose Nitrogen type k1          \n",
       "1  Cranberry litter  6.000000e+01 N-21-0-0      0.0003536266\n",
       "2  Rooibos tea       6.000000e+01 N-21-0-0      0.0031952998\n",
       "3  Cranberry litter  6.000000e+01 N-6-1-1       0.0007491141\n",
       "4  Green tea        -3.552714e-15 N-SCU         0.0099651544\n",
       "5  Cranberry litter  6.000000e+01 N-SCU         0.0003557277\n",
       "6  Rooibos tea      -3.552714e-15 N-SCU         0.0032721027\n",
       "7  Green tea        -3.552714e-15 N-6-1-1       0.0103585408\n",
       "8  Rooibos tea      -3.552714e-15 N-6-1-1       0.0036654892\n",
       "9  Green tea         6.000000e+01 N-SCU         0.0095832018\n",
       "10 Cranberry litter  6.000000e+01 N-8-0-0       0.0009488168"
      ]
     },
     "metadata": {},
     "output_type": "display_data"
    }
   ],
   "source": [
    "pred_grid %>% sample_n(10)"
   ]
  },
  {
   "cell_type": "markdown",
   "metadata": {},
   "source": [
    "This table allows to plot the model and data superimposed."
   ]
  },
  {
   "cell_type": "code",
   "execution_count": 293,
   "metadata": {},
   "outputs": [
    {
     "name": "stderr",
     "output_type": "stream",
     "text": [
      "Warning message:\n",
      "\"Removed 34 rows containing missing values (geom_point).\"Warning message:\n",
      "\"Removed 34 rows containing missing values (geom_point).\""
     ]
    },
    {
     "data": {
      "image/png": "[encoded data removed]",
      "text/plain": [
       "plot without title"
      ]
     },
     "metadata": {},
     "output_type": "display_data"
    }
   ],
   "source": [
    "options(repr.plot.width = 10, repr.plot.height = 10)\n",
    "\n",
    "ggplot(df, aes(x = `Nitrogen dose`, y = `k1`)) +\n",
    "  facet_grid(`Nitrogen type` ~ `Tea type`) +\n",
    "  geom_point() +\n",
    "  geom_line(data = pred_grid) +\n",
    "  labs(x = expression(\"Dose N (kg ha\"^\"-1\"~\")\"), y = \"First order kinetics\") +\n",
    "  theme_bw() +\n",
    "  theme(text = element_text(size = 20)) + \n",
    "  ggsave(\"figures/k1-model-lines.png\", width = 10, height = 8, dpi = 600)# nomme figure"
   ]
  },
  {
   "cell_type": "markdown",
   "metadata": {},
   "source": [
    "## 9.2 **Question 2**: What affected TBI parameters (k)?\n",
    "\n",
    "Adding `M / M0` variable to data `df`."
   ]
  },
  {
   "cell_type": "code",
   "execution_count": 278,
   "metadata": {},
   "outputs": [],
   "source": [
    "df <- df %>%\n",
    "  mutate(`M / M0` = `Remaining tea weight (g)` / `Initial tea weight (g)`)"
   ]
  },
  {
   "cell_type": "markdown",
   "metadata": {},
   "source": [
    "I store hydrolysable fractions of green tea and rooibos."
   ]
  },
  {
   "cell_type": "code",
   "execution_count": 279,
   "metadata": {},
   "outputs": [],
   "source": [
    "Hf_g <- 0.805   # Hydrolysable fraction for Green tea\n",
    "Hf_r <- 0.826   # Hydrolysable fraction for Rooibos tea"
   ]
  },
  {
   "cell_type": "markdown",
   "metadata": {},
   "source": [
    "For comparaison purpose, [Keuskamp et al. (2013)](https://besjournals.onlinelibrary.wiley.com/doi/full/10.1111/2041-210X.12097) hydrolysable fractions were:\n",
    "\n",
    "- Green tea `Hf_g = 0.842`  \n",
    "- Rooibos tea `Hf_r = 0.552`"
   ]
  },
  {
   "cell_type": "markdown",
   "metadata": {},
   "source": [
    "### 9.2.1 Computation of the labile fraction (a) and the stabilization factor (s) of green tea\n",
    "\n",
    "Decomposition rate `k_tbi` is computed from Rooibos tea after 90 days of incubation. The *TBI* assumes that the decomposition of Green tea has stablilized while Rooibos tea is still decomposing. Stabilization factor `S` is computed from Green tea."
   ]
  },
  {
   "cell_type": "code",
   "execution_count": 280,
   "metadata": {},
   "outputs": [],
   "source": [
    "df <- df %>%\n",
    "  mutate(a = ifelse(`Tea type` == \"Green tea\",\n",
    "                    (`Initial tea weight (g)` - `Remaining tea weight (g)`) / `Initial tea weight (g)`,\n",
    "                    NA),\n",
    "         S = 1 - a / Hf_g)"
   ]
  },
  {
   "cell_type": "markdown",
   "metadata": {},
   "source": [
    "Compute litter stability `Sg` (Green tea) and decomposition constant `k_tbi` (Rooibos) for each experimental unit."
   ]
  },
  {
   "cell_type": "code",
   "execution_count": 281,
   "metadata": {},
   "outputs": [],
   "source": [
    "df <- df %>%\n",
    "  mutate(sdr = paste(df$Site, df$`Nitrogen dose`, df$Repetition))\n",
    "sdr_u <- unique(df$sdr)"
   ]
  },
  {
   "cell_type": "code",
   "execution_count": 282,
   "metadata": {},
   "outputs": [],
   "source": [
    "# Initialize k_tbi column\n",
    "df$k_tbi <- NA\n",
    "\n",
    "# For each rep, compute a and k_tbi\n",
    "for (i in 1:length(sdr_u)) {\n",
    "  # Green tea\n",
    "  Sg_i <- mean(df$S[df$sdr == sdr_u[i] & df$`Tea type` == \"Green tea\"], na.rm = TRUE)\n",
    "  \n",
    "  # Rooibos\n",
    "  df$a[df$sdr == sdr_u[i] & df$`Tea type` == \"Rooibos tea\"] <- Hf_r * (1 - Sg_i)\n",
    "  ar_i <- df$a[df$sdr == sdr_u[i] & df$`Tea type` == \"Rooibos tea\"]\n",
    "  M_M0i <- df$`M / M0`[df$sdr == sdr_u[i] & df$`Tea type` == \"Rooibos tea\"]\n",
    "  df$k_tbi[df$sdr == sdr_u[i] & df$`Tea type` == \"Rooibos tea\"] <- log(ar_i / (M_M0i - (1-ar_i))) / 90\n",
    "}"
   ]
  },
  {
   "cell_type": "markdown",
   "metadata": {},
   "source": [
    "Data exploration for N dose type."
   ]
  },
  {
   "cell_type": "code",
   "execution_count": 283,
   "metadata": {},
   "outputs": [
    {
     "name": "stderr",
     "output_type": "stream",
     "text": [
      "Warning message:\n",
      "\"Removed 287 rows containing missing values (geom_point).\""
     ]
    },
    {
     "data": {
      "image/png": "[encoded data removed]",
      "text/plain": [
       "plot without title"
      ]
     },
     "metadata": {},
     "output_type": "display_data"
    }
   ],
   "source": [
    "options(repr.plot.width=12, repr.plot.height=4)\n",
    "ggplot(data = df,\n",
    "       mapping = aes(x = `Nitrogen dose`, y = k_tbi)) +\n",
    "  geom_point(aes(colour = `Nitrogen type`)) +\n",
    "  geom_line(data = . %>%\n",
    "    group_by(`Nitrogen dose`, `Nitrogen type`) %>%\n",
    "    summarise(k_tbi = mean(k_tbi, na.rm = TRUE)),\n",
    "           aes(colour = `Nitrogen type`))"
   ]
  },
  {
   "cell_type": "markdown",
   "metadata": {},
   "source": [
    "### 9.3 What affecting TBI parameters (k)?\n",
    "\n",
    "Because `k_tbi` is computed from Rooibos tea, we create a new Rooibos data table named `df_rooibos`."
   ]
  },
  {
   "cell_type": "code",
   "execution_count": 284,
   "metadata": {},
   "outputs": [],
   "source": [
    "df_rooibos <- df %>% \n",
    "  filter(`Tea type` == \"Rooibos tea\")\n",
    "\n",
    "TBI_data <- df %>%\n",
    "  select(k_tbi, `Tea type`, Farm, `Nitrogen dose`, Site,\n",
    "         `Nitrogen type`) %>%\n",
    "  rename(Ntype = `Nitrogen type`,\n",
    "         Ndose = `Nitrogen dose`) %>%\n",
    "  drop_na() %>%\n",
    "  droplevels()\n",
    "\n",
    "TBI_rooibos <- TBI_data %>%\n",
    "  filter(`Tea type` == \"Rooibos tea\")"
   ]
  },
  {
   "cell_type": "markdown",
   "metadata": {},
   "source": [
    "### 9.3.1 `k_tbi` mixed model"
   ]
  },
  {
   "cell_type": "markdown",
   "metadata": {},
   "source": [
    "lme_TBI model investigates the effect of the type of the dose (`Ntype`), the magnitude of the dose (`Ndose`) on `k_tbi`, considering the random effect of sites (`Site`) nested in farms (`Farm`)."
   ]
  },
  {
   "cell_type": "code",
   "execution_count": 285,
   "metadata": {},
   "outputs": [],
   "source": [
    "lme_TBI <- lme(fixed = k_tbi ~  Ndose + Ntype,\n",
    "    random = ~ 1 | Farm/Site,\n",
    "    data = TBI_rooibos)"
   ]
  },
  {
   "cell_type": "code",
   "execution_count": 286,
   "metadata": {},
   "outputs": [
    {
     "data": {
      "text/html": [
       "<table>\n",
       "<thead><tr><th></th><th scope=col>Value</th><th scope=col>Std.Error</th><th scope=col>DF</th><th scope=col>t-value</th><th scope=col>p-value</th></tr></thead>\n",
       "<tbody>\n",
       "\t<tr><th scope=row>(Intercept)</th><td> 6.164356e-03</td><td>8.636613e-04 </td><td>120          </td><td> 7.1374693   </td><td>7.871002e-11 </td></tr>\n",
       "\t<tr><th scope=row>Ndose</th><td> 3.116282e-06</td><td>6.663922e-06 </td><td>120          </td><td> 0.4676347   </td><td>6.408939e-01 </td></tr>\n",
       "\t<tr><th scope=row>NtypeN-6-1-1</th><td> 2.000522e-03</td><td>5.863409e-04 </td><td>120          </td><td> 3.4118758   </td><td>8.799726e-04 </td></tr>\n",
       "\t<tr><th scope=row>NtypeN-8-0-0</th><td> 6.682900e-04</td><td>6.995885e-04 </td><td>120          </td><td> 0.9552616   </td><td>3.413659e-01 </td></tr>\n",
       "\t<tr><th scope=row>NtypeN-SCU</th><td>-4.075112e-04</td><td>6.884892e-04 </td><td>120          </td><td>-0.5918920   </td><td>5.550364e-01 </td></tr>\n",
       "</tbody>\n",
       "</table>\n"
      ],
      "text/latex": [
       "\\begin{tabular}{r|lllll}\n",
       "  & Value & Std.Error & DF & t-value & p-value\\\\\n",
       "\\hline\n",
       "\t(Intercept) &  6.164356e-03 & 8.636613e-04  & 120           &  7.1374693    & 7.871002e-11 \\\\\n",
       "\tNdose &  3.116282e-06 & 6.663922e-06  & 120           &  0.4676347    & 6.408939e-01 \\\\\n",
       "\tNtypeN-6-1-1 &  2.000522e-03 & 5.863409e-04  & 120           &  3.4118758    & 8.799726e-04 \\\\\n",
       "\tNtypeN-8-0-0 &  6.682900e-04 & 6.995885e-04  & 120           &  0.9552616    & 3.413659e-01 \\\\\n",
       "\tNtypeN-SCU & -4.075112e-04 & 6.884892e-04  & 120           & -0.5918920    & 5.550364e-01 \\\\\n",
       "\\end{tabular}\n"
      ],
      "text/markdown": [
       "\n",
       "| <!--/--> | Value | Std.Error | DF | t-value | p-value |\n",
       "|---|---|---|---|---|---|\n",
       "| (Intercept) |  6.164356e-03 | 8.636613e-04  | 120           |  7.1374693    | 7.871002e-11  |\n",
       "| Ndose |  3.116282e-06 | 6.663922e-06  | 120           |  0.4676347    | 6.408939e-01  |\n",
       "| NtypeN-6-1-1 |  2.000522e-03 | 5.863409e-04  | 120           |  3.4118758    | 8.799726e-04  |\n",
       "| NtypeN-8-0-0 |  6.682900e-04 | 6.995885e-04  | 120           |  0.9552616    | 3.413659e-01  |\n",
       "| NtypeN-SCU | -4.075112e-04 | 6.884892e-04  | 120           | -0.5918920    | 5.550364e-01  |\n",
       "\n"
      ],
      "text/plain": [
       "             Value         Std.Error    DF  t-value    p-value     \n",
       "(Intercept)   6.164356e-03 8.636613e-04 120  7.1374693 7.871002e-11\n",
       "Ndose         3.116282e-06 6.663922e-06 120  0.4676347 6.408939e-01\n",
       "NtypeN-6-1-1  2.000522e-03 5.863409e-04 120  3.4118758 8.799726e-04\n",
       "NtypeN-8-0-0  6.682900e-04 6.995885e-04 120  0.9552616 3.413659e-01\n",
       "NtypeN-SCU   -4.075112e-04 6.884892e-04 120 -0.5918920 5.550364e-01"
      ]
     },
     "metadata": {},
     "output_type": "display_data"
    }
   ],
   "source": [
    "summary(lme_TBI)$tTable # Get p-values"
   ]
  },
  {
   "cell_type": "markdown",
   "metadata": {},
   "source": [
    "### 9.3.2 Mixed model graphic"
   ]
  },
  {
   "cell_type": "markdown",
   "metadata": {},
   "source": [
    "Creating data containing the estimated values of fixed effects(est.), upper and lower and p-values "
   ]
  },
  {
   "cell_type": "code",
   "execution_count": 287,
   "metadata": {},
   "outputs": [],
   "source": [
    "ktbi_gg <- data.frame(intervals(lme_TBI, which = \"fixed\")$fixed)\n",
    "ktbi_gg <- ktbi_gg %>%\n",
    "  mutate(variable = rownames(ktbi_gg))\n",
    "ktbi_gg <- ktbi_gg %>%\n",
    "  mutate(pvalue = summary(lme_TBI)$tTable[, 5],\n",
    "         is_significant = ifelse(pvalue <= 0.05, 'Significant at 0.05 level', 'Not significant at 0.05 level'))"
   ]
  },
  {
   "cell_type": "markdown",
   "metadata": {},
   "source": [
    "Ajust names."
   ]
  },
  {
   "cell_type": "code",
   "execution_count": 288,
   "metadata": {},
   "outputs": [],
   "source": [
    "ktbi_gg$variable <- c(\"Intercept\", \"Dose N\", \"N 6-1-1\", \"N 8-0-0\", \"N SCU-39-0-0\")"
   ]
  },
  {
   "cell_type": "markdown",
   "metadata": {},
   "source": [
    "Add random effects to the table."
   ]
  },
  {
   "cell_type": "code",
   "execution_count": 289,
   "metadata": {},
   "outputs": [],
   "source": [
    "ktbi_re <- data.frame(matrix(ncol = ncol(ktbi_gg), nrow = 6))\n",
    "names(ktbi_re) <- names(ktbi_gg)\n",
    "ktbi_re$est. <- c(ranef(lme_TBI)$Farm[, 1], ranef(lme_TBI)$Site[, 1])\n",
    "ktbi_re$variable <- c(rownames(ranef(lme_TBI)$Farm),\n",
    "                    rownames(ranef(lme_TBI)$Site))"
   ]
  },
  {
   "cell_type": "markdown",
   "metadata": {},
   "source": [
    "Using if to make sure ranefs are stacked only once"
   ]
  },
  {
   "cell_type": "code",
   "execution_count": 290,
   "metadata": {},
   "outputs": [],
   "source": [
    "if (!(\"Belanger\" %in% ktbi_gg$variable)) ktbi_gg <- bind_rows(ktbi_gg, ktbi_re) "
   ]
  },
  {
   "cell_type": "markdown",
   "metadata": {},
   "source": [
    "Create a facet column to separate effects by effect category in the plot."
   ]
  },
  {
   "cell_type": "code",
   "execution_count": 291,
   "metadata": {},
   "outputs": [],
   "source": [
    "ktbi_gg$facet <- factor(c('Intercept',\n",
    "                        \"N dosage\",\n",
    "                        'N source', 'N source', 'N source',\n",
    "                        \"Random effect\", \"Random effect\", \"Random effect\", \"Random effect\", \"Random effect\", \"Random effect\"))\n",
    "\n",
    "ktbi_gg <- ktbi_gg %>%\n",
    "  mutate(facet = factor(facet, levels = rev(c(\"Random effect\", \"N dosage\", \"N source\", \"Intercept\")))) # reorder facets for ploting"
   ]
  },
  {
   "cell_type": "markdown",
   "metadata": {},
   "source": [
    "Fire the plot!"
   ]
  },
  {
   "cell_type": "code",
   "execution_count": 218,
   "metadata": {},
   "outputs": [
    {
     "name": "stderr",
     "output_type": "stream",
     "text": [
      "Warning message:\n",
      "\"Removed 6 rows containing missing values (geom_segment).\"Warning message:\n",
      "\"Removed 6 rows containing missing values (geom_segment).\""
     ]
    },
    {
     "data": {
      "image/png": "[encoded data removed]",
      "text/plain": [
       "plot without title"
      ]
     },
     "metadata": {},
     "output_type": "display_data"
    }
   ],
   "source": [
    "options(repr.plot.width = 12, repr.plot.height = 6)\n",
    "\n",
    "ktbi_gg %>%\n",
    "  filter(variable != \"Intercept\") %>%\n",
    "  ggplot(aes(x = est., y = variable)) +\n",
    "  facet_grid(facet ~ ., scales = 'free', space = 'free') +\n",
    "  geom_vline(xintercept = 0, colour='grey70') +\n",
    "  geom_point() +\n",
    "  geom_segment(aes(x = lower, xend = upper, y = variable, yend = variable)) +\n",
    "  xlab('Coefficient') +\n",
    "  ylab('') +\n",
    "  theme_bw() +\n",
    "  theme(strip.text.y = element_text(angle=0),\n",
    "        legend.title = element_blank(),\n",
    "        legend.position = \"bottom\",\n",
    "        text = element_text(size = 20)) +\n",
    "  ggsave(\"figures/ktbi-lme-effects.png\", width = 8, height = 5, dpi = 600)"
   ]
  },
  {
   "cell_type": "markdown",
   "metadata": {},
   "source": [
    "## 10. **Question 3**: Where cranberry soils are placed among the axes of the *TBI*?"
   ]
  },
  {
   "cell_type": "markdown",
   "metadata": {},
   "source": [
    "Here, we extracted data from Keuskamp et al.2013 in order to compare with cranberry ecosystem"
   ]
  },
  {
   "cell_type": "markdown",
   "metadata": {},
   "source": [
    "### 10.1 Import data\n",
    "\n",
    "We adapted keuskamp's data by adding cranberry ecosystem"
   ]
  },
  {
   "cell_type": "code",
   "execution_count": 219,
   "metadata": {},
   "outputs": [
    {
     "name": "stderr",
     "output_type": "stream",
     "text": [
      "Parsed with column specification:\n",
      "cols(\n",
      "  Nombre = col_double(),\n",
      "  Region = col_character(),\n",
      "  Stabilisation_factor_S = col_double(),\n",
      "  Decomposition_rate_K = col_double()\n",
      ")\n"
     ]
    }
   ],
   "source": [
    "df_keuskamp <- read_csv(\"data/keuskamp_tbi_data.csv\")# Import Keuskamp data"
   ]
  },
  {
   "cell_type": "markdown",
   "metadata": {},
   "source": [
    "Create a logic column (`is_cranberry`) in order to identify `Cranberries` by color in the plot below"
   ]
  },
  {
   "cell_type": "code",
   "execution_count": 220,
   "metadata": {},
   "outputs": [],
   "source": [
    "df_keuskamp <- df_keuskamp %>%\n",
    "  mutate(is_cranberry = Region == \"Cranberries\")"
   ]
  },
  {
   "cell_type": "markdown",
   "metadata": {},
   "source": [
    "### 10.2 Figure TBI"
   ]
  },
  {
   "cell_type": "markdown",
   "metadata": {},
   "source": [
    "TBI of Quebec cranberry agroecosystem compared to the TBI of ecosystems reported by Keuskamp et al 2013. United States–Florida = US-FL, China = CN, Panama = PA, the Netherlands = NL, Austria = AU, Ireland = IE, and Iceland = IS."
   ]
  },
  {
   "cell_type": "code",
   "execution_count": 221,
   "metadata": {},
   "outputs": [
    {
     "data": {
      "image/png": "[encoded data removed]",
      "text/plain": [
       "plot without title"
      ]
     },
     "metadata": {},
     "output_type": "display_data"
    }
   ],
   "source": [
    "options(repr.plot.width = 6.5, repr.plot.height = 6)\n",
    "ggplot(data = df_keuskamp, aes(x = Stabilisation_factor_S, y = Decomposition_rate_K)) +\n",
    "  geom_point() +\n",
    "  geom_label_repel(aes(label = Region, fill = is_cranberry, colour = is_cranberry),\n",
    "                   size = 3.5) +\n",
    "  scale_fill_manual(values = c(\"white\", \"black\")) +\n",
    "  scale_colour_manual(values = c(\"black\", \"white\")) +\n",
    "  theme_bw() +\n",
    "  theme(legend.position = \"none\") +\n",
    "  labs(x = expression(paste(\"Stabilization factor\",(italic(\"S\")))), y = expression(paste(\"Decomposition rate\", (italic(\"k\"))))) +\n",
    "  ggsave(\"figures/TBI_keuskamp.png\", width = 6, height = 6, dpi = 120)"
   ]
  },
  {
   "cell_type": "markdown",
   "metadata": {},
   "source": [
    "### 11. **Question 4**:What is the fractal kinetics of litter matterials ?\n",
    "\n",
    "Depending on the nature of decaying material and its immediate environment, the decomposition rate of plant residues can decrease gradually through time as follow: \n",
    "\n",
    "$$k_t = k_1 t^{{-h}}$$\n",
    "\n",
    "$$log \\left( k_t \\right) = log \\left( k_1 t^{-h} \\right)$$\n",
    "\n",
    "$$log \\left( k_t \\right) = log \\left( k_1 \\right) + log \\left(t^{-h} \\right)$$\n",
    "\n",
    "$$log \\left( k_t \\right) = log \\left( k_1 \\right) - h \\times log \\left(t\\right)$$\n",
    "\n",
    "Where $k_t$ is first order kinetics, $k_1$ is reaction rate at time t = 1 and $h$ is a fractal coefficient (0 ≤ h ≤ 1) accounting for the decreasing decomposition rate through time"
   ]
  },
  {
   "cell_type": "markdown",
   "metadata": {},
   "source": [
    "#### 11.1 Fractal coefficient computation"
   ]
  },
  {
   "cell_type": "markdown",
   "metadata": {},
   "source": [
    "##### 11.1.1 Import data"
   ]
  },
  {
   "cell_type": "markdown",
   "metadata": {},
   "source": [
    "Fractal data set from 2018 trial contained information on `Final carbon (%)` `Final weight (g)` `Initial weight (g)` `Initial carbon (%)`   "
   ]
  },
  {
   "cell_type": "code",
   "execution_count": 222,
   "metadata": {},
   "outputs": [
    {
     "name": "stderr",
     "output_type": "stream",
     "text": [
      "Using ',' as decimal and '.' as grouping mark. Use read_delim() for more control.\n",
      "Parsed with column specification:\n",
      "cols(\n",
      "  `Tea type` = col_character(),\n",
      "  Prelevement = col_double(),\n",
      "  `Final carbon (%)` = col_double(),\n",
      "  `Final weight (g)` = col_double(),\n",
      "  `Initial weight (g)` = col_double(),\n",
      "  `Initial carbon (%)` = col_double()\n",
      ")\n"
     ]
    }
   ],
   "source": [
    "data_fractal <- read_csv2(\"data/data_fractal.csv\")"
   ]
  },
  {
   "cell_type": "markdown",
   "metadata": {},
   "source": [
    "##### 11.1.1 Adding some variables\n",
    "`First order kinetic names (k)`, `log(k)` and `Log(t)` has been computed. Then we select the variables needed in order compute the fractal coefficient `h`"
   ]
  },
  {
   "cell_type": "code",
   "execution_count": 223,
   "metadata": {},
   "outputs": [
    {
     "name": "stderr",
     "output_type": "stream",
     "text": [
      "Warning message:\n",
      "\"production de NaN\""
     ]
    }
   ],
   "source": [
    "data_lm_fractal <- data_fractal %>%\n",
    "  mutate(\n",
    "    # time and k\n",
    "    time = Prelevement * 21,\n",
    "    k = -log(`Final weight (g)` / `Initial weight (g)`)/ time,\n",
    "  ) %>%\n",
    "  mutate(\n",
    "    # log.time and log.k\n",
    "    log.time = log10(time),\n",
    "    log.k = log10(k)\n",
    "  ) %>%\n",
    "  select(`Tea type`, `k`,`log.time`, `log.k`, `time`)"
   ]
  },
  {
   "cell_type": "markdown",
   "metadata": {},
   "source": [
    "Then, we create data to store the results `intercept`, `slope` and r square `r_sq`"
   ]
  },
  {
   "cell_type": "code",
   "execution_count": 224,
   "metadata": {},
   "outputs": [],
   "source": [
    "fractal_kinetics <- tibble(\n",
    "    tea_types = c(\"Rooibos tea\", \"Cranberry litter\", \"Green tea\"),\n",
    "    intercept_ll = NA,\n",
    "    intercept = NA,\n",
    "    intercept_ul = NA,\n",
    "    slope_ll = NA,\n",
    "    slope = NA,\n",
    "    slope_ul = NA,\n",
    "    r_sq = NA\n",
    ")"
   ]
  },
  {
   "cell_type": "markdown",
   "metadata": {},
   "source": [
    "```\n",
    "lm(log.k ~ log.time)\n",
    "k1 = 10^intercept\n",
    "h = -slope\n",
    "```\n"
   ]
  },
  {
   "cell_type": "markdown",
   "metadata": {},
   "source": [
    "Computation of median value of `log.time` and `log.k` by `time` and `tea type` to determine `h`"
   ]
  },
  {
   "cell_type": "code",
   "execution_count": 225,
   "metadata": {},
   "outputs": [],
   "source": [
    "data_median_lm_fractal <- aggregate(cbind(log.time, log.k) ~ time + `Tea type`, data = data_lm_fractal, FUN = median)"
   ]
  },
  {
   "cell_type": "markdown",
   "metadata": {},
   "source": [
    "Applying `lm` in a loop `for` in order to compute `h`, r square `r_sq` and `k1` by `tea type`"
   ]
  },
  {
   "cell_type": "code",
   "execution_count": 226,
   "metadata": {},
   "outputs": [],
   "source": [
    "conf_level <- 0.95\n",
    "\n",
    "for (i in 1:nrow(fractal_kinetics)) {\n",
    "    \n",
    "    lm_fractal <- data_median_lm_fractal %>%\n",
    "      filter(`Tea type` == fractal_kinetics$tea_types[i]) %>%\n",
    "      lm(log.k ~ log.time, data = .)\n",
    "    \n",
    "    # intercept\n",
    "    fractal_kinetics$intercept_ll[i] <- confint(lm_fractal, level = conf_level)[1, 1]\n",
    "    fractal_kinetics$intercept[i] <- coef(lm_fractal)[1]\n",
    "    fractal_kinetics$intercept_ul[i] <- confint(lm_fractal, level = conf_level)[1, 2]\n",
    "    \n",
    "    # Slope\n",
    "    fractal_kinetics$slope_ll[i] <- confint(lm_fractal, level = conf_level)[2, 1]\n",
    "    fractal_kinetics$slope[i] <- coef(lm_fractal)[2]\n",
    "    fractal_kinetics$slope_ul[i] <- confint(lm_fractal, level = conf_level)[2, 2]\n",
    "    \n",
    "    # statistics\n",
    "    fractal_kinetics$r_sq[i] <- summary(lm_fractal)$r.squared\n",
    "}"
   ]
  },
  {
   "cell_type": "code",
   "execution_count": 227,
   "metadata": {},
   "outputs": [],
   "source": [
    "fractal_kinetics <-  fractal_kinetics %>%\n",
    "  mutate(h_ll = -slope_ul,\n",
    "         h = -slope,\n",
    "         h_ul = -slope_ll,\n",
    "         k1_ll = 10^intercept_ll,\n",
    "         k1 = 10^intercept,\n",
    "        k1_ul = 10^intercept_ul)%>%\n",
    "  select(tea_types, r_sq, h_ll, h, h_ul, k1_ll, k1, k1_ul)"
   ]
  },
  {
   "cell_type": "code",
   "execution_count": 228,
   "metadata": {},
   "outputs": [
    {
     "data": {
      "text/html": [
       "<table>\n",
       "<thead><tr><th scope=col>tea_types</th><th scope=col>r_sq</th><th scope=col>h_ll</th><th scope=col>h</th><th scope=col>h_ul</th><th scope=col>k1_ll</th><th scope=col>k1</th><th scope=col>k1_ul</th></tr></thead>\n",
       "<tbody>\n",
       "\t<tr><td>Rooibos tea     </td><td>0.9390858023    </td><td> 0.2584239      </td><td>0.3654122       </td><td>0.4724005       </td><td>1.117193e-02    </td><td>0.0177156624    </td><td>0.02809224      </td></tr>\n",
       "\t<tr><td>Cranberry litter</td><td>0.0004111749    </td><td>-1.1554032      </td><td>0.0207501       </td><td>1.1969034       </td><td>4.652317e-06    </td><td>0.0007393424    </td><td>0.11749569      </td></tr>\n",
       "\t<tr><td>Green tea       </td><td>0.9943128412    </td><td> 0.6377774      </td><td>0.6985075       </td><td>0.7592375       </td><td>1.523378e-01    </td><td>0.1979084002    </td><td>0.25711108      </td></tr>\n",
       "</tbody>\n",
       "</table>\n"
      ],
      "text/latex": [
       "\\begin{tabular}{r|llllllll}\n",
       " tea\\_types & r\\_sq & h\\_ll & h & h\\_ul & k1\\_ll & k1 & k1\\_ul\\\\\n",
       "\\hline\n",
       "\t Rooibos tea      & 0.9390858023     &  0.2584239       & 0.3654122        & 0.4724005        & 1.117193e-02     & 0.0177156624     & 0.02809224      \\\\\n",
       "\t Cranberry litter & 0.0004111749     & -1.1554032       & 0.0207501        & 1.1969034        & 4.652317e-06     & 0.0007393424     & 0.11749569      \\\\\n",
       "\t Green tea        & 0.9943128412     &  0.6377774       & 0.6985075        & 0.7592375        & 1.523378e-01     & 0.1979084002     & 0.25711108      \\\\\n",
       "\\end{tabular}\n"
      ],
      "text/markdown": [
       "\n",
       "| tea_types | r_sq | h_ll | h | h_ul | k1_ll | k1 | k1_ul |\n",
       "|---|---|---|---|---|---|---|---|\n",
       "| Rooibos tea      | 0.9390858023     |  0.2584239       | 0.3654122        | 0.4724005        | 1.117193e-02     | 0.0177156624     | 0.02809224       |\n",
       "| Cranberry litter | 0.0004111749     | -1.1554032       | 0.0207501        | 1.1969034        | 4.652317e-06     | 0.0007393424     | 0.11749569       |\n",
       "| Green tea        | 0.9943128412     |  0.6377774       | 0.6985075        | 0.7592375        | 1.523378e-01     | 0.1979084002     | 0.25711108       |\n",
       "\n"
      ],
      "text/plain": [
       "  tea_types        r_sq         h_ll       h         h_ul      k1_ll       \n",
       "1 Rooibos tea      0.9390858023  0.2584239 0.3654122 0.4724005 1.117193e-02\n",
       "2 Cranberry litter 0.0004111749 -1.1554032 0.0207501 1.1969034 4.652317e-06\n",
       "3 Green tea        0.9943128412  0.6377774 0.6985075 0.7592375 1.523378e-01\n",
       "  k1           k1_ul     \n",
       "1 0.0177156624 0.02809224\n",
       "2 0.0007393424 0.11749569\n",
       "3 0.1979084002 0.25711108"
      ]
     },
     "metadata": {},
     "output_type": "display_data"
    }
   ],
   "source": [
    "fractal_kinetics"
   ]
  },
  {
   "cell_type": "markdown",
   "metadata": {},
   "source": [
    "Fractal first order parameters of teas and cranberry litter decomposition under field conditions"
   ]
  },
  {
   "cell_type": "code",
   "execution_count": 229,
   "metadata": {},
   "outputs": [
    {
     "data": {
      "image/png": "[encoded data removed]",
      "text/plain": [
       "plot without title"
      ]
     },
     "metadata": {},
     "output_type": "display_data"
    }
   ],
   "source": [
    "options(repr.plot.width = 10, repr.plot.height = 6)\n",
    "data_median_lm_fractal %>%\n",
    "  ggplot(aes(x = log.time, y  = log.k)) +\n",
    "  geom_point() + geom_smooth(method = \"lm\") +\n",
    "  facet_grid(. ~ `Tea type`) +\n",
    "  geom_text(data = fractal_kinetics %>%\n",
    "              rename(`Tea type`= tea_types),\n",
    "            parse = TRUE,\n",
    "            aes(label = paste(\"italic(h) ==\", round(h, 1), \"%+-%\", round(h-h_ll, 1))),\n",
    "            x = 1.60, y = -2.66) +\n",
    "  geom_text(data = fractal_kinetics %>%\n",
    "              rename(`Tea type`= tea_types),  \n",
    "            parse = TRUE,\n",
    "            aes(label = paste((\"italic(k[1]) ==\"), round(k1, 3), \"%+-%\", round(k1- k1_ll, 3))),\n",
    "            x = 1.60, y = -2.56) +\n",
    "geom_text(data = fractal_kinetics %>%\n",
    "              rename(`Tea type`= tea_types),\n",
    "          parse = TRUE,\n",
    "            aes(label = paste((\"R^2 ==\"), round(r_sq, 2))),\n",
    "            x = 1.5, y = -2.45) +\n",
    "labs(x = expression(paste(\"log.\",italic(\"t\"))), y=expression(paste(\"log.\",italic(\"k\")))) +\n",
    "  theme_bw()\n",
    "ggsave(\"figures/Fractal first order parameters of teas and cranberry litter decomposition under field conditions.png\", width = 8, height = 6, dpi = 80)"
   ]
  },
  {
   "cell_type": "markdown",
   "metadata": {},
   "source": [
    "Mean and standard deviation of first order kinetics"
   ]
  },
  {
   "cell_type": "code",
   "execution_count": 230,
   "metadata": {},
   "outputs": [
    {
     "data": {
      "text/html": [
       "<table>\n",
       "<thead><tr><th scope=col>Tea type</th><th scope=col>time</th><th scope=col>k</th></tr></thead>\n",
       "<tbody>\n",
       "\t<tr><td>Cranberry litter</td><td>79.76172        </td><td>7.491976e-05    </td></tr>\n",
       "\t<tr><td>Green tea       </td><td>81.77885        </td><td>1.148394e-02    </td></tr>\n",
       "\t<tr><td>Rooibos tea     </td><td>81.87459        </td><td>3.977654e-03    </td></tr>\n",
       "</tbody>\n",
       "</table>\n"
      ],
      "text/latex": [
       "\\begin{tabular}{r|lll}\n",
       " Tea type & time & k\\\\\n",
       "\\hline\n",
       "\t Cranberry litter & 79.76172         & 7.491976e-05    \\\\\n",
       "\t Green tea        & 81.77885         & 1.148394e-02    \\\\\n",
       "\t Rooibos tea      & 81.87459         & 3.977654e-03    \\\\\n",
       "\\end{tabular}\n"
      ],
      "text/markdown": [
       "\n",
       "| Tea type | time | k |\n",
       "|---|---|---|\n",
       "| Cranberry litter | 79.76172         | 7.491976e-05     |\n",
       "| Green tea        | 81.77885         | 1.148394e-02     |\n",
       "| Rooibos tea      | 81.87459         | 3.977654e-03     |\n",
       "\n"
      ],
      "text/plain": [
       "  Tea type         time     k           \n",
       "1 Cranberry litter 79.76172 7.491976e-05\n",
       "2 Green tea        81.77885 1.148394e-02\n",
       "3 Rooibos tea      81.87459 3.977654e-03"
      ]
     },
     "metadata": {},
     "output_type": "display_data"
    },
    {
     "data": {
      "text/html": [
       "<table>\n",
       "<thead><tr><th scope=col>Tea type</th><th scope=col>time</th><th scope=col>k</th></tr></thead>\n",
       "<tbody>\n",
       "\t<tr><td>Cranberry litter</td><td>42.02544        </td><td>0.001614161     </td></tr>\n",
       "\t<tr><td>Green tea       </td><td>42.23812        </td><td>0.005593548     </td></tr>\n",
       "\t<tr><td>Rooibos tea     </td><td>42.69211        </td><td>0.001449430     </td></tr>\n",
       "</tbody>\n",
       "</table>\n"
      ],
      "text/latex": [
       "\\begin{tabular}{r|lll}\n",
       " Tea type & time & k\\\\\n",
       "\\hline\n",
       "\t Cranberry litter & 42.02544         & 0.001614161     \\\\\n",
       "\t Green tea        & 42.23812         & 0.005593548     \\\\\n",
       "\t Rooibos tea      & 42.69211         & 0.001449430     \\\\\n",
       "\\end{tabular}\n"
      ],
      "text/markdown": [
       "\n",
       "| Tea type | time | k |\n",
       "|---|---|---|\n",
       "| Cranberry litter | 42.02544         | 0.001614161      |\n",
       "| Green tea        | 42.23812         | 0.005593548      |\n",
       "| Rooibos tea      | 42.69211         | 0.001449430      |\n",
       "\n"
      ],
      "text/plain": [
       "  Tea type         time     k          \n",
       "1 Cranberry litter 42.02544 0.001614161\n",
       "2 Green tea        42.23812 0.005593548\n",
       "3 Rooibos tea      42.69211 0.001449430"
      ]
     },
     "metadata": {},
     "output_type": "display_data"
    }
   ],
   "source": [
    "data_fractal_mean <- aggregate(cbind(time, `k`) ~ `Tea type`, data = data_lm_fractal, FUN = mean)\n",
    "data_fractal_mean\n",
    "data_fractal_sd <- aggregate(cbind(time, `k`) ~ `Tea type`, data = data_lm_fractal, FUN = sd)\n",
    "data_fractal_sd"
   ]
  },
  {
   "cell_type": "markdown",
   "metadata": {},
   "source": [
    "## 11.3.4 Estimation of the carbon decreasing rate of teas and cranberry residue"
   ]
  },
  {
   "cell_type": "markdown",
   "metadata": {},
   "source": [
    "Reaction rate $k_1$ at time t = 1 and fractal coefficient $h$"
   ]
  },
  {
   "cell_type": "code",
   "execution_count": 231,
   "metadata": {},
   "outputs": [],
   "source": [
    "k1_rooibos <- fractal_kinetics %>%\n",
    "  filter(tea_types == \"Rooibos tea\") %>%\n",
    "  pull(k1)\n",
    "\n",
    "k1_green <- fractal_kinetics %>%\n",
    "  filter(tea_types == \"Green tea\") %>%\n",
    "  pull(k1)\n",
    "\n",
    "k1_cranberry <- fractal_kinetics %>%\n",
    "  filter(tea_types == \"Cranberry litter\") %>%\n",
    "  pull(k1)\n",
    "\n",
    "h_rooibos <- fractal_kinetics %>%\n",
    "  filter(tea_types == \"Rooibos tea\") %>%\n",
    "  pull(h)\n",
    "\n",
    "h_green <- fractal_kinetics %>%\n",
    "  filter(tea_types == \"Green tea\") %>%\n",
    "  pull(h)\n",
    "\n",
    "h_cranberry <- fractal_kinetics %>%\n",
    "  filter(tea_types == \"Cranberry litter\") %>%\n",
    "  pull(h)"
   ]
  },
  {
   "cell_type": "markdown",
   "metadata": {},
   "source": [
    "Computing  $k_t$ for each tea type and renaming somes variables to be able to group plot\n",
    "\n",
    "$$k_t = k_1 t^{{-h}}$$"
   ]
  },
  {
   "cell_type": "code",
   "execution_count": 232,
   "metadata": {},
   "outputs": [],
   "source": [
    "data_rate <- data.frame(Prelevement = 1:7) %>%\n",
    "                            mutate(`Time (days)` = Prelevement * 21,\n",
    "                                  `Rate cranberry` = k1_cranberry *  `Time (days)`**-h_cranberry,\n",
    "                                  `Rate rooibos` = k1_rooibos * `Time (days)`**-h_rooibos,\n",
    "                                  `Rate green` = k1_green * `Time (days)`**-h_green) %>%\n",
    "                            rename(`Cranberry litter` = `Rate cranberry`,\n",
    "                                  `Rooibos tea` = `Rate rooibos`,\n",
    "                                   `Green tea` = `Rate green`)"
   ]
  },
  {
   "cell_type": "markdown",
   "metadata": {},
   "source": [
    "Tranforming data_rate into long format data in order to generate the plot"
   ]
  },
  {
   "cell_type": "code",
   "execution_count": 233,
   "metadata": {},
   "outputs": [],
   "source": [
    "data_long <- gather(data = data_rate, key = `tea type`, value = Rate, c(`Cranberry litter`, `Rooibos tea`, `Green tea`),\n",
    "                    factor_key=TRUE)\n",
    "data_long <- data_long %>%\n",
    "             rename(`Litter type`= `tea type`)"
   ]
  },
  {
   "cell_type": "markdown",
   "metadata": {},
   "source": [
    "Plot of litter decomposition rate over time under field conditions"
   ]
  },
  {
   "cell_type": "code",
   "execution_count": 234,
   "metadata": {},
   "outputs": [
    {
     "data": {
      "image/png": "[encoded data removed]",
      "text/plain": [
       "plot without title"
      ]
     },
     "metadata": {},
     "output_type": "display_data"
    }
   ],
   "source": [
    "options(repr.plot.width = 10, repr.plot.height = 6)\n",
    "ggplot(data_long, aes(x = `Time (days)`, y = `Rate`, group = `Litter type`, color = `Litter type`)) +\n",
    "geom_line() +\n",
    "geom_point(aes(shape = `Litter type`), size = 2)+\n",
    "#geom_smooth(method = \"lm\", formula = y ~ poly(x, 6) , color = 'grey', se = FALSE) + \n",
    "labs(x = \"Elapsed time (days)\" , y = expression(\"Decomposition rate (d\"^\" -1\"~\")\"))  +\n",
    "theme(axis.title.x = element_text(size = 14), \n",
    "  axis.title.y = element_text(size = 14),\n",
    "     legend.text=element_text(size=14)) +\n",
    "scale_y_continuous(breaks = 0.002*0:1000,\n",
    "                     expand = expand_scale(add = 0.002)) +\n",
    "scale_x_continuous(breaks = 10*0:1000,\n",
    "                     expand = expand_scale(add = 10)) +\n",
    "theme_bw() +\n",
    "ggsave(\"figures/K(t).png\", width = 6, height = 4, dpi = 120)"
   ]
  },
  {
   "cell_type": "markdown",
   "metadata": {},
   "source": [
    "## 12. **Question 4**: What is the fractal kinetics of litter biochemical composition ?"
   ]
  },
  {
   "cell_type": "markdown",
   "metadata": {},
   "source": [
    "### 12.1 Biochemical composition data analysis \n",
    "Here, we load `data.csv`, `data_fiber_initial.csv` and `data_fiber.csv`available for the project in the `data` folder. The `data_2018.csv` contained incubation tea bag details and soil carateristics from the second essay in 2018; `data_fiber_initial.csv` contained only initial tea bag caracteristics and `data_fiber.csv` contained mostly tea bag biochemical details as soluble, holocellulose and lignin content. \n",
    "We wanted to use only data about `green tea`, `rooibos tea` and `cranberry residu`. In order to do that, we used `subset` function to get `data_subset`"
   ]
  },
  {
   "cell_type": "code",
   "execution_count": 235,
   "metadata": {},
   "outputs": [
    {
     "name": "stderr",
     "output_type": "stream",
     "text": [
      "Using ',' as decimal and '.' as grouping mark. Use read_delim() for more control.\n",
      "Parsed with column specification:\n",
      "cols(\n",
      "  `Iden fiber` = col_character(),\n",
      "  `SOL perc ILR (%)` = col_double(),\n",
      "  `HOLO perc ILR (%)` = col_double(),\n",
      "  `LIC perc ILR (%)` = col_double()\n",
      ")\n",
      "Parsed with column specification:\n",
      "cols(\n",
      "  `Biomass type` = col_character(),\n",
      "  `SOL perc initial (%)` = col_double(),\n",
      "  `HOLO perc initial (%)` = col_double(),\n",
      "  `LIC perc initial (%)` = col_double()\n",
      ")\n"
     ]
    }
   ],
   "source": [
    "data <- read_csv2('data/data_2018.csv', col_types = \"??????????????f????????????????????\")\n",
    "data_fiber <- read_csv('data/data_fiber.csv')\n",
    "data_fiber_initial <- read_csv('data/data_fiber_initial.csv')"
   ]
  },
  {
   "cell_type": "code",
   "execution_count": 236,
   "metadata": {},
   "outputs": [],
   "source": [
    "data_subset <- subset(data,  (`Sampling period (3 weeks)`> 0 & (`Biomass type`== \"Cranberry residu\" | \n",
    "`Biomass type` == \"Green tea\"| `Biomass type` == \"Rooibos tea\")))"
   ]
  },
  {
   "cell_type": "markdown",
   "metadata": {},
   "source": [
    "Join all 3 data with with `left_join` function. The obtained data is called `data_join_02`"
   ]
  },
  {
   "cell_type": "code",
   "execution_count": 237,
   "metadata": {},
   "outputs": [],
   "source": [
    "data_join <- data_subset %>%\n",
    "  left_join(data_fiber, by = 'Iden fiber')\n",
    "\n",
    "data_join_02 <- data_join %>%\n",
    "  left_join(data_fiber_initial, by = 'Biomass type')%>%\n",
    "mutate(`Sample final weight (g)` = as.numeric(`Sample final weight (g)`),\n",
    "       `Sample final weight (g)` = as.numeric(`Sample final weight (g)`),\n",
    "       `Sample final weight (g)` = as.numeric(`Sample final weight (g)`))"
   ]
  },
  {
   "cell_type": "raw",
   "metadata": {},
   "source": [
    "data_join_02$`Final SOL content (g)`"
   ]
  },
  {
   "cell_type": "code",
   "execution_count": null,
   "metadata": {},
   "outputs": [],
   "source": []
  },
  {
   "cell_type": "markdown",
   "metadata": {},
   "source": [
    "## 12.2 Some calculations \n",
    "### Initial and final content of carbon, soluble, holocellulose and lignin"
   ]
  },
  {
   "cell_type": "code",
   "execution_count": 238,
   "metadata": {},
   "outputs": [],
   "source": [
    "data_join_02 <- data_join_02 %>%\n",
    "mutate(`Initial SOL content (g)` = `SOL perc initial (%)` * `Sample initial weight (g)` / 100,\n",
    "       `Initial HOLO content (g)` = `HOLO perc initial (%)` * `Sample initial weight (g)` / 100,\n",
    "       `Initial LIC content (g)` = `LIC perc initial (%)` * `Sample initial weight (g)` / 100,\n",
    "       `Final SOL content (g)` = `SOL perc ILR (%)` * `Sample final weight (g)` / 100,\n",
    "       `Final LIC content (g)` = `LIC perc ILR (%)` * `Sample final weight (g)` / 100,\n",
    "       `Final HOLO content (g)` = `HOLO perc ILR (%)` * `Sample final weight (g)` / 100,\n",
    "       `Initial Hydrolyzable content (g)` = `Initial SOL content (g)` +  `Initial HOLO content (g)`,\n",
    "       `Final Hydrolyzable content (g)` = `Final SOL content (g)` + `Final HOLO content (g)`)"
   ]
  },
  {
   "cell_type": "markdown",
   "metadata": {},
   "source": [
    "### 12.2.1 First order kinetic\n",
    "Here,we compute decomposition rate of carbon, soluble, holocellulose and lignin using first order kinetic."
   ]
  },
  {
   "cell_type": "code",
   "execution_count": 239,
   "metadata": {},
   "outputs": [],
   "source": [
    "kinetics_1st <- function(rw, iw, t) { # first order kinetic function\n",
    "    -log10(rw/iw)/t\n",
    "}"
   ]
  },
  {
   "cell_type": "code",
   "execution_count": 240,
   "metadata": {},
   "outputs": [],
   "source": [
    "data_join_02 <- data_join_02 %>%\n",
    "mutate(`rate SOL` = kinetics_1st(rw = `Final SOL content (g)`,\n",
    "                      iw = `Initial SOL content (g)`,\n",
    "                      t = `Sampling period (3 weeks)` * 21),\n",
    "       `rate HOLO` = kinetics_1st(rw = `Final HOLO content (g)`,\n",
    "                      iw = `Initial HOLO content (g)`,\n",
    "                      t = `Sampling period (3 weeks)` * 21),\n",
    "       `rate LIC` = kinetics_1st(rw = `Final LIC content (g)`,\n",
    "                      iw = `Initial LIC content (g)`,\n",
    "                      t = `Sampling period (3 weeks)` * 21),\n",
    "       `rate Hydrolyzable` = kinetics_1st(rw = `Final Hydrolyzable content (g)`,\n",
    "                      iw = `Initial Hydrolyzable content (g)`,\n",
    "                      t = `Sampling period (3 weeks)` * 21),\n",
    "      `Sampling period (days)` = `Sampling period (3 weeks)` * 21)"
   ]
  },
  {
   "cell_type": "markdown",
   "metadata": {},
   "source": [
    "### 12.2.2 Selection all variables we interested in data_join_02. Our final data is called `data_filtre`"
   ]
  },
  {
   "cell_type": "code",
   "execution_count": 241,
   "metadata": {},
   "outputs": [],
   "source": [
    "na.action = na.exclude\n",
    "data_filtre <- data_join_02 %>%\n",
    "select(`Iden fiber`, `Biomass type`,  `Sampling period (days)`, `Site`, `Producer`,`Repetition`,\n",
    " `Initial SOL content (g)`, `Initial HOLO content (g)`, `Initial LIC content (g)`, `Final SOL content (g)`,`Final HOLO content (g)`, `Final LIC content (g)`,\n",
    "       `Sample final weight (g)`, `Initial Hydrolyzable content (g)`, `Final Hydrolyzable content (g)`,\n",
    "       `rate SOL`, `rate HOLO`, `rate LIC`, `rate Hydrolyzable`) %>% \n",
    "rename(Lignin = `rate LIC`, \n",
    "       Holocelulose = `rate HOLO`, \n",
    "       Soluble = `rate SOL`,\n",
    "       Hydrolyzable = `rate Hydrolyzable`)"
   ]
  },
  {
   "cell_type": "markdown",
   "metadata": {},
   "source": [
    "## 12.3 Linear regressions of materials biochemical composition"
   ]
  },
  {
   "cell_type": "markdown",
   "metadata": {},
   "source": [
    "Transforming `data_filtre` to long format data `data_long` in order to use a `facet_grid` in the plot below"
   ]
  },
  {
   "cell_type": "code",
   "execution_count": 242,
   "metadata": {},
   "outputs": [],
   "source": [
    "data_long <- gather(data = data_filtre, key = `Biochemical composition`, value = `Biochemical decomposition rate`, c(`Soluble`,\n",
    "                                                                                                                    `Lignin`, `Holocelulose`, `Hydrolyzable`),\n",
    "                    factor_key=TRUE)"
   ]
  },
  {
   "cell_type": "markdown",
   "metadata": {},
   "source": [
    "Extract data_long according to biomass type `Rooibos and Green tea`; and Biochemical composition `Lignin and Hydrolyzable` fraction"
   ]
  },
  {
   "cell_type": "code",
   "execution_count": 243,
   "metadata": {},
   "outputs": [],
   "source": [
    "data_long <- subset(data_long, `Biomass type` == \"Green tea\" | `Biomass type` == \"Rooibos tea\")\n",
    "data_long <- subset(data_long, `Biochemical composition` == \"Lignin\" | `Biochemical composition` == \"Hydrolyzable\")"
   ]
  },
  {
   "cell_type": "code",
   "execution_count": 244,
   "metadata": {},
   "outputs": [
    {
     "name": "stderr",
     "output_type": "stream",
     "text": [
      "Warning message:\n",
      "\"production de NaN\""
     ]
    }
   ],
   "source": [
    "data_long <- data_long %>%\n",
    "        mutate(`log.K` = log10(`Biochemical decomposition rate`),\n",
    "                `log.T` = log10(`Sampling period (days)`))"
   ]
  },
  {
   "cell_type": "markdown",
   "metadata": {},
   "source": [
    "Create new facet names for variable `Biochemical composition`"
   ]
  },
  {
   "cell_type": "code",
   "execution_count": 245,
   "metadata": {},
   "outputs": [],
   "source": [
    "New.labs <- c(\"Non-Hydrolyzable\", \"Hydrolyzsable\") \n",
    "names(New.labs) <- c(\"Lignin\", \"Hydrolyzable\")"
   ]
  },
  {
   "cell_type": "markdown",
   "metadata": {},
   "source": [
    "Plot showing the kinetics of decomposition of the hydrolyzable (soluble and holocellulose fractions) and Non-hydrolyzable (Lignin) fraction of green and rooibos teas."
   ]
  },
  {
   "cell_type": "code",
   "execution_count": 246,
   "metadata": {},
   "outputs": [
    {
     "name": "stderr",
     "output_type": "stream",
     "text": [
      "Warning message:\n",
      "\"Removed 1666 rows containing non-finite values (stat_smooth).\"Warning message:\n",
      "\"Removed 1666 rows containing missing values (geom_point).\"Warning message:\n",
      "\"Removed 1666 rows containing non-finite values (stat_smooth).\"Warning message:\n",
      "\"Removed 1666 rows containing missing values (geom_point).\""
     ]
    },
    {
     "data": {
      "image/png": "[encoded data removed]",
      "text/plain": [
       "plot without title"
      ]
     },
     "metadata": {},
     "output_type": "display_data"
    }
   ],
   "source": [
    "options(repr.plot.width = 10, repr.plot.height = 6)\n",
    "ggplot(data_long, aes(x =  `Sampling period (days)`, y = `Biochemical decomposition rate`)) +\n",
    "facet_grid( `Biochemical composition` ~ `Biomass type`, scales = \"free\",\n",
    "           labeller = labeller(`Biochemical composition` = New.labs)) +\n",
    "geom_smooth(method = \"lm\" , color = 'black', se = FALSE) + \n",
    "labs(x = \"Time (days)\" , y = \"Biochemical decomposition rate\") +\n",
    "theme(axis.title.x = element_text(size = 18, face = \"bold\"), \n",
    "  axis.title.y = element_text(size = 18, face = \"bold\"),\n",
    "     legend.text=element_text(size=14, face = \"bold\")) +\n",
    "ylim(-0.05, 0.05) +\n",
    "theme_bw() +\n",
    "  geom_point(size = 1, alpha = 0.5, pch = 21, fill = \"white\") \n",
    "ggsave(\"figures/Linear regression of Biochemical decomposition rate.png\", width = 8, height = 6, dpi = 80)"
   ]
  },
  {
   "cell_type": "markdown",
   "metadata": {},
   "source": [
    "## 12.4 Biochemical fractal kinetics"
   ]
  },
  {
   "cell_type": "markdown",
   "metadata": {},
   "source": [
    "Selection of all variables needed in `data_lm_fractal_biochemical`"
   ]
  },
  {
   "cell_type": "code",
   "execution_count": 247,
   "metadata": {},
   "outputs": [],
   "source": [
    "data_lm_fractal_biochemical <- data_long %>%\n",
    "  select(`Biomass type`, `Biochemical decomposition rate`, `log.T`, `log.K`, `Biochemical composition`, `Sampling period (days)`)"
   ]
  },
  {
   "cell_type": "markdown",
   "metadata": {},
   "source": [
    "Then, we create data to store the results `intercept`, `slope` and r square `r_sq`"
   ]
  },
  {
   "cell_type": "code",
   "execution_count": 248,
   "metadata": {},
   "outputs": [],
   "source": [
    "fractal_biochemical_kinetics <- tibble(\n",
    "    `Biomass type` = c(\"Green tea\", \"Rooibos tea\", \"Green tea\", \"Rooibos tea\"),\n",
    "    Biochemical_composition = c(rep(\"Lignin\", 2), rep(\"Hydrolyzable\", 2)),\n",
    "    intercept_ll = NA,\n",
    "    intercept = NA,\n",
    "    intercept_ul = NA,\n",
    "    slope_ll = NA,\n",
    "    slope = NA,\n",
    "    slope_ul = NA,\n",
    "    r_sq = NA\n",
    ")"
   ]
  },
  {
   "cell_type": "markdown",
   "metadata": {},
   "source": [
    "```\n",
    "lm(log.K ~ log.T)\n",
    "K1 = 10^intercept\n",
    "h = -slope\n",
    "```\n"
   ]
  },
  {
   "cell_type": "markdown",
   "metadata": {},
   "source": [
    "Computation of median value of `log.time` and `log.k` by `time` and `tea type` to determine `h`"
   ]
  },
  {
   "cell_type": "code",
   "execution_count": 249,
   "metadata": {},
   "outputs": [],
   "source": [
    "data_median_fractal_biochemical <- aggregate(cbind(`log.T`, `log.K`) ~ `Sampling period (days)` + \n",
    "                                             `Biomass type` + `Biochemical composition`, \n",
    "                                             data = data_lm_fractal_biochemical, \n",
    "                                             FUN = median)"
   ]
  },
  {
   "cell_type": "markdown",
   "metadata": {},
   "source": [
    "Applying `lm` in a loop `for` in order to compute `h`, r square `r_sq` and `k1`; by `Biomass type` and `Biochemical composition`"
   ]
  },
  {
   "cell_type": "code",
   "execution_count": 250,
   "metadata": {},
   "outputs": [],
   "source": [
    "conf_level <- 0.95\n",
    "\n",
    "for (i in 1:nrow(fractal_biochemical_kinetics)) {\n",
    "    \n",
    "    lm_fractal <- data_median_fractal_biochemical %>%\n",
    "      filter((`Biomass type` == fractal_biochemical_kinetics$`Biomass type`[i]) &\n",
    "             (`Biochemical composition` == fractal_biochemical_kinetics$Biochemical_composition[i])) %>%\n",
    "      lm(`log.K` ~ `log.T`, data = .)\n",
    "    \n",
    "    # interept\n",
    "    fractal_biochemical_kinetics$intercept_ll[i] <- confint(lm_fractal, level = conf_level)[1, 1]\n",
    "    fractal_biochemical_kinetics$intercept[i] <- coef(lm_fractal)[1]\n",
    "    fractal_biochemical_kinetics$intercept_ul[i] <- confint(lm_fractal, level = conf_level)[1, 2]\n",
    "    \n",
    "    # slope\n",
    "    fractal_biochemical_kinetics$slope_ll[i] <- confint(lm_fractal, level = conf_level)[2, 1]\n",
    "    fractal_biochemical_kinetics$slope[i] <- coef(lm_fractal)[2]\n",
    "    fractal_biochemical_kinetics$slope_ul[i] <- confint(lm_fractal, level = conf_level)[2, 2]\n",
    "    \n",
    "    # statistics\n",
    "    fractal_biochemical_kinetics$r_sq[i] <- summary(lm_fractal)$r.squared    \n",
    "}"
   ]
  },
  {
   "cell_type": "markdown",
   "metadata": {},
   "source": [
    "Computation of `h`, r square `r_sq` and `k1`; by `Biomass type` and `Biochemical composition`"
   ]
  },
  {
   "cell_type": "code",
   "execution_count": 251,
   "metadata": {},
   "outputs": [
    {
     "data": {
      "text/html": [
       "<table>\n",
       "<thead><tr><th scope=col>Biomass type</th><th scope=col>Biochemical_composition</th><th scope=col>r_sq</th><th scope=col>h_ll</th><th scope=col>h</th><th scope=col>h_ul</th><th scope=col>k1_ll</th><th scope=col>k1</th><th scope=col>k1_ul</th></tr></thead>\n",
       "<tbody>\n",
       "\t<tr><td>Green tea   </td><td>Lignin      </td><td>0.9516462   </td><td> 0.70350580 </td><td>0.9495719   </td><td>1.1956380   </td><td>0.0885222069</td><td>0.25560310  </td><td> 0.73804015 </td></tr>\n",
       "\t<tr><td>Rooibos tea </td><td>Lignin      </td><td>0.6150621   </td><td>-0.13331043 </td><td>1.3570685   </td><td>2.8474473   </td><td>0.0001371925</td><td>0.09628857  </td><td>67.58014716 </td></tr>\n",
       "\t<tr><td>Green tea   </td><td>Hydrolyzable</td><td>0.9610390   </td><td> 0.47026946 </td><td>0.6119060   </td><td>0.7535426   </td><td>0.0317590141</td><td>0.05847100  </td><td> 0.10765000 </td></tr>\n",
       "\t<tr><td>Rooibos tea </td><td>Hydrolyzable</td><td>0.6724302   </td><td> 0.08026771 </td><td>0.4061517   </td><td>0.7320357   </td><td>0.0031553935</td><td>0.01285130  </td><td> 0.05234079 </td></tr>\n",
       "</tbody>\n",
       "</table>\n"
      ],
      "text/latex": [
       "\\begin{tabular}{r|lllllllll}\n",
       " Biomass type & Biochemical\\_composition & r\\_sq & h\\_ll & h & h\\_ul & k1\\_ll & k1 & k1\\_ul\\\\\n",
       "\\hline\n",
       "\t Green tea    & Lignin       & 0.9516462    &  0.70350580  & 0.9495719    & 1.1956380    & 0.0885222069 & 0.25560310   &  0.73804015 \\\\\n",
       "\t Rooibos tea  & Lignin       & 0.6150621    & -0.13331043  & 1.3570685    & 2.8474473    & 0.0001371925 & 0.09628857   & 67.58014716 \\\\\n",
       "\t Green tea    & Hydrolyzable & 0.9610390    &  0.47026946  & 0.6119060    & 0.7535426    & 0.0317590141 & 0.05847100   &  0.10765000 \\\\\n",
       "\t Rooibos tea  & Hydrolyzable & 0.6724302    &  0.08026771  & 0.4061517    & 0.7320357    & 0.0031553935 & 0.01285130   &  0.05234079 \\\\\n",
       "\\end{tabular}\n"
      ],
      "text/markdown": [
       "\n",
       "| Biomass type | Biochemical_composition | r_sq | h_ll | h | h_ul | k1_ll | k1 | k1_ul |\n",
       "|---|---|---|---|---|---|---|---|---|\n",
       "| Green tea    | Lignin       | 0.9516462    |  0.70350580  | 0.9495719    | 1.1956380    | 0.0885222069 | 0.25560310   |  0.73804015  |\n",
       "| Rooibos tea  | Lignin       | 0.6150621    | -0.13331043  | 1.3570685    | 2.8474473    | 0.0001371925 | 0.09628857   | 67.58014716  |\n",
       "| Green tea    | Hydrolyzable | 0.9610390    |  0.47026946  | 0.6119060    | 0.7535426    | 0.0317590141 | 0.05847100   |  0.10765000  |\n",
       "| Rooibos tea  | Hydrolyzable | 0.6724302    |  0.08026771  | 0.4061517    | 0.7320357    | 0.0031553935 | 0.01285130   |  0.05234079  |\n",
       "\n"
      ],
      "text/plain": [
       "  Biomass type Biochemical_composition r_sq      h_ll        h        \n",
       "1 Green tea    Lignin                  0.9516462  0.70350580 0.9495719\n",
       "2 Rooibos tea  Lignin                  0.6150621 -0.13331043 1.3570685\n",
       "3 Green tea    Hydrolyzable            0.9610390  0.47026946 0.6119060\n",
       "4 Rooibos tea  Hydrolyzable            0.6724302  0.08026771 0.4061517\n",
       "  h_ul      k1_ll        k1         k1_ul      \n",
       "1 1.1956380 0.0885222069 0.25560310  0.73804015\n",
       "2 2.8474473 0.0001371925 0.09628857 67.58014716\n",
       "3 0.7535426 0.0317590141 0.05847100  0.10765000\n",
       "4 0.7320357 0.0031553935 0.01285130  0.05234079"
      ]
     },
     "metadata": {},
     "output_type": "display_data"
    }
   ],
   "source": [
    "fractal_biochemical_kinetics <- fractal_biochemical_kinetics %>%\n",
    "  mutate(h_ll = -slope_ul,\n",
    "         h = -slope,\n",
    "         h_ul = -slope_ll,\n",
    "         k1_ll = 10^intercept_ll,\n",
    "         k1 = 10^intercept,\n",
    "         k1_ul = 10^intercept_ul) %>%\n",
    "  select(`Biomass type`,\n",
    "         Biochemical_composition,\n",
    "         r_sq,\n",
    "         h_ll, h, h_ul,\n",
    "         k1_ll, k1, k1_ul)\n",
    "fractal_biochemical_kinetics"
   ]
  },
  {
   "cell_type": "markdown",
   "metadata": {},
   "source": [
    "Fractal first order parameters of decomposition of teas biochemicals compositions under field conditions"
   ]
  },
  {
   "cell_type": "code",
   "execution_count": 252,
   "metadata": {},
   "outputs": [
    {
     "data": {
      "image/png": "[encoded data removed]",
      "text/plain": [
       "plot without title"
      ]
     },
     "metadata": {},
     "output_type": "display_data"
    }
   ],
   "source": [
    "options(repr.plot.width = 10, repr.plot.height = 6)\n",
    "data_median_fractal_biochemical %>%\n",
    "  ggplot(aes(x = log.T, y  = log.K)) +\n",
    "  geom_point() + geom_smooth(method = \"lm\") +\n",
    "  facet_grid(`Biochemical composition` ~ `Biomass type`, labeller = labeller(`Biochemical composition` = New.labs)) +\n",
    "  geom_text(data = fractal_biochemical_kinetics %>%\n",
    "              rename(`Biochemical composition`= Biochemical_composition),\n",
    "            parse = TRUE,\n",
    "            aes(label = paste(\"italic(h) ==\", round(h, 1), \"%+-%\", round(h-h_ll, 1))),\n",
    "            x = 1.5, y = -4.5) +\n",
    "  geom_text(data = fractal_biochemical_kinetics%>%\n",
    "              rename(`Biochemical composition`= Biochemical_composition),  \n",
    "            parse = TRUE,\n",
    "            aes(label = paste(\"italic(k[1]) ==\", round(k1, 3), \"%+-%\", round(k1-k1_ll, 3))),\n",
    "            x = 1.5, y = -4.25) +\n",
    "\n",
    "geom_text(data = fractal_biochemical_kinetics %>%\n",
    "              rename(`Biochemical composition`= Biochemical_composition),\n",
    "          parse = TRUE,\n",
    "          aes(label = paste((\"R^2 ==\"), round(r_sq, 2))),                 \n",
    "           x = 1.5, y = -4) + \n",
    "labs(x = expression(paste(\"log.\", italic(\"t\"))), y = expression(paste(\"log.\", italic(\"k\")))) +\n",
    "  theme_bw()\n",
    "ggsave(\"figures/Fractal first order parameters of decomposition of teas biochemicals compositions under field conditions.png\", width = 8, height = 6, dpi = 80)"
   ]
  }
 ],
 "metadata": {
  "kernelspec": {
   "display_name": "R",
   "language": "R",
   "name": "ir"
  },
  "language_info": {
   "codemirror_mode": "r",
   "file_extension": ".r",
   "mimetype": "text/x-r-source",
   "name": "R",
   "pygments_lexer": "r",
   "version": "3.6.1"
  }
 },
 "nbformat": 4,
 "nbformat_minor": 4
}
