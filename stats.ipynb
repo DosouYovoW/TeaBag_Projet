{
 "cells": [
  {
   "cell_type": "markdown",
   "metadata": {},
   "source": [
    "**Tea Bag Index to assess carbon decomposition rate in cranberry agroecosystems**\n",
    "\n",
    "*Wilfried Dossou-Yovo, Serge Étienne Parent, Noura Ziadi, Élizabeth Parent and Léon Étienne Parent*"
   ]
  },
  {
   "cell_type": "code",
   "execution_count": 1,
   "metadata": {},
   "outputs": [
    {
     "name": "stdout",
     "output_type": "stream",
     "text": [
      "[1] \"2021-07-26\"\n"
     ]
    }
   ],
   "source": [
    "print(Sys.Date())"
   ]
  },
  {
   "cell_type": "markdown",
   "metadata": {},
   "source": [
    "Table of content"
   ]
  },
  {
   "cell_type": "markdown",
   "metadata": {},
   "source": [
    "# Objective"
   ]
  },
  {
   "cell_type": "markdown",
   "metadata": {},
   "source": [
    "This notebook generates the results included in the manuscript *Organic matter decomposition kinetics in cranberry agroecosystem using the Tea Bag Index*. Two trials have been made, first one in 2017 (data_2017.csv) and the second in 2018 (data_2018.csv). Data set from trials are a collection of incubated tea bag weight, nitrogen, carbon and sulfur content, nitrogen type and doses on trials fieds. The aim of this study was to assess carbon release rate in cranberry agroecosystems\n",
    "compared to other terrestrial ecosystems"
   ]
  },
  {
   "cell_type": "markdown",
   "metadata": {},
   "source": [
    "# Statistical questions\n",
    "\n",
    "his notebook will answer the following statistical questions.\n",
    "\n",
    "1. What is the influence of nitrogen fertilization on TBI parameters (k and S)?\n",
    "2. Where cranberry soils are placed among the axes of the *TBI*?\n",
    "3. What is the fractal kinetics of litter matterials ?\n",
    "4. What is the fractal kinetics of litter biochemical composition ?"
   ]
  },
  {
   "cell_type": "markdown",
   "metadata": {},
   "source": [
    "## Packages and Function"
   ]
  },
  {
   "cell_type": "markdown",
   "metadata": {},
   "source": [
    "### Packages"
   ]
  },
  {
   "cell_type": "markdown",
   "metadata": {},
   "source": [
    "We need package [plyr](https://www.rdocumentation.org/packages/plyr/versions/1.8.6) and [tidyverse](https://www.tidyverse.org/) for easy data manipulation. [tidyverse](https://www.tidyverse.org/) load a set of packages such as [dplyr](https://www.rdocumentation.org/packages/dplyr/versions/0.7.8) for data manipulation and [ggplot2](https://www.rdocumentation.org/packages/ggplot2/versions/3.2.1) for data visualization. A set of other packages is used: [nlme](https://www.rdocumentation.org/packages/nlme/versions/3.1-143/topics/nlme) for fitting nonlinear mixed-effects models, the [broom](https://www.rdocumentation.org/packages/broom/versions/0.7.0) package summarises model outputs in a \"tidy\" way, [e1071](https://www.rdocumentation.org/packages/e1071/versions/1.7-3) to test distributions, [ggmap](https://www.rdocumentation.org/packages/ggmap/versions/3.0.0) for mapping, [ggrepel](https://www.rdocumentation.org/packages/ggrepel/versions/0.8.1) to avoid text overlaping on ggplot2, [patchwork](https://www.rdocumentation.org/packages/patchwork/versions/1.0.0/topics/patchwork-package) to assemble plots in grids."
   ]
  },
  {
   "cell_type": "code",
   "execution_count": 1,
   "metadata": {},
   "outputs": [
    {
     "ename": "ERROR",
     "evalue": "Error: package or namespace load failed for ‘tidyverse’:\n .onAttach failed in attachNamespace() for 'tidyverse', details:\n  call: library.dynam(lib, package, package.lib)\n  error: shared object ‘cli.dylib’ not found\n",
     "output_type": "error",
     "traceback": [
      "Error: package or namespace load failed for ‘tidyverse’:\n .onAttach failed in attachNamespace() for 'tidyverse', details:\n  call: library.dynam(lib, package, package.lib)\n  error: shared object ‘cli.dylib’ not found\nTraceback:\n",
      "1. library(\"tidyverse\")",
      "2. tryCatch({\n .     attr(package, \"LibPath\") <- which.lib.loc\n .     ns <- loadNamespace(package, lib.loc)\n .     env <- attachNamespace(ns, pos = pos, deps, exclude, include.only)\n . }, error = function(e) {\n .     P <- if (!is.null(cc <- conditionCall(e))) \n .         paste(\" in\", deparse(cc)[1L])\n .     else \"\"\n .     msg <- gettextf(\"package or namespace load failed for %s%s:\\n %s\", \n .         sQuote(package), P, conditionMessage(e))\n .     if (logical.return) \n .         message(paste(\"Error:\", msg), domain = NA)\n .     else stop(msg, call. = FALSE, domain = NA)\n . })",
      "3. tryCatchList(expr, classes, parentenv, handlers)",
      "4. tryCatchOne(expr, names, parentenv, handlers[[1L]])",
      "5. value[[3L]](cond)",
      "6. stop(msg, call. = FALSE, domain = NA)"
     ]
    }
   ],
   "source": [
    "#install.packages(c(\"e1071\", \"ggmap\", \"ggrepel\", \"patchwork\", \"tidyverse\"))\n",
    "library(\"plyr\")\n",
    "library(\"tidyverse\")\n",
    "library(\"nlme\")\n",
    "library(\"broom\")\n",
    "library(\"e1071\")\n",
    "library(\"ggmap\")\n",
    "library(\"ggrepel\")\n",
    "library(\"patchwork\")"
   ]
  },
  {
   "cell_type": "markdown",
   "metadata": {},
   "source": [
    "## Some custom functions.\n",
    "### Pseudo R-square\n",
    "Pseudo R-square allows to measure how well variables of our model explain organic matter decomposition"
   ]
  },
  {
   "cell_type": "code",
   "execution_count": null,
   "metadata": {},
   "outputs": [],
   "source": [
    "pseudoR2 <- function(y, y_hat) {\n",
    "  1 - (sum((y - y_hat)^2) / sum((y - mean(y))^2))\n",
    "}\n",
    "\n",
    "# Residuals\n",
    "residues <- function(model, level = 0, computeResidues = TRUE, residues,\n",
    "                   main = \"\") {\n",
    "  if (computeResidues) {\n",
    "    r = residuals(model, type=\"normalized\", level)\n",
    "  } else {\n",
    "    r = residues\n",
    "  }\n",
    "  hist(r, freq=F, main = main, breaks=20)\n",
    "  xfit<-seq(min(r),max(r),length=40)\n",
    "  yfit<-dnorm(xfit)\n",
    "  lines(xfit, yfit, col=\"red\", lwd=2)\n",
    "  print(\"Shapiro-Wilk:\")\n",
    "  print(shapiro.test(r))\n",
    "  print(paste(\"Kurtosis:\", kurtosis(r)))\n",
    "  print(paste(\"Skewness:\", skewness(r)))\n",
    "}"
   ]
  },
  {
   "cell_type": "markdown",
   "metadata": {},
   "source": [
    "## Import data\n",
    "Here, we load our data `data_2017.csv` available for the project in the `data` folder."
   ]
  },
  {
   "cell_type": "code",
   "execution_count": null,
   "metadata": {},
   "outputs": [],
   "source": [
    "df <- read_csv2(\"data/data_2017.csv\")\n",
    "df"
   ]
  },
  {
   "cell_type": "markdown",
   "metadata": {},
   "source": [
    "## Mapping experimental sites"
   ]
  },
  {
   "cell_type": "markdown",
   "metadata": {},
   "source": [
    "We design a map of our four experimental sites with geographical position collected from Stamen maps. Warnings appear, but it seems its a bug that comes out when mixing ggmap and geom_label_repel."
   ]
  },
  {
   "cell_type": "code",
   "execution_count": null,
   "metadata": {},
   "outputs": [],
   "source": [
    "arrowA <- data.frame(x1 = -58 , x2 = -70.5, y1 = 44, y2 = 46)\n",
    "# table including sites and their geograhic position\n",
    "sites <- tibble(names = c(\"Site #45\", \"Site #9\", \"Site #A9\", \"Site #10\"),\n",
    "                lat = c(46.2759555, 46.2759555, 46.2329064, 46.3277404),\n",
    "                lon = c(-71.8584291, -71.8584291, -72.0461854, -71.7486645))"
   ]
  },
  {
   "cell_type": "code",
   "execution_count": null,
   "metadata": {},
   "outputs": [],
   "source": [
    "options(repr.plot.width = 12, repr.plot.height = 10)\n",
    "par(mar = c(4, 4, 0.1, 0.1)) \n",
    "# create two frames, one for zoom out, the other for zoom in\n",
    "frame_map_zoom_out <- c(left = -81, bottom = 40, right = -58, top = 50)\n",
    "frame_map_zoom_in <- c(left = -73, bottom = 46, right = -70, top = 47)\n",
    "\n",
    "# to draw the zoom in frame on the zoom out map\n",
    "rect_zoom <- data.frame(t(data.frame(frame_map_zoom_in)))\n",
    "\n",
    "# the map with zoom out\n",
    "map_out <- get_stamenmap(frame_map_zoom_out, zoom = 4, maptype = \"toner-lite\") %>%\n",
    "  ggmap() +\n",
    "  geom_rect(data = rect_zoom, aes(xmin = left, xmax = right,\n",
    "                                  ymin = bottom, ymax = top, \n",
    "                                  x = NULL, y = NULL),\n",
    "            fill = rgb(0, 0, 0, 0.2), colour = \"black\") +\n",
    "  #geom_label_repel(data = sites, aes(x = lon, y = lat, label = names), size = 8) +\n",
    "  labs(x = \"Longitude\", y = \"Latitude\", title = \"A\") +\n",
    "theme(strip.text = element_text(size = 14), axis.text=element_text(size=12, face = \"bold\"),\n",
    "        axis.title=element_text(size=14)) +\n",
    "geom_segment(data=arrowA, aes(x=x1, y=y1, xend=x2, yend=y2), \n",
    "         arrow=arrow(ends=\"first\"), colour=\"black\", lineend = \"round\") \n",
    "# the map with zoom in\n",
    "map_in <- get_stamenmap(frame_map_zoom_in, zoom = 8, maptype = \"toner-lite\") %>% # toner-lite\n",
    "  ggmap() +\n",
    "  geom_label_repel(data = sites, aes(x = lon, y = lat, label = names), size = 5, nudge_x = 0.5,\n",
    "  nudge_y = 0.01, box.padding = 1.001, label.padding = 0.25, segment.linetype = 5) +\n",
    " geom_point(aes(x = lon, y = lat), data = sites, size = 2.5) +\n",
    "  labs(x = \"Longitude\", y = \"Latitude\", title = \"B\") +\n",
    "theme(strip.text = element_text(size = 14), axis.text=element_text(size=12, face = \"bold\"),\n",
    "        axis.title=element_text(size=14)) \n",
    "map_in"
   ]
  },
  {
   "cell_type": "code",
   "execution_count": null,
   "metadata": {},
   "outputs": [
    {
     "name": "stderr",
     "output_type": "stream",
     "text": [
      "Warning message in min(x):\n",
      "\"aucun argument trouvé pour min ; Inf est renvoyé\"\n",
      "Warning message in max(x):\n",
      "\"aucun argument pour max ; -Inf est renvoyé\"\n",
      "Warning message in min(x):\n",
      "\"aucun argument trouvé pour min ; Inf est renvoyé\"\n",
      "Warning message in max(x):\n",
      "\"aucun argument pour max ; -Inf est renvoyé\"\n"
     ]
    }
   ],
   "source": [
    "options(repr.plot.width = 10, repr.plot.height = 3)\n",
    "maps_ <- map_out +  map_in \n",
    "maps_  \n",
    "ggsave(\"figures/site_map.png\", plot = maps_, width = 10, height = 3, dpi = 1200)"
   ]
  },
  {
   "cell_type": "markdown",
   "metadata": {},
   "source": [
    "## Monthly weather data (2008-2018) at Lemieux, Quebec (46° 09′ 56″ N 72° 19′ 28″ W), for experimental sites (Gouvernement du Canada, 2018)"
   ]
  },
  {
   "cell_type": "markdown",
   "metadata": {},
   "source": [
    "### Import data weather\n",
    "\n",
    "`Data weather` has been collected from environnement canada. The content is the collection of data history about temperature and precipitation from years of field trial (2017 and 2018) and 10 years average (2008 to 2018)."
   ]
  },
  {
   "cell_type": "code",
   "execution_count": 8,
   "metadata": {},
   "outputs": [
    {
     "name": "stderr",
     "output_type": "stream",
     "text": [
      "\u001b[36mi\u001b[39m Using \u001b[34m\u001b[34m','\u001b[34m\u001b[39m as decimal and \u001b[34m\u001b[34m'.'\u001b[34m\u001b[39m as grouping mark. Use \u001b[30m\u001b[47m\u001b[30m\u001b[47m`read_delim()`\u001b[47m\u001b[30m\u001b[49m\u001b[39m for more control.\n",
      "\n",
      "\n",
      "\u001b[36m--\u001b[39m \u001b[1m\u001b[1mColumn specification\u001b[1m\u001b[22m \u001b[36m--------------------------------------------------------\u001b[39m\n",
      "cols(\n",
      "  Years = \u001b[31mcol_character()\u001b[39m,\n",
      "  Months = \u001b[31mcol_character()\u001b[39m,\n",
      "  `Precipitations (mm)` = \u001b[32mcol_double()\u001b[39m,\n",
      "  `Temperatures (<U+623C><U+3E30>C)` = \u001b[32mcol_double()\u001b[39m\n",
      ")\n",
      "\n",
      "\n"
     ]
    }
   ],
   "source": [
    "df_weather <- read_csv2(\"data/data_weather.csv\")"
   ]
  },
  {
   "cell_type": "markdown",
   "metadata": {},
   "source": [
    "### Plot weather data"
   ]
  },
  {
   "cell_type": "code",
   "execution_count": 9,
   "metadata": {},
   "outputs": [
    {
     "data": {
      "image/png": "[encoded data removed]",
      "text/plain": [
       "plot without title"
      ]
     },
     "metadata": {
      "image/png": {
       "height": 180,
       "width": 600
      }
     },
     "output_type": "display_data"
    }
   ],
   "source": [
    "df_weather$Months <- factor(df_weather$Months,levels = c(\"June\", \"July\", \"August\", \"September\")) #  Sorting bars by Months\n",
    "\n",
    "df_weather_long <- df_weather %>%\n",
    "  pivot_longer(cols = -c(Years, Months))\n",
    "\n",
    "Weather <- df_weather_long %>%\n",
    "  filter(Years %in% c(\"2017\", \"2018\", \"10 Years average\")) %>%\n",
    "  ggplot(aes(x = `Months`, y = value)) +\n",
    "  facet_grid(name ~ ., scales = \"free\", switch = \"y\") +\n",
    "  geom_bar(aes(fill= Years), colour = \"black\", stat=\"identity\", position=\"dodge\") +\n",
    "  theme_bw() +\n",
    "scale_fill_manual(values = c(\"black\",\"white\",\"grey\")) +\n",
    "  theme(axis.title.y = element_blank(),\n",
    "        strip.background = element_rect(fill = \"transparent\", colour = \"transparent\"),\n",
    "        strip.placement = \"outside\", text = element_text(size = 10))\n",
    "Weather\n",
    "ggsave(\"figures/Weather.png\", plot = Weather, width = 5, height = 3, dpi = 120)"
   ]
  },
  {
   "cell_type": "markdown",
   "metadata": {},
   "source": [
    "## Compute the 1st order kinetics"
   ]
  },
  {
   "cell_type": "markdown",
   "metadata": {},
   "source": [
    "Weight loss rate has been estimated with the function\n",
    "\n",
    "$k_1 = \\frac{-ln \\left( \\frac{M(t)}{M_0} \\right) }{t}$,\n",
    "\n",
    "where $M_0$ is initial litter organic mass, $M(t)$ is litter organic mass that remains after incubation time $t = 90~days$, and $k_1$ is decomposition rate. "
   ]
  },
  {
   "cell_type": "code",
   "execution_count": null,
   "metadata": {},
   "outputs": [],
   "source": [
    "kinetics_1st <- function(rw, iw, t) { # First order kinetic function\n",
    "    -log(rw/iw)/t\n",
    "}"
   ]
  },
  {
   "cell_type": "markdown",
   "metadata": {},
   "source": [
    "We can compute `k1` for each row of the `df` table."
   ]
  },
  {
   "cell_type": "code",
   "execution_count": 11,
   "metadata": {},
   "outputs": [],
   "source": [
    "df$k1 <- kinetics_1st(rw = df$`Remaining tea weight (g)`,\n",
    "                      iw = df$`Initial tea weight (g)`,\n",
    "                      t = 90)"
   ]
  },
  {
   "cell_type": "markdown",
   "metadata": {},
   "source": [
    "## Data exploration"
   ]
  },
  {
   "cell_type": "markdown",
   "metadata": {},
   "source": [
    "Computation of mean and standard deviation of two points (0-90 days) decomposition rate k1"
   ]
  },
  {
   "cell_type": "code",
   "execution_count": 12,
   "metadata": {},
   "outputs": [
    {
     "data": {
      "text/html": [
       "<table class=\"dataframe\">\n",
       "<caption>A data.frame: 3 × 3</caption>\n",
       "<thead>\n",
       "\t<tr><th scope=col>Tea type</th><th scope=col>mean_k1</th><th scope=col>sd_C_over_N</th></tr>\n",
       "\t<tr><th scope=col>&lt;chr&gt;</th><th scope=col>&lt;dbl&gt;</th><th scope=col>&lt;dbl&gt;</th></tr>\n",
       "</thead>\n",
       "<tbody>\n",
       "\t<tr><td>Cranberry litter</td><td>0.0003861851</td><td>0.0008616747</td></tr>\n",
       "\t<tr><td>Green tea       </td><td>0.0097544883</td><td>0.0016809129</td></tr>\n",
       "\t<tr><td>Rooibos tea     </td><td>0.0033459356</td><td>0.0008833296</td></tr>\n",
       "</tbody>\n",
       "</table>\n"
      ],
      "text/latex": [
       "A data.frame: 3 × 3\n",
       "\\begin{tabular}{lll}\n",
       " Tea type & mean\\_k1 & sd\\_C\\_over\\_N\\\\\n",
       " <chr> & <dbl> & <dbl>\\\\\n",
       "\\hline\n",
       "\t Cranberry litter & 0.0003861851 & 0.0008616747\\\\\n",
       "\t Green tea        & 0.0097544883 & 0.0016809129\\\\\n",
       "\t Rooibos tea      & 0.0033459356 & 0.0008833296\\\\\n",
       "\\end{tabular}\n"
      ],
      "text/markdown": [
       "\n",
       "A data.frame: 3 × 3\n",
       "\n",
       "| Tea type &lt;chr&gt; | mean_k1 &lt;dbl&gt; | sd_C_over_N &lt;dbl&gt; |\n",
       "|---|---|---|\n",
       "| Cranberry litter | 0.0003861851 | 0.0008616747 |\n",
       "| Green tea        | 0.0097544883 | 0.0016809129 |\n",
       "| Rooibos tea      | 0.0033459356 | 0.0008833296 |\n",
       "\n"
      ],
      "text/plain": [
       "  Tea type         mean_k1      sd_C_over_N \n",
       "1 Cranberry litter 0.0003861851 0.0008616747\n",
       "2 Green tea        0.0097544883 0.0016809129\n",
       "3 Rooibos tea      0.0033459356 0.0008833296"
      ]
     },
     "metadata": {},
     "output_type": "display_data"
    }
   ],
   "source": [
    "k1_meanSD <- ddply(df, ~ `Tea type`,\n",
    "      summarise, mean_k1 = mean(`k1`, na.rm = TRUE),sd_C_over_N=sd(`k1`,  na.rm = TRUE))\n",
    "k1_meanSD"
   ]
  },
  {
   "cell_type": "markdown",
   "metadata": {},
   "source": [
    "Computation of mean and standard deviation of initial and remaining tea weight after 90 days incubations time"
   ]
  },
  {
   "cell_type": "code",
   "execution_count": 13,
   "metadata": {},
   "outputs": [
    {
     "data": {
      "text/html": [
       "<table class=\"dataframe\">\n",
       "<caption>A data.frame: 3 × 5</caption>\n",
       "<thead>\n",
       "\t<tr><th scope=col>Tea type</th><th scope=col>mean_Initial_weight</th><th scope=col>sd_Initial_weight</th><th scope=col>mean_Remaining_weight</th><th scope=col>sd_Remaining_weight</th></tr>\n",
       "\t<tr><th scope=col>&lt;chr&gt;</th><th scope=col>&lt;dbl&gt;</th><th scope=col>&lt;dbl&gt;</th><th scope=col>&lt;dbl&gt;</th><th scope=col>&lt;dbl&gt;</th></tr>\n",
       "</thead>\n",
       "<tbody>\n",
       "\t<tr><td>Cranberry litter</td><td>1.908767</td><td>0.01567869</td><td>1.8492927</td><td>0.1329799</td></tr>\n",
       "\t<tr><td>Green tea       </td><td>1.778593</td><td>0.01394033</td><td>0.7482469</td><td>0.1228291</td></tr>\n",
       "\t<tr><td>Rooibos tea     </td><td>1.909222</td><td>0.01057108</td><td>1.4171176</td><td>0.1112034</td></tr>\n",
       "</tbody>\n",
       "</table>\n"
      ],
      "text/latex": [
       "A data.frame: 3 × 5\n",
       "\\begin{tabular}{lllll}\n",
       " Tea type & mean\\_Initial\\_weight & sd\\_Initial\\_weight & mean\\_Remaining\\_weight & sd\\_Remaining\\_weight\\\\\n",
       " <chr> & <dbl> & <dbl> & <dbl> & <dbl>\\\\\n",
       "\\hline\n",
       "\t Cranberry litter & 1.908767 & 0.01567869 & 1.8492927 & 0.1329799\\\\\n",
       "\t Green tea        & 1.778593 & 0.01394033 & 0.7482469 & 0.1228291\\\\\n",
       "\t Rooibos tea      & 1.909222 & 0.01057108 & 1.4171176 & 0.1112034\\\\\n",
       "\\end{tabular}\n"
      ],
      "text/markdown": [
       "\n",
       "A data.frame: 3 × 5\n",
       "\n",
       "| Tea type &lt;chr&gt; | mean_Initial_weight &lt;dbl&gt; | sd_Initial_weight &lt;dbl&gt; | mean_Remaining_weight &lt;dbl&gt; | sd_Remaining_weight &lt;dbl&gt; |\n",
       "|---|---|---|---|---|\n",
       "| Cranberry litter | 1.908767 | 0.01567869 | 1.8492927 | 0.1329799 |\n",
       "| Green tea        | 1.778593 | 0.01394033 | 0.7482469 | 0.1228291 |\n",
       "| Rooibos tea      | 1.909222 | 0.01057108 | 1.4171176 | 0.1112034 |\n",
       "\n"
      ],
      "text/plain": [
       "  Tea type         mean_Initial_weight sd_Initial_weight mean_Remaining_weight\n",
       "1 Cranberry litter 1.908767            0.01567869        1.8492927            \n",
       "2 Green tea        1.778593            0.01394033        0.7482469            \n",
       "3 Rooibos tea      1.909222            0.01057108        1.4171176            \n",
       "  sd_Remaining_weight\n",
       "1 0.1329799          \n",
       "2 0.1228291          \n",
       "3 0.1112034          "
      ]
     },
     "metadata": {},
     "output_type": "display_data"
    }
   ],
   "source": [
    "data_weight_meanSD <- ddply(df, ~ `Tea type`,\n",
    "      summarise, mean_Initial_weight = mean(`Initial tea weight (g)`, na.rm = TRUE), \n",
    "                            sd_Initial_weight = sd(`Initial tea weight (g)`, na.rm = TRUE),\n",
    "                            mean_Remaining_weight = mean(`Remaining tea weight (g)`, na.rm = TRUE),\n",
    "                            sd_Remaining_weight = sd(`Remaining tea weight (g)`, na.rm = TRUE))\n",
    "data_weight_meanSD"
   ]
  },
  {
   "cell_type": "markdown",
   "metadata": {},
   "source": [
    "Computation of mean and standard deviation of initial C over N ratio"
   ]
  },
  {
   "cell_type": "code",
   "execution_count": 14,
   "metadata": {},
   "outputs": [
    {
     "name": "stderr",
     "output_type": "stream",
     "text": [
      "\u001b[36mi\u001b[39m Using \u001b[34m\u001b[34m','\u001b[34m\u001b[39m as decimal and \u001b[34m\u001b[34m'.'\u001b[34m\u001b[39m as grouping mark. Use \u001b[30m\u001b[47m\u001b[30m\u001b[47m`read_delim()`\u001b[47m\u001b[30m\u001b[49m\u001b[39m for more control.\n",
      "\n",
      "\n",
      "\u001b[36m--\u001b[39m \u001b[1m\u001b[1mColumn specification\u001b[1m\u001b[22m \u001b[36m--------------------------------------------------------\u001b[39m\n",
      "cols(\n",
      "  No = \u001b[32mcol_double()\u001b[39m,\n",
      "  TypeThe = \u001b[31mcol_character()\u001b[39m,\n",
      "  `Tea type` = \u001b[31mcol_character()\u001b[39m,\n",
      "  Producteur = \u001b[31mcol_character()\u001b[39m,\n",
      "  Champs = \u001b[31mcol_character()\u001b[39m,\n",
      "  Regie = \u001b[31mcol_character()\u001b[39m,\n",
      "  TypeAzote = \u001b[31mcol_character()\u001b[39m,\n",
      "  DoseN = \u001b[32mcol_double()\u001b[39m,\n",
      "  Repetition = \u001b[32mcol_double()\u001b[39m,\n",
      "  Initial_Perc_C = \u001b[32mcol_double()\u001b[39m,\n",
      "  Initial_Perc_N = \u001b[32mcol_double()\u001b[39m,\n",
      "  Initial_Perc_S = \u001b[32mcol_double()\u001b[39m\n",
      ")\n",
      "\n",
      "\n"
     ]
    },
    {
     "data": {
      "text/html": [
       "<table class=\"dataframe\">\n",
       "<caption>A data.frame: 3 × 3</caption>\n",
       "<thead>\n",
       "\t<tr><th scope=col>Tea type</th><th scope=col>mean_C_over_N</th><th scope=col>sd_C_over_N</th></tr>\n",
       "\t<tr><th scope=col>&lt;chr&gt;</th><th scope=col>&lt;dbl&gt;</th><th scope=col>&lt;dbl&gt;</th></tr>\n",
       "</thead>\n",
       "<tbody>\n",
       "\t<tr><td>Cranberry litter</td><td>65.89091</td><td>6.371452</td></tr>\n",
       "\t<tr><td>Green tea       </td><td>11.20573</td><td>1.224186</td></tr>\n",
       "\t<tr><td>Rooibos tea     </td><td>53.52753</td><td>9.284972</td></tr>\n",
       "</tbody>\n",
       "</table>\n"
      ],
      "text/latex": [
       "A data.frame: 3 × 3\n",
       "\\begin{tabular}{lll}\n",
       " Tea type & mean\\_C\\_over\\_N & sd\\_C\\_over\\_N\\\\\n",
       " <chr> & <dbl> & <dbl>\\\\\n",
       "\\hline\n",
       "\t Cranberry litter & 65.89091 & 6.371452\\\\\n",
       "\t Green tea        & 11.20573 & 1.224186\\\\\n",
       "\t Rooibos tea      & 53.52753 & 9.284972\\\\\n",
       "\\end{tabular}\n"
      ],
      "text/markdown": [
       "\n",
       "A data.frame: 3 × 3\n",
       "\n",
       "| Tea type &lt;chr&gt; | mean_C_over_N &lt;dbl&gt; | sd_C_over_N &lt;dbl&gt; |\n",
       "|---|---|---|\n",
       "| Cranberry litter | 65.89091 | 6.371452 |\n",
       "| Green tea        | 11.20573 | 1.224186 |\n",
       "| Rooibos tea      | 53.52753 | 9.284972 |\n",
       "\n"
      ],
      "text/plain": [
       "  Tea type         mean_C_over_N sd_C_over_N\n",
       "1 Cranberry litter 65.89091      6.371452   \n",
       "2 Green tea        11.20573      1.224186   \n",
       "3 Rooibos tea      53.52753      9.284972   "
      ]
     },
     "metadata": {},
     "output_type": "display_data"
    }
   ],
   "source": [
    "Data_C_over_N <- read_csv2(\"data/data_C_over_N_initial.csv\") %>%\n",
    "mutate(C_over_N = Initial_Perc_C / Initial_Perc_N)\n",
    "C_over_N_meanSD <- ddply(Data_C_over_N, ~ `Tea type`,\n",
    "      summarise,mean_C_over_N=mean(`C_over_N`, na.rm = TRUE),sd_C_over_N=sd(`C_over_N`,  na.rm = TRUE))\n",
    "C_over_N_meanSD"
   ]
  },
  {
   "cell_type": "markdown",
   "metadata": {},
   "source": [
    "Boxplot of $k_1$ for different N dosages per litter."
   ]
  },
  {
   "cell_type": "code",
   "execution_count": 15,
   "metadata": {},
   "outputs": [
    {
     "name": "stderr",
     "output_type": "stream",
     "text": [
      "Warning message:\n",
      "\"Removed 23 rows containing non-finite values (stat_boxplot).\"\n"
     ]
    },
    {
     "data": {
      "image/png": "[encoded data removed]",
      "text/plain": [
       "plot without title"
      ]
     },
     "metadata": {
      "image/png": {
       "height": 480,
       "width": 600
      }
     },
     "output_type": "display_data"
    }
   ],
   "source": [
    "options(repr.plot.width = 10, repr.plot.height = 8)\n",
    "New.labs <- c(\"Site/10\", \"Site/45\", \"Site/9\", \"Site/A9\") # Change labels \n",
    "names(New.labs) <- c(\"10\", \"45\", \"9\", \"A9\")\n",
    "ggplot(data = df,\n",
    "       mapping = aes(x = as.factor(`Nitrogen dose`), y = k1)) +\n",
    " geom_boxplot() +\n",
    "  facet_grid(Site ~ `Tea type`, scales = \"free\", labeller = labeller(Site = New.labs)) +\n",
    "labs(x = \"Nitrogen doses\") +\n",
    "theme_bw() +\n",
    "theme(strip.text = element_text(size = 14), axis.text=element_text(size=14),\n",
    "        axis.title=element_text(size=16),\n",
    "     axis.title.y = element_text(size=16)) "
   ]
  },
  {
   "cell_type": "markdown",
   "metadata": {},
   "source": [
    "## Mixed model"
   ]
  },
  {
   "cell_type": "markdown",
   "metadata": {},
   "source": [
    "## **Question 1**: What is the influence of nitrogen fertilization on TBI parameters (k and S)?\n",
    "\n",
    "Adding `M / M0` variable to data `df`."
   ]
  },
  {
   "cell_type": "code",
   "execution_count": 16,
   "metadata": {},
   "outputs": [],
   "source": [
    "df <- df %>%\n",
    "  mutate(`M / M0` = `Remaining tea weight (g)` / `Initial tea weight (g)`)"
   ]
  },
  {
   "cell_type": "markdown",
   "metadata": {},
   "source": [
    "I store hydrolysable fractions of green tea and rooibos."
   ]
  },
  {
   "cell_type": "code",
   "execution_count": 17,
   "metadata": {},
   "outputs": [],
   "source": [
    "Hf_g <- 0.805   # Hydrolysable fraction for Green tea\n",
    "Hf_r <- 0.826   # Hydrolysable fraction for Rooibos tea"
   ]
  },
  {
   "cell_type": "markdown",
   "metadata": {},
   "source": [
    "For comparaison purpose, [Keuskamp et al. (2013)](https://besjournals.onlinelibrary.wiley.com/doi/full/10.1111/2041-210X.12097) hydrolysable fractions were:\n",
    "\n",
    "- Green tea `Hf_g = 0.842`  \n",
    "- Rooibos tea `Hf_r = 0.552`"
   ]
  },
  {
   "cell_type": "markdown",
   "metadata": {},
   "source": [
    "### Computation of the labile fraction (a) and the stabilization factor (s) of green tea\n",
    "\n",
    "Decomposition rate `k_tbi` is computed from Rooibos tea after 90 days of incubation. The *TBI* assumes that the decomposition of Green tea has stablilized while Rooibos tea is still decomposing. Stabilization factor `S` is computed from Green tea."
   ]
  },
  {
   "cell_type": "code",
   "execution_count": 18,
   "metadata": {},
   "outputs": [],
   "source": [
    "df <- df %>%\n",
    "  mutate(a = ifelse(`Tea type` == \"Green tea\",\n",
    "                    (`Initial tea weight (g)` - `Remaining tea weight (g)`) / `Initial tea weight (g)`,\n",
    "                    NA),\n",
    "         S = 1 - a / Hf_g)"
   ]
  },
  {
   "cell_type": "markdown",
   "metadata": {},
   "source": [
    "Compute litter stability `Sg` (Green tea) and decomposition constant `k_tbi` (Rooibos) for each experimental unit."
   ]
  },
  {
   "cell_type": "code",
   "execution_count": 19,
   "metadata": {},
   "outputs": [],
   "source": [
    "df <- df %>%\n",
    "  mutate(sdr = paste(df$Site, df$`Nitrogen dose`, df$Repetition))\n",
    "sdr_u <- unique(df$sdr)"
   ]
  },
  {
   "cell_type": "code",
   "execution_count": 20,
   "metadata": {},
   "outputs": [],
   "source": [
    "# Initialize k_tbi column\n",
    "df$k_tbi <- NA\n",
    "\n",
    "# For each rep, compute a and k_tbi\n",
    "for (i in 1:length(sdr_u)) {\n",
    "  # Green tea\n",
    "  Sg_i <- mean(df$S[df$sdr == sdr_u[i] & df$`Tea type` == \"Green tea\"], na.rm = TRUE)\n",
    "  \n",
    "  # Rooibos\n",
    "  df$a[df$sdr == sdr_u[i] & df$`Tea type` == \"Rooibos tea\"] <- Hf_r * (1 - Sg_i)\n",
    "  ar_i <- df$a[df$sdr == sdr_u[i] & df$`Tea type` == \"Rooibos tea\"]\n",
    "  M_M0i <- df$`M / M0`[df$sdr == sdr_u[i] & df$`Tea type` == \"Rooibos tea\"]\n",
    "  df$k_tbi[df$sdr == sdr_u[i] & df$`Tea type` == \"Rooibos tea\"] <- log(ar_i / (M_M0i - (1-ar_i))) / 90\n",
    "}"
   ]
  },
  {
   "cell_type": "raw",
   "metadata": {},
   "source": [
    "Computation of mean and standard deviation of TBI(k_tbi and S)"
   ]
  },
  {
   "cell_type": "code",
   "execution_count": 21,
   "metadata": {},
   "outputs": [
    {
     "data": {
      "text/html": [
       "<table class=\"dataframe\">\n",
       "<caption>A data.frame: 3 × 5</caption>\n",
       "<thead>\n",
       "\t<tr><th scope=col>Tea type</th><th scope=col>mean_K_tbi</th><th scope=col>sd_K_tbi</th><th scope=col>mean_S</th><th scope=col>sd_S</th></tr>\n",
       "\t<tr><th scope=col>&lt;chr&gt;</th><th scope=col>&lt;dbl&gt;</th><th scope=col>&lt;dbl&gt;</th><th scope=col>&lt;dbl&gt;</th><th scope=col>&lt;dbl&gt;</th></tr>\n",
       "</thead>\n",
       "<tbody>\n",
       "\t<tr><td>Cranberry litter</td><td>        NaN</td><td>         NA</td><td>      NaN</td><td>        NA</td></tr>\n",
       "\t<tr><td>Green tea       </td><td>        NaN</td><td>         NA</td><td>0.2802262</td><td>0.08595211</td></tr>\n",
       "\t<tr><td>Rooibos tea     </td><td>0.006563192</td><td>0.002073537</td><td>      NaN</td><td>        NA</td></tr>\n",
       "</tbody>\n",
       "</table>\n"
      ],
      "text/latex": [
       "A data.frame: 3 × 5\n",
       "\\begin{tabular}{lllll}\n",
       " Tea type & mean\\_K\\_tbi & sd\\_K\\_tbi & mean\\_S & sd\\_S\\\\\n",
       " <chr> & <dbl> & <dbl> & <dbl> & <dbl>\\\\\n",
       "\\hline\n",
       "\t Cranberry litter &         NaN &          NA &       NaN &         NA\\\\\n",
       "\t Green tea        &         NaN &          NA & 0.2802262 & 0.08595211\\\\\n",
       "\t Rooibos tea      & 0.006563192 & 0.002073537 &       NaN &         NA\\\\\n",
       "\\end{tabular}\n"
      ],
      "text/markdown": [
       "\n",
       "A data.frame: 3 × 5\n",
       "\n",
       "| Tea type &lt;chr&gt; | mean_K_tbi &lt;dbl&gt; | sd_K_tbi &lt;dbl&gt; | mean_S &lt;dbl&gt; | sd_S &lt;dbl&gt; |\n",
       "|---|---|---|---|---|\n",
       "| Cranberry litter |         NaN |          NA |       NaN |         NA |\n",
       "| Green tea        |         NaN |          NA | 0.2802262 | 0.08595211 |\n",
       "| Rooibos tea      | 0.006563192 | 0.002073537 |       NaN |         NA |\n",
       "\n"
      ],
      "text/plain": [
       "  Tea type         mean_K_tbi  sd_K_tbi    mean_S    sd_S      \n",
       "1 Cranberry litter         NaN          NA       NaN         NA\n",
       "2 Green tea                NaN          NA 0.2802262 0.08595211\n",
       "3 Rooibos tea      0.006563192 0.002073537       NaN         NA"
      ]
     },
     "metadata": {},
     "output_type": "display_data"
    }
   ],
   "source": [
    "K_tbi_S_meanSD <- ddply(df, ~ `Tea type`,\n",
    "      summarise, mean_K_tbi = mean(`k_tbi`, na.rm = TRUE), \n",
    "                            sd_K_tbi = sd(`k_tbi`, na.rm = TRUE),\n",
    "                            mean_S = mean(`S`, na.rm = TRUE),\n",
    "                            sd_S = sd(`S`, na.rm = TRUE))\n",
    "K_tbi_S_meanSD"
   ]
  },
  {
   "cell_type": "markdown",
   "metadata": {},
   "source": [
    "### What affecting TBI parameter decomposition rate (k)?\n",
    "\n",
    "Because `k_tbi` is computed from Rooibos tea, we create a new Rooibos data table named `df_rooibos`."
   ]
  },
  {
   "cell_type": "code",
   "execution_count": 22,
   "metadata": {},
   "outputs": [],
   "source": [
    "df_rooibos <- df %>% \n",
    "  filter(`Tea type` == \"Rooibos tea\")\n",
    "\n",
    "TBI_data <- df %>%\n",
    "  select(k_tbi, `Tea type`, Farm, `Nitrogen dose`, Site,\n",
    "         `Nitrogen type`) %>%\n",
    "  rename(`Ntype` = `Nitrogen type`,\n",
    "         `Ndose` = `Nitrogen dose`)\n",
    "TBI_data <- TBI_data %>%  \n",
    "drop_na() %>%\n",
    "  droplevels()\n",
    "\n",
    "TBI_rooibos <- TBI_data %>%\n",
    "  filter(`Tea type` == \"Rooibos tea\")"
   ]
  },
  {
   "cell_type": "markdown",
   "metadata": {},
   "source": [
    "### `k_tbi` mixed model\n",
    "\n",
    "lme_TBI model investigates the magnitude of the dose (`Ndose`) on `k_tbi`, considering the random effect of sites (`Site`)"
   ]
  },
  {
   "cell_type": "code",
   "execution_count": 23,
   "metadata": {},
   "outputs": [],
   "source": [
    "TBI_rooibos <- TBI_rooibos %>%\n",
    "mutate(log = log(k_tbi))\n",
    "lme_TBI <- lme (log ~  Ndose, \n",
    "               random = ~ 1 | Site, \n",
    "    data = TBI_rooibos)"
   ]
  },
  {
   "cell_type": "code",
   "execution_count": 24,
   "metadata": {},
   "outputs": [
    {
     "data": {
      "text/plain": [
       "Linear mixed-effects model fit by REML\n",
       "  Data: TBI_rooibos \n",
       "       AIC      BIC    logLik\n",
       "  29.23211 38.90747 -10.61605\n",
       "\n",
       "Random effects:\n",
       " Formula: ~1 | Site\n",
       "        (Intercept)  Residual\n",
       "StdDev:   0.2274628 0.2395634\n",
       "\n",
       "Fixed effects:  log ~ Ndose \n",
       "                Value  Std.Error DF   t-value p-value\n",
       "(Intercept) -5.198405 0.15038005 80 -34.56845  0.0000\n",
       "Ndose        0.003086 0.00211625 80   1.45825  0.1487\n",
       " Correlation: \n",
       "      (Intr)\n",
       "Ndose -0.631\n",
       "\n",
       "Standardized Within-Group Residuals:\n",
       "        Min          Q1         Med          Q3         Max \n",
       "-2.42462710 -0.65390187 -0.07675473  0.60081810  2.92740766 \n",
       "\n",
       "Number of Observations: 85\n",
       "Number of Groups: 4 "
      ]
     },
     "metadata": {},
     "output_type": "display_data"
    }
   ],
   "source": [
    "summary(lme_TBI)"
   ]
  },
  {
   "cell_type": "markdown",
   "metadata": {},
   "source": [
    "### Pseudo r-square\n",
    "\n",
    "Pseudo r-square was 0.01 with and 0.45 without random effect indicated the influence of random effects was impotant. "
   ]
  },
  {
   "cell_type": "code",
   "execution_count": 25,
   "metadata": {},
   "outputs": [
    {
     "data": {
      "text/html": [
       "0.0110784524248698"
      ],
      "text/latex": [
       "0.0110784524248698"
      ],
      "text/markdown": [
       "0.0110784524248698"
      ],
      "text/plain": [
       "[1] 0.01107845"
      ]
     },
     "metadata": {},
     "output_type": "display_data"
    },
    {
     "data": {
      "text/html": [
       "0.453053694522229"
      ],
      "text/latex": [
       "0.453053694522229"
      ],
      "text/markdown": [
       "0.453053694522229"
      ],
      "text/plain": [
       "[1] 0.4530537"
      ]
     },
     "metadata": {},
     "output_type": "display_data"
    }
   ],
   "source": [
    "pseudoR2(y = TBI_rooibos$log,\n",
    "         y_hat = predict(lme_TBI, level = 0))\n",
    "\n",
    "pseudoR2(y = TBI_rooibos$log,\n",
    "         y_hat = predict(lme_TBI, level = 1))"
   ]
  },
  {
   "cell_type": "markdown",
   "metadata": {},
   "source": [
    "### Shapiro-Wilk normality test\n",
    "Our data were normaly distributed as shown by the following residues plot "
   ]
  },
  {
   "cell_type": "code",
   "execution_count": 26,
   "metadata": {},
   "outputs": [
    {
     "name": "stdout",
     "output_type": "stream",
     "text": [
      "[1] \"Shapiro-Wilk:\"\n",
      "\n",
      "\tShapiro-Wilk normality test\n",
      "\n",
      "data:  r\n",
      "W = 0.98693, p-value = 0.5511\n",
      "\n",
      "[1] \"Kurtosis: -0.324713934613358\"\n",
      "[1] \"Skewness: -0.121097388651243\"\n"
     ]
    },
    {
     "data": {
      "image/png": "[encoded data removed]",
      "text/plain": [
       "Plot with title \"\""
      ]
     },
     "metadata": {
      "image/png": {
       "height": 240,
       "width": 360
      }
     },
     "output_type": "display_data"
    }
   ],
   "source": [
    "options(repr.plot.width = 6, repr.plot.height = 4)\n",
    "residues(lme_TBI)"
   ]
  },
  {
   "cell_type": "markdown",
   "metadata": {},
   "source": [
    "### Reporting the results of the mixed models\n",
    "I create a table including the results I need: estimates, confidence intervals and p-values."
   ]
  },
  {
   "cell_type": "code",
   "execution_count": 27,
   "metadata": {},
   "outputs": [],
   "source": [
    "k_tbi_gg <- data.frame(intervals(lme_TBI, which = \"fixed\")$fixed)\n",
    "k_tbi_gg <- k_tbi_gg %>%\n",
    "  mutate(variable = rownames(k_tbi_gg))\n",
    "k_tbi_gg <- k_tbi_gg %>%\n",
    "  mutate(pvalue = summary(lme_TBI)$tTable[, 5],\n",
    "         is_significant = ifelse(pvalue <= 0.05, 'Significant at 0.05 level', 'Not significant at 0.05 level'))"
   ]
  },
  {
   "cell_type": "markdown",
   "metadata": {},
   "source": [
    "Adding random effects to the table."
   ]
  },
  {
   "cell_type": "code",
   "execution_count": 28,
   "metadata": {},
   "outputs": [
    {
     "data": {
      "text/plain": [
       "Approximate 95% confidence intervals\n",
       "\n",
       " Fixed effects:\n",
       "                   lower         est.        upper\n",
       "(Intercept) -5.497670873 -5.198405035 -4.899139197\n",
       "Ndose       -0.001125443  0.003086023  0.007297489\n",
       "attr(,\"label\")\n",
       "[1] \"Fixed effects:\"\n",
       "\n",
       " Random Effects:\n",
       "  Level: Site \n",
       "                     lower      est.    upper\n",
       "sd((Intercept)) 0.09827762 0.2274628 0.526461\n",
       "\n",
       " Within-group standard error:\n",
       "    lower      est.     upper \n",
       "0.2051808 0.2395634 0.2797076 "
      ]
     },
     "metadata": {},
     "output_type": "display_data"
    },
    {
     "data": {
      "text/html": [
       "<style>\n",
       ".list-inline {list-style: none; margin:0; padding: 0}\n",
       ".list-inline>li {display: inline-block}\n",
       ".list-inline>li:not(:last-child)::after {content: \"\\00b7\"; padding: 0 .5ex}\n",
       "</style>\n",
       "<ol class=list-inline><li>-0.331870466774875</li><li>0.127705060329484</li><li>0.11076003394096</li><li>0.0934053725044359</li></ol>\n"
      ],
      "text/latex": [
       "\\begin{enumerate*}\n",
       "\\item -0.331870466774875\n",
       "\\item 0.127705060329484\n",
       "\\item 0.11076003394096\n",
       "\\item 0.0934053725044359\n",
       "\\end{enumerate*}\n"
      ],
      "text/markdown": [
       "1. -0.331870466774875\n",
       "2. 0.127705060329484\n",
       "3. 0.11076003394096\n",
       "4. 0.0934053725044359\n",
       "\n",
       "\n"
      ],
      "text/plain": [
       "[1] -0.33187047  0.12770506  0.11076003  0.09340537"
      ]
     },
     "metadata": {},
     "output_type": "display_data"
    }
   ],
   "source": [
    "intervals(lme_TBI)\n",
    "ranef(lme_TBI)$`(Intercept)`"
   ]
  },
  {
   "cell_type": "code",
   "execution_count": 29,
   "metadata": {},
   "outputs": [
    {
     "data": {
      "text/html": [
       "<table class=\"dataframe\">\n",
       "<caption>A data.frame: 4 × 6</caption>\n",
       "<thead>\n",
       "\t<tr><th scope=col>lower</th><th scope=col>est.</th><th scope=col>upper</th><th scope=col>variable</th><th scope=col>pvalue</th><th scope=col>is_significant</th></tr>\n",
       "\t<tr><th scope=col>&lt;lgl&gt;</th><th scope=col>&lt;dbl&gt;</th><th scope=col>&lt;lgl&gt;</th><th scope=col>&lt;chr&gt;</th><th scope=col>&lt;lgl&gt;</th><th scope=col>&lt;lgl&gt;</th></tr>\n",
       "</thead>\n",
       "<tbody>\n",
       "\t<tr><td>NA</td><td>-0.33187047</td><td>NA</td><td>10</td><td>NA</td><td>NA</td></tr>\n",
       "\t<tr><td>NA</td><td> 0.12770506</td><td>NA</td><td>45</td><td>NA</td><td>NA</td></tr>\n",
       "\t<tr><td>NA</td><td> 0.11076003</td><td>NA</td><td>9 </td><td>NA</td><td>NA</td></tr>\n",
       "\t<tr><td>NA</td><td> 0.09340537</td><td>NA</td><td>A9</td><td>NA</td><td>NA</td></tr>\n",
       "</tbody>\n",
       "</table>\n"
      ],
      "text/latex": [
       "A data.frame: 4 × 6\n",
       "\\begin{tabular}{llllll}\n",
       " lower & est. & upper & variable & pvalue & is\\_significant\\\\\n",
       " <lgl> & <dbl> & <lgl> & <chr> & <lgl> & <lgl>\\\\\n",
       "\\hline\n",
       "\t NA & -0.33187047 & NA & 10 & NA & NA\\\\\n",
       "\t NA &  0.12770506 & NA & 45 & NA & NA\\\\\n",
       "\t NA &  0.11076003 & NA & 9  & NA & NA\\\\\n",
       "\t NA &  0.09340537 & NA & A9 & NA & NA\\\\\n",
       "\\end{tabular}\n"
      ],
      "text/markdown": [
       "\n",
       "A data.frame: 4 × 6\n",
       "\n",
       "| lower &lt;lgl&gt; | est. &lt;dbl&gt; | upper &lt;lgl&gt; | variable &lt;chr&gt; | pvalue &lt;lgl&gt; | is_significant &lt;lgl&gt; |\n",
       "|---|---|---|---|---|---|\n",
       "| NA | -0.33187047 | NA | 10 | NA | NA |\n",
       "| NA |  0.12770506 | NA | 45 | NA | NA |\n",
       "| NA |  0.11076003 | NA | 9  | NA | NA |\n",
       "| NA |  0.09340537 | NA | A9 | NA | NA |\n",
       "\n"
      ],
      "text/plain": [
       "  lower est.        upper variable pvalue is_significant\n",
       "1 NA    -0.33187047 NA    10       NA     NA            \n",
       "2 NA     0.12770506 NA    45       NA     NA            \n",
       "3 NA     0.11076003 NA    9        NA     NA            \n",
       "4 NA     0.09340537 NA    A9       NA     NA            "
      ]
     },
     "metadata": {},
     "output_type": "display_data"
    }
   ],
   "source": [
    "k_tbi_re <- data.frame(matrix(ncol = ncol(k_tbi_gg), nrow = 4))\n",
    "names(k_tbi_re) <- names(k_tbi_gg)\n",
    "k_tbi_re$est. <- ranef(lme_TBI)$`(Intercept)`\n",
    "k_tbi_re$variable <- rownames(ranef(lme_TBI))\n",
    "k_tbi_re\n",
    "\n",
    "if (!(\"Belanger\" %in% k_tbi_gg$variable)) k_tbi_gg <- bind_rows(k_tbi_gg, k_tbi_re) # with an if to make sure ranefs are stacked only once"
   ]
  },
  {
   "cell_type": "code",
   "execution_count": 30,
   "metadata": {},
   "outputs": [],
   "source": [
    "k_tbi_gg$variable <- c(\"Intercept\",  # Change variable names\n",
    "                        \"Dose N\",\n",
    "                        \"site #10\", \"site #45\", \"site #9\", \"site #A9\")"
   ]
  },
  {
   "cell_type": "markdown",
   "metadata": {},
   "source": [
    "Create a facet column to separate effects by effect category in the plot."
   ]
  },
  {
   "cell_type": "code",
   "execution_count": 31,
   "metadata": {},
   "outputs": [
    {
     "data": {
      "text/html": [
       "<table class=\"dataframe\">\n",
       "<caption>A data.frame: 6 × 7</caption>\n",
       "<thead>\n",
       "\t<tr><th></th><th scope=col>lower</th><th scope=col>est.</th><th scope=col>upper</th><th scope=col>variable</th><th scope=col>pvalue</th><th scope=col>is_significant</th><th scope=col>facet</th></tr>\n",
       "\t<tr><th></th><th scope=col>&lt;dbl&gt;</th><th scope=col>&lt;dbl&gt;</th><th scope=col>&lt;dbl&gt;</th><th scope=col>&lt;chr&gt;</th><th scope=col>&lt;dbl&gt;</th><th scope=col>&lt;chr&gt;</th><th scope=col>&lt;fct&gt;</th></tr>\n",
       "</thead>\n",
       "<tbody>\n",
       "\t<tr><th scope=row>(Intercept)</th><td>-5.497670873</td><td>-5.198405035</td><td>-4.899139197</td><td>Intercept</td><td>7.349407e-50</td><td>Significant at 0.05 level    </td><td>Intercept    </td></tr>\n",
       "\t<tr><th scope=row>Ndose</th><td>-0.001125443</td><td> 0.003086023</td><td> 0.007297489</td><td>Dose N   </td><td>1.486858e-01</td><td>Not significant at 0.05 level</td><td>Nitrogen dose</td></tr>\n",
       "\t<tr><th scope=row>...3</th><td>          NA</td><td>-0.331870467</td><td>          NA</td><td>site #10 </td><td>          NA</td><td>NA                           </td><td>Random effect</td></tr>\n",
       "\t<tr><th scope=row>...4</th><td>          NA</td><td> 0.127705060</td><td>          NA</td><td>site #45 </td><td>          NA</td><td>NA                           </td><td>Random effect</td></tr>\n",
       "\t<tr><th scope=row>...5</th><td>          NA</td><td> 0.110760034</td><td>          NA</td><td>site #9  </td><td>          NA</td><td>NA                           </td><td>Random effect</td></tr>\n",
       "\t<tr><th scope=row>...6</th><td>          NA</td><td> 0.093405373</td><td>          NA</td><td>site #A9 </td><td>          NA</td><td>NA                           </td><td>Random effect</td></tr>\n",
       "</tbody>\n",
       "</table>\n"
      ],
      "text/latex": [
       "A data.frame: 6 × 7\n",
       "\\begin{tabular}{r|lllllll}\n",
       "  & lower & est. & upper & variable & pvalue & is\\_significant & facet\\\\\n",
       "  & <dbl> & <dbl> & <dbl> & <chr> & <dbl> & <chr> & <fct>\\\\\n",
       "\\hline\n",
       "\t(Intercept) & -5.497670873 & -5.198405035 & -4.899139197 & Intercept & 7.349407e-50 & Significant at 0.05 level     & Intercept    \\\\\n",
       "\tNdose & -0.001125443 &  0.003086023 &  0.007297489 & Dose N    & 1.486858e-01 & Not significant at 0.05 level & Nitrogen dose\\\\\n",
       "\t...3 &           NA & -0.331870467 &           NA & site \\#10  &           NA & NA                            & Random effect\\\\\n",
       "\t...4 &           NA &  0.127705060 &           NA & site \\#45  &           NA & NA                            & Random effect\\\\\n",
       "\t...5 &           NA &  0.110760034 &           NA & site \\#9   &           NA & NA                            & Random effect\\\\\n",
       "\t...6 &           NA &  0.093405373 &           NA & site \\#A9  &           NA & NA                            & Random effect\\\\\n",
       "\\end{tabular}\n"
      ],
      "text/markdown": [
       "\n",
       "A data.frame: 6 × 7\n",
       "\n",
       "| <!--/--> | lower &lt;dbl&gt; | est. &lt;dbl&gt; | upper &lt;dbl&gt; | variable &lt;chr&gt; | pvalue &lt;dbl&gt; | is_significant &lt;chr&gt; | facet &lt;fct&gt; |\n",
       "|---|---|---|---|---|---|---|---|\n",
       "| (Intercept) | -5.497670873 | -5.198405035 | -4.899139197 | Intercept | 7.349407e-50 | Significant at 0.05 level     | Intercept     |\n",
       "| Ndose | -0.001125443 |  0.003086023 |  0.007297489 | Dose N    | 1.486858e-01 | Not significant at 0.05 level | Nitrogen dose |\n",
       "| ...3 |           NA | -0.331870467 |           NA | site #10  |           NA | NA                            | Random effect |\n",
       "| ...4 |           NA |  0.127705060 |           NA | site #45  |           NA | NA                            | Random effect |\n",
       "| ...5 |           NA |  0.110760034 |           NA | site #9   |           NA | NA                            | Random effect |\n",
       "| ...6 |           NA |  0.093405373 |           NA | site #A9  |           NA | NA                            | Random effect |\n",
       "\n"
      ],
      "text/plain": [
       "            lower        est.         upper        variable  pvalue      \n",
       "(Intercept) -5.497670873 -5.198405035 -4.899139197 Intercept 7.349407e-50\n",
       "Ndose       -0.001125443  0.003086023  0.007297489 Dose N    1.486858e-01\n",
       "...3                  NA -0.331870467           NA site #10            NA\n",
       "...4                  NA  0.127705060           NA site #45            NA\n",
       "...5                  NA  0.110760034           NA site #9             NA\n",
       "...6                  NA  0.093405373           NA site #A9            NA\n",
       "            is_significant                facet        \n",
       "(Intercept) Significant at 0.05 level     Intercept    \n",
       "Ndose       Not significant at 0.05 level Nitrogen dose\n",
       "...3        NA                            Random effect\n",
       "...4        NA                            Random effect\n",
       "...5        NA                            Random effect\n",
       "...6        NA                            Random effect"
      ]
     },
     "metadata": {},
     "output_type": "display_data"
    }
   ],
   "source": [
    "k_tbi_gg$facet <- factor(c('Intercept',\n",
    "                        \"Nitrogen dose\",\n",
    "                           \"Random effect\", \"Random effect\", \"Random effect\", \"Random effect\"))\n",
    "\n",
    "k_tbi_gg <- k_tbi_gg %>%\n",
    "  mutate(facet = factor(facet, levels = rev(c(\"Random effect\", \n",
    "                                              \"Nitrogen dose\", \"Intercept\"))))\n",
    "k_tbi_gg"
   ]
  },
  {
   "cell_type": "markdown",
   "metadata": {},
   "source": [
    "The `k_tbi_gg` table is now set up for the plot."
   ]
  },
  {
   "cell_type": "code",
   "execution_count": 33,
   "metadata": {},
   "outputs": [
    {
     "name": "stderr",
     "output_type": "stream",
     "text": [
      "Warning message:\n",
      "\"Removed 4 rows containing missing values (geom_segment).\"\n",
      "Warning message:\n",
      "\"Removed 4 rows containing missing values (geom_segment).\"\n"
     ]
    },
    {
     "data": {
      "image/png": "[encoded data removed]",
      "text/plain": [
       "plot without title"
      ]
     },
     "metadata": {
      "image/png": {
       "height": 240,
       "width": 600
      }
     },
     "output_type": "display_data"
    }
   ],
   "source": [
    "options(repr.plot.width = 10, repr.plot.height = 4)\n",
    "plot_k_tbi_model <- k_tbi_gg %>%\n",
    "  filter(variable != \"Intercept\") %>%\n",
    "  ggplot(aes(x = est., y = variable)) +\n",
    "  facet_grid(facet ~ ., scales = 'free', space = 'free') +\n",
    "  geom_vline(xintercept = 0, colour='grey70') +\n",
    "  geom_point() +\n",
    "  geom_segment(aes(x = lower, xend = upper, y = variable, yend = variable)) +\n",
    "  xlab('Coefficient') +\n",
    "  ylab('') +\n",
    "  theme_bw() +\n",
    "  theme(strip.text.y = element_text(angle=0),\n",
    "        legend.title = element_blank(),\n",
    "        legend.position = \"bottom\", strip.text = element_text(size = 14), axis.text=element_text(size=14),\n",
    "        axis.title=element_text(size=14)) \n",
    "plot_k_tbi_model\n",
    "  ggsave(\"figures/k_tbi-mixed-model-coefficients.png\", plot = plot_k_tbi_model, width = 10, height = 4, dpi = 600)"
   ]
  },
  {
   "cell_type": "markdown",
   "metadata": {},
   "source": [
    "### What affecting TBI parameter stabilization factor (S)?\n",
    "\n",
    "Because `S` is computed from Green tea, we create a new Green data table named `df_green`."
   ]
  },
  {
   "cell_type": "code",
   "execution_count": 34,
   "metadata": {},
   "outputs": [],
   "source": [
    "df_green <- df %>% \n",
    "  filter(`Tea type` == \"Green tea\")\n",
    "\n",
    "S_data <- df %>%\n",
    "  select(S, `Tea type`, Farm, `Nitrogen dose`, Site,\n",
    "         `Nitrogen type`) %>%\n",
    "  rename(Ntype = `Nitrogen type`,\n",
    "         Ndose = `Nitrogen dose`) \n",
    "S_data <- S_data %>%\n",
    "  drop_na() %>%\n",
    "  droplevels()\n",
    "\n",
    "S_Green <- S_data %>%\n",
    "  filter(`Tea type` == \"Green tea\")"
   ]
  },
  {
   "cell_type": "markdown",
   "metadata": {},
   "source": [
    "### `S` mixed model\n",
    "\n",
    "lme_S model investigates the magnitude of the dose (`Ndose`) on `S`, considering the random effect of sites (`Site`)"
   ]
  },
  {
   "cell_type": "code",
   "execution_count": 35,
   "metadata": {},
   "outputs": [],
   "source": [
    "S_Green <- S_Green%>% \n",
    "mutate(log = log(S))"
   ]
  },
  {
   "cell_type": "code",
   "execution_count": 36,
   "metadata": {},
   "outputs": [],
   "source": [
    "S_Green <- S_Green%>% \n",
    "mutate(log = log(S))"
   ]
  },
  {
   "cell_type": "code",
   "execution_count": 37,
   "metadata": {},
   "outputs": [],
   "source": [
    "lme_S <- lme (log ~  Ndose, \n",
    "               random = ~ 1 | Site, \n",
    "    data = S_Green )"
   ]
  },
  {
   "cell_type": "code",
   "execution_count": 38,
   "metadata": {},
   "outputs": [
    {
     "data": {
      "text/plain": [
       "Linear mixed-effects model fit by REML\n",
       "  Data: S_Green \n",
       "       AIC      BIC    logLik\n",
       "  24.93149 34.40928 -8.465746\n",
       "\n",
       "Random effects:\n",
       " Formula: ~1 | Site\n",
       "        (Intercept)  Residual\n",
       "StdDev:   0.2008001 0.2342948\n",
       "\n",
       "Fixed effects:  log ~ Ndose \n",
       "                 Value  Std.Error DF   t-value p-value\n",
       "(Intercept) -1.3626927 0.14210876 76 -9.589083    0.00\n",
       "Ndose        0.0013701 0.00217167 76  0.630888    0.53\n",
       " Correlation: \n",
       "      (Intr)\n",
       "Ndose -0.683\n",
       "\n",
       "Standardized Within-Group Residuals:\n",
       "        Min          Q1         Med          Q3         Max \n",
       "-4.08191446 -0.39071373 -0.02084241  0.41862266  3.16880092 \n",
       "\n",
       "Number of Observations: 81\n",
       "Number of Groups: 4 "
      ]
     },
     "metadata": {},
     "output_type": "display_data"
    }
   ],
   "source": [
    "summary(lme_S)"
   ]
  },
  {
   "cell_type": "markdown",
   "metadata": {},
   "source": [
    "### Pseudo r-square\n",
    "\n",
    "Pseudo r-square was 0.01 with and 0.4 without random effect indicated the influence of random effects was impotant. "
   ]
  },
  {
   "cell_type": "code",
   "execution_count": 39,
   "metadata": {},
   "outputs": [
    {
     "data": {
      "text/html": [
       "0.00501748615977959"
      ],
      "text/latex": [
       "0.00501748615977959"
      ],
      "text/markdown": [
       "0.00501748615977959"
      ],
      "text/plain": [
       "[1] 0.005017486"
      ]
     },
     "metadata": {},
     "output_type": "display_data"
    },
    {
     "data": {
      "text/html": [
       "0.391777427739977"
      ],
      "text/latex": [
       "0.391777427739977"
      ],
      "text/markdown": [
       "0.391777427739977"
      ],
      "text/plain": [
       "[1] 0.3917774"
      ]
     },
     "metadata": {},
     "output_type": "display_data"
    }
   ],
   "source": [
    "pseudoR2(y = S_Green$log,\n",
    "         y_hat = predict(lme_S, level = 0))\n",
    "\n",
    "pseudoR2(y = S_Green$log,\n",
    "         y_hat = predict(lme_S, level = 1))"
   ]
  },
  {
   "cell_type": "markdown",
   "metadata": {},
   "source": [
    "### Shapiro-Wilk normality test\n",
    "Our data were normaly distributed as shown by the following residues plot "
   ]
  },
  {
   "cell_type": "code",
   "execution_count": 40,
   "metadata": {},
   "outputs": [
    {
     "name": "stdout",
     "output_type": "stream",
     "text": [
      "[1] \"Shapiro-Wilk:\"\n",
      "\n",
      "\tShapiro-Wilk normality test\n",
      "\n",
      "data:  r\n",
      "W = 0.90532, p-value = 1.844e-05\n",
      "\n",
      "[1] \"Kurtosis: 4.01438471717064\"\n",
      "[1] \"Skewness: -0.467798066057914\"\n"
     ]
    },
    {
     "data": {
      "image/png": "[encoded data removed]",
      "text/plain": [
       "Plot with title \"\""
      ]
     },
     "metadata": {
      "image/png": {
       "height": 240,
       "width": 360
      }
     },
     "output_type": "display_data"
    }
   ],
   "source": [
    "options(repr.plot.width = 6, repr.plot.height = 4)\n",
    "residues(lme_S)"
   ]
  },
  {
   "cell_type": "markdown",
   "metadata": {},
   "source": [
    "### Reporting the results of the mixed models\n",
    "I create a table including the results I need: estimates, confidence intervals and p-values."
   ]
  },
  {
   "cell_type": "code",
   "execution_count": 41,
   "metadata": {},
   "outputs": [],
   "source": [
    "S_tbi_gg <- data.frame(intervals(lme_S, which = \"fixed\")$fixed)\n",
    "S_tbi_gg <- S_tbi_gg %>%\n",
    "  mutate(variable = rownames(S_tbi_gg))\n",
    "S_tbi_gg <- S_tbi_gg %>%\n",
    "  mutate(pvalue = summary(lme_S)$tTable[, 5],\n",
    "         is_significant = ifelse(pvalue <= 0.05, 'Significant at 0.05 level', 'Not significant at 0.05 level'))"
   ]
  },
  {
   "cell_type": "markdown",
   "metadata": {},
   "source": [
    "Adding random effects to the table."
   ]
  },
  {
   "cell_type": "code",
   "execution_count": 42,
   "metadata": {},
   "outputs": [
    {
     "data": {
      "text/html": [
       "<table class=\"dataframe\">\n",
       "<caption>A data.frame: 4 × 6</caption>\n",
       "<thead>\n",
       "\t<tr><th scope=col>lower</th><th scope=col>est.</th><th scope=col>upper</th><th scope=col>variable</th><th scope=col>pvalue</th><th scope=col>is_significant</th></tr>\n",
       "\t<tr><th scope=col>&lt;lgl&gt;</th><th scope=col>&lt;dbl&gt;</th><th scope=col>&lt;lgl&gt;</th><th scope=col>&lt;chr&gt;</th><th scope=col>&lt;lgl&gt;</th><th scope=col>&lt;lgl&gt;</th></tr>\n",
       "</thead>\n",
       "<tbody>\n",
       "\t<tr><td>NA</td><td>-0.003696603</td><td>NA</td><td>10</td><td>NA</td><td>NA</td></tr>\n",
       "\t<tr><td>NA</td><td> 0.089219883</td><td>NA</td><td>45</td><td>NA</td><td>NA</td></tr>\n",
       "\t<tr><td>NA</td><td>-0.268151265</td><td>NA</td><td>9 </td><td>NA</td><td>NA</td></tr>\n",
       "\t<tr><td>NA</td><td> 0.182627986</td><td>NA</td><td>A9</td><td>NA</td><td>NA</td></tr>\n",
       "</tbody>\n",
       "</table>\n"
      ],
      "text/latex": [
       "A data.frame: 4 × 6\n",
       "\\begin{tabular}{llllll}\n",
       " lower & est. & upper & variable & pvalue & is\\_significant\\\\\n",
       " <lgl> & <dbl> & <lgl> & <chr> & <lgl> & <lgl>\\\\\n",
       "\\hline\n",
       "\t NA & -0.003696603 & NA & 10 & NA & NA\\\\\n",
       "\t NA &  0.089219883 & NA & 45 & NA & NA\\\\\n",
       "\t NA & -0.268151265 & NA & 9  & NA & NA\\\\\n",
       "\t NA &  0.182627986 & NA & A9 & NA & NA\\\\\n",
       "\\end{tabular}\n"
      ],
      "text/markdown": [
       "\n",
       "A data.frame: 4 × 6\n",
       "\n",
       "| lower &lt;lgl&gt; | est. &lt;dbl&gt; | upper &lt;lgl&gt; | variable &lt;chr&gt; | pvalue &lt;lgl&gt; | is_significant &lt;lgl&gt; |\n",
       "|---|---|---|---|---|---|\n",
       "| NA | -0.003696603 | NA | 10 | NA | NA |\n",
       "| NA |  0.089219883 | NA | 45 | NA | NA |\n",
       "| NA | -0.268151265 | NA | 9  | NA | NA |\n",
       "| NA |  0.182627986 | NA | A9 | NA | NA |\n",
       "\n"
      ],
      "text/plain": [
       "  lower est.         upper variable pvalue is_significant\n",
       "1 NA    -0.003696603 NA    10       NA     NA            \n",
       "2 NA     0.089219883 NA    45       NA     NA            \n",
       "3 NA    -0.268151265 NA    9        NA     NA            \n",
       "4 NA     0.182627986 NA    A9       NA     NA            "
      ]
     },
     "metadata": {},
     "output_type": "display_data"
    }
   ],
   "source": [
    "S_tbi_re <- data.frame(matrix(ncol = ncol(S_tbi_gg), nrow = 4))\n",
    "names(S_tbi_re) <- names(S_tbi_gg)\n",
    "S_tbi_re$est. <- ranef(lme_S)$`(Intercept)`\n",
    "S_tbi_re$variable <- rownames(ranef(lme_S))\n",
    "S_tbi_re\n",
    "\n",
    "if (!(\"Belanger\" %in% S_tbi_gg$variable)) S_tbi_gg <- bind_rows(S_tbi_gg, S_tbi_re) # with an if to make sure ranefs are stacked only once"
   ]
  },
  {
   "cell_type": "code",
   "execution_count": 43,
   "metadata": {},
   "outputs": [],
   "source": [
    "S_tbi_gg$variable <- c(\"Intercept\",  # Change variable names\n",
    "                        \"Dose N\",\n",
    "                        \"site #10\", \"site #45\", \"site #9\", \"site #A9\")"
   ]
  },
  {
   "cell_type": "markdown",
   "metadata": {},
   "source": [
    "Create a facet column to separate effects by effect category in the plot."
   ]
  },
  {
   "cell_type": "code",
   "execution_count": 44,
   "metadata": {},
   "outputs": [
    {
     "data": {
      "text/html": [
       "<table class=\"dataframe\">\n",
       "<caption>A data.frame: 6 × 7</caption>\n",
       "<thead>\n",
       "\t<tr><th></th><th scope=col>lower</th><th scope=col>est.</th><th scope=col>upper</th><th scope=col>variable</th><th scope=col>pvalue</th><th scope=col>is_significant</th><th scope=col>facet</th></tr>\n",
       "\t<tr><th></th><th scope=col>&lt;dbl&gt;</th><th scope=col>&lt;dbl&gt;</th><th scope=col>&lt;dbl&gt;</th><th scope=col>&lt;chr&gt;</th><th scope=col>&lt;dbl&gt;</th><th scope=col>&lt;chr&gt;</th><th scope=col>&lt;fct&gt;</th></tr>\n",
       "</thead>\n",
       "<tbody>\n",
       "\t<tr><th scope=row>(Intercept)</th><td>-1.645726830</td><td>-1.362692702</td><td>-1.079658574</td><td>Intercept</td><td>1.001048e-14</td><td>Significant at 0.05 level    </td><td>Intercept    </td></tr>\n",
       "\t<tr><th scope=row>Ndose</th><td>-0.002955178</td><td> 0.001370082</td><td> 0.005695343</td><td>Dose N   </td><td>5.300065e-01</td><td>Not significant at 0.05 level</td><td>Nitrogen dose</td></tr>\n",
       "\t<tr><th scope=row>...3</th><td>          NA</td><td>-0.003696603</td><td>          NA</td><td>site #10 </td><td>          NA</td><td>NA                           </td><td>Random effect</td></tr>\n",
       "\t<tr><th scope=row>...4</th><td>          NA</td><td> 0.089219883</td><td>          NA</td><td>site #45 </td><td>          NA</td><td>NA                           </td><td>Random effect</td></tr>\n",
       "\t<tr><th scope=row>...5</th><td>          NA</td><td>-0.268151265</td><td>          NA</td><td>site #9  </td><td>          NA</td><td>NA                           </td><td>Random effect</td></tr>\n",
       "\t<tr><th scope=row>...6</th><td>          NA</td><td> 0.182627986</td><td>          NA</td><td>site #A9 </td><td>          NA</td><td>NA                           </td><td>Random effect</td></tr>\n",
       "</tbody>\n",
       "</table>\n"
      ],
      "text/latex": [
       "A data.frame: 6 × 7\n",
       "\\begin{tabular}{r|lllllll}\n",
       "  & lower & est. & upper & variable & pvalue & is\\_significant & facet\\\\\n",
       "  & <dbl> & <dbl> & <dbl> & <chr> & <dbl> & <chr> & <fct>\\\\\n",
       "\\hline\n",
       "\t(Intercept) & -1.645726830 & -1.362692702 & -1.079658574 & Intercept & 1.001048e-14 & Significant at 0.05 level     & Intercept    \\\\\n",
       "\tNdose & -0.002955178 &  0.001370082 &  0.005695343 & Dose N    & 5.300065e-01 & Not significant at 0.05 level & Nitrogen dose\\\\\n",
       "\t...3 &           NA & -0.003696603 &           NA & site \\#10  &           NA & NA                            & Random effect\\\\\n",
       "\t...4 &           NA &  0.089219883 &           NA & site \\#45  &           NA & NA                            & Random effect\\\\\n",
       "\t...5 &           NA & -0.268151265 &           NA & site \\#9   &           NA & NA                            & Random effect\\\\\n",
       "\t...6 &           NA &  0.182627986 &           NA & site \\#A9  &           NA & NA                            & Random effect\\\\\n",
       "\\end{tabular}\n"
      ],
      "text/markdown": [
       "\n",
       "A data.frame: 6 × 7\n",
       "\n",
       "| <!--/--> | lower &lt;dbl&gt; | est. &lt;dbl&gt; | upper &lt;dbl&gt; | variable &lt;chr&gt; | pvalue &lt;dbl&gt; | is_significant &lt;chr&gt; | facet &lt;fct&gt; |\n",
       "|---|---|---|---|---|---|---|---|\n",
       "| (Intercept) | -1.645726830 | -1.362692702 | -1.079658574 | Intercept | 1.001048e-14 | Significant at 0.05 level     | Intercept     |\n",
       "| Ndose | -0.002955178 |  0.001370082 |  0.005695343 | Dose N    | 5.300065e-01 | Not significant at 0.05 level | Nitrogen dose |\n",
       "| ...3 |           NA | -0.003696603 |           NA | site #10  |           NA | NA                            | Random effect |\n",
       "| ...4 |           NA |  0.089219883 |           NA | site #45  |           NA | NA                            | Random effect |\n",
       "| ...5 |           NA | -0.268151265 |           NA | site #9   |           NA | NA                            | Random effect |\n",
       "| ...6 |           NA |  0.182627986 |           NA | site #A9  |           NA | NA                            | Random effect |\n",
       "\n"
      ],
      "text/plain": [
       "            lower        est.         upper        variable  pvalue      \n",
       "(Intercept) -1.645726830 -1.362692702 -1.079658574 Intercept 1.001048e-14\n",
       "Ndose       -0.002955178  0.001370082  0.005695343 Dose N    5.300065e-01\n",
       "...3                  NA -0.003696603           NA site #10            NA\n",
       "...4                  NA  0.089219883           NA site #45            NA\n",
       "...5                  NA -0.268151265           NA site #9             NA\n",
       "...6                  NA  0.182627986           NA site #A9            NA\n",
       "            is_significant                facet        \n",
       "(Intercept) Significant at 0.05 level     Intercept    \n",
       "Ndose       Not significant at 0.05 level Nitrogen dose\n",
       "...3        NA                            Random effect\n",
       "...4        NA                            Random effect\n",
       "...5        NA                            Random effect\n",
       "...6        NA                            Random effect"
      ]
     },
     "metadata": {},
     "output_type": "display_data"
    }
   ],
   "source": [
    "S_tbi_gg$facet <- factor(c('Intercept',\n",
    "                        \"Nitrogen dose\",\n",
    "                           \"Random effect\", \"Random effect\", \"Random effect\", \"Random effect\"))\n",
    "\n",
    "S_tbi_gg <- S_tbi_gg %>%\n",
    "  mutate(facet = factor(facet, levels = rev(c(\"Random effect\", \n",
    "                                              \"Nitrogen dose\", \"Intercept\"))))\n",
    "S_tbi_gg"
   ]
  },
  {
   "cell_type": "markdown",
   "metadata": {},
   "source": [
    "The `S` table is now set up for the plot."
   ]
  },
  {
   "cell_type": "code",
   "execution_count": 46,
   "metadata": {},
   "outputs": [
    {
     "name": "stderr",
     "output_type": "stream",
     "text": [
      "Warning message:\n",
      "\"Removed 4 rows containing missing values (geom_segment).\"\n",
      "Warning message:\n",
      "\"Removed 4 rows containing missing values (geom_segment).\"\n"
     ]
    },
    {
     "data": {
      "image/png": "[encoded data removed]",
      "text/plain": [
       "plot without title"
      ]
     },
     "metadata": {
      "image/png": {
       "height": 240,
       "width": 600
      }
     },
     "output_type": "display_data"
    }
   ],
   "source": [
    "options(repr.plot.width = 10, repr.plot.height = 4)\n",
    "plot_S_tbi_model <- S_tbi_gg %>%\n",
    "  filter(variable != \"Intercept\") %>%\n",
    "  ggplot(aes(x = est., y = variable)) +\n",
    "  facet_grid(facet ~ ., scales = 'free', space = 'free') +\n",
    "  geom_vline(xintercept = 0, colour='grey70') +\n",
    "  geom_point() +\n",
    "  geom_segment(aes(x = lower, xend = upper, y = variable, yend = variable)) +\n",
    "  xlab('Coefficient') +\n",
    "  ylab('') +\n",
    "  theme_bw() +\n",
    "  theme(strip.text.y = element_text(angle=0),\n",
    "        legend.title = element_blank(),\n",
    "        legend.position = \"bottom\", strip.text = element_text(size = 14), axis.text=element_text(size=14),\n",
    "        axis.title=element_text(size=14)) \n",
    "plot_S_tbi_model\n",
    "  ggsave(\"figures/S_tbi-mixed-model-coefficients.png\",plot = plot_S_tbi_model, width = 10, height = 4, dpi = 600)"
   ]
  },
  {
   "cell_type": "markdown",
   "metadata": {},
   "source": [
    "## **Question 2**: Where cranberry soils are placed among the axes of the *TBI*?"
   ]
  },
  {
   "cell_type": "markdown",
   "metadata": {},
   "source": [
    "Here, we extracted data from Keuskamp et al.2013 in order to compare with cranberry ecosystem"
   ]
  },
  {
   "cell_type": "markdown",
   "metadata": {},
   "source": [
    "### Import data\n",
    "\n",
    "We adapted keuskamp's data by adding cranberry ecosystem"
   ]
  },
  {
   "cell_type": "code",
   "execution_count": 47,
   "metadata": {},
   "outputs": [
    {
     "name": "stderr",
     "output_type": "stream",
     "text": [
      "\u001b[36mi\u001b[39m Using \u001b[34m\u001b[34m','\u001b[34m\u001b[39m as decimal and \u001b[34m\u001b[34m'.'\u001b[34m\u001b[39m as grouping mark. Use \u001b[30m\u001b[47m\u001b[30m\u001b[47m`read_delim()`\u001b[47m\u001b[30m\u001b[49m\u001b[39m for more control.\n",
      "\n",
      "\n",
      "\u001b[36m--\u001b[39m \u001b[1m\u001b[1mColumn specification\u001b[1m\u001b[22m \u001b[36m--------------------------------------------------------\u001b[39m\n",
      "cols(\n",
      "  Nombre = \u001b[32mcol_double()\u001b[39m,\n",
      "  Region = \u001b[31mcol_character()\u001b[39m,\n",
      "  Stabilisation_factor_S = \u001b[32mcol_double()\u001b[39m,\n",
      "  SE_Stabilisation_factor = \u001b[32mcol_double()\u001b[39m,\n",
      "  Decomposition_rate_K = \u001b[32mcol_double()\u001b[39m,\n",
      "  SE_K = \u001b[32mcol_double()\u001b[39m\n",
      ")\n",
      "\n",
      "\n"
     ]
    },
    {
     "data": {
      "text/html": [
       "<table class=\"dataframe\">\n",
       "<caption>A tibble: 6 × 6</caption>\n",
       "<thead>\n",
       "\t<tr><th scope=col>Nombre</th><th scope=col>Region</th><th scope=col>Stabilisation_factor_S</th><th scope=col>SE_Stabilisation_factor</th><th scope=col>Decomposition_rate_K</th><th scope=col>SE_K</th></tr>\n",
       "\t<tr><th scope=col>&lt;dbl&gt;</th><th scope=col>&lt;chr&gt;</th><th scope=col>&lt;dbl&gt;</th><th scope=col>&lt;dbl&gt;</th><th scope=col>&lt;dbl&gt;</th><th scope=col>&lt;dbl&gt;</th></tr>\n",
       "</thead>\n",
       "<tbody>\n",
       "\t<tr><td>1</td><td>US-FL mangrove-dwarf </td><td>0.270600</td><td>0.028990</td><td>0.0097505</td><td>0.0006525</td></tr>\n",
       "\t<tr><td>2</td><td>US-FL mangrove-fringe</td><td>0.193400</td><td>0.009620</td><td>0.0230000</td><td>0.0016800</td></tr>\n",
       "\t<tr><td>3</td><td>IE peat-disturbed    </td><td>0.255000</td><td>0.022870</td><td>0.0092889</td><td>0.0003730</td></tr>\n",
       "\t<tr><td>4</td><td>IE peat-undisturbed  </td><td>0.198120</td><td>0.008700</td><td>0.0101330</td><td>0.0005600</td></tr>\n",
       "\t<tr><td>5</td><td>IS grassland-warmed  </td><td>0.038384</td><td>0.012029</td><td>0.0196000</td><td>0.0004380</td></tr>\n",
       "\t<tr><td>6</td><td>IS grassland-ambient </td><td>0.162970</td><td>0.017390</td><td>0.0211000</td><td>0.0014390</td></tr>\n",
       "</tbody>\n",
       "</table>\n"
      ],
      "text/latex": [
       "A tibble: 6 × 6\n",
       "\\begin{tabular}{llllll}\n",
       " Nombre & Region & Stabilisation\\_factor\\_S & SE\\_Stabilisation\\_factor & Decomposition\\_rate\\_K & SE\\_K\\\\\n",
       " <dbl> & <chr> & <dbl> & <dbl> & <dbl> & <dbl>\\\\\n",
       "\\hline\n",
       "\t 1 & US-FL mangrove-dwarf  & 0.270600 & 0.028990 & 0.0097505 & 0.0006525\\\\\n",
       "\t 2 & US-FL mangrove-fringe & 0.193400 & 0.009620 & 0.0230000 & 0.0016800\\\\\n",
       "\t 3 & IE peat-disturbed     & 0.255000 & 0.022870 & 0.0092889 & 0.0003730\\\\\n",
       "\t 4 & IE peat-undisturbed   & 0.198120 & 0.008700 & 0.0101330 & 0.0005600\\\\\n",
       "\t 5 & IS grassland-warmed   & 0.038384 & 0.012029 & 0.0196000 & 0.0004380\\\\\n",
       "\t 6 & IS grassland-ambient  & 0.162970 & 0.017390 & 0.0211000 & 0.0014390\\\\\n",
       "\\end{tabular}\n"
      ],
      "text/markdown": [
       "\n",
       "A tibble: 6 × 6\n",
       "\n",
       "| Nombre &lt;dbl&gt; | Region &lt;chr&gt; | Stabilisation_factor_S &lt;dbl&gt; | SE_Stabilisation_factor &lt;dbl&gt; | Decomposition_rate_K &lt;dbl&gt; | SE_K &lt;dbl&gt; |\n",
       "|---|---|---|---|---|---|\n",
       "| 1 | US-FL mangrove-dwarf  | 0.270600 | 0.028990 | 0.0097505 | 0.0006525 |\n",
       "| 2 | US-FL mangrove-fringe | 0.193400 | 0.009620 | 0.0230000 | 0.0016800 |\n",
       "| 3 | IE peat-disturbed     | 0.255000 | 0.022870 | 0.0092889 | 0.0003730 |\n",
       "| 4 | IE peat-undisturbed   | 0.198120 | 0.008700 | 0.0101330 | 0.0005600 |\n",
       "| 5 | IS grassland-warmed   | 0.038384 | 0.012029 | 0.0196000 | 0.0004380 |\n",
       "| 6 | IS grassland-ambient  | 0.162970 | 0.017390 | 0.0211000 | 0.0014390 |\n",
       "\n"
      ],
      "text/plain": [
       "  Nombre Region                Stabilisation_factor_S SE_Stabilisation_factor\n",
       "1 1      US-FL mangrove-dwarf  0.270600               0.028990               \n",
       "2 2      US-FL mangrove-fringe 0.193400               0.009620               \n",
       "3 3      IE peat-disturbed     0.255000               0.022870               \n",
       "4 4      IE peat-undisturbed   0.198120               0.008700               \n",
       "5 5      IS grassland-warmed   0.038384               0.012029               \n",
       "6 6      IS grassland-ambient  0.162970               0.017390               \n",
       "  Decomposition_rate_K SE_K     \n",
       "1 0.0097505            0.0006525\n",
       "2 0.0230000            0.0016800\n",
       "3 0.0092889            0.0003730\n",
       "4 0.0101330            0.0005600\n",
       "5 0.0196000            0.0004380\n",
       "6 0.0211000            0.0014390"
      ]
     },
     "metadata": {},
     "output_type": "display_data"
    }
   ],
   "source": [
    "df_keuskamp <- read_csv2(\"data/keuskamp_data.csv\")# Import Keuskamp data\n",
    "head(df_keuskamp)"
   ]
  },
  {
   "cell_type": "markdown",
   "metadata": {},
   "source": [
    "Create a logic column (`is_cranberry`) in order to identify `Cranberries` by color in the plot below"
   ]
  },
  {
   "cell_type": "code",
   "execution_count": 48,
   "metadata": {},
   "outputs": [],
   "source": [
    "df_keuskamp <- df_keuskamp %>%\n",
    "  mutate(is_cranberry = Region == \"Cranberries\",\n",
    "        Region_2 = paste(Nombre, Region, sep = \" - \"),\n",
    "        Region_2 = factor(Region_2, levels = as.vector(Region_2))) # Relevel group factor\n",
    "                         "
   ]
  },
  {
   "cell_type": "markdown",
   "metadata": {},
   "source": [
    "### Figure TBI"
   ]
  },
  {
   "cell_type": "markdown",
   "metadata": {},
   "source": [
    "TBI of Quebec cranberry agroecosystem compared to the TBI of ecosystems reported by Keuskamp et al 2013. United States–Florida = US-FL, China = CN, Panama = PA, the Netherlands = NL, Austria = AU, Ireland = IE, and Iceland = IS."
   ]
  },
  {
   "cell_type": "code",
   "execution_count": 49,
   "metadata": {},
   "outputs": [
    {
     "name": "stderr",
     "output_type": "stream",
     "text": [
      "Warning message:\n",
      "\"`expand_scale()` is deprecated; use `expansion()` instead.\"\n",
      "Warning message:\n",
      "\"`expand_scale()` is deprecated; use `expansion()` instead.\"\n"
     ]
    },
    {
     "ename": "ERROR",
     "evalue": "Error: Can't add `ggsave(\"figures/TBI_keuskamp.png\", width = 10, height = 7, dpi = 600)` to a ggplot object.\n",
     "output_type": "error",
     "traceback": [
      "Error: Can't add `ggsave(\"figures/TBI_keuskamp.png\", width = 10, height = 7, dpi = 600)` to a ggplot object.\nTraceback:\n",
      "1. `+.gg`(ggplot(df_keuskamp, aes(x = Stabilisation_factor_S, y = Decomposition_rate_K)) + \n .     geom_errorbar(aes(xmin = Stabilisation_factor_S - SE_Stabilisation_factor, \n .         xmax = Stabilisation_factor_S + SE_Stabilisation_factor, \n .         width = 0.001)) + geom_errorbar(aes(ymin = Decomposition_rate_K - \n .     SE_K, ymax = Decomposition_rate_K + SE_K, width = 0.01)) + \n .     geom_rect(aes(xmin = Stabilisation_factor_S - SE_Stabilisation_factor, \n .         xmax = Stabilisation_factor_S + SE_Stabilisation_factor, \n .         ymin = Decomposition_rate_K - SE_K, ymax = Decomposition_rate_K + \n .             SE_K), fill = \"grey80\", alpha = 0.2) + geom_point(aes(color = Region_2), \n .     size = 3) + scale_x_continuous(breaks = 0.05 * 0:1000, expand = expand_scale(add = 0.05)) + \n .     scale_y_continuous(breaks = 0.005 * 0:1000, expand = expand_scale(add = 0.005)) + \n .     geom_text_repel(aes(label = Nombre)) + theme_bw() + labs(x = expression(paste(\"Stabilization factor \", \n .     (italic(\"S\")))), y = expression(paste(\"Decomposition rate \", \n .     (italic(\"k\"))))) + theme(legend.position = c(0.8, 0.6), legend.title = element_blank(), \n .     legend.text = element_text(size = 14), axis.title = element_text(size = 16), \n .     axis.text = element_text(size = 14)), ggsave(\"figures/TBI_keuskamp.png\", \n .     width = 10, height = 7, dpi = 600))",
      "2. add_ggplot(e1, e2, e2name)",
      "3. ggplot_add(object, p, objectname)",
      "4. ggplot_add.default(object, p, objectname)",
      "5. abort(glue(\"Can't add `{object_name}` to a ggplot object.\"))",
      "6. signal_abort(cnd)"
     ]
    }
   ],
   "source": [
    "options(repr.plot.width = 10, repr.plot.height = 7)\n",
    "ggplot(df_keuskamp, aes(x = Stabilisation_factor_S, y = Decomposition_rate_K)) + \n",
    "geom_errorbar(aes(xmin = Stabilisation_factor_S - SE_Stabilisation_factor, xmax = Stabilisation_factor_S + \n",
    "                SE_Stabilisation_factor,  width= 0.001)) + \n",
    "geom_errorbar(aes(ymin = Decomposition_rate_K- SE_K, ymax = Decomposition_rate_K + \n",
    "                SE_K,  width= 0.01)) + #\n",
    "geom_rect(aes(xmin=Stabilisation_factor_S - SE_Stabilisation_factor, xmax=Stabilisation_factor_S + SE_Stabilisation_factor,\n",
    "              ymin=Decomposition_rate_K- SE_K, ymax=Decomposition_rate_K + SE_K), fill=\"grey80\", alpha=0.2) +\n",
    "geom_point(aes( color = `Region_2`), size = 3) +\n",
    "scale_x_continuous(breaks = 0.05*0:1000,\n",
    "                   expand = expand_scale(add = 0.05)) +\n",
    "scale_y_continuous(breaks = 0.005*0:1000,\n",
    "                  expand = expand_scale(add = 0.005)) +\n",
    "geom_text_repel(aes(label = Nombre)) + \n",
    "  theme_bw() +\n",
    " labs(x = expression(paste(\"Stabilization factor \",(italic(\"S\")))), y = expression(paste(\"Decomposition rate \", (italic(\"k\"))))) +\n",
    "theme(legend.position = c(0.80, 0.60), legend.title = element_blank(),\n",
    "     legend.text = element_text(size=14), axis.title=element_text(size=16), \n",
    "      axis.text=element_text(size=14)) +  \n",
    "ggsave(\"figures/TBI_keuskamp.png\", width = 10, height = 7, dpi = 600)"
   ]
  },
  {
   "cell_type": "markdown",
   "metadata": {},
   "source": [
    "### **Question 3**:What is the fractal kinetics of litter matterials ?\n",
    "\n",
    "Depending on the nature of decaying material and its immediate environment, the decomposition rate of plant residues can decrease gradually through time as follow: \n",
    "\n",
    "$$k_t = k_1 t^{{-h}}$$\n",
    "\n",
    "$$log \\left( k_t \\right) = log \\left( k_1 t^{-h} \\right)$$\n",
    "\n",
    "$$log \\left( k_t \\right) = log \\left( k_1 \\right) + log \\left(t^{-h} \\right)$$\n",
    "\n",
    "$$log \\left( k_t \\right) = log \\left( k_1 \\right) - h \\times log \\left(t\\right)$$\n",
    "\n",
    "Where $k_t$ is first order kinetics, $k_1$ is reaction rate at time t = 1 and $h$ is a fractal coefficient (0 ≤ h ≤ 1) accounting for the decreasing decomposition rate through time"
   ]
  },
  {
   "cell_type": "markdown",
   "metadata": {},
   "source": [
    "#### Fractal coefficient computation"
   ]
  },
  {
   "cell_type": "markdown",
   "metadata": {
    "tags": []
   },
   "source": [
    "##### Import data"
   ]
  },
  {
   "cell_type": "markdown",
   "metadata": {},
   "source": [
    "Fractal data set from 2018 trial contained information on `Final carbon (%)` `Final weight (g)` `Initial weight (g)` `Initial carbon (%)`   "
   ]
  },
  {
   "cell_type": "code",
   "execution_count": 55,
   "metadata": {},
   "outputs": [
    {
     "name": "stderr",
     "output_type": "stream",
     "text": [
      "\u001b[36mi\u001b[39m Using \u001b[34m\u001b[34m','\u001b[34m\u001b[39m as decimal and \u001b[34m\u001b[34m'.'\u001b[34m\u001b[39m as grouping mark. Use \u001b[30m\u001b[47m\u001b[30m\u001b[47m`read_delim()`\u001b[47m\u001b[30m\u001b[49m\u001b[39m for more control.\n",
      "\n",
      "\n",
      "\u001b[36m--\u001b[39m \u001b[1m\u001b[1mColumn specification\u001b[1m\u001b[22m \u001b[36m--------------------------------------------------------\u001b[39m\n",
      "cols(\n",
      "  `Tea type` = \u001b[31mcol_character()\u001b[39m,\n",
      "  Prelevement = \u001b[32mcol_double()\u001b[39m,\n",
      "  `Final carbon (%)` = \u001b[32mcol_double()\u001b[39m,\n",
      "  `Final weight (g)` = \u001b[32mcol_double()\u001b[39m,\n",
      "  `Initial weight (g)` = \u001b[32mcol_double()\u001b[39m,\n",
      "  `Initial carbon (%)` = \u001b[32mcol_double()\u001b[39m\n",
      ")\n",
      "\n",
      "\n"
     ]
    },
    {
     "data": {
      "text/html": [
       "<table class=\"dataframe\">\n",
       "<caption>A tibble: 6 × 6</caption>\n",
       "<thead>\n",
       "\t<tr><th scope=col>Tea type</th><th scope=col>Prelevement</th><th scope=col>Final carbon (%)</th><th scope=col>Final weight (g)</th><th scope=col>Initial weight (g)</th><th scope=col>Initial carbon (%)</th></tr>\n",
       "\t<tr><th scope=col>&lt;chr&gt;</th><th scope=col>&lt;dbl&gt;</th><th scope=col>&lt;dbl&gt;</th><th scope=col>&lt;dbl&gt;</th><th scope=col>&lt;dbl&gt;</th><th scope=col>&lt;dbl&gt;</th></tr>\n",
       "</thead>\n",
       "<tbody>\n",
       "\t<tr><td>Cranberry litter</td><td>1</td><td>52.97542</td><td>1.9686</td><td>1.893</td><td>50.003</td></tr>\n",
       "\t<tr><td>Cranberry litter</td><td>1</td><td>52.97542</td><td>2.0006</td><td>1.938</td><td>50.003</td></tr>\n",
       "\t<tr><td>Cranberry litter</td><td>1</td><td>52.97542</td><td>1.9766</td><td>1.923</td><td>50.003</td></tr>\n",
       "\t<tr><td>Cranberry litter</td><td>1</td><td>52.97542</td><td>1.9657</td><td>1.901</td><td>50.003</td></tr>\n",
       "\t<tr><td>Cranberry litter</td><td>1</td><td>52.97542</td><td>1.9817</td><td>1.907</td><td>50.003</td></tr>\n",
       "\t<tr><td>Cranberry litter</td><td>1</td><td>52.97542</td><td>1.9845</td><td>1.909</td><td>50.003</td></tr>\n",
       "</tbody>\n",
       "</table>\n"
      ],
      "text/latex": [
       "A tibble: 6 × 6\n",
       "\\begin{tabular}{llllll}\n",
       " Tea type & Prelevement & Final carbon (\\%) & Final weight (g) & Initial weight (g) & Initial carbon (\\%)\\\\\n",
       " <chr> & <dbl> & <dbl> & <dbl> & <dbl> & <dbl>\\\\\n",
       "\\hline\n",
       "\t Cranberry litter & 1 & 52.97542 & 1.9686 & 1.893 & 50.003\\\\\n",
       "\t Cranberry litter & 1 & 52.97542 & 2.0006 & 1.938 & 50.003\\\\\n",
       "\t Cranberry litter & 1 & 52.97542 & 1.9766 & 1.923 & 50.003\\\\\n",
       "\t Cranberry litter & 1 & 52.97542 & 1.9657 & 1.901 & 50.003\\\\\n",
       "\t Cranberry litter & 1 & 52.97542 & 1.9817 & 1.907 & 50.003\\\\\n",
       "\t Cranberry litter & 1 & 52.97542 & 1.9845 & 1.909 & 50.003\\\\\n",
       "\\end{tabular}\n"
      ],
      "text/markdown": [
       "\n",
       "A tibble: 6 × 6\n",
       "\n",
       "| Tea type &lt;chr&gt; | Prelevement &lt;dbl&gt; | Final carbon (%) &lt;dbl&gt; | Final weight (g) &lt;dbl&gt; | Initial weight (g) &lt;dbl&gt; | Initial carbon (%) &lt;dbl&gt; |\n",
       "|---|---|---|---|---|---|\n",
       "| Cranberry litter | 1 | 52.97542 | 1.9686 | 1.893 | 50.003 |\n",
       "| Cranberry litter | 1 | 52.97542 | 2.0006 | 1.938 | 50.003 |\n",
       "| Cranberry litter | 1 | 52.97542 | 1.9766 | 1.923 | 50.003 |\n",
       "| Cranberry litter | 1 | 52.97542 | 1.9657 | 1.901 | 50.003 |\n",
       "| Cranberry litter | 1 | 52.97542 | 1.9817 | 1.907 | 50.003 |\n",
       "| Cranberry litter | 1 | 52.97542 | 1.9845 | 1.909 | 50.003 |\n",
       "\n"
      ],
      "text/plain": [
       "  Tea type         Prelevement Final carbon (%) Final weight (g)\n",
       "1 Cranberry litter 1           52.97542         1.9686          \n",
       "2 Cranberry litter 1           52.97542         2.0006          \n",
       "3 Cranberry litter 1           52.97542         1.9766          \n",
       "4 Cranberry litter 1           52.97542         1.9657          \n",
       "5 Cranberry litter 1           52.97542         1.9817          \n",
       "6 Cranberry litter 1           52.97542         1.9845          \n",
       "  Initial weight (g) Initial carbon (%)\n",
       "1 1.893              50.003            \n",
       "2 1.938              50.003            \n",
       "3 1.923              50.003            \n",
       "4 1.901              50.003            \n",
       "5 1.907              50.003            \n",
       "6 1.909              50.003            "
      ]
     },
     "metadata": {},
     "output_type": "display_data"
    },
    {
     "data": {
      "text/html": [
       "<style>\n",
       ".list-inline {list-style: none; margin:0; padding: 0}\n",
       ".list-inline>li {display: inline-block}\n",
       ".list-inline>li:not(:last-child)::after {content: \"\\00b7\"; padding: 0 .5ex}\n",
       "</style>\n",
       "<ol class=list-inline><li>2613</li><li>6</li></ol>\n"
      ],
      "text/latex": [
       "\\begin{enumerate*}\n",
       "\\item 2613\n",
       "\\item 6\n",
       "\\end{enumerate*}\n"
      ],
      "text/markdown": [
       "1. 2613\n",
       "2. 6\n",
       "\n",
       "\n"
      ],
      "text/plain": [
       "[1] 2613    6"
      ]
     },
     "metadata": {},
     "output_type": "display_data"
    }
   ],
   "source": [
    "data_fractal <- read_csv2(\"data/data_fractal.csv\")\n",
    "head(data_fractal)\n",
    "dim(data_fractal)"
   ]
  },
  {
   "cell_type": "markdown",
   "metadata": {},
   "source": [
    "##### Adding some variables\n",
    "`First order kinetic names (k)`, `log(k)` and `Log(t)` has been computed. Then we select the variables needed in order compute the fractal coefficient `h`"
   ]
  },
  {
   "cell_type": "code",
   "execution_count": 56,
   "metadata": {},
   "outputs": [
    {
     "name": "stderr",
     "output_type": "stream",
     "text": [
      "Warning message in mask$eval_all_mutate(quo):\n",
      "\"production de NaN\"\n"
     ]
    }
   ],
   "source": [
    "data_lm_fractal <- data_fractal %>%\n",
    "  mutate(\n",
    "    # time and k\n",
    "    time = Prelevement * 21,\n",
    "    k = -log(`Final weight (g)` / `Initial weight (g)`)/ time,\n",
    "  ) %>%\n",
    "  mutate(\n",
    "    # log.time and log.k\n",
    "    log.time = log10(time),\n",
    "    log.k = log10(k)\n",
    "  ) %>%\n",
    "  select(`Tea type`, `k`,`log.time`, `log.k`, `time`)"
   ]
  },
  {
   "cell_type": "markdown",
   "metadata": {},
   "source": [
    "Then, we create data to store the results `intercept`, `slope` and r square `r_sq`"
   ]
  },
  {
   "cell_type": "code",
   "execution_count": 57,
   "metadata": {},
   "outputs": [],
   "source": [
    "fractal_kinetics <- tibble(\n",
    "    tea_types = c(\"Rooibos tea\", \"Cranberry litter\", \"Green tea\"),\n",
    "    intercept_ll = NA,\n",
    "    intercept = NA,\n",
    "    intercept_ul = NA,\n",
    "    slope_ll = NA,\n",
    "    slope = NA,\n",
    "    slope_ul = NA,\n",
    "    r_sq = NA\n",
    ")"
   ]
  },
  {
   "cell_type": "markdown",
   "metadata": {},
   "source": [
    "```\n",
    "lm(log.k ~ log.time)\n",
    "k1 = 10^intercept\n",
    "h = -slope\n",
    "```\n"
   ]
  },
  {
   "cell_type": "markdown",
   "metadata": {},
   "source": [
    "Computation of mean and sd value `log.time` and `log.k` by `time` and `tea type` to determine `h`"
   ]
  },
  {
   "cell_type": "code",
   "execution_count": 58,
   "metadata": {},
   "outputs": [
    {
     "data": {
      "text/html": [
       "<table class=\"dataframe\">\n",
       "<caption>A data.frame: 6 × 6</caption>\n",
       "<thead>\n",
       "\t<tr><th></th><th scope=col>time</th><th scope=col>Tea type</th><th scope=col>mean_log.time</th><th scope=col>sd_log.time</th><th scope=col>mean_log.k</th><th scope=col>sd_log.k</th></tr>\n",
       "\t<tr><th></th><th scope=col>&lt;dbl&gt;</th><th scope=col>&lt;chr&gt;</th><th scope=col>&lt;dbl&gt;</th><th scope=col>&lt;dbl&gt;</th><th scope=col>&lt;dbl&gt;</th><th scope=col>&lt;dbl&gt;</th></tr>\n",
       "</thead>\n",
       "<tbody>\n",
       "\t<tr><th scope=row>1</th><td>21</td><td>Cranberry litter</td><td>1.322219</td><td>0</td><td>-3.128705</td><td>0.60730982</td></tr>\n",
       "\t<tr><th scope=row>2</th><td>21</td><td>Green tea       </td><td>1.322219</td><td>0</td><td>-1.689927</td><td>0.14969712</td></tr>\n",
       "\t<tr><th scope=row>3</th><td>21</td><td>Rooibos tea     </td><td>1.322219</td><td>0</td><td>-2.232980</td><td>0.12904149</td></tr>\n",
       "\t<tr><th scope=row>4</th><td>42</td><td>Cranberry litter</td><td>1.623249</td><td>0</td><td>-2.963006</td><td>0.98060354</td></tr>\n",
       "\t<tr><th scope=row>5</th><td>42</td><td>Green tea       </td><td>1.623249</td><td>0</td><td>-1.849784</td><td>0.04160770</td></tr>\n",
       "\t<tr><th scope=row>6</th><td>42</td><td>Rooibos tea     </td><td>1.623249</td><td>0</td><td>-2.366805</td><td>0.09285622</td></tr>\n",
       "</tbody>\n",
       "</table>\n"
      ],
      "text/latex": [
       "A data.frame: 6 × 6\n",
       "\\begin{tabular}{r|llllll}\n",
       "  & time & Tea type & mean\\_log.time & sd\\_log.time & mean\\_log.k & sd\\_log.k\\\\\n",
       "  & <dbl> & <chr> & <dbl> & <dbl> & <dbl> & <dbl>\\\\\n",
       "\\hline\n",
       "\t1 & 21 & Cranberry litter & 1.322219 & 0 & -3.128705 & 0.60730982\\\\\n",
       "\t2 & 21 & Green tea        & 1.322219 & 0 & -1.689927 & 0.14969712\\\\\n",
       "\t3 & 21 & Rooibos tea      & 1.322219 & 0 & -2.232980 & 0.12904149\\\\\n",
       "\t4 & 42 & Cranberry litter & 1.623249 & 0 & -2.963006 & 0.98060354\\\\\n",
       "\t5 & 42 & Green tea        & 1.623249 & 0 & -1.849784 & 0.04160770\\\\\n",
       "\t6 & 42 & Rooibos tea      & 1.623249 & 0 & -2.366805 & 0.09285622\\\\\n",
       "\\end{tabular}\n"
      ],
      "text/markdown": [
       "\n",
       "A data.frame: 6 × 6\n",
       "\n",
       "| <!--/--> | time &lt;dbl&gt; | Tea type &lt;chr&gt; | mean_log.time &lt;dbl&gt; | sd_log.time &lt;dbl&gt; | mean_log.k &lt;dbl&gt; | sd_log.k &lt;dbl&gt; |\n",
       "|---|---|---|---|---|---|---|\n",
       "| 1 | 21 | Cranberry litter | 1.322219 | 0 | -3.128705 | 0.60730982 |\n",
       "| 2 | 21 | Green tea        | 1.322219 | 0 | -1.689927 | 0.14969712 |\n",
       "| 3 | 21 | Rooibos tea      | 1.322219 | 0 | -2.232980 | 0.12904149 |\n",
       "| 4 | 42 | Cranberry litter | 1.623249 | 0 | -2.963006 | 0.98060354 |\n",
       "| 5 | 42 | Green tea        | 1.623249 | 0 | -1.849784 | 0.04160770 |\n",
       "| 6 | 42 | Rooibos tea      | 1.623249 | 0 | -2.366805 | 0.09285622 |\n",
       "\n"
      ],
      "text/plain": [
       "  time Tea type         mean_log.time sd_log.time mean_log.k sd_log.k  \n",
       "1 21   Cranberry litter 1.322219      0           -3.128705  0.60730982\n",
       "2 21   Green tea        1.322219      0           -1.689927  0.14969712\n",
       "3 21   Rooibos tea      1.322219      0           -2.232980  0.12904149\n",
       "4 42   Cranberry litter 1.623249      0           -2.963006  0.98060354\n",
       "5 42   Green tea        1.623249      0           -1.849784  0.04160770\n",
       "6 42   Rooibos tea      1.623249      0           -2.366805  0.09285622"
      ]
     },
     "metadata": {},
     "output_type": "display_data"
    }
   ],
   "source": [
    "log_meanSD <- ddply(data_lm_fractal, ~ time + `Tea type`,\n",
    "      summarise, mean_log.time = mean(`log.time`, na.rm = TRUE), \n",
    "                            sd_log.time = sd(`log.time`, na.rm = TRUE),\n",
    "                            mean_log.k = mean(`log.k`, na.rm = TRUE),\n",
    "                            sd_log.k = sd(`log.k`, na.rm = TRUE))\n",
    "head(log_meanSD)"
   ]
  },
  {
   "cell_type": "code",
   "execution_count": 59,
   "metadata": {},
   "outputs": [
    {
     "data": {
      "text/html": [
       "<table class=\"dataframe\">\n",
       "<caption>A data.frame: 6 × 4</caption>\n",
       "<thead>\n",
       "\t<tr><th></th><th scope=col>time</th><th scope=col>Tea type</th><th scope=col>log.time</th><th scope=col>log.k</th></tr>\n",
       "\t<tr><th></th><th scope=col>&lt;dbl&gt;</th><th scope=col>&lt;chr&gt;</th><th scope=col>&lt;dbl&gt;</th><th scope=col>&lt;dbl&gt;</th></tr>\n",
       "</thead>\n",
       "<tbody>\n",
       "\t<tr><th scope=row>1</th><td> 21</td><td>Cranberry litter</td><td>1.322219</td><td>-3.128705</td></tr>\n",
       "\t<tr><th scope=row>2</th><td> 42</td><td>Cranberry litter</td><td>1.623249</td><td>-2.963006</td></tr>\n",
       "\t<tr><th scope=row>3</th><td> 63</td><td>Cranberry litter</td><td>1.799341</td><td>-3.746522</td></tr>\n",
       "\t<tr><th scope=row>4</th><td> 84</td><td>Cranberry litter</td><td>1.924279</td><td>-3.503940</td></tr>\n",
       "\t<tr><th scope=row>5</th><td>105</td><td>Cranberry litter</td><td>2.021189</td><td>-3.119618</td></tr>\n",
       "\t<tr><th scope=row>6</th><td>126</td><td>Cranberry litter</td><td>2.100371</td><td>-3.023068</td></tr>\n",
       "</tbody>\n",
       "</table>\n"
      ],
      "text/latex": [
       "A data.frame: 6 × 4\n",
       "\\begin{tabular}{r|llll}\n",
       "  & time & Tea type & log.time & log.k\\\\\n",
       "  & <dbl> & <chr> & <dbl> & <dbl>\\\\\n",
       "\\hline\n",
       "\t1 &  21 & Cranberry litter & 1.322219 & -3.128705\\\\\n",
       "\t2 &  42 & Cranberry litter & 1.623249 & -2.963006\\\\\n",
       "\t3 &  63 & Cranberry litter & 1.799341 & -3.746522\\\\\n",
       "\t4 &  84 & Cranberry litter & 1.924279 & -3.503940\\\\\n",
       "\t5 & 105 & Cranberry litter & 2.021189 & -3.119618\\\\\n",
       "\t6 & 126 & Cranberry litter & 2.100371 & -3.023068\\\\\n",
       "\\end{tabular}\n"
      ],
      "text/markdown": [
       "\n",
       "A data.frame: 6 × 4\n",
       "\n",
       "| <!--/--> | time &lt;dbl&gt; | Tea type &lt;chr&gt; | log.time &lt;dbl&gt; | log.k &lt;dbl&gt; |\n",
       "|---|---|---|---|---|\n",
       "| 1 |  21 | Cranberry litter | 1.322219 | -3.128705 |\n",
       "| 2 |  42 | Cranberry litter | 1.623249 | -2.963006 |\n",
       "| 3 |  63 | Cranberry litter | 1.799341 | -3.746522 |\n",
       "| 4 |  84 | Cranberry litter | 1.924279 | -3.503940 |\n",
       "| 5 | 105 | Cranberry litter | 2.021189 | -3.119618 |\n",
       "| 6 | 126 | Cranberry litter | 2.100371 | -3.023068 |\n",
       "\n"
      ],
      "text/plain": [
       "  time Tea type         log.time log.k    \n",
       "1  21  Cranberry litter 1.322219 -3.128705\n",
       "2  42  Cranberry litter 1.623249 -2.963006\n",
       "3  63  Cranberry litter 1.799341 -3.746522\n",
       "4  84  Cranberry litter 1.924279 -3.503940\n",
       "5 105  Cranberry litter 2.021189 -3.119618\n",
       "6 126  Cranberry litter 2.100371 -3.023068"
      ]
     },
     "metadata": {},
     "output_type": "display_data"
    }
   ],
   "source": [
    "data_median_lm_fractal <- aggregate(cbind(log.time, log.k) ~ time + `Tea type`, data = data_lm_fractal, FUN = mean)\n",
    "head(data_median_lm_fractal)"
   ]
  },
  {
   "cell_type": "markdown",
   "metadata": {},
   "source": [
    "Applying `lm` in a loop `for` in order to compute `h`, r square `r_sq` and `k1` by `tea type`"
   ]
  },
  {
   "cell_type": "code",
   "execution_count": 60,
   "metadata": {},
   "outputs": [],
   "source": [
    "conf_level <- 0.95\n",
    "\n",
    "for (i in 1:nrow(fractal_kinetics)) {\n",
    "    \n",
    "    lm_fractal <- log_meanSD %>%\n",
    "      filter(`Tea type` == fractal_kinetics$tea_types[i]) %>%\n",
    "      lm(`mean_log.k` ~ `mean_log.time`, data = .)\n",
    "    \n",
    "    # intercept\n",
    "    fractal_kinetics$intercept_ll[i] <- confint(lm_fractal, level = conf_level)[1, 1]\n",
    "    fractal_kinetics$intercept[i] <- coef(lm_fractal)[1]\n",
    "    fractal_kinetics$intercept_ul[i] <- confint(lm_fractal, level = conf_level)[1, 2]\n",
    "    \n",
    "    # Slope\n",
    "    fractal_kinetics$slope_ll[i] <- confint(lm_fractal, level = conf_level)[2, 1]\n",
    "    fractal_kinetics$slope[i] <- coef(lm_fractal)[2]\n",
    "    fractal_kinetics$slope_ul[i] <- confint(lm_fractal, level = conf_level)[2, 2]\n",
    "    \n",
    "    # statistics\n",
    "    fractal_kinetics$r_sq[i] <- summary(lm_fractal)$r.squared\n",
    "}"
   ]
  },
  {
   "cell_type": "code",
   "execution_count": 61,
   "metadata": {},
   "outputs": [
    {
     "data": {
      "text/html": [
       "<table class=\"dataframe\">\n",
       "<caption>A tibble: 3 × 8</caption>\n",
       "<thead>\n",
       "\t<tr><th scope=col>tea_types</th><th scope=col>r_sq</th><th scope=col>h_ll</th><th scope=col>h</th><th scope=col>h_ul</th><th scope=col>k1_ll</th><th scope=col>k1</th><th scope=col>k1_ul</th></tr>\n",
       "\t<tr><th scope=col>&lt;chr&gt;</th><th scope=col>&lt;dbl&gt;</th><th scope=col>&lt;dbl&gt;</th><th scope=col>&lt;dbl&gt;</th><th scope=col>&lt;dbl&gt;</th><th scope=col>&lt;dbl&gt;</th><th scope=col>&lt;dbl&gt;</th><th scope=col>&lt;dbl&gt;</th></tr>\n",
       "</thead>\n",
       "<tbody>\n",
       "\t<tr><td>Rooibos tea     </td><td>0.936885569</td><td> 0.2608088</td><td> 0.37172296</td><td>0.4826371</td><td>1.123358e-02</td><td>0.0181173410</td><td>0.02921936</td></tr>\n",
       "\t<tr><td>Cranberry litter</td><td>0.004550046</td><td>-1.2131348</td><td>-0.06738182</td><td>1.0783711</td><td>3.304020e-06</td><td>0.0004606007</td><td>0.06421056</td></tr>\n",
       "\t<tr><td>Green tea       </td><td>0.979448280</td><td> 0.5179839</td><td> 0.62147514</td><td>0.7249664</td><td>9.181530e-02</td><td>0.1434165853</td><td>0.22401839</td></tr>\n",
       "</tbody>\n",
       "</table>\n"
      ],
      "text/latex": [
       "A tibble: 3 × 8\n",
       "\\begin{tabular}{llllllll}\n",
       " tea\\_types & r\\_sq & h\\_ll & h & h\\_ul & k1\\_ll & k1 & k1\\_ul\\\\\n",
       " <chr> & <dbl> & <dbl> & <dbl> & <dbl> & <dbl> & <dbl> & <dbl>\\\\\n",
       "\\hline\n",
       "\t Rooibos tea      & 0.936885569 &  0.2608088 &  0.37172296 & 0.4826371 & 1.123358e-02 & 0.0181173410 & 0.02921936\\\\\n",
       "\t Cranberry litter & 0.004550046 & -1.2131348 & -0.06738182 & 1.0783711 & 3.304020e-06 & 0.0004606007 & 0.06421056\\\\\n",
       "\t Green tea        & 0.979448280 &  0.5179839 &  0.62147514 & 0.7249664 & 9.181530e-02 & 0.1434165853 & 0.22401839\\\\\n",
       "\\end{tabular}\n"
      ],
      "text/markdown": [
       "\n",
       "A tibble: 3 × 8\n",
       "\n",
       "| tea_types &lt;chr&gt; | r_sq &lt;dbl&gt; | h_ll &lt;dbl&gt; | h &lt;dbl&gt; | h_ul &lt;dbl&gt; | k1_ll &lt;dbl&gt; | k1 &lt;dbl&gt; | k1_ul &lt;dbl&gt; |\n",
       "|---|---|---|---|---|---|---|---|\n",
       "| Rooibos tea      | 0.936885569 |  0.2608088 |  0.37172296 | 0.4826371 | 1.123358e-02 | 0.0181173410 | 0.02921936 |\n",
       "| Cranberry litter | 0.004550046 | -1.2131348 | -0.06738182 | 1.0783711 | 3.304020e-06 | 0.0004606007 | 0.06421056 |\n",
       "| Green tea        | 0.979448280 |  0.5179839 |  0.62147514 | 0.7249664 | 9.181530e-02 | 0.1434165853 | 0.22401839 |\n",
       "\n"
      ],
      "text/plain": [
       "  tea_types        r_sq        h_ll       h           h_ul      k1_ll       \n",
       "1 Rooibos tea      0.936885569  0.2608088  0.37172296 0.4826371 1.123358e-02\n",
       "2 Cranberry litter 0.004550046 -1.2131348 -0.06738182 1.0783711 3.304020e-06\n",
       "3 Green tea        0.979448280  0.5179839  0.62147514 0.7249664 9.181530e-02\n",
       "  k1           k1_ul     \n",
       "1 0.0181173410 0.02921936\n",
       "2 0.0004606007 0.06421056\n",
       "3 0.1434165853 0.22401839"
      ]
     },
     "metadata": {},
     "output_type": "display_data"
    }
   ],
   "source": [
    "fractal_kinetics <-  fractal_kinetics %>%\n",
    "  mutate(h_ll = -slope_ul,\n",
    "         h = -slope,\n",
    "         h_ul = -slope_ll,\n",
    "         k1_ll = 10^intercept_ll,\n",
    "         k1 = 10^intercept,\n",
    "        k1_ul = 10^intercept_ul)%>%\n",
    "  select(tea_types, r_sq, h_ll, h, h_ul, k1_ll, k1, k1_ul)\n",
    "fractal_kinetics"
   ]
  },
  {
   "cell_type": "markdown",
   "metadata": {},
   "source": [
    "Fractal first order parameters of teas and cranberry litter decomposition under field conditions"
   ]
  },
  {
   "cell_type": "code",
   "execution_count": 62,
   "metadata": {},
   "outputs": [
    {
     "data": {
      "text/html": [
       "<table class=\"dataframe\">\n",
       "<caption>A data.frame: 14 × 6</caption>\n",
       "<thead>\n",
       "\t<tr><th></th><th scope=col>time</th><th scope=col>Tea type</th><th scope=col>mean_log.time</th><th scope=col>sd_log.time</th><th scope=col>mean_log.k</th><th scope=col>sd_log.k</th></tr>\n",
       "\t<tr><th></th><th scope=col>&lt;dbl&gt;</th><th scope=col>&lt;chr&gt;</th><th scope=col>&lt;dbl&gt;</th><th scope=col>&lt;dbl&gt;</th><th scope=col>&lt;dbl&gt;</th><th scope=col>&lt;dbl&gt;</th></tr>\n",
       "</thead>\n",
       "<tbody>\n",
       "\t<tr><th scope=row>2</th><td> 21</td><td>Green tea  </td><td>1.322219</td><td>0</td><td>-1.689927</td><td>0.14969712</td></tr>\n",
       "\t<tr><th scope=row>3</th><td> 21</td><td>Rooibos tea</td><td>1.322219</td><td>0</td><td>-2.232980</td><td>0.12904149</td></tr>\n",
       "\t<tr><th scope=row>5</th><td> 42</td><td>Green tea  </td><td>1.623249</td><td>0</td><td>-1.849784</td><td>0.04160770</td></tr>\n",
       "\t<tr><th scope=row>6</th><td> 42</td><td>Rooibos tea</td><td>1.623249</td><td>0</td><td>-2.366805</td><td>0.09285622</td></tr>\n",
       "\t<tr><th scope=row>8</th><td> 63</td><td>Green tea  </td><td>1.799341</td><td>0</td><td>-1.927068</td><td>0.05339011</td></tr>\n",
       "\t<tr><th scope=row>9</th><td> 63</td><td>Rooibos tea</td><td>1.799341</td><td>0</td><td>-2.380447</td><td>0.06285834</td></tr>\n",
       "\t<tr><th scope=row>11</th><td> 84</td><td>Green tea  </td><td>1.924279</td><td>0</td><td>-2.018993</td><td>0.07034026</td></tr>\n",
       "\t<tr><th scope=row>12</th><td> 84</td><td>Rooibos tea</td><td>1.924279</td><td>0</td><td>-2.467779</td><td>0.07414211</td></tr>\n",
       "\t<tr><th scope=row>14</th><td>105</td><td>Green tea  </td><td>2.021189</td><td>0</td><td>-2.079947</td><td>0.07228345</td></tr>\n",
       "\t<tr><th scope=row>15</th><td>105</td><td>Rooibos tea</td><td>2.021189</td><td>0</td><td>-2.493844</td><td>0.06771997</td></tr>\n",
       "\t<tr><th scope=row>17</th><td>126</td><td>Green tea  </td><td>2.100371</td><td>0</td><td>-2.161851</td><td>0.08641593</td></tr>\n",
       "\t<tr><th scope=row>18</th><td>126</td><td>Rooibos tea</td><td>2.100371</td><td>0</td><td>-2.480185</td><td>0.11147180</td></tr>\n",
       "\t<tr><th scope=row>20</th><td>147</td><td>Green tea  </td><td>2.167317</td><td>0</td><td>-2.229287</td><td>0.08031521</td></tr>\n",
       "\t<tr><th scope=row>21</th><td>147</td><td>Rooibos tea</td><td>2.167317</td><td>0</td><td>-2.588073</td><td>0.10131111</td></tr>\n",
       "</tbody>\n",
       "</table>\n"
      ],
      "text/latex": [
       "A data.frame: 14 × 6\n",
       "\\begin{tabular}{r|llllll}\n",
       "  & time & Tea type & mean\\_log.time & sd\\_log.time & mean\\_log.k & sd\\_log.k\\\\\n",
       "  & <dbl> & <chr> & <dbl> & <dbl> & <dbl> & <dbl>\\\\\n",
       "\\hline\n",
       "\t2 &  21 & Green tea   & 1.322219 & 0 & -1.689927 & 0.14969712\\\\\n",
       "\t3 &  21 & Rooibos tea & 1.322219 & 0 & -2.232980 & 0.12904149\\\\\n",
       "\t5 &  42 & Green tea   & 1.623249 & 0 & -1.849784 & 0.04160770\\\\\n",
       "\t6 &  42 & Rooibos tea & 1.623249 & 0 & -2.366805 & 0.09285622\\\\\n",
       "\t8 &  63 & Green tea   & 1.799341 & 0 & -1.927068 & 0.05339011\\\\\n",
       "\t9 &  63 & Rooibos tea & 1.799341 & 0 & -2.380447 & 0.06285834\\\\\n",
       "\t11 &  84 & Green tea   & 1.924279 & 0 & -2.018993 & 0.07034026\\\\\n",
       "\t12 &  84 & Rooibos tea & 1.924279 & 0 & -2.467779 & 0.07414211\\\\\n",
       "\t14 & 105 & Green tea   & 2.021189 & 0 & -2.079947 & 0.07228345\\\\\n",
       "\t15 & 105 & Rooibos tea & 2.021189 & 0 & -2.493844 & 0.06771997\\\\\n",
       "\t17 & 126 & Green tea   & 2.100371 & 0 & -2.161851 & 0.08641593\\\\\n",
       "\t18 & 126 & Rooibos tea & 2.100371 & 0 & -2.480185 & 0.11147180\\\\\n",
       "\t20 & 147 & Green tea   & 2.167317 & 0 & -2.229287 & 0.08031521\\\\\n",
       "\t21 & 147 & Rooibos tea & 2.167317 & 0 & -2.588073 & 0.10131111\\\\\n",
       "\\end{tabular}\n"
      ],
      "text/markdown": [
       "\n",
       "A data.frame: 14 × 6\n",
       "\n",
       "| <!--/--> | time &lt;dbl&gt; | Tea type &lt;chr&gt; | mean_log.time &lt;dbl&gt; | sd_log.time &lt;dbl&gt; | mean_log.k &lt;dbl&gt; | sd_log.k &lt;dbl&gt; |\n",
       "|---|---|---|---|---|---|---|\n",
       "| 2 |  21 | Green tea   | 1.322219 | 0 | -1.689927 | 0.14969712 |\n",
       "| 3 |  21 | Rooibos tea | 1.322219 | 0 | -2.232980 | 0.12904149 |\n",
       "| 5 |  42 | Green tea   | 1.623249 | 0 | -1.849784 | 0.04160770 |\n",
       "| 6 |  42 | Rooibos tea | 1.623249 | 0 | -2.366805 | 0.09285622 |\n",
       "| 8 |  63 | Green tea   | 1.799341 | 0 | -1.927068 | 0.05339011 |\n",
       "| 9 |  63 | Rooibos tea | 1.799341 | 0 | -2.380447 | 0.06285834 |\n",
       "| 11 |  84 | Green tea   | 1.924279 | 0 | -2.018993 | 0.07034026 |\n",
       "| 12 |  84 | Rooibos tea | 1.924279 | 0 | -2.467779 | 0.07414211 |\n",
       "| 14 | 105 | Green tea   | 2.021189 | 0 | -2.079947 | 0.07228345 |\n",
       "| 15 | 105 | Rooibos tea | 2.021189 | 0 | -2.493844 | 0.06771997 |\n",
       "| 17 | 126 | Green tea   | 2.100371 | 0 | -2.161851 | 0.08641593 |\n",
       "| 18 | 126 | Rooibos tea | 2.100371 | 0 | -2.480185 | 0.11147180 |\n",
       "| 20 | 147 | Green tea   | 2.167317 | 0 | -2.229287 | 0.08031521 |\n",
       "| 21 | 147 | Rooibos tea | 2.167317 | 0 | -2.588073 | 0.10131111 |\n",
       "\n"
      ],
      "text/plain": [
       "   time Tea type    mean_log.time sd_log.time mean_log.k sd_log.k  \n",
       "2   21  Green tea   1.322219      0           -1.689927  0.14969712\n",
       "3   21  Rooibos tea 1.322219      0           -2.232980  0.12904149\n",
       "5   42  Green tea   1.623249      0           -1.849784  0.04160770\n",
       "6   42  Rooibos tea 1.623249      0           -2.366805  0.09285622\n",
       "8   63  Green tea   1.799341      0           -1.927068  0.05339011\n",
       "9   63  Rooibos tea 1.799341      0           -2.380447  0.06285834\n",
       "11  84  Green tea   1.924279      0           -2.018993  0.07034026\n",
       "12  84  Rooibos tea 1.924279      0           -2.467779  0.07414211\n",
       "14 105  Green tea   2.021189      0           -2.079947  0.07228345\n",
       "15 105  Rooibos tea 2.021189      0           -2.493844  0.06771997\n",
       "17 126  Green tea   2.100371      0           -2.161851  0.08641593\n",
       "18 126  Rooibos tea 2.100371      0           -2.480185  0.11147180\n",
       "20 147  Green tea   2.167317      0           -2.229287  0.08031521\n",
       "21 147  Rooibos tea 2.167317      0           -2.588073  0.10131111"
      ]
     },
     "metadata": {},
     "output_type": "display_data"
    }
   ],
   "source": [
    "log_meanSD <- subset(log_meanSD, `Tea type` == \"Green tea\" | `Tea type` == \"Rooibos tea\") \n",
    "fractal_kinetics2 <- subset(fractal_kinetics, tea_types == \"Green tea\" | tea_types == \"Rooibos tea\")\n",
    "log_meanSD"
   ]
  },
  {
   "cell_type": "code",
   "execution_count": 64,
   "metadata": {},
   "outputs": [
    {
     "name": "stderr",
     "output_type": "stream",
     "text": [
      "`geom_smooth()` using formula 'y ~ x'\n",
      "\n",
      "`geom_smooth()` using formula 'y ~ x'\n",
      "\n"
     ]
    },
    {
     "data": {
      "image/png": "[encoded data removed]",
      "text/plain": [
       "plot without title"
      ]
     },
     "metadata": {
      "image/png": {
       "height": 420,
       "width": 480
      }
     },
     "output_type": "display_data"
    }
   ],
   "source": [
    "options(repr.plot.width = 8, repr.plot.height = 7)\n",
    "log_meanSD %>%\n",
    "  ggplot(aes(x = mean_log.time, y  = mean_log.k)) +\n",
    "  geom_smooth(method = \"lm\", se = FALSE, colour=\"black\") +\n",
    "  geom_errorbar(aes(ymin=`mean_log.k`- `sd_log.k`, ymax=`mean_log.k` + \n",
    "                 `sd_log.k`,  width= 0.1)) + #, alpha=0.9, size=1.5,  width=3\n",
    "geom_point(size = 3) + \n",
    " facet_grid(. ~ `Tea type`) +\n",
    "  geom_text(data = fractal_kinetics2 %>%\n",
    "             rename(`Tea type`= tea_types),\n",
    "            parse = TRUE,\n",
    "            aes(label = paste(\"italic(h) ==\", round(h, 1), \"%+-%\", round(h-h_ll, 1))), \n",
    "            x = 1.60, y = -2, size = 5) + #\n",
    "  geom_text(data = fractal_kinetics2 %>%\n",
    "             rename(`Tea type`= tea_types),  \n",
    "            parse = TRUE,\n",
    "            aes(label = paste((\"italic(k[1]) ==\"), round(k1, 3), \"%+-%\", round(k1- k1_ll, 3))),\n",
    "            x = 1.60, y = -2.1, size = 5) +\n",
    "geom_text(data = fractal_kinetics2 %>%\n",
    "              rename(`Tea type`= tea_types),\n",
    "          parse = TRUE,\n",
    "            aes(label = paste((\"R^2 ==\"), round(r_sq, 2))),\n",
    "            x = 1.5, y = -2.2, size = 5) +\n",
    "labs(x = expression(paste(\"log \",italic(\"(t)\"))), y=expression(paste(\"log \",italic(\"(k)\")))) +\n",
    "  theme_bw() + \n",
    "theme(strip.text = element_text(size = 14), axis.text=element_text(size=14),\n",
    "        axis.title=element_text(size=12)) \n",
    "ggsave(\"figures/Fractal first order parameters of teas and cranberry litter decomposition under field conditions.png\",\n",
    "       width = 8, height = 7, dpi = 600)"
   ]
  },
  {
   "cell_type": "markdown",
   "metadata": {},
   "source": [
    "## Estimation of the carbon decreasing rate of teas and cranberry residue"
   ]
  },
  {
   "cell_type": "markdown",
   "metadata": {},
   "source": [
    "Reaction rate $k_1$ at time t = 1 and fractal coefficient $h$"
   ]
  },
  {
   "cell_type": "code",
   "execution_count": 65,
   "metadata": {},
   "outputs": [
    {
     "data": {
      "text/html": [
       "<table class=\"dataframe\">\n",
       "<caption>A tibble: 3 × 8</caption>\n",
       "<thead>\n",
       "\t<tr><th scope=col>tea_types</th><th scope=col>r_sq</th><th scope=col>h_ll</th><th scope=col>h</th><th scope=col>h_ul</th><th scope=col>k1_ll</th><th scope=col>k1</th><th scope=col>k1_ul</th></tr>\n",
       "\t<tr><th scope=col>&lt;chr&gt;</th><th scope=col>&lt;dbl&gt;</th><th scope=col>&lt;dbl&gt;</th><th scope=col>&lt;dbl&gt;</th><th scope=col>&lt;dbl&gt;</th><th scope=col>&lt;dbl&gt;</th><th scope=col>&lt;dbl&gt;</th><th scope=col>&lt;dbl&gt;</th></tr>\n",
       "</thead>\n",
       "<tbody>\n",
       "\t<tr><td>Rooibos tea     </td><td>0.936885569</td><td> 0.2608088</td><td> 0.37172296</td><td>0.4826371</td><td>1.123358e-02</td><td>0.0181173410</td><td>0.02921936</td></tr>\n",
       "\t<tr><td>Cranberry litter</td><td>0.004550046</td><td>-1.2131348</td><td>-0.06738182</td><td>1.0783711</td><td>3.304020e-06</td><td>0.0004606007</td><td>0.06421056</td></tr>\n",
       "\t<tr><td>Green tea       </td><td>0.979448280</td><td> 0.5179839</td><td> 0.62147514</td><td>0.7249664</td><td>9.181530e-02</td><td>0.1434165853</td><td>0.22401839</td></tr>\n",
       "</tbody>\n",
       "</table>\n"
      ],
      "text/latex": [
       "A tibble: 3 × 8\n",
       "\\begin{tabular}{llllllll}\n",
       " tea\\_types & r\\_sq & h\\_ll & h & h\\_ul & k1\\_ll & k1 & k1\\_ul\\\\\n",
       " <chr> & <dbl> & <dbl> & <dbl> & <dbl> & <dbl> & <dbl> & <dbl>\\\\\n",
       "\\hline\n",
       "\t Rooibos tea      & 0.936885569 &  0.2608088 &  0.37172296 & 0.4826371 & 1.123358e-02 & 0.0181173410 & 0.02921936\\\\\n",
       "\t Cranberry litter & 0.004550046 & -1.2131348 & -0.06738182 & 1.0783711 & 3.304020e-06 & 0.0004606007 & 0.06421056\\\\\n",
       "\t Green tea        & 0.979448280 &  0.5179839 &  0.62147514 & 0.7249664 & 9.181530e-02 & 0.1434165853 & 0.22401839\\\\\n",
       "\\end{tabular}\n"
      ],
      "text/markdown": [
       "\n",
       "A tibble: 3 × 8\n",
       "\n",
       "| tea_types &lt;chr&gt; | r_sq &lt;dbl&gt; | h_ll &lt;dbl&gt; | h &lt;dbl&gt; | h_ul &lt;dbl&gt; | k1_ll &lt;dbl&gt; | k1 &lt;dbl&gt; | k1_ul &lt;dbl&gt; |\n",
       "|---|---|---|---|---|---|---|---|\n",
       "| Rooibos tea      | 0.936885569 |  0.2608088 |  0.37172296 | 0.4826371 | 1.123358e-02 | 0.0181173410 | 0.02921936 |\n",
       "| Cranberry litter | 0.004550046 | -1.2131348 | -0.06738182 | 1.0783711 | 3.304020e-06 | 0.0004606007 | 0.06421056 |\n",
       "| Green tea        | 0.979448280 |  0.5179839 |  0.62147514 | 0.7249664 | 9.181530e-02 | 0.1434165853 | 0.22401839 |\n",
       "\n"
      ],
      "text/plain": [
       "  tea_types        r_sq        h_ll       h           h_ul      k1_ll       \n",
       "1 Rooibos tea      0.936885569  0.2608088  0.37172296 0.4826371 1.123358e-02\n",
       "2 Cranberry litter 0.004550046 -1.2131348 -0.06738182 1.0783711 3.304020e-06\n",
       "3 Green tea        0.979448280  0.5179839  0.62147514 0.7249664 9.181530e-02\n",
       "  k1           k1_ul     \n",
       "1 0.0181173410 0.02921936\n",
       "2 0.0004606007 0.06421056\n",
       "3 0.1434165853 0.22401839"
      ]
     },
     "metadata": {},
     "output_type": "display_data"
    }
   ],
   "source": [
    "fractal_kinetics"
   ]
  },
  {
   "cell_type": "code",
   "execution_count": 66,
   "metadata": {},
   "outputs": [],
   "source": [
    "k1_rooibos <- fractal_kinetics %>%\n",
    "  filter(tea_types == \"Rooibos tea\") %>%\n",
    "  pull(k1)\n",
    "\n",
    "k1_green <- fractal_kinetics %>%\n",
    "  filter(tea_types == \"Green tea\") %>%\n",
    "  pull(k1)\n",
    "\n",
    "k1_cranberry <- fractal_kinetics %>%\n",
    "  filter(tea_types == \"Cranberry litter\") %>%\n",
    "  pull(k1)\n",
    "\n",
    "h_rooibos <- fractal_kinetics %>%\n",
    "  filter(tea_types == \"Rooibos tea\") %>%\n",
    "  pull(h)\n",
    "\n",
    "h_green <- fractal_kinetics %>%\n",
    "  filter(tea_types == \"Green tea\") %>%\n",
    "  pull(h)\n",
    "\n",
    "h_cranberry <- fractal_kinetics %>%\n",
    "  filter(tea_types == \"Cranberry litter\") %>%\n",
    "  pull(h)"
   ]
  },
  {
   "cell_type": "markdown",
   "metadata": {},
   "source": [
    "Computing  $k_t$ for each tea type and renaming somes variables to be able to group plot\n",
    "\n",
    "$$k_t = k_1 t^{{-h}}$$"
   ]
  },
  {
   "cell_type": "code",
   "execution_count": 67,
   "metadata": {},
   "outputs": [
    {
     "data": {
      "text/html": [
       "<table class=\"dataframe\">\n",
       "<caption>A data.frame: 7 × 5</caption>\n",
       "<thead>\n",
       "\t<tr><th scope=col>Prelevement</th><th scope=col>Time (days)</th><th scope=col>Cranberry litter</th><th scope=col>Rooibos tea</th><th scope=col>Green tea</th></tr>\n",
       "\t<tr><th scope=col>&lt;int&gt;</th><th scope=col>&lt;dbl&gt;</th><th scope=col>&lt;dbl&gt;</th><th scope=col>&lt;dbl&gt;</th><th scope=col>&lt;dbl&gt;</th></tr>\n",
       "</thead>\n",
       "<tbody>\n",
       "\t<tr><td>1</td><td> 21</td><td>0.0005654811</td><td>0.005842452</td><td>0.021620859</td></tr>\n",
       "\t<tr><td>2</td><td> 42</td><td>0.0005925187</td><td>0.004515392</td><td>0.014053687</td></tr>\n",
       "\t<tr><td>3</td><td> 63</td><td>0.0006089300</td><td>0.003883634</td><td>0.010923302</td></tr>\n",
       "\t<tr><td>4</td><td> 84</td><td>0.0006208490</td><td>0.003489761</td><td>0.009134981</td></tr>\n",
       "\t<tr><td>5</td><td>105</td><td>0.0006302545</td><td>0.003211974</td><td>0.007952075</td></tr>\n",
       "\t<tr><td>6</td><td>126</td><td>0.0006380450</td><td>0.003001501</td><td>0.007100212</td></tr>\n",
       "\t<tr><td>7</td><td>147</td><td>0.0006447069</td><td>0.002834346</td><td>0.006451572</td></tr>\n",
       "</tbody>\n",
       "</table>\n"
      ],
      "text/latex": [
       "A data.frame: 7 × 5\n",
       "\\begin{tabular}{lllll}\n",
       " Prelevement & Time (days) & Cranberry litter & Rooibos tea & Green tea\\\\\n",
       " <int> & <dbl> & <dbl> & <dbl> & <dbl>\\\\\n",
       "\\hline\n",
       "\t 1 &  21 & 0.0005654811 & 0.005842452 & 0.021620859\\\\\n",
       "\t 2 &  42 & 0.0005925187 & 0.004515392 & 0.014053687\\\\\n",
       "\t 3 &  63 & 0.0006089300 & 0.003883634 & 0.010923302\\\\\n",
       "\t 4 &  84 & 0.0006208490 & 0.003489761 & 0.009134981\\\\\n",
       "\t 5 & 105 & 0.0006302545 & 0.003211974 & 0.007952075\\\\\n",
       "\t 6 & 126 & 0.0006380450 & 0.003001501 & 0.007100212\\\\\n",
       "\t 7 & 147 & 0.0006447069 & 0.002834346 & 0.006451572\\\\\n",
       "\\end{tabular}\n"
      ],
      "text/markdown": [
       "\n",
       "A data.frame: 7 × 5\n",
       "\n",
       "| Prelevement &lt;int&gt; | Time (days) &lt;dbl&gt; | Cranberry litter &lt;dbl&gt; | Rooibos tea &lt;dbl&gt; | Green tea &lt;dbl&gt; |\n",
       "|---|---|---|---|---|\n",
       "| 1 |  21 | 0.0005654811 | 0.005842452 | 0.021620859 |\n",
       "| 2 |  42 | 0.0005925187 | 0.004515392 | 0.014053687 |\n",
       "| 3 |  63 | 0.0006089300 | 0.003883634 | 0.010923302 |\n",
       "| 4 |  84 | 0.0006208490 | 0.003489761 | 0.009134981 |\n",
       "| 5 | 105 | 0.0006302545 | 0.003211974 | 0.007952075 |\n",
       "| 6 | 126 | 0.0006380450 | 0.003001501 | 0.007100212 |\n",
       "| 7 | 147 | 0.0006447069 | 0.002834346 | 0.006451572 |\n",
       "\n"
      ],
      "text/plain": [
       "  Prelevement Time (days) Cranberry litter Rooibos tea Green tea  \n",
       "1 1            21         0.0005654811     0.005842452 0.021620859\n",
       "2 2            42         0.0005925187     0.004515392 0.014053687\n",
       "3 3            63         0.0006089300     0.003883634 0.010923302\n",
       "4 4            84         0.0006208490     0.003489761 0.009134981\n",
       "5 5           105         0.0006302545     0.003211974 0.007952075\n",
       "6 6           126         0.0006380450     0.003001501 0.007100212\n",
       "7 7           147         0.0006447069     0.002834346 0.006451572"
      ]
     },
     "metadata": {},
     "output_type": "display_data"
    }
   ],
   "source": [
    "data_rate <- data.frame(Prelevement = 1:7) %>%\n",
    "                            mutate(`Time (days)` = Prelevement * 21,\n",
    "                                  `Rate cranberry` = k1_cranberry *  `Time (days)`**-h_cranberry,\n",
    "                                  `Rate rooibos` = k1_rooibos * `Time (days)`**-h_rooibos,\n",
    "                                  `Rate green` = k1_green * `Time (days)`**-h_green) %>%\n",
    "                            rename(`Cranberry litter` = `Rate cranberry`,\n",
    "                                  `Rooibos tea` = `Rate rooibos`,\n",
    "                                   `Green tea` = `Rate green`)\n",
    "data_rate"
   ]
  },
  {
   "cell_type": "markdown",
   "metadata": {},
   "source": [
    "Tranforming data_rate into long format data in order to generate the plot"
   ]
  },
  {
   "cell_type": "code",
   "execution_count": 68,
   "metadata": {},
   "outputs": [
    {
     "data": {
      "text/html": [
       "<style>\n",
       ".list-inline {list-style: none; margin:0; padding: 0}\n",
       ".list-inline>li {display: inline-block}\n",
       ".list-inline>li:not(:last-child)::after {content: \"\\00b7\"; padding: 0 .5ex}\n",
       "</style>\n",
       "<ol class=list-inline><li>'Tea type'</li><li>'k'</li><li>'log.time'</li><li>'log.k'</li><li>'time'</li></ol>\n"
      ],
      "text/latex": [
       "\\begin{enumerate*}\n",
       "\\item 'Tea type'\n",
       "\\item 'k'\n",
       "\\item 'log.time'\n",
       "\\item 'log.k'\n",
       "\\item 'time'\n",
       "\\end{enumerate*}\n"
      ],
      "text/markdown": [
       "1. 'Tea type'\n",
       "2. 'k'\n",
       "3. 'log.time'\n",
       "4. 'log.k'\n",
       "5. 'time'\n",
       "\n",
       "\n"
      ],
      "text/plain": [
       "[1] \"Tea type\" \"k\"        \"log.time\" \"log.k\"    \"time\"    "
      ]
     },
     "metadata": {},
     "output_type": "display_data"
    },
    {
     "data": {
      "text/html": [
       "<style>\n",
       ".list-inline {list-style: none; margin:0; padding: 0}\n",
       ".list-inline>li {display: inline-block}\n",
       ".list-inline>li:not(:last-child)::after {content: \"\\00b7\"; padding: 0 .5ex}\n",
       "</style>\n",
       "<ol class=list-inline><li>'Cranberry litter'</li><li>'Rooibos tea'</li><li>'Green tea'</li></ol>\n"
      ],
      "text/latex": [
       "\\begin{enumerate*}\n",
       "\\item 'Cranberry litter'\n",
       "\\item 'Rooibos tea'\n",
       "\\item 'Green tea'\n",
       "\\end{enumerate*}\n"
      ],
      "text/markdown": [
       "1. 'Cranberry litter'\n",
       "2. 'Rooibos tea'\n",
       "3. 'Green tea'\n",
       "\n",
       "\n"
      ],
      "text/plain": [
       "[1] \"Cranberry litter\" \"Rooibos tea\"      \"Green tea\"       "
      ]
     },
     "metadata": {},
     "output_type": "display_data"
    },
    {
     "data": {
      "text/html": [
       "<style>\n",
       ".list-inline {list-style: none; margin:0; padding: 0}\n",
       ".list-inline>li {display: inline-block}\n",
       ".list-inline>li:not(:last-child)::after {content: \"\\00b7\"; padding: 0 .5ex}\n",
       "</style>\n",
       "<ol class=list-inline><li>2613</li><li>5</li></ol>\n"
      ],
      "text/latex": [
       "\\begin{enumerate*}\n",
       "\\item 2613\n",
       "\\item 5\n",
       "\\end{enumerate*}\n"
      ],
      "text/markdown": [
       "1. 2613\n",
       "2. 5\n",
       "\n",
       "\n"
      ],
      "text/plain": [
       "[1] 2613    5"
      ]
     },
     "metadata": {},
     "output_type": "display_data"
    }
   ],
   "source": [
    "names(data_lm_fractal)\n",
    "unique(data_lm_fractal$`Tea type`)\n",
    "dim(data_lm_fractal)"
   ]
  },
  {
   "cell_type": "code",
   "execution_count": 69,
   "metadata": {},
   "outputs": [],
   "source": [
    "data_long <- gather(data = data_rate, key = `tea type`, value = Rate, c(`Cranberry litter`, `Rooibos tea`, `Green tea`),\n",
    "                    factor_key=TRUE)\n",
    "data_long <- data_long %>%\n",
    "             rename(`Litter type`= `tea type`)"
   ]
  },
  {
   "cell_type": "markdown",
   "metadata": {},
   "source": [
    "Plot of litter decomposition rate over time under field conditions"
   ]
  },
  {
   "cell_type": "code",
   "execution_count": 70,
   "metadata": {},
   "outputs": [
    {
     "data": {
      "text/html": [
       "<table class=\"dataframe\">\n",
       "<caption>A data.frame: 6 × 4</caption>\n",
       "<thead>\n",
       "\t<tr><th></th><th scope=col>Tea type</th><th scope=col>time</th><th scope=col>mean_rate_weight_loss</th><th scope=col>sd_rate_weight_loss</th></tr>\n",
       "\t<tr><th></th><th scope=col>&lt;chr&gt;</th><th scope=col>&lt;dbl&gt;</th><th scope=col>&lt;dbl&gt;</th><th scope=col>&lt;dbl&gt;</th></tr>\n",
       "</thead>\n",
       "<tbody>\n",
       "\t<tr><th scope=row>1</th><td>Cranberry litter</td><td> 21</td><td>-0.0016906719</td><td>0.0026021076</td></tr>\n",
       "\t<tr><th scope=row>2</th><td>Cranberry litter</td><td> 42</td><td>-0.0005611653</td><td>0.0017503227</td></tr>\n",
       "\t<tr><th scope=row>3</th><td>Cranberry litter</td><td> 63</td><td> 0.0001183135</td><td>0.0004344189</td></tr>\n",
       "\t<tr><th scope=row>4</th><td>Cranberry litter</td><td> 84</td><td> 0.0004121479</td><td>0.0005298686</td></tr>\n",
       "\t<tr><th scope=row>5</th><td>Cranberry litter</td><td>105</td><td> 0.0008068256</td><td>0.0003542452</td></tr>\n",
       "\t<tr><th scope=row>6</th><td>Cranberry litter</td><td>126</td><td> 0.0009773839</td><td>0.0002714074</td></tr>\n",
       "</tbody>\n",
       "</table>\n"
      ],
      "text/latex": [
       "A data.frame: 6 × 4\n",
       "\\begin{tabular}{r|llll}\n",
       "  & Tea type & time & mean\\_rate\\_weight\\_loss & sd\\_rate\\_weight\\_loss\\\\\n",
       "  & <chr> & <dbl> & <dbl> & <dbl>\\\\\n",
       "\\hline\n",
       "\t1 & Cranberry litter &  21 & -0.0016906719 & 0.0026021076\\\\\n",
       "\t2 & Cranberry litter &  42 & -0.0005611653 & 0.0017503227\\\\\n",
       "\t3 & Cranberry litter &  63 &  0.0001183135 & 0.0004344189\\\\\n",
       "\t4 & Cranberry litter &  84 &  0.0004121479 & 0.0005298686\\\\\n",
       "\t5 & Cranberry litter & 105 &  0.0008068256 & 0.0003542452\\\\\n",
       "\t6 & Cranberry litter & 126 &  0.0009773839 & 0.0002714074\\\\\n",
       "\\end{tabular}\n"
      ],
      "text/markdown": [
       "\n",
       "A data.frame: 6 × 4\n",
       "\n",
       "| <!--/--> | Tea type &lt;chr&gt; | time &lt;dbl&gt; | mean_rate_weight_loss &lt;dbl&gt; | sd_rate_weight_loss &lt;dbl&gt; |\n",
       "|---|---|---|---|---|\n",
       "| 1 | Cranberry litter |  21 | -0.0016906719 | 0.0026021076 |\n",
       "| 2 | Cranberry litter |  42 | -0.0005611653 | 0.0017503227 |\n",
       "| 3 | Cranberry litter |  63 |  0.0001183135 | 0.0004344189 |\n",
       "| 4 | Cranberry litter |  84 |  0.0004121479 | 0.0005298686 |\n",
       "| 5 | Cranberry litter | 105 |  0.0008068256 | 0.0003542452 |\n",
       "| 6 | Cranberry litter | 126 |  0.0009773839 | 0.0002714074 |\n",
       "\n"
      ],
      "text/plain": [
       "  Tea type         time mean_rate_weight_loss sd_rate_weight_loss\n",
       "1 Cranberry litter  21  -0.0016906719         0.0026021076       \n",
       "2 Cranberry litter  42  -0.0005611653         0.0017503227       \n",
       "3 Cranberry litter  63   0.0001183135         0.0004344189       \n",
       "4 Cranberry litter  84   0.0004121479         0.0005298686       \n",
       "5 Cranberry litter 105   0.0008068256         0.0003542452       \n",
       "6 Cranberry litter 126   0.0009773839         0.0002714074       "
      ]
     },
     "metadata": {},
     "output_type": "display_data"
    }
   ],
   "source": [
    "meanSD_rate_weight_loss <- ddply(data_lm_fractal, ~ `Tea type` + `time`,\n",
    "      summarise, mean_rate_weight_loss = mean(`k`, na.rm = TRUE), \n",
    "                            sd_rate_weight_loss = sd(`k`, na.rm = TRUE))\n",
    "head(meanSD_rate_weight_loss)"
   ]
  },
  {
   "cell_type": "code",
   "execution_count": 71,
   "metadata": {},
   "outputs": [
    {
     "data": {
      "text/html": [
       "<style>\n",
       ".list-inline {list-style: none; margin:0; padding: 0}\n",
       ".list-inline>li {display: inline-block}\n",
       ".list-inline>li:not(:last-child)::after {content: \"\\00b7\"; padding: 0 .5ex}\n",
       "</style>\n",
       "<ol class=list-inline><li>'Tea type'</li><li>'time'</li><li>'mean_rate_weight_loss'</li><li>'sd_rate_weight_loss'</li></ol>\n"
      ],
      "text/latex": [
       "\\begin{enumerate*}\n",
       "\\item 'Tea type'\n",
       "\\item 'time'\n",
       "\\item 'mean\\_rate\\_weight\\_loss'\n",
       "\\item 'sd\\_rate\\_weight\\_loss'\n",
       "\\end{enumerate*}\n"
      ],
      "text/markdown": [
       "1. 'Tea type'\n",
       "2. 'time'\n",
       "3. 'mean_rate_weight_loss'\n",
       "4. 'sd_rate_weight_loss'\n",
       "\n",
       "\n"
      ],
      "text/plain": [
       "[1] \"Tea type\"              \"time\"                  \"mean_rate_weight_loss\"\n",
       "[4] \"sd_rate_weight_loss\"  "
      ]
     },
     "metadata": {},
     "output_type": "display_data"
    }
   ],
   "source": [
    "names(meanSD_rate_weight_loss)"
   ]
  },
  {
   "cell_type": "code",
   "execution_count": 72,
   "metadata": {},
   "outputs": [],
   "source": [
    "#install.packages(\"ggrepel\")\n",
    "#library(\"ggrepel\")\n",
    "data_label <- meanSD_rate_weight_loss                              # Modify data\n",
    "data_label$label <- NA\n",
    "data_label$label[which(data_label$`time` == max(data_label$`time`))] <- data_label$`Tea type`[which(data_label$`time` == max(data_label$`time`))]\n"
   ]
  },
  {
   "cell_type": "code",
   "execution_count": 73,
   "metadata": {},
   "outputs": [
    {
     "data": {
      "text/html": [
       "<style>\n",
       ".list-inline {list-style: none; margin:0; padding: 0}\n",
       ".list-inline>li {display: inline-block}\n",
       ".list-inline>li:not(:last-child)::after {content: \"\\00b7\"; padding: 0 .5ex}\n",
       "</style>\n",
       "<ol class=list-inline><li>'Cranberry litter'</li><li>'Green tea'</li><li>'Rooibos tea'</li></ol>\n"
      ],
      "text/latex": [
       "\\begin{enumerate*}\n",
       "\\item 'Cranberry litter'\n",
       "\\item 'Green tea'\n",
       "\\item 'Rooibos tea'\n",
       "\\end{enumerate*}\n"
      ],
      "text/markdown": [
       "1. 'Cranberry litter'\n",
       "2. 'Green tea'\n",
       "3. 'Rooibos tea'\n",
       "\n",
       "\n"
      ],
      "text/plain": [
       "[1] \"Cranberry litter\" \"Green tea\"        \"Rooibos tea\"     "
      ]
     },
     "metadata": {},
     "output_type": "display_data"
    },
    {
     "data": {
      "text/html": [
       "<style>\n",
       ".list-inline {list-style: none; margin:0; padding: 0}\n",
       ".list-inline>li {display: inline-block}\n",
       ".list-inline>li:not(:last-child)::after {content: \"\\00b7\"; padding: 0 .5ex}\n",
       "</style>\n",
       "<ol class=list-inline><li>'Cranberry litter'</li><li>'Green tea'</li><li>'Rooibos tea'</li></ol>\n"
      ],
      "text/latex": [
       "\\begin{enumerate*}\n",
       "\\item 'Cranberry litter'\n",
       "\\item 'Green tea'\n",
       "\\item 'Rooibos tea'\n",
       "\\end{enumerate*}\n"
      ],
      "text/markdown": [
       "1. 'Cranberry litter'\n",
       "2. 'Green tea'\n",
       "3. 'Rooibos tea'\n",
       "\n",
       "\n"
      ],
      "text/plain": [
       "[1] \"Cranberry litter\" \"Green tea\"        \"Rooibos tea\"     "
      ]
     },
     "metadata": {},
     "output_type": "display_data"
    },
    {
     "data": {
      "text/html": [
       "<style>\n",
       ".list-inline {list-style: none; margin:0; padding: 0}\n",
       ".list-inline>li {display: inline-block}\n",
       ".list-inline>li:not(:last-child)::after {content: \"\\00b7\"; padding: 0 .5ex}\n",
       "</style>\n",
       "<ol class=list-inline><li>7</li><li>14</li><li>21</li></ol>\n"
      ],
      "text/latex": [
       "\\begin{enumerate*}\n",
       "\\item 7\n",
       "\\item 14\n",
       "\\item 21\n",
       "\\end{enumerate*}\n"
      ],
      "text/markdown": [
       "1. 7\n",
       "2. 14\n",
       "3. 21\n",
       "\n",
       "\n"
      ],
      "text/plain": [
       "[1]  7 14 21"
      ]
     },
     "metadata": {},
     "output_type": "display_data"
    },
    {
     "data": {
      "text/html": [
       "<style>\n",
       ".list-inline {list-style: none; margin:0; padding: 0}\n",
       ".list-inline>li {display: inline-block}\n",
       ".list-inline>li:not(:last-child)::after {content: \"\\00b7\"; padding: 0 .5ex}\n",
       "</style>\n",
       "<ol class=list-inline><li>'Tea type'</li><li>'time'</li><li>'mean_rate_weight_loss'</li><li>'sd_rate_weight_loss'</li><li>'label'</li></ol>\n"
      ],
      "text/latex": [
       "\\begin{enumerate*}\n",
       "\\item 'Tea type'\n",
       "\\item 'time'\n",
       "\\item 'mean\\_rate\\_weight\\_loss'\n",
       "\\item 'sd\\_rate\\_weight\\_loss'\n",
       "\\item 'label'\n",
       "\\end{enumerate*}\n"
      ],
      "text/markdown": [
       "1. 'Tea type'\n",
       "2. 'time'\n",
       "3. 'mean_rate_weight_loss'\n",
       "4. 'sd_rate_weight_loss'\n",
       "5. 'label'\n",
       "\n",
       "\n"
      ],
      "text/plain": [
       "[1] \"Tea type\"              \"time\"                  \"mean_rate_weight_loss\"\n",
       "[4] \"sd_rate_weight_loss\"   \"label\"                "
      ]
     },
     "metadata": {},
     "output_type": "display_data"
    }
   ],
   "source": [
    "data_label$`Tea type`[which(data_label$`time` == max(data_label$`time`))]\n",
    "data_label$label[which(data_label$`time` == max(data_label$`time`))]\n",
    "which(data_label$`time` == max(data_label$`time`))\n",
    "names(data_label)"
   ]
  },
  {
   "cell_type": "code",
   "execution_count": 93,
   "metadata": {},
   "outputs": [
    {
     "name": "stderr",
     "output_type": "stream",
     "text": [
      "Warning message:\n",
      "\"`expand_scale()` is deprecated; use `expansion()` instead.\"\n",
      "Warning message:\n",
      "\"`expand_scale()` is deprecated; use `expansion()` instead.\"\n",
      "Scale for 'x' is already present. Adding another scale for 'x', which will\n",
      "replace the existing scale.\n",
      "\n"
     ]
    },
    {
     "data": {
      "text/plain": [
       "List of 3\n",
       " $ axis.title:List of 11\n",
       "  ..$ family       : NULL\n",
       "  ..$ face         : NULL\n",
       "  ..$ colour       : NULL\n",
       "  ..$ size         : num 14\n",
       "  ..$ hjust        : NULL\n",
       "  ..$ vjust        : NULL\n",
       "  ..$ angle        : NULL\n",
       "  ..$ lineheight   : NULL\n",
       "  ..$ margin       : NULL\n",
       "  ..$ debug        : NULL\n",
       "  ..$ inherit.blank: logi FALSE\n",
       "  ..- attr(*, \"class\")= chr [1:2] \"element_text\" \"element\"\n",
       " $ axis.text :List of 11\n",
       "  ..$ family       : NULL\n",
       "  ..$ face         : NULL\n",
       "  ..$ colour       : NULL\n",
       "  ..$ size         : num 14\n",
       "  ..$ hjust        : NULL\n",
       "  ..$ vjust        : NULL\n",
       "  ..$ angle        : NULL\n",
       "  ..$ lineheight   : NULL\n",
       "  ..$ margin       : NULL\n",
       "  ..$ debug        : NULL\n",
       "  ..$ inherit.blank: logi FALSE\n",
       "  ..- attr(*, \"class\")= chr [1:2] \"element_text\" \"element\"\n",
       " $ strip.text:List of 11\n",
       "  ..$ family       : NULL\n",
       "  ..$ face         : NULL\n",
       "  ..$ colour       : NULL\n",
       "  ..$ size         : num 14\n",
       "  ..$ hjust        : NULL\n",
       "  ..$ vjust        : NULL\n",
       "  ..$ angle        : NULL\n",
       "  ..$ lineheight   : NULL\n",
       "  ..$ margin       : NULL\n",
       "  ..$ debug        : NULL\n",
       "  ..$ inherit.blank: logi FALSE\n",
       "  ..- attr(*, \"class\")= chr [1:2] \"element_text\" \"element\"\n",
       " - attr(*, \"class\")= chr [1:2] \"theme\" \"gg\"\n",
       " - attr(*, \"complete\")= logi FALSE\n",
       " - attr(*, \"validate\")= logi TRUE"
      ]
     },
     "metadata": {},
     "output_type": "display_data"
    },
    {
     "data": {
      "image/png": "[encoded data removed]",
      "text/plain": [
       "plot without title"
      ]
     },
     "metadata": {
      "image/png": {
       "height": 480,
       "width": 480
      }
     },
     "output_type": "display_data"
    }
   ],
   "source": [
    "options(repr.plot.width = 8, repr.plot.height = 8)\n",
    "plot <- ggplot(data_label, aes(x = `time`, y = `mean_rate_weight_loss`, group = `Tea type`)) +\n",
    "geom_line() +\n",
    "geom_errorbar(aes(ymin=`mean_rate_weight_loss`- `sd_rate_weight_loss`, ymax=`mean_rate_weight_loss` + \n",
    "                 `sd_rate_weight_loss`), width=5, alpha= 1, size=0.6) + \n",
    "geom_point(aes(shape = `Tea type`), size = 3)+\n",
    "geom_text_repel(aes(label = label), nudge_x = 1, force_pull = -0.03,\n",
    "                 min.segment.length = 0.7, na.rm = TRUE) + \n",
    "labs(x = \"Elapsed time (days)\" , y = expression(\"Decomposition rate (day\"^\" -1\"~\")\"))  +\n",
    "scale_y_continuous(breaks = 0.002*0:1000,\n",
    "                     expand = expand_scale(add = 0.0002)) +\n",
    "scale_x_continuous(breaks = 10*0:1000,\n",
    "                     expand = expand_scale(add = 10)) +\n",
    " xlim(c(0,180)) +\n",
    "theme_bw() #+\n",
    "theme(strip.text = element_text(size = 14), axis.text=element_text(size=14), #legend.text = element_text(size=14),\n",
    "      #legend.title = element_text(size=14),\n",
    "        axis.title=element_text(size=14)) #+\n",
    "plot + theme(legend.position = \"none\")\n",
    "ggsave(\"figures/K(t).png\", width = 10, height = 7, dpi = 600)"
   ]
  },
  {
   "cell_type": "code",
   "execution_count": null,
   "metadata": {},
   "outputs": [],
   "source": []
  },
  {
   "cell_type": "markdown",
   "metadata": {
    "tags": []
   },
   "source": [
    "## 12. **Question 4**: What is the fractal kinetics of litter biochemical composition ?"
   ]
  },
  {
   "cell_type": "markdown",
   "metadata": {},
   "source": [
    "### 12.1 Biochemical composition data analysis \n",
    "Here, we load `data.csv`, `data_fiber_initial.csv` and `data_fiber.csv`available for the project in the `data` folder. The `data_2018.csv` contained incubation tea bag details and soil carateristics from the second essay in 2018; `data_fiber_initial.csv` contained only initial tea bag caracteristics and `data_fiber.csv` contained mostly tea bag biochemical details as soluble, holocellulose and lignin content. \n",
    "We wanted to use only data about `green tea`, `rooibos tea` and `cranberry residu`. In order to do that, we used `subset` function to get `data_subset`"
   ]
  },
  {
   "cell_type": "code",
   "execution_count": 142,
   "metadata": {},
   "outputs": [
    {
     "name": "stderr",
     "output_type": "stream",
     "text": [
      "\u001b[36mi\u001b[39m Using \u001b[34m\u001b[34m','\u001b[34m\u001b[39m as decimal and \u001b[34m\u001b[34m'.'\u001b[34m\u001b[39m as grouping mark. Use \u001b[30m\u001b[47m\u001b[30m\u001b[47m`read_delim()`\u001b[47m\u001b[30m\u001b[49m\u001b[39m for more control.\n",
      "\n",
      "\n",
      "\u001b[36m--\u001b[39m \u001b[1m\u001b[1mColumn specification\u001b[1m\u001b[22m \u001b[36m--------------------------------------------------------\u001b[39m\n",
      "cols(\n",
      "  `Iden fiber` = \u001b[31mcol_character()\u001b[39m,\n",
      "  `SOL perc ILR (%)` = \u001b[32mcol_double()\u001b[39m,\n",
      "  `HOLO perc ILR (%)` = \u001b[32mcol_double()\u001b[39m,\n",
      "  `LIC perc ILR (%)` = \u001b[32mcol_double()\u001b[39m\n",
      ")\n",
      "\n",
      "\n",
      "\u001b[36mi\u001b[39m Using \u001b[34m\u001b[34m','\u001b[34m\u001b[39m as decimal and \u001b[34m\u001b[34m'.'\u001b[34m\u001b[39m as grouping mark. Use \u001b[30m\u001b[47m\u001b[30m\u001b[47m`read_delim()`\u001b[47m\u001b[30m\u001b[49m\u001b[39m for more control.\n",
      "\n",
      "\n",
      "\u001b[36m--\u001b[39m \u001b[1m\u001b[1mColumn specification\u001b[1m\u001b[22m \u001b[36m--------------------------------------------------------\u001b[39m\n",
      "cols(\n",
      "  `Biomasse type` = \u001b[31mcol_character()\u001b[39m,\n",
      "  Repetition = \u001b[32mcol_double()\u001b[39m,\n",
      "  `SOL perc initial (%)` = \u001b[32mcol_double()\u001b[39m,\n",
      "  `LIC perc initial (%)` = \u001b[32mcol_double()\u001b[39m,\n",
      "  `HOLO perc initial (%)` = \u001b[32mcol_double()\u001b[39m\n",
      ")\n",
      "\n",
      "\n"
     ]
    },
    {
     "data": {
      "text/html": [
       "<style>\n",
       ".list-inline {list-style: none; margin:0; padding: 0}\n",
       ".list-inline>li {display: inline-block}\n",
       ".list-inline>li:not(:last-child)::after {content: \"\\00b7\"; padding: 0 .5ex}\n",
       "</style>\n",
       "<ol class=list-inline><li>'Biomasse type'</li><li>'Repetition'</li><li>'SOL perc initial (%)'</li><li>'LIC perc initial (%)'</li><li>'HOLO perc initial (%)'</li></ol>\n"
      ],
      "text/latex": [
       "\\begin{enumerate*}\n",
       "\\item 'Biomasse type'\n",
       "\\item 'Repetition'\n",
       "\\item 'SOL perc initial (\\%)'\n",
       "\\item 'LIC perc initial (\\%)'\n",
       "\\item 'HOLO perc initial (\\%)'\n",
       "\\end{enumerate*}\n"
      ],
      "text/markdown": [
       "1. 'Biomasse type'\n",
       "2. 'Repetition'\n",
       "3. 'SOL perc initial (%)'\n",
       "4. 'LIC perc initial (%)'\n",
       "5. 'HOLO perc initial (%)'\n",
       "\n",
       "\n"
      ],
      "text/plain": [
       "[1] \"Biomasse type\"         \"Repetition\"            \"SOL perc initial (%)\" \n",
       "[4] \"LIC perc initial (%)\"  \"HOLO perc initial (%)\""
      ]
     },
     "metadata": {},
     "output_type": "display_data"
    }
   ],
   "source": [
    "data <- read_csv2('data/data_2018.csv', col_types = \"??????????????f????????????????????\")\n",
    "data_fiber <- read_csv('data/data_fiber.csv')\n",
    "data_fiber_initial2 <- read_csv2('data/Initial_biochemical_composition.csv')\n",
    "names(data_fiber_initial2)"
   ]
  },
  {
   "cell_type": "code",
   "execution_count": 143,
   "metadata": {},
   "outputs": [
    {
     "data": {
      "text/html": [
       "<table class=\"dataframe\">\n",
       "<caption>A data.frame: 3 × 7</caption>\n",
       "<thead>\n",
       "\t<tr><th scope=col>Biomasse type</th><th scope=col>mean_SOL_initial (%)</th><th scope=col>sd_SOL_initial (%)</th><th scope=col>mean_LIC_initial (%)</th><th scope=col>sd_LIC_initial (%)</th><th scope=col>mean_HOLO_initial (%)</th><th scope=col>sd_HOLO_initial (%)</th></tr>\n",
       "\t<tr><th scope=col>&lt;chr&gt;</th><th scope=col>&lt;dbl&gt;</th><th scope=col>&lt;dbl&gt;</th><th scope=col>&lt;dbl&gt;</th><th scope=col>&lt;dbl&gt;</th><th scope=col>&lt;dbl&gt;</th><th scope=col>&lt;dbl&gt;</th></tr>\n",
       "</thead>\n",
       "<tbody>\n",
       "\t<tr><td>Cranberry litter</td><td>33.98039</td><td>3.315563</td><td>40.062538</td><td>2.748850</td><td>25.95707</td><td>0.8640548</td></tr>\n",
       "\t<tr><td>Green tea       </td><td>75.20968</td><td>1.530771</td><td> 9.983044</td><td>1.439903</td><td>14.80727</td><td>0.8841235</td></tr>\n",
       "\t<tr><td>Rooibos tea     </td><td>45.44203</td><td>1.363677</td><td>17.071021</td><td>1.060403</td><td>37.48695</td><td>0.3033845</td></tr>\n",
       "</tbody>\n",
       "</table>\n"
      ],
      "text/latex": [
       "A data.frame: 3 × 7\n",
       "\\begin{tabular}{lllllll}\n",
       " Biomasse type & mean\\_SOL\\_initial (\\%) & sd\\_SOL\\_initial (\\%) & mean\\_LIC\\_initial (\\%) & sd\\_LIC\\_initial (\\%) & mean\\_HOLO\\_initial (\\%) & sd\\_HOLO\\_initial (\\%)\\\\\n",
       " <chr> & <dbl> & <dbl> & <dbl> & <dbl> & <dbl> & <dbl>\\\\\n",
       "\\hline\n",
       "\t Cranberry litter & 33.98039 & 3.315563 & 40.062538 & 2.748850 & 25.95707 & 0.8640548\\\\\n",
       "\t Green tea        & 75.20968 & 1.530771 &  9.983044 & 1.439903 & 14.80727 & 0.8841235\\\\\n",
       "\t Rooibos tea      & 45.44203 & 1.363677 & 17.071021 & 1.060403 & 37.48695 & 0.3033845\\\\\n",
       "\\end{tabular}\n"
      ],
      "text/markdown": [
       "\n",
       "A data.frame: 3 × 7\n",
       "\n",
       "| Biomasse type &lt;chr&gt; | mean_SOL_initial (%) &lt;dbl&gt; | sd_SOL_initial (%) &lt;dbl&gt; | mean_LIC_initial (%) &lt;dbl&gt; | sd_LIC_initial (%) &lt;dbl&gt; | mean_HOLO_initial (%) &lt;dbl&gt; | sd_HOLO_initial (%) &lt;dbl&gt; |\n",
       "|---|---|---|---|---|---|---|\n",
       "| Cranberry litter | 33.98039 | 3.315563 | 40.062538 | 2.748850 | 25.95707 | 0.8640548 |\n",
       "| Green tea        | 75.20968 | 1.530771 |  9.983044 | 1.439903 | 14.80727 | 0.8841235 |\n",
       "| Rooibos tea      | 45.44203 | 1.363677 | 17.071021 | 1.060403 | 37.48695 | 0.3033845 |\n",
       "\n"
      ],
      "text/plain": [
       "  Biomasse type    mean_SOL_initial (%) sd_SOL_initial (%) mean_LIC_initial (%)\n",
       "1 Cranberry litter 33.98039             3.315563           40.062538           \n",
       "2 Green tea        75.20968             1.530771            9.983044           \n",
       "3 Rooibos tea      45.44203             1.363677           17.071021           \n",
       "  sd_LIC_initial (%) mean_HOLO_initial (%) sd_HOLO_initial (%)\n",
       "1 2.748850           25.95707              0.8640548          \n",
       "2 1.439903           14.80727              0.8841235          \n",
       "3 1.060403           37.48695              0.3033845          "
      ]
     },
     "metadata": {},
     "output_type": "display_data"
    }
   ],
   "source": [
    "Biochemical_meanSD <- ddply(data_fiber_initial2, ~ `Biomasse type`,\n",
    "      summarise, `mean_SOL_initial (%)` = mean(`SOL perc initial (%)`, na.rm = TRUE), \n",
    "                            `sd_SOL_initial (%)` = sd(`SOL perc initial (%)`, na.rm = TRUE),\n",
    "                            `mean_LIC_initial (%)` = mean(`LIC perc initial (%)`, na.rm = TRUE),\n",
    "                            `sd_LIC_initial (%)` = sd(`LIC perc initial (%)`, na.rm = TRUE),\n",
    "                            `mean_HOLO_initial (%)` = mean(`HOLO perc initial (%)`, na.rm = TRUE),\n",
    "                            `sd_HOLO_initial (%)` = sd(`HOLO perc initial (%)`, na.rm = TRUE))\n",
    "Biochemical_meanSD\n",
    "\n",
    "data_fiber_initial <- Biochemical_meanSD %>%\n",
    "rename(`Biomass type` = `Biomasse type`)"
   ]
  },
  {
   "cell_type": "code",
   "execution_count": 144,
   "metadata": {},
   "outputs": [],
   "source": [
    "data_subset <- subset(data,  (`Sampling period (3 weeks)`> 0 & `Sampling period (3 weeks)`<= 7 & (`Biomass type`== \"Cranberry litter\" | \n",
    "`Biomass type` == \"Green tea\"| `Biomass type` == \"Rooibos tea\")))"
   ]
  },
  {
   "cell_type": "markdown",
   "metadata": {},
   "source": [
    "Join all 3 data with with `left_join` function. The obtained data is called `data_join_02`"
   ]
  },
  {
   "cell_type": "code",
   "execution_count": 145,
   "metadata": {},
   "outputs": [],
   "source": [
    "data_join <- data_subset %>%\n",
    "  left_join(data_fiber, by = 'Iden fiber')\n",
    "\n",
    "data_join_02 <- data_join %>%\n",
    "  left_join(data_fiber_initial, by = 'Biomass type')%>%\n",
    "mutate(`Sample final weight (g)` = as.numeric(`Sample final weight (g)`),\n",
    "       `Sample final weight (g)` = as.numeric(`Sample final weight (g)`),\n",
    "       `Sample final weight (g)` = as.numeric(`Sample final weight (g)`))"
   ]
  },
  {
   "cell_type": "markdown",
   "metadata": {},
   "source": [
    "## Some calculations \n",
    "### Initial and final content of carbon, soluble, holocellulose and lignin"
   ]
  },
  {
   "cell_type": "code",
   "execution_count": 146,
   "metadata": {},
   "outputs": [],
   "source": [
    "data_join_02 <- data_join_02 %>%\n",
    "mutate(`Initial SOL content (g)` = `mean_SOL_initial (%)` * `Sample initial weight (g)` / 100,\n",
    "       `Initial HOLO content (g)` = `mean_HOLO_initial (%)` * `Sample initial weight (g)` / 100,\n",
    "       `Initial LIC content (g)` = `mean_LIC_initial (%)` * `Sample initial weight (g)` / 100,\n",
    "       `Final SOL content (g)` = `SOL perc ILR (%)` * `Sample final weight (g)` / 100,\n",
    "       `Final LIC content (g)` = `LIC perc ILR (%)` * `Sample final weight (g)` / 100,\n",
    "       `Final HOLO content (g)` = `HOLO perc ILR (%)` * `Sample final weight (g)` / 100,\n",
    "       `Initial Hydrolyzable content (g)` = `Initial SOL content (g)` +  `Initial HOLO content (g)`,\n",
    "       `Final Hydrolyzable content (g)` = `Final SOL content (g)` + `Final HOLO content (g)`)"
   ]
  },
  {
   "cell_type": "markdown",
   "metadata": {},
   "source": [
    "### First order kinetic\n",
    "Here,we compute decomposition rate of carbon, soluble, holocellulose and lignin using first order kinetic."
   ]
  },
  {
   "cell_type": "code",
   "execution_count": 147,
   "metadata": {},
   "outputs": [],
   "source": [
    "kinetics_1st <- function(rw, iw, t) { # first order kinetic function\n",
    "    -log10(rw/iw)/t\n",
    "}"
   ]
  },
  {
   "cell_type": "code",
   "execution_count": 148,
   "metadata": {},
   "outputs": [],
   "source": [
    "data_join_02 <- data_join_02 %>%\n",
    "mutate(`rate weight loss` = kinetics_1st(rw = `Sample final weight (g)`,\n",
    "                      iw = `Sample initial weight (g)`,\n",
    "                      t = `Sampling period (3 weeks)` * 21),\n",
    "    `rate SOL` = kinetics_1st(rw = `Final SOL content (g)`,\n",
    "                      iw = `Initial SOL content (g)`,\n",
    "                      t = `Sampling period (3 weeks)` * 21),\n",
    "       `rate HOLO` = kinetics_1st(rw = `Final HOLO content (g)`,\n",
    "                      iw = `Initial HOLO content (g)`,\n",
    "                      t = `Sampling period (3 weeks)` * 21),\n",
    "       `rate LIC` = kinetics_1st(rw = `Final LIC content (g)`,\n",
    "                      iw = `Initial LIC content (g)`,\n",
    "                      t = `Sampling period (3 weeks)` * 21),\n",
    "       `rate Hydrolyzable` = kinetics_1st(rw = `Final Hydrolyzable content (g)`,\n",
    "                      iw = `Initial Hydrolyzable content (g)`,\n",
    "                      t = `Sampling period (3 weeks)` * 21),\n",
    "      `Sampling period (days)` = `Sampling period (3 weeks)` * 21)"
   ]
  },
  {
   "cell_type": "markdown",
   "metadata": {},
   "source": [
    "### Selection all variables we interested in data_join_02. Our final data is called `data_filtre`"
   ]
  },
  {
   "cell_type": "code",
   "execution_count": 149,
   "metadata": {},
   "outputs": [],
   "source": [
    "na.action = na.exclude\n",
    "data_filtre <- data_join_02 %>%\n",
    "select(`Iden fiber`, `Biomass type`,  `Sampling period (days)`, `Site`, `Producer`,`Repetition`, #`C_over_N`,\n",
    " `Initial SOL content (g)`, `Initial HOLO content (g)`, `Initial LIC content (g)`, `Final SOL content (g)`,`Final HOLO content (g)`, `Final LIC content (g)`,\n",
    "       `Sample final weight (g)`, `Initial Hydrolyzable content (g)`, `Final Hydrolyzable content (g)`, \n",
    "       `rate SOL`, `rate HOLO`, `rate LIC`, `rate Hydrolyzable`, `rate weight loss`) %>% \n",
    "rename(Lignin = `rate LIC`, \n",
    "       Holocelulose = `rate HOLO`, \n",
    "       Soluble = `rate SOL`,\n",
    "       Hydrolyzable = `rate Hydrolyzable`)"
   ]
  },
  {
   "cell_type": "code",
   "execution_count": 150,
   "metadata": {},
   "outputs": [
    {
     "data": {
      "text/html": [
       "<table class=\"dataframe\">\n",
       "<caption>A data.frame: 6 × 4</caption>\n",
       "<thead>\n",
       "\t<tr><th></th><th scope=col>Biomass type</th><th scope=col>Sampling period (days)</th><th scope=col>mean_rate_weight_loss</th><th scope=col>sd_rate_weight_loss</th></tr>\n",
       "\t<tr><th></th><th scope=col>&lt;chr&gt;</th><th scope=col>&lt;dbl&gt;</th><th scope=col>&lt;dbl&gt;</th><th scope=col>&lt;dbl&gt;</th></tr>\n",
       "</thead>\n",
       "<tbody>\n",
       "\t<tr><th scope=row>1</th><td>Cranberry litter</td><td> 21</td><td>-7.342495e-04</td><td>0.0011300810</td></tr>\n",
       "\t<tr><th scope=row>2</th><td>Cranberry litter</td><td> 42</td><td>-2.437110e-04</td><td>0.0007601555</td></tr>\n",
       "\t<tr><th scope=row>3</th><td>Cranberry litter</td><td> 63</td><td> 5.138291e-05</td><td>0.0001886657</td></tr>\n",
       "\t<tr><th scope=row>4</th><td>Cranberry litter</td><td> 84</td><td> 1.789935e-04</td><td>0.0002301190</td></tr>\n",
       "\t<tr><th scope=row>5</th><td>Cranberry litter</td><td>105</td><td> 3.503999e-04</td><td>0.0001538468</td></tr>\n",
       "\t<tr><th scope=row>6</th><td>Cranberry litter</td><td>126</td><td> 4.686477e-04</td><td>0.0001810546</td></tr>\n",
       "</tbody>\n",
       "</table>\n"
      ],
      "text/latex": [
       "A data.frame: 6 × 4\n",
       "\\begin{tabular}{r|llll}\n",
       "  & Biomass type & Sampling period (days) & mean\\_rate\\_weight\\_loss & sd\\_rate\\_weight\\_loss\\\\\n",
       "  & <chr> & <dbl> & <dbl> & <dbl>\\\\\n",
       "\\hline\n",
       "\t1 & Cranberry litter &  21 & -7.342495e-04 & 0.0011300810\\\\\n",
       "\t2 & Cranberry litter &  42 & -2.437110e-04 & 0.0007601555\\\\\n",
       "\t3 & Cranberry litter &  63 &  5.138291e-05 & 0.0001886657\\\\\n",
       "\t4 & Cranberry litter &  84 &  1.789935e-04 & 0.0002301190\\\\\n",
       "\t5 & Cranberry litter & 105 &  3.503999e-04 & 0.0001538468\\\\\n",
       "\t6 & Cranberry litter & 126 &  4.686477e-04 & 0.0001810546\\\\\n",
       "\\end{tabular}\n"
      ],
      "text/markdown": [
       "\n",
       "A data.frame: 6 × 4\n",
       "\n",
       "| <!--/--> | Biomass type &lt;chr&gt; | Sampling period (days) &lt;dbl&gt; | mean_rate_weight_loss &lt;dbl&gt; | sd_rate_weight_loss &lt;dbl&gt; |\n",
       "|---|---|---|---|---|\n",
       "| 1 | Cranberry litter |  21 | -7.342495e-04 | 0.0011300810 |\n",
       "| 2 | Cranberry litter |  42 | -2.437110e-04 | 0.0007601555 |\n",
       "| 3 | Cranberry litter |  63 |  5.138291e-05 | 0.0001886657 |\n",
       "| 4 | Cranberry litter |  84 |  1.789935e-04 | 0.0002301190 |\n",
       "| 5 | Cranberry litter | 105 |  3.503999e-04 | 0.0001538468 |\n",
       "| 6 | Cranberry litter | 126 |  4.686477e-04 | 0.0001810546 |\n",
       "\n"
      ],
      "text/plain": [
       "  Biomass type     Sampling period (days) mean_rate_weight_loss\n",
       "1 Cranberry litter  21                    -7.342495e-04        \n",
       "2 Cranberry litter  42                    -2.437110e-04        \n",
       "3 Cranberry litter  63                     5.138291e-05        \n",
       "4 Cranberry litter  84                     1.789935e-04        \n",
       "5 Cranberry litter 105                     3.503999e-04        \n",
       "6 Cranberry litter 126                     4.686477e-04        \n",
       "  sd_rate_weight_loss\n",
       "1 0.0011300810       \n",
       "2 0.0007601555       \n",
       "3 0.0001886657       \n",
       "4 0.0002301190       \n",
       "5 0.0001538468       \n",
       "6 0.0001810546       "
      ]
     },
     "metadata": {},
     "output_type": "display_data"
    }
   ],
   "source": [
    "meanSD_rate_weight_loss <- ddply(data_filtre, ~ `Biomass type` + `Sampling period (days)`,\n",
    "      summarise, mean_rate_weight_loss = mean(`rate weight loss`, na.rm = TRUE), \n",
    "                            sd_rate_weight_loss = sd(`rate weight loss`, na.rm = TRUE))\n",
    "head(meanSD_rate_weight_loss)"
   ]
  },
  {
   "cell_type": "markdown",
   "metadata": {},
   "source": [
    "## Biochemical fractal kinetics"
   ]
  },
  {
   "cell_type": "markdown",
   "metadata": {},
   "source": [
    "Transforming `data_filtre` to long format data `data_long` in order to use a `facet_grid` in the plot below"
   ]
  },
  {
   "cell_type": "code",
   "execution_count": 104,
   "metadata": {},
   "outputs": [],
   "source": [
    "data_long <- gather(data = data_filtre, key = `Biochemical composition`, value = `Biochemical decomposition rate`, c(`Soluble`,\n",
    "                                                                                                                    `Lignin`, `Holocelulose`, `Hydrolyzable`),\n",
    "                    factor_key=TRUE)"
   ]
  },
  {
   "cell_type": "markdown",
   "metadata": {},
   "source": [
    "Extract data_long according to biomass type `Rooibos and Green tea`; and Biochemical composition `Lignin and Hydrolyzable` fraction"
   ]
  },
  {
   "cell_type": "code",
   "execution_count": 105,
   "metadata": {},
   "outputs": [],
   "source": [
    "data_long <- subset(data_long, `Biomass type` == \"Green tea\" | `Biomass type` == \"Rooibos tea\")\n",
    "data_long <- subset(data_long, `Biochemical composition` == \"Lignin\" | `Biochemical composition` == \"Hydrolyzable\")"
   ]
  },
  {
   "cell_type": "code",
   "execution_count": 106,
   "metadata": {},
   "outputs": [
    {
     "name": "stderr",
     "output_type": "stream",
     "text": [
      "Warning message in mask$eval_all_mutate(quo):\n",
      "\"production de NaN\"\n"
     ]
    }
   ],
   "source": [
    "data_long <- data_long %>%\n",
    "        mutate(`log.K` = log10(`Biochemical decomposition rate`),\n",
    "                `log.T` = log10(`Sampling period (days)`))"
   ]
  },
  {
   "cell_type": "markdown",
   "metadata": {},
   "source": [
    "Create new facet names for variable `Biochemical composition`"
   ]
  },
  {
   "cell_type": "code",
   "execution_count": 107,
   "metadata": {},
   "outputs": [],
   "source": [
    "New.labs <- c(\"Non-Hydrolyzable\", \"Hydrolyzsable\") \n",
    "names(New.labs) <- c(\"Lignin\", \"Hydrolyzable\")"
   ]
  },
  {
   "cell_type": "markdown",
   "metadata": {},
   "source": [
    "Selection of all variables needed in `data_lm_fractal_biochemical`"
   ]
  },
  {
   "cell_type": "code",
   "execution_count": 108,
   "metadata": {},
   "outputs": [],
   "source": [
    "data_lm_fractal_biochemical <- data_long %>%\n",
    "  select(`Biomass type`, `Biochemical decomposition rate`, `log.T`, `log.K`, `Biochemical composition`, `Sampling period (days)`)"
   ]
  },
  {
   "cell_type": "markdown",
   "metadata": {},
   "source": [
    "Then, we create data to store the results `intercept`, `slope` and r square `r_sq`"
   ]
  },
  {
   "cell_type": "code",
   "execution_count": 109,
   "metadata": {},
   "outputs": [],
   "source": [
    "fractal_biochemical_kinetics <- tibble(\n",
    "    `Biomass type` = c(\"Green tea\", \"Rooibos tea\", \"Green tea\", \"Rooibos tea\"),\n",
    "    Biochemical_composition = c(rep(\"Lignin\", 2), rep(\"Hydrolyzable\", 2)),\n",
    "    intercept_ll = NA,\n",
    "    intercept = NA,\n",
    "    intercept_ul = NA,\n",
    "    slope_ll = NA,\n",
    "    slope = NA,\n",
    "    slope_ul = NA,\n",
    "    r_sq = NA\n",
    ")"
   ]
  },
  {
   "cell_type": "markdown",
   "metadata": {},
   "source": [
    "```\n",
    "lm(log.K ~ log.T)\n",
    "K1 = 10^intercept\n",
    "h = -slope\n",
    "```\n"
   ]
  },
  {
   "cell_type": "markdown",
   "metadata": {},
   "source": [
    "Computation of median value of `log.time` and `log.k` by `time` and `tea type` to determine `h`"
   ]
  },
  {
   "cell_type": "raw",
   "metadata": {},
   "source": [
    "dd <- ddply(data_lm_fractal_biochemical, ~ `Sampling period (days)` + `Biomass type` +\n",
    "                                                        `Biochemical composition`,\n",
    "      summarise,mean_T=mean(`log.T`),sd_T=sd(`log.T`), mean_K=mean(`log.K`),sd_K=sd(`log.K`))\n",
    "dd"
   ]
  },
  {
   "cell_type": "code",
   "execution_count": 110,
   "metadata": {},
   "outputs": [
    {
     "data": {
      "text/html": [
       "<table class=\"dataframe\">\n",
       "<caption>A data.frame: 6 × 7</caption>\n",
       "<thead>\n",
       "\t<tr><th></th><th scope=col>Sampling period (days)</th><th scope=col>Biomass type</th><th scope=col>Biochemical composition</th><th scope=col>mean_log.T</th><th scope=col>sd_log.T</th><th scope=col>mean_log.K</th><th scope=col>sd_log.K</th></tr>\n",
       "\t<tr><th></th><th scope=col>&lt;dbl&gt;</th><th scope=col>&lt;chr&gt;</th><th scope=col>&lt;fct&gt;</th><th scope=col>&lt;dbl&gt;</th><th scope=col>&lt;dbl&gt;</th><th scope=col>&lt;dbl&gt;</th><th scope=col>&lt;dbl&gt;</th></tr>\n",
       "</thead>\n",
       "<tbody>\n",
       "\t<tr><th scope=row>1</th><td>21</td><td>Green tea  </td><td>Lignin      </td><td>1.322219</td><td>0</td><td>-2.099202</td><td>0.35635431</td></tr>\n",
       "\t<tr><th scope=row>2</th><td>21</td><td>Green tea  </td><td>Hydrolyzable</td><td>1.322219</td><td>0</td><td>-2.001934</td><td>0.10923547</td></tr>\n",
       "\t<tr><th scope=row>3</th><td>21</td><td>Rooibos tea</td><td>Lignin      </td><td>1.322219</td><td>0</td><td>-2.586387</td><td>0.22445100</td></tr>\n",
       "\t<tr><th scope=row>4</th><td>21</td><td>Rooibos tea</td><td>Hydrolyzable</td><td>1.322219</td><td>0</td><td>-2.515667</td><td>0.09687986</td></tr>\n",
       "\t<tr><th scope=row>5</th><td>42</td><td>Green tea  </td><td>Lignin      </td><td>1.623249</td><td>0</td><td>-2.971281</td><td>0.49431959</td></tr>\n",
       "\t<tr><th scope=row>6</th><td>42</td><td>Green tea  </td><td>Hydrolyzable</td><td>1.623249</td><td>0</td><td>-2.138982</td><td>0.04681782</td></tr>\n",
       "</tbody>\n",
       "</table>\n"
      ],
      "text/latex": [
       "A data.frame: 6 × 7\n",
       "\\begin{tabular}{r|lllllll}\n",
       "  & Sampling period (days) & Biomass type & Biochemical composition & mean\\_log.T & sd\\_log.T & mean\\_log.K & sd\\_log.K\\\\\n",
       "  & <dbl> & <chr> & <fct> & <dbl> & <dbl> & <dbl> & <dbl>\\\\\n",
       "\\hline\n",
       "\t1 & 21 & Green tea   & Lignin       & 1.322219 & 0 & -2.099202 & 0.35635431\\\\\n",
       "\t2 & 21 & Green tea   & Hydrolyzable & 1.322219 & 0 & -2.001934 & 0.10923547\\\\\n",
       "\t3 & 21 & Rooibos tea & Lignin       & 1.322219 & 0 & -2.586387 & 0.22445100\\\\\n",
       "\t4 & 21 & Rooibos tea & Hydrolyzable & 1.322219 & 0 & -2.515667 & 0.09687986\\\\\n",
       "\t5 & 42 & Green tea   & Lignin       & 1.623249 & 0 & -2.971281 & 0.49431959\\\\\n",
       "\t6 & 42 & Green tea   & Hydrolyzable & 1.623249 & 0 & -2.138982 & 0.04681782\\\\\n",
       "\\end{tabular}\n"
      ],
      "text/markdown": [
       "\n",
       "A data.frame: 6 × 7\n",
       "\n",
       "| <!--/--> | Sampling period (days) &lt;dbl&gt; | Biomass type &lt;chr&gt; | Biochemical composition &lt;fct&gt; | mean_log.T &lt;dbl&gt; | sd_log.T &lt;dbl&gt; | mean_log.K &lt;dbl&gt; | sd_log.K &lt;dbl&gt; |\n",
       "|---|---|---|---|---|---|---|---|\n",
       "| 1 | 21 | Green tea   | Lignin       | 1.322219 | 0 | -2.099202 | 0.35635431 |\n",
       "| 2 | 21 | Green tea   | Hydrolyzable | 1.322219 | 0 | -2.001934 | 0.10923547 |\n",
       "| 3 | 21 | Rooibos tea | Lignin       | 1.322219 | 0 | -2.586387 | 0.22445100 |\n",
       "| 4 | 21 | Rooibos tea | Hydrolyzable | 1.322219 | 0 | -2.515667 | 0.09687986 |\n",
       "| 5 | 42 | Green tea   | Lignin       | 1.623249 | 0 | -2.971281 | 0.49431959 |\n",
       "| 6 | 42 | Green tea   | Hydrolyzable | 1.623249 | 0 | -2.138982 | 0.04681782 |\n",
       "\n"
      ],
      "text/plain": [
       "  Sampling period (days) Biomass type Biochemical composition mean_log.T\n",
       "1 21                     Green tea    Lignin                  1.322219  \n",
       "2 21                     Green tea    Hydrolyzable            1.322219  \n",
       "3 21                     Rooibos tea  Lignin                  1.322219  \n",
       "4 21                     Rooibos tea  Hydrolyzable            1.322219  \n",
       "5 42                     Green tea    Lignin                  1.623249  \n",
       "6 42                     Green tea    Hydrolyzable            1.623249  \n",
       "  sd_log.T mean_log.K sd_log.K  \n",
       "1 0        -2.099202  0.35635431\n",
       "2 0        -2.001934  0.10923547\n",
       "3 0        -2.586387  0.22445100\n",
       "4 0        -2.515667  0.09687986\n",
       "5 0        -2.971281  0.49431959\n",
       "6 0        -2.138982  0.04681782"
      ]
     },
     "metadata": {},
     "output_type": "display_data"
    }
   ],
   "source": [
    "MeanSD_fractal_biochemical <- ddply(data_lm_fractal_biochemical, ~ `Sampling period (days)` + `Biomass type` + `Biochemical composition`,\n",
    "      summarise, mean_log.T = mean(`log.T`, na.rm = TRUE), \n",
    "                            sd_log.T = sd(`log.T`, na.rm = TRUE),\n",
    "                            mean_log.K = mean(`log.K`, na.rm = TRUE), \n",
    "                            sd_log.K = sd(`log.K`, na.rm = TRUE))\n",
    "head(MeanSD_fractal_biochemical)\n"
   ]
  },
  {
   "cell_type": "markdown",
   "metadata": {},
   "source": [
    "Applying `lm` in a loop `for` in order to compute `h`, r square `r_sq` and `k1`; by `Biomass type` and `Biochemical composition`"
   ]
  },
  {
   "cell_type": "code",
   "execution_count": 111,
   "metadata": {},
   "outputs": [
    {
     "ename": "ERROR",
     "evalue": "Error in filter(., (Biomass.type == fractal_biochemical_kinetics$`Biomass type`[i]) & : objet 'data_median_fractal_biochemical' introuvable\n",
     "output_type": "error",
     "traceback": [
      "Error in filter(., (Biomass.type == fractal_biochemical_kinetics$`Biomass type`[i]) & : objet 'data_median_fractal_biochemical' introuvable\nTraceback:\n",
      "1. data_median_fractal_biochemical %>% filter((Biomass.type == fractal_biochemical_kinetics$`Biomass type`[i]) & \n .     (Biochemical.composition == fractal_biochemical_kinetics$Biochemical_composition[i])) %>% \n .     lm(log.K.Mean ~ log.T.Mean, data = .)",
      "2. lm(log.K.Mean ~ log.T.Mean, data = .)",
      "3. eval(mf, parent.frame())",
      "4. eval(mf, parent.frame())",
      "5. stats::model.frame(formula = log.K.Mean ~ log.T.Mean, data = ., \n .     drop.unused.levels = TRUE)",
      "6. model.frame.default(formula = log.K.Mean ~ log.T.Mean, data = ., \n .     drop.unused.levels = TRUE)",
      "7. is.data.frame(data)",
      "8. filter(., (Biomass.type == fractal_biochemical_kinetics$`Biomass type`[i]) & \n .     (Biochemical.composition == fractal_biochemical_kinetics$Biochemical_composition[i]))"
     ]
    }
   ],
   "source": [
    "conf_level <- 0.95\n",
    "\n",
    "for (i in 1:nrow(fractal_biochemical_kinetics)) {\n",
    "    \n",
    "    lm_fractal <- data_median_fractal_biochemical %>%\n",
    "      filter((`Biomass.type` == fractal_biochemical_kinetics$`Biomass type`[i]) &\n",
    "             (`Biochemical.composition` == fractal_biochemical_kinetics$Biochemical_composition[i])) %>%\n",
    "      lm(`log.K.Mean` ~ `log.T.Mean`, data = .)\n",
    "    \n",
    "    # interept\n",
    "    fractal_biochemical_kinetics$intercept_ll[i] <- confint(lm_fractal, level = conf_level)[1, 1]\n",
    "    fractal_biochemical_kinetics$intercept[i] <- coef(lm_fractal)[1]\n",
    "    fractal_biochemical_kinetics$intercept_ul[i] <- confint(lm_fractal, level = conf_level)[1, 2]\n",
    "    \n",
    "    # slope\n",
    "    fractal_biochemical_kinetics$slope_ll[i] <- confint(lm_fractal, level = conf_level)[2, 1]\n",
    "    fractal_biochemical_kinetics$slope[i] <- coef(lm_fractal)[2]\n",
    "    fractal_biochemical_kinetics$slope_ul[i] <- confint(lm_fractal, level = conf_level)[2, 2]\n",
    "    \n",
    "    # statistics\n",
    "    fractal_biochemical_kinetics$r_sq[i] <- summary(lm_fractal)$r.squared    \n",
    "}"
   ]
  },
  {
   "cell_type": "markdown",
   "metadata": {},
   "source": [
    "Computation of `h`, r square `r_sq` and `k1`; by `Biomass type` and `Biochemical composition`"
   ]
  },
  {
   "cell_type": "code",
   "execution_count": 222,
   "metadata": {},
   "outputs": [
    {
     "data": {
      "text/html": [
       "<table class=\"dataframe\">\n",
       "<caption>A tibble: 4 × 9</caption>\n",
       "<thead>\n",
       "\t<tr><th scope=col>Biomass type</th><th scope=col>Biochemical_composition</th><th scope=col>r_sq</th><th scope=col>h_ll</th><th scope=col>h</th><th scope=col>h_ul</th><th scope=col>k1_ll</th><th scope=col>k1</th><th scope=col>k1_ul</th></tr>\n",
       "\t<tr><th scope=col>&lt;chr&gt;</th><th scope=col>&lt;chr&gt;</th><th scope=col>&lt;dbl&gt;</th><th scope=col>&lt;dbl&gt;</th><th scope=col>&lt;dbl&gt;</th><th scope=col>&lt;dbl&gt;</th><th scope=col>&lt;dbl&gt;</th><th scope=col>&lt;dbl&gt;</th><th scope=col>&lt;dbl&gt;</th></tr>\n",
       "</thead>\n",
       "<tbody>\n",
       "\t<tr><td>Green tea  </td><td>Lignin      </td><td>0.7882732</td><td>0.49010593</td><td>1.2125145</td><td>1.9349231</td><td>0.0079781181</td><td>0.17942849</td><td>  4.03536060</td></tr>\n",
       "\t<tr><td>Rooibos tea</td><td>Lignin      </td><td>0.8119037</td><td>0.19745040</td><td>1.7077339</td><td>3.2180174</td><td>0.0005197375</td><td>0.42879145</td><td>353.75951646</td></tr>\n",
       "\t<tr><td>Green tea  </td><td>Hydrolyzable</td><td>0.9680209</td><td>0.49540094</td><td>0.6262556</td><td>0.7571102</td><td>0.0415205238</td><td>0.07297227</td><td>  0.12824868</td></tr>\n",
       "\t<tr><td>Rooibos tea</td><td>Hydrolyzable</td><td>0.6889444</td><td>0.09616105</td><td>0.4226028</td><td>0.7490445</td><td>0.0034180509</td><td>0.01395455</td><td>  0.05697087</td></tr>\n",
       "</tbody>\n",
       "</table>\n"
      ],
      "text/latex": [
       "A tibble: 4 × 9\n",
       "\\begin{tabular}{lllllllll}\n",
       " Biomass type & Biochemical\\_composition & r\\_sq & h\\_ll & h & h\\_ul & k1\\_ll & k1 & k1\\_ul\\\\\n",
       " <chr> & <chr> & <dbl> & <dbl> & <dbl> & <dbl> & <dbl> & <dbl> & <dbl>\\\\\n",
       "\\hline\n",
       "\t Green tea   & Lignin       & 0.7882732 & 0.49010593 & 1.2125145 & 1.9349231 & 0.0079781181 & 0.17942849 &   4.03536060\\\\\n",
       "\t Rooibos tea & Lignin       & 0.8119037 & 0.19745040 & 1.7077339 & 3.2180174 & 0.0005197375 & 0.42879145 & 353.75951646\\\\\n",
       "\t Green tea   & Hydrolyzable & 0.9680209 & 0.49540094 & 0.6262556 & 0.7571102 & 0.0415205238 & 0.07297227 &   0.12824868\\\\\n",
       "\t Rooibos tea & Hydrolyzable & 0.6889444 & 0.09616105 & 0.4226028 & 0.7490445 & 0.0034180509 & 0.01395455 &   0.05697087\\\\\n",
       "\\end{tabular}\n"
      ],
      "text/markdown": [
       "\n",
       "A tibble: 4 × 9\n",
       "\n",
       "| Biomass type &lt;chr&gt; | Biochemical_composition &lt;chr&gt; | r_sq &lt;dbl&gt; | h_ll &lt;dbl&gt; | h &lt;dbl&gt; | h_ul &lt;dbl&gt; | k1_ll &lt;dbl&gt; | k1 &lt;dbl&gt; | k1_ul &lt;dbl&gt; |\n",
       "|---|---|---|---|---|---|---|---|---|\n",
       "| Green tea   | Lignin       | 0.7882732 | 0.49010593 | 1.2125145 | 1.9349231 | 0.0079781181 | 0.17942849 |   4.03536060 |\n",
       "| Rooibos tea | Lignin       | 0.8119037 | 0.19745040 | 1.7077339 | 3.2180174 | 0.0005197375 | 0.42879145 | 353.75951646 |\n",
       "| Green tea   | Hydrolyzable | 0.9680209 | 0.49540094 | 0.6262556 | 0.7571102 | 0.0415205238 | 0.07297227 |   0.12824868 |\n",
       "| Rooibos tea | Hydrolyzable | 0.6889444 | 0.09616105 | 0.4226028 | 0.7490445 | 0.0034180509 | 0.01395455 |   0.05697087 |\n",
       "\n"
      ],
      "text/plain": [
       "  Biomass type Biochemical_composition r_sq      h_ll       h         h_ul     \n",
       "1 Green tea    Lignin                  0.7882732 0.49010593 1.2125145 1.9349231\n",
       "2 Rooibos tea  Lignin                  0.8119037 0.19745040 1.7077339 3.2180174\n",
       "3 Green tea    Hydrolyzable            0.9680209 0.49540094 0.6262556 0.7571102\n",
       "4 Rooibos tea  Hydrolyzable            0.6889444 0.09616105 0.4226028 0.7490445\n",
       "  k1_ll        k1         k1_ul       \n",
       "1 0.0079781181 0.17942849   4.03536060\n",
       "2 0.0005197375 0.42879145 353.75951646\n",
       "3 0.0415205238 0.07297227   0.12824868\n",
       "4 0.0034180509 0.01395455   0.05697087"
      ]
     },
     "metadata": {},
     "output_type": "display_data"
    }
   ],
   "source": [
    "fractal_biochemical_kinetics <- fractal_biochemical_kinetics %>%\n",
    "  mutate(h_ll = -slope_ul,\n",
    "         h = -slope,\n",
    "         h_ul = -slope_ll,\n",
    "         k1_ll = 10^intercept_ll,\n",
    "         k1 = 10^intercept,\n",
    "         k1_ul = 10^intercept_ul) %>%\n",
    "  select(`Biomass type`,\n",
    "         Biochemical_composition,\n",
    "         r_sq,\n",
    "         h_ll, h, h_ul,\n",
    "         k1_ll, k1, k1_ul)\n",
    "fractal_biochemical_kinetics"
   ]
  },
  {
   "cell_type": "markdown",
   "metadata": {},
   "source": [
    "Fractal first order parameters of decomposition of teas biochemicals compositions under field conditions"
   ]
  },
  {
   "cell_type": "code",
   "execution_count": 223,
   "metadata": {},
   "outputs": [
    {
     "name": "stderr",
     "output_type": "stream",
     "text": [
      "`geom_smooth()` using formula 'y ~ x'\n",
      "\n",
      "`geom_smooth()` using formula 'y ~ x'\n",
      "\n"
     ]
    },
    {
     "data": {
      "image/png": "[encoded data removed]",
      "text/plain": [
       "plot without title"
      ]
     },
     "metadata": {
      "image/png": {
       "height": 420,
       "width": 480
      }
     },
     "output_type": "display_data"
    }
   ],
   "source": [
    "options(repr.plot.width = 8, repr.plot.height = 7)\n",
    "data_median_fractal_biochemical %>%\n",
    "  ggplot(aes(x = `log.T.Mean`, y  = `log.K.Mean`)) +\n",
    "  geom_smooth(method = \"lm\", se = FALSE, colour=\"black\") +\n",
    "  geom_errorbar(aes(ymin= `log.K.Mean`- `log.K.SD`, ymax=`log.K.Mean` + \n",
    "                `log.K.SD`,  width= 0.1)) + #, alpha=0.9, size=1.5,  width=3\n",
    "geom_point(size = 3) + \n",
    "  facet_grid(`Biochemical.composition` ~ `Biomass.type`, labeller = labeller(`Biochemical.composition` = New.labs)) +\n",
    "  geom_text(data = fractal_biochemical_kinetics %>%\n",
    "              rename(`Biochemical.composition`= Biochemical_composition, `Biomass.type` =  `Biomass type`),\n",
    "            parse = TRUE,\n",
    "          aes(label = paste(\"italic(h) ==\", round(h, 1), \"%+-%\", round(h-h_ll, 1))),\n",
    "            x = 1.5, y = -4.1, size = 5) +\n",
    "  geom_text(data = fractal_biochemical_kinetics %>%\n",
    "              rename(`Biochemical.composition`= Biochemical_composition, `Biomass.type` =  `Biomass type`),  \n",
    "            parse = TRUE,\n",
    "            aes(label = paste(\"italic(k[1]) ==\", round(k1, 3), \"%+-%\", round(k1-k1_ll, 3))),\n",
    "            x = 1.5, y = -3.85, size = 5) +\n",
    "\n",
    "geom_text(data = fractal_biochemical_kinetics %>%\n",
    "              rename(`Biochemical.composition`= Biochemical_composition, `Biomass.type` =  `Biomass type`),\n",
    "         parse = TRUE,\n",
    "          aes(label = paste((\"R^2 ==\"), round(r_sq, 2))),                 \n",
    "           x = 1.5, y = -3.5, size = 5) + \n",
    "labs(x = expression(paste(\"log \", italic(\"(t)\"))), y = expression(paste(\"log \", italic(\"(k)\")))) +\n",
    "  theme_bw() +\n",
    "theme(strip.text = element_text(size = 14), axis.text=element_text(size=14),\n",
    "       axis.title=element_text(size=12)) \n",
    "ggsave(\"figures/Fractal first order parameters of decomposition of teas biochemicals compositions under field conditions.png\", \n",
    "      width = 8, height = 7, dpi = 600)"
   ]
  }
 ],
 "metadata": {
  "kernelspec": {
   "display_name": "R anaconda",
   "language": "R",
   "name": "ir"
  },
  "language_info": {
   "codemirror_mode": "r",
   "file_extension": ".r",
   "mimetype": "text/x-r-source",
   "name": "R",
   "pygments_lexer": "r",
   "version": "4.1.0"
  },
  "toc-autonumbering": true,
  "toc-showcode": false,
  "toc-showmarkdowntxt": false,
  "toc-showtags": false
 },
 "nbformat": 4,
 "nbformat_minor": 4
}
