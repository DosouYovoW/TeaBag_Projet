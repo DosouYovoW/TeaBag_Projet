{
 "cells": [
  {
   "cell_type": "markdown",
   "metadata": {},
   "source": [
    "# Tea bag index (TBI) and decomposition kinetics in cranberry agroecosystems\n",
    "\n",
    "*Wilfried Dossou-Yovo, Serge Étienne Parent,Noura Ziadi, Élizabeth Parent and Léon Étienne Parent*"
   ]
  },
  {
   "cell_type": "code",
   "execution_count": 36,
   "metadata": {},
   "outputs": [
    {
     "name": "stdout",
     "output_type": "stream",
     "text": [
      "[1] \"2020-02-10\"\n"
     ]
    }
   ],
   "source": [
    "print(Sys.Date())"
   ]
  },
  {
   "cell_type": "markdown",
   "metadata": {},
   "source": [
    "## Objective"
   ]
  },
  {
   "cell_type": "markdown",
   "metadata": {},
   "source": [
    "This notebook generates the results included in the manuscript *Tea bag index (TBI) and decomposition kinetics in cranberry agroecosystems*. The data set from 2017 trial is a collection of incubated tea bag weight, nitrogen, carbon and sulfur content, nitrogen type and doses on trials fieds. The aims of this study were to measure the TBI and kinetics of plant residue decomposition to estimate soil sequestration capacity in cranberry stands of Eastern Canada."
   ]
  },
  {
   "cell_type": "markdown",
   "metadata": {},
   "source": [
    "## Packages"
   ]
  },
  {
   "cell_type": "markdown",
   "metadata": {},
   "source": [
    "We need package [tidyverse](https://www.tidyverse.org/) which loads a set of packages for easy data manipulation(Ex: [dplyr](https://www.rdocumentation.org/packages/dplyr/versions/0.7.8)) and visualization (ex: [ggplot2](https://www.rdocumentation.org/packages/ggplot2/versions/3.2.1)). A set of other packages is used: [readxl](https://www.rdocumentation.org/packages/readxl/versions/0.1.1) for importing xlsx files, [nlme](https://www.rdocumentation.org/packages/nlme/versions/3.1-143/topics/nlme) for fitting a nonlinear mixed-effects model, [e1071](https://www.rdocumentation.org/packages/e1071/versions/1.7-3) for latent class analysis."
   ]
  },
  {
   "cell_type": "code",
   "execution_count": 38,
   "metadata": {},
   "outputs": [
    {
     "name": "stderr",
     "output_type": "stream",
     "text": [
      "Warning message:\n",
      "\"package 'e1071' was built under R version 3.6.2\""
     ]
    }
   ],
   "source": [
    "library(\"tidyverse\")\n",
    "library(\"nlme\")\n",
    "#library(\"Metrics\") # pour calculer le R²\n",
    "library(\"e1071\")"
   ]
  },
  {
   "cell_type": "markdown",
   "metadata": {},
   "source": [
    "Some custom functions."
   ]
  },
  {
   "cell_type": "code",
   "execution_count": 39,
   "metadata": {},
   "outputs": [],
   "source": [
    "pseudoR2 <- function(y, y_hat) {\n",
    "  1 - (sum((y - y_hat)^2) / sum((y - mean(y))^2))\n",
    "}\n",
    "\n",
    "# Residuals\n",
    "residues <- function(model, level = 0, computeResidues = TRUE, residues,\n",
    "                   main = \"\") {\n",
    "  library(e1071)\n",
    "  if (computeResidues) {\n",
    "    r = residuals(model, type=\"normalized\", level)\n",
    "  } else {\n",
    "    r = residues\n",
    "  }\n",
    "  hist(r, freq=F, main = main, breaks=20)\n",
    "  xfit<-seq(min(r),max(r),length=40)\n",
    "  yfit<-dnorm(xfit)\n",
    "  lines(xfit, yfit, col=\"red\", lwd=2)\n",
    "  print(\"Shapiro-Wilk:\")\n",
    "  print(shapiro.test(r))\n",
    "  print(paste(\"Kurtosis:\", kurtosis(r)))\n",
    "  print(paste(\"Skewness:\", skewness(r)))\n",
    "}\n"
   ]
  },
  {
   "cell_type": "markdown",
   "metadata": {},
   "source": [
    "## Import data"
   ]
  },
  {
   "cell_type": "code",
   "execution_count": 40,
   "metadata": {},
   "outputs": [
    {
     "name": "stderr",
     "output_type": "stream",
     "text": [
      "Parsed with column specification:\n",
      "cols(\n",
      "  No = col_double(),\n",
      "  `Tea type abbr` = col_character(),\n",
      "  `Tea type` = col_character(),\n",
      "  `Initial tea weight (g)` = col_double(),\n",
      "  `Initial total weight (g)` = col_double(),\n",
      "  `Initial bag weight (g)` = col_double(),\n",
      "  `Remaining tea weight (g)` = col_double(),\n",
      "  Farm = col_character(),\n",
      "  Site = col_character(),\n",
      "  `Farming system` = col_character(),\n",
      "  `Nitrogen type` = col_character(),\n",
      "  `Nitrogen dose` = col_double(),\n",
      "  Repetition = col_double(),\n",
      "  `Remaining C (%)` = col_double(),\n",
      "  `Remaining N (%)` = col_double(),\n",
      "  `Remaining S (%)` = col_double(),\n",
      "  `Initial C fraction` = col_double()\n",
      ")\n"
     ]
    }
   ],
   "source": [
    "df <- read_csv(\"data/data__.csv\")"
   ]
  },
  {
   "cell_type": "markdown",
   "metadata": {},
   "source": [
    "Label repetitions in such a way they are unique per field and dose"
   ]
  },
  {
   "cell_type": "code",
   "execution_count": 41,
   "metadata": {},
   "outputs": [],
   "source": [
    "df$`Dose repetition` = paste0(df$`Nitrogen dose`, '_', df$Repetition,'_', df$Site)"
   ]
  },
  {
   "cell_type": "markdown",
   "metadata": {},
   "source": [
    "The *Cranberry litter* category will be used for the reference category in modeling."
   ]
  },
  {
   "cell_type": "code",
   "execution_count": 42,
   "metadata": {},
   "outputs": [],
   "source": [
    "df$`Tea type` = relevel(factor(df$`Tea type`), ref = 'Cranberry litter')"
   ]
  },
  {
   "cell_type": "raw",
   "metadata": {},
   "source": [
    "Data_1$Teneur_Cf <- Data_1$Pourcentage_C * Data_1$Poids_Restant_g / 100\n",
    "Data_1$Teneur_Nf <- Data_1$Pourcentage_N * Data_1$Poids_Restant_g / 100\n",
    "Data_1$Teneur_Sf <- Data_1$Pourcentage_S * Data_1$Poids_Restant_g / 100 "
   ]
  },
  {
   "cell_type": "markdown",
   "metadata": {},
   "source": [
    "## Preprocess : weight loss rate"
   ]
  },
  {
   "cell_type": "markdown",
   "metadata": {},
   "source": [
    "Weight loss rate has been estimate by\n",
    "\n",
    "$$k_1 = \\frac{-ln \\left( \\frac{M(t)}{M_0} \\right) }{t}$$\n",
    "\n",
    "Where $M_0$ is initial litter organic mass, $M(t)$ is litter organic mass that remains after incubation time $t = 90~days$, and $k_1$ is decomposition rate. "
   ]
  },
  {
   "cell_type": "code",
   "execution_count": 43,
   "metadata": {},
   "outputs": [],
   "source": [
    "kinetics_1st <- function(rw, iw, t) {\n",
    "    -log(rw/iw)/t\n",
    "}"
   ]
  },
  {
   "cell_type": "code",
   "execution_count": 44,
   "metadata": {},
   "outputs": [],
   "source": [
    "df$k1 <- kinetics_1st(rw = df$`Remaining tea weight (g)`,\n",
    "                      iw = df$`Initial tea weight (g)`,\n",
    "                      t = 90)"
   ]
  },
  {
   "cell_type": "markdown",
   "metadata": {},
   "source": [
    "## Data exploration"
   ]
  },
  {
   "cell_type": "code",
   "execution_count": 45,
   "metadata": {},
   "outputs": [
    {
     "data": {
      "text/html": [
       "<table>\n",
       "<thead><tr><th scope=col>No</th><th scope=col>Tea type abbr</th><th scope=col>Tea type</th><th scope=col>Initial tea weight (g)</th><th scope=col>Initial total weight (g)</th><th scope=col>Initial bag weight (g)</th><th scope=col>Remaining tea weight (g)</th><th scope=col>Farm</th><th scope=col>Site</th><th scope=col>Farming system</th><th scope=col>Nitrogen type</th><th scope=col>Nitrogen dose</th><th scope=col>Repetition</th><th scope=col>Remaining C (%)</th><th scope=col>Remaining N (%)</th><th scope=col>Remaining S (%)</th><th scope=col>Initial C fraction</th><th scope=col>Dose repetition</th><th scope=col>k1</th></tr></thead>\n",
       "<tbody>\n",
       "\t<tr><td>1          </td><td>G          </td><td>Green tea  </td><td>1.793      </td><td>2.019      </td><td>0.226      </td><td>0.783      </td><td>Belanger   </td><td>A9         </td><td>Organic    </td><td>N-8-0-0    </td><td>0          </td><td>1          </td><td>50.144     </td><td>5.2809     </td><td>0.290      </td><td>0.8605444  </td><td>0_1_A9     </td><td>0.009205698</td></tr>\n",
       "\t<tr><td>2          </td><td>G          </td><td>Green tea  </td><td>1.786      </td><td>2.011      </td><td>0.225      </td><td>0.797      </td><td>Belanger   </td><td>A9         </td><td>Organic    </td><td>N-8-0-0    </td><td>0          </td><td>1          </td><td>50.933     </td><td>4.4082     </td><td>0.251      </td><td>0.8571847  </td><td>0_1_A9     </td><td>0.008965323</td></tr>\n",
       "\t<tr><td>3          </td><td>G          </td><td>Green tea  </td><td>1.782      </td><td>2.008      </td><td>0.228      </td><td>   NA      </td><td>Belanger   </td><td>A9         </td><td>Organic    </td><td>N-8-0-0    </td><td>0          </td><td>1          </td><td>    NA     </td><td>    NA     </td><td>   NA      </td><td>0.8552650  </td><td>0_1_A9     </td><td>         NA</td></tr>\n",
       "\t<tr><td>4          </td><td>G          </td><td>Green tea  </td><td>1.760      </td><td>1.987      </td><td>0.227      </td><td>0.778      </td><td>Belanger   </td><td>A9         </td><td>Organic    </td><td>N-8-0-0    </td><td>0          </td><td>2          </td><td>50.292     </td><td>5.4397     </td><td>0.296      </td><td>0.8447061  </td><td>0_2_A9     </td><td>0.009070473</td></tr>\n",
       "\t<tr><td>5          </td><td>G          </td><td>Green tea  </td><td>1.788      </td><td>2.013      </td><td>0.226      </td><td>0.779      </td><td>Belanger   </td><td>A9         </td><td>Organic    </td><td>N-8-0-0    </td><td>0          </td><td>2          </td><td>47.718     </td><td>4.8735     </td><td>0.277      </td><td>0.8581446  </td><td>0_2_A9     </td><td>0.009231577</td></tr>\n",
       "\t<tr><td>6          </td><td>G          </td><td>Green tea  </td><td>1.779      </td><td>2.004      </td><td>0.227      </td><td>   NA      </td><td>Belanger   </td><td>A9         </td><td>Organic    </td><td>N-8-0-0    </td><td>0          </td><td>2          </td><td>    NA     </td><td>    NA     </td><td>   NA      </td><td>0.8538251  </td><td>0_2_A9     </td><td>         NA</td></tr>\n",
       "</tbody>\n",
       "</table>\n"
      ],
      "text/latex": [
       "\\begin{tabular}{r|lllllllllllllllllll}\n",
       " No & Tea type abbr & Tea type & Initial tea weight (g) & Initial total weight (g) & Initial bag weight (g) & Remaining tea weight (g) & Farm & Site & Farming system & Nitrogen type & Nitrogen dose & Repetition & Remaining C (\\%) & Remaining N (\\%) & Remaining S (\\%) & Initial C fraction & Dose repetition & k1\\\\\n",
       "\\hline\n",
       "\t 1           & G           & Green tea   & 1.793       & 2.019       & 0.226       & 0.783       & Belanger    & A9          & Organic     & N-8-0-0     & 0           & 1           & 50.144      & 5.2809      & 0.290       & 0.8605444   & 0\\_1\\_A9  & 0.009205698\\\\\n",
       "\t 2           & G           & Green tea   & 1.786       & 2.011       & 0.225       & 0.797       & Belanger    & A9          & Organic     & N-8-0-0     & 0           & 1           & 50.933      & 4.4082      & 0.251       & 0.8571847   & 0\\_1\\_A9  & 0.008965323\\\\\n",
       "\t 3           & G           & Green tea   & 1.782       & 2.008       & 0.228       &    NA       & Belanger    & A9          & Organic     & N-8-0-0     & 0           & 1           &     NA      &     NA      &    NA       & 0.8552650   & 0\\_1\\_A9  &          NA\\\\\n",
       "\t 4           & G           & Green tea   & 1.760       & 1.987       & 0.227       & 0.778       & Belanger    & A9          & Organic     & N-8-0-0     & 0           & 2           & 50.292      & 5.4397      & 0.296       & 0.8447061   & 0\\_2\\_A9  & 0.009070473\\\\\n",
       "\t 5           & G           & Green tea   & 1.788       & 2.013       & 0.226       & 0.779       & Belanger    & A9          & Organic     & N-8-0-0     & 0           & 2           & 47.718      & 4.8735      & 0.277       & 0.8581446   & 0\\_2\\_A9  & 0.009231577\\\\\n",
       "\t 6           & G           & Green tea   & 1.779       & 2.004       & 0.227       &    NA       & Belanger    & A9          & Organic     & N-8-0-0     & 0           & 2           &     NA      &     NA      &    NA       & 0.8538251   & 0\\_2\\_A9  &          NA\\\\\n",
       "\\end{tabular}\n"
      ],
      "text/markdown": [
       "\n",
       "| No | Tea type abbr | Tea type | Initial tea weight (g) | Initial total weight (g) | Initial bag weight (g) | Remaining tea weight (g) | Farm | Site | Farming system | Nitrogen type | Nitrogen dose | Repetition | Remaining C (%) | Remaining N (%) | Remaining S (%) | Initial C fraction | Dose repetition | k1 |\n",
       "|---|---|---|---|---|---|---|---|---|---|---|---|---|---|---|---|---|---|---|\n",
       "| 1           | G           | Green tea   | 1.793       | 2.019       | 0.226       | 0.783       | Belanger    | A9          | Organic     | N-8-0-0     | 0           | 1           | 50.144      | 5.2809      | 0.290       | 0.8605444   | 0_1_A9      | 0.009205698 |\n",
       "| 2           | G           | Green tea   | 1.786       | 2.011       | 0.225       | 0.797       | Belanger    | A9          | Organic     | N-8-0-0     | 0           | 1           | 50.933      | 4.4082      | 0.251       | 0.8571847   | 0_1_A9      | 0.008965323 |\n",
       "| 3           | G           | Green tea   | 1.782       | 2.008       | 0.228       |    NA       | Belanger    | A9          | Organic     | N-8-0-0     | 0           | 1           |     NA      |     NA      |    NA       | 0.8552650   | 0_1_A9      |          NA |\n",
       "| 4           | G           | Green tea   | 1.760       | 1.987       | 0.227       | 0.778       | Belanger    | A9          | Organic     | N-8-0-0     | 0           | 2           | 50.292      | 5.4397      | 0.296       | 0.8447061   | 0_2_A9      | 0.009070473 |\n",
       "| 5           | G           | Green tea   | 1.788       | 2.013       | 0.226       | 0.779       | Belanger    | A9          | Organic     | N-8-0-0     | 0           | 2           | 47.718      | 4.8735      | 0.277       | 0.8581446   | 0_2_A9      | 0.009231577 |\n",
       "| 6           | G           | Green tea   | 1.779       | 2.004       | 0.227       |    NA       | Belanger    | A9          | Organic     | N-8-0-0     | 0           | 2           |     NA      |     NA      |    NA       | 0.8538251   | 0_2_A9      |          NA |\n",
       "\n"
      ],
      "text/plain": [
       "  No Tea type abbr Tea type  Initial tea weight (g) Initial total weight (g)\n",
       "1 1  G             Green tea 1.793                  2.019                   \n",
       "2 2  G             Green tea 1.786                  2.011                   \n",
       "3 3  G             Green tea 1.782                  2.008                   \n",
       "4 4  G             Green tea 1.760                  1.987                   \n",
       "5 5  G             Green tea 1.788                  2.013                   \n",
       "6 6  G             Green tea 1.779                  2.004                   \n",
       "  Initial bag weight (g) Remaining tea weight (g) Farm     Site Farming system\n",
       "1 0.226                  0.783                    Belanger A9   Organic       \n",
       "2 0.225                  0.797                    Belanger A9   Organic       \n",
       "3 0.228                     NA                    Belanger A9   Organic       \n",
       "4 0.227                  0.778                    Belanger A9   Organic       \n",
       "5 0.226                  0.779                    Belanger A9   Organic       \n",
       "6 0.227                     NA                    Belanger A9   Organic       \n",
       "  Nitrogen type Nitrogen dose Repetition Remaining C (%) Remaining N (%)\n",
       "1 N-8-0-0       0             1          50.144          5.2809         \n",
       "2 N-8-0-0       0             1          50.933          4.4082         \n",
       "3 N-8-0-0       0             1              NA              NA         \n",
       "4 N-8-0-0       0             2          50.292          5.4397         \n",
       "5 N-8-0-0       0             2          47.718          4.8735         \n",
       "6 N-8-0-0       0             2              NA              NA         \n",
       "  Remaining S (%) Initial C fraction Dose repetition k1         \n",
       "1 0.290           0.8605444          0_1_A9          0.009205698\n",
       "2 0.251           0.8571847          0_1_A9          0.008965323\n",
       "3    NA           0.8552650          0_1_A9                   NA\n",
       "4 0.296           0.8447061          0_2_A9          0.009070473\n",
       "5 0.277           0.8581446          0_2_A9          0.009231577\n",
       "6    NA           0.8538251          0_2_A9                   NA"
      ]
     },
     "metadata": {},
     "output_type": "display_data"
    }
   ],
   "source": [
    "head(df)"
   ]
  },
  {
   "cell_type": "markdown",
   "metadata": {},
   "source": [
    "Boxplot"
   ]
  },
  {
   "cell_type": "code",
   "execution_count": 46,
   "metadata": {},
   "outputs": [
    {
     "name": "stderr",
     "output_type": "stream",
     "text": [
      "Warning message:\n",
      "\"Removed 49 rows containing non-finite values (stat_boxplot).\""
     ]
    },
    {
     "data": {
      "image/png": "[encoded data removed]",
      "text/plain": [
       "plot without title"
      ]
     },
     "metadata": {},
     "output_type": "display_data"
    }
   ],
   "source": [
    "options(repr.plot.width=6, repr.plot.height=10)\n",
    "ggplot(data = df,\n",
    "       mapping = aes(x = `Nitrogen type`, y = k1)) +\n",
    "  facet_grid(`Tea type` ~ ., scales = \"free\") +\n",
    "  geom_boxplot()"
   ]
  },
  {
   "cell_type": "markdown",
   "metadata": {},
   "source": [
    "## What's affecting litters weight?"
   ]
  },
  {
   "cell_type": "markdown",
   "metadata": {},
   "source": [
    "### Mixed model"
   ]
  },
  {
   "cell_type": "code",
   "execution_count": 47,
   "metadata": {},
   "outputs": [],
   "source": [
    "df <- df %>%\n",
    "  mutate(`Nitrogen dose scaled` = scale(`Nitrogen dose`))"
   ]
  },
  {
   "cell_type": "code",
   "execution_count": 48,
   "metadata": {},
   "outputs": [],
   "source": [
    "df_mm <- df %>%\n",
    "  rename(tea = `Tea type`,\n",
    "         Ntype = `Nitrogen type`,\n",
    "         Ndose = `Nitrogen dose scaled`) %>%\n",
    "  mutate(tea = factor(tea),\n",
    "         Ntype = factor(Ntype)) %>%\n",
    "  drop_na() %>%\n",
    "  droplevels()"
   ]
  },
  {
   "cell_type": "code",
   "execution_count": 49,
   "metadata": {},
   "outputs": [],
   "source": [
    "k1_mm <- lme(fixed = k1 ~ Ntype + Ndose * tea,\n",
    "                     random = ~ 1 | Farm/Site,\n",
    "                     data = df_mm)"
   ]
  },
  {
   "cell_type": "code",
   "execution_count": 50,
   "metadata": {},
   "outputs": [
    {
     "data": {
      "text/html": [
       "<table>\n",
       "<thead><tr><th></th><th scope=col>numDF</th><th scope=col>denDF</th><th scope=col>F-value</th><th scope=col>p-value</th></tr></thead>\n",
       "<tbody>\n",
       "\t<tr><th scope=row>(Intercept)</th><td>1           </td><td>346         </td><td>  90.4235185</td><td>0.000000e+00</td></tr>\n",
       "\t<tr><th scope=row>Ntype</th><td>3           </td><td>346         </td><td>   9.2425070</td><td>6.769315e-06</td></tr>\n",
       "\t<tr><th scope=row>Ndose</th><td>1           </td><td>346         </td><td>   0.4951898</td><td>4.820946e-01</td></tr>\n",
       "\t<tr><th scope=row>tea</th><td>4           </td><td>346         </td><td>1309.7307309</td><td>0.000000e+00</td></tr>\n",
       "\t<tr><th scope=row>Ndose:tea</th><td>4           </td><td>346         </td><td>   2.4427939</td><td>4.649410e-02</td></tr>\n",
       "</tbody>\n",
       "</table>\n"
      ],
      "text/latex": [
       "\\begin{tabular}{r|llll}\n",
       "  & numDF & denDF & F-value & p-value\\\\\n",
       "\\hline\n",
       "\t(Intercept) & 1            & 346          &   90.4235185 & 0.000000e+00\\\\\n",
       "\tNtype & 3            & 346          &    9.2425070 & 6.769315e-06\\\\\n",
       "\tNdose & 1            & 346          &    0.4951898 & 4.820946e-01\\\\\n",
       "\ttea & 4            & 346          & 1309.7307309 & 0.000000e+00\\\\\n",
       "\tNdose:tea & 4            & 346          &    2.4427939 & 4.649410e-02\\\\\n",
       "\\end{tabular}\n"
      ],
      "text/markdown": [
       "\n",
       "| <!--/--> | numDF | denDF | F-value | p-value |\n",
       "|---|---|---|---|---|\n",
       "| (Intercept) | 1            | 346          |   90.4235185 | 0.000000e+00 |\n",
       "| Ntype | 3            | 346          |    9.2425070 | 6.769315e-06 |\n",
       "| Ndose | 1            | 346          |    0.4951898 | 4.820946e-01 |\n",
       "| tea | 4            | 346          | 1309.7307309 | 0.000000e+00 |\n",
       "| Ndose:tea | 4            | 346          |    2.4427939 | 4.649410e-02 |\n",
       "\n"
      ],
      "text/plain": [
       "            numDF denDF F-value      p-value     \n",
       "(Intercept) 1     346     90.4235185 0.000000e+00\n",
       "Ntype       3     346      9.2425070 6.769315e-06\n",
       "Ndose       1     346      0.4951898 4.820946e-01\n",
       "tea         4     346   1309.7307309 0.000000e+00\n",
       "Ndose:tea   4     346      2.4427939 4.649410e-02"
      ]
     },
     "metadata": {},
     "output_type": "display_data"
    }
   ],
   "source": [
    "anova(k1_mm)"
   ]
  },
  {
   "cell_type": "code",
   "execution_count": 51,
   "metadata": {},
   "outputs": [
    {
     "data": {
      "text/html": [
       "0.917998181500839"
      ],
      "text/latex": [
       "0.917998181500839"
      ],
      "text/markdown": [
       "0.917998181500839"
      ],
      "text/plain": [
       "[1] 0.9179982"
      ]
     },
     "metadata": {},
     "output_type": "display_data"
    }
   ],
   "source": [
    "pseudoR2(y = df_mm$k1,\n",
    "         y_hat = predict(k1_mm, level = 0))"
   ]
  },
  {
   "cell_type": "code",
   "execution_count": 52,
   "metadata": {},
   "outputs": [
    {
     "name": "stdout",
     "output_type": "stream",
     "text": [
      "[1] \"Shapiro-Wilk:\"\n",
      "\n",
      "\tShapiro-Wilk normality test\n",
      "\n",
      "data:  r\n",
      "W = 0.93463, p-value = 1.636e-11\n",
      "\n",
      "[1] \"Kurtosis: 4.72506311595992\"\n",
      "[1] \"Skewness: 0.0203648806888307\"\n"
     ]
    },
    {
     "data": {
      "image/png": "[encoded data removed]",
      "text/plain": [
       "Plot with title \"\""
      ]
     },
     "metadata": {},
     "output_type": "display_data"
    }
   ],
   "source": [
    "options(repr.plot.width=6, repr.plot.height=4)\n",
    "residues(k1_mm)"
   ]
  },
  {
   "cell_type": "code",
   "execution_count": 53,
   "metadata": {},
   "outputs": [],
   "source": [
    "k1_gg <- data.frame(intervals(k1_mm, which = \"fixed\")$fixed)\n",
    "k1_gg <- k1_gg %>%\n",
    "  mutate(variable = rownames(k1_gg))\n",
    "k1_gg <- k1_gg %>%\n",
    "  mutate(pvalue = summary(k1_mm)$tTable[, 5],\n",
    "         is_significant = ifelse(pvalue <= 0.05, 'Significant at 0.05 level', 'Not significant at 0.05 level'))"
   ]
  },
  {
   "cell_type": "markdown",
   "metadata": {},
   "source": [
    "Ajust names."
   ]
  },
  {
   "cell_type": "code",
   "execution_count": 54,
   "metadata": {},
   "outputs": [],
   "source": [
    "k1_gg$variable <- c(\"Intercept\", \"N 6-1-1\", \"N 8-0-0\", \"N SCU-39-0-0\",\n",
    "                    \"Dose N (scaled)\", \"Green tea\", \"Hibiscus tea\", \"Rooibos tea\", \"Sencha tea\",\n",
    "                     \"Green tea : Dose N\", \"Hibiscus tea : Dose N\", \"Rooibos tea : Dose N\", \"Sencha tea : Dose N\")"
   ]
  },
  {
   "cell_type": "markdown",
   "metadata": {},
   "source": [
    "Add random effects to the table."
   ]
  },
  {
   "cell_type": "code",
   "execution_count": 55,
   "metadata": {},
   "outputs": [],
   "source": [
    "k1_re <- data.frame(matrix(ncol = ncol(k1_gg), nrow = 6))\n",
    "names(k1_re) <- names(k1_gg)\n",
    "k1_re$est. <- c(ranef(k1_mm)$Farm[, 1], ranef(k1_mm)$Site[, 1])\n",
    "k1_re$variable <- c(rownames(ranef(k1_mm)$Farm),\n",
    "                    rownames(ranef(k1_mm)$Site))"
   ]
  },
  {
   "cell_type": "code",
   "execution_count": 56,
   "metadata": {},
   "outputs": [],
   "source": [
    "if (!(\"Belanger\" %in% k1_gg$variable)) k1_gg <- bind_rows(k1_gg, k1_re) # with an if to make sure ranefs are stacked only once"
   ]
  },
  {
   "cell_type": "markdown",
   "metadata": {},
   "source": [
    "Create a facet column to separate effects by effect category in the plot."
   ]
  },
  {
   "cell_type": "code",
   "execution_count": 57,
   "metadata": {},
   "outputs": [],
   "source": [
    "k1_gg$facet <- factor(c('Intercept',\n",
    "                        'N source', 'N source', 'N source',\n",
    "                        \"N dosage\",\n",
    "                        'Tea type', 'Tea type', 'Tea type', 'Tea type',\n",
    "                        'Tea type x N dosage', 'Tea type x N dosage', \n",
    "                        'Tea type x N dosage', 'Tea type x N dosage',\n",
    "                        \"Random effect\", \"Random effect\", \"Random effect\", \"Random effect\", \"Random effect\", \"Random effect\"))"
   ]
  },
  {
   "cell_type": "code",
   "execution_count": null,
   "metadata": {},
   "outputs": [],
   "source": [
    "k1_gg <- k1_gg %>%\n",
    "  mutate(facet = factor(facet, levels = rev(c(\"Random effect\", \"Tea type x N dosage\", \"Tea type\", \"N dosage\", \"N source\"))))"
   ]
  },
  {
   "cell_type": "code",
   "execution_count": null,
   "metadata": {},
   "outputs": [],
   "source": [
    "options(repr.plot.width=12, repr.plot.height=6)\n",
    "\n",
    "k1_gg %>%\n",
    "  filter(variable != \"Intercept\") %>%\n",
    "  ggplot(aes(x = est., y = variable)) +\n",
    "  facet_grid(facet ~ ., scales = 'free', space = 'free') +\n",
    "  geom_vline(xintercept = 0, colour='grey70') +\n",
    "  geom_point() +\n",
    "  geom_segment(aes(x = lower, xend = upper, y = variable, yend = variable)) +\n",
    "  xlab('Coefficient') +\n",
    "  ylab('') +\n",
    "  theme_bw() +\n",
    "  theme(strip.text.y = element_text(angle=0),\n",
    "        legend.title = element_blank(),\n",
    "        legend.position = \"bottom\",\n",
    "        text = element_text(size = 20)) +\n",
    "  ggsave(\"Figure2.png\", width = 8, height = 5, dpi = 600)"
   ]
  },
  {
   "cell_type": "code",
   "execution_count": null,
   "metadata": {},
   "outputs": [],
   "source": [
    "pred_grid <- expand.grid(tea = unique(df_mm$tea),\n",
    "                                     Ndose = c(-2, 2),\n",
    "                                     Ntype = unique(df_mm$Ntype))\n",
    "pred_grid <- pred_grid %>%\n",
    "  mutate(k1 = predict(k1_mm, newdata = pred_grid,\n",
    "                              level = 0),\n",
    "         Ndose = Ndose * sd(df$`Nitrogen dose`) + mean(df$`Nitrogen dose`)) %>%\n",
    "  rename(`Tea type` = tea,\n",
    "         `Nitrogen dose` = Ndose,\n",
    "         `Nitrogen type` = Ntype)"
   ]
  },
  {
   "cell_type": "code",
   "execution_count": null,
   "metadata": {},
   "outputs": [],
   "source": [
    "options(repr.plot.width=10, repr.plot.height=10)\n",
    "\n",
    "ggplot(df, aes(x = `Nitrogen dose`, y = `k1`)) +\n",
    "  facet_grid(`Nitrogen type` ~ `Tea type`) +\n",
    "  geom_point() +\n",
    "  geom_line(data = pred_grid) +\n",
    "  labs(x = expression(\"Dose N (kg ha\"^\"-1\"~\")\"), y = \"First order kinetics\") +\n",
    "  theme_bw() +\n",
    "  theme(text = element_text(size = 20)) + # strip.text.y = element_text(angle=0)\n",
    "  ggsave(\"figures/k1-model-lines.png\", width = 10, height = 6, dpi = 600)# nomme figure"
   ]
  },
  {
   "cell_type": "markdown",
   "metadata": {},
   "source": [
    "## Tea bag index"
   ]
  },
  {
   "cell_type": "code",
   "execution_count": null,
   "metadata": {},
   "outputs": [],
   "source": [
    "head(Data_1)"
   ]
  },
  {
   "cell_type": "code",
   "execution_count": null,
   "metadata": {},
   "outputs": [],
   "source": [
    "df <- df %>%\n",
    "  mutate(`M / M0` = `Remaining tea weight (g)` / `Initial tea weight (g)`)"
   ]
  },
  {
   "cell_type": "markdown",
   "metadata": {},
   "source": [
    "Hydrolysable fraction "
   ]
  },
  {
   "cell_type": "code",
   "execution_count": null,
   "metadata": {},
   "outputs": [],
   "source": [
    "Hf_g = 0.805 \n",
    "Hf_r = 0.826"
   ]
  },
  {
   "cell_type": "markdown",
   "metadata": {},
   "source": [
    "Keuskamp hydrolysable fraction"
   ]
  },
  {
   "cell_type": "code",
   "execution_count": null,
   "metadata": {},
   "outputs": [],
   "source": [
    "#Hf_g = 0.842\n",
    "#Hf_r = 0.552"
   ]
  },
  {
   "cell_type": "code",
   "execution_count": null,
   "metadata": {},
   "outputs": [],
   "source": [
    "df <- df %>%\n",
    "  mutate(a = ifelse(`Tea type` == \"Green tea\",\n",
    "                    (`Initial tea weight (g)` - `Remaining tea weight (g)`) / `Initial tea weight (g)`,\n",
    "                    NA),\n",
    "         S = 1 - a / Hf_g)"
   ]
  },
  {
   "cell_type": "code",
   "execution_count": null,
   "metadata": {},
   "outputs": [],
   "source": []
  },
  {
   "cell_type": "code",
   "execution_count": null,
   "metadata": {},
   "outputs": [],
   "source": [
    "df <- df %>%\n",
    "  mutate(sdr = paste(df$Site, df$`Nitrogen dose`, df$Repetition))\n",
    "sdr_u <- unique(df$sdr)"
   ]
  },
  {
   "cell_type": "markdown",
   "metadata": {},
   "source": [
    "Compute litter stability (Green tea) and decomposition constant (Roibos) for each experimental unit."
   ]
  },
  {
   "cell_type": "code",
   "execution_count": null,
   "metadata": {},
   "outputs": [],
   "source": [
    "for (i in 1:length(sdr_u)) {\n",
    "  # Green tea\n",
    "  Sg_i <- mean(df$S[df$sdr == sdr_u[i] & df$`Tea type` == \"Green tea\"], na.rm = TRUE)\n",
    "  \n",
    "  # Rooibos\n",
    "  df$a[df$sdr == sdr_u[i] & df$`Tea type` == \"Rooibos tea\"] <- Hf_r * (1 - Sg_i)\n",
    "  ar_i <- df$a[df$sdr == sdr_u[i] & df$`Tea type` == \"Rooibos tea\"]\n",
    "  M_M0i <- df$`M / M0`[df$sdr == sdr_u[i] & df$`Tea type` == \"Rooibos tea\"]\n",
    "  df$k_tbi[df$sdr == sdr_u[i] & df$`Tea type` == \"Rooibos tea\"] <- log(ar_i / (M_M0i - (1-ar_i))) / 90\n",
    "}"
   ]
  },
  {
   "cell_type": "code",
   "execution_count": null,
   "metadata": {},
   "outputs": [],
   "source": []
  },
  {
   "cell_type": "code",
   "execution_count": null,
   "metadata": {},
   "outputs": [],
   "source": [
    "df_rooibos <- df %>%\n",
    "  filter(`Tea type` == \"Rooibos tea\")"
   ]
  },
  {
   "cell_type": "code",
   "execution_count": null,
   "metadata": {},
   "outputs": [],
   "source": [
    "head(df_rooibos)"
   ]
  },
  {
   "cell_type": "markdown",
   "metadata": {},
   "source": [
    "Data exploration for N dose type."
   ]
  },
  {
   "cell_type": "code",
   "execution_count": 17,
   "metadata": {},
   "outputs": [
    {
     "name": "stderr",
     "output_type": "stream",
     "text": [
      "ERROR while rich displaying an object: Error in FUN(X[[i]], ...): objet 'k_tbi' introuvable\n",
      "\n",
      "Traceback:\n",
      "1. FUN(X[[i]], ...)\n",
      "2. tryCatch(withCallingHandlers({\n",
      " .     if (!mime %in% names(repr::mime2repr)) \n",
      " .         stop(\"No repr_* for mimetype \", mime, \" in repr::mime2repr\")\n",
      " .     rpr <- repr::mime2repr[[mime]](obj)\n",
      " .     if (is.null(rpr)) \n",
      " .         return(NULL)\n",
      " .     prepare_content(is.raw(rpr), rpr)\n",
      " . }, error = error_handler), error = outer_handler)\n",
      "3. tryCatchList(expr, classes, parentenv, handlers)\n",
      "4. tryCatchOne(expr, names, parentenv, handlers[[1L]])\n",
      "5. doTryCatch(return(expr), name, parentenv, handler)\n",
      "6. withCallingHandlers({\n",
      " .     if (!mime %in% names(repr::mime2repr)) \n",
      " .         stop(\"No repr_* for mimetype \", mime, \" in repr::mime2repr\")\n",
      " .     rpr <- repr::mime2repr[[mime]](obj)\n",
      " .     if (is.null(rpr)) \n",
      " .         return(NULL)\n",
      " .     prepare_content(is.raw(rpr), rpr)\n",
      " . }, error = error_handler)\n",
      "7. repr::mime2repr[[mime]](obj)\n",
      "8. repr_text.default(obj)\n",
      "9. paste(capture.output(print(obj)), collapse = \"\\n\")\n",
      "10. capture.output(print(obj))\n",
      "11. evalVis(expr)\n",
      "12. withVisible(eval(expr, pf))\n",
      "13. eval(expr, pf)\n",
      "14. eval(expr, pf)\n",
      "15. print(obj)\n",
      "16. print.ggplot(obj)\n",
      "17. ggplot_build(x)\n",
      "18. ggplot_build.ggplot(x)\n",
      "19. by_layer(function(l, d) l$compute_aesthetics(d, plot))\n",
      "20. f(l = layers[[i]], d = data[[i]])\n",
      "21. l$compute_aesthetics(d, plot)\n",
      "22. f(..., self = self)\n",
      "23. scales_add_defaults(plot$scales, data, aesthetics, plot$plot_env)\n",
      "24. lapply(aesthetics[new_aesthetics], eval_tidy, data = data)\n",
      "25. FUN(X[[i]], ...)\n"
     ]
    },
    {
     "data": {
      "image/png": "[encoded data removed]",
      "text/plain": [
       "plot without title"
      ]
     },
     "metadata": {},
     "output_type": "display_data"
    }
   ],
   "source": [
    "options(repr.plot.width=8, repr.plot.height=8)\n",
    "ggplot(data = df,\n",
    "       mapping = aes(x = `Nitrogen type`, y = k_tbi)) +\n",
    "  facet_grid(`Nitrogen dose` ~ .) +\n",
    "  geom_boxplot()"
   ]
  },
  {
   "cell_type": "markdown",
   "metadata": {},
   "source": [
    "### What affecting TBI parameters (k)?"
   ]
  },
  {
   "cell_type": "code",
   "execution_count": 18,
   "metadata": {},
   "outputs": [
    {
     "ename": "ERROR",
     "evalue": "Error in .f(.x[[i]], ...): objet 'k_tbi' introuvable\n",
     "output_type": "error",
     "traceback": [
      "Error in .f(.x[[i]], ...): objet 'k_tbi' introuvable\nTraceback:\n",
      "1. df %>% select(k_tbi, `Tea type`, Farm, `Nitrogen dose`, Site, \n .     `Nitrogen type`) %>% rename(Ntype = `Nitrogen type`, Ndose = `Nitrogen dose`) %>% \n .     drop_na() %>% droplevels()",
      "2. withVisible(eval(quote(`_fseq`(`_lhs`)), env, env))",
      "3. eval(quote(`_fseq`(`_lhs`)), env, env)",
      "4. eval(quote(`_fseq`(`_lhs`)), env, env)",
      "5. `_fseq`(`_lhs`)",
      "6. freduce(value, `_function_list`)",
      "7. function_list[[i]](value)",
      "8. select(., k_tbi, `Tea type`, Farm, `Nitrogen dose`, Site, `Nitrogen type`)",
      "9. select.data.frame(., k_tbi, `Tea type`, Farm, `Nitrogen dose`, \n .     Site, `Nitrogen type`)",
      "10. tidyselect::vars_select(tbl_vars(.data), !!!enquos(...))",
      "11. vars_select_eval(.vars, quos)",
      "12. map_if(quos, !is_helper, eval_tidy, mask)",
      "13. map(.x[sel], .f, ...)",
      "14. .f(.x[[i]], ...)"
     ]
    }
   ],
   "source": [
    "TBI_data <- df %>%\n",
    "  select(k_tbi, `Tea type`, Farm, `Nitrogen dose`, Site,\n",
    "         `Nitrogen type`) %>%\n",
    "  rename(Ntype = `Nitrogen type`,\n",
    "         Ndose = `Nitrogen dose`) %>%\n",
    "  drop_na() %>%\n",
    "  droplevels()"
   ]
  },
  {
   "cell_type": "code",
   "execution_count": null,
   "metadata": {},
   "outputs": [],
   "source": [
    "TBI_rooibos <- TBI_data %>%\n",
    "  filter(`Tea type` == \"Rooibos tea\")"
   ]
  },
  {
   "cell_type": "code",
   "execution_count": null,
   "metadata": {},
   "outputs": [],
   "source": [
    "lme_TBI <- lme(fixed = k_tbi ~  Ndose + Ntype,\n",
    "    random = ~ 1 | Farm/Site,\n",
    "    data = TBI_rooibos) # [omdecomp_data$TauxDecomposition_C > 0, ]"
   ]
  },
  {
   "cell_type": "raw",
   "metadata": {},
   "source": [
    "summary(lme_TBI)\n",
    "ranef(lme_TBI)\n",
    "summary(lme_TBI)$tTable\n",
    "attributes(summary(lme_TBI))\n",
    "intervals(lme_TBI)\n",
    "anova(lme_TBI)\n",
    "pseudoR2(y=TBI_rooibos$k_tbi, # [omdecomp_data$TauxDecomposition_C > 0]\n",
    "         y_hat = predict(lme_TBI, level=1))\n",
    "residues(lme_TBI)"
   ]
  },
  {
   "cell_type": "code",
   "execution_count": null,
   "metadata": {},
   "outputs": [],
   "source": [
    "pred_grid_tbi <- expand.grid(Ndose = c(0, 60),\n",
    "                             Ntype = unique(df_mm$Ntype))\n",
    "pred_grid_tbi <- pred_grid_tbi %>%\n",
    "  mutate(k_tbi = predict(lme_TBI, newdata = pred_grid_tbi,\n",
    "                              level = 0)) %>%\n",
    "  rename(`Nitrogen dose` = Ndose,\n",
    "         `Nitrogen type` = Ntype)"
   ]
  },
  {
   "cell_type": "code",
   "execution_count": null,
   "metadata": {},
   "outputs": [],
   "source": [
    "pred_grid_tbi"
   ]
  },
  {
   "cell_type": "code",
   "execution_count": null,
   "metadata": {},
   "outputs": [],
   "source": [
    "options(repr.plot.width=10, repr.plot.height=10)\n",
    "\n",
    "TBI_rooibos %>% \n",
    "  rename(`Nitrogen dose` = Ndose,\n",
    "         `Nitrogen type` = Ntype) %>%\n",
    "  ggplot(aes(x = `Nitrogen dose`, y = k_tbi)) +\n",
    "  facet_grid(`Nitrogen type` ~ .) +\n",
    "  geom_point() +\n",
    "  geom_line(data = pred_grid_tbi) +\n",
    "  labs(x = expression(\"Dose N (kg ha\"^\"-1\"~\")\"), y = \"Tea bag index kinetics\") +\n",
    "  theme_bw() +\n",
    "  theme(text = element_text(size = 20),\n",
    "        strip.text.y = element_text(angle=0)) +\n",
    "  ggsave(\"figures/tbi-model-lines.png\", width = 10, height = 6, dpi = 600)# nomme figure"
   ]
  },
  {
   "cell_type": "code",
   "execution_count": 19,
   "metadata": {},
   "outputs": [
    {
     "ename": "ERROR",
     "evalue": "Error in intervals(lme_TBI, which = \"fixed\"): objet 'lme_TBI' introuvable\n",
     "output_type": "error",
     "traceback": [
      "Error in intervals(lme_TBI, which = \"fixed\"): objet 'lme_TBI' introuvable\nTraceback:\n",
      "1. data.frame(intervals(lme_TBI, which = \"fixed\")$fixed)",
      "2. intervals(lme_TBI, which = \"fixed\")"
     ]
    }
   ],
   "source": [
    "ktbi_gg <- data.frame(intervals(lme_TBI, which = \"fixed\")$fixed)\n",
    "ktbi_gg <- ktbi_gg %>%\n",
    "  mutate(variable = rownames(ktbi_gg))\n",
    "ktbi_gg <- ktbi_gg %>%\n",
    "  mutate(pvalue = summary(lme_TBI)$tTable[, 5],\n",
    "         is_significant = ifelse(pvalue <= 0.05, 'Significant at 0.05 level', 'Not significant at 0.05 level'))"
   ]
  },
  {
   "cell_type": "markdown",
   "metadata": {},
   "source": [
    "Ajust names."
   ]
  },
  {
   "cell_type": "code",
   "execution_count": 20,
   "metadata": {},
   "outputs": [
    {
     "ename": "ERROR",
     "evalue": "Error in ktbi_gg$variable <- c(\"Intercept\", \"Dose N\", \"N 6-1-1\", \"N 8-0-0\", : objet 'ktbi_gg' introuvable\n",
     "output_type": "error",
     "traceback": [
      "Error in ktbi_gg$variable <- c(\"Intercept\", \"Dose N\", \"N 6-1-1\", \"N 8-0-0\", : objet 'ktbi_gg' introuvable\nTraceback:\n"
     ]
    }
   ],
   "source": [
    "ktbi_gg$variable <- c(\"Intercept\", \"Dose N\", \"N 6-1-1\", \"N 8-0-0\", \"N SCU-39-0-0\")"
   ]
  },
  {
   "cell_type": "markdown",
   "metadata": {},
   "source": [
    "Add random effects to the table."
   ]
  },
  {
   "cell_type": "code",
   "execution_count": 21,
   "metadata": {},
   "outputs": [
    {
     "ename": "ERROR",
     "evalue": "Error in ncol(ktbi_gg): objet 'ktbi_gg' introuvable\n",
     "output_type": "error",
     "traceback": [
      "Error in ncol(ktbi_gg): objet 'ktbi_gg' introuvable\nTraceback:\n",
      "1. data.frame(matrix(ncol = ncol(ktbi_gg), nrow = 6))",
      "2. matrix(ncol = ncol(ktbi_gg), nrow = 6)",
      "3. ncol(ktbi_gg)"
     ]
    }
   ],
   "source": [
    "ktbi_re <- data.frame(matrix(ncol = ncol(ktbi_gg), nrow = 6))\n",
    "names(ktbi_re) <- names(ktbi_gg)\n",
    "ktbi_re$est. <- c(ranef(lme_TBI)$Farm[, 1], ranef(lme_TBI)$Site[, 1])\n",
    "ktbi_re$variable <- c(rownames(ranef(lme_TBI)$Farm),\n",
    "                    rownames(ranef(lme_TBI)$Site))"
   ]
  },
  {
   "cell_type": "code",
   "execution_count": null,
   "metadata": {},
   "outputs": [],
   "source": [
    "if (!(\"Belanger\" %in% ktbi_gg$variable)) ktbi_gg <- bind_rows(ktbi_gg, ktbi_re) # with an if to make sure ranefs are stacked only once"
   ]
  },
  {
   "cell_type": "markdown",
   "metadata": {},
   "source": [
    "Create a facet column to separate effects by effect category in the plot."
   ]
  },
  {
   "cell_type": "code",
   "execution_count": 22,
   "metadata": {},
   "outputs": [
    {
     "ename": "ERROR",
     "evalue": "Error in ktbi_gg$facet <- factor(c(\"Intercept\", \"N dosage\", \"N source\", : objet 'ktbi_gg' introuvable\n",
     "output_type": "error",
     "traceback": [
      "Error in ktbi_gg$facet <- factor(c(\"Intercept\", \"N dosage\", \"N source\", : objet 'ktbi_gg' introuvable\nTraceback:\n"
     ]
    }
   ],
   "source": [
    "ktbi_gg$facet <- factor(c('Intercept',\n",
    "                        \"N dosage\",\n",
    "                        'N source', 'N source', 'N source',\n",
    "                        \"Random effect\", \"Random effect\", \"Random effect\", \"Random effect\", \"Random effect\", \"Random effect\"))"
   ]
  },
  {
   "cell_type": "code",
   "execution_count": null,
   "metadata": {},
   "outputs": [],
   "source": [
    "ktbi_gg <- ktbi_gg %>%\n",
    "  mutate(facet = factor(facet, levels = rev(c(\"Random effect\", \"N dosage\", \"N source\", \"Intercept\"))))"
   ]
  },
  {
   "cell_type": "code",
   "execution_count": 23,
   "metadata": {},
   "outputs": [
    {
     "ename": "ERROR",
     "evalue": "Error in eval(lhs, parent, parent): objet 'ktbi_gg' introuvable\n",
     "output_type": "error",
     "traceback": [
      "Error in eval(lhs, parent, parent): objet 'ktbi_gg' introuvable\nTraceback:\n",
      "1. ktbi_gg %>% filter(variable != \"Intercept\") %>% ggplot(aes(x = est., \n .     y = variable))",
      "2. eval(lhs, parent, parent)",
      "3. eval(lhs, parent, parent)"
     ]
    }
   ],
   "source": [
    "options(repr.plot.width=12, repr.plot.height=6)\n",
    "\n",
    "ktbi_gg %>%\n",
    "  filter(variable != \"Intercept\") %>%\n",
    "  ggplot(aes(x = est., y = variable)) +\n",
    "  facet_grid(facet ~ ., scales = 'free', space = 'free') +\n",
    "  geom_vline(xintercept = 0, colour='grey70') +\n",
    "  geom_point() +\n",
    "  geom_segment(aes(x = lower, xend = upper, y = variable, yend = variable)) +\n",
    "  xlab('Coefficient') +\n",
    "  ylab('') +\n",
    "  theme_bw() +\n",
    "  theme(strip.text.y = element_text(angle=0),\n",
    "        legend.title = element_blank(),\n",
    "        legend.position = \"bottom\",\n",
    "        text = element_text(size = 20)) +\n",
    "  ggsave(\"ktbi-lme-effects.png\", width = 8, height = 5, dpi = 600)"
   ]
  },
  {
   "cell_type": "markdown",
   "metadata": {},
   "source": [
    "### What affecting TBI parameters (S)?"
   ]
  },
  {
   "cell_type": "code",
   "execution_count": 24,
   "metadata": {},
   "outputs": [
    {
     "ename": "ERROR",
     "evalue": "Error in .f(.x[[i]], ...): objet 'S' introuvable\n",
     "output_type": "error",
     "traceback": [
      "Error in .f(.x[[i]], ...): objet 'S' introuvable\nTraceback:\n",
      "1. df %>% select(S, `Tea type`, Farm, `Nitrogen dose`, Site, `Nitrogen type`) %>% \n .     rename(Ntype = `Nitrogen type`, Ndose = `Nitrogen dose`) %>% \n .     drop_na() %>% droplevels()",
      "2. withVisible(eval(quote(`_fseq`(`_lhs`)), env, env))",
      "3. eval(quote(`_fseq`(`_lhs`)), env, env)",
      "4. eval(quote(`_fseq`(`_lhs`)), env, env)",
      "5. `_fseq`(`_lhs`)",
      "6. freduce(value, `_function_list`)",
      "7. function_list[[i]](value)",
      "8. select(., S, `Tea type`, Farm, `Nitrogen dose`, Site, `Nitrogen type`)",
      "9. select.data.frame(., S, `Tea type`, Farm, `Nitrogen dose`, Site, \n .     `Nitrogen type`)",
      "10. tidyselect::vars_select(tbl_vars(.data), !!!enquos(...))",
      "11. vars_select_eval(.vars, quos)",
      "12. map_if(quos, !is_helper, eval_tidy, mask)",
      "13. map(.x[sel], .f, ...)",
      "14. .f(.x[[i]], ...)"
     ]
    }
   ],
   "source": [
    "S_data <- df %>%\n",
    "  select(S, `Tea type`, Farm, `Nitrogen dose`, Site,\n",
    "         `Nitrogen type`) %>%\n",
    "  rename(Ntype = `Nitrogen type`,\n",
    "         Ndose = `Nitrogen dose`) %>%\n",
    "  drop_na() %>%\n",
    "  droplevels()"
   ]
  },
  {
   "cell_type": "code",
   "execution_count": null,
   "metadata": {},
   "outputs": [],
   "source": [
    "S_greentea <- S_data %>%\n",
    "  filter(`Tea type` == \"Green tea\")"
   ]
  },
  {
   "cell_type": "code",
   "execution_count": 25,
   "metadata": {},
   "outputs": [
    {
     "ename": "ERROR",
     "evalue": "Error in is.data.frame(data): objet 'S_greentea' introuvable\n",
     "output_type": "error",
     "traceback": [
      "Error in is.data.frame(data): objet 'S_greentea' introuvable\nTraceback:\n",
      "1. lme(fixed = S ~ Ndose + Ntype, random = ~1 | Farm/Site, data = S_greentea)",
      "2. lme.formula(fixed = S ~ Ndose + Ntype, random = ~1 | Farm/Site, \n .     data = S_greentea)",
      "3. is.data.frame(data)"
     ]
    }
   ],
   "source": [
    "lme_S <- lme(fixed = S ~  Ndose + Ntype,\n",
    "    random = ~ 1 | Farm/Site,\n",
    "    data = S_greentea)"
   ]
  },
  {
   "cell_type": "raw",
   "metadata": {},
   "source": [
    "summary(lme_S)\n",
    "ranef(lme_S)\n",
    "summary(lme_S)$tTable\n",
    "attributes(summary(lme_S))\n",
    "intervals(lme_S)\n",
    "anova(lme_S)\n",
    "pseudoR2(y=S_greentea$S,\n",
    "         y_hat = predict(lme_S, level=0))\n",
    "residues(lme_S)"
   ]
  },
  {
   "cell_type": "code",
   "execution_count": null,
   "metadata": {},
   "outputs": [],
   "source": [
    "pred_grid_S <- expand.grid(Ndose = c(0, 60),\n",
    "                           Ntype = unique(df_mm$Ntype))\n",
    "pred_grid_S <- pred_grid_S %>%\n",
    "  mutate(S = predict(lme_S, newdata = pred_grid_S,\n",
    "                              level = 0)) %>%\n",
    "  rename(`Nitrogen dose` = Ndose,\n",
    "         `Nitrogen type` = Ntype)"
   ]
  },
  {
   "cell_type": "code",
   "execution_count": 26,
   "metadata": {},
   "outputs": [
    {
     "ename": "ERROR",
     "evalue": "Error in eval(lhs, parent, parent): objet 'S_greentea' introuvable\n",
     "output_type": "error",
     "traceback": [
      "Error in eval(lhs, parent, parent): objet 'S_greentea' introuvable\nTraceback:\n",
      "1. S_greentea %>% rename(`Nitrogen dose` = Ndose, `Nitrogen type` = Ntype) %>% \n .     ggplot(aes(x = `Nitrogen dose`, y = S))",
      "2. eval(lhs, parent, parent)",
      "3. eval(lhs, parent, parent)"
     ]
    }
   ],
   "source": [
    "options(repr.plot.width=10, repr.plot.height=10)\n",
    "\n",
    "S_greentea %>% \n",
    "  rename(`Nitrogen dose` = Ndose,\n",
    "         `Nitrogen type` = Ntype) %>%\n",
    "  ggplot(aes(x = `Nitrogen dose`, y = S)) +\n",
    "  facet_grid(`Nitrogen type` ~ .) +\n",
    "  geom_point() +\n",
    "  geom_line(data = pred_grid_S) +\n",
    "  labs(x = expression(\"Dose N (kg ha\"^\"-1\"~\")\"), y = \"Tea bag stability index\") +\n",
    "  theme_bw() +\n",
    "  theme(text = element_text(size = 20),\n",
    "        strip.text.y = element_text(angle=0)) +\n",
    "  ggsave(\"figures/S-model-lines.png\", width = 10, height = 6, dpi = 600)# nomme figure"
   ]
  },
  {
   "cell_type": "code",
   "execution_count": null,
   "metadata": {},
   "outputs": [],
   "source": [
    "S_gg <- data.frame(intervals(lme_S, which = \"fixed\")$fixed)\n",
    "S_gg <- S_gg %>%\n",
    "  mutate(variable = rownames(S_gg))\n",
    "S_gg <- S_gg %>%\n",
    "  mutate(pvalue = summary(lme_S)$tTable[, 5],\n",
    "         is_significant = ifelse(pvalue <= 0.05, 'Significant at 0.05 level', 'Not significant at 0.05 level'))"
   ]
  },
  {
   "cell_type": "markdown",
   "metadata": {},
   "source": [
    "Ajust names."
   ]
  },
  {
   "cell_type": "code",
   "execution_count": 27,
   "metadata": {},
   "outputs": [
    {
     "ename": "ERROR",
     "evalue": "Error in S_gg$variable <- c(\"Intercept\", \"Dose N\", \"N 6-1-1\", \"N 8-0-0\", : objet 'S_gg' introuvable\n",
     "output_type": "error",
     "traceback": [
      "Error in S_gg$variable <- c(\"Intercept\", \"Dose N\", \"N 6-1-1\", \"N 8-0-0\", : objet 'S_gg' introuvable\nTraceback:\n"
     ]
    }
   ],
   "source": [
    "S_gg$variable <- c(\"Intercept\", \"Dose N\", \"N 6-1-1\", \"N 8-0-0\", \"N SCU-39-0-0\")"
   ]
  },
  {
   "cell_type": "markdown",
   "metadata": {},
   "source": [
    "Add random effects to the table."
   ]
  },
  {
   "cell_type": "code",
   "execution_count": 28,
   "metadata": {},
   "outputs": [
    {
     "ename": "ERROR",
     "evalue": "Error in ncol(S_gg): objet 'S_gg' introuvable\n",
     "output_type": "error",
     "traceback": [
      "Error in ncol(S_gg): objet 'S_gg' introuvable\nTraceback:\n",
      "1. data.frame(matrix(ncol = ncol(S_gg), nrow = 6))",
      "2. matrix(ncol = ncol(S_gg), nrow = 6)",
      "3. ncol(S_gg)"
     ]
    }
   ],
   "source": [
    "S_re <- data.frame(matrix(ncol = ncol(S_gg), nrow = 6))\n",
    "names(S_re) <- names(S_gg)\n",
    "S_re$est. <- c(ranef(lme_S)$Farm[, 1], ranef(lme_S)$Site[, 1])\n",
    "S_re$variable <- c(rownames(ranef(lme_S)$Farm),\n",
    "                    rownames(ranef(lme_S)$Site))"
   ]
  },
  {
   "cell_type": "code",
   "execution_count": 29,
   "metadata": {},
   "outputs": [
    {
     "ename": "ERROR",
     "evalue": "Error in \"Belanger\" %in% S_gg$variable: objet 'S_gg' introuvable\n",
     "output_type": "error",
     "traceback": [
      "Error in \"Belanger\" %in% S_gg$variable: objet 'S_gg' introuvable\nTraceback:\n",
      "1. \"Belanger\" %in% S_gg$variable"
     ]
    }
   ],
   "source": [
    "if (!(\"Belanger\" %in% S_gg$variable)) S_gg <- bind_rows(S_gg, S_re) # with an if to make sure ranefs are stacked only once"
   ]
  },
  {
   "cell_type": "markdown",
   "metadata": {},
   "source": [
    "Create a facet column to separate effects by effect category in the plot."
   ]
  },
  {
   "cell_type": "code",
   "execution_count": 30,
   "metadata": {},
   "outputs": [
    {
     "ename": "ERROR",
     "evalue": "Error in S_gg$facet <- factor(c(\"Intercept\", \"N dosage\", \"N source\", \"N source\", : objet 'S_gg' introuvable\n",
     "output_type": "error",
     "traceback": [
      "Error in S_gg$facet <- factor(c(\"Intercept\", \"N dosage\", \"N source\", \"N source\", : objet 'S_gg' introuvable\nTraceback:\n"
     ]
    }
   ],
   "source": [
    "S_gg$facet <- factor(c('Intercept',\n",
    "                        \"N dosage\",\n",
    "                        'N source', 'N source', 'N source',\n",
    "                        \"Random effect\", \"Random effect\", \"Random effect\", \"Random effect\", \"Random effect\", \"Random effect\"))"
   ]
  },
  {
   "cell_type": "code",
   "execution_count": 31,
   "metadata": {},
   "outputs": [
    {
     "ename": "ERROR",
     "evalue": "Error in eval(lhs, parent, parent): objet 'S_gg' introuvable\n",
     "output_type": "error",
     "traceback": [
      "Error in eval(lhs, parent, parent): objet 'S_gg' introuvable\nTraceback:\n",
      "1. S_gg %>% mutate(facet = factor(facet, levels = rev(c(\"Random effect\", \n .     \"N dosage\", \"N source\", \"Intercept\"))))",
      "2. eval(lhs, parent, parent)",
      "3. eval(lhs, parent, parent)"
     ]
    }
   ],
   "source": [
    "S_gg <- S_gg %>%\n",
    "  mutate(facet = factor(facet, levels = rev(c(\"Random effect\", \"N dosage\", \"N source\", \"Intercept\"))))"
   ]
  },
  {
   "cell_type": "code",
   "execution_count": 32,
   "metadata": {},
   "outputs": [
    {
     "ename": "ERROR",
     "evalue": "Error in eval(lhs, parent, parent): objet 'S_gg' introuvable\n",
     "output_type": "error",
     "traceback": [
      "Error in eval(lhs, parent, parent): objet 'S_gg' introuvable\nTraceback:\n",
      "1. S_gg %>% filter(variable != \"Intercept\") %>% ggplot(aes(x = est., \n .     y = variable))",
      "2. eval(lhs, parent, parent)",
      "3. eval(lhs, parent, parent)"
     ]
    }
   ],
   "source": [
    "options(repr.plot.width=12, repr.plot.height=6)\n",
    "\n",
    "S_gg %>%\n",
    "  filter(variable != \"Intercept\") %>%\n",
    "  ggplot(aes(x = est., y = variable)) +\n",
    "  facet_grid(facet ~ ., scales = 'free', space = 'free') +\n",
    "  geom_vline(xintercept = 0, colour='grey70') +\n",
    "  geom_point() +\n",
    "  geom_segment(aes(x = lower, xend = upper, y = variable, yend = variable)) +\n",
    "  xlab('Coefficient') +\n",
    "  ylab('') +\n",
    "  theme_bw() +\n",
    "  theme(strip.text.y = element_text(angle=0),\n",
    "        legend.title = element_blank(),\n",
    "        legend.position = \"bottom\",\n",
    "        text = element_text(size = 20)) +\n",
    "  ggsave(\"S-lme-effects.png\", width = 8, height = 5, dpi = 600)"
   ]
  },
  {
   "cell_type": "markdown",
   "metadata": {},
   "source": [
    "## Reproducing Keuskamp TBI"
   ]
  },
  {
   "cell_type": "code",
   "execution_count": 33,
   "metadata": {},
   "outputs": [
    {
     "name": "stderr",
     "output_type": "stream",
     "text": [
      "Warning message:\n",
      "\"package 'ggrepel' was built under R version 3.6.2\"Parsed with column specification:\n",
      "cols(\n",
      "  Nombre = col_double(),\n",
      "  Region = col_character(),\n",
      "  Stabilisation_factor_S = col_double(),\n",
      "  Decomposition_rate_K = col_double()\n",
      ")\n"
     ]
    }
   ],
   "source": [
    "library(\"ggrepel\")\n",
    "df_keuskamp <- read_csv(\"data//keuskamp_tbi_data.csv\")"
   ]
  },
  {
   "cell_type": "code",
   "execution_count": 34,
   "metadata": {},
   "outputs": [],
   "source": [
    "df_keuskamp <- df_keuskamp %>%\n",
    "  mutate(is_cranberry = Region == \"Cranberries\")"
   ]
  },
  {
   "cell_type": "code",
   "execution_count": 35,
   "metadata": {},
   "outputs": [
    {
     "name": "stderr",
     "output_type": "stream",
     "text": [
      "Warning message in grDevices::png(..., res = dpi, units = \"in\"):\n",
      "\"impossible d'ouvrir le fichier 'images/TBI-keuskamp.png' pour écriture\"Warning message in grDevices::png(..., res = dpi, units = \"in\"):\n",
      "\"opening device failed\""
     ]
    },
    {
     "ename": "ERROR",
     "evalue": "Error in grDevices::png(..., res = dpi, units = \"in\"): impossible de démarrer le périphérique png()\n",
     "output_type": "error",
     "traceback": [
      "Error in grDevices::png(..., res = dpi, units = \"in\"): impossible de démarrer le périphérique png()\nTraceback:\n",
      "1. ggsave(\"images/TBI-keuskamp.png\", width = 6, height = 6, dpi = 120)",
      "2. dev(filename = filename, width = dim[1], height = dim[2], ...)",
      "3. grDevices::png(..., res = dpi, units = \"in\")"
     ]
    }
   ],
   "source": [
    "options(repr.plot.width=6.5, repr.plot.height=6)\n",
    "ggplot(data = df_keuskamp, aes(x = Stabilisation_factor_S, y = Decomposition_rate_K)) +\n",
    "  geom_point() +\n",
    "  geom_label_repel(aes(label = Region, fill = is_cranberry, colour = is_cranberry),\n",
    "                   size = 3.5) +\n",
    "  scale_fill_manual(values = c(\"white\", \"black\")) +\n",
    "  scale_colour_manual(values = c(\"black\", \"white\")) +\n",
    "  theme_bw() +\n",
    "  theme(legend.position = \"none\") +\n",
    "  labs(x = \"Stabilization factor (S)\", y = \"Decomposition rate (k1)\") +\n",
    "  ggsave(\"images/TBI-keuskamp.png\", width = 6, height = 6, dpi = 120)"
   ]
  }
 ],
 "metadata": {
  "kernelspec": {
   "display_name": "R",
   "language": "R",
   "name": "ir"
  },
  "language_info": {
   "codemirror_mode": "r",
   "file_extension": ".r",
   "mimetype": "text/x-r-source",
   "name": "R",
   "pygments_lexer": "r",
   "version": "3.6.2"
  }
 },
 "nbformat": 4,
 "nbformat_minor": 4
}
