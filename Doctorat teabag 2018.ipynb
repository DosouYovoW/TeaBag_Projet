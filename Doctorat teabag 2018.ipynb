{
 "cells": [
  {
   "cell_type": "raw",
   "metadata": {},
   "source": [
    "setwd(\"C:/Users/WIDOY/Dropbox/DOCTORAT/THÈSE/TEA BAG DONNEES/AUTRES 2\")"
   ]
  },
  {
   "cell_type": "code",
   "execution_count": 1,
   "metadata": {},
   "outputs": [
    {
     "name": "stderr",
     "output_type": "stream",
     "text": [
      "Installing package into 'C:/Users/Wilfried/Documents/R/win-library/3.6'\n",
      "(as 'lib' is unspecified)\n"
     ]
    },
    {
     "name": "stdout",
     "output_type": "stream",
     "text": [
      "package 'ggrepel' successfully unpacked and MD5 sums checked\n",
      "\n",
      "The downloaded binary packages are in\n",
      "\tC:\\Users\\Wilfried\\AppData\\Local\\Temp\\RtmpO6dyBC\\downloaded_packages\n"
     ]
    },
    {
     "name": "stderr",
     "output_type": "stream",
     "text": [
      "Installing package into 'C:/Users/Wilfried/Documents/R/win-library/3.6'\n",
      "(as 'lib' is unspecified)\n"
     ]
    },
    {
     "name": "stdout",
     "output_type": "stream",
     "text": [
      "package 'ggplot2' successfully unpacked and MD5 sums checked\n",
      "\n",
      "The downloaded binary packages are in\n",
      "\tC:\\Users\\Wilfried\\AppData\\Local\\Temp\\RtmpO6dyBC\\downloaded_packages\n"
     ]
    },
    {
     "name": "stderr",
     "output_type": "stream",
     "text": [
      "Warning message:\n",
      "\"package 'ggplot2' was built under R version 3.6.2\""
     ]
    }
   ],
   "source": [
    "install.packages(\"ggrepel\")\n",
    "install.packages(\"ggplot2\")\n",
    "library(ggplot2)"
   ]
  },
  {
   "cell_type": "markdown",
   "metadata": {},
   "source": [
    "# Importation of the final data"
   ]
  },
  {
   "cell_type": "code",
   "execution_count": 2,
   "metadata": {},
   "outputs": [
    {
     "name": "stderr",
     "output_type": "stream",
     "text": [
      "Warning message:\n",
      "\"package 'readxl' was built under R version 3.6.2\"Warning message in read_fun(path = enc2native(normalizePath(path)), sheet_i = sheet, :\n",
      "\"Expecting logical in AO1330 / R1330C41: got 'Sol dans l'Ã©chantillon CNS'\"Warning message in read_fun(path = enc2native(normalizePath(path)), sheet_i = sheet, :\n",
      "\"Expecting logical in AO1331 / R1331C41: got 'Sol dans l'Ã©chantillon CNS'\"Warning message in read_fun(path = enc2native(normalizePath(path)), sheet_i = sheet, :\n",
      "\"Expecting numeric in AE1503 / R1503C31: got '1,8017'\"Warning message in read_fun(path = enc2native(normalizePath(path)), sheet_i = sheet, :\n",
      "\"Expecting numeric in AE1504 / R1504C31: got '1,7242'\"Warning message in read_fun(path = enc2native(normalizePath(path)), sheet_i = sheet, :\n",
      "\"Expecting numeric in AE1505 / R1505C31: got '1,4912'\"Warning message in read_fun(path = enc2native(normalizePath(path)), sheet_i = sheet, :\n",
      "\"Expecting numeric in AE1508 / R1508C31: got '1,6816'\"Warning message in read_fun(path = enc2native(normalizePath(path)), sheet_i = sheet, :\n",
      "\"Expecting numeric in AE1509 / R1509C31: got '1,6603'\"Warning message in read_fun(path = enc2native(normalizePath(path)), sheet_i = sheet, :\n",
      "\"Expecting numeric in AE1510 / R1510C31: got '1,5673'\"Warning message in read_fun(path = enc2native(normalizePath(path)), sheet_i = sheet, :\n",
      "\"Expecting numeric in AE1512 / R1512C31: got '1,6528'\"Warning message in read_fun(path = enc2native(normalizePath(path)), sheet_i = sheet, :\n",
      "\"Expecting numeric in AE1513 / R1513C31: got '1,4263'\"Warning message in read_fun(path = enc2native(normalizePath(path)), sheet_i = sheet, :\n",
      "\"Expecting numeric in AE1514 / R1514C31: got '1,5209'\"Warning message in read_fun(path = enc2native(normalizePath(path)), sheet_i = sheet, :\n",
      "\"Expecting numeric in AE1516 / R1516C31: got '1,8224'\"Warning message in read_fun(path = enc2native(normalizePath(path)), sheet_i = sheet, :\n",
      "\"Expecting numeric in AE1517 / R1517C31: got '1,7077'\"Warning message in read_fun(path = enc2native(normalizePath(path)), sheet_i = sheet, :\n",
      "\"Expecting numeric in AE1519 / R1519C31: got '1,5487'\"Warning message in read_fun(path = enc2native(normalizePath(path)), sheet_i = sheet, :\n",
      "\"Expecting numeric in AE1520 / R1520C31: got '1,5910'\"Warning message in read_fun(path = enc2native(normalizePath(path)), sheet_i = sheet, :\n",
      "\"Expecting numeric in AE1521 / R1521C31: got '1,5066'\"Warning message in read_fun(path = enc2native(normalizePath(path)), sheet_i = sheet, :\n",
      "\"Expecting numeric in AE1567 / R1567C31: got '1,6172'\"Warning message in read_fun(path = enc2native(normalizePath(path)), sheet_i = sheet, :\n",
      "\"Expecting numeric in AE1568 / R1568C31: got '1,6874'\"Warning message in read_fun(path = enc2native(normalizePath(path)), sheet_i = sheet, :\n",
      "\"Expecting numeric in AE1569 / R1569C31: got '1,6426'\"Warning message in read_fun(path = enc2native(normalizePath(path)), sheet_i = sheet, :\n",
      "\"Expecting numeric in AE1571 / R1571C31: got '1,3718'\"Warning message in read_fun(path = enc2native(normalizePath(path)), sheet_i = sheet, :\n",
      "\"Expecting numeric in AE1572 / R1572C31: got '1,6593'\"Warning message in read_fun(path = enc2native(normalizePath(path)), sheet_i = sheet, :\n",
      "\"Expecting numeric in AE1573 / R1573C31: got '1,5948'\"Warning message in read_fun(path = enc2native(normalizePath(path)), sheet_i = sheet, :\n",
      "\"Expecting numeric in AE1574 / R1574C31: got '1,6226'\"Warning message in read_fun(path = enc2native(normalizePath(path)), sheet_i = sheet, :\n",
      "\"Expecting numeric in AE1575 / R1575C31: got '1,7103'\"Warning message in read_fun(path = enc2native(normalizePath(path)), sheet_i = sheet, :\n",
      "\"Expecting numeric in AE1577 / R1577C31: got '1,9043'\"Warning message in read_fun(path = enc2native(normalizePath(path)), sheet_i = sheet, :\n",
      "\"Expecting numeric in AE1578 / R1578C31: got '1,6142'\"Warning message in read_fun(path = enc2native(normalizePath(path)), sheet_i = sheet, :\n",
      "\"Expecting numeric in AE1580 / R1580C31: got '1,5637'\"Warning message in read_fun(path = enc2native(normalizePath(path)), sheet_i = sheet, :\n",
      "\"Expecting numeric in AE1581 / R1581C31: got '1,4578'\"Warning message in read_fun(path = enc2native(normalizePath(path)), sheet_i = sheet, :\n",
      "\"Expecting numeric in AE1583 / R1583C31: got '1,4986'\"Warning message in read_fun(path = enc2native(normalizePath(path)), sheet_i = sheet, :\n",
      "\"Expecting numeric in AE2421 / R2421C31: got '0,8334'\"Warning message in read_fun(path = enc2native(normalizePath(path)), sheet_i = sheet, :\n",
      "\"Expecting numeric in AE2422 / R2422C31: got '0,8218'\"Warning message in read_fun(path = enc2native(normalizePath(path)), sheet_i = sheet, :\n",
      "\"Expecting numeric in AE2423 / R2423C31: got '0,7510'\"Warning message in read_fun(path = enc2native(normalizePath(path)), sheet_i = sheet, :\n",
      "\"Expecting numeric in AE2424 / R2424C31: got '0,8364'\"Warning message in read_fun(path = enc2native(normalizePath(path)), sheet_i = sheet, :\n",
      "\"Expecting numeric in AE2425 / R2425C31: got '0,7947'\"Warning message in read_fun(path = enc2native(normalizePath(path)), sheet_i = sheet, :\n",
      "\"Expecting numeric in AE2426 / R2426C31: got '0,8375'\"Warning message in read_fun(path = enc2native(normalizePath(path)), sheet_i = sheet, :\n",
      "\"Expecting numeric in AE2427 / R2427C31: got '0,8290'\"Warning message in read_fun(path = enc2native(normalizePath(path)), sheet_i = sheet, :\n",
      "\"Expecting numeric in AE2428 / R2428C31: got '0,8152'\"Warning message in read_fun(path = enc2native(normalizePath(path)), sheet_i = sheet, :\n",
      "\"Expecting numeric in AE2429 / R2429C31: got '0,8463'\"Warning message in read_fun(path = enc2native(normalizePath(path)), sheet_i = sheet, :\n",
      "\"Expecting numeric in AE2430 / R2430C31: got '0,8370'\"Warning message in read_fun(path = enc2native(normalizePath(path)), sheet_i = sheet, :\n",
      "\"Expecting numeric in AE2431 / R2431C31: got '0,8193'\"Warning message in read_fun(path = enc2native(normalizePath(path)), sheet_i = sheet, :\n",
      "\"Expecting numeric in AE2432 / R2432C31: got '0,9021'\"Warning message in read_fun(path = enc2native(normalizePath(path)), sheet_i = sheet, :\n",
      "\"Expecting numeric in AE2433 / R2433C31: got '0,7859'\"Warning message in read_fun(path = enc2native(normalizePath(path)), sheet_i = sheet, :\n",
      "\"Expecting numeric in AE2434 / R2434C31: got '0,8532'\"Warning message in read_fun(path = enc2native(normalizePath(path)), sheet_i = sheet, :\n",
      "\"Expecting numeric in AE2435 / R2435C31: got '0,8372'\"Warning message in read_fun(path = enc2native(normalizePath(path)), sheet_i = sheet, :\n",
      "\"Expecting numeric in AE2436 / R2436C31: got '0,8207'\"Warning message in read_fun(path = enc2native(normalizePath(path)), sheet_i = sheet, :\n",
      "\"Expecting numeric in AE2437 / R2437C31: got '0,7990'\"Warning message in read_fun(path = enc2native(normalizePath(path)), sheet_i = sheet, :\n",
      "\"Expecting numeric in AE2438 / R2438C31: got '0,8227'\"Warning message in read_fun(path = enc2native(normalizePath(path)), sheet_i = sheet, :\n",
      "\"Expecting numeric in AE2439 / R2439C31: got '0,7935'\"Warning message in read_fun(path = enc2native(normalizePath(path)), sheet_i = sheet, :\n",
      "\"Expecting numeric in AE2440 / R2440C31: got '0,8453'\"Warning message in read_fun(path = enc2native(normalizePath(path)), sheet_i = sheet, :\n",
      "\"Expecting numeric in AE2461 / R2461C31: got '1,7237'\"Warning message in read_fun(path = enc2native(normalizePath(path)), sheet_i = sheet, :\n",
      "\"Expecting numeric in AE2462 / R2462C31: got '1,7006'\"Warning message in read_fun(path = enc2native(normalizePath(path)), sheet_i = sheet, :\n",
      "\"Expecting numeric in AE2463 / R2463C31: got '1,5665'\"Warning message in read_fun(path = enc2native(normalizePath(path)), sheet_i = sheet, :\n",
      "\"Expecting numeric in AE2464 / R2464C31: got '1,6776'\"Warning message in read_fun(path = enc2native(normalizePath(path)), sheet_i = sheet, :\n",
      "\"Expecting numeric in AE2465 / R2465C31: got '1,6852'\"Warning message in read_fun(path = enc2native(normalizePath(path)), sheet_i = sheet, :\n",
      "\"Expecting numeric in AE2468 / R2468C31: got '1,5147'\"Warning message in read_fun(path = enc2native(normalizePath(path)), sheet_i = sheet, :\n",
      "\"Expecting numeric in AE2470 / R2470C31: got '1,6737'\"Warning message in read_fun(path = enc2native(normalizePath(path)), sheet_i = sheet, :\n",
      "\"Expecting numeric in AE2471 / R2471C31: got '1,8266'\"Warning message in read_fun(path = enc2native(normalizePath(path)), sheet_i = sheet, :\n",
      "\"Expecting numeric in AE2473 / R2473C31: got '1,6333'\"Warning message in read_fun(path = enc2native(normalizePath(path)), sheet_i = sheet, :\n",
      "\"Expecting numeric in AE2474 / R2474C31: got '1,6964'\"Warning message in read_fun(path = enc2native(normalizePath(path)), sheet_i = sheet, :\n",
      "\"Expecting numeric in AE2475 / R2475C31: got '1,7187'\"Warning message in read_fun(path = enc2native(normalizePath(path)), sheet_i = sheet, :\n",
      "\"Expecting numeric in AE2477 / R2477C31: got '1,6015'\"Warning message in read_fun(path = enc2native(normalizePath(path)), sheet_i = sheet, :\n",
      "\"Expecting numeric in AE2479 / R2479C31: got '1,7113'\"Warning message in read_fun(path = enc2native(normalizePath(path)), sheet_i = sheet, :\n",
      "\"Expecting numeric in AE3432 / R3432C31: got '.'\""
     ]
    }
   ],
   "source": [
    "library(readxl)\n",
    "donnee_2018 <-  read_excel ('DATA FINAL.xlsx')"
   ]
  },
  {
   "cell_type": "markdown",
   "metadata": {},
   "source": [
    "# Importation of fiber data"
   ]
  },
  {
   "cell_type": "code",
   "execution_count": 3,
   "metadata": {},
   "outputs": [],
   "source": [
    "data_fiber <-  read.csv2 ('DATA FIBRE2.csv')"
   ]
  },
  {
   "cell_type": "markdown",
   "metadata": {},
   "source": [
    "# CHARGEMENT DES PACKAGES"
   ]
  },
  {
   "cell_type": "code",
   "execution_count": 4,
   "metadata": {},
   "outputs": [
    {
     "name": "stderr",
     "output_type": "stream",
     "text": [
      "Warning message:\n",
      "\"package 'tidyverse' was built under R version 3.6.2\"-- Attaching packages --------------------------------------- tidyverse 1.3.0 --\n",
      "v tibble  2.1.3     v dplyr   0.8.3\n",
      "v tidyr   1.0.0     v stringr 1.4.0\n",
      "v readr   1.3.1     v forcats 0.4.0\n",
      "v purrr   0.3.3     \n",
      "Warning message:\n",
      "\"package 'tibble' was built under R version 3.6.2\"Warning message:\n",
      "\"package 'tidyr' was built under R version 3.6.2\"Warning message:\n",
      "\"package 'readr' was built under R version 3.6.2\"Warning message:\n",
      "\"package 'purrr' was built under R version 3.6.2\"Warning message:\n",
      "\"package 'dplyr' was built under R version 3.6.2\"Warning message:\n",
      "\"package 'stringr' was built under R version 3.6.2\"Warning message:\n",
      "\"package 'forcats' was built under R version 3.6.2\"-- Conflicts ------------------------------------------ tidyverse_conflicts() --\n",
      "x dplyr::filter() masks stats::filter()\n",
      "x dplyr::lag()    masks stats::lag()\n",
      "Warning message:\n",
      "\"package 'ggrepel' was built under R version 3.6.2\""
     ]
    }
   ],
   "source": [
    "library(tidyverse) # imports ggplot2, dplyr, etc.\n",
    "library(dplyr)\n",
    "library(ggplot2)\n",
    "library(ggrepel)"
   ]
  },
  {
   "cell_type": "code",
   "execution_count": 5,
   "metadata": {},
   "outputs": [
    {
     "name": "stderr",
     "output_type": "stream",
     "text": [
      "\n",
      "Attaching package: 'nlme'\n",
      "\n",
      "The following object is masked from 'package:dplyr':\n",
      "\n",
      "    collapse\n",
      "\n"
     ]
    }
   ],
   "source": [
    "library(nlme)"
   ]
  },
  {
   "cell_type": "markdown",
   "metadata": {},
   "source": [
    " R²"
   ]
  },
  {
   "cell_type": "code",
   "execution_count": 6,
   "metadata": {},
   "outputs": [],
   "source": [
    "pseudoR2 <- function(y, y_hat) {\n",
    "  1 - (sum((y - y_hat)^2) / sum((y - mean(y))^2))\n",
    "}"
   ]
  },
  {
   "cell_type": "markdown",
   "metadata": {},
   "source": [
    "## Residuals(Shapiro-wilk test)"
   ]
  },
  {
   "cell_type": "code",
   "execution_count": 7,
   "metadata": {},
   "outputs": [],
   "source": [
    "residues <- function(model, level = 0, computeResidues = TRUE, residues,\n",
    "                     main = \"\") {\n",
    "  library(e1071)\n",
    "  if (computeResidues) {\n",
    "    r = residuals(model, type=\"normalized\", level)\n",
    "  } else {\n",
    "    r = residues\n",
    "  }\n",
    "  hist(r, freq=F, main = main, breaks=20)\n",
    "  xfit<-seq(min(r),max(r),length=40)\n",
    "  yfit<-dnorm(xfit)\n",
    "  lines(xfit, yfit, col=\"red\", lwd=2)\n",
    "  print(\"Shapiro-Wilk:\")\n",
    "  print(shapiro.test(r))\n",
    "  print(paste(\"Kurtosis:\", kurtosis(r)))\n",
    "  print(paste(\"Skewness:\", skewness(r)))\n",
    "}\n"
   ]
  },
  {
   "cell_type": "markdown",
   "metadata": {},
   "source": [
    " PREPROCESS"
   ]
  },
  {
   "cell_type": "code",
   "execution_count": 8,
   "metadata": {},
   "outputs": [],
   "source": [
    "data <- subset(donnee_2018, Projet == 'Prelevement' & Annee==2018 & \n",
    "               Sorte_The == c('Vert', 'Rooibos', 'Residus_Canneberges') & Type_The == c('Vert', 'Rouge', 'Aucun'))"
   ]
  },
  {
   "cell_type": "code",
   "execution_count": 9,
   "metadata": {},
   "outputs": [],
   "source": [
    "data$PertePoids <- (data$Initial_Poids_Echantillon_g - data$Final_Poids_Echantillon_g) / data$Initial_Poids_Echantillon_g"
   ]
  },
  {
   "cell_type": "code",
   "execution_count": 10,
   "metadata": {},
   "outputs": [],
   "source": [
    "data_fiber2 <- subset(data_fiber, Prelevement>0 & Annee==2018 & \n",
    "               Sorte_The == c('Vert', 'Rooibos', 'Residus_Canneberges') & Type_The == c('Vert', 'Rouge', 'Aucun'))"
   ]
  },
  {
   "cell_type": "code",
   "execution_count": 11,
   "metadata": {},
   "outputs": [
    {
     "data": {
      "text/html": [
       "<table>\n",
       "<thead><tr><th></th><th scope=col>IDEN_CLASS</th><th scope=col>IDEN_Fibres</th><th scope=col>Annee</th><th scope=col>Sorte_The</th><th scope=col>Profondeur_cm</th><th scope=col>Type_The</th><th scope=col>Variete</th><th scope=col>Type_Sachet</th><th scope=col>Entreprise</th><th scope=col>Tamis_mm</th><th scope=col>...</th><th scope=col>ADL_calc_pourc</th><th scope=col>SOL_calc_pourc</th><th scope=col>HEM_calc_pourc</th><th scope=col>CEL_calc_pourc</th><th scope=col>LIC_calc_pourc</th><th scope=col>HOLO_calc_pourc</th><th scope=col>M_hydrolysable_pourc</th><th scope=col>CF_pourc</th><th scope=col>ISB_calc</th><th scope=col>SucresSol_mgPg_MS</th></tr></thead>\n",
       "<tbody>\n",
       "\t<tr><th scope=row>100</th><td>100                </td><td>G09_P4_R1          </td><td>2018               </td><td>Vert               </td><td>                   </td><td>Vert               </td><td>G                  </td><td>Nylon              </td><td>Lipton             </td><td>1                  </td><td>...                </td><td>21.60616           </td><td>48.91032           </td><td>18.912068          </td><td>10.571446          </td><td>21.60616           </td><td>29.48351           </td><td>78.39384           </td><td>NA                 </td><td>NA                 </td><td>NA                 </td></tr>\n",
       "\t<tr><th scope=row>103</th><td>103                </td><td>G09_P7_R1          </td><td>2018               </td><td>Vert               </td><td>                   </td><td>Vert               </td><td>G                  </td><td>Nylon              </td><td>Lipton             </td><td>1                  </td><td>...                </td><td>24.53467           </td><td>49.73441           </td><td>15.338960          </td><td>10.391958          </td><td>24.53467           </td><td>25.73092           </td><td>75.46533           </td><td>NA                 </td><td>NA                 </td><td>NA                 </td></tr>\n",
       "\t<tr><th scope=row>106</th><td>106                </td><td>G10_P5_R1          </td><td>2018               </td><td>Vert               </td><td>                   </td><td>Vert               </td><td>G                  </td><td>Nylon              </td><td>Lipton             </td><td>1                  </td><td>...                </td><td>21.96417           </td><td>49.41262           </td><td>17.319414          </td><td>11.303797          </td><td>21.96417           </td><td>28.62321           </td><td>78.03583           </td><td>NA                 </td><td>NA                 </td><td>NA                 </td></tr>\n",
       "\t<tr><th scope=row>109</th><td>109                </td><td>G10_P7_R1          </td><td>2018               </td><td>Vert               </td><td>                   </td><td>Vert               </td><td>G                  </td><td>Nylon              </td><td>Lipton             </td><td>1                  </td><td>...                </td><td>31.22343           </td><td>50.89573           </td><td>11.219450          </td><td> 6.661388          </td><td>31.22343           </td><td>17.88084           </td><td>68.77657           </td><td>NA                 </td><td>NA                 </td><td>NA                 </td></tr>\n",
       "\t<tr><th scope=row>112</th><td>112                </td><td>G45_P4_R1          </td><td>2018               </td><td>Vert               </td><td>                   </td><td>Vert               </td><td>G                  </td><td>Nylon              </td><td>Lipton             </td><td>1                  </td><td>...                </td><td>21.37245           </td><td>49.75082           </td><td>16.929849          </td><td>11.946872          </td><td>21.37245           </td><td>28.87672           </td><td>78.62755           </td><td>NA                 </td><td>NA                 </td><td>NA                 </td></tr>\n",
       "\t<tr><th scope=row>115</th><td>115                </td><td>G45_P7_R2          </td><td>2018               </td><td>Vert               </td><td>                   </td><td>Vert               </td><td>G                  </td><td>Nylon              </td><td>Lipton             </td><td>1                  </td><td>...                </td><td>21.57747           </td><td>51.10502           </td><td>16.765991          </td><td>10.551516          </td><td>21.57747           </td><td>27.31751           </td><td>78.42253           </td><td>NA                 </td><td>NA                 </td><td>NA                 </td></tr>\n",
       "\t<tr><th scope=row>118</th><td>118                </td><td>GA9_P4_R1          </td><td>2018               </td><td>Vert               </td><td>                   </td><td>Vert               </td><td>G                  </td><td>Nylon              </td><td>Lipton             </td><td>1                  </td><td>...                </td><td>24.56055           </td><td>52.64873           </td><td>13.903262          </td><td> 8.887449          </td><td>24.56055           </td><td>22.79071           </td><td>75.43945           </td><td>NA                 </td><td>NA                 </td><td>NA                 </td></tr>\n",
       "\t<tr><th scope=row>121</th><td>121                </td><td>GA9_P6_R1          </td><td>2018               </td><td>Vert               </td><td>                   </td><td>Vert               </td><td>G                  </td><td>Nylon              </td><td>Lipton             </td><td>1                  </td><td>...                </td><td>21.78913           </td><td>51.30566           </td><td>16.466647          </td><td>10.438560          </td><td>21.78913           </td><td>26.90521           </td><td>78.21087           </td><td>NA                 </td><td>NA                 </td><td>NA                 </td></tr>\n",
       "\t<tr><th scope=row>124</th><td>124                </td><td>GA9_P7_R2          </td><td>2018               </td><td>Vert               </td><td>                   </td><td>Vert               </td><td>G                  </td><td>Nylon              </td><td>Lipton             </td><td>1                  </td><td>...                </td><td>30.36561           </td><td>55.48283           </td><td>12.916426          </td><td> 1.235127          </td><td>30.36561           </td><td>14.15155           </td><td>69.63439           </td><td>NA                 </td><td>NA                 </td><td>NA                 </td></tr>\n",
       "\t<tr><th scope=row>278</th><td>278                </td><td>S09_P4_R1          </td><td>2018               </td><td>Rooibos            </td><td>                   </td><td>Rouge              </td><td>S                  </td><td>Nylon              </td><td>Lipton             </td><td>1                  </td><td>...                </td><td>25.92498           </td><td>27.62693           </td><td>15.193177          </td><td>31.254920          </td><td>25.92498           </td><td>46.44810           </td><td>74.07502           </td><td>NA                 </td><td>NA                 </td><td>NA                 </td></tr>\n",
       "\t<tr><th scope=row>281</th><td>281                </td><td>S09_P7_R1          </td><td>2018               </td><td>Rooibos            </td><td>                   </td><td>Rouge              </td><td>S                  </td><td>Nylon              </td><td>TeaLyra            </td><td>1                  </td><td>...                </td><td>25.36038           </td><td>30.04755           </td><td>14.036059          </td><td>30.556007          </td><td>25.36038           </td><td>44.59207           </td><td>74.63962           </td><td>NA                 </td><td>NA                 </td><td>NA                 </td></tr>\n",
       "\t<tr><th scope=row>284</th><td>284                </td><td>S10_P5_R1          </td><td>2018               </td><td>Rooibos            </td><td>                   </td><td>Rouge              </td><td>S                  </td><td>Nylon              </td><td>TeaLyra            </td><td>1                  </td><td>...                </td><td>21.78922           </td><td>32.42839           </td><td>13.726460          </td><td>32.055932          </td><td>21.78922           </td><td>45.78239           </td><td>78.21078           </td><td>NA                 </td><td>NA                 </td><td>NA                 </td></tr>\n",
       "\t<tr><th scope=row>287</th><td>287                </td><td>S45_P4_R1          </td><td>2018               </td><td>Rooibos            </td><td>                   </td><td>Rouge              </td><td>S                  </td><td>Nylon              </td><td>TeaLyra            </td><td>1                  </td><td>...                </td><td>24.22737           </td><td>27.52818           </td><td>15.801869          </td><td>32.442586          </td><td>24.22737           </td><td>48.24446           </td><td>75.77263           </td><td>NA                 </td><td>NA                 </td><td>NA                 </td></tr>\n",
       "\t<tr><th scope=row>290</th><td>290                </td><td>S45_P7_R2          </td><td>2018               </td><td>Rooibos            </td><td>                   </td><td>Rouge              </td><td>S                  </td><td>Nylon              </td><td>TeaLyra            </td><td>1                  </td><td>...                </td><td>26.70794           </td><td>31.45563           </td><td>12.703586          </td><td>29.132837          </td><td>26.70794           </td><td>41.83642           </td><td>73.29206           </td><td>NA                 </td><td>NA                 </td><td>NA                 </td></tr>\n",
       "\t<tr><th scope=row>293</th><td>293                </td><td>SA9_P4_R1          </td><td>2018               </td><td>Rooibos            </td><td>                   </td><td>Rouge              </td><td>S                  </td><td>Nylon              </td><td>TeaLyra            </td><td>1                  </td><td>...                </td><td>22.79802           </td><td>38.90975           </td><td>14.596491          </td><td>23.695741          </td><td>22.79802           </td><td>38.29223           </td><td>77.20198           </td><td>NA                 </td><td>NA                 </td><td>NA                 </td></tr>\n",
       "\t<tr><th scope=row>296</th><td>296                </td><td>SA9_P6_R1          </td><td>2018               </td><td>Rooibos            </td><td>                   </td><td>Rouge              </td><td>S                  </td><td>Nylon              </td><td>TeaLyra            </td><td>1                  </td><td>...                </td><td>25.20607           </td><td>38.88159           </td><td>12.088582          </td><td>23.823753          </td><td>25.20607           </td><td>35.91233           </td><td>74.79393           </td><td>NA                 </td><td>NA                 </td><td>NA                 </td></tr>\n",
       "\t<tr><th scope=row>299</th><td>299                </td><td>SA9_P7_R2          </td><td>2018               </td><td>Rooibos            </td><td>                   </td><td>Rouge              </td><td>S                  </td><td>Nylon              </td><td>TeaLyra            </td><td>1                  </td><td>...                </td><td>22.86012           </td><td>36.34904           </td><td>13.038684          </td><td>27.752161          </td><td>22.86012           </td><td>40.79084           </td><td>77.13988           </td><td>NA                 </td><td>NA                 </td><td>NA                 </td></tr>\n",
       "\t<tr><th scope=row>345</th><td>345                </td><td>N09_P4_R1          </td><td>2018               </td><td>Residus_Canneberges</td><td>                   </td><td>Aucun              </td><td>N                  </td><td>Nylon              </td><td>Lipton             </td><td>1                  </td><td>...                </td><td>36.96599           </td><td>35.93559           </td><td> 6.906010          </td><td>20.192411          </td><td>36.96599           </td><td>27.09842           </td><td>63.03401           </td><td>NA                 </td><td>NA                 </td><td>NA                 </td></tr>\n",
       "\t<tr><th scope=row>348</th><td>348                </td><td>N09_P7_R1          </td><td>2018               </td><td>Residus_Canneberges</td><td>                   </td><td>Aucun              </td><td>N                  </td><td>Nylon              </td><td>Producteur         </td><td>1                  </td><td>...                </td><td>35.43401           </td><td>39.23354           </td><td> 5.691543          </td><td>19.640905          </td><td>35.43401           </td><td>25.33245           </td><td>64.56599           </td><td>NA                 </td><td>NA                 </td><td>NA                 </td></tr>\n",
       "\t<tr><th scope=row>351</th><td>351                </td><td>N10_P5_R1          </td><td>2018               </td><td>Residus_Canneberges</td><td>                   </td><td>Aucun              </td><td>N                  </td><td>Nylon              </td><td>Producteur         </td><td>1                  </td><td>...                </td><td>29.71281           </td><td>46.06182           </td><td> 5.248640          </td><td>18.976738          </td><td>29.71281           </td><td>24.22538           </td><td>70.28719           </td><td>NA                 </td><td>NA                 </td><td>NA                 </td></tr>\n",
       "\t<tr><th scope=row>354</th><td>354                </td><td>N10_P7_R2          </td><td>2018               </td><td>Residus_Canneberges</td><td>                   </td><td>Aucun              </td><td>N                  </td><td>Nylon              </td><td>Producteur         </td><td>1                  </td><td>...                </td><td>30.77805           </td><td>46.79579           </td><td> 4.261497          </td><td>18.164660          </td><td>30.77805           </td><td>22.42616           </td><td>69.22195           </td><td>NA                 </td><td>NA                 </td><td>NA                 </td></tr>\n",
       "\t<tr><th scope=row>357</th><td>357                </td><td>N45_P4_R1          </td><td>2018               </td><td>Residus_Canneberges</td><td>                   </td><td>Aucun              </td><td>N                  </td><td>Nylon              </td><td>Producteur         </td><td>1                  </td><td>...                </td><td>39.54950           </td><td>34.28071           </td><td> 5.544083          </td><td>20.625710          </td><td>39.54950           </td><td>26.16979           </td><td>60.45050           </td><td>NA                 </td><td>NA                 </td><td>NA                 </td></tr>\n",
       "\t<tr><th scope=row>360</th><td>360                </td><td>N45_P7_R2          </td><td>2018               </td><td>Residus_Canneberges</td><td>                   </td><td>Aucun              </td><td>N                  </td><td>Nylon              </td><td>Producteur         </td><td>1                  </td><td>...                </td><td>39.36962           </td><td>35.53936           </td><td> 7.544762          </td><td>17.546259          </td><td>39.36962           </td><td>25.09102           </td><td>60.63038           </td><td>NA                 </td><td>NA                 </td><td>NA                 </td></tr>\n",
       "\t<tr><th scope=row>363</th><td>363                </td><td>NA9_P3_R2          </td><td>2018               </td><td>Residus_Canneberges</td><td>                   </td><td>Aucun              </td><td>N                  </td><td>Nylon              </td><td>Producteur         </td><td>1                  </td><td>...                </td><td>36.01780           </td><td>36.64065           </td><td> 6.838620          </td><td>20.502926          </td><td>36.01780           </td><td>27.34155           </td><td>63.98220           </td><td>NA                 </td><td>NA                 </td><td>NA                 </td></tr>\n",
       "\t<tr><th scope=row>366</th><td>366                </td><td>NA9_P4_R1          </td><td>2018               </td><td>Residus_Canneberges</td><td>                   </td><td>Aucun              </td><td>N                  </td><td>Nylon              </td><td>Producteur         </td><td>1                  </td><td>...                </td><td>39.03885           </td><td>34.60377           </td><td> 4.751253          </td><td>21.606132          </td><td>39.03885           </td><td>26.35738           </td><td>60.96115           </td><td>NA                 </td><td>NA                 </td><td>NA                 </td></tr>\n",
       "\t<tr><th scope=row>369</th><td>369                </td><td>NA9_P6_R1          </td><td>2018               </td><td>Residus_Canneberges</td><td>                   </td><td>Aucun              </td><td>N                  </td><td>Nylon              </td><td>Producteur         </td><td>1                  </td><td>...                </td><td>28.67743           </td><td>47.61002           </td><td> 5.515960          </td><td>18.196583          </td><td>28.67743           </td><td>23.71254           </td><td>71.32257           </td><td>NA                 </td><td>NA                 </td><td>NA                 </td></tr>\n",
       "\t<tr><th scope=row>372</th><td>372                </td><td>NA9_P7_R2          </td><td>2018               </td><td>Residus_Canneberges</td><td>                   </td><td>Aucun              </td><td>N                  </td><td>Nylon              </td><td>Producteur         </td><td>1                  </td><td>...                </td><td>28.45898           </td><td>47.96589           </td><td> 4.743151          </td><td>18.831976          </td><td>28.45898           </td><td>23.57513           </td><td>71.54102           </td><td>NA                 </td><td>NA                 </td><td>NA                 </td></tr>\n",
       "</tbody>\n",
       "</table>\n"
      ],
      "text/latex": [
       "\\begin{tabular}{r|llllllllllllllllllllllllllllllllllllllllllllllllllllllllllllllllllllll}\n",
       "  & IDEN\\_CLASS & IDEN\\_Fibres & Annee & Sorte\\_The & Profondeur\\_cm & Type\\_The & Variete & Type\\_Sachet & Entreprise & Tamis\\_mm & ... & ADL\\_calc\\_pourc & SOL\\_calc\\_pourc & HEM\\_calc\\_pourc & CEL\\_calc\\_pourc & LIC\\_calc\\_pourc & HOLO\\_calc\\_pourc & M\\_hydrolysable\\_pourc & CF\\_pourc & ISB\\_calc & SucresSol\\_mgPg\\_MS\\\\\n",
       "\\hline\n",
       "\t100 & 100                 & G09\\_P4\\_R1       & 2018                & Vert                &                     & Vert                & G                   & Nylon               & Lipton              & 1                   & ...                 & 21.60616            & 48.91032            & 18.912068           & 10.571446           & 21.60616            & 29.48351            & 78.39384            & NA                  & NA                  & NA                 \\\\\n",
       "\t103 & 103                 & G09\\_P7\\_R1       & 2018                & Vert                &                     & Vert                & G                   & Nylon               & Lipton              & 1                   & ...                 & 24.53467            & 49.73441            & 15.338960           & 10.391958           & 24.53467            & 25.73092            & 75.46533            & NA                  & NA                  & NA                 \\\\\n",
       "\t106 & 106                 & G10\\_P5\\_R1       & 2018                & Vert                &                     & Vert                & G                   & Nylon               & Lipton              & 1                   & ...                 & 21.96417            & 49.41262            & 17.319414           & 11.303797           & 21.96417            & 28.62321            & 78.03583            & NA                  & NA                  & NA                 \\\\\n",
       "\t109 & 109                 & G10\\_P7\\_R1       & 2018                & Vert                &                     & Vert                & G                   & Nylon               & Lipton              & 1                   & ...                 & 31.22343            & 50.89573            & 11.219450           &  6.661388           & 31.22343            & 17.88084            & 68.77657            & NA                  & NA                  & NA                 \\\\\n",
       "\t112 & 112                 & G45\\_P4\\_R1       & 2018                & Vert                &                     & Vert                & G                   & Nylon               & Lipton              & 1                   & ...                 & 21.37245            & 49.75082            & 16.929849           & 11.946872           & 21.37245            & 28.87672            & 78.62755            & NA                  & NA                  & NA                 \\\\\n",
       "\t115 & 115                 & G45\\_P7\\_R2       & 2018                & Vert                &                     & Vert                & G                   & Nylon               & Lipton              & 1                   & ...                 & 21.57747            & 51.10502            & 16.765991           & 10.551516           & 21.57747            & 27.31751            & 78.42253            & NA                  & NA                  & NA                 \\\\\n",
       "\t118 & 118                 & GA9\\_P4\\_R1       & 2018                & Vert                &                     & Vert                & G                   & Nylon               & Lipton              & 1                   & ...                 & 24.56055            & 52.64873            & 13.903262           &  8.887449           & 24.56055            & 22.79071            & 75.43945            & NA                  & NA                  & NA                 \\\\\n",
       "\t121 & 121                 & GA9\\_P6\\_R1       & 2018                & Vert                &                     & Vert                & G                   & Nylon               & Lipton              & 1                   & ...                 & 21.78913            & 51.30566            & 16.466647           & 10.438560           & 21.78913            & 26.90521            & 78.21087            & NA                  & NA                  & NA                 \\\\\n",
       "\t124 & 124                 & GA9\\_P7\\_R2       & 2018                & Vert                &                     & Vert                & G                   & Nylon               & Lipton              & 1                   & ...                 & 30.36561            & 55.48283            & 12.916426           &  1.235127           & 30.36561            & 14.15155            & 69.63439            & NA                  & NA                  & NA                 \\\\\n",
       "\t278 & 278                 & S09\\_P4\\_R1       & 2018                & Rooibos             &                     & Rouge               & S                   & Nylon               & Lipton              & 1                   & ...                 & 25.92498            & 27.62693            & 15.193177           & 31.254920           & 25.92498            & 46.44810            & 74.07502            & NA                  & NA                  & NA                 \\\\\n",
       "\t281 & 281                 & S09\\_P7\\_R1       & 2018                & Rooibos             &                     & Rouge               & S                   & Nylon               & TeaLyra             & 1                   & ...                 & 25.36038            & 30.04755            & 14.036059           & 30.556007           & 25.36038            & 44.59207            & 74.63962            & NA                  & NA                  & NA                 \\\\\n",
       "\t284 & 284                 & S10\\_P5\\_R1       & 2018                & Rooibos             &                     & Rouge               & S                   & Nylon               & TeaLyra             & 1                   & ...                 & 21.78922            & 32.42839            & 13.726460           & 32.055932           & 21.78922            & 45.78239            & 78.21078            & NA                  & NA                  & NA                 \\\\\n",
       "\t287 & 287                 & S45\\_P4\\_R1       & 2018                & Rooibos             &                     & Rouge               & S                   & Nylon               & TeaLyra             & 1                   & ...                 & 24.22737            & 27.52818            & 15.801869           & 32.442586           & 24.22737            & 48.24446            & 75.77263            & NA                  & NA                  & NA                 \\\\\n",
       "\t290 & 290                 & S45\\_P7\\_R2       & 2018                & Rooibos             &                     & Rouge               & S                   & Nylon               & TeaLyra             & 1                   & ...                 & 26.70794            & 31.45563            & 12.703586           & 29.132837           & 26.70794            & 41.83642            & 73.29206            & NA                  & NA                  & NA                 \\\\\n",
       "\t293 & 293                 & SA9\\_P4\\_R1       & 2018                & Rooibos             &                     & Rouge               & S                   & Nylon               & TeaLyra             & 1                   & ...                 & 22.79802            & 38.90975            & 14.596491           & 23.695741           & 22.79802            & 38.29223            & 77.20198            & NA                  & NA                  & NA                 \\\\\n",
       "\t296 & 296                 & SA9\\_P6\\_R1       & 2018                & Rooibos             &                     & Rouge               & S                   & Nylon               & TeaLyra             & 1                   & ...                 & 25.20607            & 38.88159            & 12.088582           & 23.823753           & 25.20607            & 35.91233            & 74.79393            & NA                  & NA                  & NA                 \\\\\n",
       "\t299 & 299                 & SA9\\_P7\\_R2       & 2018                & Rooibos             &                     & Rouge               & S                   & Nylon               & TeaLyra             & 1                   & ...                 & 22.86012            & 36.34904            & 13.038684           & 27.752161           & 22.86012            & 40.79084            & 77.13988            & NA                  & NA                  & NA                 \\\\\n",
       "\t345 & 345                   & N09\\_P4\\_R1         & 2018                  & Residus\\_Canneberges &                       & Aucun                 & N                     & Nylon                 & Lipton                & 1                     & ...                   & 36.96599              & 35.93559              &  6.906010             & 20.192411             & 36.96599              & 27.09842              & 63.03401              & NA                    & NA                    & NA                   \\\\\n",
       "\t348 & 348                   & N09\\_P7\\_R1         & 2018                  & Residus\\_Canneberges &                       & Aucun                 & N                     & Nylon                 & Producteur            & 1                     & ...                   & 35.43401              & 39.23354              &  5.691543             & 19.640905             & 35.43401              & 25.33245              & 64.56599              & NA                    & NA                    & NA                   \\\\\n",
       "\t351 & 351                   & N10\\_P5\\_R1         & 2018                  & Residus\\_Canneberges &                       & Aucun                 & N                     & Nylon                 & Producteur            & 1                     & ...                   & 29.71281              & 46.06182              &  5.248640             & 18.976738             & 29.71281              & 24.22538              & 70.28719              & NA                    & NA                    & NA                   \\\\\n",
       "\t354 & 354                   & N10\\_P7\\_R2         & 2018                  & Residus\\_Canneberges &                       & Aucun                 & N                     & Nylon                 & Producteur            & 1                     & ...                   & 30.77805              & 46.79579              &  4.261497             & 18.164660             & 30.77805              & 22.42616              & 69.22195              & NA                    & NA                    & NA                   \\\\\n",
       "\t357 & 357                   & N45\\_P4\\_R1         & 2018                  & Residus\\_Canneberges &                       & Aucun                 & N                     & Nylon                 & Producteur            & 1                     & ...                   & 39.54950              & 34.28071              &  5.544083             & 20.625710             & 39.54950              & 26.16979              & 60.45050              & NA                    & NA                    & NA                   \\\\\n",
       "\t360 & 360                   & N45\\_P7\\_R2         & 2018                  & Residus\\_Canneberges &                       & Aucun                 & N                     & Nylon                 & Producteur            & 1                     & ...                   & 39.36962              & 35.53936              &  7.544762             & 17.546259             & 39.36962              & 25.09102              & 60.63038              & NA                    & NA                    & NA                   \\\\\n",
       "\t363 & 363                   & NA9\\_P3\\_R2         & 2018                  & Residus\\_Canneberges &                       & Aucun                 & N                     & Nylon                 & Producteur            & 1                     & ...                   & 36.01780              & 36.64065              &  6.838620             & 20.502926             & 36.01780              & 27.34155              & 63.98220              & NA                    & NA                    & NA                   \\\\\n",
       "\t366 & 366                   & NA9\\_P4\\_R1         & 2018                  & Residus\\_Canneberges &                       & Aucun                 & N                     & Nylon                 & Producteur            & 1                     & ...                   & 39.03885              & 34.60377              &  4.751253             & 21.606132             & 39.03885              & 26.35738              & 60.96115              & NA                    & NA                    & NA                   \\\\\n",
       "\t369 & 369                   & NA9\\_P6\\_R1         & 2018                  & Residus\\_Canneberges &                       & Aucun                 & N                     & Nylon                 & Producteur            & 1                     & ...                   & 28.67743              & 47.61002              &  5.515960             & 18.196583             & 28.67743              & 23.71254              & 71.32257              & NA                    & NA                    & NA                   \\\\\n",
       "\t372 & 372                   & NA9\\_P7\\_R2         & 2018                  & Residus\\_Canneberges &                       & Aucun                 & N                     & Nylon                 & Producteur            & 1                     & ...                   & 28.45898              & 47.96589              &  4.743151             & 18.831976             & 28.45898              & 23.57513              & 71.54102              & NA                    & NA                    & NA                   \\\\\n",
       "\\end{tabular}\n"
      ],
      "text/markdown": [
       "\n",
       "| <!--/--> | IDEN_CLASS | IDEN_Fibres | Annee | Sorte_The | Profondeur_cm | Type_The | Variete | Type_Sachet | Entreprise | Tamis_mm | ... | ADL_calc_pourc | SOL_calc_pourc | HEM_calc_pourc | CEL_calc_pourc | LIC_calc_pourc | HOLO_calc_pourc | M_hydrolysable_pourc | CF_pourc | ISB_calc | SucresSol_mgPg_MS |\n",
       "|---|---|---|---|---|---|---|---|---|---|---|---|---|---|---|---|---|---|---|---|---|---|\n",
       "| 100 | 100                 | G09_P4_R1           | 2018                | Vert                |                     | Vert                | G                   | Nylon               | Lipton              | 1                   | ...                 | 21.60616            | 48.91032            | 18.912068           | 10.571446           | 21.60616            | 29.48351            | 78.39384            | NA                  | NA                  | NA                  |\n",
       "| 103 | 103                 | G09_P7_R1           | 2018                | Vert                |                     | Vert                | G                   | Nylon               | Lipton              | 1                   | ...                 | 24.53467            | 49.73441            | 15.338960           | 10.391958           | 24.53467            | 25.73092            | 75.46533            | NA                  | NA                  | NA                  |\n",
       "| 106 | 106                 | G10_P5_R1           | 2018                | Vert                |                     | Vert                | G                   | Nylon               | Lipton              | 1                   | ...                 | 21.96417            | 49.41262            | 17.319414           | 11.303797           | 21.96417            | 28.62321            | 78.03583            | NA                  | NA                  | NA                  |\n",
       "| 109 | 109                 | G10_P7_R1           | 2018                | Vert                |                     | Vert                | G                   | Nylon               | Lipton              | 1                   | ...                 | 31.22343            | 50.89573            | 11.219450           |  6.661388           | 31.22343            | 17.88084            | 68.77657            | NA                  | NA                  | NA                  |\n",
       "| 112 | 112                 | G45_P4_R1           | 2018                | Vert                |                     | Vert                | G                   | Nylon               | Lipton              | 1                   | ...                 | 21.37245            | 49.75082            | 16.929849           | 11.946872           | 21.37245            | 28.87672            | 78.62755            | NA                  | NA                  | NA                  |\n",
       "| 115 | 115                 | G45_P7_R2           | 2018                | Vert                |                     | Vert                | G                   | Nylon               | Lipton              | 1                   | ...                 | 21.57747            | 51.10502            | 16.765991           | 10.551516           | 21.57747            | 27.31751            | 78.42253            | NA                  | NA                  | NA                  |\n",
       "| 118 | 118                 | GA9_P4_R1           | 2018                | Vert                |                     | Vert                | G                   | Nylon               | Lipton              | 1                   | ...                 | 24.56055            | 52.64873            | 13.903262           |  8.887449           | 24.56055            | 22.79071            | 75.43945            | NA                  | NA                  | NA                  |\n",
       "| 121 | 121                 | GA9_P6_R1           | 2018                | Vert                |                     | Vert                | G                   | Nylon               | Lipton              | 1                   | ...                 | 21.78913            | 51.30566            | 16.466647           | 10.438560           | 21.78913            | 26.90521            | 78.21087            | NA                  | NA                  | NA                  |\n",
       "| 124 | 124                 | GA9_P7_R2           | 2018                | Vert                |                     | Vert                | G                   | Nylon               | Lipton              | 1                   | ...                 | 30.36561            | 55.48283            | 12.916426           |  1.235127           | 30.36561            | 14.15155            | 69.63439            | NA                  | NA                  | NA                  |\n",
       "| 278 | 278                 | S09_P4_R1           | 2018                | Rooibos             |                     | Rouge               | S                   | Nylon               | Lipton              | 1                   | ...                 | 25.92498            | 27.62693            | 15.193177           | 31.254920           | 25.92498            | 46.44810            | 74.07502            | NA                  | NA                  | NA                  |\n",
       "| 281 | 281                 | S09_P7_R1           | 2018                | Rooibos             |                     | Rouge               | S                   | Nylon               | TeaLyra             | 1                   | ...                 | 25.36038            | 30.04755            | 14.036059           | 30.556007           | 25.36038            | 44.59207            | 74.63962            | NA                  | NA                  | NA                  |\n",
       "| 284 | 284                 | S10_P5_R1           | 2018                | Rooibos             |                     | Rouge               | S                   | Nylon               | TeaLyra             | 1                   | ...                 | 21.78922            | 32.42839            | 13.726460           | 32.055932           | 21.78922            | 45.78239            | 78.21078            | NA                  | NA                  | NA                  |\n",
       "| 287 | 287                 | S45_P4_R1           | 2018                | Rooibos             |                     | Rouge               | S                   | Nylon               | TeaLyra             | 1                   | ...                 | 24.22737            | 27.52818            | 15.801869           | 32.442586           | 24.22737            | 48.24446            | 75.77263            | NA                  | NA                  | NA                  |\n",
       "| 290 | 290                 | S45_P7_R2           | 2018                | Rooibos             |                     | Rouge               | S                   | Nylon               | TeaLyra             | 1                   | ...                 | 26.70794            | 31.45563            | 12.703586           | 29.132837           | 26.70794            | 41.83642            | 73.29206            | NA                  | NA                  | NA                  |\n",
       "| 293 | 293                 | SA9_P4_R1           | 2018                | Rooibos             |                     | Rouge               | S                   | Nylon               | TeaLyra             | 1                   | ...                 | 22.79802            | 38.90975            | 14.596491           | 23.695741           | 22.79802            | 38.29223            | 77.20198            | NA                  | NA                  | NA                  |\n",
       "| 296 | 296                 | SA9_P6_R1           | 2018                | Rooibos             |                     | Rouge               | S                   | Nylon               | TeaLyra             | 1                   | ...                 | 25.20607            | 38.88159            | 12.088582           | 23.823753           | 25.20607            | 35.91233            | 74.79393            | NA                  | NA                  | NA                  |\n",
       "| 299 | 299                 | SA9_P7_R2           | 2018                | Rooibos             |                     | Rouge               | S                   | Nylon               | TeaLyra             | 1                   | ...                 | 22.86012            | 36.34904            | 13.038684           | 27.752161           | 22.86012            | 40.79084            | 77.13988            | NA                  | NA                  | NA                  |\n",
       "| 345 | 345                 | N09_P4_R1           | 2018                | Residus_Canneberges |                     | Aucun               | N                   | Nylon               | Lipton              | 1                   | ...                 | 36.96599            | 35.93559            |  6.906010           | 20.192411           | 36.96599            | 27.09842            | 63.03401            | NA                  | NA                  | NA                  |\n",
       "| 348 | 348                 | N09_P7_R1           | 2018                | Residus_Canneberges |                     | Aucun               | N                   | Nylon               | Producteur          | 1                   | ...                 | 35.43401            | 39.23354            |  5.691543           | 19.640905           | 35.43401            | 25.33245            | 64.56599            | NA                  | NA                  | NA                  |\n",
       "| 351 | 351                 | N10_P5_R1           | 2018                | Residus_Canneberges |                     | Aucun               | N                   | Nylon               | Producteur          | 1                   | ...                 | 29.71281            | 46.06182            |  5.248640           | 18.976738           | 29.71281            | 24.22538            | 70.28719            | NA                  | NA                  | NA                  |\n",
       "| 354 | 354                 | N10_P7_R2           | 2018                | Residus_Canneberges |                     | Aucun               | N                   | Nylon               | Producteur          | 1                   | ...                 | 30.77805            | 46.79579            |  4.261497           | 18.164660           | 30.77805            | 22.42616            | 69.22195            | NA                  | NA                  | NA                  |\n",
       "| 357 | 357                 | N45_P4_R1           | 2018                | Residus_Canneberges |                     | Aucun               | N                   | Nylon               | Producteur          | 1                   | ...                 | 39.54950            | 34.28071            |  5.544083           | 20.625710           | 39.54950            | 26.16979            | 60.45050            | NA                  | NA                  | NA                  |\n",
       "| 360 | 360                 | N45_P7_R2           | 2018                | Residus_Canneberges |                     | Aucun               | N                   | Nylon               | Producteur          | 1                   | ...                 | 39.36962            | 35.53936            |  7.544762           | 17.546259           | 39.36962            | 25.09102            | 60.63038            | NA                  | NA                  | NA                  |\n",
       "| 363 | 363                 | NA9_P3_R2           | 2018                | Residus_Canneberges |                     | Aucun               | N                   | Nylon               | Producteur          | 1                   | ...                 | 36.01780            | 36.64065            |  6.838620           | 20.502926           | 36.01780            | 27.34155            | 63.98220            | NA                  | NA                  | NA                  |\n",
       "| 366 | 366                 | NA9_P4_R1           | 2018                | Residus_Canneberges |                     | Aucun               | N                   | Nylon               | Producteur          | 1                   | ...                 | 39.03885            | 34.60377            |  4.751253           | 21.606132           | 39.03885            | 26.35738            | 60.96115            | NA                  | NA                  | NA                  |\n",
       "| 369 | 369                 | NA9_P6_R1           | 2018                | Residus_Canneberges |                     | Aucun               | N                   | Nylon               | Producteur          | 1                   | ...                 | 28.67743            | 47.61002            |  5.515960           | 18.196583           | 28.67743            | 23.71254            | 71.32257            | NA                  | NA                  | NA                  |\n",
       "| 372 | 372                 | NA9_P7_R2           | 2018                | Residus_Canneberges |                     | Aucun               | N                   | Nylon               | Producteur          | 1                   | ...                 | 28.45898            | 47.96589            |  4.743151           | 18.831976           | 28.45898            | 23.57513            | 71.54102            | NA                  | NA                  | NA                  |\n",
       "\n"
      ],
      "text/plain": [
       "    IDEN_CLASS IDEN_Fibres Annee Sorte_The           Profondeur_cm Type_The\n",
       "100 100        G09_P4_R1   2018  Vert                              Vert    \n",
       "103 103        G09_P7_R1   2018  Vert                              Vert    \n",
       "106 106        G10_P5_R1   2018  Vert                              Vert    \n",
       "109 109        G10_P7_R1   2018  Vert                              Vert    \n",
       "112 112        G45_P4_R1   2018  Vert                              Vert    \n",
       "115 115        G45_P7_R2   2018  Vert                              Vert    \n",
       "118 118        GA9_P4_R1   2018  Vert                              Vert    \n",
       "121 121        GA9_P6_R1   2018  Vert                              Vert    \n",
       "124 124        GA9_P7_R2   2018  Vert                              Vert    \n",
       "278 278        S09_P4_R1   2018  Rooibos                           Rouge   \n",
       "281 281        S09_P7_R1   2018  Rooibos                           Rouge   \n",
       "284 284        S10_P5_R1   2018  Rooibos                           Rouge   \n",
       "287 287        S45_P4_R1   2018  Rooibos                           Rouge   \n",
       "290 290        S45_P7_R2   2018  Rooibos                           Rouge   \n",
       "293 293        SA9_P4_R1   2018  Rooibos                           Rouge   \n",
       "296 296        SA9_P6_R1   2018  Rooibos                           Rouge   \n",
       "299 299        SA9_P7_R2   2018  Rooibos                           Rouge   \n",
       "345 345        N09_P4_R1   2018  Residus_Canneberges               Aucun   \n",
       "348 348        N09_P7_R1   2018  Residus_Canneberges               Aucun   \n",
       "351 351        N10_P5_R1   2018  Residus_Canneberges               Aucun   \n",
       "354 354        N10_P7_R2   2018  Residus_Canneberges               Aucun   \n",
       "357 357        N45_P4_R1   2018  Residus_Canneberges               Aucun   \n",
       "360 360        N45_P7_R2   2018  Residus_Canneberges               Aucun   \n",
       "363 363        NA9_P3_R2   2018  Residus_Canneberges               Aucun   \n",
       "366 366        NA9_P4_R1   2018  Residus_Canneberges               Aucun   \n",
       "369 369        NA9_P6_R1   2018  Residus_Canneberges               Aucun   \n",
       "372 372        NA9_P7_R2   2018  Residus_Canneberges               Aucun   \n",
       "    Variete Type_Sachet Entreprise Tamis_mm ... ADL_calc_pourc SOL_calc_pourc\n",
       "100 G       Nylon       Lipton     1        ... 21.60616       48.91032      \n",
       "103 G       Nylon       Lipton     1        ... 24.53467       49.73441      \n",
       "106 G       Nylon       Lipton     1        ... 21.96417       49.41262      \n",
       "109 G       Nylon       Lipton     1        ... 31.22343       50.89573      \n",
       "112 G       Nylon       Lipton     1        ... 21.37245       49.75082      \n",
       "115 G       Nylon       Lipton     1        ... 21.57747       51.10502      \n",
       "118 G       Nylon       Lipton     1        ... 24.56055       52.64873      \n",
       "121 G       Nylon       Lipton     1        ... 21.78913       51.30566      \n",
       "124 G       Nylon       Lipton     1        ... 30.36561       55.48283      \n",
       "278 S       Nylon       Lipton     1        ... 25.92498       27.62693      \n",
       "281 S       Nylon       TeaLyra    1        ... 25.36038       30.04755      \n",
       "284 S       Nylon       TeaLyra    1        ... 21.78922       32.42839      \n",
       "287 S       Nylon       TeaLyra    1        ... 24.22737       27.52818      \n",
       "290 S       Nylon       TeaLyra    1        ... 26.70794       31.45563      \n",
       "293 S       Nylon       TeaLyra    1        ... 22.79802       38.90975      \n",
       "296 S       Nylon       TeaLyra    1        ... 25.20607       38.88159      \n",
       "299 S       Nylon       TeaLyra    1        ... 22.86012       36.34904      \n",
       "345 N       Nylon       Lipton     1        ... 36.96599       35.93559      \n",
       "348 N       Nylon       Producteur 1        ... 35.43401       39.23354      \n",
       "351 N       Nylon       Producteur 1        ... 29.71281       46.06182      \n",
       "354 N       Nylon       Producteur 1        ... 30.77805       46.79579      \n",
       "357 N       Nylon       Producteur 1        ... 39.54950       34.28071      \n",
       "360 N       Nylon       Producteur 1        ... 39.36962       35.53936      \n",
       "363 N       Nylon       Producteur 1        ... 36.01780       36.64065      \n",
       "366 N       Nylon       Producteur 1        ... 39.03885       34.60377      \n",
       "369 N       Nylon       Producteur 1        ... 28.67743       47.61002      \n",
       "372 N       Nylon       Producteur 1        ... 28.45898       47.96589      \n",
       "    HEM_calc_pourc CEL_calc_pourc LIC_calc_pourc HOLO_calc_pourc\n",
       "100 18.912068      10.571446      21.60616       29.48351       \n",
       "103 15.338960      10.391958      24.53467       25.73092       \n",
       "106 17.319414      11.303797      21.96417       28.62321       \n",
       "109 11.219450       6.661388      31.22343       17.88084       \n",
       "112 16.929849      11.946872      21.37245       28.87672       \n",
       "115 16.765991      10.551516      21.57747       27.31751       \n",
       "118 13.903262       8.887449      24.56055       22.79071       \n",
       "121 16.466647      10.438560      21.78913       26.90521       \n",
       "124 12.916426       1.235127      30.36561       14.15155       \n",
       "278 15.193177      31.254920      25.92498       46.44810       \n",
       "281 14.036059      30.556007      25.36038       44.59207       \n",
       "284 13.726460      32.055932      21.78922       45.78239       \n",
       "287 15.801869      32.442586      24.22737       48.24446       \n",
       "290 12.703586      29.132837      26.70794       41.83642       \n",
       "293 14.596491      23.695741      22.79802       38.29223       \n",
       "296 12.088582      23.823753      25.20607       35.91233       \n",
       "299 13.038684      27.752161      22.86012       40.79084       \n",
       "345  6.906010      20.192411      36.96599       27.09842       \n",
       "348  5.691543      19.640905      35.43401       25.33245       \n",
       "351  5.248640      18.976738      29.71281       24.22538       \n",
       "354  4.261497      18.164660      30.77805       22.42616       \n",
       "357  5.544083      20.625710      39.54950       26.16979       \n",
       "360  7.544762      17.546259      39.36962       25.09102       \n",
       "363  6.838620      20.502926      36.01780       27.34155       \n",
       "366  4.751253      21.606132      39.03885       26.35738       \n",
       "369  5.515960      18.196583      28.67743       23.71254       \n",
       "372  4.743151      18.831976      28.45898       23.57513       \n",
       "    M_hydrolysable_pourc CF_pourc ISB_calc SucresSol_mgPg_MS\n",
       "100 78.39384             NA       NA       NA               \n",
       "103 75.46533             NA       NA       NA               \n",
       "106 78.03583             NA       NA       NA               \n",
       "109 68.77657             NA       NA       NA               \n",
       "112 78.62755             NA       NA       NA               \n",
       "115 78.42253             NA       NA       NA               \n",
       "118 75.43945             NA       NA       NA               \n",
       "121 78.21087             NA       NA       NA               \n",
       "124 69.63439             NA       NA       NA               \n",
       "278 74.07502             NA       NA       NA               \n",
       "281 74.63962             NA       NA       NA               \n",
       "284 78.21078             NA       NA       NA               \n",
       "287 75.77263             NA       NA       NA               \n",
       "290 73.29206             NA       NA       NA               \n",
       "293 77.20198             NA       NA       NA               \n",
       "296 74.79393             NA       NA       NA               \n",
       "299 77.13988             NA       NA       NA               \n",
       "345 63.03401             NA       NA       NA               \n",
       "348 64.56599             NA       NA       NA               \n",
       "351 70.28719             NA       NA       NA               \n",
       "354 69.22195             NA       NA       NA               \n",
       "357 60.45050             NA       NA       NA               \n",
       "360 60.63038             NA       NA       NA               \n",
       "363 63.98220             NA       NA       NA               \n",
       "366 60.96115             NA       NA       NA               \n",
       "369 71.32257             NA       NA       NA               \n",
       "372 71.54102             NA       NA       NA               "
      ]
     },
     "metadata": {},
     "output_type": "display_data"
    }
   ],
   "source": [
    "data_fiber2"
   ]
  },
  {
   "cell_type": "markdown",
   "metadata": {},
   "source": [
    "## Exploring data"
   ]
  },
  {
   "cell_type": "code",
   "execution_count": 12,
   "metadata": {},
   "outputs": [
    {
     "name": "stderr",
     "output_type": "stream",
     "text": [
      "Warning message:\n",
      "\"Removed 242 rows containing non-finite values (stat_boxplot).\""
     ]
    },
    {
     "data": {
      "image/png": "[encoded data removed]",
      "text/plain": [
       "plot without title"
      ]
     },
     "metadata": {},
     "output_type": "display_data"
    }
   ],
   "source": [
    "options(repr.plot.width=15, repr.plot.height=12)\n",
    "ggplot(data = data,\n",
    "       mapping = aes(x = Prelevement, y = PertePoids)) +\n",
    "  facet_grid( .~ Sorte_The , scales = \"free\") +\n",
    "  geom_boxplot(mapping = aes(fill = Sorte_The, group = Prelevement))"
   ]
  },
  {
   "cell_type": "markdown",
   "metadata": {},
   "source": [
    "### Label repetitions in such a way they are unique per field and dose"
   ]
  },
  {
   "cell_type": "code",
   "execution_count": 13,
   "metadata": {},
   "outputs": [],
   "source": [
    "data$DoseRepPrel = paste0(data$Dosage_N, '_', data$Repetition,'_', data$Site, '_', \n",
    "                            data$Prelevement)"
   ]
  },
  {
   "cell_type": "markdown",
   "metadata": {},
   "source": [
    "### Cranberry residues are the reference to assess the effect of the kind of matter analysed"
   ]
  },
  {
   "cell_type": "code",
   "execution_count": 14,
   "metadata": {},
   "outputs": [],
   "source": [
    "data$Sorte_The <- as.factor(data$Sorte_The)\n",
    "data$Sorte_The = relevel(data$Sorte_The, ref = 'Residus_Canneberges')"
   ]
  },
  {
   "cell_type": "markdown",
   "metadata": {},
   "source": [
    "MODELISATION MIXTE \n",
    "1. What's affecting weight difference?\n",
    " prepare data"
   ]
  },
  {
   "cell_type": "code",
   "execution_count": 61,
   "metadata": {},
   "outputs": [],
   "source": [
    "weightdiff_data = data %>%\n",
    "  select(PertePoids,#C_over_N,\n",
    "         Sorte_The,Initial_Poids_Echantillon_g,Final_Poids_Echantillon_g,Producteur, Prelevement, Site, DoseRepPrel) %>%\n",
    "  drop_na(.) %>%\n",
    "  droplevels(.)"
   ]
  },
  {
   "cell_type": "markdown",
   "metadata": {},
   "source": [
    "### Median computing"
   ]
  },
  {
   "cell_type": "code",
   "execution_count": 62,
   "metadata": {},
   "outputs": [],
   "source": [
    "weightdiff_data_median <- aggregate(PertePoids ~ Prelevement + Sorte_The, data = weightdiff_data, FUN = median)"
   ]
  },
  {
   "cell_type": "raw",
   "metadata": {},
   "source": [
    "data_fiber_median <- aggregate(cbind(LIC_calc_pourc, HOLO_calc_pourc, HEM_calc_pourc, CEL_calc_pourc, SOL_calc_pourc) ~ Prelevement + Sorte_The,\n",
    "                               data = data_fiber2, FUN = mean)"
   ]
  },
  {
   "cell_type": "raw",
   "metadata": {},
   "source": [
    "data_fiber_median"
   ]
  },
  {
   "cell_type": "code",
   "execution_count": 65,
   "metadata": {},
   "outputs": [
    {
     "name": "stderr",
     "output_type": "stream",
     "text": [
      "Warning message:\n",
      "\"Column `Sorte_The` joining factors with different levels, coercing to character vector\""
     ]
    }
   ],
   "source": [
    "data_fiber_join <- left_join(weightdiff_data_median, data_fiber2, by = c('Prelevement', 'Sorte_The'))"
   ]
  },
  {
   "cell_type": "markdown",
   "metadata": {},
   "source": [
    "# Mixte model"
   ]
  },
  {
   "cell_type": "code",
   "execution_count": 82,
   "metadata": {},
   "outputs": [],
   "source": [
    "data_mm <- lme(fixed = PertePoids ~ Sorte_The + Prelevement, #C_over_N + \n",
    "                     random = ~ 1 | Producteur/Site, #/DoseRep,\n",
    "                     data = weightdiff_data)"
   ]
  },
  {
   "cell_type": "code",
   "execution_count": 83,
   "metadata": {},
   "outputs": [
    {
     "data": {
      "text/plain": [
       "Linear mixed-effects model fit by REML\n",
       " Data: weightdiff_data \n",
       "        AIC       BIC   logLik\n",
       "  -2553.638 -2520.226 1283.819\n",
       "\n",
       "Random effects:\n",
       " Formula: ~1 | Producteur\n",
       "        (Intercept)\n",
       "StdDev:   0.0207788\n",
       "\n",
       " Formula: ~1 | Site %in% Producteur\n",
       "        (Intercept)   Residual\n",
       "StdDev:  0.01416963 0.05458996\n",
       "\n",
       "Fixed effects: PertePoids ~ Sorte_The + Prelevement \n",
       "                      Value   Std.Error  DF   t-value p-value\n",
       "(Intercept)      -0.0917054 0.017040211 871  -5.38170       0\n",
       "Sorte_TheRooibos  0.1988221 0.004609345 871  43.13457       0\n",
       "Sorte_TheVert     0.4691725 0.004645562 871 100.99372       0\n",
       "Prelevement       0.0344954 0.000916969 871  37.61890       0\n",
       " Correlation: \n",
       "                 (Intr) Srt_TR Srt_TV\n",
       "Sorte_TheRooibos -0.145              \n",
       "Sorte_TheVert    -0.147  0.555       \n",
       "Prelevement      -0.207 -0.031 -0.015\n",
       "\n",
       "Standardized Within-Group Residuals:\n",
       "        Min          Q1         Med          Q3         Max \n",
       "-5.55224398 -0.55052333 -0.02433708  0.51022065  4.20974273 \n",
       "\n",
       "Number of Observations: 878\n",
       "Number of Groups: \n",
       "          Producteur Site %in% Producteur \n",
       "                   2                    4 "
      ]
     },
     "metadata": {},
     "output_type": "display_data"
    }
   ],
   "source": [
    "summary(data_mm)"
   ]
  },
  {
   "cell_type": "code",
   "execution_count": 84,
   "metadata": {},
   "outputs": [
    {
     "data": {
      "text/html": [
       "<table>\n",
       "<thead><tr><th></th><th scope=col>numDF</th><th scope=col>denDF</th><th scope=col>F-value</th><th scope=col>p-value</th></tr></thead>\n",
       "<tbody>\n",
       "\t<tr><th scope=row>(Intercept)</th><td>1        </td><td>871      </td><td> 291.6975</td><td>0        </td></tr>\n",
       "\t<tr><th scope=row>Sorte_The</th><td>2        </td><td>871      </td><td>5263.9435</td><td>0        </td></tr>\n",
       "\t<tr><th scope=row>Prelevement</th><td>1        </td><td>871      </td><td>1415.1819</td><td>0        </td></tr>\n",
       "</tbody>\n",
       "</table>\n"
      ],
      "text/latex": [
       "\\begin{tabular}{r|llll}\n",
       "  & numDF & denDF & F-value & p-value\\\\\n",
       "\\hline\n",
       "\t(Intercept) & 1         & 871       &  291.6975 & 0        \\\\\n",
       "\tSorte\\_The & 2         & 871       & 5263.9435 & 0        \\\\\n",
       "\tPrelevement & 1         & 871       & 1415.1819 & 0        \\\\\n",
       "\\end{tabular}\n"
      ],
      "text/markdown": [
       "\n",
       "| <!--/--> | numDF | denDF | F-value | p-value |\n",
       "|---|---|---|---|---|\n",
       "| (Intercept) | 1         | 871       |  291.6975 | 0         |\n",
       "| Sorte_The | 2         | 871       | 5263.9435 | 0         |\n",
       "| Prelevement | 1         | 871       | 1415.1819 | 0         |\n",
       "\n"
      ],
      "text/plain": [
       "            numDF denDF F-value   p-value\n",
       "(Intercept) 1     871    291.6975 0      \n",
       "Sorte_The   2     871   5263.9435 0      \n",
       "Prelevement 1     871   1415.1819 0      "
      ]
     },
     "metadata": {},
     "output_type": "display_data"
    }
   ],
   "source": [
    "anova(data_mm)"
   ]
  },
  {
   "cell_type": "code",
   "execution_count": 96,
   "metadata": {},
   "outputs": [
    {
     "data": {
      "text/html": [
       "<table>\n",
       "<thead><tr><th></th><th scope=col>Value</th><th scope=col>Std.Error</th><th scope=col>DF</th><th scope=col>t-value</th><th scope=col>p-value</th></tr></thead>\n",
       "<tbody>\n",
       "\t<tr><th scope=row>(Intercept)</th><td>-0.09170535  </td><td>0.0170402114 </td><td>871          </td><td> -5.381703   </td><td> 9.490172e-08</td></tr>\n",
       "\t<tr><th scope=row>Sorte_TheRooibos</th><td> 0.19882213  </td><td>0.0046093451 </td><td>871          </td><td> 43.134572   </td><td>2.156845e-218</td></tr>\n",
       "\t<tr><th scope=row>Sorte_TheVert</th><td> 0.46917254  </td><td>0.0046455616 </td><td>871          </td><td>100.993719   </td><td> 0.000000e+00</td></tr>\n",
       "\t<tr><th scope=row>Prelevement</th><td> 0.03449536  </td><td>0.0009169688 </td><td>871          </td><td> 37.618903   </td><td>1.049093e-184</td></tr>\n",
       "</tbody>\n",
       "</table>\n"
      ],
      "text/latex": [
       "\\begin{tabular}{r|lllll}\n",
       "  & Value & Std.Error & DF & t-value & p-value\\\\\n",
       "\\hline\n",
       "\t(Intercept) & -0.09170535   & 0.0170402114  & 871           &  -5.381703    &  9.490172e-08\\\\\n",
       "\tSorte\\_TheRooibos &  0.19882213   & 0.0046093451  & 871           &  43.134572    & 2.156845e-218\\\\\n",
       "\tSorte\\_TheVert &  0.46917254   & 0.0046455616  & 871           & 100.993719    &  0.000000e+00\\\\\n",
       "\tPrelevement &  0.03449536   & 0.0009169688  & 871           &  37.618903    & 1.049093e-184\\\\\n",
       "\\end{tabular}\n"
      ],
      "text/markdown": [
       "\n",
       "| <!--/--> | Value | Std.Error | DF | t-value | p-value |\n",
       "|---|---|---|---|---|---|\n",
       "| (Intercept) | -0.09170535   | 0.0170402114  | 871           |  -5.381703    |  9.490172e-08 |\n",
       "| Sorte_TheRooibos |  0.19882213   | 0.0046093451  | 871           |  43.134572    | 2.156845e-218 |\n",
       "| Sorte_TheVert |  0.46917254   | 0.0046455616  | 871           | 100.993719    |  0.000000e+00 |\n",
       "| Prelevement |  0.03449536   | 0.0009169688  | 871           |  37.618903    | 1.049093e-184 |\n",
       "\n"
      ],
      "text/plain": [
       "                 Value       Std.Error    DF  t-value    p-value      \n",
       "(Intercept)      -0.09170535 0.0170402114 871  -5.381703  9.490172e-08\n",
       "Sorte_TheRooibos  0.19882213 0.0046093451 871  43.134572 2.156845e-218\n",
       "Sorte_TheVert     0.46917254 0.0046455616 871 100.993719  0.000000e+00\n",
       "Prelevement       0.03449536 0.0009169688 871  37.618903 1.049093e-184"
      ]
     },
     "metadata": {},
     "output_type": "display_data"
    }
   ],
   "source": [
    "summary(data_mm)$tTable"
   ]
  },
  {
   "cell_type": "code",
   "execution_count": 100,
   "metadata": {},
   "outputs": [
    {
     "data": {
      "text/html": [
       "0.932400938294975"
      ],
      "text/latex": [
       "0.932400938294975"
      ],
      "text/markdown": [
       "0.932400938294975"
      ],
      "text/plain": [
       "[1] 0.9324009"
      ]
     },
     "metadata": {},
     "output_type": "display_data"
    }
   ],
   "source": [
    "pseudoR2(y = weightdiff_data$PertePoids,\n",
    "         y_hat = predict(data_mm, level = 2))"
   ]
  },
  {
   "cell_type": "code",
   "execution_count": 93,
   "metadata": {},
   "outputs": [
    {
     "name": "stderr",
     "output_type": "stream",
     "text": [
      "Warning message:\n",
      "\"package 'e1071' is in use and will not be installed\""
     ]
    },
    {
     "name": "stdout",
     "output_type": "stream",
     "text": [
      "[1] \"Shapiro-Wilk:\"\n",
      "\n",
      "\tShapiro-Wilk normality test\n",
      "\n",
      "data:  r\n",
      "W = 0.94002, p-value < 2.2e-16\n",
      "\n",
      "[1] \"Kurtosis: 4.12969365756344\"\n",
      "[1] \"Skewness: -0.282414722139155\"\n"
     ]
    },
    {
     "data": {
      "image/png": "[encoded data removed]",
      "text/plain": [
       "Plot with title \"\""
      ]
     },
     "metadata": {},
     "output_type": "display_data"
    }
   ],
   "source": [
    "install.packages('e1071')\n",
    "library('e1071')\n",
    "residues(data_mm)"
   ]
  },
  {
   "cell_type": "code",
   "execution_count": 94,
   "metadata": {},
   "outputs": [],
   "source": [
    "library(ggplot2)"
   ]
  },
  {
   "cell_type": "code",
   "execution_count": 75,
   "metadata": {},
   "outputs": [],
   "source": [
    "donnee_mean_sd <- data.frame(aggregate(PertePoids ~ Prelevement + Sorte_The , data = data, FUN = mean),\n",
    "                            sd = aggregate(PertePoids ~ Prelevement +  Sorte_The, data = data, FUN = sd))"
   ]
  },
  {
   "cell_type": "code",
   "execution_count": 76,
   "metadata": {},
   "outputs": [
    {
     "data": {
      "text/html": [
       "<table>\n",
       "<thead><tr><th scope=col>Prelevement</th><th scope=col>Sorte_The</th><th scope=col>PertePoids</th><th scope=col>sd.Prelevement</th><th scope=col>sd.Sorte_The</th><th scope=col>sd.PertePoids</th></tr></thead>\n",
       "<tbody>\n",
       "\t<tr><td>1                  </td><td>Residus_Canneberges</td><td>-0.04251073        </td><td>1                  </td><td>Residus_Canneberges</td><td>0.06465228         </td></tr>\n",
       "\t<tr><td>2                  </td><td>Residus_Canneberges</td><td>-0.02798317        </td><td>2                  </td><td>Residus_Canneberges</td><td>0.05155262         </td></tr>\n",
       "\t<tr><td>3                  </td><td>Residus_Canneberges</td><td> 0.00883064        </td><td>3                  </td><td>Residus_Canneberges</td><td>0.02672115         </td></tr>\n",
       "\t<tr><td>4                  </td><td>Residus_Canneberges</td><td> 0.03712390        </td><td>4                  </td><td>Residus_Canneberges</td><td>0.04649643         </td></tr>\n",
       "\t<tr><td>5                  </td><td>Residus_Canneberges</td><td> 0.08236305        </td><td>5                  </td><td>Residus_Canneberges</td><td>0.02885434         </td></tr>\n",
       "\t<tr><td>6                  </td><td>Residus_Canneberges</td><td> 0.12582183        </td><td>6                  </td><td>Residus_Canneberges</td><td>0.03683526         </td></tr>\n",
       "</tbody>\n",
       "</table>\n"
      ],
      "text/latex": [
       "\\begin{tabular}{r|llllll}\n",
       " Prelevement & Sorte\\_The & PertePoids & sd.Prelevement & sd.Sorte\\_The & sd.PertePoids\\\\\n",
       "\\hline\n",
       "\t 1                     & Residus\\_Canneberges & -0.04251073           & 1                     & Residus\\_Canneberges & 0.06465228           \\\\\n",
       "\t 2                     & Residus\\_Canneberges & -0.02798317           & 2                     & Residus\\_Canneberges & 0.05155262           \\\\\n",
       "\t 3                     & Residus\\_Canneberges &  0.00883064           & 3                     & Residus\\_Canneberges & 0.02672115           \\\\\n",
       "\t 4                     & Residus\\_Canneberges &  0.03712390           & 4                     & Residus\\_Canneberges & 0.04649643           \\\\\n",
       "\t 5                     & Residus\\_Canneberges &  0.08236305           & 5                     & Residus\\_Canneberges & 0.02885434           \\\\\n",
       "\t 6                     & Residus\\_Canneberges &  0.12582183           & 6                     & Residus\\_Canneberges & 0.03683526           \\\\\n",
       "\\end{tabular}\n"
      ],
      "text/markdown": [
       "\n",
       "| Prelevement | Sorte_The | PertePoids | sd.Prelevement | sd.Sorte_The | sd.PertePoids |\n",
       "|---|---|---|---|---|---|\n",
       "| 1                   | Residus_Canneberges | -0.04251073         | 1                   | Residus_Canneberges | 0.06465228          |\n",
       "| 2                   | Residus_Canneberges | -0.02798317         | 2                   | Residus_Canneberges | 0.05155262          |\n",
       "| 3                   | Residus_Canneberges |  0.00883064         | 3                   | Residus_Canneberges | 0.02672115          |\n",
       "| 4                   | Residus_Canneberges |  0.03712390         | 4                   | Residus_Canneberges | 0.04649643          |\n",
       "| 5                   | Residus_Canneberges |  0.08236305         | 5                   | Residus_Canneberges | 0.02885434          |\n",
       "| 6                   | Residus_Canneberges |  0.12582183         | 6                   | Residus_Canneberges | 0.03683526          |\n",
       "\n"
      ],
      "text/plain": [
       "  Prelevement Sorte_The           PertePoids  sd.Prelevement\n",
       "1 1           Residus_Canneberges -0.04251073 1             \n",
       "2 2           Residus_Canneberges -0.02798317 2             \n",
       "3 3           Residus_Canneberges  0.00883064 3             \n",
       "4 4           Residus_Canneberges  0.03712390 4             \n",
       "5 5           Residus_Canneberges  0.08236305 5             \n",
       "6 6           Residus_Canneberges  0.12582183 6             \n",
       "  sd.Sorte_The        sd.PertePoids\n",
       "1 Residus_Canneberges 0.06465228   \n",
       "2 Residus_Canneberges 0.05155262   \n",
       "3 Residus_Canneberges 0.02672115   \n",
       "4 Residus_Canneberges 0.04649643   \n",
       "5 Residus_Canneberges 0.02885434   \n",
       "6 Residus_Canneberges 0.03683526   "
      ]
     },
     "metadata": {},
     "output_type": "display_data"
    }
   ],
   "source": [
    "head(donnee_mean_sd)"
   ]
  },
  {
   "cell_type": "code",
   "execution_count": 77,
   "metadata": {},
   "outputs": [],
   "source": [
    "donnee_mean_sd$sd.Prelevement<- NULL\n",
    "donnee_mean_sd$sd.Sorte_The <- NULL"
   ]
  },
  {
   "cell_type": "code",
   "execution_count": 78,
   "metadata": {},
   "outputs": [
    {
     "data": {
      "text/html": [
       "<table>\n",
       "<thead><tr><th scope=col>Prelevement</th><th scope=col>Sorte_The</th><th scope=col>PertePoids</th><th scope=col>sd.PertePoids</th></tr></thead>\n",
       "<tbody>\n",
       "\t<tr><td>1                  </td><td>Residus_Canneberges</td><td>-0.04251073        </td><td>0.06465228         </td></tr>\n",
       "\t<tr><td>2                  </td><td>Residus_Canneberges</td><td>-0.02798317        </td><td>0.05155262         </td></tr>\n",
       "\t<tr><td>3                  </td><td>Residus_Canneberges</td><td> 0.00883064        </td><td>0.02672115         </td></tr>\n",
       "\t<tr><td>4                  </td><td>Residus_Canneberges</td><td> 0.03712390        </td><td>0.04649643         </td></tr>\n",
       "\t<tr><td>5                  </td><td>Residus_Canneberges</td><td> 0.08236305        </td><td>0.02885434         </td></tr>\n",
       "\t<tr><td>6                  </td><td>Residus_Canneberges</td><td> 0.12582183        </td><td>0.03683526         </td></tr>\n",
       "</tbody>\n",
       "</table>\n"
      ],
      "text/latex": [
       "\\begin{tabular}{r|llll}\n",
       " Prelevement & Sorte\\_The & PertePoids & sd.PertePoids\\\\\n",
       "\\hline\n",
       "\t 1                     & Residus\\_Canneberges & -0.04251073           & 0.06465228           \\\\\n",
       "\t 2                     & Residus\\_Canneberges & -0.02798317           & 0.05155262           \\\\\n",
       "\t 3                     & Residus\\_Canneberges &  0.00883064           & 0.02672115           \\\\\n",
       "\t 4                     & Residus\\_Canneberges &  0.03712390           & 0.04649643           \\\\\n",
       "\t 5                     & Residus\\_Canneberges &  0.08236305           & 0.02885434           \\\\\n",
       "\t 6                     & Residus\\_Canneberges &  0.12582183           & 0.03683526           \\\\\n",
       "\\end{tabular}\n"
      ],
      "text/markdown": [
       "\n",
       "| Prelevement | Sorte_The | PertePoids | sd.PertePoids |\n",
       "|---|---|---|---|\n",
       "| 1                   | Residus_Canneberges | -0.04251073         | 0.06465228          |\n",
       "| 2                   | Residus_Canneberges | -0.02798317         | 0.05155262          |\n",
       "| 3                   | Residus_Canneberges |  0.00883064         | 0.02672115          |\n",
       "| 4                   | Residus_Canneberges |  0.03712390         | 0.04649643          |\n",
       "| 5                   | Residus_Canneberges |  0.08236305         | 0.02885434          |\n",
       "| 6                   | Residus_Canneberges |  0.12582183         | 0.03683526          |\n",
       "\n"
      ],
      "text/plain": [
       "  Prelevement Sorte_The           PertePoids  sd.PertePoids\n",
       "1 1           Residus_Canneberges -0.04251073 0.06465228   \n",
       "2 2           Residus_Canneberges -0.02798317 0.05155262   \n",
       "3 3           Residus_Canneberges  0.00883064 0.02672115   \n",
       "4 4           Residus_Canneberges  0.03712390 0.04649643   \n",
       "5 5           Residus_Canneberges  0.08236305 0.02885434   \n",
       "6 6           Residus_Canneberges  0.12582183 0.03683526   "
      ]
     },
     "metadata": {},
     "output_type": "display_data"
    }
   ],
   "source": [
    "head(donnee_mean_sd)"
   ]
  },
  {
   "cell_type": "code",
   "execution_count": 79,
   "metadata": {},
   "outputs": [],
   "source": [
    "colnames(donnee_mean_sd)[4]<- 'sd' "
   ]
  },
  {
   "cell_type": "code",
   "execution_count": 80,
   "metadata": {},
   "outputs": [
    {
     "data": {
      "text/html": [
       "<table>\n",
       "<thead><tr><th scope=col>Prelevement</th><th scope=col>Sorte_The</th><th scope=col>PertePoids</th><th scope=col>sd</th></tr></thead>\n",
       "<tbody>\n",
       "\t<tr><td>1                  </td><td>Residus_Canneberges</td><td>-0.04251073        </td><td>0.06465228         </td></tr>\n",
       "\t<tr><td>2                  </td><td>Residus_Canneberges</td><td>-0.02798317        </td><td>0.05155262         </td></tr>\n",
       "\t<tr><td>3                  </td><td>Residus_Canneberges</td><td> 0.00883064        </td><td>0.02672115         </td></tr>\n",
       "\t<tr><td>4                  </td><td>Residus_Canneberges</td><td> 0.03712390        </td><td>0.04649643         </td></tr>\n",
       "\t<tr><td>5                  </td><td>Residus_Canneberges</td><td> 0.08236305        </td><td>0.02885434         </td></tr>\n",
       "\t<tr><td>6                  </td><td>Residus_Canneberges</td><td> 0.12582183        </td><td>0.03683526         </td></tr>\n",
       "</tbody>\n",
       "</table>\n"
      ],
      "text/latex": [
       "\\begin{tabular}{r|llll}\n",
       " Prelevement & Sorte\\_The & PertePoids & sd\\\\\n",
       "\\hline\n",
       "\t 1                     & Residus\\_Canneberges & -0.04251073           & 0.06465228           \\\\\n",
       "\t 2                     & Residus\\_Canneberges & -0.02798317           & 0.05155262           \\\\\n",
       "\t 3                     & Residus\\_Canneberges &  0.00883064           & 0.02672115           \\\\\n",
       "\t 4                     & Residus\\_Canneberges &  0.03712390           & 0.04649643           \\\\\n",
       "\t 5                     & Residus\\_Canneberges &  0.08236305           & 0.02885434           \\\\\n",
       "\t 6                     & Residus\\_Canneberges &  0.12582183           & 0.03683526           \\\\\n",
       "\\end{tabular}\n"
      ],
      "text/markdown": [
       "\n",
       "| Prelevement | Sorte_The | PertePoids | sd |\n",
       "|---|---|---|---|\n",
       "| 1                   | Residus_Canneberges | -0.04251073         | 0.06465228          |\n",
       "| 2                   | Residus_Canneberges | -0.02798317         | 0.05155262          |\n",
       "| 3                   | Residus_Canneberges |  0.00883064         | 0.02672115          |\n",
       "| 4                   | Residus_Canneberges |  0.03712390         | 0.04649643          |\n",
       "| 5                   | Residus_Canneberges |  0.08236305         | 0.02885434          |\n",
       "| 6                   | Residus_Canneberges |  0.12582183         | 0.03683526          |\n",
       "\n"
      ],
      "text/plain": [
       "  Prelevement Sorte_The           PertePoids  sd        \n",
       "1 1           Residus_Canneberges -0.04251073 0.06465228\n",
       "2 2           Residus_Canneberges -0.02798317 0.05155262\n",
       "3 3           Residus_Canneberges  0.00883064 0.02672115\n",
       "4 4           Residus_Canneberges  0.03712390 0.04649643\n",
       "5 5           Residus_Canneberges  0.08236305 0.02885434\n",
       "6 6           Residus_Canneberges  0.12582183 0.03683526"
      ]
     },
     "metadata": {},
     "output_type": "display_data"
    }
   ],
   "source": [
    "head(donnee_mean_sd)"
   ]
  },
  {
   "cell_type": "raw",
   "metadata": {},
   "source": [
    "# Change the color\n",
    "ggplot(data=donnee_mean_sd, aes(x=Prelevement , y=PertePoids , group=Sorte_The)) +\n",
    "  geom_line(aes(color=Sorte_The))+\n",
    "  geom_point(aes(color=Sorte_The)) +\n",
    "  geom_errorbar(aes(ymin=PertePoids-sd, ymax=PertePoids+sd), width=.1, \n",
    "                position=position_dodge(0.05)) #+\n",
    "  #geom_line() + geom_point()+\n",
    "  #scale_color_brewer(palette=\"Paired\")+theme_minimal()"
   ]
  },
  {
   "cell_type": "raw",
   "metadata": {},
   "source": [
    "ggsave(\"Figure10.png\", width = 10, height = 6, dpi = 600)# export plot high resolution"
   ]
  },
  {
   "cell_type": "code",
   "execution_count": 81,
   "metadata": {},
   "outputs": [
    {
     "data": {
      "image/png": "[encoded data removed]",
      "text/plain": [
       "plot without title"
      ]
     },
     "metadata": {},
     "output_type": "display_data"
    }
   ],
   "source": [
    "options(repr.plot.width=12, repr.plot.height=8)\n",
    "ggplot(data=donnee_mean_sd, aes(x=Prelevement, y=PertePoids, fill=Sorte_The)) + \n",
    "  geom_bar(stat=\"identity\", color=\"black\", position=position_dodge()) +\n",
    "  geom_errorbar(aes(ymin=PertePoids-sd, ymax=PertePoids+sd), width=.2,\n",
    "                 position=position_dodge(.9)) "
   ]
  },
  {
   "cell_type": "markdown",
   "metadata": {},
   "source": [
    "# FRACTAL KINETICS"
   ]
  },
  {
   "cell_type": "code",
   "execution_count": 49,
   "metadata": {},
   "outputs": [
    {
     "data": {
      "image/png": "[encoded data removed]",
      "text/plain": [
       "plot without title"
      ]
     },
     "metadata": {},
     "output_type": "display_data"
    }
   ],
   "source": [
    "# vérifier comment le modèle se comporte\n",
    "wfrac_f <- function(a, k, t, h) a*exp(-k*t^(1-h)) + (1-a)\n",
    "t <- seq(0, 120, 1)\n",
    "wfrac <- wfrac_f(a = 2, k = 0.25, t = t, h = 0)\n",
    "plot(t, wfrac, type='l')\n",
    "lines(t, wfrac_f(a = 2, k = 0.25, t = t, h = 0.9), col = 'red')"
   ]
  },
  {
   "cell_type": "code",
   "execution_count": 50,
   "metadata": {},
   "outputs": [
    {
     "data": {
      "text/plain": [
       "Nonlinear regression model\n",
       "  model: W ~ a * exp(-k * t^(1 - h)) + (1 - a)\n",
       "   data: df\n",
       "     a      k      h   .lin \n",
       "0.7831 0.0405 0.1316 1.0003 \n",
       " residual sum-of-squares: 0.0007585\n",
       "\n",
       "Number of iterations to convergence: 8 \n",
       "Achieved convergence tolerance: 2.896e-07"
      ]
     },
     "metadata": {},
     "output_type": "display_data"
    },
    {
     "data": {
      "image/png": "[encoded data removed]",
      "text/plain": [
       "plot without title"
      ]
     },
     "metadata": {},
     "output_type": "display_data"
    }
   ],
   "source": [
    "# lisser le modèle non linéaire\n",
    "t <- seq(0, 7, 1) *21\n",
    "wfrac <- wfrac_f(a = 0.8, k = 0.05, t = t, h = 0.2) + rnorm(length(t), 0, 0.01)\n",
    "plot(t, wfrac)\n",
    "df <- data.frame(t, W = wfrac)\n",
    "md_nl <- nls(W ~ a*exp(-k*t^(1-h)) + (1-a),\n",
    "data = df,\n",
    "start = list(a = 0.5, k = 0.02, h = 0.3),\n",
    "algorithm = \"plinear\")\n",
    "md_nl\n",
    "newdata = data.frame(t = 0:150)\n",
    "W_fit <- predict(md_nl, newdata = newdata)\n",
    "lines(newdata$t, W_fit, col = \"red\", lty = 2)"
   ]
  },
  {
   "cell_type": "raw",
   "metadata": {},
   "source": [
    "wfrac"
   ]
  },
  {
   "cell_type": "raw",
   "metadata": {},
   "source": [
    "df"
   ]
  },
  {
   "cell_type": "code",
   "execution_count": null,
   "metadata": {},
   "outputs": [],
   "source": [
    "donnee_2018$M_surM0 <- donnee_2018$Final_Poids_Echantillon_g / donnee_2018$Initial_Poids_Echantillon_g"
   ]
  },
  {
   "cell_type": "code",
   "execution_count": null,
   "metadata": {},
   "outputs": [],
   "source": [
    "date <- as.Date(c(\"05/14/2018\", \"06/04/2018\", \"06/25/2018\", \"07/16/2018\", \"08/06/2018\",\n",
    "                \"08/27/2018\", \"09/17/2018\", \"10/08/2018\"), format = \"%m/%d/%Y\")\n"
   ]
  },
  {
   "cell_type": "code",
   "execution_count": null,
   "metadata": {},
   "outputs": [],
   "source": [
    "#donnee_2018"
   ]
  },
  {
   "cell_type": "code",
   "execution_count": null,
   "metadata": {},
   "outputs": [],
   "source": [
    "Prélèvement <- 0:7"
   ]
  },
  {
   "cell_type": "code",
   "execution_count": null,
   "metadata": {},
   "outputs": [],
   "source": [
    "donnee0 <- data.frame(date, Prélèvement)"
   ]
  },
  {
   "cell_type": "code",
   "execution_count": null,
   "metadata": {},
   "outputs": [],
   "source": [
    "donnee0"
   ]
  },
  {
   "cell_type": "raw",
   "metadata": {},
   "source": [
    "donnee1 <- donnee_2018 %>%\n",
    "  select(PertePoids, Poids_Contenu..g., Poids_final_g, Prélèvement, TeaType)\n",
    "#%>%\n",
    "#  drop_na(.) %>%\n",
    " # droplevels(.)"
   ]
  },
  {
   "cell_type": "raw",
   "metadata": {},
   "source": [
    "head(donnee1)"
   ]
  },
  {
   "cell_type": "code",
   "execution_count": null,
   "metadata": {},
   "outputs": [],
   "source": [
    "donnee2 <- left_join(donnee1, donnee0, by = \"Prélèvement\")"
   ]
  },
  {
   "cell_type": "raw",
   "metadata": {},
   "source": [
    "head(donnee2)"
   ]
  },
  {
   "cell_type": "raw",
   "metadata": {},
   "source": [
    "donnee2$Time <- difftime(donnee2$date, \"2018/05/14\", units = \"days\")"
   ]
  },
  {
   "cell_type": "raw",
   "metadata": {},
   "source": [
    "donnee2$Time <- round(donnee2$Time, 0)"
   ]
  },
  {
   "cell_type": "raw",
   "metadata": {},
   "source": [
    "colnames(donnee2)[c(2,3)] <- c(\"M0\",\"Mt\")"
   ]
  },
  {
   "cell_type": "raw",
   "metadata": {},
   "source": [
    "head(donnee2)"
   ]
  },
  {
   "cell_type": "raw",
   "metadata": {},
   "source": [
    "?difftime"
   ]
  },
  {
   "cell_type": "raw",
   "metadata": {},
   "source": [
    "class(donnee2$Time)"
   ]
  },
  {
   "cell_type": "raw",
   "metadata": {},
   "source": [
    "plot(donnee2$Time, donnee2$PertePoids)"
   ]
  },
  {
   "cell_type": "raw",
   "metadata": {},
   "source": [
    "donnee2_Rooibos<- subset(donnee2, TeaType == 'Rooibos tea')"
   ]
  },
  {
   "cell_type": "raw",
   "metadata": {},
   "source": [
    "donnee2$TeaType"
   ]
  },
  {
   "cell_type": "raw",
   "metadata": {},
   "source": [
    "donnee2_Rooibos[(0.598/((donnee2_Rooibos$Mt/donnee2_Rooibos$M0) - 1 + 0.598)) < 0, ]"
   ]
  },
  {
   "cell_type": "code",
   "execution_count": null,
   "metadata": {},
   "outputs": [],
   "source": []
  },
  {
   "cell_type": "code",
   "execution_count": null,
   "metadata": {},
   "outputs": [],
   "source": [
    "is_na <- is.na(donnee2_Rooibos$Mt) | is.na(donnee2_Rooibos$M0)"
   ]
  },
  {
   "cell_type": "code",
   "execution_count": null,
   "metadata": {},
   "outputs": [],
   "source": [
    "any(0.598/((donnee2_Rooibos$Mt[!is_na]/donnee2_Rooibos$M0[!is_na]) - 1 + 0.598) < 0)"
   ]
  },
  {
   "cell_type": "code",
   "execution_count": null,
   "metadata": {},
   "outputs": [],
   "source": [
    "donnee2_Rooibos$k_t <- log(0.598/((donnee2_Rooibos$Mt/donnee2_Rooibos$M0) - 1 + 0.598))/as.numeric(donnee2_Rooibos$Time)"
   ]
  },
  {
   "cell_type": "raw",
   "metadata": {},
   "source": [
    "donnee2"
   ]
  },
  {
   "cell_type": "code",
   "execution_count": null,
   "metadata": {},
   "outputs": [],
   "source": [
    "plot(donnee2_Rooibos$Time, donnee2_Rooibos$k_t)"
   ]
  },
  {
   "cell_type": "code",
   "execution_count": null,
   "metadata": {},
   "outputs": [],
   "source": []
  },
  {
   "cell_type": "code",
   "execution_count": null,
   "metadata": {},
   "outputs": [],
   "source": []
  },
  {
   "cell_type": "code",
   "execution_count": null,
   "metadata": {},
   "outputs": [],
   "source": []
  },
  {
   "cell_type": "code",
   "execution_count": null,
   "metadata": {},
   "outputs": [],
   "source": []
  },
  {
   "cell_type": "code",
   "execution_count": null,
   "metadata": {},
   "outputs": [],
   "source": []
  },
  {
   "cell_type": "code",
   "execution_count": null,
   "metadata": {},
   "outputs": [],
   "source": [
    "?dates"
   ]
  },
  {
   "cell_type": "code",
   "execution_count": null,
   "metadata": {},
   "outputs": [],
   "source": [
    "betterDates <- as.Date(dates,\n",
    "format = \"%m %d %Y\")\n",
    "\n",
    "#> betterDates\n",
    "#[1] \"1984-05-27\" \"2005-07-07\""
   ]
  },
  {
   "cell_type": "code",
   "execution_count": null,
   "metadata": {},
   "outputs": [],
   "source": [
    "betterDates"
   ]
  },
  {
   "cell_type": "code",
   "execution_count": null,
   "metadata": {},
   "outputs": [],
   "source": [
    "head(donnee_2018)"
   ]
  },
  {
   "cell_type": "code",
   "execution_count": null,
   "metadata": {},
   "outputs": [],
   "source": [
    "Hf_g = 0.805 #pour nos donnee\n",
    "Hf_r = 0.826"
   ]
  },
  {
   "cell_type": "code",
   "execution_count": null,
   "metadata": {},
   "outputs": [],
   "source": [
    "donnee_2018$a = NA\n",
    "donnee_2018$k_tbi = NA"
   ]
  },
  {
   "cell_type": "code",
   "execution_count": null,
   "metadata": {},
   "outputs": [],
   "source": [
    "donnee_2018$a[donnee_2018$TeaType == \"Green tea\"] = (donnee_2018$Poids_Contenu..g.[donnee_2018$TeaType == \"Green tea\"] -\n",
    "                                            donnee_2018$Poids_final_g[donnee_2018$TeaType == \"Green tea\"]) /\n",
    "                                            donnee_2018$Poids_Contenu..g.[donnee_2018$TeaType == \"Green tea\"]"
   ]
  },
  {
   "cell_type": "code",
   "execution_count": null,
   "metadata": {},
   "outputs": [],
   "source": [
    "donnee_2018$S = 1 - donnee_2018$a/Hf_g"
   ]
  },
  {
   "cell_type": "code",
   "execution_count": null,
   "metadata": {},
   "outputs": [],
   "source": [
    "#head(donnee_2018$S)"
   ]
  },
  {
   "cell_type": "code",
   "execution_count": null,
   "metadata": {},
   "outputs": [],
   "source": [
    "sdr = paste(donnee_2018$Site, donnee_2018$Prélèvement, donnee_2018$Repetition)\n",
    "sdr_u = unique(sdr)"
   ]
  },
  {
   "cell_type": "code",
   "execution_count": null,
   "metadata": {},
   "outputs": [],
   "source": [
    "#sdr_u"
   ]
  },
  {
   "cell_type": "code",
   "execution_count": null,
   "metadata": {},
   "outputs": [],
   "source": [
    "for (i in 1:length(sdr_u)) {\n",
    "  Sg_i = mean(donnee_2018$S[sdr == sdr_u[i] & donnee_2018$TeaType == \"Green tea\"], na.rm = TRUE)\n",
    "  \n",
    "  # Rooibos\n",
    "  donnee_2018$a[sdr == sdr_u[i] & donnee_2018$TeaType == \"Rooibos tea\"] = Hf_r * (1 - Sg_i)\n",
    "  ar_i = donnee_2018$a[sdr == sdr_u[i] & donnee_2018$TeaType == \"Rooibos tea\"]\n",
    "  M_surM0_i = donnee_2018$M_surM0[sdr == sdr_u[i] & donnee_2018$TeaType == \"Rooibos tea\"]\n",
    "  donnee_2018$k_tbi[sdr == sdr_u[i] & donnee_2018$TeaType == \"Rooibos tea\"] = log(ar_i / (M_surM0_i - (1-ar_i))) / 90\n",
    "  \n",
    "  \n",
    "}"
   ]
  },
  {
   "cell_type": "code",
   "execution_count": null,
   "metadata": {},
   "outputs": [],
   "source": [
    "TBI_data_2018 = donnee_2018 %>%\n",
    "  select(k_tbi, TeaType, Farmers,Prélèvement, Site, a) %>%\n",
    "  drop_na(.) %>%\n",
    "  droplevels(.)"
   ]
  },
  {
   "cell_type": "markdown",
   "metadata": {},
   "source": [
    "lme_TBI_2018 <- lme(fixed = k_tbi ~ Prélèvement,\n",
    "    random = ~ 1 | Farmers/Site, #/DoseRep,\n",
    "    data = TBI_rooibos) # [omdecomp_data$TauxDecomposition_C > 0, ]"
   ]
  },
  {
   "cell_type": "code",
   "execution_count": null,
   "metadata": {},
   "outputs": [],
   "source": [
    "head(TBI_data_2018) "
   ]
  },
  {
   "cell_type": "code",
   "execution_count": null,
   "metadata": {},
   "outputs": [],
   "source": []
  },
  {
   "cell_type": "code",
   "execution_count": null,
   "metadata": {},
   "outputs": [],
   "source": []
  },
  {
   "cell_type": "code",
   "execution_count": null,
   "metadata": {},
   "outputs": [],
   "source": [
    "# vérifier comment le modèle se comporte\n",
    "wfrac_f <- function(a, k, t, h) a*exp(-k*t^(1-h)) + (1-a)\n",
    "t <- seq(0, 120, 1)\n",
    "wfrac <- wfrac_f(a = 2, k = 0.25, t = t, h = 0)\n",
    "plot(t, wfrac, type='l')\n",
    "lines(t, wfrac_f(a = 2, k = 0.25, t = t, h = 0.9), col = 'red')"
   ]
  },
  {
   "cell_type": "code",
   "execution_count": null,
   "metadata": {},
   "outputs": [],
   "source": [
    "# lisser le modèle non linéaire\n",
    "t <- seq(0, 7, 1) *21"
   ]
  },
  {
   "cell_type": "code",
   "execution_count": null,
   "metadata": {},
   "outputs": [],
   "source": [
    "wfrac <- wfrac_f(a = 0.8, k = 0.05, t = t, h = 0.2) + rnorm(length(t), 0, 0.01)"
   ]
  },
  {
   "cell_type": "code",
   "execution_count": null,
   "metadata": {},
   "outputs": [],
   "source": [
    "plot(t, wfrac)"
   ]
  },
  {
   "cell_type": "code",
   "execution_count": null,
   "metadata": {},
   "outputs": [],
   "source": [
    "df <- data.frame(t, W = TBI_data_2018)"
   ]
  },
  {
   "cell_type": "code",
   "execution_count": null,
   "metadata": {},
   "outputs": [],
   "source": [
    "plot(df$t, df$W.k_tbi)"
   ]
  },
  {
   "cell_type": "code",
   "execution_count": null,
   "metadata": {},
   "outputs": [],
   "source": [
    "md_nl <- nls(W.k_tbi ~ a*exp(-k*t^(1-h)) + (1-a),\n",
    "             data = df,\n",
    "             start = list(a = 0.5, k = 0.02, h = 0.3),\n",
    "             algorithm = \"plinear\")"
   ]
  },
  {
   "cell_type": "code",
   "execution_count": null,
   "metadata": {},
   "outputs": [],
   "source": [
    "md_nl\n",
    "newdata = data.frame(t = 0:150)\n",
    "W_fit <- predict(md_nl, newdata = newdata)\n",
    "lines(newdata$t, W_fit, col = \"red\", lty = 2)"
   ]
  },
  {
   "cell_type": "code",
   "execution_count": null,
   "metadata": {},
   "outputs": [],
   "source": [
    "head(donnee_2018)"
   ]
  },
  {
   "cell_type": "code",
   "execution_count": null,
   "metadata": {},
   "outputs": [],
   "source": []
  },
  {
   "cell_type": "code",
   "execution_count": null,
   "metadata": {},
   "outputs": [],
   "source": [
    "install.packages(\"fractal\")"
   ]
  },
  {
   "cell_type": "code",
   "execution_count": null,
   "metadata": {},
   "outputs": [],
   "source": [
    "install.packages(\"splus2R\")\n",
    "library(\"splus2R\")"
   ]
  },
  {
   "cell_type": "code",
   "execution_count": null,
   "metadata": {},
   "outputs": [],
   "source": [
    "install.packages(\"ifultools\")\n",
    "library(\"ifultools\")"
   ]
  },
  {
   "cell_type": "code",
   "execution_count": null,
   "metadata": {},
   "outputs": [],
   "source": [
    "install.packages(\"akima\")\n",
    "library(\"akima\")"
   ]
  },
  {
   "cell_type": "code",
   "execution_count": null,
   "metadata": {},
   "outputs": [],
   "source": [
    "library(\"fractal\")"
   ]
  },
  {
   "cell_type": "code",
   "execution_count": null,
   "metadata": {},
   "outputs": [],
   "source": [
    "?KDE"
   ]
  },
  {
   "cell_type": "code",
   "execution_count": null,
   "metadata": {},
   "outputs": [],
   "source": [
    "n.sample <- c(1000, 500, 300)\n",
    "n.sample"
   ]
  },
  {
   "cell_type": "code",
   "execution_count": null,
   "metadata": {},
   "outputs": [],
   "source": [
    "ind      <- rep(1:3, n.sample)"
   ]
  },
  {
   "cell_type": "code",
   "execution_count": null,
   "metadata": {},
   "outputs": [],
   "source": [
    "x <- rmvnorm(sum(n.sample),\n",
    "    mean = rbind(c(-10,-20), c(10,0), c(0,0))[ ind, ],\n",
    "    sd   = rbind(c(5,3), c(1,3) , c(0.3,1))[ ind, ],\n",
    "    rho  = c(0.5, 1, -0.4)[ind])\n",
    "x"
   ]
  },
  {
   "cell_type": "code",
   "execution_count": null,
   "metadata": {},
   "outputs": [],
   "source": [
    "## perform the KDE \n",
    "z <- KDE(x)\n",
    "print(z)"
   ]
  },
  {
   "cell_type": "code",
   "execution_count": null,
   "metadata": {},
   "outputs": [],
   "source": [
    "## plot a summary of the results \n",
    "eda.plot(z)"
   ]
  },
  {
   "cell_type": "code",
   "execution_count": null,
   "metadata": {},
   "outputs": [],
   "source": [
    "P <- na.omit(donnee_2018 %>% select(Date_Retrait, PertePoids))"
   ]
  },
  {
   "cell_type": "code",
   "execution_count": null,
   "metadata": {},
   "outputs": [],
   "source": [
    "H <- RoverS(P$Date_Retrait)"
   ]
  },
  {
   "cell_type": "code",
   "execution_count": null,
   "metadata": {},
   "outputs": [],
   "source": [
    "q <- RoverS(P$PertePoids)"
   ]
  },
  {
   "cell_type": "code",
   "execution_count": null,
   "metadata": {},
   "outputs": [],
   "source": [
    "q"
   ]
  },
  {
   "cell_type": "code",
   "execution_count": null,
   "metadata": {},
   "outputs": [],
   "source": []
  },
  {
   "cell_type": "code",
   "execution_count": null,
   "metadata": {},
   "outputs": [],
   "source": [
    "H"
   ]
  },
  {
   "cell_type": "code",
   "execution_count": null,
   "metadata": {},
   "outputs": [],
   "source": [
    " {\n",
    "RoverS(wmtsa::ocean)"
   ]
  },
  {
   "cell_type": "code",
   "execution_count": null,
   "metadata": {},
   "outputs": [],
   "source": [
    "## form KDE of beamchaos series \n",
    "plot(KDE(beamchaos),type=\"l\")"
   ]
  },
  {
   "cell_type": "code",
   "execution_count": null,
   "metadata": {},
   "outputs": [],
   "source": []
  },
  {
   "cell_type": "code",
   "execution_count": null,
   "metadata": {},
   "outputs": [],
   "source": []
  }
 ],
 "metadata": {
  "kernelspec": {
   "display_name": "R",
   "language": "R",
   "name": "ir"
  },
  "language_info": {
   "codemirror_mode": "r",
   "file_extension": ".r",
   "mimetype": "text/x-r-source",
   "name": "R",
   "pygments_lexer": "r",
   "version": "3.6.1"
  }
 },
 "nbformat": 4,
 "nbformat_minor": 4
}
