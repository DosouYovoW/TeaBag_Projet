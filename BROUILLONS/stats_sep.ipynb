{
 "cells": [
  {
   "cell_type": "markdown",
   "metadata": {},
   "source": [
    "# Organic matter decomposition kinetics in cranberry agroecosystems \n",
    "\n",
    "*Wilfried Dossou-Yovo, Serge Étienne Parent,Noura Ziadi, Élizabeth Parent and Léon Étienne Parent*"
   ]
  },
  {
   "cell_type": "code",
   "execution_count": 3,
   "metadata": {},
   "outputs": [
    {
     "name": "stdout",
     "output_type": "stream",
     "text": [
      "[1] \"2020-08-24\"\n"
     ]
    }
   ],
   "source": [
    "print(Sys.Date())"
   ]
  },
  {
   "cell_type": "markdown",
   "metadata": {},
   "source": [
    "## 1. Objective"
   ]
  },
  {
   "cell_type": "markdown",
   "metadata": {},
   "source": [
    "This notebook generates the results included in the manuscript *Tea bag index (TBI) and decomposition kinetics in cranberry agroecosystems*. The data set from 2017 trial is a collection of incubated tea bag weight, nitrogen, carbon and sulfur content, nitrogen type and doses on trials fieds. The aims of this study were to measure the TBI and kinetics of plant residue decomposition to estimate soil sequestration capacity in cranberry stands of Eastern Canada."
   ]
  },
  {
   "cell_type": "markdown",
   "metadata": {},
   "source": [
    "## 2. Statistical questions\n",
    "\n",
    "In addition to data exploration, this notebook will answer the following statistical questions.\n",
    "\n",
    "1. What's affecting 1st order kinetics?\n",
    "2. What affecting TBI parameters (k)?\n",
    "3. Where cranberry soils are placed among the axes of the *TBI*?\n",
    "4. What is the fractal kinetics of litter matterials ?\n",
    "5. What is the fractal kinetics of litter biochemical composition ?"
   ]
  },
  {
   "cell_type": "markdown",
   "metadata": {},
   "source": [
    "## 3. Packages and Function"
   ]
  },
  {
   "cell_type": "markdown",
   "metadata": {},
   "source": [
    "### 3.1 Packages"
   ]
  },
  {
   "cell_type": "markdown",
   "metadata": {},
   "source": [
    "We need package [tidyverse](https://www.tidyverse.org/) which loads a set of packages for easy data manipulation (e.g. [dplyr](https://www.rdocumentation.org/packages/dplyr/versions/0.7.8)) and visualization (e.g. [ggplot2](https://www.rdocumentation.org/packages/ggplot2/versions/3.2.1)). A set of other packages is used: [nlme](https://www.rdocumentation.org/packages/nlme/versions/3.1-143/topics/nlme) for fitting nonlinear mixed-effects models, the broom package summarises model outputs in a \"tidy\" way, [e1071](https://www.rdocumentation.org/packages/e1071/versions/1.7-3) to test distributions, [ggmap](https://www.rdocumentation.org/packages/ggmap/versions/3.0.0) for mapping, [ggrepel](https://www.rdocumentation.org/packages/ggrepel/versions/0.8.1) to avoid text overlaping on ggplot2, [patchwork](https://www.rdocumentation.org/packages/patchwork/versions/1.0.0/topics/patchwork-package) to assemble plots in grids, [composition](https://www.rdocumentation.org/packages/compositions/versions/1.40-5) for compositional data transformations."
   ]
  },
  {
   "cell_type": "code",
   "execution_count": 4,
   "metadata": {},
   "outputs": [],
   "source": [
    "library(\"tidyverse\")\n",
    "library(\"nlme\")\n",
    "library(\"broom\")\n",
    "library(\"e1071\")\n",
    "library(\"ggmap\")\n",
    "library(\"ggrepel\")\n",
    "library(\"compositions\")\n",
    "library(\"patchwork\")"
   ]
  },
  {
   "cell_type": "markdown",
   "metadata": {},
   "source": [
    "## 3.2 Some custom functions.\n",
    "### Pseudo R-square\n",
    "Pseudo R-square allows to measure how well variables of our model explain organic matter decomposition"
   ]
  },
  {
   "cell_type": "code",
   "execution_count": 5,
   "metadata": {},
   "outputs": [],
   "source": [
    "pseudoR2 <- function(y, y_hat) {\n",
    "  1 - (sum((y - y_hat)^2) / sum((y - mean(y))^2))\n",
    "}\n",
    "\n",
    "# Residuals\n",
    "residues <- function(model, level = 0, computeResidues = TRUE, residues,\n",
    "                   main = \"\") {\n",
    "  if (computeResidues) {\n",
    "    r = residuals(model, type=\"normalized\", level)\n",
    "  } else {\n",
    "    r = residues\n",
    "  }\n",
    "  hist(r, freq=F, main = main, breaks=20)\n",
    "  xfit<-seq(min(r),max(r),length=40)\n",
    "  yfit<-dnorm(xfit)\n",
    "  lines(xfit, yfit, col=\"red\", lwd=2)\n",
    "  print(\"Shapiro-Wilk:\")\n",
    "  print(shapiro.test(r))\n",
    "  print(paste(\"Kurtosis:\", kurtosis(r)))\n",
    "  print(paste(\"Skewness:\", skewness(r)))\n",
    "}\n"
   ]
  },
  {
   "cell_type": "markdown",
   "metadata": {},
   "source": [
    "## 4. Import data\n",
    "Here, we load our data `data.csv` available for the project in the `data` folder."
   ]
  },
  {
   "cell_type": "code",
   "execution_count": 6,
   "metadata": {},
   "outputs": [
    {
     "name": "stderr",
     "output_type": "stream",
     "text": [
      "Parsed with column specification:\n",
      "cols(\n",
      "  No = col_double(),\n",
      "  `Tea type abbr` = col_character(),\n",
      "  `Tea type` = col_character(),\n",
      "  `Initial tea weight (g)` = col_double(),\n",
      "  `Initial total weight (g)` = col_double(),\n",
      "  `Initial bag weight (g)` = col_double(),\n",
      "  `Remaining tea weight (g)` = col_double(),\n",
      "  Farm = col_character(),\n",
      "  Site = col_character(),\n",
      "  `Farming system` = col_character(),\n",
      "  `Nitrogen type` = col_character(),\n",
      "  `Nitrogen dose` = col_double(),\n",
      "  Repetition = col_double(),\n",
      "  `Remaining C (%)` = col_double(),\n",
      "  `Remaining N (%)` = col_double(),\n",
      "  `Remaining S (%)` = col_double(),\n",
      "  `Initial C fraction` = col_double()\n",
      ")\n"
     ]
    }
   ],
   "source": [
    "df <- read_csv(\"data/data.csv\")"
   ]
  },
  {
   "cell_type": "markdown",
   "metadata": {},
   "source": [
    "We create a label `Dose repetition` to create unique identifiers for blocks."
   ]
  },
  {
   "cell_type": "code",
   "execution_count": 7,
   "metadata": {},
   "outputs": [],
   "source": [
    "df$`Dose repetition` <- paste0(df$`Nitrogen dose`, '_', df$Repetition,'_', df$Site)"
   ]
  },
  {
   "cell_type": "markdown",
   "metadata": {},
   "source": [
    "*Cranberry litter* category will be used for the reference category in modeling."
   ]
  },
  {
   "cell_type": "code",
   "execution_count": 8,
   "metadata": {},
   "outputs": [],
   "source": [
    "df$`Tea type` <- relevel(factor(df$`Tea type`), ref = 'Cranberry litter')"
   ]
  },
  {
   "cell_type": "markdown",
   "metadata": {},
   "source": [
    "## 5. Mapping experimental sites"
   ]
  },
  {
   "cell_type": "markdown",
   "metadata": {},
   "source": [
    "We design a map of our four experimental sites with geographical position collected from Stamen maps. Warnings appear, but it seems its a bug that comes out when mixing ggmap and geom_label_repel."
   ]
  },
  {
   "cell_type": "code",
   "execution_count": 9,
   "metadata": {},
   "outputs": [
    {
     "name": "stderr",
     "output_type": "stream",
     "text": [
      "Source : http://tile.stamen.com/toner-lite/4/4/4.png\n",
      "Source : http://tile.stamen.com/toner-lite/4/5/4.png\n",
      "Source : http://tile.stamen.com/toner-lite/4/4/5.png\n",
      "Source : http://tile.stamen.com/toner-lite/4/5/5.png\n",
      "Source : http://tile.stamen.com/toner-lite/8/76/90.png\n",
      "Source : http://tile.stamen.com/toner-lite/8/77/90.png\n",
      "Source : http://tile.stamen.com/toner-lite/8/76/91.png\n",
      "Source : http://tile.stamen.com/toner-lite/8/77/91.png\n",
      "Warning message in min(x):\n",
      "\"aucun argument trouvé pour min ; Inf est renvoyé\"Warning message in max(x):\n",
      "\"aucun argument pour max ; -Inf est renvoyé\"Warning message in min(x):\n",
      "\"aucun argument trouvé pour min ; Inf est renvoyé\"Warning message in max(x):\n",
      "\"aucun argument pour max ; -Inf est renvoyé\""
     ]
    }
   ],
   "source": [
    "# table including sites and their geograhic position\n",
    "sites <- tibble(names = c(\"Fortier/45\", \"Fortier/9\", \"Belanger/A9\", \"Belanger/10\"),\n",
    "                lat = c(46.2759555, 46.2759555, 46.2329064, 46.3277404),\n",
    "                lon = c(-71.8584291, -71.8584291, -72.0461854, -71.7486645))\n",
    "\n",
    "# create two frames, one for zoom out, the other for zoom in\n",
    "frame_map_zoom_out <- c(left = -90, bottom = 44, right = -53, top = 63)\n",
    "frame_map_zoom_in <- c(left = -73, bottom = 46, right = -70.5, top = 47)\n",
    "\n",
    "# to draw the zoom in frame on the zoom out map\n",
    "rect_zoom <- data.frame(t(data.frame(frame_map_zoom_in)))\n",
    "\n",
    "# the map with zoom out\n",
    "map_out <- get_stamenmap(frame_map_zoom_out, zoom = 4, maptype = \"toner-lite\") %>%\n",
    "  ggmap() +\n",
    "  geom_rect(data = rect_zoom, aes(xmin = left, xmax = right,\n",
    "                                  ymin = bottom, ymax = top,\n",
    "                                  x = NULL, y = NULL),\n",
    "            fill = rgb(0, 0, 0, 0.2), colour = \"black\") +\n",
    "  #geom_label_repel(data = sites, aes(x = lon, y = lat, label = names)) +\n",
    "  labs(x = \"Longitude\", y = \"Latiude\", title = \"A\")\n",
    "\n",
    "# the map with zoom in\n",
    "map_in <- get_stamenmap(frame_map_zoom_in, zoom = 8, maptype = \"toner-lite\") %>%\n",
    "  ggmap() +\n",
    "  geom_label_repel(data = sites, aes(x = lon, y = lat, label = names)) +\n",
    "  labs(x = \"Longitude\", y = \"Latiude\", title = \"B\")\n",
    "\n",
    "# combining the plots\n",
    "maps_ <- map_out + map_in\n",
    "\n",
    "ggsave(\"figures/site_map.png\", plot = maps_, width = 8, height = 6, dpi = 600)"
   ]
  },
  {
   "cell_type": "markdown",
   "metadata": {},
   "source": [
    "## 6. Monthly weather data (2008-2018) at Lemieux, Quebec (46° 09′ 56″ N 72° 19′ 28″ W), for experimental sites (Gouvernement du Canada, 2018)"
   ]
  },
  {
   "cell_type": "markdown",
   "metadata": {},
   "source": [
    "### 6.1 Import data weather\n",
    "\n",
    "`Data weather` has been collected from environnement canada. The content is the collection of data history about temperature and precipitation from years of field trial (2017 and 2018) and 10 years average (2008 to 2018)."
   ]
  },
  {
   "cell_type": "code",
   "execution_count": 10,
   "metadata": {},
   "outputs": [
    {
     "name": "stderr",
     "output_type": "stream",
     "text": [
      "Using ',' as decimal and '.' as grouping mark. Use read_delim() for more control.\n",
      "Parsed with column specification:\n",
      "cols(\n",
      "  Years = col_character(),\n",
      "  Months = col_character(),\n",
      "  `Precipitations(mm)` = col_double(),\n",
      "  `Temperatures(oC)` = col_double()\n",
      ")\n"
     ]
    }
   ],
   "source": [
    "df_weather <- read_csv2(\"data/data_weather.csv\")"
   ]
  },
  {
   "cell_type": "markdown",
   "metadata": {},
   "source": [
    "### 6.2 Plot weather data"
   ]
  },
  {
   "cell_type": "code",
   "execution_count": 11,
   "metadata": {},
   "outputs": [],
   "source": [
    "df_weather$Months <- factor(df_weather$Months,levels = c(\"June\", \"July\", \"August\", \"September\")) #  Sorting bars by Months"
   ]
  },
  {
   "cell_type": "code",
   "execution_count": 12,
   "metadata": {},
   "outputs": [
    {
     "data": {
      "image/png": "[encoded data removed]",
      "text/plain": [
       "plot without title"
      ]
     },
     "metadata": {},
     "output_type": "display_data"
    }
   ],
   "source": [
    "df_weather_long <- df_weather %>%\n",
    "  pivot_longer(cols = -c(Years, Months))\n",
    "\n",
    "Weather <- df_weather_long %>%\n",
    "  filter(Years %in% c(\"2017\", \"2018\")) %>%\n",
    "  ggplot(aes(x = `Months`, y = value)) +\n",
    "  facet_grid(name ~ ., scales = \"free\", switch = \"y\") +\n",
    "  geom_bar(aes(fill= Years), colour = \"black\", stat=\"identity\", position=\"dodge\") +\n",
    "  geom_errorbar(data = df_weather_long %>% filter(Years == \"10 Years average\"),\n",
    "                mapping = aes(x = `Months`, ymax = value, ymin = value)) +\n",
    "  geom_label(data = df_weather_long %>% filter(Years == \"10 Years average\"),\n",
    "            mapping = aes(label = paste(\"10-y. av. = \", value), hjust = 0.6, vjust = 0.5)) +\n",
    "  #scale_fill_brewer(palette = \"Set2\") +\n",
    "  theme_bw() +\n",
    "  theme(axis.title.y = element_blank(),\n",
    "        strip.background = element_rect(fill = \"transparent\", colour = \"transparent\"),\n",
    "        strip.placement = \"outside\")\n",
    "Weather\n",
    "ggsave(\"figures/Weather.png\", plot = Weather, width = 7, height = 8, dpi = 120)"
   ]
  },
  {
   "cell_type": "markdown",
   "metadata": {},
   "source": [
    "## 7. Compute the 1st order kinetics"
   ]
  },
  {
   "cell_type": "markdown",
   "metadata": {},
   "source": [
    "Weight loss rate has been estimated with the function\n",
    "\n",
    "$k_1 = \\frac{-ln \\left( \\frac{M(t)}{M_0} \\right) }{t}$,\n",
    "\n",
    "where $M_0$ is initial litter organic mass, $M(t)$ is litter organic mass that remains after incubation time $t = 90~days$, and $k_1$ is decomposition rate. "
   ]
  },
  {
   "cell_type": "code",
   "execution_count": 13,
   "metadata": {},
   "outputs": [],
   "source": [
    "kinetics_1st <- function(rw, iw, t) {\n",
    "    -log(rw/iw)/t\n",
    "}"
   ]
  },
  {
   "cell_type": "markdown",
   "metadata": {},
   "source": [
    "We can compute `k1` for each row of the `df` table."
   ]
  },
  {
   "cell_type": "code",
   "execution_count": 14,
   "metadata": {},
   "outputs": [],
   "source": [
    "df$k1 <- kinetics_1st(rw = df$`Remaining tea weight (g)`,\n",
    "                      iw = df$`Initial tea weight (g)`,\n",
    "                      t = 90)"
   ]
  },
  {
   "cell_type": "markdown",
   "metadata": {},
   "source": [
    "## 8. Data exploration"
   ]
  },
  {
   "cell_type": "markdown",
   "metadata": {},
   "source": [
    "Boxplot of $k_1$ for different N dosages per litter."
   ]
  },
  {
   "cell_type": "code",
   "execution_count": 15,
   "metadata": {},
   "outputs": [
    {
     "name": "stderr",
     "output_type": "stream",
     "text": [
      "Warning message:\n",
      "\"Removed 49 rows containing non-finite values (stat_boxplot).\""
     ]
    },
    {
     "data": {
      "image/png": "[encoded data removed]",
      "text/plain": [
       "plot without title"
      ]
     },
     "metadata": {},
     "output_type": "display_data"
    }
   ],
   "source": [
    "options(repr.plot.width = 6, repr.plot.height = 10)\n",
    "ggplot(data = df,\n",
    "       mapping = aes(x = `Nitrogen type`, y = k1)) +\n",
    "  facet_grid(`Tea type` ~ ., scales = \"free\") +\n",
    "  geom_boxplot()"
   ]
  },
  {
   "cell_type": "markdown",
   "metadata": {},
   "source": [
    "## 9. Mixed model"
   ]
  },
  {
   "cell_type": "markdown",
   "metadata": {},
   "source": [
    "## 9.1 **Question 1**: What's affecting 1st order kinetics?"
   ]
  },
  {
   "cell_type": "markdown",
   "metadata": {},
   "source": [
    "The dose is standardized to zero mean and unit variance."
   ]
  },
  {
   "cell_type": "code",
   "execution_count": 16,
   "metadata": {},
   "outputs": [],
   "source": [
    "df <- df %>%\n",
    "  mutate(`Nitrogen dose scaled` = scale(`Nitrogen dose`))"
   ]
  },
  {
   "cell_type": "markdown",
   "metadata": {},
   "source": [
    "We rename variables without special characters to avoid errors, make sure litters and N dose types are categories, remove NAs in the table and remove categories that might still be in the description but now removed from the table, just in case."
   ]
  },
  {
   "cell_type": "code",
   "execution_count": 17,
   "metadata": {},
   "outputs": [],
   "source": [
    "df_mm <- df %>%\n",
    "  rename(tea = `Tea type`,\n",
    "         Ntype = `Nitrogen type`,\n",
    "         Ndose = `Nitrogen dose scaled`) %>%\n",
    "  mutate(tea = factor(tea),\n",
    "         Ntype = factor(Ntype)) %>%\n",
    "  drop_na() %>%\n",
    "  droplevels()"
   ]
  },
  {
   "cell_type": "markdown",
   "metadata": {},
   "source": [
    "The model investigates the effect of the type of the dose (`Ntype`), the magnitude of the dose (`Ndose`) and the litter (`tea`) on `k1`, considering the random effect of sites (`Site`) nested in farms (`Farm`)."
   ]
  },
  {
   "cell_type": "code",
   "execution_count": 18,
   "metadata": {},
   "outputs": [
    {
     "data": {
      "text/plain": [
       "Approximate 95% confidence intervals\n",
       "\n",
       " Fixed effects:\n",
       "                              lower          est.         upper\n",
       "(Intercept)           -9.462499e-04  1.239422e-04  1.194134e-03\n",
       "NtypeN-6-1-1          -3.665047e-04  3.700764e-04  1.106658e-03\n",
       "NtypeN-8-0-0          -1.743339e-04  6.346989e-04  1.443732e-03\n",
       "NtypeN-SCU            -3.796524e-04  4.694389e-05  4.735401e-04\n",
       "Ndose                 -4.208384e-05  1.652003e-04  3.724843e-04\n",
       "teaGreen tea           9.339279e-03  9.623519e-03  9.907758e-03\n",
       "teaHibiscus Tea        2.407132e-03  3.666307e-03  4.925482e-03\n",
       "teaRooibos tea         2.814486e-03  3.098231e-03  3.381976e-03\n",
       "teaSencha Tea          1.174453e-02  1.300483e-02  1.426513e-02\n",
       "Ndose:teaGreen tea    -5.759244e-04 -2.997410e-04 -2.355757e-05\n",
       "Ndose:teaHibiscus Tea -1.100256e-03  2.016238e-04  1.503503e-03\n",
       "Ndose:teaRooibos tea  -4.628685e-04 -1.901865e-04  8.249546e-05\n",
       "Ndose:teaSencha Tea   -2.914566e-03 -1.612294e-03 -3.100234e-04\n",
       "attr(,\"label\")\n",
       "[1] \"Fixed effects:\"\n",
       "\n",
       " Random Effects:\n",
       "  Level: Farm \n",
       "                       lower         est.       upper\n",
       "sd((Intercept)) 0.0001098398 0.0006631735 0.004004004\n",
       "  Level: Site \n",
       "                      lower         est.       upper\n",
       "sd((Intercept)) 0.000139708 0.0004607784 0.001519718\n",
       "\n",
       " Within-group standard error:\n",
       "       lower         est.        upper \n",
       "0.0009592645 0.0010334818 0.0011134412 "
      ]
     },
     "metadata": {},
     "output_type": "display_data"
    }
   ],
   "source": [
    "k1_mm <- lme(fixed = k1 ~ Ntype + Ndose * tea,\n",
    "                     random = ~ 1 | Farm/Site,\n",
    "                     data = df_mm)\n",
    "intervals(k1_mm, level = 0.95)"
   ]
  },
  {
   "cell_type": "markdown",
   "metadata": {},
   "source": [
    "### 9.2.1 P-value"
   ]
  },
  {
   "cell_type": "code",
   "execution_count": 19,
   "metadata": {},
   "outputs": [
    {
     "data": {
      "text/html": [
       "<table>\n",
       "<thead><tr><th></th><th scope=col>numDF</th><th scope=col>denDF</th><th scope=col>F-value</th><th scope=col>p-value</th></tr></thead>\n",
       "<tbody>\n",
       "\t<tr><th scope=row>(Intercept)</th><td>1           </td><td>346         </td><td>  90.4235185</td><td>0.000000e+00</td></tr>\n",
       "\t<tr><th scope=row>Ntype</th><td>3           </td><td>346         </td><td>   9.2425070</td><td>6.769315e-06</td></tr>\n",
       "\t<tr><th scope=row>Ndose</th><td>1           </td><td>346         </td><td>   0.4951898</td><td>4.820946e-01</td></tr>\n",
       "\t<tr><th scope=row>tea</th><td>4           </td><td>346         </td><td>1309.7307309</td><td>0.000000e+00</td></tr>\n",
       "\t<tr><th scope=row>Ndose:tea</th><td>4           </td><td>346         </td><td>   2.4427939</td><td>4.649410e-02</td></tr>\n",
       "</tbody>\n",
       "</table>\n"
      ],
      "text/latex": [
       "\\begin{tabular}{r|llll}\n",
       "  & numDF & denDF & F-value & p-value\\\\\n",
       "\\hline\n",
       "\t(Intercept) & 1            & 346          &   90.4235185 & 0.000000e+00\\\\\n",
       "\tNtype & 3            & 346          &    9.2425070 & 6.769315e-06\\\\\n",
       "\tNdose & 1            & 346          &    0.4951898 & 4.820946e-01\\\\\n",
       "\ttea & 4            & 346          & 1309.7307309 & 0.000000e+00\\\\\n",
       "\tNdose:tea & 4            & 346          &    2.4427939 & 4.649410e-02\\\\\n",
       "\\end{tabular}\n"
      ],
      "text/markdown": [
       "\n",
       "| <!--/--> | numDF | denDF | F-value | p-value |\n",
       "|---|---|---|---|---|\n",
       "| (Intercept) | 1            | 346          |   90.4235185 | 0.000000e+00 |\n",
       "| Ntype | 3            | 346          |    9.2425070 | 6.769315e-06 |\n",
       "| Ndose | 1            | 346          |    0.4951898 | 4.820946e-01 |\n",
       "| tea | 4            | 346          | 1309.7307309 | 0.000000e+00 |\n",
       "| Ndose:tea | 4            | 346          |    2.4427939 | 4.649410e-02 |\n",
       "\n"
      ],
      "text/plain": [
       "            numDF denDF F-value      p-value     \n",
       "(Intercept) 1     346     90.4235185 0.000000e+00\n",
       "Ntype       3     346      9.2425070 6.769315e-06\n",
       "Ndose       1     346      0.4951898 4.820946e-01\n",
       "tea         4     346   1309.7307309 0.000000e+00\n",
       "Ndose:tea   4     346      2.4427939 4.649410e-02"
      ]
     },
     "metadata": {},
     "output_type": "display_data"
    }
   ],
   "source": [
    "anova(k1_mm)"
   ]
  },
  {
   "cell_type": "markdown",
   "metadata": {},
   "source": [
    "### 9.1.2 Pseudo r-square\n",
    "Pseudo r-square was high with(0.94) and without(0.91) random effect indicated the influence of random effects was not impotant. Moreover, pseudo r-square was high, indicated mixed model was well fit to data.   "
   ]
  },
  {
   "cell_type": "code",
   "execution_count": 20,
   "metadata": {},
   "outputs": [
    {
     "data": {
      "text/html": [
       "0.917998181500839"
      ],
      "text/latex": [
       "0.917998181500839"
      ],
      "text/markdown": [
       "0.917998181500839"
      ],
      "text/plain": [
       "[1] 0.9179982"
      ]
     },
     "metadata": {},
     "output_type": "display_data"
    },
    {
     "data": {
      "text/html": [
       "0.940505395382787"
      ],
      "text/latex": [
       "0.940505395382787"
      ],
      "text/markdown": [
       "0.940505395382787"
      ],
      "text/plain": [
       "[1] 0.9405054"
      ]
     },
     "metadata": {},
     "output_type": "display_data"
    }
   ],
   "source": [
    "pseudoR2(y = df_mm$k1,\n",
    "         y_hat = predict(k1_mm, level = 0))\n",
    "\n",
    "pseudoR2(y = df_mm$k1,\n",
    "         y_hat = predict(k1_mm, level = 2))"
   ]
  },
  {
   "cell_type": "markdown",
   "metadata": {},
   "source": [
    "### 9.1.3 Shapiro-Wilk normality test"
   ]
  },
  {
   "cell_type": "code",
   "execution_count": 21,
   "metadata": {},
   "outputs": [
    {
     "name": "stdout",
     "output_type": "stream",
     "text": [
      "[1] \"Shapiro-Wilk:\"\n",
      "\n",
      "\tShapiro-Wilk normality test\n",
      "\n",
      "data:  r\n",
      "W = 0.93463, p-value = 1.636e-11\n",
      "\n",
      "[1] \"Kurtosis: 4.72506311595992\"\n",
      "[1] \"Skewness: 0.0203648806888307\"\n"
     ]
    },
    {
     "data": {
      "image/png": "[encoded data removed]",
      "text/plain": [
       "Plot with title \"\""
      ]
     },
     "metadata": {},
     "output_type": "display_data"
    }
   ],
   "source": [
    "options(repr.plot.width = 6, repr.plot.height = 4)\n",
    "residues(k1_mm)"
   ]
  },
  {
   "cell_type": "markdown",
   "metadata": {},
   "source": [
    "### 9.1.4 Reporting the results of the mixed models"
   ]
  },
  {
   "cell_type": "markdown",
   "metadata": {},
   "source": [
    "I create a table including the results I need: estimates, confidence intervals and p-values."
   ]
  },
  {
   "cell_type": "code",
   "execution_count": 22,
   "metadata": {},
   "outputs": [],
   "source": [
    "k1_gg <- data.frame(intervals(k1_mm, which = \"fixed\")$fixed)\n",
    "k1_gg <- k1_gg %>%\n",
    "  mutate(variable = rownames(k1_gg))\n",
    "k1_gg <- k1_gg %>%\n",
    "  mutate(pvalue = summary(k1_mm)$tTable[, 5],\n",
    "         is_significant = ifelse(pvalue <= 0.05, 'Significant at 0.05 level', 'Not significant at 0.05 level'))\n",
    "\n",
    "k1_gg$variable <- c(\"Intercept\", \"N 6-1-1\", \"N 8-0-0\", \"N SCU-39-0-0\", # Ajust names\n",
    "                    \"Dose N (scaled)\", \"Green tea\", \"Hibiscus tea\", \"Rooibos tea\", \"Sencha tea\",\n",
    "                     \"Green tea : Dose N\", \"Hibiscus tea : Dose N\", \"Rooibos tea : Dose N\", \"Sencha tea : Dose N\")"
   ]
  },
  {
   "cell_type": "markdown",
   "metadata": {},
   "source": [
    "> SÉP. Attention aux p-values. Elles peuvent être trompeuses. En tout cas, le seuil 0.05, lui, risque fort de mener à de fausses conclusions. Voir https://www.nature.com/articles/d41586-019-00857-9 et https://www.tandfonline.com/doi/full/10.1080/00031305.2016.1154108"
   ]
  },
  {
   "cell_type": "markdown",
   "metadata": {},
   "source": [
    "Adding random effects to the table."
   ]
  },
  {
   "cell_type": "code",
   "execution_count": 23,
   "metadata": {},
   "outputs": [],
   "source": [
    "k1_re <- data.frame(matrix(ncol = ncol(k1_gg), nrow = 6))\n",
    "names(k1_re) <- names(k1_gg)\n",
    "k1_re$est. <- c(ranef(k1_mm)$Farm[, 1], ranef(k1_mm)$Site[, 1])\n",
    "k1_re$variable <- c(rownames(ranef(k1_mm)$Farm),\n",
    "                    rownames(ranef(k1_mm)$Site))\n",
    "\n",
    "if (!(\"Belanger\" %in% k1_gg$variable)) k1_gg <- bind_rows(k1_gg, k1_re) # with an if to make sure ranefs are stacked only once"
   ]
  },
  {
   "cell_type": "markdown",
   "metadata": {},
   "source": [
    "Create a facet column to separate effects by effect category in the plot."
   ]
  },
  {
   "cell_type": "code",
   "execution_count": 24,
   "metadata": {},
   "outputs": [],
   "source": [
    "k1_gg$facet <- factor(c('Intercept',\n",
    "                        'N source', 'N source', 'N source',\n",
    "                        \"N dosage\",\n",
    "                        'Tea type', 'Tea type', 'Tea type', 'Tea type',\n",
    "                        'Tea type × N dosage', 'Tea type × N dosage', \n",
    "                        'Tea type × N dosage', 'Tea type × N dosage',\n",
    "                        \"Random effect\", \"Random effect\", \"Random effect\", \"Random effect\", \"Random effect\", \"Random effect\"))\n",
    "\n",
    "k1_gg <- k1_gg %>%\n",
    "  mutate(facet = factor(facet, levels = rev(c(\"Random effect\", \"Tea type × N dosage\", \"Tea type\", \"N dosage\", \"N source\"))))"
   ]
  },
  {
   "cell_type": "markdown",
   "metadata": {},
   "source": [
    "The `k1_gg` table is now set up pour the plot."
   ]
  },
  {
   "cell_type": "code",
   "execution_count": 25,
   "metadata": {},
   "outputs": [
    {
     "data": {
      "text/html": [
       "<table>\n",
       "<thead><tr><th scope=col>lower</th><th scope=col>est.</th><th scope=col>upper</th><th scope=col>variable</th><th scope=col>pvalue</th><th scope=col>is_significant</th><th scope=col>facet</th></tr></thead>\n",
       "<tbody>\n",
       "\t<tr><td>-9.462499e-04                </td><td>1.239422e-04                 </td><td>0.0011941343                 </td><td>Intercept                    </td><td> 8.199471e-01                </td><td>Not significant at 0.05 level</td><td>NA                           </td></tr>\n",
       "\t<tr><td>-3.665047e-04                </td><td>3.700764e-04                 </td><td>0.0011066576                 </td><td>N 6-1-1                      </td><td> 3.237498e-01                </td><td>Not significant at 0.05 level</td><td>N source                     </td></tr>\n",
       "\t<tr><td>-1.743339e-04                </td><td>6.346989e-04                 </td><td>0.0014437317                 </td><td>N 8-0-0                      </td><td> 1.237400e-01                </td><td>Not significant at 0.05 level</td><td>N source                     </td></tr>\n",
       "\t<tr><td>-3.796524e-04                </td><td>4.694389e-05                 </td><td>0.0004735401                 </td><td>N SCU-39-0-0                 </td><td> 8.287745e-01                </td><td>Not significant at 0.05 level</td><td>N source                     </td></tr>\n",
       "\t<tr><td>-4.208384e-05                </td><td>1.652003e-04                 </td><td>0.0003724843                 </td><td>Dose N (scaled)              </td><td> 1.179060e-01                </td><td>Not significant at 0.05 level</td><td>N dosage                     </td></tr>\n",
       "\t<tr><td> 9.339279e-03                </td><td>9.623519e-03                 </td><td>0.0099077584                 </td><td>Green tea                    </td><td>2.294584e-199                </td><td>Significant at 0.05 level    </td><td>Tea type                     </td></tr>\n",
       "</tbody>\n",
       "</table>\n"
      ],
      "text/latex": [
       "\\begin{tabular}{r|lllllll}\n",
       " lower & est. & upper & variable & pvalue & is\\_significant & facet\\\\\n",
       "\\hline\n",
       "\t -9.462499e-04                 & 1.239422e-04                  & 0.0011941343                  & Intercept                     &  8.199471e-01                 & Not significant at 0.05 level & NA                           \\\\\n",
       "\t -3.665047e-04                 & 3.700764e-04                  & 0.0011066576                  & N 6-1-1                       &  3.237498e-01                 & Not significant at 0.05 level & N source                     \\\\\n",
       "\t -1.743339e-04                 & 6.346989e-04                  & 0.0014437317                  & N 8-0-0                       &  1.237400e-01                 & Not significant at 0.05 level & N source                     \\\\\n",
       "\t -3.796524e-04                 & 4.694389e-05                  & 0.0004735401                  & N SCU-39-0-0                  &  8.287745e-01                 & Not significant at 0.05 level & N source                     \\\\\n",
       "\t -4.208384e-05                 & 1.652003e-04                  & 0.0003724843                  & Dose N (scaled)               &  1.179060e-01                 & Not significant at 0.05 level & N dosage                     \\\\\n",
       "\t  9.339279e-03                 & 9.623519e-03                  & 0.0099077584                  & Green tea                     & 2.294584e-199                 & Significant at 0.05 level     & Tea type                     \\\\\n",
       "\\end{tabular}\n"
      ],
      "text/markdown": [
       "\n",
       "| lower | est. | upper | variable | pvalue | is_significant | facet |\n",
       "|---|---|---|---|---|---|---|\n",
       "| -9.462499e-04                 | 1.239422e-04                  | 0.0011941343                  | Intercept                     |  8.199471e-01                 | Not significant at 0.05 level | NA                            |\n",
       "| -3.665047e-04                 | 3.700764e-04                  | 0.0011066576                  | N 6-1-1                       |  3.237498e-01                 | Not significant at 0.05 level | N source                      |\n",
       "| -1.743339e-04                 | 6.346989e-04                  | 0.0014437317                  | N 8-0-0                       |  1.237400e-01                 | Not significant at 0.05 level | N source                      |\n",
       "| -3.796524e-04                 | 4.694389e-05                  | 0.0004735401                  | N SCU-39-0-0                  |  8.287745e-01                 | Not significant at 0.05 level | N source                      |\n",
       "| -4.208384e-05                 | 1.652003e-04                  | 0.0003724843                  | Dose N (scaled)               |  1.179060e-01                 | Not significant at 0.05 level | N dosage                      |\n",
       "|  9.339279e-03                 | 9.623519e-03                  | 0.0099077584                  | Green tea                     | 2.294584e-199                 | Significant at 0.05 level     | Tea type                      |\n",
       "\n"
      ],
      "text/plain": [
       "  lower         est.         upper        variable        pvalue       \n",
       "1 -9.462499e-04 1.239422e-04 0.0011941343 Intercept        8.199471e-01\n",
       "2 -3.665047e-04 3.700764e-04 0.0011066576 N 6-1-1          3.237498e-01\n",
       "3 -1.743339e-04 6.346989e-04 0.0014437317 N 8-0-0          1.237400e-01\n",
       "4 -3.796524e-04 4.694389e-05 0.0004735401 N SCU-39-0-0     8.287745e-01\n",
       "5 -4.208384e-05 1.652003e-04 0.0003724843 Dose N (scaled)  1.179060e-01\n",
       "6  9.339279e-03 9.623519e-03 0.0099077584 Green tea       2.294584e-199\n",
       "  is_significant                facet   \n",
       "1 Not significant at 0.05 level NA      \n",
       "2 Not significant at 0.05 level N source\n",
       "3 Not significant at 0.05 level N source\n",
       "4 Not significant at 0.05 level N source\n",
       "5 Not significant at 0.05 level N dosage\n",
       "6 Significant at 0.05 level     Tea type"
      ]
     },
     "metadata": {},
     "output_type": "display_data"
    }
   ],
   "source": [
    "head(k1_gg)"
   ]
  },
  {
   "cell_type": "code",
   "execution_count": 26,
   "metadata": {},
   "outputs": [
    {
     "name": "stderr",
     "output_type": "stream",
     "text": [
      "Warning message:\n",
      "\"Removed 6 rows containing missing values (geom_segment).\"Warning message:\n",
      "\"Removed 6 rows containing missing values (geom_segment).\""
     ]
    },
    {
     "data": {
      "image/png": "[encoded data removed]",
      "text/plain": [
       "plot without title"
      ]
     },
     "metadata": {},
     "output_type": "display_data"
    }
   ],
   "source": [
    "options(repr.plot.width = 12, repr.plot.height = 6)\n",
    "k1_gg %>%\n",
    "  filter(variable != \"Intercept\") %>%\n",
    "  ggplot(aes(x = est., y = variable)) +\n",
    "  facet_grid(facet ~ ., scales = 'free', space = 'free') +\n",
    "  geom_vline(xintercept = 0, colour='grey70') +\n",
    "  geom_point() +\n",
    "  geom_segment(aes(x = lower, xend = upper, y = variable, yend = variable)) +\n",
    "  xlab('Coefficient') +\n",
    "  ylab('') +\n",
    "  theme_bw() +\n",
    "  theme(strip.text.y = element_text(angle=0),\n",
    "        legend.title = element_blank(),\n",
    "        legend.position = \"bottom\",\n",
    "        text = element_text(size = 20)) +\n",
    "  ggsave(\"figures/mixed-model-coefficients.png\", width = 8, height = 6, dpi = 600)"
   ]
  },
  {
   "cell_type": "markdown",
   "metadata": {},
   "source": [
    "How did $k_1$ react across tea types and nitrogen sources for a range of doses, according to the model? To answer this question, I create a grid of values and categories, predict the model for each row of the grid, then put nitrogen dosage back to its original scale."
   ]
  },
  {
   "cell_type": "code",
   "execution_count": 27,
   "metadata": {},
   "outputs": [],
   "source": [
    "pred_grid <- expand.grid(tea = unique(df_mm$tea),\n",
    "                         Ndose = c(min(df_mm$Ndose), max(df_mm$Ndose)),\n",
    "                         Ntype = unique(df_mm$Ntype))\n",
    "pred_grid <- pred_grid %>%\n",
    "  mutate(k1 = predict(k1_mm, newdata = pred_grid,\n",
    "                              level = 0),\n",
    "         Ndose = Ndose * sd(df$`Nitrogen dose`) + mean(df$`Nitrogen dose`)) %>%\n",
    "  rename(`Tea type` = tea,\n",
    "         `Nitrogen dose` = Ndose,\n",
    "         `Nitrogen type` = Ntype)"
   ]
  },
  {
   "cell_type": "code",
   "execution_count": 28,
   "metadata": {},
   "outputs": [
    {
     "data": {
      "text/html": [
       "<table>\n",
       "<thead><tr><th scope=col>Tea type</th><th scope=col>Nitrogen dose</th><th scope=col>Nitrogen type</th><th scope=col>k1</th></tr></thead>\n",
       "<tbody>\n",
       "\t<tr><td>Green tea       </td><td>3.552714e-15    </td><td>N-SCU           </td><td> 1.000054e-02   </td></tr>\n",
       "\t<tr><td>Hibiscus Tea    </td><td>3.552714e-15    </td><td>N-SCU           </td><td> 3.275177e-03   </td></tr>\n",
       "\t<tr><td>Rooibos tea     </td><td>6.000000e+01    </td><td>N-21-0-0        </td><td> 3.188624e-03   </td></tr>\n",
       "\t<tr><td>Sencha Tea      </td><td>6.000000e+01    </td><td>N-6-1-1         </td><td> 1.155585e-02   </td></tr>\n",
       "\t<tr><td>Rooibos tea     </td><td>3.552714e-15    </td><td>N-SCU           </td><td> 3.307399e-03   </td></tr>\n",
       "\t<tr><td>Cranberry litter</td><td>6.000000e+01    </td><td>N-8-0-0         </td><td> 9.804534e-04   </td></tr>\n",
       "\t<tr><td>Sencha Tea      </td><td>3.552714e-15    </td><td>N-21-0-0        </td><td> 1.534588e-02   </td></tr>\n",
       "\t<tr><td>Rooibos tea     </td><td>6.000000e+01    </td><td>N-6-1-1         </td><td> 3.558701e-03   </td></tr>\n",
       "\t<tr><td>Cranberry litter</td><td>3.552714e-15    </td><td>N-SCU           </td><td>-8.221926e-05   </td></tr>\n",
       "\t<tr><td>Hibiscus Tea    </td><td>6.000000e+01    </td><td>N-6-1-1         </td><td> 4.652856e-03   </td></tr>\n",
       "</tbody>\n",
       "</table>\n"
      ],
      "text/latex": [
       "\\begin{tabular}{r|llll}\n",
       " Tea type & Nitrogen dose & Nitrogen type & k1\\\\\n",
       "\\hline\n",
       "\t Green tea        & 3.552714e-15     & N-SCU            &  1.000054e-02   \\\\\n",
       "\t Hibiscus Tea     & 3.552714e-15     & N-SCU            &  3.275177e-03   \\\\\n",
       "\t Rooibos tea      & 6.000000e+01     & N-21-0-0         &  3.188624e-03   \\\\\n",
       "\t Sencha Tea       & 6.000000e+01     & N-6-1-1          &  1.155585e-02   \\\\\n",
       "\t Rooibos tea      & 3.552714e-15     & N-SCU            &  3.307399e-03   \\\\\n",
       "\t Cranberry litter & 6.000000e+01     & N-8-0-0          &  9.804534e-04   \\\\\n",
       "\t Sencha Tea       & 3.552714e-15     & N-21-0-0         &  1.534588e-02   \\\\\n",
       "\t Rooibos tea      & 6.000000e+01     & N-6-1-1          &  3.558701e-03   \\\\\n",
       "\t Cranberry litter & 3.552714e-15     & N-SCU            & -8.221926e-05   \\\\\n",
       "\t Hibiscus Tea     & 6.000000e+01     & N-6-1-1          &  4.652856e-03   \\\\\n",
       "\\end{tabular}\n"
      ],
      "text/markdown": [
       "\n",
       "| Tea type | Nitrogen dose | Nitrogen type | k1 |\n",
       "|---|---|---|---|\n",
       "| Green tea        | 3.552714e-15     | N-SCU            |  1.000054e-02    |\n",
       "| Hibiscus Tea     | 3.552714e-15     | N-SCU            |  3.275177e-03    |\n",
       "| Rooibos tea      | 6.000000e+01     | N-21-0-0         |  3.188624e-03    |\n",
       "| Sencha Tea       | 6.000000e+01     | N-6-1-1          |  1.155585e-02    |\n",
       "| Rooibos tea      | 3.552714e-15     | N-SCU            |  3.307399e-03    |\n",
       "| Cranberry litter | 6.000000e+01     | N-8-0-0          |  9.804534e-04    |\n",
       "| Sencha Tea       | 3.552714e-15     | N-21-0-0         |  1.534588e-02    |\n",
       "| Rooibos tea      | 6.000000e+01     | N-6-1-1          |  3.558701e-03    |\n",
       "| Cranberry litter | 3.552714e-15     | N-SCU            | -8.221926e-05    |\n",
       "| Hibiscus Tea     | 6.000000e+01     | N-6-1-1          |  4.652856e-03    |\n",
       "\n"
      ],
      "text/plain": [
       "   Tea type         Nitrogen dose Nitrogen type k1           \n",
       "1  Green tea        3.552714e-15  N-SCU          1.000054e-02\n",
       "2  Hibiscus Tea     3.552714e-15  N-SCU          3.275177e-03\n",
       "3  Rooibos tea      6.000000e+01  N-21-0-0       3.188624e-03\n",
       "4  Sencha Tea       6.000000e+01  N-6-1-1        1.155585e-02\n",
       "5  Rooibos tea      3.552714e-15  N-SCU          3.307399e-03\n",
       "6  Cranberry litter 6.000000e+01  N-8-0-0        9.804534e-04\n",
       "7  Sencha Tea       3.552714e-15  N-21-0-0       1.534588e-02\n",
       "8  Rooibos tea      6.000000e+01  N-6-1-1        3.558701e-03\n",
       "9  Cranberry litter 3.552714e-15  N-SCU         -8.221926e-05\n",
       "10 Hibiscus Tea     6.000000e+01  N-6-1-1        4.652856e-03"
      ]
     },
     "metadata": {},
     "output_type": "display_data"
    }
   ],
   "source": [
    "pred_grid %>% sample_n(10)"
   ]
  },
  {
   "cell_type": "markdown",
   "metadata": {},
   "source": [
    "This table allows to plot the model and data superimposed."
   ]
  },
  {
   "cell_type": "code",
   "execution_count": 29,
   "metadata": {},
   "outputs": [
    {
     "name": "stderr",
     "output_type": "stream",
     "text": [
      "Warning message:\n",
      "\"Removed 49 rows containing missing values (geom_point).\"Warning message:\n",
      "\"Removed 49 rows containing missing values (geom_point).\""
     ]
    },
    {
     "data": {
      "image/png": "[encoded data removed]",
      "text/plain": [
       "plot without title"
      ]
     },
     "metadata": {},
     "output_type": "display_data"
    }
   ],
   "source": [
    "options(repr.plot.width = 10, repr.plot.height = 10)\n",
    "\n",
    "ggplot(df, aes(x = `Nitrogen dose`, y = `k1`)) +\n",
    "  facet_grid(`Nitrogen type` ~ `Tea type`) +\n",
    "  geom_point() +\n",
    "  geom_line(data = pred_grid) +\n",
    "  labs(x = expression(\"Dose N (kg ha\"^\"-1\"~\")\"), y = \"First order kinetics\") +\n",
    "  theme_bw() +\n",
    "  theme(text = element_text(size = 20)) + \n",
    "  ggsave(\"figures/k1-model-lines.png\", width = 10, height = 6, dpi = 600)# nomme figure"
   ]
  },
  {
   "cell_type": "markdown",
   "metadata": {},
   "source": [
    "## 9.2 **Question 2**: What affected TBI parameters (k)?\n",
    "\n",
    "Adding `M / M0` variable to data `df`."
   ]
  },
  {
   "cell_type": "code",
   "execution_count": 30,
   "metadata": {},
   "outputs": [],
   "source": [
    "df <- df %>%\n",
    "  mutate(`M / M0` = `Remaining tea weight (g)` / `Initial tea weight (g)`)"
   ]
  },
  {
   "cell_type": "markdown",
   "metadata": {},
   "source": [
    "I store hydrolysable fractions of green tea and rooibos."
   ]
  },
  {
   "cell_type": "code",
   "execution_count": 31,
   "metadata": {},
   "outputs": [],
   "source": [
    "Hf_g <- 0.805   # Hydrolysable fraction for Green tea\n",
    "Hf_r <- 0.826   # Hydrolysable fraction for Rooibos tea"
   ]
  },
  {
   "cell_type": "markdown",
   "metadata": {},
   "source": [
    "For comparaison purpose, [Keuskamp et al. (2013)](https://besjournals.onlinelibrary.wiley.com/doi/full/10.1111/2041-210X.12097) hydrolysable fractions were:\n",
    "\n",
    "- Green tea `Hf_g = 0.842`  \n",
    "- Rooibos tea `Hf_r = 0.552`"
   ]
  },
  {
   "cell_type": "markdown",
   "metadata": {},
   "source": [
    "### 9.2.1 Computation of the labile fraction (a) and the stabilization factor (s) of green tea\n",
    "\n",
    "Decomposition rate `k_tbi` is computed from Rooibos tea after 90 days of incubation. The *TBI* assumes that the decomposition of Green tea has stablilized while Rooibos tea is still decomposing. Stabilization factor `S` is computed from Green tea."
   ]
  },
  {
   "cell_type": "code",
   "execution_count": 32,
   "metadata": {},
   "outputs": [],
   "source": [
    "df <- df %>%\n",
    "  mutate(a = ifelse(`Tea type` == \"Green tea\",\n",
    "                    (`Initial tea weight (g)` - `Remaining tea weight (g)`) / `Initial tea weight (g)`,\n",
    "                    NA),\n",
    "         S = 1 - a / Hf_g)"
   ]
  },
  {
   "cell_type": "markdown",
   "metadata": {},
   "source": [
    "Compute litter stability `Sg` (Green tea) and decomposition constant `k_tbi` (Rooibos) for each experimental unit."
   ]
  },
  {
   "cell_type": "code",
   "execution_count": 33,
   "metadata": {},
   "outputs": [],
   "source": [
    "df <- df %>%\n",
    "  mutate(sdr = paste(df$Site, df$`Nitrogen dose`, df$Repetition))\n",
    "sdr_u <- unique(df$sdr)"
   ]
  },
  {
   "cell_type": "code",
   "execution_count": 34,
   "metadata": {},
   "outputs": [],
   "source": [
    "# Initialize k_tbi column\n",
    "df$k_tbi <- NA\n",
    "\n",
    "# For each rep, compute a and k_tbi\n",
    "for (i in 1:length(sdr_u)) {\n",
    "  # Green tea\n",
    "  Sg_i <- mean(df$S[df$sdr == sdr_u[i] & df$`Tea type` == \"Green tea\"], na.rm = TRUE)\n",
    "  \n",
    "  # Rooibos\n",
    "  df$a[df$sdr == sdr_u[i] & df$`Tea type` == \"Rooibos tea\"] <- Hf_r * (1 - Sg_i)\n",
    "  ar_i <- df$a[df$sdr == sdr_u[i] & df$`Tea type` == \"Rooibos tea\"]\n",
    "  M_M0i <- df$`M / M0`[df$sdr == sdr_u[i] & df$`Tea type` == \"Rooibos tea\"]\n",
    "  df$k_tbi[df$sdr == sdr_u[i] & df$`Tea type` == \"Rooibos tea\"] <- log(ar_i / (M_M0i - (1-ar_i))) / 90\n",
    "}"
   ]
  },
  {
   "cell_type": "markdown",
   "metadata": {},
   "source": [
    "Data exploration for N dose type."
   ]
  },
  {
   "cell_type": "code",
   "execution_count": 35,
   "metadata": {},
   "outputs": [
    {
     "name": "stderr",
     "output_type": "stream",
     "text": [
      "Warning message:\n",
      "\"Removed 388 rows containing missing values (geom_point).\""
     ]
    },
    {
     "data": {
      "image/png": "[encoded data removed]",
      "text/plain": [
       "plot without title"
      ]
     },
     "metadata": {},
     "output_type": "display_data"
    }
   ],
   "source": [
    "options(repr.plot.width=12, repr.plot.height=4)\n",
    "ggplot(data = df,\n",
    "       mapping = aes(x = `Nitrogen dose`, y = k_tbi)) +\n",
    "  geom_point(aes(colour = `Nitrogen type`)) +\n",
    "  geom_line(data = . %>%\n",
    "    group_by(`Nitrogen dose`, `Nitrogen type`) %>%\n",
    "    summarise(k_tbi = mean(k_tbi, na.rm = TRUE)),\n",
    "           aes(colour = `Nitrogen type`))"
   ]
  },
  {
   "cell_type": "markdown",
   "metadata": {},
   "source": [
    "### 9.3 What affecting TBI parameters (k)?\n",
    "\n",
    "Because `k_tbi` is computed from Rooibos tea, we create a new Rooibos data table named `df_rooibos`."
   ]
  },
  {
   "cell_type": "code",
   "execution_count": 36,
   "metadata": {},
   "outputs": [],
   "source": [
    "df_rooibos <- df %>% \n",
    "  filter(`Tea type` == \"Rooibos tea\")\n",
    "\n",
    "TBI_data <- df %>%\n",
    "  select(k_tbi, `Tea type`, Farm, `Nitrogen dose`, Site,\n",
    "         `Nitrogen type`) %>%\n",
    "  rename(Ntype = `Nitrogen type`,\n",
    "         Ndose = `Nitrogen dose`) %>%\n",
    "  drop_na() %>%\n",
    "  droplevels()\n",
    "\n",
    "TBI_rooibos <- TBI_data %>%\n",
    "  filter(`Tea type` == \"Rooibos tea\")"
   ]
  },
  {
   "cell_type": "markdown",
   "metadata": {},
   "source": [
    "### 9.3.1 `k_tbi` mixed model"
   ]
  },
  {
   "cell_type": "markdown",
   "metadata": {},
   "source": [
    "> SÉP. Explique le modèle comme ça a été fait pour le k1. Pourquoi Ndose + Ntype, pourquoi Farm/Site?"
   ]
  },
  {
   "cell_type": "code",
   "execution_count": 37,
   "metadata": {},
   "outputs": [],
   "source": [
    "lme_TBI <- lme(fixed = k_tbi ~  Ndose + Ntype,\n",
    "    random = ~ 1 | Farm/Site,\n",
    "    data = TBI_rooibos)"
   ]
  },
  {
   "cell_type": "code",
   "execution_count": 38,
   "metadata": {},
   "outputs": [
    {
     "data": {
      "text/html": [
       "<table>\n",
       "<thead><tr><th></th><th scope=col>Value</th><th scope=col>Std.Error</th><th scope=col>DF</th><th scope=col>t-value</th><th scope=col>p-value</th></tr></thead>\n",
       "<tbody>\n",
       "\t<tr><th scope=row>(Intercept)</th><td> 6.164356e-03</td><td>8.636613e-04 </td><td>120          </td><td> 7.1374693   </td><td>7.871002e-11 </td></tr>\n",
       "\t<tr><th scope=row>Ndose</th><td> 3.116282e-06</td><td>6.663922e-06 </td><td>120          </td><td> 0.4676347   </td><td>6.408939e-01 </td></tr>\n",
       "\t<tr><th scope=row>NtypeN-6-1-1</th><td> 2.000522e-03</td><td>5.863409e-04 </td><td>120          </td><td> 3.4118758   </td><td>8.799726e-04 </td></tr>\n",
       "\t<tr><th scope=row>NtypeN-8-0-0</th><td> 6.682900e-04</td><td>6.995885e-04 </td><td>120          </td><td> 0.9552616   </td><td>3.413659e-01 </td></tr>\n",
       "\t<tr><th scope=row>NtypeN-SCU</th><td>-4.075112e-04</td><td>6.884892e-04 </td><td>120          </td><td>-0.5918920   </td><td>5.550364e-01 </td></tr>\n",
       "</tbody>\n",
       "</table>\n"
      ],
      "text/latex": [
       "\\begin{tabular}{r|lllll}\n",
       "  & Value & Std.Error & DF & t-value & p-value\\\\\n",
       "\\hline\n",
       "\t(Intercept) &  6.164356e-03 & 8.636613e-04  & 120           &  7.1374693    & 7.871002e-11 \\\\\n",
       "\tNdose &  3.116282e-06 & 6.663922e-06  & 120           &  0.4676347    & 6.408939e-01 \\\\\n",
       "\tNtypeN-6-1-1 &  2.000522e-03 & 5.863409e-04  & 120           &  3.4118758    & 8.799726e-04 \\\\\n",
       "\tNtypeN-8-0-0 &  6.682900e-04 & 6.995885e-04  & 120           &  0.9552616    & 3.413659e-01 \\\\\n",
       "\tNtypeN-SCU & -4.075112e-04 & 6.884892e-04  & 120           & -0.5918920    & 5.550364e-01 \\\\\n",
       "\\end{tabular}\n"
      ],
      "text/markdown": [
       "\n",
       "| <!--/--> | Value | Std.Error | DF | t-value | p-value |\n",
       "|---|---|---|---|---|---|\n",
       "| (Intercept) |  6.164356e-03 | 8.636613e-04  | 120           |  7.1374693    | 7.871002e-11  |\n",
       "| Ndose |  3.116282e-06 | 6.663922e-06  | 120           |  0.4676347    | 6.408939e-01  |\n",
       "| NtypeN-6-1-1 |  2.000522e-03 | 5.863409e-04  | 120           |  3.4118758    | 8.799726e-04  |\n",
       "| NtypeN-8-0-0 |  6.682900e-04 | 6.995885e-04  | 120           |  0.9552616    | 3.413659e-01  |\n",
       "| NtypeN-SCU | -4.075112e-04 | 6.884892e-04  | 120           | -0.5918920    | 5.550364e-01  |\n",
       "\n"
      ],
      "text/plain": [
       "             Value         Std.Error    DF  t-value    p-value     \n",
       "(Intercept)   6.164356e-03 8.636613e-04 120  7.1374693 7.871002e-11\n",
       "Ndose         3.116282e-06 6.663922e-06 120  0.4676347 6.408939e-01\n",
       "NtypeN-6-1-1  2.000522e-03 5.863409e-04 120  3.4118758 8.799726e-04\n",
       "NtypeN-8-0-0  6.682900e-04 6.995885e-04 120  0.9552616 3.413659e-01\n",
       "NtypeN-SCU   -4.075112e-04 6.884892e-04 120 -0.5918920 5.550364e-01"
      ]
     },
     "metadata": {},
     "output_type": "display_data"
    }
   ],
   "source": [
    "summary(lme_TBI)$tTable"
   ]
  },
  {
   "cell_type": "markdown",
   "metadata": {},
   "source": [
    "> SÉP. Explique ce que tu fais ici aussi."
   ]
  },
  {
   "cell_type": "code",
   "execution_count": 39,
   "metadata": {},
   "outputs": [],
   "source": [
    "pred_grid_tbi <- expand.grid(Ndose = c(0, 60),\n",
    "                             Ntype = unique(df_mm$Ntype))\n",
    "pred_grid_tbi <- pred_grid_tbi %>%\n",
    "  mutate(k_tbi = predict(lme_TBI, newdata = pred_grid_tbi,\n",
    "                              level = 0)) %>%\n",
    "  rename(`Nitrogen dose` = Ndose,\n",
    "         `Nitrogen type` = Ntype)"
   ]
  },
  {
   "cell_type": "markdown",
   "metadata": {},
   "source": [
    "### 9.3.2 Effect of N dosage on k_tbi."
   ]
  },
  {
   "cell_type": "markdown",
   "metadata": {},
   "source": [
    "> SÉP. Explique ces étapes. Tu crées un graphique, pourquoi, avec quelles variables, dans quel contexte?"
   ]
  },
  {
   "cell_type": "code",
   "execution_count": 40,
   "metadata": {},
   "outputs": [
    {
     "data": {
      "image/png": "[encoded data removed]",
      "text/plain": [
       "plot without title"
      ]
     },
     "metadata": {},
     "output_type": "display_data"
    }
   ],
   "source": [
    "options(repr.plot.width=10, repr.plot.height=10)\n",
    "\n",
    "TBI_rooibos %>% \n",
    "  rename(`Nitrogen dose` = Ndose,\n",
    "         `Nitrogen type` = Ntype) %>%\n",
    "  ggplot(aes(x = `Nitrogen dose`, y = k_tbi)) +\n",
    "  facet_grid(`Nitrogen type` ~ .) +\n",
    "  geom_point() +\n",
    "  geom_line(data = pred_grid_tbi) +\n",
    "  labs(x = expression(\"Dose N (kg ha\"^\"-1\"~\")\"), y = \"Tea bag index kinetics\") +\n",
    "  theme_bw() +\n",
    "  theme(text = element_text(size = 20),\n",
    "        strip.text.y = element_text(angle=0)) +\n",
    "  ggsave(\"figures/tbi-model-lines.png\", width = 10, height = 6, dpi = 600)"
   ]
  },
  {
   "cell_type": "markdown",
   "metadata": {},
   "source": [
    "> SÉP. Expliquer le résultat. Par exemple, \"the kinetics components of the tea bag index is plotted against nitrogen doses across dose types. The model follows the data, and show unimportant influence of dosage and similar intercepts to N-21-0-0, excepting N-6-1-1 having a higher base kinetics.\" Il faut t'assurer que ce que tu dis ici concorde avec ce qui est dit dans l'article."
   ]
  },
  {
   "cell_type": "markdown",
   "metadata": {},
   "source": [
    "### 9.3.3 Mixed model graphic"
   ]
  },
  {
   "cell_type": "markdown",
   "metadata": {},
   "source": [
    "> SÉP. Expliques ce que tu fais."
   ]
  },
  {
   "cell_type": "code",
   "execution_count": 41,
   "metadata": {},
   "outputs": [],
   "source": [
    "ktbi_gg <- data.frame(intervals(lme_TBI, which = \"fixed\")$fixed)\n",
    "ktbi_gg <- ktbi_gg %>%\n",
    "  mutate(variable = rownames(ktbi_gg))\n",
    "ktbi_gg <- ktbi_gg %>%\n",
    "  mutate(pvalue = summary(lme_TBI)$tTable[, 5],\n",
    "         is_significant = ifelse(pvalue <= 0.05, 'Significant at 0.05 level', 'Not significant at 0.05 level'))"
   ]
  },
  {
   "cell_type": "markdown",
   "metadata": {},
   "source": [
    "Ajust names."
   ]
  },
  {
   "cell_type": "code",
   "execution_count": 42,
   "metadata": {},
   "outputs": [],
   "source": [
    "ktbi_gg$variable <- c(\"Intercept\", \"Dose N\", \"N 6-1-1\", \"N 8-0-0\", \"N SCU-39-0-0\")"
   ]
  },
  {
   "cell_type": "markdown",
   "metadata": {},
   "source": [
    "Add random effects to the table."
   ]
  },
  {
   "cell_type": "code",
   "execution_count": 43,
   "metadata": {},
   "outputs": [],
   "source": [
    "ktbi_re <- data.frame(matrix(ncol = ncol(ktbi_gg), nrow = 6))\n",
    "names(ktbi_re) <- names(ktbi_gg)\n",
    "ktbi_re$est. <- c(ranef(lme_TBI)$Farm[, 1], ranef(lme_TBI)$Site[, 1])\n",
    "ktbi_re$variable <- c(rownames(ranef(lme_TBI)$Farm),\n",
    "                    rownames(ranef(lme_TBI)$Site))"
   ]
  },
  {
   "cell_type": "markdown",
   "metadata": {},
   "source": [
    "> SÉP. Expliques ce que tu fais."
   ]
  },
  {
   "cell_type": "code",
   "execution_count": 44,
   "metadata": {},
   "outputs": [],
   "source": [
    "if (!(\"Belanger\" %in% ktbi_gg$variable)) ktbi_gg <- bind_rows(ktbi_gg, ktbi_re) # with an if to make sure ranefs are stacked only once"
   ]
  },
  {
   "cell_type": "markdown",
   "metadata": {},
   "source": [
    "Create a facet column to separate effects by effect category in the plot."
   ]
  },
  {
   "cell_type": "code",
   "execution_count": 45,
   "metadata": {},
   "outputs": [],
   "source": [
    "ktbi_gg$facet <- factor(c('Intercept',\n",
    "                        \"N dosage\",\n",
    "                        'N source', 'N source', 'N source',\n",
    "                        \"Random effect\", \"Random effect\", \"Random effect\", \"Random effect\", \"Random effect\", \"Random effect\"))\n",
    "\n",
    "ktbi_gg <- ktbi_gg %>%\n",
    "  mutate(facet = factor(facet, levels = rev(c(\"Random effect\", \"N dosage\", \"N source\", \"Intercept\")))) # reorder facets for ploting"
   ]
  },
  {
   "cell_type": "markdown",
   "metadata": {},
   "source": [
    "Fire the plot!"
   ]
  },
  {
   "cell_type": "code",
   "execution_count": 46,
   "metadata": {},
   "outputs": [
    {
     "name": "stderr",
     "output_type": "stream",
     "text": [
      "Warning message:\n",
      "\"Removed 6 rows containing missing values (geom_segment).\"Warning message:\n",
      "\"Removed 6 rows containing missing values (geom_segment).\""
     ]
    },
    {
     "data": {
      "image/png": "[encoded data removed]",
      "text/plain": [
       "plot without title"
      ]
     },
     "metadata": {},
     "output_type": "display_data"
    }
   ],
   "source": [
    "options(repr.plot.width = 12, repr.plot.height = 6)\n",
    "\n",
    "ktbi_gg %>%\n",
    "  filter(variable != \"Intercept\") %>%\n",
    "  ggplot(aes(x = est., y = variable)) +\n",
    "  facet_grid(facet ~ ., scales = 'free', space = 'free') +\n",
    "  geom_vline(xintercept = 0, colour='grey70') +\n",
    "  geom_point() +\n",
    "  geom_segment(aes(x = lower, xend = upper, y = variable, yend = variable)) +\n",
    "  xlab('Coefficient') +\n",
    "  ylab('') +\n",
    "  theme_bw() +\n",
    "  theme(strip.text.y = element_text(angle=0),\n",
    "        legend.title = element_blank(),\n",
    "        legend.position = \"bottom\",\n",
    "        text = element_text(size = 20)) +\n",
    "  ggsave(\"figures/ktbi-lme-effects.png\", width = 8, height = 5, dpi = 600)"
   ]
  },
  {
   "cell_type": "markdown",
   "metadata": {},
   "source": [
    "## 10. Litters biochemical composition balance"
   ]
  },
  {
   "cell_type": "markdown",
   "metadata": {},
   "source": [
    "> SÉP. Expliques ce à quoi cette section est vouée."
   ]
  },
  {
   "cell_type": "markdown",
   "metadata": {},
   "source": [
    "### 10.1 Import data"
   ]
  },
  {
   "cell_type": "markdown",
   "metadata": {},
   "source": [
    "> SÉP. Quelques mots sur les données que tu importes. Quelles sont-elles?"
   ]
  },
  {
   "cell_type": "code",
   "execution_count": 47,
   "metadata": {},
   "outputs": [
    {
     "name": "stderr",
     "output_type": "stream",
     "text": [
      "Parsed with column specification:\n",
      "cols(\n",
      "  `Biomass type` = col_character(),\n",
      "  `SOL perc initial (%)` = col_double(),\n",
      "  `HOLO perc initial (%)` = col_double(),\n",
      "  `LIC perc initial (%)` = col_double()\n",
      ")\n"
     ]
    }
   ],
   "source": [
    "data_fiber <- read_csv('data/data_fiber_initial.csv')"
   ]
  },
  {
   "cell_type": "markdown",
   "metadata": {},
   "source": [
    "### 10.2 Isometic log ratio (Ilr)"
   ]
  },
  {
   "cell_type": "markdown",
   "metadata": {},
   "source": [
    "> SÉP. Expliques ce que tu fais!"
   ]
  },
  {
   "cell_type": "markdown",
   "metadata": {},
   "source": [
    "I isolate the parts of the compostion in table then, with `acomp`, make sure that all rows are summing to 1."
   ]
  },
  {
   "cell_type": "code",
   "execution_count": 48,
   "metadata": {},
   "outputs": [],
   "source": [
    "TeaCompositionComp <- acomp(\n",
    "    data_fiber %>%\n",
    "      select(`LIC perc initial (%)`, `SOL perc initial (%)`,  `HOLO perc initial (%)`)\n",
    ")"
   ]
  },
  {
   "cell_type": "markdown",
   "metadata": {},
   "source": [
    "I create a sewuential binary partition that serves as a basis for the balance system ."
   ]
  },
  {
   "cell_type": "code",
   "execution_count": 49,
   "metadata": {},
   "outputs": [],
   "source": [
    "TeaCompositionSBP <- matrix(c(-1, 1, 1,\n",
    "                               0, 1,-1),\n",
    "                            byrow = TRUE,\n",
    "                            ncol = 3)\n",
    "colnames(TeaCompositionSBP) <- c('Lignine', 'Soluble', 'Holocelulose')"
   ]
  },
  {
   "cell_type": "markdown",
   "metadata": {},
   "source": [
    "The 3 components are transformed to 2 balances based on the SBP."
   ]
  },
  {
   "cell_type": "code",
   "execution_count": 50,
   "metadata": {},
   "outputs": [],
   "source": [
    "TeaCompositionBal <- ilr(TeaCompositionComp, V = gsi.buildilrBase(t(TeaCompositionSBP)))"
   ]
  },
  {
   "cell_type": "markdown",
   "metadata": {},
   "source": [
    "These balances are added to the `data_fiber` table."
   ]
  },
  {
   "cell_type": "code",
   "execution_count": 51,
   "metadata": {},
   "outputs": [],
   "source": [
    "data_fiber$TeaComposition_L.HS <- TeaCompositionBal[, 1] # ilr1 [Lignin | Soluble.Holocelulose]\n",
    "data_fiber$TeaComposition_S.H <- TeaCompositionBal[, 2] # ilr2 [Soluble | Holocelulose]"
   ]
  },
  {
   "cell_type": "markdown",
   "metadata": {},
   "source": [
    "### Plot of classification of litters using balances among biochemical components"
   ]
  },
  {
   "cell_type": "markdown",
   "metadata": {},
   "source": [
    "> SÉP. Expliques ce que tu fais!"
   ]
  },
  {
   "cell_type": "code",
   "execution_count": 52,
   "metadata": {},
   "outputs": [
    {
     "name": "stderr",
     "output_type": "stream",
     "text": [
      "Scale for 'x' is already present. Adding another scale for 'x', which will\n",
      "replace the existing scale.\n"
     ]
    },
    {
     "data": {
      "image/png": "[encoded data removed]",
      "text/plain": [
       "plot without title"
      ]
     },
     "metadata": {},
     "output_type": "display_data"
    }
   ],
   "source": [
    "options(repr.plot.width = 6.5, repr.plot.height = 4)\n",
    "ggplot(data_fiber, aes(x =  `TeaComposition_S.H`, y = `TeaComposition_L.HS`)) +\n",
    "geom_point()+\n",
    "geom_label_repel(aes(label = `Biomass type`), size = 3) +\n",
    "labs(x = \"[Soluble | Holocelulose]\" , y = \"[Lignin + Cutin | Soluble.Holocelulose]\") +\n",
    "theme(axis.title.x = element_text(size = 14), axis.title.y = element_text(size = 14)) +\n",
    "xlim(-1.5, 1.5) +\n",
    "scale_y_continuous(breaks=seq(-2,2,0.2)) + \n",
    "scale_x_continuous(breaks=seq(-2,2,0.2)) +\n",
    "geom_hline(yintercept = 0, linetype = \"dashed\") +\n",
    "geom_vline(xintercept = 0, linetype = \"dashed\") +\n",
    "theme_bw() +\n",
    "geom_point(size = 1, alpha = 0.5, pch = 21, fill = \"white\") \n",
    "ggsave(\"figures/Classification of litters using balances among biochemical components.png\", width = 6.2, height = 4, dpi = 120)"
   ]
  },
  {
   "cell_type": "markdown",
   "metadata": {},
   "source": [
    "## 11. **Question 3**: Where cranberry soils are placed among the axes of the *TBI*?"
   ]
  },
  {
   "cell_type": "markdown",
   "metadata": {},
   "source": [
    "> SÉP. Expliques ce que tu fais!"
   ]
  },
  {
   "cell_type": "markdown",
   "metadata": {},
   "source": [
    "### 11.1 Import data\n",
    "\n",
    "We adapted keuskamp's TBI by adding cranberry ecosystem"
   ]
  },
  {
   "cell_type": "code",
   "execution_count": 53,
   "metadata": {},
   "outputs": [
    {
     "name": "stderr",
     "output_type": "stream",
     "text": [
      "Parsed with column specification:\n",
      "cols(\n",
      "  Nombre = col_double(),\n",
      "  Region = col_character(),\n",
      "  Stabilisation_factor_S = col_double(),\n",
      "  Decomposition_rate_K = col_double()\n",
      ")\n"
     ]
    }
   ],
   "source": [
    "df_keuskamp <- read_csv(\"data/keuskamp_tbi_data.csv\")# Import Keuskamp data"
   ]
  },
  {
   "cell_type": "code",
   "execution_count": 54,
   "metadata": {},
   "outputs": [],
   "source": [
    "df_keuskamp <- df_keuskamp %>%\n",
    "  mutate(is_cranberry = Region == \"Cranberries\")"
   ]
  },
  {
   "cell_type": "markdown",
   "metadata": {},
   "source": [
    "### 11.2 Figure TBI_ Keuskamp"
   ]
  },
  {
   "cell_type": "markdown",
   "metadata": {},
   "source": [
    "> SÉP. Expliques ce que tu fais!"
   ]
  },
  {
   "cell_type": "code",
   "execution_count": 55,
   "metadata": {},
   "outputs": [
    {
     "data": {
      "image/png": "[encoded data removed]",
      "text/plain": [
       "plot without title"
      ]
     },
     "metadata": {},
     "output_type": "display_data"
    }
   ],
   "source": [
    "options(repr.plot.width = 6.5, repr.plot.height = 6)\n",
    "ggplot(data = df_keuskamp, aes(x = Stabilisation_factor_S, y = Decomposition_rate_K)) +\n",
    "  geom_point() +\n",
    "  geom_label_repel(aes(label = Region, fill = is_cranberry, colour = is_cranberry),\n",
    "                   size = 3.5) +\n",
    "  scale_fill_manual(values = c(\"white\", \"black\")) +\n",
    "  scale_colour_manual(values = c(\"black\", \"white\")) +\n",
    "  theme_bw() +\n",
    "  theme(legend.position = \"none\") +\n",
    "  labs(x = \"Stabilization factor (S)\", y = \"Decomposition rate (k1)\") +\n",
    "  ggsave(\"figures/TBI_keuskamp.png\", width = 6, height = 6, dpi = 120)"
   ]
  },
  {
   "cell_type": "markdown",
   "metadata": {},
   "source": [
    "### 12. **Question 4**:What is the fractal kinetics of litter matterials ?\n",
    "\n",
    "Depending on the nature of decaying material and its immediate environment, the decomposition rate of plant residues can decrease gradually through time as follow: \n",
    "$$K(t) = k_1 t^{{-h}}$$\n",
    "\n",
    "Where $k_1$ is reaction rate at time t = 1 and $h$ is a fractal coefficient (0 ≤ h ≤ 1) accounting for the decreasing decomposition rate through time"
   ]
  },
  {
   "cell_type": "markdown",
   "metadata": {},
   "source": [
    "### 12.1 Import data"
   ]
  },
  {
   "cell_type": "markdown",
   "metadata": {},
   "source": [
    "> SÉP. Expliques ce que tu fais!"
   ]
  },
  {
   "cell_type": "code",
   "execution_count": 56,
   "metadata": {},
   "outputs": [
    {
     "name": "stderr",
     "output_type": "stream",
     "text": [
      "Using ',' as decimal and '.' as grouping mark. Use read_delim() for more control.\n",
      "Parsed with column specification:\n",
      "cols(\n",
      "  `Tea type` = col_character(),\n",
      "  Prelevement = col_double(),\n",
      "  `Final carbon (%)` = col_double(),\n",
      "  `Final weight (g)` = col_double(),\n",
      "  `Initial weight (g)` = col_double(),\n",
      "  `Initial carbon (%)` = col_double()\n",
      ")\n"
     ]
    }
   ],
   "source": [
    "data_fractal <- read_csv2(\"data/data_fractal.csv\")"
   ]
  },
  {
   "cell_type": "markdown",
   "metadata": {},
   "source": [
    "### 12.2 Adding some variables\n",
    "`Initial carbon (g)`, `Final carbon (g)` and `Log ratio` has been computed "
   ]
  },
  {
   "cell_type": "markdown",
   "metadata": {},
   "source": [
    "### 12.2.1 First order kinetics "
   ]
  },
  {
   "cell_type": "markdown",
   "metadata": {},
   "source": [
    "> SÉP. Expliques ce que tu fais!"
   ]
  },
  {
   "cell_type": "code",
   "execution_count": 57,
   "metadata": {},
   "outputs": [],
   "source": [
    "data_fractal <- data_fractal %>%\n",
    "  mutate(`First Order Kinetiks` = (- log(`Final weight (g)`/`Initial weight (g)`))/ (`Prelevement` * 21))\n",
    "data_fractal  <- subset(data_fractal, `First Order Kinetiks` > 0)"
   ]
  },
  {
   "cell_type": "code",
   "execution_count": 58,
   "metadata": {},
   "outputs": [],
   "source": [
    "data_fractal <- data_fractal %>%\n",
    "  mutate(`Initial carbon (g)` = `Initial weight (g)` * `Initial carbon (%)` / 100,\n",
    "         `Final carbon (g)` = `Final weight (g)` * `Final carbon (%)` / 100,\n",
    "        `Log ratio` = - log(`Final carbon (g)`/`Initial carbon (g)`))"
   ]
  },
  {
   "cell_type": "markdown",
   "metadata": {},
   "source": [
    "### 12.2.2 Mean an standard deviation of first order kinetics"
   ]
  },
  {
   "cell_type": "code",
   "execution_count": 59,
   "metadata": {},
   "outputs": [
    {
     "data": {
      "text/html": [
       "<table>\n",
       "<thead><tr><th scope=col>Tea type</th><th scope=col>First Order Kinetiks</th></tr></thead>\n",
       "<tbody>\n",
       "\t<tr><td>Cranberry litter</td><td>0.0008353905    </td></tr>\n",
       "\t<tr><td>Green tea       </td><td>0.0114839423    </td></tr>\n",
       "\t<tr><td>Rooibos tea     </td><td>0.0039776542    </td></tr>\n",
       "</tbody>\n",
       "</table>\n"
      ],
      "text/latex": [
       "\\begin{tabular}{r|ll}\n",
       " Tea type & First Order Kinetiks\\\\\n",
       "\\hline\n",
       "\t Cranberry litter & 0.0008353905    \\\\\n",
       "\t Green tea        & 0.0114839423    \\\\\n",
       "\t Rooibos tea      & 0.0039776542    \\\\\n",
       "\\end{tabular}\n"
      ],
      "text/markdown": [
       "\n",
       "| Tea type | First Order Kinetiks |\n",
       "|---|---|\n",
       "| Cranberry litter | 0.0008353905     |\n",
       "| Green tea        | 0.0114839423     |\n",
       "| Rooibos tea      | 0.0039776542     |\n",
       "\n"
      ],
      "text/plain": [
       "  Tea type         First Order Kinetiks\n",
       "1 Cranberry litter 0.0008353905        \n",
       "2 Green tea        0.0114839423        \n",
       "3 Rooibos tea      0.0039776542        "
      ]
     },
     "metadata": {},
     "output_type": "display_data"
    },
    {
     "data": {
      "text/html": [
       "<table>\n",
       "<thead><tr><th scope=col>Tea type</th><th scope=col>First Order Kinetiks</th></tr></thead>\n",
       "<tbody>\n",
       "\t<tr><td>Cranberry litter</td><td>0.0009684872    </td></tr>\n",
       "\t<tr><td>Green tea       </td><td>0.0055935476    </td></tr>\n",
       "\t<tr><td>Rooibos tea     </td><td>0.0014494302    </td></tr>\n",
       "</tbody>\n",
       "</table>\n"
      ],
      "text/latex": [
       "\\begin{tabular}{r|ll}\n",
       " Tea type & First Order Kinetiks\\\\\n",
       "\\hline\n",
       "\t Cranberry litter & 0.0009684872    \\\\\n",
       "\t Green tea        & 0.0055935476    \\\\\n",
       "\t Rooibos tea      & 0.0014494302    \\\\\n",
       "\\end{tabular}\n"
      ],
      "text/markdown": [
       "\n",
       "| Tea type | First Order Kinetiks |\n",
       "|---|---|\n",
       "| Cranberry litter | 0.0009684872     |\n",
       "| Green tea        | 0.0055935476     |\n",
       "| Rooibos tea      | 0.0014494302     |\n",
       "\n"
      ],
      "text/plain": [
       "  Tea type         First Order Kinetiks\n",
       "1 Cranberry litter 0.0009684872        \n",
       "2 Green tea        0.0055935476        \n",
       "3 Rooibos tea      0.0014494302        "
      ]
     },
     "metadata": {},
     "output_type": "display_data"
    }
   ],
   "source": [
    "data_mean_rooibos <- aggregate(`First Order Kinetiks` ~ `Tea type`, data = data_fractal, FUN = mean)\n",
    "data_mean_rooibos\n",
    "data_sd_rooibos <- aggregate(`First Order Kinetiks` ~ `Tea type`, data = data_fractal, FUN = sd)\n",
    "data_sd_rooibos"
   ]
  },
  {
   "cell_type": "markdown",
   "metadata": {},
   "source": [
    "### 12.3 Fractal kinetics computation"
   ]
  },
  {
   "cell_type": "markdown",
   "metadata": {},
   "source": [
    "> SÉP. Expliques ce que tu fais!"
   ]
  },
  {
   "cell_type": "markdown",
   "metadata": {},
   "source": [
    "### Fractal kinetic ranged from 0 to 1. It's has been determined by trying value from `(0; 0.1; 0.2 ....1)` and choosing the one with maximum R square"
   ]
  },
  {
   "cell_type": "markdown",
   "metadata": {},
   "source": [
    "> SÉP. Le commentaire ci-dessus est en titre 3. Si tu veux le mettres en gras, c'est `**ceci est en gras**`."
   ]
  },
  {
   "cell_type": "markdown",
   "metadata": {},
   "source": [
    "> SÉP. Cette section est toute croche. Tu peux créer une boucle, comme ceci."
   ]
  },
  {
   "cell_type": "code",
   "execution_count": 60,
   "metadata": {},
   "outputs": [],
   "source": [
    "fractal_kinetics <- tibble(\n",
    "    tea_types = c(\"Rooibos tea\", \"Cranberry litter\", \"Green tea\"),\n",
    "    H_ = c(0.2, 0, 0.7),\n",
    "    intercept = NA,\n",
    "    slope = NA,\n",
    "    r_sq = NA\n",
    ")"
   ]
  },
  {
   "cell_type": "code",
   "execution_count": 61,
   "metadata": {},
   "outputs": [
    {
     "name": "stderr",
     "output_type": "stream",
     "text": [
      "Warning message in bind_rows_(x, .id):\n",
      "\"binding character and factor vector, coercing into character vector\"Warning message in bind_rows_(x, .id):\n",
      "\"binding character and factor vector, coercing into character vector\"Warning message in bind_rows_(x, .id):\n",
      "\"binding character and factor vector, coercing into character vector\""
     ]
    }
   ],
   "source": [
    "for (i in 1:nrow(fractal_kinetics)) {\n",
    "    P_ <- 1 - fractal_kinetics$H_[i]\n",
    "    data_tea <- data_fractal %>%\n",
    "      filter(`Tea type` == fractal_kinetics$tea_types[i]) %>%\n",
    "      mutate(Time = (Prelevement * 21) ** P_)%>%\n",
    "      select(Prelevement, Time, `Log ratio`, `Tea type`)%>%\n",
    "      rename(Log = `Log ratio`,\n",
    "             Tea.type = `Tea type`) %>%\n",
    "      bind_rows(data.frame(\"Log\" = 0, \"Time\" = 0, \"Prelevement\" = 0, \"Tea.type\" = fractal_kinetics$tea_types[i])) %>%\n",
    "      group_by(Prelevement, Tea.type) %>%\n",
    "      summarise(Time = median(Time), Log = median(Log), .groups = \"keep\")\n",
    "    lm_logtime <- lm(Log ~ Time, data_tea)\n",
    "    fractal_kinetics$intercept[i] <- coef(lm_logtime)[1]\n",
    "    fractal_kinetics$slope[i] <- coef(lm_logtime)[2]\n",
    "    fractal_kinetics$r_sq[i] <- summary(lm_logtime)$r.squared\n",
    "}"
   ]
  },
  {
   "cell_type": "code",
   "execution_count": 62,
   "metadata": {},
   "outputs": [
    {
     "data": {
      "text/html": [
       "<table>\n",
       "<thead><tr><th scope=col>tea_types</th><th scope=col>H_</th><th scope=col>intercept</th><th scope=col>slope</th><th scope=col>r_sq</th></tr></thead>\n",
       "<tbody>\n",
       "\t<tr><td>Rooibos tea     </td><td>0.2             </td><td>-0.02102096     </td><td>0.007341073     </td><td>0.9436430       </td></tr>\n",
       "\t<tr><td>Cranberry litter</td><td>0.0             </td><td>-0.02836085     </td><td>0.001351734     </td><td>0.8359335       </td></tr>\n",
       "\t<tr><td>Green tea       </td><td>0.7             </td><td>-0.01336714     </td><td>0.191079824     </td><td>0.9796549       </td></tr>\n",
       "</tbody>\n",
       "</table>\n"
      ],
      "text/latex": [
       "\\begin{tabular}{r|lllll}\n",
       " tea\\_types & H\\_ & intercept & slope & r\\_sq\\\\\n",
       "\\hline\n",
       "\t Rooibos tea      & 0.2              & -0.02102096      & 0.007341073      & 0.9436430       \\\\\n",
       "\t Cranberry litter & 0.0              & -0.02836085      & 0.001351734      & 0.8359335       \\\\\n",
       "\t Green tea        & 0.7              & -0.01336714      & 0.191079824      & 0.9796549       \\\\\n",
       "\\end{tabular}\n"
      ],
      "text/markdown": [
       "\n",
       "| tea_types | H_ | intercept | slope | r_sq |\n",
       "|---|---|---|---|---|\n",
       "| Rooibos tea      | 0.2              | -0.02102096      | 0.007341073      | 0.9436430        |\n",
       "| Cranberry litter | 0.0              | -0.02836085      | 0.001351734      | 0.8359335        |\n",
       "| Green tea        | 0.7              | -0.01336714      | 0.191079824      | 0.9796549        |\n",
       "\n"
      ],
      "text/plain": [
       "  tea_types        H_  intercept   slope       r_sq     \n",
       "1 Rooibos tea      0.2 -0.02102096 0.007341073 0.9436430\n",
       "2 Cranberry litter 0.0 -0.02836085 0.001351734 0.8359335\n",
       "3 Green tea        0.7 -0.01336714 0.191079824 0.9796549"
      ]
     },
     "metadata": {},
     "output_type": "display_data"
    }
   ],
   "source": [
    "fractal_kinetics"
   ]
  },
  {
   "cell_type": "markdown",
   "metadata": {},
   "source": [
    "## 12.3.4 Estimation of the carbon decreasing rate of teas and cranberry residue"
   ]
  },
  {
   "cell_type": "markdown",
   "metadata": {},
   "source": [
    "### Reaction rate $k_1$ at time t = 1\n",
    "$k_1$ is the slope of the regresssion lines"
   ]
  },
  {
   "cell_type": "markdown",
   "metadata": {},
   "source": [
    "> SÉP. Si ce sont des résultats des calculs précédents, il faut lier vers les variables."
   ]
  },
  {
   "cell_type": "code",
   "execution_count": 135,
   "metadata": {},
   "outputs": [],
   "source": [
    "K1_rooibos <- fractal_kinetics %>%\n",
    "  filter(tea_types == \"Rooibos tea\") %>%\n",
    "  pull(slope)\n",
    "\n",
    "K1_green <- fractal_kinetics %>%\n",
    "  filter(tea_types == \"Green tea\") %>%\n",
    "  pull(slope)\n",
    "\n",
    "K1_cranberry <- fractal_kinetics %>%\n",
    "  filter(tea_types == \"Cranberry litter\") %>%\n",
    "  pull(slope)\n",
    "\n",
    "H_rooibos <- fractal_kinetics %>%\n",
    "  filter(tea_types == \"Rooibos tea\") %>%\n",
    "  pull(H_)\n",
    "\n",
    "H_green <- fractal_kinetics %>%\n",
    "  filter(tea_types == \"Green tea\") %>%\n",
    "  pull(H_)\n",
    "\n",
    "H_cranberry <- fractal_kinetics %>%\n",
    "  filter(tea_types == \"Cranberry litter\") %>%\n",
    "  pull(H_)"
   ]
  },
  {
   "cell_type": "markdown",
   "metadata": {},
   "source": [
    "### Litter decomposition rate K depends on time\n",
    "$$K(t) = k_1 t^{{-h}}$$"
   ]
  },
  {
   "cell_type": "markdown",
   "metadata": {},
   "source": [
    "> SÉP. Expliques ce que tu fais!"
   ]
  },
  {
   "cell_type": "markdown",
   "metadata": {},
   "source": [
    "### Computing and renaming somes variables"
   ]
  },
  {
   "cell_type": "markdown",
   "metadata": {},
   "source": [
    "> SÉP. Expliques ce que tu fais! Si cest juste une étape de calcul, pas besoin d'en faire une section avec un titre (`###`)."
   ]
  },
  {
   "cell_type": "code",
   "execution_count": 114,
   "metadata": {},
   "outputs": [],
   "source": [
    "data_rate <- data.frame(Prelevement = 1:7) %>%\n",
    "                            mutate(`Time (days)` = Prelevement * 21,\n",
    "                                  `Rate cranberry` = K1_cranberry *  `Time (days)`**-H_cranberry,\n",
    "                                  `Rate rooibos` = K1_rooibos * `Time (days)`**-H_rooibos,\n",
    "                                  `Rate green` = K1_green * `Time (days)`**-H_green) %>%\n",
    "                            rename(`Cranberry litter` = `Rate cranberry`,\n",
    "                                  `Rooibos tea` = `Rate rooibos`,\n",
    "                                   `Green tea` = `Rate green`)"
   ]
  },
  {
   "cell_type": "markdown",
   "metadata": {},
   "source": [
    "### Tranforming data_rate into long format data in order to generate the plot"
   ]
  },
  {
   "cell_type": "code",
   "execution_count": 115,
   "metadata": {},
   "outputs": [],
   "source": [
    "data_long <- gather(data = data_rate, key = `tea type`, value = Rate, c(`Cranberry litter`, `Rooibos tea`, `Green tea`),\n",
    "                    factor_key=TRUE)\n",
    "data_long <- data_long %>%\n",
    "             rename(`Litter type`= `tea type`)"
   ]
  },
  {
   "cell_type": "markdown",
   "metadata": {},
   "source": [
    "### Plot of litter decomposition rate over time under field conditions"
   ]
  },
  {
   "cell_type": "code",
   "execution_count": 116,
   "metadata": {},
   "outputs": [
    {
     "name": "stderr",
     "output_type": "stream",
     "text": [
      "Warning message:\n",
      "“`expand_scale()` is deprecated; use `expansion()` instead.”\n",
      "Warning message:\n",
      "“`expand_scale()` is deprecated; use `expansion()` instead.”\n"
     ]
    },
    {
     "data": {
      "image/png": "[encoded data removed]",
      "text/plain": [
       "plot without title"
      ]
     },
     "metadata": {
      "image/png": {
       "height": 360,
       "width": 600
      }
     },
     "output_type": "display_data"
    }
   ],
   "source": [
    "options(repr.plot.width = 10, repr.plot.height = 6)\n",
    "ggplot(data_long, aes(x = `Time (days)`, y = `Rate`, group = `Litter type`, color = `Litter type`)) +\n",
    "geom_line() +\n",
    "geom_point(aes(shape = `Litter type`), size = 2)+\n",
    "#geom_smooth(method = \"lm\", formula = y ~ poly(x, 6) , color = 'grey', se = FALSE) + \n",
    "labs(x = \"Elapsed time (days)\" , y = expression(\"Decomposition rate (d\"^\" -1\"~\")\"))  +\n",
    "theme(axis.title.x = element_text(size = 14), \n",
    "  axis.title.y = element_text(size = 14),\n",
    "     legend.text=element_text(size=14)) +\n",
    "scale_y_continuous(breaks = 0.002*0:1000,\n",
    "                     expand = expand_scale(add = 0.002)) +\n",
    "scale_x_continuous(breaks = 10*0:1000,\n",
    "                     expand = expand_scale(add = 10)) +\n",
    "theme_bw() +\n",
    "ggsave(\"figures/K(t).png\", width = 6, height = 4, dpi = 120)"
   ]
  },
  {
   "cell_type": "markdown",
   "metadata": {},
   "source": [
    "## 13. **Question 4**: What is the fractal kinetics of litter biochemical composition ?"
   ]
  },
  {
   "cell_type": "markdown",
   "metadata": {},
   "source": [
    "### 13.1 Biochemical composition data analysis \n",
    "Here, we load `data.csv`, `data_fiber_initial.csv` and `data_fiber.csv`available for the project in the `data` folder. The `data_2018.csv` contained incubation tea bag details and soil carateristics from the second essay in 2018; `data_fiber_initial.csv` contained only initial tea bag caracteristics and `data_fiber.csv` contained mostly tea bag biochemical details as soluble, holocellulose and lignin content. \n",
    "We wanted to use only data about `green tea`, `rooibos tea` and `cranberry residu`. In order to do that, we used `subset` function to get `data_subset`"
   ]
  },
  {
   "cell_type": "code",
   "execution_count": 117,
   "metadata": {},
   "outputs": [
    {
     "name": "stderr",
     "output_type": "stream",
     "text": [
      "Parsed with column specification:\n",
      "cols(\n",
      "  `Iden fiber` = \u001b[31mcol_character()\u001b[39m,\n",
      "  `SOL perc ILR (%)` = \u001b[32mcol_double()\u001b[39m,\n",
      "  `HOLO perc ILR (%)` = \u001b[32mcol_double()\u001b[39m,\n",
      "  `LIC perc ILR (%)` = \u001b[32mcol_double()\u001b[39m\n",
      ")\n",
      "\n",
      "Parsed with column specification:\n",
      "cols(\n",
      "  `Biomass type` = \u001b[31mcol_character()\u001b[39m,\n",
      "  `SOL perc initial (%)` = \u001b[32mcol_double()\u001b[39m,\n",
      "  `HOLO perc initial (%)` = \u001b[32mcol_double()\u001b[39m,\n",
      "  `LIC perc initial (%)` = \u001b[32mcol_double()\u001b[39m\n",
      ")\n",
      "\n"
     ]
    }
   ],
   "source": [
    "data <- read_csv('data/data_2018.csv', col_types = \"??????????????f????????????????????\")\n",
    "data_fiber <- read_csv('data/data_fiber.csv')\n",
    "data_fiber_initial <- read_csv('data/data_fiber_initial.csv')\n",
    "\n",
    "data_subset <- subset(data,  (`Sampling period (3 weeks)`> 0 & (`Biomass type`== \"Cranberry residu\" | \n",
    "`Biomass type` == \"Green tea\"| `Biomass type` == \"Rooibos tea\")))"
   ]
  },
  {
   "cell_type": "markdown",
   "metadata": {},
   "source": [
    "Join all 3 data with with `left_join` function. The obtained data is called `data_join_02`"
   ]
  },
  {
   "cell_type": "code",
   "execution_count": 118,
   "metadata": {},
   "outputs": [],
   "source": [
    "data_join <- data_subset %>%\n",
    "  left_join(data_fiber, by = 'Iden fiber')\n",
    "\n",
    "data_join_02 <- data_join %>%\n",
    "  left_join(data_fiber_initial, by = 'Biomass type')"
   ]
  },
  {
   "cell_type": "markdown",
   "metadata": {},
   "source": [
    "## 13.2 Some calculations \n",
    "### Initial and final content of carbon, soluble, holocellulose and lignin"
   ]
  },
  {
   "cell_type": "code",
   "execution_count": 119,
   "metadata": {},
   "outputs": [],
   "source": [
    "data_join_02 <- data_join_02 %>%\n",
    "mutate(`Initial SOL content (g)` = `SOL perc initial (%)` * `Sample initial weight (g)` / 100,\n",
    "       `Initial HOLO content (g)` = `HOLO perc initial (%)` * `Sample initial weight (g)` / 100,\n",
    "       `Initial LIC content (g)` = `LIC perc initial (%)` * `Sample initial weight (g)` / 100,\n",
    "       `Final SOL content (g)` = `SOL perc ILR (%)` * `Sample final weight (g)` / 100,\n",
    "       `Final LIC content (g)` = `LIC perc ILR (%)` * `Sample final weight (g)` / 100,\n",
    "       `Final HOLO content (g)` = `HOLO perc ILR (%)` * `Sample final weight (g)` / 100,\n",
    "       `Initial Hydrolyzable content (g)` = `Initial SOL content (g)` +  `Initial HOLO content (g)`,\n",
    "       `Final Hydrolyzable content (g)` = `Final SOL content (g)` + `Final HOLO content (g)`)"
   ]
  },
  {
   "cell_type": "markdown",
   "metadata": {},
   "source": [
    "### 13.2.1 First order kinetic\n",
    "Here,we compute decomposition rate of carbon, soluble, holocellulose and lignin using first order kinetic."
   ]
  },
  {
   "cell_type": "code",
   "execution_count": 120,
   "metadata": {},
   "outputs": [],
   "source": [
    "kinetics_1st <- function(rw, iw, t) { # first order kinetic function\n",
    "    -log(rw/iw)/t\n",
    "}"
   ]
  },
  {
   "cell_type": "code",
   "execution_count": 121,
   "metadata": {},
   "outputs": [],
   "source": [
    "data_join_02 <- data_join_02 %>%\n",
    "mutate(`rate SOL` = kinetics_1st(rw = `Final SOL content (g)`,\n",
    "                      iw = `Initial SOL content (g)`,\n",
    "                      t = `Sampling period (3 weeks)` * 21),\n",
    "       `rate HOLO` = kinetics_1st(rw = `Final HOLO content (g)`,\n",
    "                      iw = `Initial HOLO content (g)`,\n",
    "                      t = `Sampling period (3 weeks)` * 21),\n",
    "       `rate LIC` = kinetics_1st(rw = `Final LIC content (g)`,\n",
    "                      iw = `Initial LIC content (g)`,\n",
    "                      t = `Sampling period (3 weeks)` * 21),\n",
    "       `rate Hydrolyzable` = kinetics_1st(rw = `Final Hydrolyzable content (g)`,\n",
    "                      iw = `Initial Hydrolyzable content (g)`,\n",
    "                      t = `Sampling period (3 weeks)` * 21),\n",
    "      `Sampling period (days)` = `Sampling period (3 weeks)` * 21)"
   ]
  },
  {
   "cell_type": "markdown",
   "metadata": {},
   "source": [
    "### 13.2.2 Selection all variables we interested in data_join_02. Our final data is called `data_filtre`"
   ]
  },
  {
   "cell_type": "code",
   "execution_count": 122,
   "metadata": {},
   "outputs": [],
   "source": [
    "na.action = na.exclude\n",
    "data_filtre <- data_join_02 %>%\n",
    "select(`Iden fiber`, `Biomass type`,  `Sampling period (days)`, `Site`, `Producer`,`Repetition`,\n",
    " `Initial SOL content (g)`, `Initial HOLO content (g)`, `Initial LIC content (g)`, `Final SOL content (g)`,`Final HOLO content (g)`, `Final LIC content (g)`,\n",
    "       `Sample final weight (g)`, `Initial Hydrolyzable content (g)`, `Final Hydrolyzable content (g)`,\n",
    "       `rate SOL`, `rate HOLO`, `rate LIC`, `rate Hydrolyzable`) %>% \n",
    "rename(Lignin = `rate LIC`, \n",
    "       Holocelulose = `rate HOLO`, \n",
    "       Soluble = `rate SOL`,\n",
    "       Hydrolyzable = `rate Hydrolyzable`)"
   ]
  },
  {
   "cell_type": "markdown",
   "metadata": {},
   "source": [
    "## 13.3 Missing values visualization"
   ]
  },
  {
   "cell_type": "code",
   "execution_count": 123,
   "metadata": {},
   "outputs": [
    {
     "name": "stderr",
     "output_type": "stream",
     "text": [
      "Loading required package: colorspace\n",
      "\n",
      "Loading required package: grid\n",
      "\n",
      "VIM is ready to use.\n",
      "\n",
      "\n",
      "Suggestions and bug-reports can be submitted at: https://github.com/statistikat/VIM/issues\n",
      "\n",
      "\n",
      "Attaching package: ‘VIM’\n",
      "\n",
      "\n",
      "The following object is masked from ‘package:datasets’:\n",
      "\n",
      "    sleep\n",
      "\n",
      "\n"
     ]
    },
    {
     "data": {
      "image/png": "[encoded data removed]",
      "text/plain": [
       "plot without title"
      ]
     },
     "metadata": {
      "image/png": {
       "height": 360,
       "width": 600
      }
     },
     "output_type": "display_data"
    },
    {
     "data": {
      "image/png": "[encoded data removed]",
      "text/plain": [
       "plot without title"
      ]
     },
     "metadata": {
      "image/png": {
       "height": 360,
       "width": 600
      }
     },
     "output_type": "display_data"
    },
    {
     "data": {
      "image/png": "[encoded data removed]",
      "text/plain": [
       "plot without title"
      ]
     },
     "metadata": {
      "image/png": {
       "height": 360,
       "width": 600
      }
     },
     "output_type": "display_data"
    }
   ],
   "source": [
    "library(VIM)\n",
    "aggr(data_filtre, numbers = TRUE, prop = FALSE)\n",
    "aggr(data_subset, numbers = TRUE, prop = FALSE)\n",
    "aggr(data_fiber, numbers = TRUE, prop = FALSE)\n"
   ]
  },
  {
   "cell_type": "code",
   "execution_count": 124,
   "metadata": {},
   "outputs": [
    {
     "data": {
      "text/html": [
       "1858"
      ],
      "text/latex": [
       "1858"
      ],
      "text/markdown": [
       "1858"
      ],
      "text/plain": [
       "[1] 1858"
      ]
     },
     "metadata": {},
     "output_type": "display_data"
    },
    {
     "data": {
      "text/html": [
       "4040"
      ],
      "text/latex": [
       "4040"
      ],
      "text/markdown": [
       "4040"
      ],
      "text/plain": [
       "[1] 4040"
      ]
     },
     "metadata": {},
     "output_type": "display_data"
    }
   ],
   "source": [
    "data_filtre_2 <- data_filtre[complete.cases(data_filtre), ]\n",
    "nrow(data_filtre_2)\n",
    "nrow(data_filtre)"
   ]
  },
  {
   "cell_type": "markdown",
   "metadata": {},
   "source": [
    "## 13.4 Linear regressions of materials biochemical composition"
   ]
  },
  {
   "cell_type": "markdown",
   "metadata": {},
   "source": [
    "### 13.4.1 Linear regression of remaining soluble content"
   ]
  },
  {
   "cell_type": "code",
   "execution_count": 125,
   "metadata": {},
   "outputs": [],
   "source": [
    "data_long <- gather(data = data_filtre, key = `Biochemical composition`, value = `Biochemical decomposition rate`, c(`Soluble`,\n",
    "                                                                                                                    `Lignin`, `Holocelulose`, `Hydrolyzable`),\n",
    "                    factor_key=TRUE)"
   ]
  },
  {
   "cell_type": "code",
   "execution_count": 126,
   "metadata": {},
   "outputs": [],
   "source": [
    "data_long <- subset(data_long, `Biochemical decomposition rate` > 0 & `Biomass type` == \"Green tea\" | `Biomass type` == \"Rooibos tea\")\n",
    "data_long <- subset(data_long, `Biochemical composition` == \"Lignin\" | `Biochemical composition` == \"Hydrolyzable\")"
   ]
  },
  {
   "cell_type": "code",
   "execution_count": 127,
   "metadata": {},
   "outputs": [
    {
     "name": "stderr",
     "output_type": "stream",
     "text": [
      "Warning message:\n",
      "“Problem with `mutate()` input `ln(k)`.\n",
      "\u001b[34mℹ\u001b[39m production de NaN\n",
      "\u001b[34mℹ\u001b[39m Input `ln(k)` is `log(`Biochemical decomposition rate`)`.”\n",
      "Warning message in log(`Biochemical decomposition rate`):\n",
      "“production de NaN”\n"
     ]
    }
   ],
   "source": [
    "data_long <- data_long %>%\n",
    "        mutate(`ln(k)` = log(`Biochemical decomposition rate`),\n",
    "                `ln(t)` = log(`Sampling period (days)`))"
   ]
  },
  {
   "cell_type": "code",
   "execution_count": 128,
   "metadata": {},
   "outputs": [],
   "source": [
    "New.labs <- c(\"Non-Hydrolyzable\", \"Hydrolyzsable\") # New facet names for variable `Biochemical composition`\n",
    "names(New.labs) <- c(\"Lignin\", \"Hydrolyzable\")"
   ]
  },
  {
   "cell_type": "code",
   "execution_count": 129,
   "metadata": {},
   "outputs": [
    {
     "name": "stderr",
     "output_type": "stream",
     "text": [
      "`geom_smooth()` using formula 'y ~ x'\n",
      "\n",
      "Warning message:\n",
      "“Removed 887 rows containing non-finite values (stat_smooth).”\n",
      "Warning message:\n",
      "“Removed 887 rows containing missing values (geom_point).”\n",
      "`geom_smooth()` using formula 'y ~ x'\n",
      "\n",
      "Warning message:\n",
      "“Removed 887 rows containing non-finite values (stat_smooth).”\n",
      "Warning message:\n",
      "“Removed 887 rows containing missing values (geom_point).”\n"
     ]
    },
    {
     "data": {
      "image/png": "[encoded data removed]",
      "text/plain": [
       "plot without title"
      ]
     },
     "metadata": {
      "image/png": {
       "height": 360,
       "width": 600
      }
     },
     "output_type": "display_data"
    }
   ],
   "source": [
    "options(repr.plot.width = 10, repr.plot.height = 6)\n",
    "ggplot(data_long, aes(x =  `Sampling period (days)`, y = `Biochemical decomposition rate`)) +\n",
    "#geom_point(aes(shape = `Biomass type`), size = 4)+\n",
    "facet_grid( `Biochemical composition` ~ `Biomass type`, scales = \"free\",\n",
    "           labeller = labeller(`Biochemical composition` = New.labs)) +\n",
    "geom_smooth(method = \"lm\" , color = 'black', se = FALSE) + \n",
    "labs(x = \"Time (days)\" , y = \"Biochemical decomposition rate\") +\n",
    "theme(axis.title.x = element_text(size = 18, face = \"bold\"), \n",
    "  axis.title.y = element_text(size = 18, face = \"bold\"),\n",
    "     legend.text=element_text(size=14, face = \"bold\")) +\n",
    "ylim(-0.05, 0.05) +\n",
    "theme_bw() +\n",
    "  geom_point(size = 1, alpha = 0.5, pch = 21, fill = \"white\") \n",
    "ggsave(\"figures/Linear regression of Biochemical decomposition rate.png\", width = 8, height = 6, dpi = 80)"
   ]
  },
  {
   "cell_type": "markdown",
   "metadata": {},
   "source": [
    "## 13.5 Biochemical fractal kinetics"
   ]
  },
  {
   "cell_type": "code",
   "execution_count": 130,
   "metadata": {},
   "outputs": [],
   "source": [
    "data_fractal <- data_long %>%\n",
    "mutate(`Log ratio LIC` = - log(`Final LIC content (g)`/`Initial LIC content (g)`),\n",
    "        `Log ratio HOLO` = - log(`Final HOLO content (g)`/`Initial HOLO content (g)`),\n",
    "        `Log ratio SOL` = - log(`Final SOL content (g)`/`Initial SOL content (g)`),\n",
    "        `Log ratio Hydrolyzable` = - log(`Final Hydrolyzable content (g)`/`Initial Hydrolyzable content (g)`))\n",
    "     "
   ]
  },
  {
   "cell_type": "markdown",
   "metadata": {},
   "source": [
    "### 13.5.1 Fractal of Rooibos tea Lignin content \n",
    "\n",
    "`H_LIC_Rooibos = 0`"
   ]
  },
  {
   "cell_type": "code",
   "execution_count": 131,
   "metadata": {},
   "outputs": [
    {
     "data": {
      "text/html": [
       "0.027718063578805"
      ],
      "text/latex": [
       "0.027718063578805"
      ],
      "text/markdown": [
       "0.027718063578805"
      ],
      "text/plain": [
       "[1] 0.02771806"
      ]
     },
     "metadata": {},
     "output_type": "display_data"
    },
    {
     "data": {
      "text/html": [
       "<strong>Time:</strong> 0.000463972070835008"
      ],
      "text/latex": [
       "\\textbf{Time:} 0.000463972070835008"
      ],
      "text/markdown": [
       "**Time:** 0.000463972070835008"
      ],
      "text/plain": [
       "        Time \n",
       "0.0004639721 "
      ]
     },
     "metadata": {},
     "output_type": "display_data"
    },
    {
     "data": {
      "text/html": [
       "<strong>(Intercept):</strong> -0.122646657528415"
      ],
      "text/latex": [
       "\\textbf{(Intercept):} -0.122646657528415"
      ],
      "text/markdown": [
       "**(Intercept):** -0.122646657528415"
      ],
      "text/plain": [
       "(Intercept) \n",
       " -0.1226467 "
      ]
     },
     "metadata": {},
     "output_type": "display_data"
    }
   ],
   "source": [
    "data_LIC_rooibos <- subset(data_fractal, `Biomass type` == \"Rooibos tea\"  & `Biochemical composition` == \"Lignin\" )\n",
    "\n",
    "H_LIC_Rooibos = 0\n",
    "P_LIC_Rooibos = 1- H_LIC_Rooibos\n",
    "\n",
    "data_LIC_rooibos <- data_LIC_rooibos %>%\n",
    "                mutate(Time = (`Sampling period (days)`) ** P_LIC_Rooibos)%>%\n",
    "                select(`Sampling period (days)`, Time, `Log ratio LIC`, `Biomass type`)%>%\n",
    "                rename(Log = `Log ratio LIC`, `Biomass.type` = `Biomass type`, `Prelevement`= `Sampling period (days)`)\n",
    "\n",
    "data_LIC_rooibos <- rbind(data_LIC_rooibos, data.frame(\"Log\" = 0, \"Time\" = 0, \"Prelevement\" = 0,\n",
    "                                              \"Biomass.type\" = \"Rooibos tea\")) \n",
    "\n",
    "data_median_LIC_rooibos <- aggregate(cbind(Time, Log) ~ Prelevement + Biomass.type, data = data_LIC_rooibos, FUN = median)\n",
    "\n",
    "Slope = coef(lm(`Log` ~ `Time`, data_median_LIC_rooibos))[2]\n",
    "Intercept = coef(lm(`Log` ~ `Time`, data_median_LIC_rooibos))[1]\n",
    "R.squared = summary(lm(Log ~ Time, data_median_LIC_rooibos))$r.squared\n",
    "R.squared\n",
    "Slope\n",
    "Intercept"
   ]
  },
  {
   "cell_type": "markdown",
   "metadata": {},
   "source": [
    "### 13.5.2 Fractal of Rooibos tea Hydrolyzable content \n",
    "\n",
    "`H_Hydro_Rooibos = 0.5`"
   ]
  },
  {
   "cell_type": "code",
   "execution_count": 132,
   "metadata": {},
   "outputs": [
    {
     "data": {
      "text/html": [
       "0.903458312514133"
      ],
      "text/latex": [
       "0.903458312514133"
      ],
      "text/markdown": [
       "0.903458312514133"
      ],
      "text/plain": [
       "[1] 0.9034583"
      ]
     },
     "metadata": {},
     "output_type": "display_data"
    },
    {
     "data": {
      "text/html": [
       "<strong>Time:</strong> 0.0446785553903515"
      ],
      "text/latex": [
       "\\textbf{Time:} 0.0446785553903515"
      ],
      "text/markdown": [
       "**Time:** 0.0446785553903515"
      ],
      "text/plain": [
       "      Time \n",
       "0.04467856 "
      ]
     },
     "metadata": {},
     "output_type": "display_data"
    },
    {
     "data": {
      "text/html": [
       "<strong>(Intercept):</strong> 0.00422351161312158"
      ],
      "text/latex": [
       "\\textbf{(Intercept):} 0.00422351161312158"
      ],
      "text/markdown": [
       "**(Intercept):** 0.00422351161312158"
      ],
      "text/plain": [
       "(Intercept) \n",
       "0.004223512 "
      ]
     },
     "metadata": {},
     "output_type": "display_data"
    }
   ],
   "source": [
    "data_Hydro_rooibos <- subset(data_fractal, `Biomass type` == \"Rooibos tea\"  & `Biochemical composition` == \"Hydrolyzable\" )\n",
    "\n",
    "H_Hydro_Rooibos = 0.5\n",
    "P_Hydro_Rooibos = 1- H_Hydro_Rooibos\n",
    "\n",
    "data_Hydro_rooibos <- data_Hydro_rooibos %>%\n",
    "                mutate(Time = (`Sampling period (days)`) ** P_Hydro_Rooibos)%>%\n",
    "                select(`Sampling period (days)`, Time, `Log ratio Hydrolyzable`, `Biomass type`)%>%\n",
    "                rename(Log = `Log ratio Hydrolyzable`, `Biomass.type` = `Biomass type`, `Prelevement`= `Sampling period (days)`)\n",
    "\n",
    "data_Hydro_rooibos <- rbind(data_Hydro_rooibos, data.frame(\"Log\" = 0, \"Time\" = 0, \"Prelevement\" = 0,\n",
    "                                              \"Biomass.type\" = \"Rooibos tea\")) \n",
    "\n",
    "data_median_Hydro_rooibos <- aggregate(cbind(Time, Log) ~ Prelevement + Biomass.type, data = data_Hydro_rooibos, FUN = median)\n",
    "\n",
    "Slope = coef(lm(`Log` ~ `Time`, data_median_Hydro_rooibos))[2]\n",
    "Intercept = coef(lm(`Log` ~ `Time`, data_median_Hydro_rooibos))[1]\n",
    "R.squared = summary(lm(Log ~ Time, data_median_Hydro_rooibos))$r.squared\n",
    "R.squared\n",
    "Slope\n",
    "Intercept"
   ]
  },
  {
   "cell_type": "markdown",
   "metadata": {},
   "source": [
    "### 13.5.3 Fractal of Green tea Lignin content\n",
    "\n",
    "`H_LIC_Green = 0.96`"
   ]
  },
  {
   "cell_type": "code",
   "execution_count": 133,
   "metadata": {},
   "outputs": [
    {
     "data": {
      "text/html": [
       "0.883991282206276"
      ],
      "text/latex": [
       "0.883991282206276"
      ],
      "text/markdown": [
       "0.883991282206276"
      ],
      "text/plain": [
       "[1] 0.8839913"
      ]
     },
     "metadata": {},
     "output_type": "display_data"
    },
    {
     "data": {
      "text/html": [
       "<strong>Time:</strong> 0.621364915797879"
      ],
      "text/latex": [
       "\\textbf{Time:} 0.621364915797879"
      ],
      "text/markdown": [
       "**Time:** 0.621364915797879"
      ],
      "text/plain": [
       "     Time \n",
       "0.6213649 "
      ]
     },
     "metadata": {},
     "output_type": "display_data"
    },
    {
     "data": {
      "text/html": [
       "<strong>(Intercept):</strong> -0.000497712575878332"
      ],
      "text/latex": [
       "\\textbf{(Intercept):} -0.000497712575878332"
      ],
      "text/markdown": [
       "**(Intercept):** -0.000497712575878332"
      ],
      "text/plain": [
       "  (Intercept) \n",
       "-0.0004977126 "
      ]
     },
     "metadata": {},
     "output_type": "display_data"
    }
   ],
   "source": [
    "data_LIC_Green <- subset(data_fractal, `Biomass type` == \"Green tea\"  & `Biochemical composition` == \"Lignin\" )\n",
    "\n",
    "H_LIC_Green = 0.96\n",
    "P_LIC_Green = 1- H_LIC_Green\n",
    "\n",
    "data_LIC_Green <- data_LIC_Green %>%\n",
    "                mutate(Time = (`Sampling period (days)`) ** P_LIC_Green)%>%\n",
    "                select(`Sampling period (days)`, Time, `Log ratio LIC`, `Biomass type`)%>%\n",
    "                rename(Log = `Log ratio LIC`, `Biomass.type` = `Biomass type`, `Prelevement`= `Sampling period (days)`)\n",
    "\n",
    "data_LIC_Green <- rbind(data_LIC_Green, data.frame(\"Log\" = 0, \"Time\" = 0, \"Prelevement\" = 0,\n",
    "                                              \"Biomass.type\" = \"Green tea\")) \n",
    "\n",
    "data_median_LIC_Green <- aggregate(cbind(Time, Log) ~ Prelevement + Biomass.type, data = data_LIC_Green, FUN = median)\n",
    "\n",
    "Slope = coef(lm(`Log` ~ `Time`, data_median_LIC_Green))[2]\n",
    "Intercept = coef(lm(`Log` ~ `Time`, data_median_LIC_Green))[1]\n",
    "R.squared = summary(lm(Log ~ Time, data_median_LIC_Green))$r.squared\n",
    "R.squared\n",
    "Slope\n",
    "Intercept"
   ]
  },
  {
   "cell_type": "markdown",
   "metadata": {},
   "source": [
    "### 13.5.4 Fractal of Green tea Hydrolyzable content \n",
    "\n",
    "`H_Hydro_Green = 0.7`"
   ]
  },
  {
   "cell_type": "code",
   "execution_count": 134,
   "metadata": {},
   "outputs": [
    {
     "data": {
      "text/html": [
       "0.964338897727013"
      ],
      "text/latex": [
       "0.964338897727013"
      ],
      "text/markdown": [
       "0.964338897727013"
      ],
      "text/plain": [
       "[1] 0.9643389"
      ]
     },
     "metadata": {},
     "output_type": "display_data"
    },
    {
     "data": {
      "text/html": [
       "<strong>Time:</strong> 0.20503040455708"
      ],
      "text/latex": [
       "\\textbf{Time:} 0.20503040455708"
      ],
      "text/markdown": [
       "**Time:** 0.20503040455708"
      ],
      "text/plain": [
       "     Time \n",
       "0.2050304 "
      ]
     },
     "metadata": {},
     "output_type": "display_data"
    },
    {
     "data": {
      "text/html": [
       "<strong>(Intercept):</strong> -0.0209813051151199"
      ],
      "text/latex": [
       "\\textbf{(Intercept):} -0.0209813051151199"
      ],
      "text/markdown": [
       "**(Intercept):** -0.0209813051151199"
      ],
      "text/plain": [
       "(Intercept) \n",
       "-0.02098131 "
      ]
     },
     "metadata": {},
     "output_type": "display_data"
    }
   ],
   "source": [
    "data_Hydro_Green <- subset(data_fractal, `Biomass type` == \"Green tea\"  & `Biochemical composition` == \"Hydrolyzable\" )\n",
    "\n",
    "H_Hydro_Green = 0.7\n",
    "P_Hydro_Green = 1- H_Hydro_Green\n",
    "\n",
    "data_Hydro_Green <- data_Hydro_Green %>%\n",
    "                mutate(Time = (`Sampling period (days)`) ** P_Hydro_Green)%>%\n",
    "                select(`Sampling period (days)`, Time, `Log ratio Hydrolyzable`, `Biomass type`)%>%\n",
    "                rename(Log = `Log ratio Hydrolyzable`, `Biomass.type` = `Biomass type`, `Prelevement`= `Sampling period (days)`)\n",
    "\n",
    "data_Hydro_Green <- rbind(data_Hydro_Green, data.frame(\"Log\" = 0, \"Time\" = 0, \"Prelevement\" = 0,\n",
    "                                              \"Biomass.type\" = \"Green tea\")) \n",
    "\n",
    "data_median_Hydro_Green <- aggregate(cbind(Time, Log) ~ Prelevement + Biomass.type, data = data_Hydro_Green, FUN = median)\n",
    "\n",
    "Slope = coef(lm(`Log` ~ `Time`, data_median_Hydro_Green))[2]\n",
    "Intercept = coef(lm(`Log` ~ `Time`, data_median_Hydro_Green))[1]\n",
    "R.squared = summary(lm(Log ~ Time, data_median_Hydro_Green))$r.squared\n",
    "R.squared\n",
    "Slope\n",
    "Intercept"
   ]
  },
  {
   "cell_type": "code",
   "execution_count": null,
   "metadata": {},
   "outputs": [],
   "source": []
  },
  {
   "cell_type": "code",
   "execution_count": null,
   "metadata": {},
   "outputs": [],
   "source": []
  },
  {
   "cell_type": "code",
   "execution_count": null,
   "metadata": {},
   "outputs": [],
   "source": []
  },
  {
   "cell_type": "code",
   "execution_count": null,
   "metadata": {},
   "outputs": [],
   "source": []
  },
  {
   "cell_type": "code",
   "execution_count": null,
   "metadata": {},
   "outputs": [],
   "source": []
  },
  {
   "cell_type": "code",
   "execution_count": null,
   "metadata": {},
   "outputs": [],
   "source": []
  }
 ],
 "metadata": {
  "kernelspec": {
   "display_name": "R",
   "language": "R",
   "name": "ir"
  },
  "language_info": {
   "codemirror_mode": "r",
   "file_extension": ".r",
   "mimetype": "text/x-r-source",
   "name": "R",
   "pygments_lexer": "r",
   "version": "3.6.1"
  }
 },
 "nbformat": 4,
 "nbformat_minor": 4
}
