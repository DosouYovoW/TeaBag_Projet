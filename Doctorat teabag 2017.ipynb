{
 "cells": [
  {
   "cell_type": "markdown",
   "metadata": {},
   "source": [
    "# **Tea bag index (TBI) and decomposition kinetics in cranberry agroecosystems** \n",
    "\n",
    "## Wilfried Dossou-Yovo, Serge Étienne Parent,Noura Ziadi, Élizabeth Parent and Léon Étienne Parent"
   ]
  },
  {
   "cell_type": "code",
   "execution_count": 113,
   "metadata": {},
   "outputs": [
    {
     "data": {
      "text/html": [
       "<time datetime=\"2020-01-31\">2020-01-31</time>"
      ],
      "text/latex": [
       "2020-01-31"
      ],
      "text/markdown": [
       "2020-01-31"
      ],
      "text/plain": [
       "[1] \"2020-01-31\""
      ]
     },
     "metadata": {},
     "output_type": "display_data"
    }
   ],
   "source": [
    "Sys.Date()"
   ]
  },
  {
   "cell_type": "markdown",
   "metadata": {},
   "source": [
    "## Objective"
   ]
  },
  {
   "cell_type": "markdown",
   "metadata": {},
   "source": [
    "This Jupiter Notbook codes aiming to describe computations methodology used to derive the results and conclusions of of Tea bag index (TBI) and decomposition kinetics in cranberry agroecosystems. The data set from 2017 trial is a collection of incubated tea bag weight, nitrogen, carbon and sulfur content, nitrogen type and doses on trials fieds. \n",
    "The aims of this study were to measure the TBI and kinetics of plant residue decomposition to estimate soil sequestration capacity in cranberry stands of eastern Canada."
   ]
  },
  {
   "cell_type": "markdown",
   "metadata": {},
   "source": [
    "# 1- Packages loading"
   ]
  },
  {
   "cell_type": "markdown",
   "metadata": {},
   "source": [
    "We need package [tidyverse](https://www.tidyverse.org/) which loads a set of packages for easy data manipulation(Ex: [dplyr](https://www.rdocumentation.org/packages/dplyr/versions/0.7.8)) and visualization (ex: [ggplot2](https://www.rdocumentation.org/packages/ggplot2/versions/3.2.1)). A set of other packages is used: [readxl](https://www.rdocumentation.org/packages/readxl/versions/0.1.1) for importing xlsx files, [nlme](https://www.rdocumentation.org/packages/nlme/versions/3.1-143/topics/nlme) for fitting a nonlinear mixed-effects model, [e1071](https://www.rdocumentation.org/packages/e1071/versions/1.7-3) for latent class analysis."
   ]
  },
  {
   "cell_type": "code",
   "execution_count": 1,
   "metadata": {},
   "outputs": [
    {
     "name": "stderr",
     "output_type": "stream",
     "text": [
      "Warning message:\n",
      "\"package 'readxl' was built under R version 3.6.2\"Warning message:\n",
      "\"package 'tidyverse' was built under R version 3.6.2\"-- Attaching packages --------------------------------------- tidyverse 1.3.0 --\n",
      "v ggplot2 3.2.1     v purrr   0.3.3\n",
      "v tibble  2.1.3     v dplyr   0.8.3\n",
      "v tidyr   1.0.0     v stringr 1.4.0\n",
      "v readr   1.3.1     v forcats 0.4.0\n",
      "Warning message:\n",
      "\"package 'ggplot2' was built under R version 3.6.2\"Warning message:\n",
      "\"package 'tibble' was built under R version 3.6.2\"Warning message:\n",
      "\"package 'tidyr' was built under R version 3.6.2\"Warning message:\n",
      "\"package 'readr' was built under R version 3.6.2\"Warning message:\n",
      "\"package 'purrr' was built under R version 3.6.2\"Warning message:\n",
      "\"package 'dplyr' was built under R version 3.6.2\"Warning message:\n",
      "\"package 'stringr' was built under R version 3.6.2\"Warning message:\n",
      "\"package 'forcats' was built under R version 3.6.2\"-- Conflicts ------------------------------------------ tidyverse_conflicts() --\n",
      "x dplyr::filter() masks stats::filter()\n",
      "x dplyr::lag()    masks stats::lag()\n",
      "Warning message:\n",
      "\"package 'nlme' was built under R version 3.6.2\"\n",
      "Attaching package: 'nlme'\n",
      "\n",
      "The following object is masked from 'package:dplyr':\n",
      "\n",
      "    collapse\n",
      "\n",
      "Warning message:\n",
      "\"package 'e1071' was built under R version 3.6.2\""
     ]
    }
   ],
   "source": [
    "library(\"readxl\")\n",
    "library(\"tidyverse\")\n",
    "library(\"nlme\")\n",
    "library('e1071')"
   ]
  },
  {
   "cell_type": "markdown",
   "metadata": {},
   "source": [
    " # 3- Import data"
   ]
  },
  {
   "cell_type": "code",
   "execution_count": 2,
   "metadata": {},
   "outputs": [],
   "source": [
    "Data_1 <- read.csv(\"DATA 1.2.csv\",\n",
    "                   header = TRUE, stringsAsFactors = TRUE,\n",
    "                   dec=',', sep=';',  na.strings = \"\")"
   ]
  },
  {
   "cell_type": "markdown",
   "metadata": {},
   "source": [
    "# 4- Data analysis "
   ]
  },
  {
   "cell_type": "markdown",
   "metadata": {},
   "source": [
    "## 4-1 Computation of Carbon, Nitrogen and Sulfur content"
   ]
  },
  {
   "cell_type": "code",
   "execution_count": 3,
   "metadata": {},
   "outputs": [],
   "source": [
    "Data_1$Teneur_Cf <- Data_1$Pourcentage_C * Data_1$Poids_Restant_g / 100\n",
    "Data_1$Teneur_Nf <- Data_1$Pourcentage_N * Data_1$Poids_Restant_g / 100\n",
    "Data_1$Teneur_Sf <- Data_1$Pourcentage_S * Data_1$Poids_Restant_g / 100 "
   ]
  },
  {
   "cell_type": "markdown",
   "metadata": {},
   "source": [
    " ## 4-2 Pseudo R² Formula"
   ]
  },
  {
   "cell_type": "markdown",
   "metadata": {},
   "source": [
    "Pseudo R square allows us to choose which model fit best with our data. We implement a mixed model with or without random effect.The higher R square, the best is the model "
   ]
  },
  {
   "cell_type": "code",
   "execution_count": 4,
   "metadata": {},
   "outputs": [],
   "source": [
    "pseudoR2 <- function(y, y_hat) {\n",
    "  1 - (sum((y - y_hat)^2) / sum((y - mean(y))^2))\n",
    "}\n",
    "\n",
    "# Residuals\n",
    "residues <- function(model, level = 0, computeResidues = TRUE, residues,\n",
    "                   main = \"\") {\n",
    "  library(e1071)\n",
    "  if (computeResidues) {\n",
    "    r = residuals(model, type=\"normalized\", level)\n",
    "  } else {\n",
    "    r = residues\n",
    "  }\n",
    "  hist(r, freq=F, main = main, breaks=20)\n",
    "  xfit<-seq(min(r),max(r),length=40)\n",
    "  yfit<-dnorm(xfit)\n",
    "  lines(xfit, yfit, col=\"red\", lwd=2)\n",
    "  print(\"Shapiro-Wilk:\")\n",
    "  print(shapiro.test(r))\n",
    "  print(paste(\"Kurtosis:\", kurtosis(r)))\n",
    "  print(paste(\"Skewness:\", skewness(r)))\n",
    "}\n"
   ]
  },
  {
   "cell_type": "markdown",
   "metadata": {},
   "source": [
    "## 4-3 PREPROCESS : weight loss rate"
   ]
  },
  {
   "cell_type": "markdown",
   "metadata": {},
   "source": [
    "Weight loss rate has been estimate by: $k_1 = (-ln(M(t)/M_0 )) ⁄ t$ \n",
    "\n",
    "Where `M_0` is initial litter organic mass, `M(t)` is litter organic mass that remains after incubation time `t = 90 days` , and `k_1` is decomposition rate. "
   ]
  },
  {
   "cell_type": "code",
   "execution_count": 5,
   "metadata": {},
   "outputs": [],
   "source": [
    "Data_1$PertePoids <- -log(Data_1$Poids_Restant_g/Data_1$PoidsContenu_g)/90"
   ]
  },
  {
   "cell_type": "markdown",
   "metadata": {},
   "source": [
    "##  - Label repetitions in such a way they are unique per field and dose"
   ]
  },
  {
   "cell_type": "code",
   "execution_count": 7,
   "metadata": {},
   "outputs": [],
   "source": [
    "Data_1$DoseRep = paste0(Data_1$Dose, '_', Data_1$Repetition,'_', Data_1$Site)"
   ]
  },
  {
   "cell_type": "markdown",
   "metadata": {},
   "source": [
    "## 4-5 Data exploration"
   ]
  },
  {
   "cell_type": "code",
   "execution_count": 8,
   "metadata": {},
   "outputs": [
    {
     "data": {
      "text/html": [
       "<table>\n",
       "<thead><tr><th scope=col>No</th><th scope=col>TypeThe</th><th scope=col>TeaType</th><th scope=col>PoidsContenu_g</th><th scope=col>PoidsTotal._g</th><th scope=col>PoidsSac_g</th><th scope=col>Poids_Restant_g</th><th scope=col>Farmers</th><th scope=col>Site</th><th scope=col>Regie</th><th scope=col>...</th><th scope=col>Teneur_Ci</th><th scope=col>GreenTMoy_C</th><th scope=col>GreenTMoy_N</th><th scope=col>GreenTMoy_S</th><th scope=col>Teneur_Cf</th><th scope=col>Teneur_Nf</th><th scope=col>Teneur_Sf</th><th scope=col>PertePoids</th><th scope=col>TauxDecomposition_C</th><th scope=col>DoseRep</th></tr></thead>\n",
       "<tbody>\n",
       "\t<tr><td>1                 </td><td>G                 </td><td>Green tea         </td><td>1.793             </td><td>2.019             </td><td>0.226             </td><td>0.783             </td><td>Belanger          </td><td>A9                </td><td>Biologique        </td><td>...               </td><td>0.8605444         </td><td>47,99466667       </td><td>3,377             </td><td>0,193666667       </td><td>0.3926275         </td><td>0.04134945        </td><td>0.00227070        </td><td>0.009205698       </td><td>0.008718931       </td><td>0_1_A9            </td></tr>\n",
       "\t<tr><td>2                 </td><td>G                 </td><td>Green tea         </td><td>1.786             </td><td>2.011             </td><td>0.225             </td><td>0.797             </td><td>Belanger          </td><td>A9                </td><td>Biologique        </td><td>...               </td><td>0.8571847         </td><td>Rooibos teaMoy_C  </td><td>Rooibos teaMoy_N  </td><td>Rooibos teaMoy_S  </td><td>0.4059360         </td><td>0.03513335        </td><td>0.00200047        </td><td>0.008965323       </td><td>0.008305088       </td><td>0_1_A9            </td></tr>\n",
       "\t<tr><td>3                 </td><td>G                 </td><td>Green tea         </td><td>1.782             </td><td>2.008             </td><td>0.228             </td><td>   NA             </td><td>Belanger          </td><td>A9                </td><td>Biologique        </td><td>...               </td><td>0.8552650         </td><td>47,79166667       </td><td>1,040022222       </td><td>0,090222222       </td><td>       NA         </td><td>        NA        </td><td>        NA        </td><td>         NA       </td><td>         NA       </td><td>0_1_A9            </td></tr>\n",
       "\t<tr><td>4                 </td><td>G                 </td><td>Green tea         </td><td>1.760             </td><td>1.987             </td><td>0.227             </td><td>0.778             </td><td>Belanger          </td><td>A9                </td><td>Biologique        </td><td>...               </td><td>0.8447061         </td><td>ResiduCan_C       </td><td>ResiduCan_N       </td><td>ResiduCan_S       </td><td>0.3912718         </td><td>0.04232087        </td><td>0.00230288        </td><td>0.009070473       </td><td>0.008550960       </td><td>0_2_A9            </td></tr>\n",
       "\t<tr><td>5                 </td><td>G                 </td><td>Green tea         </td><td>1.788             </td><td>2.013             </td><td>0.226             </td><td>0.779             </td><td>Belanger          </td><td>A9                </td><td>Biologique        </td><td>...               </td><td>0.8581446         </td><td>50,033            </td><td>0,90172           </td><td>0,0757            </td><td>0.3717232         </td><td>0.03796456        </td><td>0.00215783        </td><td>0.009231577       </td><td>0.009295812       </td><td>0_2_A9            </td></tr>\n",
       "\t<tr><td>6                 </td><td>G                 </td><td>Green tea         </td><td>1.779             </td><td>2.004             </td><td>0.227             </td><td>   NA             </td><td>Belanger          </td><td>A9                </td><td>Biologique        </td><td>...               </td><td>0.8538251         </td><td>Hibiscus TeaTMoy_C</td><td>Hibiscus TeaTMoy_N</td><td>Hibiscus TeaTMoy_S</td><td>       NA         </td><td>        NA        </td><td>        NA        </td><td>         NA       </td><td>         NA       </td><td>0_2_A9            </td></tr>\n",
       "</tbody>\n",
       "</table>\n"
      ],
      "text/latex": [
       "\\begin{tabular}{r|llllllllllllllllllllllllll}\n",
       " No & TypeThe & TeaType & PoidsContenu\\_g & PoidsTotal.\\_g & PoidsSac\\_g & Poids\\_Restant\\_g & Farmers & Site & Regie & ... & Teneur\\_Ci & GreenTMoy\\_C & GreenTMoy\\_N & GreenTMoy\\_S & Teneur\\_Cf & Teneur\\_Nf & Teneur\\_Sf & PertePoids & TauxDecomposition\\_C & DoseRep\\\\\n",
       "\\hline\n",
       "\t 1                  & G                  & Green tea          & 1.793              & 2.019              & 0.226              & 0.783              & Belanger           & A9                 & Biologique         & ...                & 0.8605444          & 47,99466667        & 3,377              & 0,193666667        & 0.3926275          & 0.04134945         & 0.00227070         & 0.009205698        & 0.008718931        & 0\\_1\\_A9        \\\\\n",
       "\t 2                    & G                    & Green tea            & 1.786                & 2.011                & 0.225                & 0.797                & Belanger             & A9                   & Biologique           & ...                  & 0.8571847            & Rooibos teaMoy\\_C   & Rooibos teaMoy\\_N   & Rooibos teaMoy\\_S   & 0.4059360            & 0.03513335           & 0.00200047           & 0.008965323          & 0.008305088          & 0\\_1\\_A9          \\\\\n",
       "\t 3                  & G                  & Green tea          & 1.782              & 2.008              & 0.228              &    NA              & Belanger           & A9                 & Biologique         & ...                & 0.8552650          & 47,79166667        & 1,040022222        & 0,090222222        &        NA          &         NA         &         NA         &          NA        &          NA        & 0\\_1\\_A9        \\\\\n",
       "\t 4                    & G                    & Green tea            & 1.760                & 1.987                & 0.227                & 0.778                & Belanger             & A9                   & Biologique           & ...                  & 0.8447061            & ResiduCan\\_C        & ResiduCan\\_N        & ResiduCan\\_S        & 0.3912718            & 0.04232087           & 0.00230288           & 0.009070473          & 0.008550960          & 0\\_2\\_A9          \\\\\n",
       "\t 5                  & G                  & Green tea          & 1.788              & 2.013              & 0.226              & 0.779              & Belanger           & A9                 & Biologique         & ...                & 0.8581446          & 50,033             & 0,90172            & 0,0757             & 0.3717232          & 0.03796456         & 0.00215783         & 0.009231577        & 0.009295812        & 0\\_2\\_A9        \\\\\n",
       "\t 6                    & G                    & Green tea            & 1.779                & 2.004                & 0.227                &    NA                & Belanger             & A9                   & Biologique           & ...                  & 0.8538251            & Hibiscus TeaTMoy\\_C & Hibiscus TeaTMoy\\_N & Hibiscus TeaTMoy\\_S &        NA            &         NA           &         NA           &          NA          &          NA          & 0\\_2\\_A9          \\\\\n",
       "\\end{tabular}\n"
      ],
      "text/markdown": [
       "\n",
       "| No | TypeThe | TeaType | PoidsContenu_g | PoidsTotal._g | PoidsSac_g | Poids_Restant_g | Farmers | Site | Regie | ... | Teneur_Ci | GreenTMoy_C | GreenTMoy_N | GreenTMoy_S | Teneur_Cf | Teneur_Nf | Teneur_Sf | PertePoids | TauxDecomposition_C | DoseRep |\n",
       "|---|---|---|---|---|---|---|---|---|---|---|---|---|---|---|---|---|---|---|---|---|\n",
       "| 1                  | G                  | Green tea          | 1.793              | 2.019              | 0.226              | 0.783              | Belanger           | A9                 | Biologique         | ...                | 0.8605444          | 47,99466667        | 3,377              | 0,193666667        | 0.3926275          | 0.04134945         | 0.00227070         | 0.009205698        | 0.008718931        | 0_1_A9             |\n",
       "| 2                  | G                  | Green tea          | 1.786              | 2.011              | 0.225              | 0.797              | Belanger           | A9                 | Biologique         | ...                | 0.8571847          | Rooibos teaMoy_C   | Rooibos teaMoy_N   | Rooibos teaMoy_S   | 0.4059360          | 0.03513335         | 0.00200047         | 0.008965323        | 0.008305088        | 0_1_A9             |\n",
       "| 3                  | G                  | Green tea          | 1.782              | 2.008              | 0.228              |    NA              | Belanger           | A9                 | Biologique         | ...                | 0.8552650          | 47,79166667        | 1,040022222        | 0,090222222        |        NA          |         NA         |         NA         |          NA        |          NA        | 0_1_A9             |\n",
       "| 4                  | G                  | Green tea          | 1.760              | 1.987              | 0.227              | 0.778              | Belanger           | A9                 | Biologique         | ...                | 0.8447061          | ResiduCan_C        | ResiduCan_N        | ResiduCan_S        | 0.3912718          | 0.04232087         | 0.00230288         | 0.009070473        | 0.008550960        | 0_2_A9             |\n",
       "| 5                  | G                  | Green tea          | 1.788              | 2.013              | 0.226              | 0.779              | Belanger           | A9                 | Biologique         | ...                | 0.8581446          | 50,033             | 0,90172            | 0,0757             | 0.3717232          | 0.03796456         | 0.00215783         | 0.009231577        | 0.009295812        | 0_2_A9             |\n",
       "| 6                  | G                  | Green tea          | 1.779              | 2.004              | 0.227              |    NA              | Belanger           | A9                 | Biologique         | ...                | 0.8538251          | Hibiscus TeaTMoy_C | Hibiscus TeaTMoy_N | Hibiscus TeaTMoy_S |        NA          |         NA         |         NA         |          NA        |          NA        | 0_2_A9             |\n",
       "\n"
      ],
      "text/plain": [
       "  No TypeThe TeaType   PoidsContenu_g PoidsTotal._g PoidsSac_g Poids_Restant_g\n",
       "1 1  G       Green tea 1.793          2.019         0.226      0.783          \n",
       "2 2  G       Green tea 1.786          2.011         0.225      0.797          \n",
       "3 3  G       Green tea 1.782          2.008         0.228         NA          \n",
       "4 4  G       Green tea 1.760          1.987         0.227      0.778          \n",
       "5 5  G       Green tea 1.788          2.013         0.226      0.779          \n",
       "6 6  G       Green tea 1.779          2.004         0.227         NA          \n",
       "  Farmers  Site Regie      ... Teneur_Ci GreenTMoy_C        GreenTMoy_N       \n",
       "1 Belanger A9   Biologique ... 0.8605444 47,99466667        3,377             \n",
       "2 Belanger A9   Biologique ... 0.8571847 Rooibos teaMoy_C   Rooibos teaMoy_N  \n",
       "3 Belanger A9   Biologique ... 0.8552650 47,79166667        1,040022222       \n",
       "4 Belanger A9   Biologique ... 0.8447061 ResiduCan_C        ResiduCan_N       \n",
       "5 Belanger A9   Biologique ... 0.8581446 50,033             0,90172           \n",
       "6 Belanger A9   Biologique ... 0.8538251 Hibiscus TeaTMoy_C Hibiscus TeaTMoy_N\n",
       "  GreenTMoy_S        Teneur_Cf Teneur_Nf  Teneur_Sf  PertePoids \n",
       "1 0,193666667        0.3926275 0.04134945 0.00227070 0.009205698\n",
       "2 Rooibos teaMoy_S   0.4059360 0.03513335 0.00200047 0.008965323\n",
       "3 0,090222222               NA         NA         NA          NA\n",
       "4 ResiduCan_S        0.3912718 0.04232087 0.00230288 0.009070473\n",
       "5 0,0757             0.3717232 0.03796456 0.00215783 0.009231577\n",
       "6 Hibiscus TeaTMoy_S        NA         NA         NA          NA\n",
       "  TauxDecomposition_C DoseRep\n",
       "1 0.008718931         0_1_A9 \n",
       "2 0.008305088         0_1_A9 \n",
       "3          NA         0_1_A9 \n",
       "4 0.008550960         0_2_A9 \n",
       "5 0.009295812         0_2_A9 \n",
       "6          NA         0_2_A9 "
      ]
     },
     "metadata": {},
     "output_type": "display_data"
    }
   ],
   "source": [
    "head(Data_1)"
   ]
  },
  {
   "cell_type": "markdown",
   "metadata": {},
   "source": [
    "### - Boxplot"
   ]
  },
  {
   "cell_type": "code",
   "execution_count": 9,
   "metadata": {},
   "outputs": [
    {
     "name": "stderr",
     "output_type": "stream",
     "text": [
      "Warning message:\n",
      "\"Removed 49 rows containing non-finite values (stat_boxplot).\""
     ]
    },
    {
     "data": {
      "image/png": "[encoded data removed]",
      "text/plain": [
       "plot without title"
      ]
     },
     "metadata": {},
     "output_type": "display_data"
    }
   ],
   "source": [
    "options(repr.plot.width=6, repr.plot.height=10)\n",
    "ggplot(data = Data_1,\n",
    "       mapping = aes(x = NitrogenType, y = PertePoids)) +\n",
    "  facet_grid(TeaType ~ ., scales = \"free\") +\n",
    "  geom_boxplot(mapping = aes(fill = TeaType))"
   ]
  },
  {
   "cell_type": "raw",
   "metadata": {},
   "source": [
    "# Label repetitions in such a way they are unique per field and dose\n",
    "Data_1$DoseRep = paste0(Data_1$Dose, '_', Data_1$Repetition,'_', Data_1$Site)\n",
    "#Data_1_CNS$DoseRep = paste0(Data_1$Dose, '_', Data_1$Repetition)"
   ]
  },
  {
   "cell_type": "markdown",
   "metadata": {},
   "source": [
    "## - Cranberry residues are the reference to assess the effect of the kind of matter analysed"
   ]
  },
  {
   "cell_type": "code",
   "execution_count": 10,
   "metadata": {},
   "outputs": [],
   "source": [
    "Data_1$TeaType = relevel(Data_1$TeaType, ref = 'Cranberry litter')"
   ]
  },
  {
   "cell_type": "markdown",
   "metadata": {},
   "source": [
    "# 4-6 What's affecting litters weight?\n",
    "### prepare data"
   ]
  },
  {
   "cell_type": "code",
   "execution_count": 11,
   "metadata": {},
   "outputs": [
    {
     "data": {
      "image/png": "[encoded data removed]",
      "text/plain": [
       "plot without title"
      ]
     },
     "metadata": {},
     "output_type": "display_data"
    }
   ],
   "source": [
    "weightdiff_data = Data_1 %>%\n",
    "  select(PertePoids,#C_over_N,\n",
    "         TeaType, NitrogenType, DoseN, Farmers, Site, DoseRep) %>%\n",
    "  drop_na(.) %>%\n",
    "  droplevels(.)\n",
    "weightdiff_data_factor <- weightdiff_data\n",
    "weightdiff_data_factor$TeaType <- factor(weightdiff_data$TeaType, \n",
    "                                  levels = levels(weightdiff_data$TeaType)[c(4,3,5,2,1)]) # Reorder\n",
    "\n",
    "options(repr.plot.width=6, repr.plot.height=4)\n",
    "\n",
    "ggplot(weightdiff_data_factor, aes(x=DoseN, y=PertePoids)) +\n",
    "  facet_grid(. ~ TeaType) +\n",
    "  geom_smooth(method='lm') +\n",
    "  labs(x = expression(\"Nitrogen dose (kg ha\"^\"-1\"*\")\"),\n",
    "       y = \"Decomposition rate (k1)\") +     #expression(frac(-ln(frac(Final~weight, Initial~weight)), 90))) +\n",
    "  geom_point()"
   ]
  },
  {
   "cell_type": "markdown",
   "metadata": {},
   "source": [
    "## Export plot high resolution"
   ]
  },
  {
   "cell_type": "code",
   "execution_count": 12,
   "metadata": {},
   "outputs": [],
   "source": [
    "ggsave(\"Figure1.png\", width = 10, height = 6, dpi = 600)"
   ]
  },
  {
   "cell_type": "markdown",
   "metadata": {},
   "source": [
    "## 4-7 Mixed model"
   ]
  },
  {
   "cell_type": "code",
   "execution_count": 13,
   "metadata": {},
   "outputs": [],
   "source": [
    "weightdiff_data$DoseN_scaled = scale(weightdiff_data$DoseN)"
   ]
  },
  {
   "cell_type": "code",
   "execution_count": 14,
   "metadata": {},
   "outputs": [],
   "source": [
    "weightdiff_mm <- lme(fixed = PertePoids ~ TeaType + #C_over_N + \n",
    "                       NitrogenType + DoseN_scaled*TeaType,\n",
    "                     random = ~ 1 | Farmers/Site, #/DoseRep,\n",
    "                     data = weightdiff_data)"
   ]
  },
  {
   "cell_type": "code",
   "execution_count": 15,
   "metadata": {},
   "outputs": [
    {
     "data": {
      "text/plain": [
       "Linear mixed-effects model fit by REML\n",
       " Data: weightdiff_data \n",
       "        AIC       BIC   logLik\n",
       "  -4768.036 -4702.146 2400.018\n",
       "\n",
       "Random effects:\n",
       " Formula: ~1 | Farmers\n",
       "        (Intercept)\n",
       "StdDev: 0.000455883\n",
       "\n",
       " Formula: ~1 | Site %in% Farmers\n",
       "         (Intercept)   Residual\n",
       "StdDev: 0.0005370296 0.00114188\n",
       "\n",
       "Fixed effects: PertePoids ~ TeaType + NitrogenType + DoseN_scaled * TeaType \n",
       "                                        Value    Std.Error  DF  t-value p-value\n",
       "(Intercept)                       0.000263586 0.0004452691 451  0.59197  0.5542\n",
       "TeaTypeGreen tea                  0.009430244 0.0001437320 451 65.60990  0.0000\n",
       "TeaTypeHibiscus Tea               0.003919104 0.0002016727 451 19.43299  0.0000\n",
       "TeaTypeRooibos tea                0.002965359 0.0001438861 451 20.60907  0.0000\n",
       "TeaTypeSencha Tea                 0.012679921 0.0002071557 451 61.20962  0.0000\n",
       "NitrogenTypeN-6-1-1               0.000375193 0.0004117926 451  0.91112  0.3627\n",
       "NitrogenTypeN-8-0-0               0.000541718 0.0004462445 451  1.21395  0.2254\n",
       "NitrogenTypeN-SCU                 0.000196402 0.0001973399 451  0.99525  0.3201\n",
       "DoseN_scaled                      0.000090266 0.0001014364 451  0.88988  0.3740\n",
       "TeaTypeGreen tea:DoseN_scaled    -0.000272932 0.0001441085 451 -1.89393  0.0589\n",
       "TeaTypeHibiscus Tea:DoseN_scaled -0.000276760 0.0002016588 451 -1.37242  0.1706\n",
       "TeaTypeRooibos tea:DoseN_scaled  -0.000130191 0.0001426127 451 -0.91290  0.3618\n",
       "TeaTypeSencha Tea:DoseN_scaled   -0.000870254 0.0002065026 451 -4.21425  0.0000\n",
       " Correlation: \n",
       "                                 (Intr) TTypGt TTypHT TTypRt TTypST NTN-6-\n",
       "TeaTypeGreen tea                 -0.160                                   \n",
       "TeaTypeHibiscus Tea              -0.108  0.350                            \n",
       "TeaTypeRooibos tea               -0.134  0.489  0.343                     \n",
       "TeaTypeSencha Tea                -0.105  0.342  0.270  0.331              \n",
       "NitrogenTypeN-6-1-1              -0.214  0.007 -0.011 -0.125 -0.015       \n",
       "NitrogenTypeN-8-0-0              -0.243  0.007  0.003 -0.101  0.014  0.818\n",
       "NitrogenTypeN-SCU                -0.050 -0.006 -0.135  0.048 -0.194  0.077\n",
       "DoseN_scaled                      0.005 -0.017  0.001 -0.020  0.008 -0.024\n",
       "TeaTypeGreen tea:DoseN_scaled    -0.002  0.015  0.012  0.011  0.012  0.004\n",
       "TeaTypeHibiscus Tea:DoseN_scaled  0.000  0.009 -0.027  0.005  0.023 -0.007\n",
       "TeaTypeRooibos tea:DoseN_scaled   0.010  0.012  0.005  0.017  0.004 -0.076\n",
       "TeaTypeSencha Tea:DoseN_scaled    0.004  0.009  0.026  0.002  0.048 -0.017\n",
       "                                 NTN-8- NTN-SC DsN_sc TTGt:D TTHT:D TTRt:D\n",
       "TeaTypeGreen tea                                                          \n",
       "TeaTypeHibiscus Tea                                                       \n",
       "TeaTypeRooibos tea                                                        \n",
       "TeaTypeSencha Tea                                                         \n",
       "NitrogenTypeN-6-1-1                                                       \n",
       "NitrogenTypeN-8-0-0                                                       \n",
       "NitrogenTypeN-SCU                 0.044                                   \n",
       "DoseN_scaled                      0.025 -0.094                            \n",
       "TeaTypeGreen tea:DoseN_scaled    -0.008 -0.018 -0.693                     \n",
       "TeaTypeHibiscus Tea:DoseN_scaled  0.003 -0.086 -0.485  0.349              \n",
       "TeaTypeRooibos tea:DoseN_scaled  -0.060  0.028 -0.701  0.492  0.350       \n",
       "TeaTypeSencha Tea:DoseN_scaled   -0.001 -0.151 -0.467  0.342  0.256  0.340\n",
       "\n",
       "Standardized Within-Group Residuals:\n",
       "        Min          Q1         Med          Q3         Max \n",
       "-6.53207781 -0.47061209 -0.01195624  0.39164055  4.17302781 \n",
       "\n",
       "Number of Observations: 467\n",
       "Number of Groups: \n",
       "          Farmers Site %in% Farmers \n",
       "                2                 4 "
      ]
     },
     "metadata": {},
     "output_type": "display_data"
    }
   ],
   "source": [
    "summary(weightdiff_mm)"
   ]
  },
  {
   "cell_type": "code",
   "execution_count": 16,
   "metadata": {},
   "outputs": [
    {
     "data": {
      "text/html": [
       "<table>\n",
       "<thead><tr><th></th><th scope=col>numDF</th><th scope=col>denDF</th><th scope=col>F-value</th><th scope=col>p-value</th></tr></thead>\n",
       "<tbody>\n",
       "\t<tr><th scope=row>(Intercept)</th><td>1           </td><td>451         </td><td> 153.9293881</td><td>0.000000000 </td></tr>\n",
       "\t<tr><th scope=row>TeaType</th><td>4           </td><td>451         </td><td>1671.0689584</td><td>0.000000000 </td></tr>\n",
       "\t<tr><th scope=row>NitrogenType</th><td>3           </td><td>451         </td><td>   0.6582364</td><td>0.578117220 </td></tr>\n",
       "\t<tr><th scope=row>DoseN_scaled</th><td>1           </td><td>451         </td><td>   4.0203558</td><td>0.045551301 </td></tr>\n",
       "\t<tr><th scope=row>TeaType:DoseN_scaled</th><td>4           </td><td>451         </td><td>   4.7001931</td><td>0.001003031 </td></tr>\n",
       "</tbody>\n",
       "</table>\n"
      ],
      "text/latex": [
       "\\begin{tabular}{r|llll}\n",
       "  & numDF & denDF & F-value & p-value\\\\\n",
       "\\hline\n",
       "\t(Intercept) & 1            & 451          &  153.9293881 & 0.000000000 \\\\\n",
       "\tTeaType & 4            & 451          & 1671.0689584 & 0.000000000 \\\\\n",
       "\tNitrogenType & 3            & 451          &    0.6582364 & 0.578117220 \\\\\n",
       "\tDoseN\\_scaled & 1            & 451          &    4.0203558 & 0.045551301 \\\\\n",
       "\tTeaType:DoseN\\_scaled & 4            & 451          &    4.7001931 & 0.001003031 \\\\\n",
       "\\end{tabular}\n"
      ],
      "text/markdown": [
       "\n",
       "| <!--/--> | numDF | denDF | F-value | p-value |\n",
       "|---|---|---|---|---|\n",
       "| (Intercept) | 1            | 451          |  153.9293881 | 0.000000000  |\n",
       "| TeaType | 4            | 451          | 1671.0689584 | 0.000000000  |\n",
       "| NitrogenType | 3            | 451          |    0.6582364 | 0.578117220  |\n",
       "| DoseN_scaled | 1            | 451          |    4.0203558 | 0.045551301  |\n",
       "| TeaType:DoseN_scaled | 4            | 451          |    4.7001931 | 0.001003031  |\n",
       "\n"
      ],
      "text/plain": [
       "                     numDF denDF F-value      p-value    \n",
       "(Intercept)          1     451    153.9293881 0.000000000\n",
       "TeaType              4     451   1671.0689584 0.000000000\n",
       "NitrogenType         3     451      0.6582364 0.578117220\n",
       "DoseN_scaled         1     451      4.0203558 0.045551301\n",
       "TeaType:DoseN_scaled 4     451      4.7001931 0.001003031"
      ]
     },
     "metadata": {},
     "output_type": "display_data"
    }
   ],
   "source": [
    "anova(weightdiff_mm)"
   ]
  },
  {
   "cell_type": "code",
   "execution_count": 17,
   "metadata": {},
   "outputs": [
    {
     "data": {
      "text/html": [
       "0.923308736925138"
      ],
      "text/latex": [
       "0.923308736925138"
      ],
      "text/markdown": [
       "0.923308736925138"
      ],
      "text/plain": [
       "[1] 0.9233087"
      ]
     },
     "metadata": {},
     "output_type": "display_data"
    }
   ],
   "source": [
    "pseudoR2(y = weightdiff_data$PertePoids,\n",
    "         y_hat = predict(weightdiff_mm, level = 0))"
   ]
  },
  {
   "cell_type": "code",
   "execution_count": 18,
   "metadata": {},
   "outputs": [
    {
     "name": "stdout",
     "output_type": "stream",
     "text": [
      "[1] \"Shapiro-Wilk:\"\n",
      "\n",
      "\tShapiro-Wilk normality test\n",
      "\n",
      "data:  r\n",
      "W = 0.89819, p-value < 2.2e-16\n",
      "\n",
      "[1] \"Kurtosis: 7.23353285294641\"\n",
      "[1] \"Skewness: -0.718410912629998\"\n"
     ]
    },
    {
     "data": {
      "image/png": "[encoded data removed]",
      "text/plain": [
       "Plot with title \"\""
      ]
     },
     "metadata": {},
     "output_type": "display_data"
    }
   ],
   "source": [
    "residues(weightdiff_mm)"
   ]
  },
  {
   "cell_type": "code",
   "execution_count": 19,
   "metadata": {},
   "outputs": [],
   "source": [
    "weightdiff_gg = data.frame(intervals(weightdiff_mm, which = \"fixed\")$fixed)"
   ]
  },
  {
   "cell_type": "code",
   "execution_count": 20,
   "metadata": {},
   "outputs": [],
   "source": [
    "weightdiff_gg$pvalue = summary(weightdiff_mm)$tTable[, 5]"
   ]
  },
  {
   "cell_type": "code",
   "execution_count": 21,
   "metadata": {},
   "outputs": [],
   "source": [
    "weightdiff_gg$is_significant = ifelse(weightdiff_gg$pvalue <= 0.05,\n",
    "                                      'Significant at 0.05 level',\n",
    "                                      'Not significant at 0.05 level')"
   ]
  },
  {
   "cell_type": "code",
   "execution_count": 22,
   "metadata": {},
   "outputs": [],
   "source": [
    "weightdiff_gg$variable = rownames(weightdiff_gg)"
   ]
  },
  {
   "cell_type": "code",
   "execution_count": 23,
   "metadata": {},
   "outputs": [
    {
     "data": {
      "text/html": [
       "<table>\n",
       "<thead><tr><th></th><th scope=col>lower</th><th scope=col>est.</th><th scope=col>upper</th><th scope=col>pvalue</th><th scope=col>is_significant</th><th scope=col>variable</th></tr></thead>\n",
       "<tbody>\n",
       "\t<tr><th scope=row>(Intercept)</th><td>-0.0006114733                   </td><td> 2.635865e-04                   </td><td> 1.138646e-03                   </td><td> 5.541665e-01                   </td><td>Not significant at 0.05 level   </td><td>(Intercept)                     </td></tr>\n",
       "\t<tr><th scope=row>TeaTypeGreen tea</th><td> 0.0091477761                   </td><td> 9.430244e-03                   </td><td> 9.712711e-03                   </td><td>7.979065e-233                   </td><td>Significant at 0.05 level       </td><td>TeaTypeGreen tea                </td></tr>\n",
       "\t<tr><th scope=row>TeaTypeHibiscus Tea</th><td> 0.0035227689                   </td><td> 3.919104e-03                   </td><td> 4.315439e-03                   </td><td> 1.476689e-61                   </td><td>Significant at 0.05 level       </td><td>TeaTypeHibiscus Tea             </td></tr>\n",
       "\t<tr><th scope=row>TeaTypeRooibos tea</th><td> 0.0026825883                   </td><td> 2.965359e-03                   </td><td> 3.248129e-03                   </td><td> 5.528742e-67                   </td><td>Significant at 0.05 level       </td><td>TeaTypeRooibos tea              </td></tr>\n",
       "\t<tr><th scope=row>TeaTypeSencha Tea</th><td> 0.0122728105                   </td><td> 1.267992e-02                   </td><td> 1.308703e-02                   </td><td>1.345405e-220                   </td><td>Significant at 0.05 level       </td><td>TeaTypeSencha Tea               </td></tr>\n",
       "\t<tr><th scope=row>NitrogenTypeN-6-1-1</th><td>-0.0004340772                   </td><td> 3.751933e-04                   </td><td> 1.184464e-03                   </td><td> 3.627178e-01                   </td><td>Not significant at 0.05 level   </td><td>NitrogenTypeN-6-1-1             </td></tr>\n",
       "\t<tr><th scope=row>NitrogenTypeN-8-0-0</th><td>-0.0003352582                   </td><td> 5.417184e-04                   </td><td> 1.418695e-03                   </td><td> 2.254022e-01                   </td><td>Not significant at 0.05 level   </td><td>NitrogenTypeN-8-0-0             </td></tr>\n",
       "\t<tr><th scope=row>NitrogenTypeN-SCU</th><td>-0.0001914179                   </td><td> 1.964019e-04                   </td><td> 5.842216e-04                   </td><td> 3.201500e-01                   </td><td>Not significant at 0.05 level   </td><td>NitrogenTypeN-SCU               </td></tr>\n",
       "\t<tr><th scope=row>DoseN_scaled</th><td>-0.0001090804                   </td><td> 9.026628e-05                   </td><td> 2.896129e-04                   </td><td> 3.740044e-01                   </td><td>Not significant at 0.05 level   </td><td>DoseN_scaled                    </td></tr>\n",
       "\t<tr><th scope=row>TeaTypeGreen tea:DoseN_scaled</th><td>-0.0005561391                   </td><td>-2.729316e-04                   </td><td> 1.027598e-05                   </td><td> 5.887384e-02                   </td><td>Not significant at 0.05 level   </td><td>TeaTypeGreen tea:DoseN_scaled   </td></tr>\n",
       "\t<tr><th scope=row>TeaTypeHibiscus Tea:DoseN_scaled</th><td>-0.0006730676                   </td><td>-2.767600e-04                   </td><td> 1.195476e-04                   </td><td> 1.706158e-01                   </td><td>Not significant at 0.05 level   </td><td>TeaTypeHibiscus Tea:DoseN_scaled</td></tr>\n",
       "\t<tr><th scope=row>TeaTypeRooibos tea:DoseN_scaled</th><td>-0.0004104593                   </td><td>-1.301914e-04                   </td><td> 1.500764e-04                   </td><td> 3.617818e-01                   </td><td>Not significant at 0.05 level   </td><td>TeaTypeRooibos tea:DoseN_scaled </td></tr>\n",
       "\t<tr><th scope=row>TeaTypeSencha Tea:DoseN_scaled</th><td>-0.0012760808                   </td><td>-8.702541e-04                   </td><td>-4.644273e-04                   </td><td> 3.028391e-05                   </td><td>Significant at 0.05 level       </td><td>TeaTypeSencha Tea:DoseN_scaled  </td></tr>\n",
       "</tbody>\n",
       "</table>\n"
      ],
      "text/latex": [
       "\\begin{tabular}{r|llllll}\n",
       "  & lower & est. & upper & pvalue & is\\_significant & variable\\\\\n",
       "\\hline\n",
       "\t(Intercept) & -0.0006114733                    &  2.635865e-04                    &  1.138646e-03                    &  5.541665e-01                    & Not significant at 0.05 level    & (Intercept)                     \\\\\n",
       "\tTeaTypeGreen tea &  0.0091477761                    &  9.430244e-03                    &  9.712711e-03                    & 7.979065e-233                    & Significant at 0.05 level        & TeaTypeGreen tea                \\\\\n",
       "\tTeaTypeHibiscus Tea &  0.0035227689                    &  3.919104e-03                    &  4.315439e-03                    &  1.476689e-61                    & Significant at 0.05 level        & TeaTypeHibiscus Tea             \\\\\n",
       "\tTeaTypeRooibos tea &  0.0026825883                    &  2.965359e-03                    &  3.248129e-03                    &  5.528742e-67                    & Significant at 0.05 level        & TeaTypeRooibos tea              \\\\\n",
       "\tTeaTypeSencha Tea &  0.0122728105                    &  1.267992e-02                    &  1.308703e-02                    & 1.345405e-220                    & Significant at 0.05 level        & TeaTypeSencha Tea               \\\\\n",
       "\tNitrogenTypeN-6-1-1 & -0.0004340772                    &  3.751933e-04                    &  1.184464e-03                    &  3.627178e-01                    & Not significant at 0.05 level    & NitrogenTypeN-6-1-1             \\\\\n",
       "\tNitrogenTypeN-8-0-0 & -0.0003352582                    &  5.417184e-04                    &  1.418695e-03                    &  2.254022e-01                    & Not significant at 0.05 level    & NitrogenTypeN-8-0-0             \\\\\n",
       "\tNitrogenTypeN-SCU & -0.0001914179                    &  1.964019e-04                    &  5.842216e-04                    &  3.201500e-01                    & Not significant at 0.05 level    & NitrogenTypeN-SCU               \\\\\n",
       "\tDoseN\\_scaled & -0.0001090804                      &  9.026628e-05                      &  2.896129e-04                      &  3.740044e-01                      & Not significant at 0.05 level      & DoseN\\_scaled                    \\\\\n",
       "\tTeaTypeGreen tea:DoseN\\_scaled & -0.0005561391                      & -2.729316e-04                      &  1.027598e-05                      &  5.887384e-02                      & Not significant at 0.05 level      & TeaTypeGreen tea:DoseN\\_scaled   \\\\\n",
       "\tTeaTypeHibiscus Tea:DoseN\\_scaled & -0.0006730676                      & -2.767600e-04                      &  1.195476e-04                      &  1.706158e-01                      & Not significant at 0.05 level      & TeaTypeHibiscus Tea:DoseN\\_scaled\\\\\n",
       "\tTeaTypeRooibos tea:DoseN\\_scaled & -0.0004104593                      & -1.301914e-04                      &  1.500764e-04                      &  3.617818e-01                      & Not significant at 0.05 level      & TeaTypeRooibos tea:DoseN\\_scaled \\\\\n",
       "\tTeaTypeSencha Tea:DoseN\\_scaled & -0.0012760808                      & -8.702541e-04                      & -4.644273e-04                      &  3.028391e-05                      & Significant at 0.05 level          & TeaTypeSencha Tea:DoseN\\_scaled  \\\\\n",
       "\\end{tabular}\n"
      ],
      "text/markdown": [
       "\n",
       "| <!--/--> | lower | est. | upper | pvalue | is_significant | variable |\n",
       "|---|---|---|---|---|---|---|\n",
       "| (Intercept) | -0.0006114733                    |  2.635865e-04                    |  1.138646e-03                    |  5.541665e-01                    | Not significant at 0.05 level    | (Intercept)                      |\n",
       "| TeaTypeGreen tea |  0.0091477761                    |  9.430244e-03                    |  9.712711e-03                    | 7.979065e-233                    | Significant at 0.05 level        | TeaTypeGreen tea                 |\n",
       "| TeaTypeHibiscus Tea |  0.0035227689                    |  3.919104e-03                    |  4.315439e-03                    |  1.476689e-61                    | Significant at 0.05 level        | TeaTypeHibiscus Tea              |\n",
       "| TeaTypeRooibos tea |  0.0026825883                    |  2.965359e-03                    |  3.248129e-03                    |  5.528742e-67                    | Significant at 0.05 level        | TeaTypeRooibos tea               |\n",
       "| TeaTypeSencha Tea |  0.0122728105                    |  1.267992e-02                    |  1.308703e-02                    | 1.345405e-220                    | Significant at 0.05 level        | TeaTypeSencha Tea                |\n",
       "| NitrogenTypeN-6-1-1 | -0.0004340772                    |  3.751933e-04                    |  1.184464e-03                    |  3.627178e-01                    | Not significant at 0.05 level    | NitrogenTypeN-6-1-1              |\n",
       "| NitrogenTypeN-8-0-0 | -0.0003352582                    |  5.417184e-04                    |  1.418695e-03                    |  2.254022e-01                    | Not significant at 0.05 level    | NitrogenTypeN-8-0-0              |\n",
       "| NitrogenTypeN-SCU | -0.0001914179                    |  1.964019e-04                    |  5.842216e-04                    |  3.201500e-01                    | Not significant at 0.05 level    | NitrogenTypeN-SCU                |\n",
       "| DoseN_scaled | -0.0001090804                    |  9.026628e-05                    |  2.896129e-04                    |  3.740044e-01                    | Not significant at 0.05 level    | DoseN_scaled                     |\n",
       "| TeaTypeGreen tea:DoseN_scaled | -0.0005561391                    | -2.729316e-04                    |  1.027598e-05                    |  5.887384e-02                    | Not significant at 0.05 level    | TeaTypeGreen tea:DoseN_scaled    |\n",
       "| TeaTypeHibiscus Tea:DoseN_scaled | -0.0006730676                    | -2.767600e-04                    |  1.195476e-04                    |  1.706158e-01                    | Not significant at 0.05 level    | TeaTypeHibiscus Tea:DoseN_scaled |\n",
       "| TeaTypeRooibos tea:DoseN_scaled | -0.0004104593                    | -1.301914e-04                    |  1.500764e-04                    |  3.617818e-01                    | Not significant at 0.05 level    | TeaTypeRooibos tea:DoseN_scaled  |\n",
       "| TeaTypeSencha Tea:DoseN_scaled | -0.0012760808                    | -8.702541e-04                    | -4.644273e-04                    |  3.028391e-05                    | Significant at 0.05 level        | TeaTypeSencha Tea:DoseN_scaled   |\n",
       "\n"
      ],
      "text/plain": [
       "                                 lower         est.          upper        \n",
       "(Intercept)                      -0.0006114733  2.635865e-04  1.138646e-03\n",
       "TeaTypeGreen tea                  0.0091477761  9.430244e-03  9.712711e-03\n",
       "TeaTypeHibiscus Tea               0.0035227689  3.919104e-03  4.315439e-03\n",
       "TeaTypeRooibos tea                0.0026825883  2.965359e-03  3.248129e-03\n",
       "TeaTypeSencha Tea                 0.0122728105  1.267992e-02  1.308703e-02\n",
       "NitrogenTypeN-6-1-1              -0.0004340772  3.751933e-04  1.184464e-03\n",
       "NitrogenTypeN-8-0-0              -0.0003352582  5.417184e-04  1.418695e-03\n",
       "NitrogenTypeN-SCU                -0.0001914179  1.964019e-04  5.842216e-04\n",
       "DoseN_scaled                     -0.0001090804  9.026628e-05  2.896129e-04\n",
       "TeaTypeGreen tea:DoseN_scaled    -0.0005561391 -2.729316e-04  1.027598e-05\n",
       "TeaTypeHibiscus Tea:DoseN_scaled -0.0006730676 -2.767600e-04  1.195476e-04\n",
       "TeaTypeRooibos tea:DoseN_scaled  -0.0004104593 -1.301914e-04  1.500764e-04\n",
       "TeaTypeSencha Tea:DoseN_scaled   -0.0012760808 -8.702541e-04 -4.644273e-04\n",
       "                                 pvalue        is_significant               \n",
       "(Intercept)                       5.541665e-01 Not significant at 0.05 level\n",
       "TeaTypeGreen tea                 7.979065e-233 Significant at 0.05 level    \n",
       "TeaTypeHibiscus Tea               1.476689e-61 Significant at 0.05 level    \n",
       "TeaTypeRooibos tea                5.528742e-67 Significant at 0.05 level    \n",
       "TeaTypeSencha Tea                1.345405e-220 Significant at 0.05 level    \n",
       "NitrogenTypeN-6-1-1               3.627178e-01 Not significant at 0.05 level\n",
       "NitrogenTypeN-8-0-0               2.254022e-01 Not significant at 0.05 level\n",
       "NitrogenTypeN-SCU                 3.201500e-01 Not significant at 0.05 level\n",
       "DoseN_scaled                      3.740044e-01 Not significant at 0.05 level\n",
       "TeaTypeGreen tea:DoseN_scaled     5.887384e-02 Not significant at 0.05 level\n",
       "TeaTypeHibiscus Tea:DoseN_scaled  1.706158e-01 Not significant at 0.05 level\n",
       "TeaTypeRooibos tea:DoseN_scaled   3.617818e-01 Not significant at 0.05 level\n",
       "TeaTypeSencha Tea:DoseN_scaled    3.028391e-05 Significant at 0.05 level    \n",
       "                                 variable                        \n",
       "(Intercept)                      (Intercept)                     \n",
       "TeaTypeGreen tea                 TeaTypeGreen tea                \n",
       "TeaTypeHibiscus Tea              TeaTypeHibiscus Tea             \n",
       "TeaTypeRooibos tea               TeaTypeRooibos tea              \n",
       "TeaTypeSencha Tea                TeaTypeSencha Tea               \n",
       "NitrogenTypeN-6-1-1              NitrogenTypeN-6-1-1             \n",
       "NitrogenTypeN-8-0-0              NitrogenTypeN-8-0-0             \n",
       "NitrogenTypeN-SCU                NitrogenTypeN-SCU               \n",
       "DoseN_scaled                     DoseN_scaled                    \n",
       "TeaTypeGreen tea:DoseN_scaled    TeaTypeGreen tea:DoseN_scaled   \n",
       "TeaTypeHibiscus Tea:DoseN_scaled TeaTypeHibiscus Tea:DoseN_scaled\n",
       "TeaTypeRooibos tea:DoseN_scaled  TeaTypeRooibos tea:DoseN_scaled \n",
       "TeaTypeSencha Tea:DoseN_scaled   TeaTypeSencha Tea:DoseN_scaled  "
      ]
     },
     "metadata": {},
     "output_type": "display_data"
    }
   ],
   "source": [
    "weightdiff_gg"
   ]
  },
  {
   "cell_type": "markdown",
   "metadata": {},
   "source": [
    "### - Ajust name"
   ]
  },
  {
   "cell_type": "code",
   "execution_count": 24,
   "metadata": {},
   "outputs": [],
   "source": [
    "weightdiff_gg$variable[c(2,3,4,5,6,7,8,10,11,12,13)] <- c('Green Tea','Hibiscus Tea','Rooibos Tea',\n",
    "                                   'Sencha Tea', 'N-6-1-1','N-8-0-0', 'N-SCU-39-0-0',\n",
    "                                   'Green Tea : DoseN_scaled',\n",
    "                                   'Hibiscus Tea : DoseN_scaled','Rooibos Tea : DoseN_scaled',\n",
    "                                   'Sencha Tea : DoseN_scaled')"
   ]
  },
  {
   "cell_type": "code",
   "execution_count": 25,
   "metadata": {},
   "outputs": [
    {
     "data": {
      "text/html": [
       "<ol class=list-inline>\n",
       "\t<li>'(Intercept)'</li>\n",
       "\t<li>'Green Tea'</li>\n",
       "\t<li>'Hibiscus Tea'</li>\n",
       "\t<li>'Rooibos Tea'</li>\n",
       "\t<li>'Sencha Tea'</li>\n",
       "\t<li>'N-6-1-1'</li>\n",
       "\t<li>'N-8-0-0'</li>\n",
       "\t<li>'N-SCU-39-0-0'</li>\n",
       "\t<li>'DoseN_scaled'</li>\n",
       "\t<li>'Green Tea : DoseN_scaled'</li>\n",
       "\t<li>'Hibiscus Tea : DoseN_scaled'</li>\n",
       "\t<li>'Rooibos Tea : DoseN_scaled'</li>\n",
       "\t<li>'Sencha Tea : DoseN_scaled'</li>\n",
       "</ol>\n"
      ],
      "text/latex": [
       "\\begin{enumerate*}\n",
       "\\item '(Intercept)'\n",
       "\\item 'Green Tea'\n",
       "\\item 'Hibiscus Tea'\n",
       "\\item 'Rooibos Tea'\n",
       "\\item 'Sencha Tea'\n",
       "\\item 'N-6-1-1'\n",
       "\\item 'N-8-0-0'\n",
       "\\item 'N-SCU-39-0-0'\n",
       "\\item 'DoseN\\_scaled'\n",
       "\\item 'Green Tea : DoseN\\_scaled'\n",
       "\\item 'Hibiscus Tea : DoseN\\_scaled'\n",
       "\\item 'Rooibos Tea : DoseN\\_scaled'\n",
       "\\item 'Sencha Tea : DoseN\\_scaled'\n",
       "\\end{enumerate*}\n"
      ],
      "text/markdown": [
       "1. '(Intercept)'\n",
       "2. 'Green Tea'\n",
       "3. 'Hibiscus Tea'\n",
       "4. 'Rooibos Tea'\n",
       "5. 'Sencha Tea'\n",
       "6. 'N-6-1-1'\n",
       "7. 'N-8-0-0'\n",
       "8. 'N-SCU-39-0-0'\n",
       "9. 'DoseN_scaled'\n",
       "10. 'Green Tea : DoseN_scaled'\n",
       "11. 'Hibiscus Tea : DoseN_scaled'\n",
       "12. 'Rooibos Tea : DoseN_scaled'\n",
       "13. 'Sencha Tea : DoseN_scaled'\n",
       "\n",
       "\n"
      ],
      "text/plain": [
       " [1] \"(Intercept)\"                 \"Green Tea\"                  \n",
       " [3] \"Hibiscus Tea\"                \"Rooibos Tea\"                \n",
       " [5] \"Sencha Tea\"                  \"N-6-1-1\"                    \n",
       " [7] \"N-8-0-0\"                     \"N-SCU-39-0-0\"               \n",
       " [9] \"DoseN_scaled\"                \"Green Tea : DoseN_scaled\"   \n",
       "[11] \"Hibiscus Tea : DoseN_scaled\" \"Rooibos Tea : DoseN_scaled\" \n",
       "[13] \"Sencha Tea : DoseN_scaled\"  "
      ]
     },
     "metadata": {},
     "output_type": "display_data"
    }
   ],
   "source": [
    "weightdiff_gg$variable"
   ]
  },
  {
   "cell_type": "code",
   "execution_count": 26,
   "metadata": {},
   "outputs": [],
   "source": [
    "target <- c('(Intercept)',\"Hibiscus Tea\", \"Rooibos Tea\", \"Sencha Tea\", \"Green Tea\",'N-6-1-1','N-8-0-0', \n",
    "            'N-SCU-39-0-0',\"DoseN_scaled\", 'Green Tea : DoseN_scaled', \n",
    "            'Sencha Tea : DoseN_scaled', 'Rooibos Tea : DoseN_scaled', 'Hibiscus Tea : DoseN_scaled')"
   ]
  },
  {
   "cell_type": "code",
   "execution_count": 27,
   "metadata": {},
   "outputs": [
    {
     "data": {
      "text/html": [
       "<ol class=list-inline>\n",
       "\t<li>'(Intercept)'</li>\n",
       "\t<li>'Hibiscus Tea'</li>\n",
       "\t<li>'Rooibos Tea'</li>\n",
       "\t<li>'Sencha Tea'</li>\n",
       "\t<li>'Green Tea'</li>\n",
       "\t<li>'N-6-1-1'</li>\n",
       "\t<li>'N-8-0-0'</li>\n",
       "\t<li>'N-SCU-39-0-0'</li>\n",
       "\t<li>'DoseN_scaled'</li>\n",
       "\t<li>'Green Tea : DoseN_scaled'</li>\n",
       "\t<li>'Sencha Tea : DoseN_scaled'</li>\n",
       "\t<li>'Rooibos Tea : DoseN_scaled'</li>\n",
       "\t<li>'Hibiscus Tea : DoseN_scaled'</li>\n",
       "</ol>\n"
      ],
      "text/latex": [
       "\\begin{enumerate*}\n",
       "\\item '(Intercept)'\n",
       "\\item 'Hibiscus Tea'\n",
       "\\item 'Rooibos Tea'\n",
       "\\item 'Sencha Tea'\n",
       "\\item 'Green Tea'\n",
       "\\item 'N-6-1-1'\n",
       "\\item 'N-8-0-0'\n",
       "\\item 'N-SCU-39-0-0'\n",
       "\\item 'DoseN\\_scaled'\n",
       "\\item 'Green Tea : DoseN\\_scaled'\n",
       "\\item 'Sencha Tea : DoseN\\_scaled'\n",
       "\\item 'Rooibos Tea : DoseN\\_scaled'\n",
       "\\item 'Hibiscus Tea : DoseN\\_scaled'\n",
       "\\end{enumerate*}\n"
      ],
      "text/markdown": [
       "1. '(Intercept)'\n",
       "2. 'Hibiscus Tea'\n",
       "3. 'Rooibos Tea'\n",
       "4. 'Sencha Tea'\n",
       "5. 'Green Tea'\n",
       "6. 'N-6-1-1'\n",
       "7. 'N-8-0-0'\n",
       "8. 'N-SCU-39-0-0'\n",
       "9. 'DoseN_scaled'\n",
       "10. 'Green Tea : DoseN_scaled'\n",
       "11. 'Sencha Tea : DoseN_scaled'\n",
       "12. 'Rooibos Tea : DoseN_scaled'\n",
       "13. 'Hibiscus Tea : DoseN_scaled'\n",
       "\n",
       "\n"
      ],
      "text/plain": [
       " [1] \"(Intercept)\"                 \"Hibiscus Tea\"               \n",
       " [3] \"Rooibos Tea\"                 \"Sencha Tea\"                 \n",
       " [5] \"Green Tea\"                   \"N-6-1-1\"                    \n",
       " [7] \"N-8-0-0\"                     \"N-SCU-39-0-0\"               \n",
       " [9] \"DoseN_scaled\"                \"Green Tea : DoseN_scaled\"   \n",
       "[11] \"Sencha Tea : DoseN_scaled\"   \"Rooibos Tea : DoseN_scaled\" \n",
       "[13] \"Hibiscus Tea : DoseN_scaled\""
      ]
     },
     "metadata": {},
     "output_type": "display_data"
    }
   ],
   "source": [
    "target "
   ]
  },
  {
   "cell_type": "code",
   "execution_count": 28,
   "metadata": {},
   "outputs": [
    {
     "data": {
      "text/html": [
       "<ol class=list-inline>\n",
       "\t<li>'(Intercept)'</li>\n",
       "\t<li>'Green Tea'</li>\n",
       "\t<li>'Hibiscus Tea'</li>\n",
       "\t<li>'Rooibos Tea'</li>\n",
       "\t<li>'Sencha Tea'</li>\n",
       "\t<li>'N-6-1-1'</li>\n",
       "\t<li>'N-8-0-0'</li>\n",
       "\t<li>'N-SCU-39-0-0'</li>\n",
       "\t<li>'DoseN_scaled'</li>\n",
       "\t<li>'Green Tea : DoseN_scaled'</li>\n",
       "\t<li>'Hibiscus Tea : DoseN_scaled'</li>\n",
       "\t<li>'Rooibos Tea : DoseN_scaled'</li>\n",
       "\t<li>'Sencha Tea : DoseN_scaled'</li>\n",
       "</ol>\n"
      ],
      "text/latex": [
       "\\begin{enumerate*}\n",
       "\\item '(Intercept)'\n",
       "\\item 'Green Tea'\n",
       "\\item 'Hibiscus Tea'\n",
       "\\item 'Rooibos Tea'\n",
       "\\item 'Sencha Tea'\n",
       "\\item 'N-6-1-1'\n",
       "\\item 'N-8-0-0'\n",
       "\\item 'N-SCU-39-0-0'\n",
       "\\item 'DoseN\\_scaled'\n",
       "\\item 'Green Tea : DoseN\\_scaled'\n",
       "\\item 'Hibiscus Tea : DoseN\\_scaled'\n",
       "\\item 'Rooibos Tea : DoseN\\_scaled'\n",
       "\\item 'Sencha Tea : DoseN\\_scaled'\n",
       "\\end{enumerate*}\n"
      ],
      "text/markdown": [
       "1. '(Intercept)'\n",
       "2. 'Green Tea'\n",
       "3. 'Hibiscus Tea'\n",
       "4. 'Rooibos Tea'\n",
       "5. 'Sencha Tea'\n",
       "6. 'N-6-1-1'\n",
       "7. 'N-8-0-0'\n",
       "8. 'N-SCU-39-0-0'\n",
       "9. 'DoseN_scaled'\n",
       "10. 'Green Tea : DoseN_scaled'\n",
       "11. 'Hibiscus Tea : DoseN_scaled'\n",
       "12. 'Rooibos Tea : DoseN_scaled'\n",
       "13. 'Sencha Tea : DoseN_scaled'\n",
       "\n",
       "\n"
      ],
      "text/plain": [
       " [1] \"(Intercept)\"                 \"Green Tea\"                  \n",
       " [3] \"Hibiscus Tea\"                \"Rooibos Tea\"                \n",
       " [5] \"Sencha Tea\"                  \"N-6-1-1\"                    \n",
       " [7] \"N-8-0-0\"                     \"N-SCU-39-0-0\"               \n",
       " [9] \"DoseN_scaled\"                \"Green Tea : DoseN_scaled\"   \n",
       "[11] \"Hibiscus Tea : DoseN_scaled\" \"Rooibos Tea : DoseN_scaled\" \n",
       "[13] \"Sencha Tea : DoseN_scaled\"  "
      ]
     },
     "metadata": {},
     "output_type": "display_data"
    }
   ],
   "source": [
    "weightdiff_gg$variable"
   ]
  },
  {
   "cell_type": "code",
   "execution_count": 29,
   "metadata": {},
   "outputs": [],
   "source": [
    "weightdiff_gg <- weightdiff_gg[match(target, weightdiff_gg$variable),] "
   ]
  },
  {
   "cell_type": "code",
   "execution_count": 30,
   "metadata": {},
   "outputs": [
    {
     "data": {
      "text/html": [
       "<table>\n",
       "<thead><tr><th></th><th scope=col>lower</th><th scope=col>est.</th><th scope=col>upper</th><th scope=col>pvalue</th><th scope=col>is_significant</th><th scope=col>variable</th></tr></thead>\n",
       "<tbody>\n",
       "\t<tr><th scope=row>(Intercept)</th><td>-0.0006114733                </td><td> 2.635865e-04                </td><td> 1.138646e-03                </td><td> 5.541665e-01                </td><td>Not significant at 0.05 level</td><td>(Intercept)                  </td></tr>\n",
       "\t<tr><th scope=row>TeaTypeHibiscus Tea</th><td> 0.0035227689                </td><td> 3.919104e-03                </td><td> 4.315439e-03                </td><td> 1.476689e-61                </td><td>Significant at 0.05 level    </td><td>Hibiscus Tea                 </td></tr>\n",
       "\t<tr><th scope=row>TeaTypeRooibos tea</th><td> 0.0026825883                </td><td> 2.965359e-03                </td><td> 3.248129e-03                </td><td> 5.528742e-67                </td><td>Significant at 0.05 level    </td><td>Rooibos Tea                  </td></tr>\n",
       "\t<tr><th scope=row>TeaTypeSencha Tea</th><td> 0.0122728105                </td><td> 1.267992e-02                </td><td> 1.308703e-02                </td><td>1.345405e-220                </td><td>Significant at 0.05 level    </td><td>Sencha Tea                   </td></tr>\n",
       "\t<tr><th scope=row>TeaTypeGreen tea</th><td> 0.0091477761                </td><td> 9.430244e-03                </td><td> 9.712711e-03                </td><td>7.979065e-233                </td><td>Significant at 0.05 level    </td><td>Green Tea                    </td></tr>\n",
       "\t<tr><th scope=row>NitrogenTypeN-6-1-1</th><td>-0.0004340772                </td><td> 3.751933e-04                </td><td> 1.184464e-03                </td><td> 3.627178e-01                </td><td>Not significant at 0.05 level</td><td>N-6-1-1                      </td></tr>\n",
       "\t<tr><th scope=row>NitrogenTypeN-8-0-0</th><td>-0.0003352582                </td><td> 5.417184e-04                </td><td> 1.418695e-03                </td><td> 2.254022e-01                </td><td>Not significant at 0.05 level</td><td>N-8-0-0                      </td></tr>\n",
       "\t<tr><th scope=row>NitrogenTypeN-SCU</th><td>-0.0001914179                </td><td> 1.964019e-04                </td><td> 5.842216e-04                </td><td> 3.201500e-01                </td><td>Not significant at 0.05 level</td><td>N-SCU-39-0-0                 </td></tr>\n",
       "\t<tr><th scope=row>DoseN_scaled</th><td>-0.0001090804                </td><td> 9.026628e-05                </td><td> 2.896129e-04                </td><td> 3.740044e-01                </td><td>Not significant at 0.05 level</td><td>DoseN_scaled                 </td></tr>\n",
       "\t<tr><th scope=row>TeaTypeGreen tea:DoseN_scaled</th><td>-0.0005561391                </td><td>-2.729316e-04                </td><td> 1.027598e-05                </td><td> 5.887384e-02                </td><td>Not significant at 0.05 level</td><td>Green Tea : DoseN_scaled     </td></tr>\n",
       "\t<tr><th scope=row>TeaTypeSencha Tea:DoseN_scaled</th><td>-0.0012760808                </td><td>-8.702541e-04                </td><td>-4.644273e-04                </td><td> 3.028391e-05                </td><td>Significant at 0.05 level    </td><td>Sencha Tea : DoseN_scaled    </td></tr>\n",
       "\t<tr><th scope=row>TeaTypeRooibos tea:DoseN_scaled</th><td>-0.0004104593                </td><td>-1.301914e-04                </td><td> 1.500764e-04                </td><td> 3.617818e-01                </td><td>Not significant at 0.05 level</td><td>Rooibos Tea : DoseN_scaled   </td></tr>\n",
       "\t<tr><th scope=row>TeaTypeHibiscus Tea:DoseN_scaled</th><td>-0.0006730676                </td><td>-2.767600e-04                </td><td> 1.195476e-04                </td><td> 1.706158e-01                </td><td>Not significant at 0.05 level</td><td>Hibiscus Tea : DoseN_scaled  </td></tr>\n",
       "</tbody>\n",
       "</table>\n"
      ],
      "text/latex": [
       "\\begin{tabular}{r|llllll}\n",
       "  & lower & est. & upper & pvalue & is\\_significant & variable\\\\\n",
       "\\hline\n",
       "\t(Intercept) & -0.0006114733                 &  2.635865e-04                 &  1.138646e-03                 &  5.541665e-01                 & Not significant at 0.05 level & (Intercept)                  \\\\\n",
       "\tTeaTypeHibiscus Tea &  0.0035227689                 &  3.919104e-03                 &  4.315439e-03                 &  1.476689e-61                 & Significant at 0.05 level     & Hibiscus Tea                 \\\\\n",
       "\tTeaTypeRooibos tea &  0.0026825883                 &  2.965359e-03                 &  3.248129e-03                 &  5.528742e-67                 & Significant at 0.05 level     & Rooibos Tea                  \\\\\n",
       "\tTeaTypeSencha Tea &  0.0122728105                 &  1.267992e-02                 &  1.308703e-02                 & 1.345405e-220                 & Significant at 0.05 level     & Sencha Tea                   \\\\\n",
       "\tTeaTypeGreen tea &  0.0091477761                 &  9.430244e-03                 &  9.712711e-03                 & 7.979065e-233                 & Significant at 0.05 level     & Green Tea                    \\\\\n",
       "\tNitrogenTypeN-6-1-1 & -0.0004340772                 &  3.751933e-04                 &  1.184464e-03                 &  3.627178e-01                 & Not significant at 0.05 level & N-6-1-1                      \\\\\n",
       "\tNitrogenTypeN-8-0-0 & -0.0003352582                 &  5.417184e-04                 &  1.418695e-03                 &  2.254022e-01                 & Not significant at 0.05 level & N-8-0-0                      \\\\\n",
       "\tNitrogenTypeN-SCU & -0.0001914179                 &  1.964019e-04                 &  5.842216e-04                 &  3.201500e-01                 & Not significant at 0.05 level & N-SCU-39-0-0                 \\\\\n",
       "\tDoseN\\_scaled & -0.0001090804                 &  9.026628e-05                 &  2.896129e-04                 &  3.740044e-01                 & Not significant at 0.05 level & DoseN\\_scaled               \\\\\n",
       "\tTeaTypeGreen tea:DoseN\\_scaled & -0.0005561391                 & -2.729316e-04                 &  1.027598e-05                 &  5.887384e-02                 & Not significant at 0.05 level & Green Tea : DoseN\\_scaled   \\\\\n",
       "\tTeaTypeSencha Tea:DoseN\\_scaled & -0.0012760808                 & -8.702541e-04                 & -4.644273e-04                 &  3.028391e-05                 & Significant at 0.05 level     & Sencha Tea : DoseN\\_scaled  \\\\\n",
       "\tTeaTypeRooibos tea:DoseN\\_scaled & -0.0004104593                 & -1.301914e-04                 &  1.500764e-04                 &  3.617818e-01                 & Not significant at 0.05 level & Rooibos Tea : DoseN\\_scaled \\\\\n",
       "\tTeaTypeHibiscus Tea:DoseN\\_scaled & -0.0006730676                 & -2.767600e-04                 &  1.195476e-04                 &  1.706158e-01                 & Not significant at 0.05 level & Hibiscus Tea : DoseN\\_scaled\\\\\n",
       "\\end{tabular}\n"
      ],
      "text/markdown": [
       "\n",
       "| <!--/--> | lower | est. | upper | pvalue | is_significant | variable |\n",
       "|---|---|---|---|---|---|---|\n",
       "| (Intercept) | -0.0006114733                 |  2.635865e-04                 |  1.138646e-03                 |  5.541665e-01                 | Not significant at 0.05 level | (Intercept)                   |\n",
       "| TeaTypeHibiscus Tea |  0.0035227689                 |  3.919104e-03                 |  4.315439e-03                 |  1.476689e-61                 | Significant at 0.05 level     | Hibiscus Tea                  |\n",
       "| TeaTypeRooibos tea |  0.0026825883                 |  2.965359e-03                 |  3.248129e-03                 |  5.528742e-67                 | Significant at 0.05 level     | Rooibos Tea                   |\n",
       "| TeaTypeSencha Tea |  0.0122728105                 |  1.267992e-02                 |  1.308703e-02                 | 1.345405e-220                 | Significant at 0.05 level     | Sencha Tea                    |\n",
       "| TeaTypeGreen tea |  0.0091477761                 |  9.430244e-03                 |  9.712711e-03                 | 7.979065e-233                 | Significant at 0.05 level     | Green Tea                     |\n",
       "| NitrogenTypeN-6-1-1 | -0.0004340772                 |  3.751933e-04                 |  1.184464e-03                 |  3.627178e-01                 | Not significant at 0.05 level | N-6-1-1                       |\n",
       "| NitrogenTypeN-8-0-0 | -0.0003352582                 |  5.417184e-04                 |  1.418695e-03                 |  2.254022e-01                 | Not significant at 0.05 level | N-8-0-0                       |\n",
       "| NitrogenTypeN-SCU | -0.0001914179                 |  1.964019e-04                 |  5.842216e-04                 |  3.201500e-01                 | Not significant at 0.05 level | N-SCU-39-0-0                  |\n",
       "| DoseN_scaled | -0.0001090804                 |  9.026628e-05                 |  2.896129e-04                 |  3.740044e-01                 | Not significant at 0.05 level | DoseN_scaled                  |\n",
       "| TeaTypeGreen tea:DoseN_scaled | -0.0005561391                 | -2.729316e-04                 |  1.027598e-05                 |  5.887384e-02                 | Not significant at 0.05 level | Green Tea : DoseN_scaled      |\n",
       "| TeaTypeSencha Tea:DoseN_scaled | -0.0012760808                 | -8.702541e-04                 | -4.644273e-04                 |  3.028391e-05                 | Significant at 0.05 level     | Sencha Tea : DoseN_scaled     |\n",
       "| TeaTypeRooibos tea:DoseN_scaled | -0.0004104593                 | -1.301914e-04                 |  1.500764e-04                 |  3.617818e-01                 | Not significant at 0.05 level | Rooibos Tea : DoseN_scaled    |\n",
       "| TeaTypeHibiscus Tea:DoseN_scaled | -0.0006730676                 | -2.767600e-04                 |  1.195476e-04                 |  1.706158e-01                 | Not significant at 0.05 level | Hibiscus Tea : DoseN_scaled   |\n",
       "\n"
      ],
      "text/plain": [
       "                                 lower         est.          upper        \n",
       "(Intercept)                      -0.0006114733  2.635865e-04  1.138646e-03\n",
       "TeaTypeHibiscus Tea               0.0035227689  3.919104e-03  4.315439e-03\n",
       "TeaTypeRooibos tea                0.0026825883  2.965359e-03  3.248129e-03\n",
       "TeaTypeSencha Tea                 0.0122728105  1.267992e-02  1.308703e-02\n",
       "TeaTypeGreen tea                  0.0091477761  9.430244e-03  9.712711e-03\n",
       "NitrogenTypeN-6-1-1              -0.0004340772  3.751933e-04  1.184464e-03\n",
       "NitrogenTypeN-8-0-0              -0.0003352582  5.417184e-04  1.418695e-03\n",
       "NitrogenTypeN-SCU                -0.0001914179  1.964019e-04  5.842216e-04\n",
       "DoseN_scaled                     -0.0001090804  9.026628e-05  2.896129e-04\n",
       "TeaTypeGreen tea:DoseN_scaled    -0.0005561391 -2.729316e-04  1.027598e-05\n",
       "TeaTypeSencha Tea:DoseN_scaled   -0.0012760808 -8.702541e-04 -4.644273e-04\n",
       "TeaTypeRooibos tea:DoseN_scaled  -0.0004104593 -1.301914e-04  1.500764e-04\n",
       "TeaTypeHibiscus Tea:DoseN_scaled -0.0006730676 -2.767600e-04  1.195476e-04\n",
       "                                 pvalue        is_significant               \n",
       "(Intercept)                       5.541665e-01 Not significant at 0.05 level\n",
       "TeaTypeHibiscus Tea               1.476689e-61 Significant at 0.05 level    \n",
       "TeaTypeRooibos tea                5.528742e-67 Significant at 0.05 level    \n",
       "TeaTypeSencha Tea                1.345405e-220 Significant at 0.05 level    \n",
       "TeaTypeGreen tea                 7.979065e-233 Significant at 0.05 level    \n",
       "NitrogenTypeN-6-1-1               3.627178e-01 Not significant at 0.05 level\n",
       "NitrogenTypeN-8-0-0               2.254022e-01 Not significant at 0.05 level\n",
       "NitrogenTypeN-SCU                 3.201500e-01 Not significant at 0.05 level\n",
       "DoseN_scaled                      3.740044e-01 Not significant at 0.05 level\n",
       "TeaTypeGreen tea:DoseN_scaled     5.887384e-02 Not significant at 0.05 level\n",
       "TeaTypeSencha Tea:DoseN_scaled    3.028391e-05 Significant at 0.05 level    \n",
       "TeaTypeRooibos tea:DoseN_scaled   3.617818e-01 Not significant at 0.05 level\n",
       "TeaTypeHibiscus Tea:DoseN_scaled  1.706158e-01 Not significant at 0.05 level\n",
       "                                 variable                   \n",
       "(Intercept)                      (Intercept)                \n",
       "TeaTypeHibiscus Tea              Hibiscus Tea               \n",
       "TeaTypeRooibos tea               Rooibos Tea                \n",
       "TeaTypeSencha Tea                Sencha Tea                 \n",
       "TeaTypeGreen tea                 Green Tea                  \n",
       "NitrogenTypeN-6-1-1              N-6-1-1                    \n",
       "NitrogenTypeN-8-0-0              N-8-0-0                    \n",
       "NitrogenTypeN-SCU                N-SCU-39-0-0               \n",
       "DoseN_scaled                     DoseN_scaled               \n",
       "TeaTypeGreen tea:DoseN_scaled    Green Tea : DoseN_scaled   \n",
       "TeaTypeSencha Tea:DoseN_scaled   Sencha Tea : DoseN_scaled  \n",
       "TeaTypeRooibos tea:DoseN_scaled  Rooibos Tea : DoseN_scaled \n",
       "TeaTypeHibiscus Tea:DoseN_scaled Hibiscus Tea : DoseN_scaled"
      ]
     },
     "metadata": {},
     "output_type": "display_data"
    }
   ],
   "source": [
    "weightdiff_gg"
   ]
  },
  {
   "cell_type": "raw",
   "metadata": {},
   "source": [
    "weightdiff_gg$TeaType <- factor(weightdiff_gg$TeaType, \n",
    "                                  levels = unique(weightdiff_gg$TeaType)[c(1,4,2,5,3)]) # Reorder\n"
   ]
  },
  {
   "cell_type": "raw",
   "metadata": {},
   "source": [
    "weightdiff_gg$variable"
   ]
  },
  {
   "cell_type": "code",
   "execution_count": 31,
   "metadata": {},
   "outputs": [],
   "source": [
    "weightdiff_gg$facet = factor(c('Intercept',\n",
    "                               'Tea type', 'Tea type', 'Tea type', 'Tea type',\n",
    "                               'N source', 'N source', 'N source',\n",
    "                               'N dosage',\n",
    "                               'Tea type x N dosage', 'Tea type x N dosage', \n",
    "                               'Tea type x N dosage', 'Tea type x N dosage'))"
   ]
  },
  {
   "cell_type": "raw",
   "metadata": {},
   "source": [
    "weightdiff_gg$variable"
   ]
  },
  {
   "cell_type": "code",
   "execution_count": 32,
   "metadata": {},
   "outputs": [
    {
     "data": {
      "image/png": "[encoded data removed]",
      "text/plain": [
       "plot without title"
      ]
     },
     "metadata": {},
     "output_type": "display_data"
    }
   ],
   "source": [
    "weightdiff_gg = weightdiff_gg[-1, ] # remove the intercept\n",
    "ggplot(weightdiff_gg, aes(x = est., y=variable, colour=is_significant)) +\n",
    "  facet_grid(facet ~ ., scales = 'free', space = 'free') +\n",
    "  geom_point() +\n",
    "  geom_segment(aes(x=lower, xend=upper, y=variable, yend=variable)) +\n",
    "  geom_vline(xintercept = 0, colour='grey70') +\n",
    "  xlab('Coefficient') +\n",
    "  ylab('') +\n",
    "  theme(strip.text.y = element_text(angle=0),\n",
    "        legend.title = element_blank(),\n",
    "        legend.position = \"bottom\")"
   ]
  },
  {
   "cell_type": "markdown",
   "metadata": {},
   "source": [
    "### Export plot high resolution"
   ]
  },
  {
   "cell_type": "code",
   "execution_count": 33,
   "metadata": {},
   "outputs": [],
   "source": [
    "ggsave(\"Figure2.png\", width = 8, height = 5, dpi = 600)"
   ]
  },
  {
   "cell_type": "markdown",
   "metadata": {},
   "source": [
    "# 5- Tea bag index"
   ]
  },
  {
   "cell_type": "code",
   "execution_count": 34,
   "metadata": {},
   "outputs": [
    {
     "data": {
      "text/html": [
       "<table>\n",
       "<thead><tr><th scope=col>No</th><th scope=col>TypeThe</th><th scope=col>TeaType</th><th scope=col>PoidsContenu_g</th><th scope=col>PoidsTotal._g</th><th scope=col>PoidsSac_g</th><th scope=col>Poids_Restant_g</th><th scope=col>Farmers</th><th scope=col>Site</th><th scope=col>Regie</th><th scope=col>...</th><th scope=col>Teneur_Ci</th><th scope=col>GreenTMoy_C</th><th scope=col>GreenTMoy_N</th><th scope=col>GreenTMoy_S</th><th scope=col>Teneur_Cf</th><th scope=col>Teneur_Nf</th><th scope=col>Teneur_Sf</th><th scope=col>PertePoids</th><th scope=col>TauxDecomposition_C</th><th scope=col>DoseRep</th></tr></thead>\n",
       "<tbody>\n",
       "\t<tr><td>1                 </td><td>G                 </td><td>Green tea         </td><td>1.793             </td><td>2.019             </td><td>0.226             </td><td>0.783             </td><td>Belanger          </td><td>A9                </td><td>Biologique        </td><td>...               </td><td>0.8605444         </td><td>47,99466667       </td><td>3,377             </td><td>0,193666667       </td><td>0.3926275         </td><td>0.04134945        </td><td>0.00227070        </td><td>0.009205698       </td><td>0.008718931       </td><td>0_1_A9            </td></tr>\n",
       "\t<tr><td>2                 </td><td>G                 </td><td>Green tea         </td><td>1.786             </td><td>2.011             </td><td>0.225             </td><td>0.797             </td><td>Belanger          </td><td>A9                </td><td>Biologique        </td><td>...               </td><td>0.8571847         </td><td>Rooibos teaMoy_C  </td><td>Rooibos teaMoy_N  </td><td>Rooibos teaMoy_S  </td><td>0.4059360         </td><td>0.03513335        </td><td>0.00200047        </td><td>0.008965323       </td><td>0.008305088       </td><td>0_1_A9            </td></tr>\n",
       "\t<tr><td>3                 </td><td>G                 </td><td>Green tea         </td><td>1.782             </td><td>2.008             </td><td>0.228             </td><td>   NA             </td><td>Belanger          </td><td>A9                </td><td>Biologique        </td><td>...               </td><td>0.8552650         </td><td>47,79166667       </td><td>1,040022222       </td><td>0,090222222       </td><td>       NA         </td><td>        NA        </td><td>        NA        </td><td>         NA       </td><td>         NA       </td><td>0_1_A9            </td></tr>\n",
       "\t<tr><td>4                 </td><td>G                 </td><td>Green tea         </td><td>1.760             </td><td>1.987             </td><td>0.227             </td><td>0.778             </td><td>Belanger          </td><td>A9                </td><td>Biologique        </td><td>...               </td><td>0.8447061         </td><td>ResiduCan_C       </td><td>ResiduCan_N       </td><td>ResiduCan_S       </td><td>0.3912718         </td><td>0.04232087        </td><td>0.00230288        </td><td>0.009070473       </td><td>0.008550960       </td><td>0_2_A9            </td></tr>\n",
       "\t<tr><td>5                 </td><td>G                 </td><td>Green tea         </td><td>1.788             </td><td>2.013             </td><td>0.226             </td><td>0.779             </td><td>Belanger          </td><td>A9                </td><td>Biologique        </td><td>...               </td><td>0.8581446         </td><td>50,033            </td><td>0,90172           </td><td>0,0757            </td><td>0.3717232         </td><td>0.03796456        </td><td>0.00215783        </td><td>0.009231577       </td><td>0.009295812       </td><td>0_2_A9            </td></tr>\n",
       "\t<tr><td>6                 </td><td>G                 </td><td>Green tea         </td><td>1.779             </td><td>2.004             </td><td>0.227             </td><td>   NA             </td><td>Belanger          </td><td>A9                </td><td>Biologique        </td><td>...               </td><td>0.8538251         </td><td>Hibiscus TeaTMoy_C</td><td>Hibiscus TeaTMoy_N</td><td>Hibiscus TeaTMoy_S</td><td>       NA         </td><td>        NA        </td><td>        NA        </td><td>         NA       </td><td>         NA       </td><td>0_2_A9            </td></tr>\n",
       "</tbody>\n",
       "</table>\n"
      ],
      "text/latex": [
       "\\begin{tabular}{r|llllllllllllllllllllllllll}\n",
       " No & TypeThe & TeaType & PoidsContenu\\_g & PoidsTotal.\\_g & PoidsSac\\_g & Poids\\_Restant\\_g & Farmers & Site & Regie & ... & Teneur\\_Ci & GreenTMoy\\_C & GreenTMoy\\_N & GreenTMoy\\_S & Teneur\\_Cf & Teneur\\_Nf & Teneur\\_Sf & PertePoids & TauxDecomposition\\_C & DoseRep\\\\\n",
       "\\hline\n",
       "\t 1                  & G                  & Green tea          & 1.793              & 2.019              & 0.226              & 0.783              & Belanger           & A9                 & Biologique         & ...                & 0.8605444          & 47,99466667        & 3,377              & 0,193666667        & 0.3926275          & 0.04134945         & 0.00227070         & 0.009205698        & 0.008718931        & 0\\_1\\_A9        \\\\\n",
       "\t 2                    & G                    & Green tea            & 1.786                & 2.011                & 0.225                & 0.797                & Belanger             & A9                   & Biologique           & ...                  & 0.8571847            & Rooibos teaMoy\\_C   & Rooibos teaMoy\\_N   & Rooibos teaMoy\\_S   & 0.4059360            & 0.03513335           & 0.00200047           & 0.008965323          & 0.008305088          & 0\\_1\\_A9          \\\\\n",
       "\t 3                  & G                  & Green tea          & 1.782              & 2.008              & 0.228              &    NA              & Belanger           & A9                 & Biologique         & ...                & 0.8552650          & 47,79166667        & 1,040022222        & 0,090222222        &        NA          &         NA         &         NA         &          NA        &          NA        & 0\\_1\\_A9        \\\\\n",
       "\t 4                    & G                    & Green tea            & 1.760                & 1.987                & 0.227                & 0.778                & Belanger             & A9                   & Biologique           & ...                  & 0.8447061            & ResiduCan\\_C        & ResiduCan\\_N        & ResiduCan\\_S        & 0.3912718            & 0.04232087           & 0.00230288           & 0.009070473          & 0.008550960          & 0\\_2\\_A9          \\\\\n",
       "\t 5                  & G                  & Green tea          & 1.788              & 2.013              & 0.226              & 0.779              & Belanger           & A9                 & Biologique         & ...                & 0.8581446          & 50,033             & 0,90172            & 0,0757             & 0.3717232          & 0.03796456         & 0.00215783         & 0.009231577        & 0.009295812        & 0\\_2\\_A9        \\\\\n",
       "\t 6                    & G                    & Green tea            & 1.779                & 2.004                & 0.227                &    NA                & Belanger             & A9                   & Biologique           & ...                  & 0.8538251            & Hibiscus TeaTMoy\\_C & Hibiscus TeaTMoy\\_N & Hibiscus TeaTMoy\\_S &        NA            &         NA           &         NA           &          NA          &          NA          & 0\\_2\\_A9          \\\\\n",
       "\\end{tabular}\n"
      ],
      "text/markdown": [
       "\n",
       "| No | TypeThe | TeaType | PoidsContenu_g | PoidsTotal._g | PoidsSac_g | Poids_Restant_g | Farmers | Site | Regie | ... | Teneur_Ci | GreenTMoy_C | GreenTMoy_N | GreenTMoy_S | Teneur_Cf | Teneur_Nf | Teneur_Sf | PertePoids | TauxDecomposition_C | DoseRep |\n",
       "|---|---|---|---|---|---|---|---|---|---|---|---|---|---|---|---|---|---|---|---|---|\n",
       "| 1                  | G                  | Green tea          | 1.793              | 2.019              | 0.226              | 0.783              | Belanger           | A9                 | Biologique         | ...                | 0.8605444          | 47,99466667        | 3,377              | 0,193666667        | 0.3926275          | 0.04134945         | 0.00227070         | 0.009205698        | 0.008718931        | 0_1_A9             |\n",
       "| 2                  | G                  | Green tea          | 1.786              | 2.011              | 0.225              | 0.797              | Belanger           | A9                 | Biologique         | ...                | 0.8571847          | Rooibos teaMoy_C   | Rooibos teaMoy_N   | Rooibos teaMoy_S   | 0.4059360          | 0.03513335         | 0.00200047         | 0.008965323        | 0.008305088        | 0_1_A9             |\n",
       "| 3                  | G                  | Green tea          | 1.782              | 2.008              | 0.228              |    NA              | Belanger           | A9                 | Biologique         | ...                | 0.8552650          | 47,79166667        | 1,040022222        | 0,090222222        |        NA          |         NA         |         NA         |          NA        |          NA        | 0_1_A9             |\n",
       "| 4                  | G                  | Green tea          | 1.760              | 1.987              | 0.227              | 0.778              | Belanger           | A9                 | Biologique         | ...                | 0.8447061          | ResiduCan_C        | ResiduCan_N        | ResiduCan_S        | 0.3912718          | 0.04232087         | 0.00230288         | 0.009070473        | 0.008550960        | 0_2_A9             |\n",
       "| 5                  | G                  | Green tea          | 1.788              | 2.013              | 0.226              | 0.779              | Belanger           | A9                 | Biologique         | ...                | 0.8581446          | 50,033             | 0,90172            | 0,0757             | 0.3717232          | 0.03796456         | 0.00215783         | 0.009231577        | 0.009295812        | 0_2_A9             |\n",
       "| 6                  | G                  | Green tea          | 1.779              | 2.004              | 0.227              |    NA              | Belanger           | A9                 | Biologique         | ...                | 0.8538251          | Hibiscus TeaTMoy_C | Hibiscus TeaTMoy_N | Hibiscus TeaTMoy_S |        NA          |         NA         |         NA         |          NA        |          NA        | 0_2_A9             |\n",
       "\n"
      ],
      "text/plain": [
       "  No TypeThe TeaType   PoidsContenu_g PoidsTotal._g PoidsSac_g Poids_Restant_g\n",
       "1 1  G       Green tea 1.793          2.019         0.226      0.783          \n",
       "2 2  G       Green tea 1.786          2.011         0.225      0.797          \n",
       "3 3  G       Green tea 1.782          2.008         0.228         NA          \n",
       "4 4  G       Green tea 1.760          1.987         0.227      0.778          \n",
       "5 5  G       Green tea 1.788          2.013         0.226      0.779          \n",
       "6 6  G       Green tea 1.779          2.004         0.227         NA          \n",
       "  Farmers  Site Regie      ... Teneur_Ci GreenTMoy_C        GreenTMoy_N       \n",
       "1 Belanger A9   Biologique ... 0.8605444 47,99466667        3,377             \n",
       "2 Belanger A9   Biologique ... 0.8571847 Rooibos teaMoy_C   Rooibos teaMoy_N  \n",
       "3 Belanger A9   Biologique ... 0.8552650 47,79166667        1,040022222       \n",
       "4 Belanger A9   Biologique ... 0.8447061 ResiduCan_C        ResiduCan_N       \n",
       "5 Belanger A9   Biologique ... 0.8581446 50,033             0,90172           \n",
       "6 Belanger A9   Biologique ... 0.8538251 Hibiscus TeaTMoy_C Hibiscus TeaTMoy_N\n",
       "  GreenTMoy_S        Teneur_Cf Teneur_Nf  Teneur_Sf  PertePoids \n",
       "1 0,193666667        0.3926275 0.04134945 0.00227070 0.009205698\n",
       "2 Rooibos teaMoy_S   0.4059360 0.03513335 0.00200047 0.008965323\n",
       "3 0,090222222               NA         NA         NA          NA\n",
       "4 ResiduCan_S        0.3912718 0.04232087 0.00230288 0.009070473\n",
       "5 0,0757             0.3717232 0.03796456 0.00215783 0.009231577\n",
       "6 Hibiscus TeaTMoy_S        NA         NA         NA          NA\n",
       "  TauxDecomposition_C DoseRep\n",
       "1 0.008718931         0_1_A9 \n",
       "2 0.008305088         0_1_A9 \n",
       "3          NA         0_1_A9 \n",
       "4 0.008550960         0_2_A9 \n",
       "5 0.009295812         0_2_A9 \n",
       "6          NA         0_2_A9 "
      ]
     },
     "metadata": {},
     "output_type": "display_data"
    }
   ],
   "source": [
    "head(Data_1)"
   ]
  },
  {
   "cell_type": "code",
   "execution_count": 35,
   "metadata": {},
   "outputs": [],
   "source": [
    "Data_1$M_surM0 <- Data_1$Poids_Restant_g / Data_1$PoidsContenu_g"
   ]
  },
  {
   "cell_type": "markdown",
   "metadata": {},
   "source": [
    "### - Hydrolysable fraction "
   ]
  },
  {
   "cell_type": "code",
   "execution_count": 36,
   "metadata": {},
   "outputs": [],
   "source": [
    "Hf_g = 0.805 \n",
    "Hf_r = 0.826"
   ]
  },
  {
   "cell_type": "markdown",
   "metadata": {},
   "source": [
    "### - Keuskamp hydrolisable fraction"
   ]
  },
  {
   "cell_type": "code",
   "execution_count": 37,
   "metadata": {},
   "outputs": [],
   "source": [
    "#Hf_g = 0.842\n",
    "#Hf_r = 0.552"
   ]
  },
  {
   "cell_type": "code",
   "execution_count": 38,
   "metadata": {},
   "outputs": [],
   "source": [
    "Data_1$a = NA\n",
    "Data_1$k_tbi = NA"
   ]
  },
  {
   "cell_type": "code",
   "execution_count": 39,
   "metadata": {},
   "outputs": [],
   "source": [
    "Data_1$a[Data_1$TeaType == \"Green tea\"] = (Data_1$PoidsContenu_g[Data_1$TeaType == \"Green tea\"] -\n",
    "                                            Data_1$Poids_Restant_g[Data_1$TeaType == \"Green tea\"]) /\n",
    "                                            Data_1$PoidsContenu_g[Data_1$TeaType == \"Green tea\"]"
   ]
  },
  {
   "cell_type": "code",
   "execution_count": 40,
   "metadata": {},
   "outputs": [],
   "source": [
    "Data_1$S = 1 - Data_1$a/Hf_g"
   ]
  },
  {
   "cell_type": "code",
   "execution_count": 41,
   "metadata": {},
   "outputs": [
    {
     "data": {
      "text/html": [
       "<ol class=list-inline>\n",
       "\t<li>0.300246299446086</li>\n",
       "\t<li>0.312110062390018</li>\n",
       "\t<li>&lt;NA&gt;</li>\n",
       "\t<li>0.306888763410503</li>\n",
       "\t<li>0.298984256673198</li>\n",
       "\t<li>&lt;NA&gt;</li>\n",
       "</ol>\n"
      ],
      "text/latex": [
       "\\begin{enumerate*}\n",
       "\\item 0.300246299446086\n",
       "\\item 0.312110062390018\n",
       "\\item <NA>\n",
       "\\item 0.306888763410503\n",
       "\\item 0.298984256673198\n",
       "\\item <NA>\n",
       "\\end{enumerate*}\n"
      ],
      "text/markdown": [
       "1. 0.300246299446086\n",
       "2. 0.312110062390018\n",
       "3. &lt;NA&gt;\n",
       "4. 0.306888763410503\n",
       "5. 0.298984256673198\n",
       "6. &lt;NA&gt;\n",
       "\n",
       "\n"
      ],
      "text/plain": [
       "[1] 0.3002463 0.3121101        NA 0.3068888 0.2989843        NA"
      ]
     },
     "metadata": {},
     "output_type": "display_data"
    }
   ],
   "source": [
    "head(Data_1$S)"
   ]
  },
  {
   "cell_type": "code",
   "execution_count": 42,
   "metadata": {},
   "outputs": [],
   "source": [
    "sdr = paste(Data_1$Site, Data_1$DoseN, Data_1$Repetition)\n",
    "sdr_u = unique(sdr)"
   ]
  },
  {
   "cell_type": "code",
   "execution_count": 43,
   "metadata": {},
   "outputs": [],
   "source": [
    "for (i in 1:length(sdr_u)) {\n",
    "  Sg_i = mean(Data_1$S[sdr == sdr_u[i] & Data_1$TeaType == \"Green tea\"], na.rm = TRUE)\n",
    "  \n",
    "  # Rooibos\n",
    "  Data_1$a[sdr == sdr_u[i] & Data_1$TeaType == \"Rooibos tea\"] = Hf_r * (1 - Sg_i)\n",
    "  ar_i = Data_1$a[sdr == sdr_u[i] & Data_1$TeaType == \"Rooibos tea\"]\n",
    "  M_surM0_i = Data_1$M_surM0[sdr == sdr_u[i] & Data_1$TeaType == \"Rooibos tea\"]\n",
    "  Data_1$k_tbi[sdr == sdr_u[i] & Data_1$TeaType == \"Rooibos tea\"] = log(ar_i / (M_surM0_i - (1-ar_i))) / 90\n",
    "  \n",
    "  \n",
    "}"
   ]
  },
  {
   "cell_type": "code",
   "execution_count": 44,
   "metadata": {},
   "outputs": [],
   "source": [
    "Data_1_a_rooibos <- subset(Data_1, TeaType == \"Rooibos tea\")"
   ]
  },
  {
   "cell_type": "code",
   "execution_count": 45,
   "metadata": {},
   "outputs": [
    {
     "data": {
      "text/html": [
       "<table>\n",
       "<thead><tr><th></th><th scope=col>No</th><th scope=col>TypeThe</th><th scope=col>TeaType</th><th scope=col>PoidsContenu_g</th><th scope=col>PoidsTotal._g</th><th scope=col>PoidsSac_g</th><th scope=col>Poids_Restant_g</th><th scope=col>Farmers</th><th scope=col>Site</th><th scope=col>Regie</th><th scope=col>...</th><th scope=col>Teneur_Cf</th><th scope=col>Teneur_Nf</th><th scope=col>Teneur_Sf</th><th scope=col>PertePoids</th><th scope=col>TauxDecomposition_C</th><th scope=col>DoseRep</th><th scope=col>M_surM0</th><th scope=col>a</th><th scope=col>k_tbi</th><th scope=col>S</th></tr></thead>\n",
       "<tbody>\n",
       "\t<tr><th scope=row>37</th><td>1          </td><td>S          </td><td>Rooibos tea</td><td>1.905      </td><td>2.134      </td><td>0.229      </td><td>1.534      </td><td>Belanger   </td><td>A9         </td><td>Biologique </td><td>...        </td><td>0.6845322  </td><td>0.009211056</td><td>0.000458666</td><td>0.002406703</td><td>0.003168697</td><td>0_1_A9     </td><td>0.8052493  </td><td>0.5730968  </td><td>0.004613835</td><td>NA         </td></tr>\n",
       "\t<tr><th scope=row>38</th><td>2          </td><td>S          </td><td>Rooibos tea</td><td>1.892      </td><td>2.118      </td><td>0.226      </td><td>1.497      </td><td>Belanger   </td><td>A9         </td><td>Biologique </td><td>...        </td><td>0.6911499  </td><td>0.014206530</td><td>0.000634728</td><td>0.002601904</td><td>0.002985712</td><td>0_1_A9     </td><td>0.7912262  </td><td>0.5730968  </td><td>0.005033486</td><td>NA         </td></tr>\n",
       "\t<tr><th scope=row>39</th><td>3          </td><td>S          </td><td>Rooibos tea</td><td>1.895      </td><td>2.122      </td><td>0.228      </td><td>1.342      </td><td>Belanger   </td><td>A9         </td><td>Biologique </td><td>...        </td><td>0.6611229  </td><td>0.009743054</td><td>0.000452254</td><td>0.003833976</td><td>0.003496839</td><td>0_1_A9     </td><td>0.7081794  </td><td>0.5730968  </td><td>0.007907971</td><td>NA         </td></tr>\n",
       "\t<tr><th scope=row>40</th><td>4          </td><td>S          </td><td>Rooibos tea</td><td>1.907      </td><td>2.138      </td><td>0.231      </td><td>1.308      </td><td>Belanger   </td><td>A9         </td><td>Biologique </td><td>...        </td><td>0.6669623  </td><td>0.012376688</td><td>0.000542820</td><td>0.004189245</td><td>0.003469269</td><td>0_2_A9     </td><td>0.6858941  </td><td>0.5757744  </td><td>0.008762639</td><td>NA         </td></tr>\n",
       "\t<tr><th scope=row>41</th><td>5          </td><td>S          </td><td>Rooibos tea</td><td>1.910      </td><td>2.137      </td><td>0.227      </td><td>1.532      </td><td>Belanger   </td><td>A9         </td><td>Biologique </td><td>...        </td><td>0.7512928  </td><td>0.013588687</td><td>0.000543860</td><td>0.002450324</td><td>0.002163824</td><td>0_2_A9     </td><td>0.8020942  </td><td>0.5757744  </td><td>0.004679658</td><td>NA         </td></tr>\n",
       "\t<tr><th scope=row>42</th><td>6          </td><td>S          </td><td>Rooibos tea</td><td>1.908      </td><td>2.136      </td><td>0.229      </td><td>1.495      </td><td>Belanger   </td><td>A9         </td><td>Biologique </td><td>...        </td><td>0.7426413  </td><td>0.011089761</td><td>0.000287040</td><td>0.002710326</td><td>0.002280876</td><td>0_2_A9     </td><td>0.7835430  </td><td>0.5757744  </td><td>0.005238998</td><td>NA         </td></tr>\n",
       "</tbody>\n",
       "</table>\n"
      ],
      "text/latex": [
       "\\begin{tabular}{r|llllllllllllllllllllllllllllll}\n",
       "  & No & TypeThe & TeaType & PoidsContenu\\_g & PoidsTotal.\\_g & PoidsSac\\_g & Poids\\_Restant\\_g & Farmers & Site & Regie & ... & Teneur\\_Cf & Teneur\\_Nf & Teneur\\_Sf & PertePoids & TauxDecomposition\\_C & DoseRep & M\\_surM0 & a & k\\_tbi & S\\\\\n",
       "\\hline\n",
       "\t37 & 1           & S           & Rooibos tea & 1.905       & 2.134       & 0.229       & 1.534       & Belanger    & A9          & Biologique  & ...         & 0.6845322   & 0.009211056 & 0.000458666 & 0.002406703 & 0.003168697 & 0\\_1\\_A9  & 0.8052493   & 0.5730968   & 0.004613835 & NA         \\\\\n",
       "\t38 & 2           & S           & Rooibos tea & 1.892       & 2.118       & 0.226       & 1.497       & Belanger    & A9          & Biologique  & ...         & 0.6911499   & 0.014206530 & 0.000634728 & 0.002601904 & 0.002985712 & 0\\_1\\_A9  & 0.7912262   & 0.5730968   & 0.005033486 & NA         \\\\\n",
       "\t39 & 3           & S           & Rooibos tea & 1.895       & 2.122       & 0.228       & 1.342       & Belanger    & A9          & Biologique  & ...         & 0.6611229   & 0.009743054 & 0.000452254 & 0.003833976 & 0.003496839 & 0\\_1\\_A9  & 0.7081794   & 0.5730968   & 0.007907971 & NA         \\\\\n",
       "\t40 & 4           & S           & Rooibos tea & 1.907       & 2.138       & 0.231       & 1.308       & Belanger    & A9          & Biologique  & ...         & 0.6669623   & 0.012376688 & 0.000542820 & 0.004189245 & 0.003469269 & 0\\_2\\_A9  & 0.6858941   & 0.5757744   & 0.008762639 & NA         \\\\\n",
       "\t41 & 5           & S           & Rooibos tea & 1.910       & 2.137       & 0.227       & 1.532       & Belanger    & A9          & Biologique  & ...         & 0.7512928   & 0.013588687 & 0.000543860 & 0.002450324 & 0.002163824 & 0\\_2\\_A9  & 0.8020942   & 0.5757744   & 0.004679658 & NA         \\\\\n",
       "\t42 & 6           & S           & Rooibos tea & 1.908       & 2.136       & 0.229       & 1.495       & Belanger    & A9          & Biologique  & ...         & 0.7426413   & 0.011089761 & 0.000287040 & 0.002710326 & 0.002280876 & 0\\_2\\_A9  & 0.7835430   & 0.5757744   & 0.005238998 & NA         \\\\\n",
       "\\end{tabular}\n"
      ],
      "text/markdown": [
       "\n",
       "| <!--/--> | No | TypeThe | TeaType | PoidsContenu_g | PoidsTotal._g | PoidsSac_g | Poids_Restant_g | Farmers | Site | Regie | ... | Teneur_Cf | Teneur_Nf | Teneur_Sf | PertePoids | TauxDecomposition_C | DoseRep | M_surM0 | a | k_tbi | S |\n",
       "|---|---|---|---|---|---|---|---|---|---|---|---|---|---|---|---|---|---|---|---|---|---|\n",
       "| 37 | 1           | S           | Rooibos tea | 1.905       | 2.134       | 0.229       | 1.534       | Belanger    | A9          | Biologique  | ...         | 0.6845322   | 0.009211056 | 0.000458666 | 0.002406703 | 0.003168697 | 0_1_A9      | 0.8052493   | 0.5730968   | 0.004613835 | NA          |\n",
       "| 38 | 2           | S           | Rooibos tea | 1.892       | 2.118       | 0.226       | 1.497       | Belanger    | A9          | Biologique  | ...         | 0.6911499   | 0.014206530 | 0.000634728 | 0.002601904 | 0.002985712 | 0_1_A9      | 0.7912262   | 0.5730968   | 0.005033486 | NA          |\n",
       "| 39 | 3           | S           | Rooibos tea | 1.895       | 2.122       | 0.228       | 1.342       | Belanger    | A9          | Biologique  | ...         | 0.6611229   | 0.009743054 | 0.000452254 | 0.003833976 | 0.003496839 | 0_1_A9      | 0.7081794   | 0.5730968   | 0.007907971 | NA          |\n",
       "| 40 | 4           | S           | Rooibos tea | 1.907       | 2.138       | 0.231       | 1.308       | Belanger    | A9          | Biologique  | ...         | 0.6669623   | 0.012376688 | 0.000542820 | 0.004189245 | 0.003469269 | 0_2_A9      | 0.6858941   | 0.5757744   | 0.008762639 | NA          |\n",
       "| 41 | 5           | S           | Rooibos tea | 1.910       | 2.137       | 0.227       | 1.532       | Belanger    | A9          | Biologique  | ...         | 0.7512928   | 0.013588687 | 0.000543860 | 0.002450324 | 0.002163824 | 0_2_A9      | 0.8020942   | 0.5757744   | 0.004679658 | NA          |\n",
       "| 42 | 6           | S           | Rooibos tea | 1.908       | 2.136       | 0.229       | 1.495       | Belanger    | A9          | Biologique  | ...         | 0.7426413   | 0.011089761 | 0.000287040 | 0.002710326 | 0.002280876 | 0_2_A9      | 0.7835430   | 0.5757744   | 0.005238998 | NA          |\n",
       "\n"
      ],
      "text/plain": [
       "   No TypeThe TeaType     PoidsContenu_g PoidsTotal._g PoidsSac_g\n",
       "37 1  S       Rooibos tea 1.905          2.134         0.229     \n",
       "38 2  S       Rooibos tea 1.892          2.118         0.226     \n",
       "39 3  S       Rooibos tea 1.895          2.122         0.228     \n",
       "40 4  S       Rooibos tea 1.907          2.138         0.231     \n",
       "41 5  S       Rooibos tea 1.910          2.137         0.227     \n",
       "42 6  S       Rooibos tea 1.908          2.136         0.229     \n",
       "   Poids_Restant_g Farmers  Site Regie      ... Teneur_Cf Teneur_Nf  \n",
       "37 1.534           Belanger A9   Biologique ... 0.6845322 0.009211056\n",
       "38 1.497           Belanger A9   Biologique ... 0.6911499 0.014206530\n",
       "39 1.342           Belanger A9   Biologique ... 0.6611229 0.009743054\n",
       "40 1.308           Belanger A9   Biologique ... 0.6669623 0.012376688\n",
       "41 1.532           Belanger A9   Biologique ... 0.7512928 0.013588687\n",
       "42 1.495           Belanger A9   Biologique ... 0.7426413 0.011089761\n",
       "   Teneur_Sf   PertePoids  TauxDecomposition_C DoseRep M_surM0   a        \n",
       "37 0.000458666 0.002406703 0.003168697         0_1_A9  0.8052493 0.5730968\n",
       "38 0.000634728 0.002601904 0.002985712         0_1_A9  0.7912262 0.5730968\n",
       "39 0.000452254 0.003833976 0.003496839         0_1_A9  0.7081794 0.5730968\n",
       "40 0.000542820 0.004189245 0.003469269         0_2_A9  0.6858941 0.5757744\n",
       "41 0.000543860 0.002450324 0.002163824         0_2_A9  0.8020942 0.5757744\n",
       "42 0.000287040 0.002710326 0.002280876         0_2_A9  0.7835430 0.5757744\n",
       "   k_tbi       S \n",
       "37 0.004613835 NA\n",
       "38 0.005033486 NA\n",
       "39 0.007907971 NA\n",
       "40 0.008762639 NA\n",
       "41 0.004679658 NA\n",
       "42 0.005238998 NA"
      ]
     },
     "metadata": {},
     "output_type": "display_data"
    }
   ],
   "source": [
    "head(Data_1_a_rooibos)"
   ]
  },
  {
   "cell_type": "code",
   "execution_count": 46,
   "metadata": {},
   "outputs": [],
   "source": [
    "ar_mean <- mean(Data_1_a_rooibos$a)"
   ]
  },
  {
   "cell_type": "code",
   "execution_count": 47,
   "metadata": {},
   "outputs": [
    {
     "data": {
      "text/html": [
       "0.598002837921942"
      ],
      "text/latex": [
       "0.598002837921942"
      ],
      "text/markdown": [
       "0.598002837921942"
      ],
      "text/plain": [
       "[1] 0.5980028"
      ]
     },
     "metadata": {},
     "output_type": "display_data"
    }
   ],
   "source": [
    "ar_mean"
   ]
  },
  {
   "cell_type": "code",
   "execution_count": 48,
   "metadata": {},
   "outputs": [
    {
     "data": {
      "text/html": [
       "<table>\n",
       "<thead><tr><th></th><th scope=col>No</th><th scope=col>TypeThe</th><th scope=col>TeaType</th><th scope=col>PoidsContenu_g</th><th scope=col>PoidsTotal._g</th><th scope=col>PoidsSac_g</th><th scope=col>Poids_Restant_g</th><th scope=col>Farmers</th><th scope=col>Site</th><th scope=col>Regie</th><th scope=col>...</th><th scope=col>Teneur_Cf</th><th scope=col>Teneur_Nf</th><th scope=col>Teneur_Sf</th><th scope=col>PertePoids</th><th scope=col>TauxDecomposition_C</th><th scope=col>DoseRep</th><th scope=col>M_surM0</th><th scope=col>a</th><th scope=col>k_tbi</th><th scope=col>S</th></tr></thead>\n",
       "<tbody>\n",
       "\t<tr><th scope=row>37</th><td>1          </td><td>S          </td><td>Rooibos tea</td><td>1.905      </td><td>2.134      </td><td>0.229      </td><td>1.534      </td><td>Belanger   </td><td>A9         </td><td>Biologique </td><td>...        </td><td>0.6845322  </td><td>0.009211056</td><td>0.000458666</td><td>0.002406703</td><td>0.003168697</td><td>0_1_A9     </td><td>0.8052493  </td><td>0.5730968  </td><td>0.004613835</td><td>NA         </td></tr>\n",
       "\t<tr><th scope=row>38</th><td>2          </td><td>S          </td><td>Rooibos tea</td><td>1.892      </td><td>2.118      </td><td>0.226      </td><td>1.497      </td><td>Belanger   </td><td>A9         </td><td>Biologique </td><td>...        </td><td>0.6911499  </td><td>0.014206530</td><td>0.000634728</td><td>0.002601904</td><td>0.002985712</td><td>0_1_A9     </td><td>0.7912262  </td><td>0.5730968  </td><td>0.005033486</td><td>NA         </td></tr>\n",
       "\t<tr><th scope=row>39</th><td>3          </td><td>S          </td><td>Rooibos tea</td><td>1.895      </td><td>2.122      </td><td>0.228      </td><td>1.342      </td><td>Belanger   </td><td>A9         </td><td>Biologique </td><td>...        </td><td>0.6611229  </td><td>0.009743054</td><td>0.000452254</td><td>0.003833976</td><td>0.003496839</td><td>0_1_A9     </td><td>0.7081794  </td><td>0.5730968  </td><td>0.007907971</td><td>NA         </td></tr>\n",
       "\t<tr><th scope=row>40</th><td>4          </td><td>S          </td><td>Rooibos tea</td><td>1.907      </td><td>2.138      </td><td>0.231      </td><td>1.308      </td><td>Belanger   </td><td>A9         </td><td>Biologique </td><td>...        </td><td>0.6669623  </td><td>0.012376688</td><td>0.000542820</td><td>0.004189245</td><td>0.003469269</td><td>0_2_A9     </td><td>0.6858941  </td><td>0.5757744  </td><td>0.008762639</td><td>NA         </td></tr>\n",
       "\t<tr><th scope=row>41</th><td>5          </td><td>S          </td><td>Rooibos tea</td><td>1.910      </td><td>2.137      </td><td>0.227      </td><td>1.532      </td><td>Belanger   </td><td>A9         </td><td>Biologique </td><td>...        </td><td>0.7512928  </td><td>0.013588687</td><td>0.000543860</td><td>0.002450324</td><td>0.002163824</td><td>0_2_A9     </td><td>0.8020942  </td><td>0.5757744  </td><td>0.004679658</td><td>NA         </td></tr>\n",
       "\t<tr><th scope=row>42</th><td>6          </td><td>S          </td><td>Rooibos tea</td><td>1.908      </td><td>2.136      </td><td>0.229      </td><td>1.495      </td><td>Belanger   </td><td>A9         </td><td>Biologique </td><td>...        </td><td>0.7426413  </td><td>0.011089761</td><td>0.000287040</td><td>0.002710326</td><td>0.002280876</td><td>0_2_A9     </td><td>0.7835430  </td><td>0.5757744  </td><td>0.005238998</td><td>NA         </td></tr>\n",
       "</tbody>\n",
       "</table>\n"
      ],
      "text/latex": [
       "\\begin{tabular}{r|llllllllllllllllllllllllllllll}\n",
       "  & No & TypeThe & TeaType & PoidsContenu\\_g & PoidsTotal.\\_g & PoidsSac\\_g & Poids\\_Restant\\_g & Farmers & Site & Regie & ... & Teneur\\_Cf & Teneur\\_Nf & Teneur\\_Sf & PertePoids & TauxDecomposition\\_C & DoseRep & M\\_surM0 & a & k\\_tbi & S\\\\\n",
       "\\hline\n",
       "\t37 & 1           & S           & Rooibos tea & 1.905       & 2.134       & 0.229       & 1.534       & Belanger    & A9          & Biologique  & ...         & 0.6845322   & 0.009211056 & 0.000458666 & 0.002406703 & 0.003168697 & 0\\_1\\_A9  & 0.8052493   & 0.5730968   & 0.004613835 & NA         \\\\\n",
       "\t38 & 2           & S           & Rooibos tea & 1.892       & 2.118       & 0.226       & 1.497       & Belanger    & A9          & Biologique  & ...         & 0.6911499   & 0.014206530 & 0.000634728 & 0.002601904 & 0.002985712 & 0\\_1\\_A9  & 0.7912262   & 0.5730968   & 0.005033486 & NA         \\\\\n",
       "\t39 & 3           & S           & Rooibos tea & 1.895       & 2.122       & 0.228       & 1.342       & Belanger    & A9          & Biologique  & ...         & 0.6611229   & 0.009743054 & 0.000452254 & 0.003833976 & 0.003496839 & 0\\_1\\_A9  & 0.7081794   & 0.5730968   & 0.007907971 & NA         \\\\\n",
       "\t40 & 4           & S           & Rooibos tea & 1.907       & 2.138       & 0.231       & 1.308       & Belanger    & A9          & Biologique  & ...         & 0.6669623   & 0.012376688 & 0.000542820 & 0.004189245 & 0.003469269 & 0\\_2\\_A9  & 0.6858941   & 0.5757744   & 0.008762639 & NA         \\\\\n",
       "\t41 & 5           & S           & Rooibos tea & 1.910       & 2.137       & 0.227       & 1.532       & Belanger    & A9          & Biologique  & ...         & 0.7512928   & 0.013588687 & 0.000543860 & 0.002450324 & 0.002163824 & 0\\_2\\_A9  & 0.8020942   & 0.5757744   & 0.004679658 & NA         \\\\\n",
       "\t42 & 6           & S           & Rooibos tea & 1.908       & 2.136       & 0.229       & 1.495       & Belanger    & A9          & Biologique  & ...         & 0.7426413   & 0.011089761 & 0.000287040 & 0.002710326 & 0.002280876 & 0\\_2\\_A9  & 0.7835430   & 0.5757744   & 0.005238998 & NA         \\\\\n",
       "\\end{tabular}\n"
      ],
      "text/markdown": [
       "\n",
       "| <!--/--> | No | TypeThe | TeaType | PoidsContenu_g | PoidsTotal._g | PoidsSac_g | Poids_Restant_g | Farmers | Site | Regie | ... | Teneur_Cf | Teneur_Nf | Teneur_Sf | PertePoids | TauxDecomposition_C | DoseRep | M_surM0 | a | k_tbi | S |\n",
       "|---|---|---|---|---|---|---|---|---|---|---|---|---|---|---|---|---|---|---|---|---|---|\n",
       "| 37 | 1           | S           | Rooibos tea | 1.905       | 2.134       | 0.229       | 1.534       | Belanger    | A9          | Biologique  | ...         | 0.6845322   | 0.009211056 | 0.000458666 | 0.002406703 | 0.003168697 | 0_1_A9      | 0.8052493   | 0.5730968   | 0.004613835 | NA          |\n",
       "| 38 | 2           | S           | Rooibos tea | 1.892       | 2.118       | 0.226       | 1.497       | Belanger    | A9          | Biologique  | ...         | 0.6911499   | 0.014206530 | 0.000634728 | 0.002601904 | 0.002985712 | 0_1_A9      | 0.7912262   | 0.5730968   | 0.005033486 | NA          |\n",
       "| 39 | 3           | S           | Rooibos tea | 1.895       | 2.122       | 0.228       | 1.342       | Belanger    | A9          | Biologique  | ...         | 0.6611229   | 0.009743054 | 0.000452254 | 0.003833976 | 0.003496839 | 0_1_A9      | 0.7081794   | 0.5730968   | 0.007907971 | NA          |\n",
       "| 40 | 4           | S           | Rooibos tea | 1.907       | 2.138       | 0.231       | 1.308       | Belanger    | A9          | Biologique  | ...         | 0.6669623   | 0.012376688 | 0.000542820 | 0.004189245 | 0.003469269 | 0_2_A9      | 0.6858941   | 0.5757744   | 0.008762639 | NA          |\n",
       "| 41 | 5           | S           | Rooibos tea | 1.910       | 2.137       | 0.227       | 1.532       | Belanger    | A9          | Biologique  | ...         | 0.7512928   | 0.013588687 | 0.000543860 | 0.002450324 | 0.002163824 | 0_2_A9      | 0.8020942   | 0.5757744   | 0.004679658 | NA          |\n",
       "| 42 | 6           | S           | Rooibos tea | 1.908       | 2.136       | 0.229       | 1.495       | Belanger    | A9          | Biologique  | ...         | 0.7426413   | 0.011089761 | 0.000287040 | 0.002710326 | 0.002280876 | 0_2_A9      | 0.7835430   | 0.5757744   | 0.005238998 | NA          |\n",
       "\n"
      ],
      "text/plain": [
       "   No TypeThe TeaType     PoidsContenu_g PoidsTotal._g PoidsSac_g\n",
       "37 1  S       Rooibos tea 1.905          2.134         0.229     \n",
       "38 2  S       Rooibos tea 1.892          2.118         0.226     \n",
       "39 3  S       Rooibos tea 1.895          2.122         0.228     \n",
       "40 4  S       Rooibos tea 1.907          2.138         0.231     \n",
       "41 5  S       Rooibos tea 1.910          2.137         0.227     \n",
       "42 6  S       Rooibos tea 1.908          2.136         0.229     \n",
       "   Poids_Restant_g Farmers  Site Regie      ... Teneur_Cf Teneur_Nf  \n",
       "37 1.534           Belanger A9   Biologique ... 0.6845322 0.009211056\n",
       "38 1.497           Belanger A9   Biologique ... 0.6911499 0.014206530\n",
       "39 1.342           Belanger A9   Biologique ... 0.6611229 0.009743054\n",
       "40 1.308           Belanger A9   Biologique ... 0.6669623 0.012376688\n",
       "41 1.532           Belanger A9   Biologique ... 0.7512928 0.013588687\n",
       "42 1.495           Belanger A9   Biologique ... 0.7426413 0.011089761\n",
       "   Teneur_Sf   PertePoids  TauxDecomposition_C DoseRep M_surM0   a        \n",
       "37 0.000458666 0.002406703 0.003168697         0_1_A9  0.8052493 0.5730968\n",
       "38 0.000634728 0.002601904 0.002985712         0_1_A9  0.7912262 0.5730968\n",
       "39 0.000452254 0.003833976 0.003496839         0_1_A9  0.7081794 0.5730968\n",
       "40 0.000542820 0.004189245 0.003469269         0_2_A9  0.6858941 0.5757744\n",
       "41 0.000543860 0.002450324 0.002163824         0_2_A9  0.8020942 0.5757744\n",
       "42 0.000287040 0.002710326 0.002280876         0_2_A9  0.7835430 0.5757744\n",
       "   k_tbi       S \n",
       "37 0.004613835 NA\n",
       "38 0.005033486 NA\n",
       "39 0.007907971 NA\n",
       "40 0.008762639 NA\n",
       "41 0.004679658 NA\n",
       "42 0.005238998 NA"
      ]
     },
     "metadata": {},
     "output_type": "display_data"
    }
   ],
   "source": [
    "head(Data_1_a_rooibos)"
   ]
  },
  {
   "cell_type": "code",
   "execution_count": 49,
   "metadata": {},
   "outputs": [
    {
     "data": {
      "text/html": [
       "<table>\n",
       "<thead><tr><th scope=col>No</th><th scope=col>TypeThe</th><th scope=col>TeaType</th><th scope=col>PoidsContenu_g</th><th scope=col>PoidsTotal._g</th><th scope=col>PoidsSac_g</th><th scope=col>Poids_Restant_g</th><th scope=col>Farmers</th><th scope=col>Site</th><th scope=col>Regie</th><th scope=col>...</th><th scope=col>Teneur_Cf</th><th scope=col>Teneur_Nf</th><th scope=col>Teneur_Sf</th><th scope=col>PertePoids</th><th scope=col>TauxDecomposition_C</th><th scope=col>DoseRep</th><th scope=col>M_surM0</th><th scope=col>a</th><th scope=col>k_tbi</th><th scope=col>S</th></tr></thead>\n",
       "<tbody>\n",
       "\t<tr><td>1          </td><td>G          </td><td>Green tea  </td><td>1.793      </td><td>2.019      </td><td>0.226      </td><td>0.783      </td><td>Belanger   </td><td>A9         </td><td>Biologique </td><td>...        </td><td>0.3926275  </td><td>0.04134945 </td><td>0.00227070 </td><td>0.009205698</td><td>0.008718931</td><td>0_1_A9     </td><td>0.4366983  </td><td>0.5633017  </td><td>NA         </td><td>0.3002463  </td></tr>\n",
       "\t<tr><td>2          </td><td>G          </td><td>Green tea  </td><td>1.786      </td><td>2.011      </td><td>0.225      </td><td>0.797      </td><td>Belanger   </td><td>A9         </td><td>Biologique </td><td>...        </td><td>0.4059360  </td><td>0.03513335 </td><td>0.00200047 </td><td>0.008965323</td><td>0.008305088</td><td>0_1_A9     </td><td>0.4462486  </td><td>0.5537514  </td><td>NA         </td><td>0.3121101  </td></tr>\n",
       "\t<tr><td>3          </td><td>G          </td><td>Green tea  </td><td>1.782      </td><td>2.008      </td><td>0.228      </td><td>   NA      </td><td>Belanger   </td><td>A9         </td><td>Biologique </td><td>...        </td><td>       NA  </td><td>        NA </td><td>        NA </td><td>         NA</td><td>         NA</td><td>0_1_A9     </td><td>       NA  </td><td>       NA  </td><td>NA         </td><td>       NA  </td></tr>\n",
       "\t<tr><td>4          </td><td>G          </td><td>Green tea  </td><td>1.760      </td><td>1.987      </td><td>0.227      </td><td>0.778      </td><td>Belanger   </td><td>A9         </td><td>Biologique </td><td>...        </td><td>0.3912718  </td><td>0.04232087 </td><td>0.00230288 </td><td>0.009070473</td><td>0.008550960</td><td>0_2_A9     </td><td>0.4420455  </td><td>0.5579545  </td><td>NA         </td><td>0.3068888  </td></tr>\n",
       "\t<tr><td>5          </td><td>G          </td><td>Green tea  </td><td>1.788      </td><td>2.013      </td><td>0.226      </td><td>0.779      </td><td>Belanger   </td><td>A9         </td><td>Biologique </td><td>...        </td><td>0.3717232  </td><td>0.03796456 </td><td>0.00215783 </td><td>0.009231577</td><td>0.009295812</td><td>0_2_A9     </td><td>0.4356823  </td><td>0.5643177  </td><td>NA         </td><td>0.2989843  </td></tr>\n",
       "\t<tr><td>6          </td><td>G          </td><td>Green tea  </td><td>1.779      </td><td>2.004      </td><td>0.227      </td><td>   NA      </td><td>Belanger   </td><td>A9         </td><td>Biologique </td><td>...        </td><td>       NA  </td><td>        NA </td><td>        NA </td><td>         NA</td><td>         NA</td><td>0_2_A9     </td><td>       NA  </td><td>       NA  </td><td>NA         </td><td>       NA  </td></tr>\n",
       "</tbody>\n",
       "</table>\n"
      ],
      "text/latex": [
       "\\begin{tabular}{r|llllllllllllllllllllllllllllll}\n",
       " No & TypeThe & TeaType & PoidsContenu\\_g & PoidsTotal.\\_g & PoidsSac\\_g & Poids\\_Restant\\_g & Farmers & Site & Regie & ... & Teneur\\_Cf & Teneur\\_Nf & Teneur\\_Sf & PertePoids & TauxDecomposition\\_C & DoseRep & M\\_surM0 & a & k\\_tbi & S\\\\\n",
       "\\hline\n",
       "\t 1           & G           & Green tea   & 1.793       & 2.019       & 0.226       & 0.783       & Belanger    & A9          & Biologique  & ...         & 0.3926275   & 0.04134945  & 0.00227070  & 0.009205698 & 0.008718931 & 0\\_1\\_A9  & 0.4366983   & 0.5633017   & NA          & 0.3002463  \\\\\n",
       "\t 2           & G           & Green tea   & 1.786       & 2.011       & 0.225       & 0.797       & Belanger    & A9          & Biologique  & ...         & 0.4059360   & 0.03513335  & 0.00200047  & 0.008965323 & 0.008305088 & 0\\_1\\_A9  & 0.4462486   & 0.5537514   & NA          & 0.3121101  \\\\\n",
       "\t 3           & G           & Green tea   & 1.782       & 2.008       & 0.228       &    NA       & Belanger    & A9          & Biologique  & ...         &        NA   &         NA  &         NA  &          NA &          NA & 0\\_1\\_A9  &        NA   &        NA   & NA          &        NA  \\\\\n",
       "\t 4           & G           & Green tea   & 1.760       & 1.987       & 0.227       & 0.778       & Belanger    & A9          & Biologique  & ...         & 0.3912718   & 0.04232087  & 0.00230288  & 0.009070473 & 0.008550960 & 0\\_2\\_A9  & 0.4420455   & 0.5579545   & NA          & 0.3068888  \\\\\n",
       "\t 5           & G           & Green tea   & 1.788       & 2.013       & 0.226       & 0.779       & Belanger    & A9          & Biologique  & ...         & 0.3717232   & 0.03796456  & 0.00215783  & 0.009231577 & 0.009295812 & 0\\_2\\_A9  & 0.4356823   & 0.5643177   & NA          & 0.2989843  \\\\\n",
       "\t 6           & G           & Green tea   & 1.779       & 2.004       & 0.227       &    NA       & Belanger    & A9          & Biologique  & ...         &        NA   &         NA  &         NA  &          NA &          NA & 0\\_2\\_A9  &        NA   &        NA   & NA          &        NA  \\\\\n",
       "\\end{tabular}\n"
      ],
      "text/markdown": [
       "\n",
       "| No | TypeThe | TeaType | PoidsContenu_g | PoidsTotal._g | PoidsSac_g | Poids_Restant_g | Farmers | Site | Regie | ... | Teneur_Cf | Teneur_Nf | Teneur_Sf | PertePoids | TauxDecomposition_C | DoseRep | M_surM0 | a | k_tbi | S |\n",
       "|---|---|---|---|---|---|---|---|---|---|---|---|---|---|---|---|---|---|---|---|---|\n",
       "| 1           | G           | Green tea   | 1.793       | 2.019       | 0.226       | 0.783       | Belanger    | A9          | Biologique  | ...         | 0.3926275   | 0.04134945  | 0.00227070  | 0.009205698 | 0.008718931 | 0_1_A9      | 0.4366983   | 0.5633017   | NA          | 0.3002463   |\n",
       "| 2           | G           | Green tea   | 1.786       | 2.011       | 0.225       | 0.797       | Belanger    | A9          | Biologique  | ...         | 0.4059360   | 0.03513335  | 0.00200047  | 0.008965323 | 0.008305088 | 0_1_A9      | 0.4462486   | 0.5537514   | NA          | 0.3121101   |\n",
       "| 3           | G           | Green tea   | 1.782       | 2.008       | 0.228       |    NA       | Belanger    | A9          | Biologique  | ...         |        NA   |         NA  |         NA  |          NA |          NA | 0_1_A9      |        NA   |        NA   | NA          |        NA   |\n",
       "| 4           | G           | Green tea   | 1.760       | 1.987       | 0.227       | 0.778       | Belanger    | A9          | Biologique  | ...         | 0.3912718   | 0.04232087  | 0.00230288  | 0.009070473 | 0.008550960 | 0_2_A9      | 0.4420455   | 0.5579545   | NA          | 0.3068888   |\n",
       "| 5           | G           | Green tea   | 1.788       | 2.013       | 0.226       | 0.779       | Belanger    | A9          | Biologique  | ...         | 0.3717232   | 0.03796456  | 0.00215783  | 0.009231577 | 0.009295812 | 0_2_A9      | 0.4356823   | 0.5643177   | NA          | 0.2989843   |\n",
       "| 6           | G           | Green tea   | 1.779       | 2.004       | 0.227       |    NA       | Belanger    | A9          | Biologique  | ...         |        NA   |         NA  |         NA  |          NA |          NA | 0_2_A9      |        NA   |        NA   | NA          |        NA   |\n",
       "\n"
      ],
      "text/plain": [
       "  No TypeThe TeaType   PoidsContenu_g PoidsTotal._g PoidsSac_g Poids_Restant_g\n",
       "1 1  G       Green tea 1.793          2.019         0.226      0.783          \n",
       "2 2  G       Green tea 1.786          2.011         0.225      0.797          \n",
       "3 3  G       Green tea 1.782          2.008         0.228         NA          \n",
       "4 4  G       Green tea 1.760          1.987         0.227      0.778          \n",
       "5 5  G       Green tea 1.788          2.013         0.226      0.779          \n",
       "6 6  G       Green tea 1.779          2.004         0.227         NA          \n",
       "  Farmers  Site Regie      ... Teneur_Cf Teneur_Nf  Teneur_Sf  PertePoids \n",
       "1 Belanger A9   Biologique ... 0.3926275 0.04134945 0.00227070 0.009205698\n",
       "2 Belanger A9   Biologique ... 0.4059360 0.03513335 0.00200047 0.008965323\n",
       "3 Belanger A9   Biologique ...        NA         NA         NA          NA\n",
       "4 Belanger A9   Biologique ... 0.3912718 0.04232087 0.00230288 0.009070473\n",
       "5 Belanger A9   Biologique ... 0.3717232 0.03796456 0.00215783 0.009231577\n",
       "6 Belanger A9   Biologique ...        NA         NA         NA          NA\n",
       "  TauxDecomposition_C DoseRep M_surM0   a         k_tbi S        \n",
       "1 0.008718931         0_1_A9  0.4366983 0.5633017 NA    0.3002463\n",
       "2 0.008305088         0_1_A9  0.4462486 0.5537514 NA    0.3121101\n",
       "3          NA         0_1_A9         NA        NA NA           NA\n",
       "4 0.008550960         0_2_A9  0.4420455 0.5579545 NA    0.3068888\n",
       "5 0.009295812         0_2_A9  0.4356823 0.5643177 NA    0.2989843\n",
       "6          NA         0_2_A9         NA        NA NA           NA"
      ]
     },
     "metadata": {},
     "output_type": "display_data"
    }
   ],
   "source": [
    "head(Data_1)"
   ]
  },
  {
   "cell_type": "markdown",
   "metadata": {},
   "source": [
    "## - Data exploration for N dose type "
   ]
  },
  {
   "cell_type": "code",
   "execution_count": 50,
   "metadata": {},
   "outputs": [
    {
     "data": {
      "text/html": [
       "<table>\n",
       "<thead><tr><th></th><th scope=col>NitrogenType</th><th scope=col>DoseN</th></tr></thead>\n",
       "<tbody>\n",
       "\t<tr><th scope=row>1</th><td>N-8-0-0 </td><td> 0      </td></tr>\n",
       "\t<tr><th scope=row>7</th><td>N-8-0-0 </td><td>15      </td></tr>\n",
       "\t<tr><th scope=row>13</th><td>N-8-0-0 </td><td>30      </td></tr>\n",
       "\t<tr><th scope=row>19</th><td>N-8-0-0 </td><td>45      </td></tr>\n",
       "\t<tr><th scope=row>25</th><td>N-8-0-0 </td><td>60      </td></tr>\n",
       "\t<tr><th scope=row>31</th><td>N-6-1-1 </td><td>60      </td></tr>\n",
       "\t<tr><th scope=row>33</th><td>N-6-1-1 </td><td>45      </td></tr>\n",
       "\t<tr><th scope=row>35</th><td>N-6-1-1 </td><td>30      </td></tr>\n",
       "\t<tr><th scope=row>73</th><td>N-21-0-0</td><td> 0      </td></tr>\n",
       "\t<tr><th scope=row>79</th><td>N-21-0-0</td><td>15      </td></tr>\n",
       "\t<tr><th scope=row>85</th><td>N-21-0-0</td><td>30      </td></tr>\n",
       "\t<tr><th scope=row>92</th><td>N-21-0-0</td><td>45      </td></tr>\n",
       "\t<tr><th scope=row>98</th><td>N-21-0-0</td><td>60      </td></tr>\n",
       "\t<tr><th scope=row>104</th><td>N-SCU   </td><td>45      </td></tr>\n",
       "\t<tr><th scope=row>106</th><td>N-SCU   </td><td>60      </td></tr>\n",
       "\t<tr><th scope=row>108</th><td>N-SCU   </td><td>30      </td></tr>\n",
       "</tbody>\n",
       "</table>\n"
      ],
      "text/latex": [
       "\\begin{tabular}{r|ll}\n",
       "  & NitrogenType & DoseN\\\\\n",
       "\\hline\n",
       "\t1 & N-8-0-0  &  0      \\\\\n",
       "\t7 & N-8-0-0  & 15      \\\\\n",
       "\t13 & N-8-0-0  & 30      \\\\\n",
       "\t19 & N-8-0-0  & 45      \\\\\n",
       "\t25 & N-8-0-0  & 60      \\\\\n",
       "\t31 & N-6-1-1  & 60      \\\\\n",
       "\t33 & N-6-1-1  & 45      \\\\\n",
       "\t35 & N-6-1-1  & 30      \\\\\n",
       "\t73 & N-21-0-0 &  0      \\\\\n",
       "\t79 & N-21-0-0 & 15      \\\\\n",
       "\t85 & N-21-0-0 & 30      \\\\\n",
       "\t92 & N-21-0-0 & 45      \\\\\n",
       "\t98 & N-21-0-0 & 60      \\\\\n",
       "\t104 & N-SCU    & 45      \\\\\n",
       "\t106 & N-SCU    & 60      \\\\\n",
       "\t108 & N-SCU    & 30      \\\\\n",
       "\\end{tabular}\n"
      ],
      "text/markdown": [
       "\n",
       "| <!--/--> | NitrogenType | DoseN |\n",
       "|---|---|---|\n",
       "| 1 | N-8-0-0  |  0       |\n",
       "| 7 | N-8-0-0  | 15       |\n",
       "| 13 | N-8-0-0  | 30       |\n",
       "| 19 | N-8-0-0  | 45       |\n",
       "| 25 | N-8-0-0  | 60       |\n",
       "| 31 | N-6-1-1  | 60       |\n",
       "| 33 | N-6-1-1  | 45       |\n",
       "| 35 | N-6-1-1  | 30       |\n",
       "| 73 | N-21-0-0 |  0       |\n",
       "| 79 | N-21-0-0 | 15       |\n",
       "| 85 | N-21-0-0 | 30       |\n",
       "| 92 | N-21-0-0 | 45       |\n",
       "| 98 | N-21-0-0 | 60       |\n",
       "| 104 | N-SCU    | 45       |\n",
       "| 106 | N-SCU    | 60       |\n",
       "| 108 | N-SCU    | 30       |\n",
       "\n"
      ],
      "text/plain": [
       "    NitrogenType DoseN\n",
       "1   N-8-0-0       0   \n",
       "7   N-8-0-0      15   \n",
       "13  N-8-0-0      30   \n",
       "19  N-8-0-0      45   \n",
       "25  N-8-0-0      60   \n",
       "31  N-6-1-1      60   \n",
       "33  N-6-1-1      45   \n",
       "35  N-6-1-1      30   \n",
       "73  N-21-0-0      0   \n",
       "79  N-21-0-0     15   \n",
       "85  N-21-0-0     30   \n",
       "92  N-21-0-0     45   \n",
       "98  N-21-0-0     60   \n",
       "104 N-SCU        45   \n",
       "106 N-SCU        60   \n",
       "108 N-SCU        30   "
      ]
     },
     "metadata": {},
     "output_type": "display_data"
    }
   ],
   "source": [
    "Data_1 %>%\n",
    "  select(NitrogenType, DoseN) %>%\n",
    "  unique()"
   ]
  },
  {
   "cell_type": "code",
   "execution_count": 51,
   "metadata": {},
   "outputs": [
    {
     "name": "stderr",
     "output_type": "stream",
     "text": [
      "Warning message:\n",
      "\"Removed 388 rows containing non-finite values (stat_boxplot).\""
     ]
    },
    {
     "data": {
      "image/png": "[encoded data removed]",
      "text/plain": [
       "plot without title"
      ]
     },
     "metadata": {},
     "output_type": "display_data"
    }
   ],
   "source": [
    "options(repr.plot.width=4, repr.plot.height=8)\n",
    "ggplot(data = Data_1,\n",
    "       mapping = aes(x = NitrogenType, y = k_tbi)) +\n",
    "  facet_grid(DoseN ~ .) +\n",
    "  geom_boxplot()"
   ]
  },
  {
   "cell_type": "markdown",
   "metadata": {},
   "source": [
    "# What affecting TBI parameters (k)?"
   ]
  },
  {
   "cell_type": "code",
   "execution_count": 52,
   "metadata": {},
   "outputs": [],
   "source": [
    "TBI_data = Data_1 %>%\n",
    "  select(k_tbi, TeaType, Farmers,DoseN, Site, #C_over_N, \n",
    "         NitrogenType) %>%\n",
    "  drop_na(.) %>%\n",
    "  droplevels(.)\n",
    "#TBI_data_factor <- TBI_data\n",
    "#TBI_data_factor$TeaType <- factor(TBI_data$TeaType, \n",
    " #                                      levels = levels(omdecomp_data$TeaType)[c(4,3,5,2,1)]) # Reorder"
   ]
  },
  {
   "cell_type": "code",
   "execution_count": 53,
   "metadata": {},
   "outputs": [],
   "source": [
    "mean_k_tbi <- mean(TBI_data$k_tbi)"
   ]
  },
  {
   "cell_type": "code",
   "execution_count": 54,
   "metadata": {},
   "outputs": [
    {
     "data": {
      "text/html": [
       "0.00652823339012164"
      ],
      "text/latex": [
       "0.00652823339012164"
      ],
      "text/markdown": [
       "0.00652823339012164"
      ],
      "text/plain": [
       "[1] 0.006528233"
      ]
     },
     "metadata": {},
     "output_type": "display_data"
    }
   ],
   "source": [
    "mean_k_tbi"
   ]
  },
  {
   "cell_type": "code",
   "execution_count": 55,
   "metadata": {},
   "outputs": [],
   "source": [
    "sd_k_tbi <- sd(TBI_data$k_tbi)"
   ]
  },
  {
   "cell_type": "code",
   "execution_count": 56,
   "metadata": {},
   "outputs": [
    {
     "data": {
      "text/html": [
       "0.00185147928465302"
      ],
      "text/latex": [
       "0.00185147928465302"
      ],
      "text/markdown": [
       "0.00185147928465302"
      ],
      "text/plain": [
       "[1] 0.001851479"
      ]
     },
     "metadata": {},
     "output_type": "display_data"
    }
   ],
   "source": [
    "sd_k_tbi"
   ]
  },
  {
   "cell_type": "code",
   "execution_count": 57,
   "metadata": {},
   "outputs": [],
   "source": [
    "TBI_rooibos <- subset(TBI_data, TeaType == \"Rooibos tea\")"
   ]
  },
  {
   "cell_type": "code",
   "execution_count": 58,
   "metadata": {},
   "outputs": [],
   "source": [
    "lme_TBI <- lme(fixed = k_tbi ~  DoseN + NitrogenType,\n",
    "    random = ~ 1 | Farmers/Site, #/DoseRep,\n",
    "    data = TBI_rooibos) # [omdecomp_data$TauxDecomposition_C > 0, ]"
   ]
  },
  {
   "cell_type": "code",
   "execution_count": 59,
   "metadata": {},
   "outputs": [
    {
     "data": {
      "text/plain": [
       "Linear mixed-effects model fit by REML\n",
       " Data: TBI_rooibos \n",
       "        AIC       BIC   logLik\n",
       "  -1201.875 -1179.377 608.9374\n",
       "\n",
       "Random effects:\n",
       " Formula: ~1 | Farmers\n",
       "        (Intercept)\n",
       "StdDev: 0.001058691\n",
       "\n",
       " Formula: ~1 | Site %in% Farmers\n",
       "         (Intercept)    Residual\n",
       "StdDev: 0.0006061399 0.001526043\n",
       "\n",
       "Fixed effects: k_tbi ~ DoseN + NitrogenType \n",
       "                           Value    Std.Error  DF   t-value p-value\n",
       "(Intercept)          0.006164356 0.0008636613 120  7.137469  0.0000\n",
       "DoseN                0.000003116 0.0000066639 120  0.467635  0.6409\n",
       "NitrogenTypeN-6-1-1  0.002000522 0.0005863409 120  3.411876  0.0009\n",
       "NitrogenTypeN-8-0-0  0.000668290 0.0006995885 120  0.955262  0.3414\n",
       "NitrogenTypeN-SCU   -0.000407511 0.0006884892 120 -0.591892  0.5550\n",
       " Correlation: \n",
       "                    (Intr) DoseN  NTN-6- NTN-8-\n",
       "DoseN               -0.237                     \n",
       "NitrogenTypeN-6-1-1 -0.113 -0.165              \n",
       "NitrogenTypeN-8-0-0 -0.209  0.029  0.536       \n",
       "NitrogenTypeN-SCU   -0.020 -0.131  0.074  0.075\n",
       "\n",
       "Standardized Within-Group Residuals:\n",
       "       Min         Q1        Med         Q3        Max \n",
       "-1.9731047 -0.7183178 -0.1602312  0.6036664  4.0061972 \n",
       "\n",
       "Number of Observations: 128\n",
       "Number of Groups: \n",
       "          Farmers Site %in% Farmers \n",
       "                2                 4 "
      ]
     },
     "metadata": {},
     "output_type": "display_data"
    },
    {
     "data": {
      "text/html": [
       "<dl>\n",
       "\t<dt>$Farmers</dt>\n",
       "\t\t<dd><table>\n",
       "<thead><tr><th></th><th scope=col>(Intercept)</th></tr></thead>\n",
       "<tbody>\n",
       "\t<tr><th scope=row>Belanger</th><td>-0.0006731745</td></tr>\n",
       "\t<tr><th scope=row>Fortier</th><td> 0.0006731745</td></tr>\n",
       "</tbody>\n",
       "</table>\n",
       "</dd>\n",
       "\t<dt>$Site</dt>\n",
       "\t\t<dd><table>\n",
       "<thead><tr><th></th><th scope=col>(Intercept)</th></tr></thead>\n",
       "<tbody>\n",
       "\t<tr><th scope=row>Belanger/10</th><td>-0.0005293725</td></tr>\n",
       "\t<tr><th scope=row>Belanger/A9</th><td> 0.0003087068</td></tr>\n",
       "\t<tr><th scope=row>Fortier/45</th><td> 0.0003491925</td></tr>\n",
       "\t<tr><th scope=row>Fortier/9</th><td>-0.0001285268</td></tr>\n",
       "</tbody>\n",
       "</table>\n",
       "</dd>\n",
       "</dl>\n"
      ],
      "text/latex": [
       "\\begin{description}\n",
       "\\item[\\$Farmers] \\begin{tabular}{r|l}\n",
       "  & (Intercept)\\\\\n",
       "\\hline\n",
       "\tBelanger & -0.0006731745\\\\\n",
       "\tFortier &  0.0006731745\\\\\n",
       "\\end{tabular}\n",
       "\n",
       "\\item[\\$Site] \\begin{tabular}{r|l}\n",
       "  & (Intercept)\\\\\n",
       "\\hline\n",
       "\tBelanger/10 & -0.0005293725\\\\\n",
       "\tBelanger/A9 &  0.0003087068\\\\\n",
       "\tFortier/45 &  0.0003491925\\\\\n",
       "\tFortier/9 & -0.0001285268\\\\\n",
       "\\end{tabular}\n",
       "\n",
       "\\end{description}\n"
      ],
      "text/markdown": [
       "$Farmers\n",
       ":   \n",
       "| <!--/--> | (Intercept) |\n",
       "|---|---|\n",
       "| Belanger | -0.0006731745 |\n",
       "| Fortier |  0.0006731745 |\n",
       "\n",
       "\n",
       "$Site\n",
       ":   \n",
       "| <!--/--> | (Intercept) |\n",
       "|---|---|\n",
       "| Belanger/10 | -0.0005293725 |\n",
       "| Belanger/A9 |  0.0003087068 |\n",
       "| Fortier/45 |  0.0003491925 |\n",
       "| Fortier/9 | -0.0001285268 |\n",
       "\n",
       "\n",
       "\n",
       "\n"
      ],
      "text/plain": [
       "Level: Farmers \n",
       "           (Intercept)\n",
       "Belanger -0.0006731745\n",
       "Fortier   0.0006731745\n",
       "\n",
       "Level: Site %in% Farmers \n",
       "              (Intercept)\n",
       "Belanger/10 -0.0005293725\n",
       "Belanger/A9  0.0003087068\n",
       "Fortier/45   0.0003491925\n",
       "Fortier/9   -0.0001285268"
      ]
     },
     "metadata": {},
     "output_type": "display_data"
    },
    {
     "data": {
      "text/html": [
       "<table>\n",
       "<thead><tr><th></th><th scope=col>Value</th><th scope=col>Std.Error</th><th scope=col>DF</th><th scope=col>t-value</th><th scope=col>p-value</th></tr></thead>\n",
       "<tbody>\n",
       "\t<tr><th scope=row>(Intercept)</th><td> 6.164356e-03</td><td>8.636613e-04 </td><td>120          </td><td> 7.1374693   </td><td>7.871002e-11 </td></tr>\n",
       "\t<tr><th scope=row>DoseN</th><td> 3.116282e-06</td><td>6.663922e-06 </td><td>120          </td><td> 0.4676347   </td><td>6.408939e-01 </td></tr>\n",
       "\t<tr><th scope=row>NitrogenTypeN-6-1-1</th><td> 2.000522e-03</td><td>5.863409e-04 </td><td>120          </td><td> 3.4118758   </td><td>8.799726e-04 </td></tr>\n",
       "\t<tr><th scope=row>NitrogenTypeN-8-0-0</th><td> 6.682900e-04</td><td>6.995885e-04 </td><td>120          </td><td> 0.9552616   </td><td>3.413659e-01 </td></tr>\n",
       "\t<tr><th scope=row>NitrogenTypeN-SCU</th><td>-4.075112e-04</td><td>6.884892e-04 </td><td>120          </td><td>-0.5918920   </td><td>5.550364e-01 </td></tr>\n",
       "</tbody>\n",
       "</table>\n"
      ],
      "text/latex": [
       "\\begin{tabular}{r|lllll}\n",
       "  & Value & Std.Error & DF & t-value & p-value\\\\\n",
       "\\hline\n",
       "\t(Intercept) &  6.164356e-03 & 8.636613e-04  & 120           &  7.1374693    & 7.871002e-11 \\\\\n",
       "\tDoseN &  3.116282e-06 & 6.663922e-06  & 120           &  0.4676347    & 6.408939e-01 \\\\\n",
       "\tNitrogenTypeN-6-1-1 &  2.000522e-03 & 5.863409e-04  & 120           &  3.4118758    & 8.799726e-04 \\\\\n",
       "\tNitrogenTypeN-8-0-0 &  6.682900e-04 & 6.995885e-04  & 120           &  0.9552616    & 3.413659e-01 \\\\\n",
       "\tNitrogenTypeN-SCU & -4.075112e-04 & 6.884892e-04  & 120           & -0.5918920    & 5.550364e-01 \\\\\n",
       "\\end{tabular}\n"
      ],
      "text/markdown": [
       "\n",
       "| <!--/--> | Value | Std.Error | DF | t-value | p-value |\n",
       "|---|---|---|---|---|---|\n",
       "| (Intercept) |  6.164356e-03 | 8.636613e-04  | 120           |  7.1374693    | 7.871002e-11  |\n",
       "| DoseN |  3.116282e-06 | 6.663922e-06  | 120           |  0.4676347    | 6.408939e-01  |\n",
       "| NitrogenTypeN-6-1-1 |  2.000522e-03 | 5.863409e-04  | 120           |  3.4118758    | 8.799726e-04  |\n",
       "| NitrogenTypeN-8-0-0 |  6.682900e-04 | 6.995885e-04  | 120           |  0.9552616    | 3.413659e-01  |\n",
       "| NitrogenTypeN-SCU | -4.075112e-04 | 6.884892e-04  | 120           | -0.5918920    | 5.550364e-01  |\n",
       "\n"
      ],
      "text/plain": [
       "                    Value         Std.Error    DF  t-value    p-value     \n",
       "(Intercept)          6.164356e-03 8.636613e-04 120  7.1374693 7.871002e-11\n",
       "DoseN                3.116282e-06 6.663922e-06 120  0.4676347 6.408939e-01\n",
       "NitrogenTypeN-6-1-1  2.000522e-03 5.863409e-04 120  3.4118758 8.799726e-04\n",
       "NitrogenTypeN-8-0-0  6.682900e-04 6.995885e-04 120  0.9552616 3.413659e-01\n",
       "NitrogenTypeN-SCU   -4.075112e-04 6.884892e-04 120 -0.5918920 5.550364e-01"
      ]
     },
     "metadata": {},
     "output_type": "display_data"
    },
    {
     "data": {
      "text/html": [
       "<dl>\n",
       "\t<dt>$names</dt>\n",
       "\t\t<dd><ol class=list-inline>\n",
       "\t<li>'modelStruct'</li>\n",
       "\t<li>'dims'</li>\n",
       "\t<li>'contrasts'</li>\n",
       "\t<li>'coefficients'</li>\n",
       "\t<li>'varFix'</li>\n",
       "\t<li>'sigma'</li>\n",
       "\t<li>'apVar'</li>\n",
       "\t<li>'logLik'</li>\n",
       "\t<li>'numIter'</li>\n",
       "\t<li>'groups'</li>\n",
       "\t<li>'call'</li>\n",
       "\t<li>'terms'</li>\n",
       "\t<li>'method'</li>\n",
       "\t<li>'fitted'</li>\n",
       "\t<li>'residuals'</li>\n",
       "\t<li>'fixDF'</li>\n",
       "\t<li>'na.action'</li>\n",
       "\t<li>'data'</li>\n",
       "\t<li>'corFixed'</li>\n",
       "\t<li>'tTable'</li>\n",
       "\t<li>'BIC'</li>\n",
       "\t<li>'AIC'</li>\n",
       "</ol>\n",
       "</dd>\n",
       "\t<dt>$class</dt>\n",
       "\t\t<dd><ol class=list-inline>\n",
       "\t<li>'summary.lme'</li>\n",
       "\t<li>'lme'</li>\n",
       "</ol>\n",
       "</dd>\n",
       "\t<dt>$verbose</dt>\n",
       "\t\t<dd>FALSE</dd>\n",
       "\t<dt>$oClass</dt>\n",
       "\t\t<dd>'lme'</dd>\n",
       "</dl>\n"
      ],
      "text/latex": [
       "\\begin{description}\n",
       "\\item[\\$names] \\begin{enumerate*}\n",
       "\\item 'modelStruct'\n",
       "\\item 'dims'\n",
       "\\item 'contrasts'\n",
       "\\item 'coefficients'\n",
       "\\item 'varFix'\n",
       "\\item 'sigma'\n",
       "\\item 'apVar'\n",
       "\\item 'logLik'\n",
       "\\item 'numIter'\n",
       "\\item 'groups'\n",
       "\\item 'call'\n",
       "\\item 'terms'\n",
       "\\item 'method'\n",
       "\\item 'fitted'\n",
       "\\item 'residuals'\n",
       "\\item 'fixDF'\n",
       "\\item 'na.action'\n",
       "\\item 'data'\n",
       "\\item 'corFixed'\n",
       "\\item 'tTable'\n",
       "\\item 'BIC'\n",
       "\\item 'AIC'\n",
       "\\end{enumerate*}\n",
       "\n",
       "\\item[\\$class] \\begin{enumerate*}\n",
       "\\item 'summary.lme'\n",
       "\\item 'lme'\n",
       "\\end{enumerate*}\n",
       "\n",
       "\\item[\\$verbose] FALSE\n",
       "\\item[\\$oClass] 'lme'\n",
       "\\end{description}\n"
      ],
      "text/markdown": [
       "$names\n",
       ":   1. 'modelStruct'\n",
       "2. 'dims'\n",
       "3. 'contrasts'\n",
       "4. 'coefficients'\n",
       "5. 'varFix'\n",
       "6. 'sigma'\n",
       "7. 'apVar'\n",
       "8. 'logLik'\n",
       "9. 'numIter'\n",
       "10. 'groups'\n",
       "11. 'call'\n",
       "12. 'terms'\n",
       "13. 'method'\n",
       "14. 'fitted'\n",
       "15. 'residuals'\n",
       "16. 'fixDF'\n",
       "17. 'na.action'\n",
       "18. 'data'\n",
       "19. 'corFixed'\n",
       "20. 'tTable'\n",
       "21. 'BIC'\n",
       "22. 'AIC'\n",
       "\n",
       "\n",
       "\n",
       "$class\n",
       ":   1. 'summary.lme'\n",
       "2. 'lme'\n",
       "\n",
       "\n",
       "\n",
       "$verbose\n",
       ":   FALSE\n",
       "$oClass\n",
       ":   'lme'\n",
       "\n",
       "\n"
      ],
      "text/plain": [
       "$names\n",
       " [1] \"modelStruct\"  \"dims\"         \"contrasts\"    \"coefficients\" \"varFix\"      \n",
       " [6] \"sigma\"        \"apVar\"        \"logLik\"       \"numIter\"      \"groups\"      \n",
       "[11] \"call\"         \"terms\"        \"method\"       \"fitted\"       \"residuals\"   \n",
       "[16] \"fixDF\"        \"na.action\"    \"data\"         \"corFixed\"     \"tTable\"      \n",
       "[21] \"BIC\"          \"AIC\"         \n",
       "\n",
       "$class\n",
       "[1] \"summary.lme\" \"lme\"        \n",
       "\n",
       "$verbose\n",
       "[1] FALSE\n",
       "\n",
       "$oClass\n",
       "[1] \"lme\"\n"
      ]
     },
     "metadata": {},
     "output_type": "display_data"
    },
    {
     "data": {
      "text/plain": [
       "Approximate 95% confidence intervals\n",
       "\n",
       " Fixed effects:\n",
       "                            lower          est.        upper\n",
       "(Intercept)          4.454367e-03  6.164356e-03 7.874345e-03\n",
       "DoseN               -1.007782e-05  3.116282e-06 1.631038e-05\n",
       "NitrogenTypeN-6-1-1  8.396081e-04  2.000522e-03 3.161436e-03\n",
       "NitrogenTypeN-8-0-0 -7.168465e-04  6.682900e-04 2.053426e-03\n",
       "NitrogenTypeN-SCU   -1.770672e-03 -4.075112e-04 9.556494e-04\n",
       "attr(,\"label\")\n",
       "[1] \"Fixed effects:\"\n",
       "\n",
       " Random Effects:\n",
       "  Level: Farmers \n",
       "                       lower        est.       upper\n",
       "sd((Intercept)) 0.0001646521 0.001058691 0.006807244\n",
       "  Level: Site \n",
       "                       lower         est.       upper\n",
       "sd((Intercept)) 9.370808e-05 0.0006061399 0.003920746\n",
       "\n",
       " Within-group standard error:\n",
       "      lower        est.       upper \n",
       "0.001344597 0.001526043 0.001731973 "
      ]
     },
     "metadata": {},
     "output_type": "display_data"
    },
    {
     "data": {
      "text/html": [
       "<table>\n",
       "<thead><tr><th></th><th scope=col>numDF</th><th scope=col>denDF</th><th scope=col>F-value</th><th scope=col>p-value</th></tr></thead>\n",
       "<tbody>\n",
       "\t<tr><th scope=row>(Intercept)</th><td>1           </td><td>120         </td><td>64.337170   </td><td>7.901457e-13</td></tr>\n",
       "\t<tr><th scope=row>DoseN</th><td>1           </td><td>120         </td><td> 1.232408   </td><td>2.691589e-01</td></tr>\n",
       "\t<tr><th scope=row>NitrogenType</th><td>3           </td><td>120         </td><td> 4.453493   </td><td>5.283390e-03</td></tr>\n",
       "</tbody>\n",
       "</table>\n"
      ],
      "text/latex": [
       "\\begin{tabular}{r|llll}\n",
       "  & numDF & denDF & F-value & p-value\\\\\n",
       "\\hline\n",
       "\t(Intercept) & 1            & 120          & 64.337170    & 7.901457e-13\\\\\n",
       "\tDoseN & 1            & 120          &  1.232408    & 2.691589e-01\\\\\n",
       "\tNitrogenType & 3            & 120          &  4.453493    & 5.283390e-03\\\\\n",
       "\\end{tabular}\n"
      ],
      "text/markdown": [
       "\n",
       "| <!--/--> | numDF | denDF | F-value | p-value |\n",
       "|---|---|---|---|---|\n",
       "| (Intercept) | 1            | 120          | 64.337170    | 7.901457e-13 |\n",
       "| DoseN | 1            | 120          |  1.232408    | 2.691589e-01 |\n",
       "| NitrogenType | 3            | 120          |  4.453493    | 5.283390e-03 |\n",
       "\n"
      ],
      "text/plain": [
       "             numDF denDF F-value   p-value     \n",
       "(Intercept)  1     120   64.337170 7.901457e-13\n",
       "DoseN        1     120    1.232408 2.691589e-01\n",
       "NitrogenType 3     120    4.453493 5.283390e-03"
      ]
     },
     "metadata": {},
     "output_type": "display_data"
    },
    {
     "data": {
      "text/html": [
       "0.300439770619368"
      ],
      "text/latex": [
       "0.300439770619368"
      ],
      "text/markdown": [
       "0.300439770619368"
      ],
      "text/plain": [
       "[1] 0.3004398"
      ]
     },
     "metadata": {},
     "output_type": "display_data"
    },
    {
     "name": "stdout",
     "output_type": "stream",
     "text": [
      "[1] \"Shapiro-Wilk:\"\n",
      "\n",
      "\tShapiro-Wilk normality test\n",
      "\n",
      "data:  r\n",
      "W = 0.9734, p-value = 0.01268\n",
      "\n",
      "[1] \"Kurtosis: 0.247117301424066\"\n",
      "[1] \"Skewness: 0.52312331964216\"\n"
     ]
    },
    {
     "data": {
      "image/png": "[encoded data removed]",
      "text/plain": [
       "Plot with title \"\""
      ]
     },
     "metadata": {},
     "output_type": "display_data"
    }
   ],
   "source": [
    "summary(lme_TBI)\n",
    "ranef(lme_TBI)\n",
    "summary(lme_TBI)$tTable\n",
    "attributes(summary(lme_TBI))\n",
    "intervals(lme_TBI)\n",
    "anova(lme_TBI)\n",
    "pseudoR2(y=TBI_rooibos$k_tbi, # [omdecomp_data$TauxDecomposition_C > 0]\n",
    "         y_hat = predict(lme_TBI, level=1))\n",
    "residues(lme_TBI)"
   ]
  },
  {
   "cell_type": "code",
   "execution_count": 60,
   "metadata": {},
   "outputs": [],
   "source": [
    "weightdiff_gg_TBI = data.frame(intervals(lme_TBI, which = \"fixed\")$fixed)"
   ]
  },
  {
   "cell_type": "code",
   "execution_count": 61,
   "metadata": {},
   "outputs": [],
   "source": [
    "weightdiff_gg_TBI$pvalue = summary(lme_TBI)$tTable[, 5]"
   ]
  },
  {
   "cell_type": "code",
   "execution_count": 62,
   "metadata": {},
   "outputs": [],
   "source": [
    "weightdiff_gg_TBI$is_significant = ifelse(weightdiff_gg_TBI$pvalue <= 0.05,\n",
    "                                      'Significant at 0.05 level',\n",
    "                                      'Not significant at 0.05 level')"
   ]
  },
  {
   "cell_type": "code",
   "execution_count": 63,
   "metadata": {},
   "outputs": [],
   "source": [
    "weightdiff_gg_TBI$variable = rownames(weightdiff_gg_TBI)"
   ]
  },
  {
   "cell_type": "code",
   "execution_count": 64,
   "metadata": {},
   "outputs": [
    {
     "data": {
      "text/html": [
       "<ol class=list-inline>\n",
       "\t<li>'(Intercept)'</li>\n",
       "\t<li>'DoseN'</li>\n",
       "\t<li>'NitrogenTypeN-6-1-1'</li>\n",
       "\t<li>'NitrogenTypeN-8-0-0'</li>\n",
       "\t<li>'NitrogenTypeN-SCU'</li>\n",
       "</ol>\n"
      ],
      "text/latex": [
       "\\begin{enumerate*}\n",
       "\\item '(Intercept)'\n",
       "\\item 'DoseN'\n",
       "\\item 'NitrogenTypeN-6-1-1'\n",
       "\\item 'NitrogenTypeN-8-0-0'\n",
       "\\item 'NitrogenTypeN-SCU'\n",
       "\\end{enumerate*}\n"
      ],
      "text/markdown": [
       "1. '(Intercept)'\n",
       "2. 'DoseN'\n",
       "3. 'NitrogenTypeN-6-1-1'\n",
       "4. 'NitrogenTypeN-8-0-0'\n",
       "5. 'NitrogenTypeN-SCU'\n",
       "\n",
       "\n"
      ],
      "text/plain": [
       "[1] \"(Intercept)\"         \"DoseN\"               \"NitrogenTypeN-6-1-1\"\n",
       "[4] \"NitrogenTypeN-8-0-0\" \"NitrogenTypeN-SCU\"  "
      ]
     },
     "metadata": {},
     "output_type": "display_data"
    }
   ],
   "source": [
    "weightdiff_gg_TBI$variable"
   ]
  },
  {
   "cell_type": "code",
   "execution_count": 65,
   "metadata": {},
   "outputs": [],
   "source": [
    "weightdiff_gg_TBI$variable[c(3,4,5)] <- c('N-6-1-1', 'N-8-0-0',\n",
    "                                   'N-SCU-39-0-0')"
   ]
  },
  {
   "cell_type": "code",
   "execution_count": 66,
   "metadata": {},
   "outputs": [],
   "source": [
    "weightdiff_gg_TBI$facet = factor(c('Intercept','N dosage',\n",
    "                               'N source', 'N source', 'N source'))"
   ]
  },
  {
   "cell_type": "code",
   "execution_count": 67,
   "metadata": {},
   "outputs": [],
   "source": [
    "weightdiff_gg_TBI = weightdiff_gg_TBI[-1, ] # remove the intercept"
   ]
  },
  {
   "cell_type": "code",
   "execution_count": 68,
   "metadata": {},
   "outputs": [
    {
     "data": {
      "image/png": "[encoded data removed]",
      "text/plain": [
       "plot without title"
      ]
     },
     "metadata": {},
     "output_type": "display_data"
    }
   ],
   "source": [
    "options(repr.plot.width=6, repr.plot.height=4)\n",
    "ggplot(weightdiff_gg_TBI, aes(x = est., y=variable, colour=is_significant)) +\n",
    "  facet_grid(facet ~ ., scales = 'free', space = 'free') +\n",
    "  geom_point() +\n",
    "  geom_segment(aes(x=lower, xend=upper, y=variable, yend=variable)) +\n",
    "  geom_vline(xintercept = 0, colour='grey70') +\n",
    "  xlab('Coefficient') +\n",
    "  ylab('') +\n",
    "  theme(strip.text.y = element_text(angle=0),\n",
    "        legend.title = element_blank(),\n",
    "        legend.position = \"bottom\")"
   ]
  },
  {
   "cell_type": "code",
   "execution_count": 69,
   "metadata": {},
   "outputs": [],
   "source": [
    "ggsave(\"Figure5.png\", width = 8, height = 5, dpi = 600)# export plot high resolution"
   ]
  },
  {
   "cell_type": "markdown",
   "metadata": {},
   "source": [
    "# What affecting TBI parameters (S)?"
   ]
  },
  {
   "cell_type": "code",
   "execution_count": 70,
   "metadata": {},
   "outputs": [],
   "source": [
    "S_data = Data_1 %>%\n",
    "  select(S, TeaType, DoseN, Farmers,Site, #C_over_N, \n",
    "         NitrogenType) %>%\n",
    "  drop_na(.) %>%\n",
    "  droplevels(.)\n",
    "#TBI_data_factor <- TBI_data\n",
    "#TBI_data_factor$TeaType <- factor(TBI_data$TeaType, \n",
    "#                                      levels = levels(omdecomp_data$TeaType)[c(4,3,5,2,1)]) # Reorder"
   ]
  },
  {
   "cell_type": "code",
   "execution_count": 71,
   "metadata": {},
   "outputs": [],
   "source": [
    "TBI_GreenTea <- subset(S_data, TeaType == \"Green tea\")"
   ]
  },
  {
   "cell_type": "code",
   "execution_count": 72,
   "metadata": {},
   "outputs": [
    {
     "data": {
      "text/html": [
       "<table>\n",
       "<thead><tr><th></th><th scope=col>S</th><th scope=col>TeaType</th><th scope=col>DoseN</th><th scope=col>Farmers</th><th scope=col>Site</th><th scope=col>NitrogenType</th></tr></thead>\n",
       "<tbody>\n",
       "\t<tr><th scope=row>1</th><td>0.3002463</td><td>Green tea</td><td> 0       </td><td>Belanger </td><td>A9       </td><td>N-8-0-0  </td></tr>\n",
       "\t<tr><th scope=row>2</th><td>0.3121101</td><td>Green tea</td><td> 0       </td><td>Belanger </td><td>A9       </td><td>N-8-0-0  </td></tr>\n",
       "\t<tr><th scope=row>4</th><td>0.3068888</td><td>Green tea</td><td> 0       </td><td>Belanger </td><td>A9       </td><td>N-8-0-0  </td></tr>\n",
       "\t<tr><th scope=row>5</th><td>0.2989843</td><td>Green tea</td><td> 0       </td><td>Belanger </td><td>A9       </td><td>N-8-0-0  </td></tr>\n",
       "\t<tr><th scope=row>7</th><td>0.3053422</td><td>Green tea</td><td>15       </td><td>Belanger </td><td>A9       </td><td>N-8-0-0  </td></tr>\n",
       "\t<tr><th scope=row>8</th><td>0.3101040</td><td>Green tea</td><td>15       </td><td>Belanger </td><td>A9       </td><td>N-8-0-0  </td></tr>\n",
       "</tbody>\n",
       "</table>\n"
      ],
      "text/latex": [
       "\\begin{tabular}{r|llllll}\n",
       "  & S & TeaType & DoseN & Farmers & Site & NitrogenType\\\\\n",
       "\\hline\n",
       "\t1 & 0.3002463 & Green tea &  0        & Belanger  & A9        & N-8-0-0  \\\\\n",
       "\t2 & 0.3121101 & Green tea &  0        & Belanger  & A9        & N-8-0-0  \\\\\n",
       "\t4 & 0.3068888 & Green tea &  0        & Belanger  & A9        & N-8-0-0  \\\\\n",
       "\t5 & 0.2989843 & Green tea &  0        & Belanger  & A9        & N-8-0-0  \\\\\n",
       "\t7 & 0.3053422 & Green tea & 15        & Belanger  & A9        & N-8-0-0  \\\\\n",
       "\t8 & 0.3101040 & Green tea & 15        & Belanger  & A9        & N-8-0-0  \\\\\n",
       "\\end{tabular}\n"
      ],
      "text/markdown": [
       "\n",
       "| <!--/--> | S | TeaType | DoseN | Farmers | Site | NitrogenType |\n",
       "|---|---|---|---|---|---|---|\n",
       "| 1 | 0.3002463 | Green tea |  0        | Belanger  | A9        | N-8-0-0   |\n",
       "| 2 | 0.3121101 | Green tea |  0        | Belanger  | A9        | N-8-0-0   |\n",
       "| 4 | 0.3068888 | Green tea |  0        | Belanger  | A9        | N-8-0-0   |\n",
       "| 5 | 0.2989843 | Green tea |  0        | Belanger  | A9        | N-8-0-0   |\n",
       "| 7 | 0.3053422 | Green tea | 15        | Belanger  | A9        | N-8-0-0   |\n",
       "| 8 | 0.3101040 | Green tea | 15        | Belanger  | A9        | N-8-0-0   |\n",
       "\n"
      ],
      "text/plain": [
       "  S         TeaType   DoseN Farmers  Site NitrogenType\n",
       "1 0.3002463 Green tea  0    Belanger A9   N-8-0-0     \n",
       "2 0.3121101 Green tea  0    Belanger A9   N-8-0-0     \n",
       "4 0.3068888 Green tea  0    Belanger A9   N-8-0-0     \n",
       "5 0.2989843 Green tea  0    Belanger A9   N-8-0-0     \n",
       "7 0.3053422 Green tea 15    Belanger A9   N-8-0-0     \n",
       "8 0.3101040 Green tea 15    Belanger A9   N-8-0-0     "
      ]
     },
     "metadata": {},
     "output_type": "display_data"
    }
   ],
   "source": [
    "head(S_data)"
   ]
  },
  {
   "cell_type": "code",
   "execution_count": 73,
   "metadata": {},
   "outputs": [],
   "source": [
    "lme_S <- lme(fixed = S ~  DoseN + NitrogenType,\n",
    "               random = ~ 1 | Farmers/Site, #/DoseRep,\n",
    "               data = TBI_GreenTea) # [omdecomp_data$TauxDecomposition_C > 0, ]"
   ]
  },
  {
   "cell_type": "code",
   "execution_count": 74,
   "metadata": {},
   "outputs": [
    {
     "data": {
      "text/plain": [
       "Linear mixed-effects model fit by REML\n",
       " Data: TBI_GreenTea \n",
       "       AIC      BIC  logLik\n",
       "  -279.136 -256.903 147.568\n",
       "\n",
       "Random effects:\n",
       " Formula: ~1 | Farmers\n",
       "         (Intercept)\n",
       "StdDev: 3.723227e-06\n",
       "\n",
       " Formula: ~1 | Site %in% Farmers\n",
       "        (Intercept)   Residual\n",
       "StdDev:  0.04299008 0.06224558\n",
       "\n",
       "Fixed effects: S ~ DoseN + NitrogenType \n",
       "                          Value  Std.Error  DF   t-value p-value\n",
       "(Intercept)          0.24656689 0.02701601 116  9.126694  0.0000\n",
       "DoseN                0.00042329 0.00027815 116  1.521808  0.1308\n",
       "NitrogenTypeN-6-1-1  0.11853217 0.05742880 116  2.063985  0.0412\n",
       "NitrogenTypeN-8-0-0  0.05705259 0.05169629 116  1.103611  0.2720\n",
       "NitrogenTypeN-SCU   -0.00689129 0.02030607 116 -0.339371  0.7349\n",
       " Correlation: \n",
       "                    (Intr) DoseN  NTN-6- NTN-8-\n",
       "DoseN               -0.303                     \n",
       "NitrogenTypeN-6-1-1 -0.409 -0.061              \n",
       "NitrogenTypeN-8-0-0 -0.473 -0.006  0.846       \n",
       "NitrogenTypeN-SCU   -0.021 -0.217  0.054  0.047\n",
       "\n",
       "Standardized Within-Group Residuals:\n",
       "        Min          Q1         Med          Q3         Max \n",
       "-2.29595755 -0.47534785 -0.01464296  0.35050164  5.47260061 \n",
       "\n",
       "Number of Observations: 124\n",
       "Number of Groups: \n",
       "          Farmers Site %in% Farmers \n",
       "                2                 4 "
      ]
     },
     "metadata": {},
     "output_type": "display_data"
    },
    {
     "data": {
      "text/html": [
       "<dl>\n",
       "\t<dt>$Farmers</dt>\n",
       "\t\t<dd><table>\n",
       "<thead><tr><th></th><th scope=col>(Intercept)</th></tr></thead>\n",
       "<tbody>\n",
       "\t<tr><th scope=row>Belanger</th><td> 1.269479e-10</td></tr>\n",
       "\t<tr><th scope=row>Fortier</th><td>-1.269479e-10</td></tr>\n",
       "</tbody>\n",
       "</table>\n",
       "</dd>\n",
       "\t<dt>$Site</dt>\n",
       "\t\t<dd><table>\n",
       "<thead><tr><th></th><th scope=col>(Intercept)</th></tr></thead>\n",
       "<tbody>\n",
       "\t<tr><th scope=row>Belanger/10</th><td> 1.692478e-02</td></tr>\n",
       "\t<tr><th scope=row>Belanger/A9</th><td> 4.672425e-17</td></tr>\n",
       "\t<tr><th scope=row>Fortier/45</th><td> 3.045139e-02</td></tr>\n",
       "\t<tr><th scope=row>Fortier/9</th><td>-4.737618e-02</td></tr>\n",
       "</tbody>\n",
       "</table>\n",
       "</dd>\n",
       "</dl>\n"
      ],
      "text/latex": [
       "\\begin{description}\n",
       "\\item[\\$Farmers] \\begin{tabular}{r|l}\n",
       "  & (Intercept)\\\\\n",
       "\\hline\n",
       "\tBelanger &  1.269479e-10\\\\\n",
       "\tFortier & -1.269479e-10\\\\\n",
       "\\end{tabular}\n",
       "\n",
       "\\item[\\$Site] \\begin{tabular}{r|l}\n",
       "  & (Intercept)\\\\\n",
       "\\hline\n",
       "\tBelanger/10 &  1.692478e-02\\\\\n",
       "\tBelanger/A9 &  4.672425e-17\\\\\n",
       "\tFortier/45 &  3.045139e-02\\\\\n",
       "\tFortier/9 & -4.737618e-02\\\\\n",
       "\\end{tabular}\n",
       "\n",
       "\\end{description}\n"
      ],
      "text/markdown": [
       "$Farmers\n",
       ":   \n",
       "| <!--/--> | (Intercept) |\n",
       "|---|---|\n",
       "| Belanger |  1.269479e-10 |\n",
       "| Fortier | -1.269479e-10 |\n",
       "\n",
       "\n",
       "$Site\n",
       ":   \n",
       "| <!--/--> | (Intercept) |\n",
       "|---|---|\n",
       "| Belanger/10 |  1.692478e-02 |\n",
       "| Belanger/A9 |  4.672425e-17 |\n",
       "| Fortier/45 |  3.045139e-02 |\n",
       "| Fortier/9 | -4.737618e-02 |\n",
       "\n",
       "\n",
       "\n",
       "\n"
      ],
      "text/plain": [
       "Level: Farmers \n",
       "           (Intercept)\n",
       "Belanger  1.269479e-10\n",
       "Fortier  -1.269479e-10\n",
       "\n",
       "Level: Site %in% Farmers \n",
       "              (Intercept)\n",
       "Belanger/10  1.692478e-02\n",
       "Belanger/A9  4.672425e-17\n",
       "Fortier/45   3.045139e-02\n",
       "Fortier/9   -4.737618e-02"
      ]
     },
     "metadata": {},
     "output_type": "display_data"
    },
    {
     "data": {
      "text/html": [
       "<table>\n",
       "<thead><tr><th></th><th scope=col>Value</th><th scope=col>Std.Error</th><th scope=col>DF</th><th scope=col>t-value</th><th scope=col>p-value</th></tr></thead>\n",
       "<tbody>\n",
       "\t<tr><th scope=row>(Intercept)</th><td> 0.2465668857</td><td>0.027016012  </td><td>116          </td><td> 9.1266943   </td><td>2.635135e-15 </td></tr>\n",
       "\t<tr><th scope=row>DoseN</th><td> 0.0004232879</td><td>0.000278148  </td><td>116          </td><td> 1.5218079   </td><td>1.307786e-01 </td></tr>\n",
       "\t<tr><th scope=row>NitrogenTypeN-6-1-1</th><td> 0.1185321737</td><td>0.057428804  </td><td>116          </td><td> 2.0639847   </td><td>4.124955e-02 </td></tr>\n",
       "\t<tr><th scope=row>NitrogenTypeN-8-0-0</th><td> 0.0570525938</td><td>0.051696286  </td><td>116          </td><td> 1.1036111   </td><td>2.720460e-01 </td></tr>\n",
       "\t<tr><th scope=row>NitrogenTypeN-SCU</th><td>-0.0068912866</td><td>0.020306074  </td><td>116          </td><td>-0.3393707   </td><td>7.349441e-01 </td></tr>\n",
       "</tbody>\n",
       "</table>\n"
      ],
      "text/latex": [
       "\\begin{tabular}{r|lllll}\n",
       "  & Value & Std.Error & DF & t-value & p-value\\\\\n",
       "\\hline\n",
       "\t(Intercept) &  0.2465668857 & 0.027016012   & 116           &  9.1266943    & 2.635135e-15 \\\\\n",
       "\tDoseN &  0.0004232879 & 0.000278148   & 116           &  1.5218079    & 1.307786e-01 \\\\\n",
       "\tNitrogenTypeN-6-1-1 &  0.1185321737 & 0.057428804   & 116           &  2.0639847    & 4.124955e-02 \\\\\n",
       "\tNitrogenTypeN-8-0-0 &  0.0570525938 & 0.051696286   & 116           &  1.1036111    & 2.720460e-01 \\\\\n",
       "\tNitrogenTypeN-SCU & -0.0068912866 & 0.020306074   & 116           & -0.3393707    & 7.349441e-01 \\\\\n",
       "\\end{tabular}\n"
      ],
      "text/markdown": [
       "\n",
       "| <!--/--> | Value | Std.Error | DF | t-value | p-value |\n",
       "|---|---|---|---|---|---|\n",
       "| (Intercept) |  0.2465668857 | 0.027016012   | 116           |  9.1266943    | 2.635135e-15  |\n",
       "| DoseN |  0.0004232879 | 0.000278148   | 116           |  1.5218079    | 1.307786e-01  |\n",
       "| NitrogenTypeN-6-1-1 |  0.1185321737 | 0.057428804   | 116           |  2.0639847    | 4.124955e-02  |\n",
       "| NitrogenTypeN-8-0-0 |  0.0570525938 | 0.051696286   | 116           |  1.1036111    | 2.720460e-01  |\n",
       "| NitrogenTypeN-SCU | -0.0068912866 | 0.020306074   | 116           | -0.3393707    | 7.349441e-01  |\n",
       "\n"
      ],
      "text/plain": [
       "                    Value         Std.Error   DF  t-value    p-value     \n",
       "(Intercept)          0.2465668857 0.027016012 116  9.1266943 2.635135e-15\n",
       "DoseN                0.0004232879 0.000278148 116  1.5218079 1.307786e-01\n",
       "NitrogenTypeN-6-1-1  0.1185321737 0.057428804 116  2.0639847 4.124955e-02\n",
       "NitrogenTypeN-8-0-0  0.0570525938 0.051696286 116  1.1036111 2.720460e-01\n",
       "NitrogenTypeN-SCU   -0.0068912866 0.020306074 116 -0.3393707 7.349441e-01"
      ]
     },
     "metadata": {},
     "output_type": "display_data"
    },
    {
     "data": {
      "text/html": [
       "<dl>\n",
       "\t<dt>$names</dt>\n",
       "\t\t<dd><ol class=list-inline>\n",
       "\t<li>'modelStruct'</li>\n",
       "\t<li>'dims'</li>\n",
       "\t<li>'contrasts'</li>\n",
       "\t<li>'coefficients'</li>\n",
       "\t<li>'varFix'</li>\n",
       "\t<li>'sigma'</li>\n",
       "\t<li>'apVar'</li>\n",
       "\t<li>'logLik'</li>\n",
       "\t<li>'numIter'</li>\n",
       "\t<li>'groups'</li>\n",
       "\t<li>'call'</li>\n",
       "\t<li>'terms'</li>\n",
       "\t<li>'method'</li>\n",
       "\t<li>'fitted'</li>\n",
       "\t<li>'residuals'</li>\n",
       "\t<li>'fixDF'</li>\n",
       "\t<li>'na.action'</li>\n",
       "\t<li>'data'</li>\n",
       "\t<li>'corFixed'</li>\n",
       "\t<li>'tTable'</li>\n",
       "\t<li>'BIC'</li>\n",
       "\t<li>'AIC'</li>\n",
       "</ol>\n",
       "</dd>\n",
       "\t<dt>$class</dt>\n",
       "\t\t<dd><ol class=list-inline>\n",
       "\t<li>'summary.lme'</li>\n",
       "\t<li>'lme'</li>\n",
       "</ol>\n",
       "</dd>\n",
       "\t<dt>$verbose</dt>\n",
       "\t\t<dd>FALSE</dd>\n",
       "\t<dt>$oClass</dt>\n",
       "\t\t<dd>'lme'</dd>\n",
       "</dl>\n"
      ],
      "text/latex": [
       "\\begin{description}\n",
       "\\item[\\$names] \\begin{enumerate*}\n",
       "\\item 'modelStruct'\n",
       "\\item 'dims'\n",
       "\\item 'contrasts'\n",
       "\\item 'coefficients'\n",
       "\\item 'varFix'\n",
       "\\item 'sigma'\n",
       "\\item 'apVar'\n",
       "\\item 'logLik'\n",
       "\\item 'numIter'\n",
       "\\item 'groups'\n",
       "\\item 'call'\n",
       "\\item 'terms'\n",
       "\\item 'method'\n",
       "\\item 'fitted'\n",
       "\\item 'residuals'\n",
       "\\item 'fixDF'\n",
       "\\item 'na.action'\n",
       "\\item 'data'\n",
       "\\item 'corFixed'\n",
       "\\item 'tTable'\n",
       "\\item 'BIC'\n",
       "\\item 'AIC'\n",
       "\\end{enumerate*}\n",
       "\n",
       "\\item[\\$class] \\begin{enumerate*}\n",
       "\\item 'summary.lme'\n",
       "\\item 'lme'\n",
       "\\end{enumerate*}\n",
       "\n",
       "\\item[\\$verbose] FALSE\n",
       "\\item[\\$oClass] 'lme'\n",
       "\\end{description}\n"
      ],
      "text/markdown": [
       "$names\n",
       ":   1. 'modelStruct'\n",
       "2. 'dims'\n",
       "3. 'contrasts'\n",
       "4. 'coefficients'\n",
       "5. 'varFix'\n",
       "6. 'sigma'\n",
       "7. 'apVar'\n",
       "8. 'logLik'\n",
       "9. 'numIter'\n",
       "10. 'groups'\n",
       "11. 'call'\n",
       "12. 'terms'\n",
       "13. 'method'\n",
       "14. 'fitted'\n",
       "15. 'residuals'\n",
       "16. 'fixDF'\n",
       "17. 'na.action'\n",
       "18. 'data'\n",
       "19. 'corFixed'\n",
       "20. 'tTable'\n",
       "21. 'BIC'\n",
       "22. 'AIC'\n",
       "\n",
       "\n",
       "\n",
       "$class\n",
       ":   1. 'summary.lme'\n",
       "2. 'lme'\n",
       "\n",
       "\n",
       "\n",
       "$verbose\n",
       ":   FALSE\n",
       "$oClass\n",
       ":   'lme'\n",
       "\n",
       "\n"
      ],
      "text/plain": [
       "$names\n",
       " [1] \"modelStruct\"  \"dims\"         \"contrasts\"    \"coefficients\" \"varFix\"      \n",
       " [6] \"sigma\"        \"apVar\"        \"logLik\"       \"numIter\"      \"groups\"      \n",
       "[11] \"call\"         \"terms\"        \"method\"       \"fitted\"       \"residuals\"   \n",
       "[16] \"fixDF\"        \"na.action\"    \"data\"         \"corFixed\"     \"tTable\"      \n",
       "[21] \"BIC\"          \"AIC\"         \n",
       "\n",
       "$class\n",
       "[1] \"summary.lme\" \"lme\"        \n",
       "\n",
       "$verbose\n",
       "[1] FALSE\n",
       "\n",
       "$oClass\n",
       "[1] \"lme\"\n"
      ]
     },
     "metadata": {},
     "output_type": "display_data"
    },
    {
     "data": {
      "text/html": [
       "<table>\n",
       "<thead><tr><th></th><th scope=col>numDF</th><th scope=col>denDF</th><th scope=col>F-value</th><th scope=col>p-value</th></tr></thead>\n",
       "<tbody>\n",
       "\t<tr><th scope=row>(Intercept)</th><td>1         </td><td>116       </td><td>154.592930</td><td>0.00000000</td></tr>\n",
       "\t<tr><th scope=row>DoseN</th><td>1         </td><td>116       </td><td>  2.897476</td><td>0.09139685</td></tr>\n",
       "\t<tr><th scope=row>NitrogenType</th><td>3         </td><td>116       </td><td>  1.972322</td><td>0.12198490</td></tr>\n",
       "</tbody>\n",
       "</table>\n"
      ],
      "text/latex": [
       "\\begin{tabular}{r|llll}\n",
       "  & numDF & denDF & F-value & p-value\\\\\n",
       "\\hline\n",
       "\t(Intercept) & 1          & 116        & 154.592930 & 0.00000000\\\\\n",
       "\tDoseN & 1          & 116        &   2.897476 & 0.09139685\\\\\n",
       "\tNitrogenType & 3          & 116        &   1.972322 & 0.12198490\\\\\n",
       "\\end{tabular}\n"
      ],
      "text/markdown": [
       "\n",
       "| <!--/--> | numDF | denDF | F-value | p-value |\n",
       "|---|---|---|---|---|\n",
       "| (Intercept) | 1          | 116        | 154.592930 | 0.00000000 |\n",
       "| DoseN | 1          | 116        |   2.897476 | 0.09139685 |\n",
       "| NitrogenType | 3          | 116        |   1.972322 | 0.12198490 |\n",
       "\n"
      ],
      "text/plain": [
       "             numDF denDF F-value    p-value   \n",
       "(Intercept)  1     116   154.592930 0.00000000\n",
       "DoseN        1     116     2.897476 0.09139685\n",
       "NitrogenType 3     116     1.972322 0.12198490"
      ]
     },
     "metadata": {},
     "output_type": "display_data"
    },
    {
     "data": {
      "text/html": [
       "0.363285386848798"
      ],
      "text/latex": [
       "0.363285386848798"
      ],
      "text/markdown": [
       "0.363285386848798"
      ],
      "text/plain": [
       "[1] 0.3632854"
      ]
     },
     "metadata": {},
     "output_type": "display_data"
    },
    {
     "name": "stdout",
     "output_type": "stream",
     "text": [
      "[1] \"Shapiro-Wilk:\"\n",
      "\n",
      "\tShapiro-Wilk normality test\n",
      "\n",
      "data:  r\n",
      "W = 0.89594, p-value = 8.34e-08\n",
      "\n",
      "[1] \"Kurtosis: 6.33426604324906\"\n",
      "[1] \"Skewness: 1.45996663413087\"\n"
     ]
    },
    {
     "data": {
      "image/png": "[encoded data removed]",
      "text/plain": [
       "Plot with title \"\""
      ]
     },
     "metadata": {},
     "output_type": "display_data"
    }
   ],
   "source": [
    "summary(lme_S)\n",
    "ranef(lme_S)\n",
    "summary(lme_S)$tTable\n",
    "attributes(summary(lme_S))\n",
    "#intervals(lme_S)\n",
    "anova(lme_S)\n",
    "pseudoR2(y=TBI_GreenTea$S, # [omdecomp_data$TauxDecomposition_C > 0]\n",
    "         y_hat = predict(lme_S, level=2))\n",
    "residues(lme_S)"
   ]
  },
  {
   "cell_type": "code",
   "execution_count": 75,
   "metadata": {},
   "outputs": [
    {
     "data": {
      "text/html": [
       "<table>\n",
       "<thead><tr><th></th><th scope=col>k_tbi</th><th scope=col>TeaType</th><th scope=col>Farmers</th><th scope=col>DoseN</th><th scope=col>Site</th><th scope=col>NitrogenType</th></tr></thead>\n",
       "<tbody>\n",
       "\t<tr><th scope=row>37</th><td>0.004613835</td><td>Rooibos tea</td><td>Belanger   </td><td>0          </td><td>A9         </td><td>N-8-0-0    </td></tr>\n",
       "\t<tr><th scope=row>38</th><td>0.005033486</td><td>Rooibos tea</td><td>Belanger   </td><td>0          </td><td>A9         </td><td>N-8-0-0    </td></tr>\n",
       "\t<tr><th scope=row>39</th><td>0.007907971</td><td>Rooibos tea</td><td>Belanger   </td><td>0          </td><td>A9         </td><td>N-8-0-0    </td></tr>\n",
       "\t<tr><th scope=row>40</th><td>0.008762639</td><td>Rooibos tea</td><td>Belanger   </td><td>0          </td><td>A9         </td><td>N-8-0-0    </td></tr>\n",
       "\t<tr><th scope=row>41</th><td>0.004679658</td><td>Rooibos tea</td><td>Belanger   </td><td>0          </td><td>A9         </td><td>N-8-0-0    </td></tr>\n",
       "\t<tr><th scope=row>42</th><td>0.005238998</td><td>Rooibos tea</td><td>Belanger   </td><td>0          </td><td>A9         </td><td>N-8-0-0    </td></tr>\n",
       "</tbody>\n",
       "</table>\n"
      ],
      "text/latex": [
       "\\begin{tabular}{r|llllll}\n",
       "  & k\\_tbi & TeaType & Farmers & DoseN & Site & NitrogenType\\\\\n",
       "\\hline\n",
       "\t37 & 0.004613835 & Rooibos tea & Belanger    & 0           & A9          & N-8-0-0    \\\\\n",
       "\t38 & 0.005033486 & Rooibos tea & Belanger    & 0           & A9          & N-8-0-0    \\\\\n",
       "\t39 & 0.007907971 & Rooibos tea & Belanger    & 0           & A9          & N-8-0-0    \\\\\n",
       "\t40 & 0.008762639 & Rooibos tea & Belanger    & 0           & A9          & N-8-0-0    \\\\\n",
       "\t41 & 0.004679658 & Rooibos tea & Belanger    & 0           & A9          & N-8-0-0    \\\\\n",
       "\t42 & 0.005238998 & Rooibos tea & Belanger    & 0           & A9          & N-8-0-0    \\\\\n",
       "\\end{tabular}\n"
      ],
      "text/markdown": [
       "\n",
       "| <!--/--> | k_tbi | TeaType | Farmers | DoseN | Site | NitrogenType |\n",
       "|---|---|---|---|---|---|---|\n",
       "| 37 | 0.004613835 | Rooibos tea | Belanger    | 0           | A9          | N-8-0-0     |\n",
       "| 38 | 0.005033486 | Rooibos tea | Belanger    | 0           | A9          | N-8-0-0     |\n",
       "| 39 | 0.007907971 | Rooibos tea | Belanger    | 0           | A9          | N-8-0-0     |\n",
       "| 40 | 0.008762639 | Rooibos tea | Belanger    | 0           | A9          | N-8-0-0     |\n",
       "| 41 | 0.004679658 | Rooibos tea | Belanger    | 0           | A9          | N-8-0-0     |\n",
       "| 42 | 0.005238998 | Rooibos tea | Belanger    | 0           | A9          | N-8-0-0     |\n",
       "\n"
      ],
      "text/plain": [
       "   k_tbi       TeaType     Farmers  DoseN Site NitrogenType\n",
       "37 0.004613835 Rooibos tea Belanger 0     A9   N-8-0-0     \n",
       "38 0.005033486 Rooibos tea Belanger 0     A9   N-8-0-0     \n",
       "39 0.007907971 Rooibos tea Belanger 0     A9   N-8-0-0     \n",
       "40 0.008762639 Rooibos tea Belanger 0     A9   N-8-0-0     \n",
       "41 0.004679658 Rooibos tea Belanger 0     A9   N-8-0-0     \n",
       "42 0.005238998 Rooibos tea Belanger 0     A9   N-8-0-0     "
      ]
     },
     "metadata": {},
     "output_type": "display_data"
    }
   ],
   "source": [
    "head(TBI_rooibos)"
   ]
  },
  {
   "cell_type": "code",
   "execution_count": 76,
   "metadata": {},
   "outputs": [],
   "source": [
    "lme_TBI <- lme(fixed = k_tbi ~  DoseN + NitrogenType,\n",
    "    random = ~ 1 | Farmers/Site, #/DoseRep,\n",
    "    data = TBI_rooibos) # [omdecomp_data$TauxDecomposition_C > 0, ]"
   ]
  },
  {
   "cell_type": "code",
   "execution_count": 77,
   "metadata": {},
   "outputs": [
    {
     "data": {
      "text/plain": [
       "Linear mixed-effects model fit by REML\n",
       " Data: TBI_rooibos \n",
       "        AIC       BIC   logLik\n",
       "  -1201.875 -1179.377 608.9374\n",
       "\n",
       "Random effects:\n",
       " Formula: ~1 | Farmers\n",
       "        (Intercept)\n",
       "StdDev: 0.001058691\n",
       "\n",
       " Formula: ~1 | Site %in% Farmers\n",
       "         (Intercept)    Residual\n",
       "StdDev: 0.0006061399 0.001526043\n",
       "\n",
       "Fixed effects: k_tbi ~ DoseN + NitrogenType \n",
       "                           Value    Std.Error  DF   t-value p-value\n",
       "(Intercept)          0.006164356 0.0008636613 120  7.137469  0.0000\n",
       "DoseN                0.000003116 0.0000066639 120  0.467635  0.6409\n",
       "NitrogenTypeN-6-1-1  0.002000522 0.0005863409 120  3.411876  0.0009\n",
       "NitrogenTypeN-8-0-0  0.000668290 0.0006995885 120  0.955262  0.3414\n",
       "NitrogenTypeN-SCU   -0.000407511 0.0006884892 120 -0.591892  0.5550\n",
       " Correlation: \n",
       "                    (Intr) DoseN  NTN-6- NTN-8-\n",
       "DoseN               -0.237                     \n",
       "NitrogenTypeN-6-1-1 -0.113 -0.165              \n",
       "NitrogenTypeN-8-0-0 -0.209  0.029  0.536       \n",
       "NitrogenTypeN-SCU   -0.020 -0.131  0.074  0.075\n",
       "\n",
       "Standardized Within-Group Residuals:\n",
       "       Min         Q1        Med         Q3        Max \n",
       "-1.9731047 -0.7183178 -0.1602312  0.6036664  4.0061972 \n",
       "\n",
       "Number of Observations: 128\n",
       "Number of Groups: \n",
       "          Farmers Site %in% Farmers \n",
       "                2                 4 "
      ]
     },
     "metadata": {},
     "output_type": "display_data"
    }
   ],
   "source": [
    "summary(lme_TBI)"
   ]
  },
  {
   "cell_type": "code",
   "execution_count": 78,
   "metadata": {},
   "outputs": [
    {
     "data": {
      "text/html": [
       "<dl>\n",
       "\t<dt>$Farmers</dt>\n",
       "\t\t<dd><table>\n",
       "<thead><tr><th></th><th scope=col>(Intercept)</th></tr></thead>\n",
       "<tbody>\n",
       "\t<tr><th scope=row>Belanger</th><td>-0.0006731745</td></tr>\n",
       "\t<tr><th scope=row>Fortier</th><td> 0.0006731745</td></tr>\n",
       "</tbody>\n",
       "</table>\n",
       "</dd>\n",
       "\t<dt>$Site</dt>\n",
       "\t\t<dd><table>\n",
       "<thead><tr><th></th><th scope=col>(Intercept)</th></tr></thead>\n",
       "<tbody>\n",
       "\t<tr><th scope=row>Belanger/10</th><td>-0.0005293725</td></tr>\n",
       "\t<tr><th scope=row>Belanger/A9</th><td> 0.0003087068</td></tr>\n",
       "\t<tr><th scope=row>Fortier/45</th><td> 0.0003491925</td></tr>\n",
       "\t<tr><th scope=row>Fortier/9</th><td>-0.0001285268</td></tr>\n",
       "</tbody>\n",
       "</table>\n",
       "</dd>\n",
       "</dl>\n"
      ],
      "text/latex": [
       "\\begin{description}\n",
       "\\item[\\$Farmers] \\begin{tabular}{r|l}\n",
       "  & (Intercept)\\\\\n",
       "\\hline\n",
       "\tBelanger & -0.0006731745\\\\\n",
       "\tFortier &  0.0006731745\\\\\n",
       "\\end{tabular}\n",
       "\n",
       "\\item[\\$Site] \\begin{tabular}{r|l}\n",
       "  & (Intercept)\\\\\n",
       "\\hline\n",
       "\tBelanger/10 & -0.0005293725\\\\\n",
       "\tBelanger/A9 &  0.0003087068\\\\\n",
       "\tFortier/45 &  0.0003491925\\\\\n",
       "\tFortier/9 & -0.0001285268\\\\\n",
       "\\end{tabular}\n",
       "\n",
       "\\end{description}\n"
      ],
      "text/markdown": [
       "$Farmers\n",
       ":   \n",
       "| <!--/--> | (Intercept) |\n",
       "|---|---|\n",
       "| Belanger | -0.0006731745 |\n",
       "| Fortier |  0.0006731745 |\n",
       "\n",
       "\n",
       "$Site\n",
       ":   \n",
       "| <!--/--> | (Intercept) |\n",
       "|---|---|\n",
       "| Belanger/10 | -0.0005293725 |\n",
       "| Belanger/A9 |  0.0003087068 |\n",
       "| Fortier/45 |  0.0003491925 |\n",
       "| Fortier/9 | -0.0001285268 |\n",
       "\n",
       "\n",
       "\n",
       "\n"
      ],
      "text/plain": [
       "Level: Farmers \n",
       "           (Intercept)\n",
       "Belanger -0.0006731745\n",
       "Fortier   0.0006731745\n",
       "\n",
       "Level: Site %in% Farmers \n",
       "              (Intercept)\n",
       "Belanger/10 -0.0005293725\n",
       "Belanger/A9  0.0003087068\n",
       "Fortier/45   0.0003491925\n",
       "Fortier/9   -0.0001285268"
      ]
     },
     "metadata": {},
     "output_type": "display_data"
    }
   ],
   "source": [
    "ranef(lme_TBI)"
   ]
  },
  {
   "cell_type": "code",
   "execution_count": 79,
   "metadata": {},
   "outputs": [
    {
     "data": {
      "text/html": [
       "<table>\n",
       "<thead><tr><th></th><th scope=col>Value</th><th scope=col>Std.Error</th><th scope=col>DF</th><th scope=col>t-value</th><th scope=col>p-value</th></tr></thead>\n",
       "<tbody>\n",
       "\t<tr><th scope=row>(Intercept)</th><td> 6.164356e-03</td><td>8.636613e-04 </td><td>120          </td><td> 7.1374693   </td><td>7.871002e-11 </td></tr>\n",
       "\t<tr><th scope=row>DoseN</th><td> 3.116282e-06</td><td>6.663922e-06 </td><td>120          </td><td> 0.4676347   </td><td>6.408939e-01 </td></tr>\n",
       "\t<tr><th scope=row>NitrogenTypeN-6-1-1</th><td> 2.000522e-03</td><td>5.863409e-04 </td><td>120          </td><td> 3.4118758   </td><td>8.799726e-04 </td></tr>\n",
       "\t<tr><th scope=row>NitrogenTypeN-8-0-0</th><td> 6.682900e-04</td><td>6.995885e-04 </td><td>120          </td><td> 0.9552616   </td><td>3.413659e-01 </td></tr>\n",
       "\t<tr><th scope=row>NitrogenTypeN-SCU</th><td>-4.075112e-04</td><td>6.884892e-04 </td><td>120          </td><td>-0.5918920   </td><td>5.550364e-01 </td></tr>\n",
       "</tbody>\n",
       "</table>\n"
      ],
      "text/latex": [
       "\\begin{tabular}{r|lllll}\n",
       "  & Value & Std.Error & DF & t-value & p-value\\\\\n",
       "\\hline\n",
       "\t(Intercept) &  6.164356e-03 & 8.636613e-04  & 120           &  7.1374693    & 7.871002e-11 \\\\\n",
       "\tDoseN &  3.116282e-06 & 6.663922e-06  & 120           &  0.4676347    & 6.408939e-01 \\\\\n",
       "\tNitrogenTypeN-6-1-1 &  2.000522e-03 & 5.863409e-04  & 120           &  3.4118758    & 8.799726e-04 \\\\\n",
       "\tNitrogenTypeN-8-0-0 &  6.682900e-04 & 6.995885e-04  & 120           &  0.9552616    & 3.413659e-01 \\\\\n",
       "\tNitrogenTypeN-SCU & -4.075112e-04 & 6.884892e-04  & 120           & -0.5918920    & 5.550364e-01 \\\\\n",
       "\\end{tabular}\n"
      ],
      "text/markdown": [
       "\n",
       "| <!--/--> | Value | Std.Error | DF | t-value | p-value |\n",
       "|---|---|---|---|---|---|\n",
       "| (Intercept) |  6.164356e-03 | 8.636613e-04  | 120           |  7.1374693    | 7.871002e-11  |\n",
       "| DoseN |  3.116282e-06 | 6.663922e-06  | 120           |  0.4676347    | 6.408939e-01  |\n",
       "| NitrogenTypeN-6-1-1 |  2.000522e-03 | 5.863409e-04  | 120           |  3.4118758    | 8.799726e-04  |\n",
       "| NitrogenTypeN-8-0-0 |  6.682900e-04 | 6.995885e-04  | 120           |  0.9552616    | 3.413659e-01  |\n",
       "| NitrogenTypeN-SCU | -4.075112e-04 | 6.884892e-04  | 120           | -0.5918920    | 5.550364e-01  |\n",
       "\n"
      ],
      "text/plain": [
       "                    Value         Std.Error    DF  t-value    p-value     \n",
       "(Intercept)          6.164356e-03 8.636613e-04 120  7.1374693 7.871002e-11\n",
       "DoseN                3.116282e-06 6.663922e-06 120  0.4676347 6.408939e-01\n",
       "NitrogenTypeN-6-1-1  2.000522e-03 5.863409e-04 120  3.4118758 8.799726e-04\n",
       "NitrogenTypeN-8-0-0  6.682900e-04 6.995885e-04 120  0.9552616 3.413659e-01\n",
       "NitrogenTypeN-SCU   -4.075112e-04 6.884892e-04 120 -0.5918920 5.550364e-01"
      ]
     },
     "metadata": {},
     "output_type": "display_data"
    }
   ],
   "source": [
    "summary(lme_TBI)$tTable"
   ]
  },
  {
   "cell_type": "code",
   "execution_count": 80,
   "metadata": {},
   "outputs": [
    {
     "data": {
      "text/html": [
       "<dl>\n",
       "\t<dt>$names</dt>\n",
       "\t\t<dd><ol class=list-inline>\n",
       "\t<li>'modelStruct'</li>\n",
       "\t<li>'dims'</li>\n",
       "\t<li>'contrasts'</li>\n",
       "\t<li>'coefficients'</li>\n",
       "\t<li>'varFix'</li>\n",
       "\t<li>'sigma'</li>\n",
       "\t<li>'apVar'</li>\n",
       "\t<li>'logLik'</li>\n",
       "\t<li>'numIter'</li>\n",
       "\t<li>'groups'</li>\n",
       "\t<li>'call'</li>\n",
       "\t<li>'terms'</li>\n",
       "\t<li>'method'</li>\n",
       "\t<li>'fitted'</li>\n",
       "\t<li>'residuals'</li>\n",
       "\t<li>'fixDF'</li>\n",
       "\t<li>'na.action'</li>\n",
       "\t<li>'data'</li>\n",
       "\t<li>'corFixed'</li>\n",
       "\t<li>'tTable'</li>\n",
       "\t<li>'BIC'</li>\n",
       "\t<li>'AIC'</li>\n",
       "</ol>\n",
       "</dd>\n",
       "\t<dt>$class</dt>\n",
       "\t\t<dd><ol class=list-inline>\n",
       "\t<li>'summary.lme'</li>\n",
       "\t<li>'lme'</li>\n",
       "</ol>\n",
       "</dd>\n",
       "\t<dt>$verbose</dt>\n",
       "\t\t<dd>FALSE</dd>\n",
       "\t<dt>$oClass</dt>\n",
       "\t\t<dd>'lme'</dd>\n",
       "</dl>\n"
      ],
      "text/latex": [
       "\\begin{description}\n",
       "\\item[\\$names] \\begin{enumerate*}\n",
       "\\item 'modelStruct'\n",
       "\\item 'dims'\n",
       "\\item 'contrasts'\n",
       "\\item 'coefficients'\n",
       "\\item 'varFix'\n",
       "\\item 'sigma'\n",
       "\\item 'apVar'\n",
       "\\item 'logLik'\n",
       "\\item 'numIter'\n",
       "\\item 'groups'\n",
       "\\item 'call'\n",
       "\\item 'terms'\n",
       "\\item 'method'\n",
       "\\item 'fitted'\n",
       "\\item 'residuals'\n",
       "\\item 'fixDF'\n",
       "\\item 'na.action'\n",
       "\\item 'data'\n",
       "\\item 'corFixed'\n",
       "\\item 'tTable'\n",
       "\\item 'BIC'\n",
       "\\item 'AIC'\n",
       "\\end{enumerate*}\n",
       "\n",
       "\\item[\\$class] \\begin{enumerate*}\n",
       "\\item 'summary.lme'\n",
       "\\item 'lme'\n",
       "\\end{enumerate*}\n",
       "\n",
       "\\item[\\$verbose] FALSE\n",
       "\\item[\\$oClass] 'lme'\n",
       "\\end{description}\n"
      ],
      "text/markdown": [
       "$names\n",
       ":   1. 'modelStruct'\n",
       "2. 'dims'\n",
       "3. 'contrasts'\n",
       "4. 'coefficients'\n",
       "5. 'varFix'\n",
       "6. 'sigma'\n",
       "7. 'apVar'\n",
       "8. 'logLik'\n",
       "9. 'numIter'\n",
       "10. 'groups'\n",
       "11. 'call'\n",
       "12. 'terms'\n",
       "13. 'method'\n",
       "14. 'fitted'\n",
       "15. 'residuals'\n",
       "16. 'fixDF'\n",
       "17. 'na.action'\n",
       "18. 'data'\n",
       "19. 'corFixed'\n",
       "20. 'tTable'\n",
       "21. 'BIC'\n",
       "22. 'AIC'\n",
       "\n",
       "\n",
       "\n",
       "$class\n",
       ":   1. 'summary.lme'\n",
       "2. 'lme'\n",
       "\n",
       "\n",
       "\n",
       "$verbose\n",
       ":   FALSE\n",
       "$oClass\n",
       ":   'lme'\n",
       "\n",
       "\n"
      ],
      "text/plain": [
       "$names\n",
       " [1] \"modelStruct\"  \"dims\"         \"contrasts\"    \"coefficients\" \"varFix\"      \n",
       " [6] \"sigma\"        \"apVar\"        \"logLik\"       \"numIter\"      \"groups\"      \n",
       "[11] \"call\"         \"terms\"        \"method\"       \"fitted\"       \"residuals\"   \n",
       "[16] \"fixDF\"        \"na.action\"    \"data\"         \"corFixed\"     \"tTable\"      \n",
       "[21] \"BIC\"          \"AIC\"         \n",
       "\n",
       "$class\n",
       "[1] \"summary.lme\" \"lme\"        \n",
       "\n",
       "$verbose\n",
       "[1] FALSE\n",
       "\n",
       "$oClass\n",
       "[1] \"lme\"\n"
      ]
     },
     "metadata": {},
     "output_type": "display_data"
    }
   ],
   "source": [
    "attributes(summary(lme_TBI))"
   ]
  },
  {
   "cell_type": "code",
   "execution_count": 81,
   "metadata": {},
   "outputs": [
    {
     "data": {
      "text/plain": [
       "Approximate 95% confidence intervals\n",
       "\n",
       " Fixed effects:\n",
       "                            lower          est.        upper\n",
       "(Intercept)          4.454367e-03  6.164356e-03 7.874345e-03\n",
       "DoseN               -1.007782e-05  3.116282e-06 1.631038e-05\n",
       "NitrogenTypeN-6-1-1  8.396081e-04  2.000522e-03 3.161436e-03\n",
       "NitrogenTypeN-8-0-0 -7.168465e-04  6.682900e-04 2.053426e-03\n",
       "NitrogenTypeN-SCU   -1.770672e-03 -4.075112e-04 9.556494e-04\n",
       "attr(,\"label\")\n",
       "[1] \"Fixed effects:\"\n",
       "\n",
       " Random Effects:\n",
       "  Level: Farmers \n",
       "                       lower        est.       upper\n",
       "sd((Intercept)) 0.0001646521 0.001058691 0.006807244\n",
       "  Level: Site \n",
       "                       lower         est.       upper\n",
       "sd((Intercept)) 9.370808e-05 0.0006061399 0.003920746\n",
       "\n",
       " Within-group standard error:\n",
       "      lower        est.       upper \n",
       "0.001344597 0.001526043 0.001731973 "
      ]
     },
     "metadata": {},
     "output_type": "display_data"
    }
   ],
   "source": [
    "intervals(lme_TBI)"
   ]
  },
  {
   "cell_type": "code",
   "execution_count": 82,
   "metadata": {},
   "outputs": [
    {
     "data": {
      "text/html": [
       "<table>\n",
       "<thead><tr><th></th><th scope=col>numDF</th><th scope=col>denDF</th><th scope=col>F-value</th><th scope=col>p-value</th></tr></thead>\n",
       "<tbody>\n",
       "\t<tr><th scope=row>(Intercept)</th><td>1           </td><td>120         </td><td>64.337170   </td><td>7.901457e-13</td></tr>\n",
       "\t<tr><th scope=row>DoseN</th><td>1           </td><td>120         </td><td> 1.232408   </td><td>2.691589e-01</td></tr>\n",
       "\t<tr><th scope=row>NitrogenType</th><td>3           </td><td>120         </td><td> 4.453493   </td><td>5.283390e-03</td></tr>\n",
       "</tbody>\n",
       "</table>\n"
      ],
      "text/latex": [
       "\\begin{tabular}{r|llll}\n",
       "  & numDF & denDF & F-value & p-value\\\\\n",
       "\\hline\n",
       "\t(Intercept) & 1            & 120          & 64.337170    & 7.901457e-13\\\\\n",
       "\tDoseN & 1            & 120          &  1.232408    & 2.691589e-01\\\\\n",
       "\tNitrogenType & 3            & 120          &  4.453493    & 5.283390e-03\\\\\n",
       "\\end{tabular}\n"
      ],
      "text/markdown": [
       "\n",
       "| <!--/--> | numDF | denDF | F-value | p-value |\n",
       "|---|---|---|---|---|\n",
       "| (Intercept) | 1            | 120          | 64.337170    | 7.901457e-13 |\n",
       "| DoseN | 1            | 120          |  1.232408    | 2.691589e-01 |\n",
       "| NitrogenType | 3            | 120          |  4.453493    | 5.283390e-03 |\n",
       "\n"
      ],
      "text/plain": [
       "             numDF denDF F-value   p-value     \n",
       "(Intercept)  1     120   64.337170 7.901457e-13\n",
       "DoseN        1     120    1.232408 2.691589e-01\n",
       "NitrogenType 3     120    4.453493 5.283390e-03"
      ]
     },
     "metadata": {},
     "output_type": "display_data"
    }
   ],
   "source": [
    "anova(lme_TBI)"
   ]
  },
  {
   "cell_type": "code",
   "execution_count": 83,
   "metadata": {},
   "outputs": [
    {
     "data": {
      "text/html": [
       "0.353852754522836"
      ],
      "text/latex": [
       "0.353852754522836"
      ],
      "text/markdown": [
       "0.353852754522836"
      ],
      "text/plain": [
       "[1] 0.3538528"
      ]
     },
     "metadata": {},
     "output_type": "display_data"
    }
   ],
   "source": [
    "pseudoR2(y=TBI_rooibos$k_tbi, \n",
    "         y_hat = predict(lme_TBI, level=2))"
   ]
  },
  {
   "cell_type": "code",
   "execution_count": 84,
   "metadata": {},
   "outputs": [
    {
     "name": "stdout",
     "output_type": "stream",
     "text": [
      "[1] \"Shapiro-Wilk:\"\n",
      "\n",
      "\tShapiro-Wilk normality test\n",
      "\n",
      "data:  r\n",
      "W = 0.9734, p-value = 0.01268\n",
      "\n",
      "[1] \"Kurtosis: 0.247117301424066\"\n",
      "[1] \"Skewness: 0.52312331964216\"\n"
     ]
    },
    {
     "data": {
      "image/png": "[encoded data removed]",
      "text/plain": [
       "Plot with title \"\""
      ]
     },
     "metadata": {},
     "output_type": "display_data"
    }
   ],
   "source": [
    "residues(lme_TBI)"
   ]
  },
  {
   "cell_type": "code",
   "execution_count": 85,
   "metadata": {},
   "outputs": [],
   "source": [
    "S_data = Data_1 %>%\n",
    "  select(S, TeaType, DoseN, Farmers,Site, #C_over_N, \n",
    "         NitrogenType) %>%\n",
    "  drop_na(.) %>%\n",
    "  droplevels(.)\n",
    "#TBI_data_factor <- TBI_data\n",
    "#TBI_data_factor$TeaType <- factor(TBI_data$TeaType, \n",
    "#                                      levels = levels(omdecomp_data$TeaType)[c(4,3,5,2,1)]) # Reorder"
   ]
  },
  {
   "cell_type": "code",
   "execution_count": 86,
   "metadata": {},
   "outputs": [],
   "source": [
    "TBI_GreenTea <- subset(S_data, TeaType == \"Green tea\")"
   ]
  },
  {
   "cell_type": "code",
   "execution_count": 87,
   "metadata": {},
   "outputs": [],
   "source": [
    "lme_S <- lme(fixed = S ~  DoseN + NitrogenType,\n",
    "               random = ~ 1 | Farmers/Site,\n",
    "               data = TBI_GreenTea) "
   ]
  },
  {
   "cell_type": "code",
   "execution_count": 88,
   "metadata": {},
   "outputs": [
    {
     "data": {
      "text/plain": [
       "Linear mixed-effects model fit by REML\n",
       " Data: TBI_GreenTea \n",
       "       AIC      BIC  logLik\n",
       "  -279.136 -256.903 147.568\n",
       "\n",
       "Random effects:\n",
       " Formula: ~1 | Farmers\n",
       "         (Intercept)\n",
       "StdDev: 3.723227e-06\n",
       "\n",
       " Formula: ~1 | Site %in% Farmers\n",
       "        (Intercept)   Residual\n",
       "StdDev:  0.04299008 0.06224558\n",
       "\n",
       "Fixed effects: S ~ DoseN + NitrogenType \n",
       "                          Value  Std.Error  DF   t-value p-value\n",
       "(Intercept)          0.24656689 0.02701601 116  9.126694  0.0000\n",
       "DoseN                0.00042329 0.00027815 116  1.521808  0.1308\n",
       "NitrogenTypeN-6-1-1  0.11853217 0.05742880 116  2.063985  0.0412\n",
       "NitrogenTypeN-8-0-0  0.05705259 0.05169629 116  1.103611  0.2720\n",
       "NitrogenTypeN-SCU   -0.00689129 0.02030607 116 -0.339371  0.7349\n",
       " Correlation: \n",
       "                    (Intr) DoseN  NTN-6- NTN-8-\n",
       "DoseN               -0.303                     \n",
       "NitrogenTypeN-6-1-1 -0.409 -0.061              \n",
       "NitrogenTypeN-8-0-0 -0.473 -0.006  0.846       \n",
       "NitrogenTypeN-SCU   -0.021 -0.217  0.054  0.047\n",
       "\n",
       "Standardized Within-Group Residuals:\n",
       "        Min          Q1         Med          Q3         Max \n",
       "-2.29595755 -0.47534785 -0.01464296  0.35050164  5.47260061 \n",
       "\n",
       "Number of Observations: 124\n",
       "Number of Groups: \n",
       "          Farmers Site %in% Farmers \n",
       "                2                 4 "
      ]
     },
     "metadata": {},
     "output_type": "display_data"
    }
   ],
   "source": [
    "summary(lme_S)"
   ]
  },
  {
   "cell_type": "code",
   "execution_count": 89,
   "metadata": {},
   "outputs": [
    {
     "data": {
      "text/html": [
       "<dl>\n",
       "\t<dt>$Farmers</dt>\n",
       "\t\t<dd><table>\n",
       "<thead><tr><th></th><th scope=col>(Intercept)</th></tr></thead>\n",
       "<tbody>\n",
       "\t<tr><th scope=row>Belanger</th><td> 1.269479e-10</td></tr>\n",
       "\t<tr><th scope=row>Fortier</th><td>-1.269479e-10</td></tr>\n",
       "</tbody>\n",
       "</table>\n",
       "</dd>\n",
       "\t<dt>$Site</dt>\n",
       "\t\t<dd><table>\n",
       "<thead><tr><th></th><th scope=col>(Intercept)</th></tr></thead>\n",
       "<tbody>\n",
       "\t<tr><th scope=row>Belanger/10</th><td> 1.692478e-02</td></tr>\n",
       "\t<tr><th scope=row>Belanger/A9</th><td> 4.672425e-17</td></tr>\n",
       "\t<tr><th scope=row>Fortier/45</th><td> 3.045139e-02</td></tr>\n",
       "\t<tr><th scope=row>Fortier/9</th><td>-4.737618e-02</td></tr>\n",
       "</tbody>\n",
       "</table>\n",
       "</dd>\n",
       "</dl>\n"
      ],
      "text/latex": [
       "\\begin{description}\n",
       "\\item[\\$Farmers] \\begin{tabular}{r|l}\n",
       "  & (Intercept)\\\\\n",
       "\\hline\n",
       "\tBelanger &  1.269479e-10\\\\\n",
       "\tFortier & -1.269479e-10\\\\\n",
       "\\end{tabular}\n",
       "\n",
       "\\item[\\$Site] \\begin{tabular}{r|l}\n",
       "  & (Intercept)\\\\\n",
       "\\hline\n",
       "\tBelanger/10 &  1.692478e-02\\\\\n",
       "\tBelanger/A9 &  4.672425e-17\\\\\n",
       "\tFortier/45 &  3.045139e-02\\\\\n",
       "\tFortier/9 & -4.737618e-02\\\\\n",
       "\\end{tabular}\n",
       "\n",
       "\\end{description}\n"
      ],
      "text/markdown": [
       "$Farmers\n",
       ":   \n",
       "| <!--/--> | (Intercept) |\n",
       "|---|---|\n",
       "| Belanger |  1.269479e-10 |\n",
       "| Fortier | -1.269479e-10 |\n",
       "\n",
       "\n",
       "$Site\n",
       ":   \n",
       "| <!--/--> | (Intercept) |\n",
       "|---|---|\n",
       "| Belanger/10 |  1.692478e-02 |\n",
       "| Belanger/A9 |  4.672425e-17 |\n",
       "| Fortier/45 |  3.045139e-02 |\n",
       "| Fortier/9 | -4.737618e-02 |\n",
       "\n",
       "\n",
       "\n",
       "\n"
      ],
      "text/plain": [
       "Level: Farmers \n",
       "           (Intercept)\n",
       "Belanger  1.269479e-10\n",
       "Fortier  -1.269479e-10\n",
       "\n",
       "Level: Site %in% Farmers \n",
       "              (Intercept)\n",
       "Belanger/10  1.692478e-02\n",
       "Belanger/A9  4.672425e-17\n",
       "Fortier/45   3.045139e-02\n",
       "Fortier/9   -4.737618e-02"
      ]
     },
     "metadata": {},
     "output_type": "display_data"
    }
   ],
   "source": [
    "ranef(lme_S)"
   ]
  },
  {
   "cell_type": "code",
   "execution_count": 90,
   "metadata": {},
   "outputs": [
    {
     "data": {
      "text/html": [
       "<table>\n",
       "<thead><tr><th></th><th scope=col>Value</th><th scope=col>Std.Error</th><th scope=col>DF</th><th scope=col>t-value</th><th scope=col>p-value</th></tr></thead>\n",
       "<tbody>\n",
       "\t<tr><th scope=row>(Intercept)</th><td> 0.2465668857</td><td>0.027016012  </td><td>116          </td><td> 9.1266943   </td><td>2.635135e-15 </td></tr>\n",
       "\t<tr><th scope=row>DoseN</th><td> 0.0004232879</td><td>0.000278148  </td><td>116          </td><td> 1.5218079   </td><td>1.307786e-01 </td></tr>\n",
       "\t<tr><th scope=row>NitrogenTypeN-6-1-1</th><td> 0.1185321737</td><td>0.057428804  </td><td>116          </td><td> 2.0639847   </td><td>4.124955e-02 </td></tr>\n",
       "\t<tr><th scope=row>NitrogenTypeN-8-0-0</th><td> 0.0570525938</td><td>0.051696286  </td><td>116          </td><td> 1.1036111   </td><td>2.720460e-01 </td></tr>\n",
       "\t<tr><th scope=row>NitrogenTypeN-SCU</th><td>-0.0068912866</td><td>0.020306074  </td><td>116          </td><td>-0.3393707   </td><td>7.349441e-01 </td></tr>\n",
       "</tbody>\n",
       "</table>\n"
      ],
      "text/latex": [
       "\\begin{tabular}{r|lllll}\n",
       "  & Value & Std.Error & DF & t-value & p-value\\\\\n",
       "\\hline\n",
       "\t(Intercept) &  0.2465668857 & 0.027016012   & 116           &  9.1266943    & 2.635135e-15 \\\\\n",
       "\tDoseN &  0.0004232879 & 0.000278148   & 116           &  1.5218079    & 1.307786e-01 \\\\\n",
       "\tNitrogenTypeN-6-1-1 &  0.1185321737 & 0.057428804   & 116           &  2.0639847    & 4.124955e-02 \\\\\n",
       "\tNitrogenTypeN-8-0-0 &  0.0570525938 & 0.051696286   & 116           &  1.1036111    & 2.720460e-01 \\\\\n",
       "\tNitrogenTypeN-SCU & -0.0068912866 & 0.020306074   & 116           & -0.3393707    & 7.349441e-01 \\\\\n",
       "\\end{tabular}\n"
      ],
      "text/markdown": [
       "\n",
       "| <!--/--> | Value | Std.Error | DF | t-value | p-value |\n",
       "|---|---|---|---|---|---|\n",
       "| (Intercept) |  0.2465668857 | 0.027016012   | 116           |  9.1266943    | 2.635135e-15  |\n",
       "| DoseN |  0.0004232879 | 0.000278148   | 116           |  1.5218079    | 1.307786e-01  |\n",
       "| NitrogenTypeN-6-1-1 |  0.1185321737 | 0.057428804   | 116           |  2.0639847    | 4.124955e-02  |\n",
       "| NitrogenTypeN-8-0-0 |  0.0570525938 | 0.051696286   | 116           |  1.1036111    | 2.720460e-01  |\n",
       "| NitrogenTypeN-SCU | -0.0068912866 | 0.020306074   | 116           | -0.3393707    | 7.349441e-01  |\n",
       "\n"
      ],
      "text/plain": [
       "                    Value         Std.Error   DF  t-value    p-value     \n",
       "(Intercept)          0.2465668857 0.027016012 116  9.1266943 2.635135e-15\n",
       "DoseN                0.0004232879 0.000278148 116  1.5218079 1.307786e-01\n",
       "NitrogenTypeN-6-1-1  0.1185321737 0.057428804 116  2.0639847 4.124955e-02\n",
       "NitrogenTypeN-8-0-0  0.0570525938 0.051696286 116  1.1036111 2.720460e-01\n",
       "NitrogenTypeN-SCU   -0.0068912866 0.020306074 116 -0.3393707 7.349441e-01"
      ]
     },
     "metadata": {},
     "output_type": "display_data"
    }
   ],
   "source": [
    "summary(lme_S)$tTable"
   ]
  },
  {
   "cell_type": "code",
   "execution_count": 91,
   "metadata": {},
   "outputs": [
    {
     "data": {
      "text/html": [
       "<dl>\n",
       "\t<dt>$names</dt>\n",
       "\t\t<dd><ol class=list-inline>\n",
       "\t<li>'modelStruct'</li>\n",
       "\t<li>'dims'</li>\n",
       "\t<li>'contrasts'</li>\n",
       "\t<li>'coefficients'</li>\n",
       "\t<li>'varFix'</li>\n",
       "\t<li>'sigma'</li>\n",
       "\t<li>'apVar'</li>\n",
       "\t<li>'logLik'</li>\n",
       "\t<li>'numIter'</li>\n",
       "\t<li>'groups'</li>\n",
       "\t<li>'call'</li>\n",
       "\t<li>'terms'</li>\n",
       "\t<li>'method'</li>\n",
       "\t<li>'fitted'</li>\n",
       "\t<li>'residuals'</li>\n",
       "\t<li>'fixDF'</li>\n",
       "\t<li>'na.action'</li>\n",
       "\t<li>'data'</li>\n",
       "\t<li>'corFixed'</li>\n",
       "\t<li>'tTable'</li>\n",
       "\t<li>'BIC'</li>\n",
       "\t<li>'AIC'</li>\n",
       "</ol>\n",
       "</dd>\n",
       "\t<dt>$class</dt>\n",
       "\t\t<dd><ol class=list-inline>\n",
       "\t<li>'summary.lme'</li>\n",
       "\t<li>'lme'</li>\n",
       "</ol>\n",
       "</dd>\n",
       "\t<dt>$verbose</dt>\n",
       "\t\t<dd>FALSE</dd>\n",
       "\t<dt>$oClass</dt>\n",
       "\t\t<dd>'lme'</dd>\n",
       "</dl>\n"
      ],
      "text/latex": [
       "\\begin{description}\n",
       "\\item[\\$names] \\begin{enumerate*}\n",
       "\\item 'modelStruct'\n",
       "\\item 'dims'\n",
       "\\item 'contrasts'\n",
       "\\item 'coefficients'\n",
       "\\item 'varFix'\n",
       "\\item 'sigma'\n",
       "\\item 'apVar'\n",
       "\\item 'logLik'\n",
       "\\item 'numIter'\n",
       "\\item 'groups'\n",
       "\\item 'call'\n",
       "\\item 'terms'\n",
       "\\item 'method'\n",
       "\\item 'fitted'\n",
       "\\item 'residuals'\n",
       "\\item 'fixDF'\n",
       "\\item 'na.action'\n",
       "\\item 'data'\n",
       "\\item 'corFixed'\n",
       "\\item 'tTable'\n",
       "\\item 'BIC'\n",
       "\\item 'AIC'\n",
       "\\end{enumerate*}\n",
       "\n",
       "\\item[\\$class] \\begin{enumerate*}\n",
       "\\item 'summary.lme'\n",
       "\\item 'lme'\n",
       "\\end{enumerate*}\n",
       "\n",
       "\\item[\\$verbose] FALSE\n",
       "\\item[\\$oClass] 'lme'\n",
       "\\end{description}\n"
      ],
      "text/markdown": [
       "$names\n",
       ":   1. 'modelStruct'\n",
       "2. 'dims'\n",
       "3. 'contrasts'\n",
       "4. 'coefficients'\n",
       "5. 'varFix'\n",
       "6. 'sigma'\n",
       "7. 'apVar'\n",
       "8. 'logLik'\n",
       "9. 'numIter'\n",
       "10. 'groups'\n",
       "11. 'call'\n",
       "12. 'terms'\n",
       "13. 'method'\n",
       "14. 'fitted'\n",
       "15. 'residuals'\n",
       "16. 'fixDF'\n",
       "17. 'na.action'\n",
       "18. 'data'\n",
       "19. 'corFixed'\n",
       "20. 'tTable'\n",
       "21. 'BIC'\n",
       "22. 'AIC'\n",
       "\n",
       "\n",
       "\n",
       "$class\n",
       ":   1. 'summary.lme'\n",
       "2. 'lme'\n",
       "\n",
       "\n",
       "\n",
       "$verbose\n",
       ":   FALSE\n",
       "$oClass\n",
       ":   'lme'\n",
       "\n",
       "\n"
      ],
      "text/plain": [
       "$names\n",
       " [1] \"modelStruct\"  \"dims\"         \"contrasts\"    \"coefficients\" \"varFix\"      \n",
       " [6] \"sigma\"        \"apVar\"        \"logLik\"       \"numIter\"      \"groups\"      \n",
       "[11] \"call\"         \"terms\"        \"method\"       \"fitted\"       \"residuals\"   \n",
       "[16] \"fixDF\"        \"na.action\"    \"data\"         \"corFixed\"     \"tTable\"      \n",
       "[21] \"BIC\"          \"AIC\"         \n",
       "\n",
       "$class\n",
       "[1] \"summary.lme\" \"lme\"        \n",
       "\n",
       "$verbose\n",
       "[1] FALSE\n",
       "\n",
       "$oClass\n",
       "[1] \"lme\"\n"
      ]
     },
     "metadata": {},
     "output_type": "display_data"
    }
   ],
   "source": [
    "attributes(summary(lme_S))"
   ]
  },
  {
   "cell_type": "raw",
   "metadata": {},
   "source": [
    "intervals(lme_S)"
   ]
  },
  {
   "cell_type": "code",
   "execution_count": 92,
   "metadata": {},
   "outputs": [
    {
     "data": {
      "text/html": [
       "<table>\n",
       "<thead><tr><th></th><th scope=col>numDF</th><th scope=col>denDF</th><th scope=col>F-value</th><th scope=col>p-value</th></tr></thead>\n",
       "<tbody>\n",
       "\t<tr><th scope=row>(Intercept)</th><td>1         </td><td>116       </td><td>154.592930</td><td>0.00000000</td></tr>\n",
       "\t<tr><th scope=row>DoseN</th><td>1         </td><td>116       </td><td>  2.897476</td><td>0.09139685</td></tr>\n",
       "\t<tr><th scope=row>NitrogenType</th><td>3         </td><td>116       </td><td>  1.972322</td><td>0.12198490</td></tr>\n",
       "</tbody>\n",
       "</table>\n"
      ],
      "text/latex": [
       "\\begin{tabular}{r|llll}\n",
       "  & numDF & denDF & F-value & p-value\\\\\n",
       "\\hline\n",
       "\t(Intercept) & 1          & 116        & 154.592930 & 0.00000000\\\\\n",
       "\tDoseN & 1          & 116        &   2.897476 & 0.09139685\\\\\n",
       "\tNitrogenType & 3          & 116        &   1.972322 & 0.12198490\\\\\n",
       "\\end{tabular}\n"
      ],
      "text/markdown": [
       "\n",
       "| <!--/--> | numDF | denDF | F-value | p-value |\n",
       "|---|---|---|---|---|\n",
       "| (Intercept) | 1          | 116        | 154.592930 | 0.00000000 |\n",
       "| DoseN | 1          | 116        |   2.897476 | 0.09139685 |\n",
       "| NitrogenType | 3          | 116        |   1.972322 | 0.12198490 |\n",
       "\n"
      ],
      "text/plain": [
       "             numDF denDF F-value    p-value   \n",
       "(Intercept)  1     116   154.592930 0.00000000\n",
       "DoseN        1     116     2.897476 0.09139685\n",
       "NitrogenType 3     116     1.972322 0.12198490"
      ]
     },
     "metadata": {},
     "output_type": "display_data"
    }
   ],
   "source": [
    "anova(lme_S)"
   ]
  },
  {
   "cell_type": "code",
   "execution_count": 93,
   "metadata": {},
   "outputs": [
    {
     "data": {
      "text/html": [
       "0.190777617494441"
      ],
      "text/latex": [
       "0.190777617494441"
      ],
      "text/markdown": [
       "0.190777617494441"
      ],
      "text/plain": [
       "[1] 0.1907776"
      ]
     },
     "metadata": {},
     "output_type": "display_data"
    }
   ],
   "source": [
    "pseudoR2(y=TBI_GreenTea$S, # [omdecomp_data$TauxDecomposition_C > 0]\n",
    "         y_hat = predict(lme_S, level=0))"
   ]
  },
  {
   "cell_type": "code",
   "execution_count": 94,
   "metadata": {},
   "outputs": [
    {
     "name": "stdout",
     "output_type": "stream",
     "text": [
      "[1] \"Shapiro-Wilk:\"\n",
      "\n",
      "\tShapiro-Wilk normality test\n",
      "\n",
      "data:  r\n",
      "W = 0.89594, p-value = 8.34e-08\n",
      "\n",
      "[1] \"Kurtosis: 6.33426604324906\"\n",
      "[1] \"Skewness: 1.45996663413087\"\n"
     ]
    },
    {
     "data": {
      "image/png": "[encoded data removed]",
      "text/plain": [
       "Plot with title \"\""
      ]
     },
     "metadata": {},
     "output_type": "display_data"
    }
   ],
   "source": [
    "residues(lme_S)"
   ]
  },
  {
   "cell_type": "code",
   "execution_count": 95,
   "metadata": {},
   "outputs": [],
   "source": [
    "weightdiff_gg_S = data.frame(intervals(lme_S, which = \"fixed\")$fixed)"
   ]
  },
  {
   "cell_type": "code",
   "execution_count": 96,
   "metadata": {},
   "outputs": [],
   "source": [
    "weightdiff_gg_S$pvalue = summary(lme_S)$tTable[, 5]"
   ]
  },
  {
   "cell_type": "code",
   "execution_count": 97,
   "metadata": {},
   "outputs": [],
   "source": [
    "weightdiff_gg_S$is_significant = ifelse(weightdiff_gg_S$pvalue <= 0.05,\n",
    "                                      'Significant at 0.05 level',\n",
    "                                      'Not significant at 0.05 level')"
   ]
  },
  {
   "cell_type": "code",
   "execution_count": 98,
   "metadata": {},
   "outputs": [],
   "source": [
    "weightdiff_gg_S$variable = rownames(weightdiff_gg_S)"
   ]
  },
  {
   "cell_type": "code",
   "execution_count": 99,
   "metadata": {},
   "outputs": [
    {
     "data": {
      "text/html": [
       "<ol class=list-inline>\n",
       "\t<li>'(Intercept)'</li>\n",
       "\t<li>'DoseN'</li>\n",
       "\t<li>'NitrogenTypeN-6-1-1'</li>\n",
       "\t<li>'NitrogenTypeN-8-0-0'</li>\n",
       "\t<li>'NitrogenTypeN-SCU'</li>\n",
       "</ol>\n"
      ],
      "text/latex": [
       "\\begin{enumerate*}\n",
       "\\item '(Intercept)'\n",
       "\\item 'DoseN'\n",
       "\\item 'NitrogenTypeN-6-1-1'\n",
       "\\item 'NitrogenTypeN-8-0-0'\n",
       "\\item 'NitrogenTypeN-SCU'\n",
       "\\end{enumerate*}\n"
      ],
      "text/markdown": [
       "1. '(Intercept)'\n",
       "2. 'DoseN'\n",
       "3. 'NitrogenTypeN-6-1-1'\n",
       "4. 'NitrogenTypeN-8-0-0'\n",
       "5. 'NitrogenTypeN-SCU'\n",
       "\n",
       "\n"
      ],
      "text/plain": [
       "[1] \"(Intercept)\"         \"DoseN\"               \"NitrogenTypeN-6-1-1\"\n",
       "[4] \"NitrogenTypeN-8-0-0\" \"NitrogenTypeN-SCU\"  "
      ]
     },
     "metadata": {},
     "output_type": "display_data"
    }
   ],
   "source": [
    "weightdiff_gg_S$variable"
   ]
  },
  {
   "cell_type": "code",
   "execution_count": 100,
   "metadata": {},
   "outputs": [],
   "source": [
    "weightdiff_gg_S$variable[c(3,4,5)] <- c('N-6-1-1', 'N-8-0-0',\n",
    "                                   'N-SCU-39-0-0')"
   ]
  },
  {
   "cell_type": "code",
   "execution_count": 101,
   "metadata": {},
   "outputs": [],
   "source": [
    "weightdiff_gg_S$facet = factor(c('Intercept','N dosage',\n",
    "                               'N source', 'N source', 'N source'))"
   ]
  },
  {
   "cell_type": "code",
   "execution_count": 102,
   "metadata": {},
   "outputs": [],
   "source": [
    "weightdiff_gg_S = weightdiff_gg_S[-1, ] # remove the intercept"
   ]
  },
  {
   "cell_type": "code",
   "execution_count": 103,
   "metadata": {},
   "outputs": [
    {
     "data": {
      "image/png": "[encoded data removed]",
      "text/plain": [
       "plot without title"
      ]
     },
     "metadata": {},
     "output_type": "display_data"
    }
   ],
   "source": [
    "ggplot(weightdiff_gg_S, aes(x = est., y=variable, colour=is_significant)) +\n",
    "  facet_grid(facet ~ ., scales = 'free', space = 'free') +\n",
    "  geom_point() +\n",
    "  geom_segment(aes(x=lower, xend=upper, y=variable, yend=variable)) +\n",
    "  geom_vline(xintercept = 0, colour='grey70') +\n",
    "  xlab('Coefficient') +\n",
    "  ylab('') +\n",
    "  theme(strip.text.y = element_text(angle=0),\n",
    "        legend.title = element_blank(),\n",
    "        legend.position = \"bottom\")"
   ]
  },
  {
   "cell_type": "code",
   "execution_count": 104,
   "metadata": {},
   "outputs": [],
   "source": [
    "ggsave(\"Figure6.png\", width = 8, height = 5, dpi = 600)# export plot high resolution"
   ]
  },
  {
   "cell_type": "markdown",
   "metadata": {},
   "source": [
    "# reproducing keuskamp TBI"
   ]
  },
  {
   "cell_type": "code",
   "execution_count": 105,
   "metadata": {},
   "outputs": [
    {
     "name": "stderr",
     "output_type": "stream",
     "text": [
      "Warning message:\n",
      "\"package 'ggrepel' was built under R version 3.6.2\""
     ]
    }
   ],
   "source": [
    "library(readxl)\n",
    "library(\"ggrepel\")\n",
    "Data_1_tbi <- read_excel('KEUSKAMP TBI DATA2.xlsx')"
   ]
  },
  {
   "cell_type": "code",
   "execution_count": 106,
   "metadata": {},
   "outputs": [
    {
     "data": {
      "image/png": "[encoded data removed]",
      "text/plain": [
       "plot without title"
      ]
     },
     "metadata": {},
     "output_type": "display_data"
    }
   ],
   "source": [
    "options(repr.plot.width=6.5, repr.plot.height=6)\n",
    "ggplot(data=Data_1_tbi, aes(x= Stabilisation_factor_S, y=Decomposition_rate_K, group=Region)) +\n",
    "  geom_point()+\n",
    "#geom_text(aes(label=Nombre))\n",
    "  #geom_text(aes(label=Region, nudge_x = 0.25, nudge_y = 0.25, check_overlap = T))\n",
    "set.seed(42)+\n",
    "geom_label_repel(aes(label = Region),\n",
    "                    #fill = Region), \n",
    "                 color = 'black',\n",
    "                    size = 3.5) +\n",
    "   theme(legend.position = \"none\")+\n",
    "labs(x = \"Stabilization factor (S)\",\n",
    "       y = \"Decomposition rate (k1)\") "
   ]
  },
  {
   "cell_type": "code",
   "execution_count": 107,
   "metadata": {},
   "outputs": [],
   "source": [
    "ggsave(\"TBI keuskamp modifié.png\", width = 6, height = 6, dpi = 120)# export plot high resolution"
   ]
  }
 ],
 "metadata": {
  "kernelspec": {
   "display_name": "R",
   "language": "R",
   "name": "ir"
  },
  "language_info": {
   "codemirror_mode": "r",
   "file_extension": ".r",
   "mimetype": "text/x-r-source",
   "name": "R",
   "pygments_lexer": "r",
   "version": "3.6.1"
  }
 },
 "nbformat": 4,
 "nbformat_minor": 4
}
