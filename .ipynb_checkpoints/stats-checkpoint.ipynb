{
 "cells": [
  {
   "cell_type": "markdown",
   "metadata": {},
   "source": [
    "# Organic matter decomposition kinetics in cranberry agroecosystem using the Tea Bag Index\n",
    "\n",
    "*Wilfried Dossou-Yovo, Serge Étienne Parent, Noura Ziadi, Élizabeth Parent and Léon Étienne Parent*"
   ]
  },
  {
   "cell_type": "code",
   "execution_count": 247,
   "metadata": {},
   "outputs": [
    {
     "name": "stdout",
     "output_type": "stream",
     "text": [
      "[1] \"2021-03-17\"\n"
     ]
    }
   ],
   "source": [
    "print(Sys.Date())"
   ]
  },
  {
   "cell_type": "markdown",
   "metadata": {},
   "source": [
    "## 1. Objective"
   ]
  },
  {
   "cell_type": "markdown",
   "metadata": {},
   "source": [
    "This notebook generates the results included in the manuscript *Organic matter decomposition kinetics in cranberry agroecosystem using the Tea Bag Index*. Two trials have been made, first one in 2017 (data_2017.csv) and the second in 2018 (data_2018.csv).Data set from trials are a collection of incubated tea bag weight, nitrogen, carbon and sulfur content, nitrogen type and doses on trials fieds. The aims of this study was to assess soil carbon sequestration capacity of cranberry stands in eastern Canada."
   ]
  },
  {
   "cell_type": "markdown",
   "metadata": {},
   "source": [
    "## 2. Statistical questions\n",
    "\n",
    "In addition to data exploration, this notebook will answer the following statistical questions.\n",
    "\n",
    "1. What affecting TBI parameters (k)?\n",
    "2. Where cranberry soils are placed among the axes of the *TBI*?\n",
    "3. What is the fractal kinetics of litter matterials ?\n",
    "4. What is the fractal kinetics of litter biochemical composition ?"
   ]
  },
  {
   "cell_type": "markdown",
   "metadata": {},
   "source": [
    "## 3. Packages and Function"
   ]
  },
  {
   "cell_type": "markdown",
   "metadata": {},
   "source": [
    "### 3.1 Packages"
   ]
  },
  {
   "cell_type": "markdown",
   "metadata": {},
   "source": [
    "We need package [tidyverse](https://www.tidyverse.org/) which loads a set of packages for easy data manipulation (e.g. [dplyr](https://www.rdocumentation.org/packages/dplyr/versions/0.7.8)) and visualization (e.g. [ggplot2](https://www.rdocumentation.org/packages/ggplot2/versions/3.2.1)). A set of other packages is used: [nlme](https://www.rdocumentation.org/packages/nlme/versions/3.1-143/topics/nlme) for fitting nonlinear mixed-effects models, the [broom](https://www.rdocumentation.org/packages/broom/versions/0.7.0) package summarises model outputs in a \"tidy\" way, [e1071](https://www.rdocumentation.org/packages/e1071/versions/1.7-3) to test distributions, [ggmap](https://www.rdocumentation.org/packages/ggmap/versions/3.0.0) for mapping, [ggrepel](https://www.rdocumentation.org/packages/ggrepel/versions/0.8.1) to avoid text overlaping on ggplot2, [patchwork](https://www.rdocumentation.org/packages/patchwork/versions/1.0.0/topics/patchwork-package) to assemble plots in grids, [composition](https://www.rdocumentation.org/packages/compositions/versions/1.40-5) for compositional data transformations."
   ]
  },
  {
   "cell_type": "code",
   "execution_count": 248,
   "metadata": {},
   "outputs": [],
   "source": [
    "library(\"tidyverse\")\n",
    "library(\"nlme\")\n",
    "library(\"broom\")\n",
    "library(\"e1071\")\n",
    "library(\"ggmap\")\n",
    "library(\"ggrepel\")\n",
    "library(\"patchwork\")\n",
    "library(\"compositions\")"
   ]
  },
  {
   "cell_type": "markdown",
   "metadata": {},
   "source": [
    "## 3.2 Some custom functions.\n",
    "### Pseudo R-square\n",
    "Pseudo R-square allows to measure how well variables of our model explain organic matter decomposition"
   ]
  },
  {
   "cell_type": "code",
   "execution_count": 249,
   "metadata": {},
   "outputs": [],
   "source": [
    "pseudoR2 <- function(y, y_hat) {\n",
    "  1 - (sum((y - y_hat)^2) / sum((y - mean(y))^2))\n",
    "}\n",
    "\n",
    "# Residuals\n",
    "residues <- function(model, level = 0, computeResidues = TRUE, residues,\n",
    "                   main = \"\") {\n",
    "  if (computeResidues) {\n",
    "    r = residuals(model, type=\"normalized\", level)\n",
    "  } else {\n",
    "    r = residues\n",
    "  }\n",
    "  hist(r, freq=F, main = main, breaks=20)\n",
    "  xfit<-seq(min(r),max(r),length=40)\n",
    "  yfit<-dnorm(xfit)\n",
    "  lines(xfit, yfit, col=\"red\", lwd=2)\n",
    "  print(\"Shapiro-Wilk:\")\n",
    "  print(shapiro.test(r))\n",
    "  print(paste(\"Kurtosis:\", kurtosis(r)))\n",
    "  print(paste(\"Skewness:\", skewness(r)))\n",
    "}"
   ]
  },
  {
   "cell_type": "markdown",
   "metadata": {},
   "source": [
    "## 4. Import data\n",
    "Here, we load our data `data.csv` available for the project in the `data` folder."
   ]
  },
  {
   "cell_type": "code",
   "execution_count": 250,
   "metadata": {},
   "outputs": [
    {
     "name": "stderr",
     "output_type": "stream",
     "text": [
      "Warning message:\n",
      "\"Missing column names filled in: 'X1' [1]\"Parsed with column specification:\n",
      "cols(\n",
      "  X1 = col_double(),\n",
      "  No = col_double(),\n",
      "  `Tea type abbr` = col_character(),\n",
      "  `Tea type` = col_character(),\n",
      "  `Initial tea weight (g)` = col_double(),\n",
      "  `Initial total weight (g)` = col_double(),\n",
      "  `Initial bag weight (g)` = col_double(),\n",
      "  `Remaining tea weight (g)` = col_double(),\n",
      "  Farm = col_character(),\n",
      "  Site = col_character(),\n",
      "  `Farming system` = col_character(),\n",
      "  `Nitrogen type` = col_character(),\n",
      "  `Nitrogen dose` = col_double(),\n",
      "  Repetition = col_double(),\n",
      "  `Remaining C (%)` = col_double(),\n",
      "  `Remaining N (%)` = col_double(),\n",
      "  `Remaining S (%)` = col_double(),\n",
      "  `Initial C fraction` = col_double()\n",
      ")\n"
     ]
    }
   ],
   "source": [
    "df <- read_csv(\"data/data_2017.csv\")"
   ]
  },
  {
   "cell_type": "markdown",
   "metadata": {},
   "source": [
    "We create a label `Dose repetition` to create unique identifiers for blocks."
   ]
  },
  {
   "cell_type": "code",
   "execution_count": 251,
   "metadata": {},
   "outputs": [],
   "source": [
    "df$`Dose repetition` <- paste0(df$`Nitrogen dose`, '_', df$Repetition,'_', df$Site)"
   ]
  },
  {
   "cell_type": "markdown",
   "metadata": {},
   "source": [
    "*Cranberry litter* category will be used for the reference category in modeling."
   ]
  },
  {
   "cell_type": "code",
   "execution_count": 252,
   "metadata": {},
   "outputs": [],
   "source": [
    "df$`Tea type` <- relevel(factor(df$`Tea type`), ref = 'Cranberry litter')"
   ]
  },
  {
   "cell_type": "markdown",
   "metadata": {},
   "source": [
    "## 5. Mapping experimental sites"
   ]
  },
  {
   "cell_type": "markdown",
   "metadata": {},
   "source": [
    "We design a map of our four experimental sites with geographical position collected from Stamen maps. Warnings appear, but it seems its a bug that comes out when mixing ggmap and geom_label_repel."
   ]
  },
  {
   "cell_type": "code",
   "execution_count": 308,
   "metadata": {},
   "outputs": [
    {
     "name": "stderr",
     "output_type": "stream",
     "text": [
      "Warning message in min(x):\n",
      "\"aucun argument trouvé pour min ; Inf est renvoyé\"Warning message in max(x):\n",
      "\"aucun argument pour max ; -Inf est renvoyé\"Warning message in min(x):\n",
      "\"aucun argument trouvé pour min ; Inf est renvoyé\"Warning message in max(x):\n",
      "\"aucun argument pour max ; -Inf est renvoyé\"Warning message in min(x):\n",
      "\"aucun argument trouvé pour min ; Inf est renvoyé\"Warning message in max(x):\n",
      "\"aucun argument pour max ; -Inf est renvoyé\"Warning message in min(x):\n",
      "\"aucun argument trouvé pour min ; Inf est renvoyé\"Warning message in max(x):\n",
      "\"aucun argument pour max ; -Inf est renvoyé\""
     ]
    },
    {
     "data": {
      "image/png": "[encoded data removed]",
      "text/plain": [
       "plot without title"
      ]
     },
     "metadata": {},
     "output_type": "display_data"
    }
   ],
   "source": [
    "# table including sites and their geograhic position\n",
    "sites <- tibble(names = c(\"Site #45\", \"Site #9\", \"Site #A9\", \"Site #10\"),\n",
    "                lat = c(46.2759555, 46.2759555, 46.2329064, 46.3277404),\n",
    "                lon = c(-71.8584291, -71.8584291, -72.0461854, -71.7486645))\n",
    "\n",
    "# create two frames, one for zoom out, the other for zoom in\n",
    "frame_map_zoom_out <- c(left = -91, bottom = 43, right = -48, top = 63)\n",
    "frame_map_zoom_in <- c(left = -73, bottom = 46, right = -70.5, top = 47)\n",
    "\n",
    "# to draw the zoom in frame on the zoom out map\n",
    "rect_zoom <- data.frame(t(data.frame(frame_map_zoom_in)))\n",
    "\n",
    "# the map with zoom out\n",
    "map_out <- get_stamenmap(frame_map_zoom_out, zoom = 4, maptype = \"toner-lite\") %>%\n",
    "  ggmap() +\n",
    "  geom_rect(data = rect_zoom, aes(xmin = left, xmax = right,\n",
    "                                  ymin = bottom, ymax = top,\n",
    "                                  x = NULL, y = NULL),\n",
    "            fill = rgb(0, 0, 0, 0.2), colour = \"black\") +\n",
    "  #geom_label_repel(data = sites, aes(x = lon, y = lat, label = names)) +\n",
    "  labs(x = \"Longitude\", y = \"Latiude\", title = \"A\")\n",
    "\n",
    "# the map with zoom in\n",
    "map_in <- get_stamenmap(frame_map_zoom_in, zoom = 8, maptype = \"toner-lite\") %>%\n",
    "  ggmap() +\n",
    "  geom_label_repel(data = sites, aes(x = lon, y = lat, label = names)) +\n",
    "  labs(x = \"Longitude\", y = \"Latiude\", title = \"B\")\n",
    "\n",
    "# combining the plots\n",
    "maps_ <- map_out + map_in\n",
    "maps_\n",
    "ggsave(\"figures/site_map.png\", plot = maps_, width = 8, height = 6, dpi = 600)"
   ]
  },
  {
   "cell_type": "markdown",
   "metadata": {},
   "source": [
    "## 6. Monthly weather data (2008-2018) at Lemieux, Quebec (46° 09′ 56″ N 72° 19′ 28″ W), for experimental sites (Gouvernement du Canada, 2018)"
   ]
  },
  {
   "cell_type": "markdown",
   "metadata": {},
   "source": [
    "### 6.1 Import data weather\n",
    "\n",
    "`Data weather` has been collected from environnement canada. The content is the collection of data history about temperature and precipitation from years of field trial (2017 and 2018) and 10 years average (2008 to 2018)."
   ]
  },
  {
   "cell_type": "code",
   "execution_count": 279,
   "metadata": {},
   "outputs": [
    {
     "name": "stderr",
     "output_type": "stream",
     "text": [
      "Using ',' as decimal and '.' as grouping mark. Use read_delim() for more control.\n",
      "Parsed with column specification:\n",
      "cols(\n",
      "  Years = col_character(),\n",
      "  Months = col_character(),\n",
      "  `Precipitations (mm)` = col_double(),\n",
      "  `Temperatures (oC)` = col_double()\n",
      ")\n"
     ]
    }
   ],
   "source": [
    "df_weather <- read_csv2(\"data/data_weather.csv\")"
   ]
  },
  {
   "cell_type": "markdown",
   "metadata": {},
   "source": [
    "### 6.2 Plot weather data"
   ]
  },
  {
   "cell_type": "code",
   "execution_count": 305,
   "metadata": {},
   "outputs": [
    {
     "data": {
      "image/png": "[encoded data removed]",
      "text/plain": [
       "plot without title"
      ]
     },
     "metadata": {},
     "output_type": "display_data"
    }
   ],
   "source": [
    "df_weather$Months <- factor(df_weather$Months,levels = c(\"June\", \"July\", \"August\", \"September\")) #  Sorting bars by Months\n",
    "\n",
    "df_weather_long <- df_weather %>%\n",
    "  pivot_longer(cols = -c(Years, Months))\n",
    "\n",
    "Weather <- df_weather_long %>%\n",
    "  filter(Years %in% c(\"2017\", \"2018\", \"10 Years average\")) %>%\n",
    "  ggplot(aes(x = `Months`, y = value)) +\n",
    "  facet_grid(name ~ ., scales = \"free\", switch = \"y\") +\n",
    "  geom_bar(aes(fill= Years), colour = \"black\", stat=\"identity\", position=\"dodge\") +\n",
    "  theme_bw() +\n",
    "scale_fill_manual(values = c(\"black\",\"white\",\"grey\")) +\n",
    "  theme(axis.title.y = element_blank(),\n",
    "        strip.background = element_rect(fill = \"transparent\", colour = \"transparent\"),\n",
    "        strip.placement = \"outside\")\n",
    "Weather\n",
    "ggsave(\"figures/Weather.png\", plot = Weather, width = 7, height = 6, dpi = 120)"
   ]
  },
  {
   "cell_type": "markdown",
   "metadata": {},
   "source": [
    "## 7. Compute the 1st order kinetics"
   ]
  },
  {
   "cell_type": "markdown",
   "metadata": {},
   "source": [
    "Weight loss rate has been estimated with the function\n",
    "\n",
    "$k_1 = \\frac{-ln \\left( \\frac{M(t)}{M_0} \\right) }{t}$,\n",
    "\n",
    "where $M_0$ is initial litter organic mass, $M(t)$ is litter organic mass that remains after incubation time $t = 90~days$, and $k_1$ is decomposition rate. "
   ]
  },
  {
   "cell_type": "code",
   "execution_count": 283,
   "metadata": {},
   "outputs": [],
   "source": [
    "kinetics_1st <- function(rw, iw, t) { # First order kinetic function\n",
    "    -log(rw/iw)/t\n",
    "}"
   ]
  },
  {
   "cell_type": "markdown",
   "metadata": {},
   "source": [
    "We can compute `k1` for each row of the `df` table."
   ]
  },
  {
   "cell_type": "code",
   "execution_count": 284,
   "metadata": {},
   "outputs": [],
   "source": [
    "df$k1 <- kinetics_1st(rw = df$`Remaining tea weight (g)`,\n",
    "                      iw = df$`Initial tea weight (g)`,\n",
    "                      t = 90)"
   ]
  },
  {
   "cell_type": "markdown",
   "metadata": {},
   "source": [
    "## 8. Data exploration"
   ]
  },
  {
   "cell_type": "markdown",
   "metadata": {},
   "source": [
    "Boxplot of $k_1$ for different N dosages per litter."
   ]
  },
  {
   "cell_type": "code",
   "execution_count": 285,
   "metadata": {},
   "outputs": [
    {
     "name": "stderr",
     "output_type": "stream",
     "text": [
      "Warning message:\n",
      "\"Removed 23 rows containing non-finite values (stat_boxplot).\""
     ]
    },
    {
     "data": {
      "image/png": "[encoded data removed]",
      "text/plain": [
       "plot without title"
      ]
     },
     "metadata": {},
     "output_type": "display_data"
    }
   ],
   "source": [
    "options(repr.plot.width = 6, repr.plot.height = 10)\n",
    "ggplot(data = df,\n",
    "       mapping = aes(x = `Nitrogen type`, y = k1)) +\n",
    "  facet_grid(`Tea type` ~ ., scales = \"free\") +\n",
    "  geom_boxplot()"
   ]
  },
  {
   "cell_type": "markdown",
   "metadata": {},
   "source": [
    "## 9. Mixed model"
   ]
  },
  {
   "cell_type": "markdown",
   "metadata": {},
   "source": [
    "## 9.1 **Question 1**: What affected TBI parameters (k)?\n",
    "\n",
    "Adding `M / M0` variable to data `df`."
   ]
  },
  {
   "cell_type": "code",
   "execution_count": 286,
   "metadata": {},
   "outputs": [],
   "source": [
    "df <- df %>%\n",
    "  mutate(`M / M0` = `Remaining tea weight (g)` / `Initial tea weight (g)`)"
   ]
  },
  {
   "cell_type": "markdown",
   "metadata": {},
   "source": [
    "I store hydrolysable fractions of green tea and rooibos."
   ]
  },
  {
   "cell_type": "code",
   "execution_count": 287,
   "metadata": {},
   "outputs": [],
   "source": [
    "Hf_g <- 0.805   # Hydrolysable fraction for Green tea\n",
    "Hf_r <- 0.826   # Hydrolysable fraction for Rooibos tea"
   ]
  },
  {
   "cell_type": "markdown",
   "metadata": {},
   "source": [
    "For comparaison purpose, [Keuskamp et al. (2013)](https://besjournals.onlinelibrary.wiley.com/doi/full/10.1111/2041-210X.12097) hydrolysable fractions were:\n",
    "\n",
    "- Green tea `Hf_g = 0.842`  \n",
    "- Rooibos tea `Hf_r = 0.552`"
   ]
  },
  {
   "cell_type": "markdown",
   "metadata": {},
   "source": [
    "### 9.1.1 Computation of the labile fraction (a) and the stabilization factor (s) of green tea\n",
    "\n",
    "Decomposition rate `k_tbi` is computed from Rooibos tea after 90 days of incubation. The *TBI* assumes that the decomposition of Green tea has stablilized while Rooibos tea is still decomposing. Stabilization factor `S` is computed from Green tea."
   ]
  },
  {
   "cell_type": "code",
   "execution_count": 288,
   "metadata": {},
   "outputs": [],
   "source": [
    "df <- df %>%\n",
    "  mutate(a = ifelse(`Tea type` == \"Green tea\",\n",
    "                    (`Initial tea weight (g)` - `Remaining tea weight (g)`) / `Initial tea weight (g)`,\n",
    "                    NA),\n",
    "         S = 1 - a / Hf_g)"
   ]
  },
  {
   "cell_type": "markdown",
   "metadata": {},
   "source": [
    "Compute litter stability `Sg` (Green tea) and decomposition constant `k_tbi` (Rooibos) for each experimental unit."
   ]
  },
  {
   "cell_type": "code",
   "execution_count": 289,
   "metadata": {},
   "outputs": [],
   "source": [
    "df <- df %>%\n",
    "  mutate(sdr = paste(df$Site, df$`Nitrogen dose`, df$Repetition))\n",
    "sdr_u <- unique(df$sdr)"
   ]
  },
  {
   "cell_type": "code",
   "execution_count": 290,
   "metadata": {},
   "outputs": [],
   "source": [
    "# Initialize k_tbi column\n",
    "df$k_tbi <- NA\n",
    "\n",
    "# For each rep, compute a and k_tbi\n",
    "for (i in 1:length(sdr_u)) {\n",
    "  # Green tea\n",
    "  Sg_i <- mean(df$S[df$sdr == sdr_u[i] & df$`Tea type` == \"Green tea\"], na.rm = TRUE)\n",
    "  \n",
    "  # Rooibos\n",
    "  df$a[df$sdr == sdr_u[i] & df$`Tea type` == \"Rooibos tea\"] <- Hf_r * (1 - Sg_i)\n",
    "  ar_i <- df$a[df$sdr == sdr_u[i] & df$`Tea type` == \"Rooibos tea\"]\n",
    "  M_M0i <- df$`M / M0`[df$sdr == sdr_u[i] & df$`Tea type` == \"Rooibos tea\"]\n",
    "  df$k_tbi[df$sdr == sdr_u[i] & df$`Tea type` == \"Rooibos tea\"] <- log(ar_i / (M_M0i - (1-ar_i))) / 90\n",
    "}"
   ]
  },
  {
   "cell_type": "markdown",
   "metadata": {},
   "source": [
    "Data exploration for N dose type."
   ]
  },
  {
   "cell_type": "code",
   "execution_count": 291,
   "metadata": {},
   "outputs": [
    {
     "name": "stderr",
     "output_type": "stream",
     "text": [
      "Warning message:\n",
      "\"Removed 186 rows containing missing values (geom_point).\""
     ]
    },
    {
     "data": {
      "image/png": "[encoded data removed]",
      "text/plain": [
       "plot without title"
      ]
     },
     "metadata": {},
     "output_type": "display_data"
    }
   ],
   "source": [
    "options(repr.plot.width=12, repr.plot.height=4)\n",
    "ggplot(data = df,\n",
    "       mapping = aes(x = `Nitrogen dose`, y = k_tbi)) +\n",
    "  geom_point(aes(colour = `Nitrogen type`)) +\n",
    "  geom_line(data = . %>%\n",
    "    group_by(`Nitrogen dose`, `Nitrogen type`) %>%\n",
    "    summarise(k_tbi = mean(k_tbi, na.rm = TRUE)),\n",
    "           aes(colour = `Nitrogen type`))"
   ]
  },
  {
   "cell_type": "markdown",
   "metadata": {},
   "source": [
    "### 9.2 What affecting TBI parameters (k)?\n",
    "\n",
    "Because `k_tbi` is computed from Rooibos tea, we create a new Rooibos data table named `df_rooibos`."
   ]
  },
  {
   "cell_type": "code",
   "execution_count": 292,
   "metadata": {},
   "outputs": [],
   "source": [
    "df_rooibos <- df %>% \n",
    "  filter(`Tea type` == \"Rooibos tea\")\n",
    "\n",
    "TBI_data <- df %>%\n",
    "  select(k_tbi, `Tea type`, Farm, `Nitrogen dose`, Site,\n",
    "         `Nitrogen type`) %>%\n",
    "  rename(Ntype = `Nitrogen type`,\n",
    "         Ndose = `Nitrogen dose`) %>%\n",
    "  drop_na() %>%\n",
    "  droplevels()\n",
    "\n",
    "TBI_rooibos <- TBI_data %>%\n",
    "  filter(`Tea type` == \"Rooibos tea\")"
   ]
  },
  {
   "cell_type": "markdown",
   "metadata": {},
   "source": [
    "### 9.2.1 `k_tbi` mixed model"
   ]
  },
  {
   "cell_type": "markdown",
   "metadata": {},
   "source": [
    "lme_TBI model investigates the magnitude of the dose (`Ndose`) on `k_tbi`, considering the random effect of sites (`Site`)"
   ]
  },
  {
   "cell_type": "code",
   "execution_count": 293,
   "metadata": {},
   "outputs": [],
   "source": [
    "TBI_rooibos <- TBI_rooibos %>%\n",
    "mutate(log = log(k_tbi))\n",
    "lme_TBI <- lme (log ~  Ndose, \n",
    "               random = ~ 1 | Site, \n",
    "    data = TBI_rooibos)"
   ]
  },
  {
   "cell_type": "code",
   "execution_count": 294,
   "metadata": {},
   "outputs": [
    {
     "data": {
      "text/plain": [
       "Linear mixed-effects model fit by REML\n",
       " Data: TBI_rooibos \n",
       "       AIC      BIC    logLik\n",
       "  29.23211 38.90747 -10.61605\n",
       "\n",
       "Random effects:\n",
       " Formula: ~1 | Site\n",
       "        (Intercept)  Residual\n",
       "StdDev:   0.2274628 0.2395634\n",
       "\n",
       "Fixed effects: log ~ Ndose \n",
       "                Value  Std.Error DF   t-value p-value\n",
       "(Intercept) -5.198405 0.15038005 80 -34.56845  0.0000\n",
       "Ndose        0.003086 0.00211625 80   1.45825  0.1487\n",
       " Correlation: \n",
       "      (Intr)\n",
       "Ndose -0.631\n",
       "\n",
       "Standardized Within-Group Residuals:\n",
       "        Min          Q1         Med          Q3         Max \n",
       "-2.42462710 -0.65390187 -0.07675473  0.60081810  2.92740766 \n",
       "\n",
       "Number of Observations: 85\n",
       "Number of Groups: 4 "
      ]
     },
     "metadata": {},
     "output_type": "display_data"
    }
   ],
   "source": [
    "summary(lme_TBI)"
   ]
  },
  {
   "cell_type": "markdown",
   "metadata": {},
   "source": [
    "### 9.2.2 Pseudo r-square\n",
    "Pseudo r-square was 0.01 with and 0.45 without random effect indicated the influence of random effects was impotant. "
   ]
  },
  {
   "cell_type": "code",
   "execution_count": 295,
   "metadata": {},
   "outputs": [
    {
     "data": {
      "text/html": [
       "0.0110784524248689"
      ],
      "text/latex": [
       "0.0110784524248689"
      ],
      "text/markdown": [
       "0.0110784524248689"
      ],
      "text/plain": [
       "[1] 0.01107845"
      ]
     },
     "metadata": {},
     "output_type": "display_data"
    },
    {
     "data": {
      "text/html": [
       "0.453053694522229"
      ],
      "text/latex": [
       "0.453053694522229"
      ],
      "text/markdown": [
       "0.453053694522229"
      ],
      "text/plain": [
       "[1] 0.4530537"
      ]
     },
     "metadata": {},
     "output_type": "display_data"
    }
   ],
   "source": [
    "pseudoR2(y = TBI_rooibos$log,\n",
    "         y_hat = predict(lme_TBI, level = 0))\n",
    "\n",
    "pseudoR2(y = TBI_rooibos$log,\n",
    "         y_hat = predict(lme_TBI, level = 1))"
   ]
  },
  {
   "cell_type": "markdown",
   "metadata": {},
   "source": [
    "### 9.2.3 Shapiro-Wilk normality test\n",
    "Our data were normaly distributed as shown by the following residues plot "
   ]
  },
  {
   "cell_type": "code",
   "execution_count": 296,
   "metadata": {},
   "outputs": [
    {
     "name": "stdout",
     "output_type": "stream",
     "text": [
      "[1] \"Shapiro-Wilk:\"\n",
      "\n",
      "\tShapiro-Wilk normality test\n",
      "\n",
      "data:  r\n",
      "W = 0.98693, p-value = 0.5511\n",
      "\n",
      "[1] \"Kurtosis: -0.324713934613358\"\n",
      "[1] \"Skewness: -0.121097388651243\"\n"
     ]
    },
    {
     "data": {
      "image/png": "[encoded data removed]",
      "text/plain": [
       "Plot with title \"\""
      ]
     },
     "metadata": {},
     "output_type": "display_data"
    }
   ],
   "source": [
    "options(repr.plot.width = 6, repr.plot.height = 4)\n",
    "residues(lme_TBI)"
   ]
  },
  {
   "cell_type": "markdown",
   "metadata": {},
   "source": [
    "### 9.2.4 Reporting the results of the mixed models\n",
    "I create a table including the results I need: estimates, confidence intervals and p-values."
   ]
  },
  {
   "cell_type": "code",
   "execution_count": 297,
   "metadata": {},
   "outputs": [],
   "source": [
    "k_tbi_gg <- data.frame(intervals(lme_TBI, which = \"fixed\")$fixed)\n",
    "k_tbi_gg <- k_tbi_gg %>%\n",
    "  mutate(variable = rownames(k_tbi_gg))\n",
    "k_tbi_gg <- k_tbi_gg %>%\n",
    "  mutate(pvalue = summary(lme_TBI)$tTable[, 5],\n",
    "         is_significant = ifelse(pvalue <= 0.05, 'Significant at 0.05 level', 'Not significant at 0.05 level'))"
   ]
  },
  {
   "cell_type": "markdown",
   "metadata": {},
   "source": [
    "Adding random effects to the table."
   ]
  },
  {
   "cell_type": "code",
   "execution_count": 298,
   "metadata": {},
   "outputs": [
    {
     "data": {
      "text/html": [
       "<table>\n",
       "<thead><tr><th scope=col>lower</th><th scope=col>est.</th><th scope=col>upper</th><th scope=col>variable</th><th scope=col>pvalue</th><th scope=col>is_significant</th></tr></thead>\n",
       "<tbody>\n",
       "\t<tr><td>NA         </td><td>-0.33187047</td><td>NA         </td><td>10         </td><td>NA         </td><td>NA         </td></tr>\n",
       "\t<tr><td>NA         </td><td> 0.12770506</td><td>NA         </td><td>45         </td><td>NA         </td><td>NA         </td></tr>\n",
       "\t<tr><td>NA         </td><td> 0.11076003</td><td>NA         </td><td>9          </td><td>NA         </td><td>NA         </td></tr>\n",
       "\t<tr><td>NA         </td><td> 0.09340537</td><td>NA         </td><td>A9         </td><td>NA         </td><td>NA         </td></tr>\n",
       "</tbody>\n",
       "</table>\n"
      ],
      "text/latex": [
       "\\begin{tabular}{r|llllll}\n",
       " lower & est. & upper & variable & pvalue & is\\_significant\\\\\n",
       "\\hline\n",
       "\t NA          & -0.33187047 & NA          & 10          & NA          & NA         \\\\\n",
       "\t NA          &  0.12770506 & NA          & 45          & NA          & NA         \\\\\n",
       "\t NA          &  0.11076003 & NA          & 9           & NA          & NA         \\\\\n",
       "\t NA          &  0.09340537 & NA          & A9          & NA          & NA         \\\\\n",
       "\\end{tabular}\n"
      ],
      "text/markdown": [
       "\n",
       "| lower | est. | upper | variable | pvalue | is_significant |\n",
       "|---|---|---|---|---|---|\n",
       "| NA          | -0.33187047 | NA          | 10          | NA          | NA          |\n",
       "| NA          |  0.12770506 | NA          | 45          | NA          | NA          |\n",
       "| NA          |  0.11076003 | NA          | 9           | NA          | NA          |\n",
       "| NA          |  0.09340537 | NA          | A9          | NA          | NA          |\n",
       "\n"
      ],
      "text/plain": [
       "  lower est.        upper variable pvalue is_significant\n",
       "1 NA    -0.33187047 NA    10       NA     NA            \n",
       "2 NA     0.12770506 NA    45       NA     NA            \n",
       "3 NA     0.11076003 NA    9        NA     NA            \n",
       "4 NA     0.09340537 NA    A9       NA     NA            "
      ]
     },
     "metadata": {},
     "output_type": "display_data"
    }
   ],
   "source": [
    "k_tbi_re <- data.frame(matrix(ncol = ncol(k_tbi_gg), nrow = 4))\n",
    "names(k_tbi_re) <- names(k_tbi_gg)\n",
    "k_tbi_re$est. <- ranef(lme_TBI)$`(Intercept)`\n",
    "k_tbi_re$variable <- rownames(ranef(lme_TBI))\n",
    "k_tbi_re\n",
    "\n",
    "if (!(\"Belanger\" %in% k_tbi_gg$variable)) k_tbi_gg <- bind_rows(k_tbi_gg, k_tbi_re) # with an if to make sure ranefs are stacked only once"
   ]
  },
  {
   "cell_type": "code",
   "execution_count": 299,
   "metadata": {},
   "outputs": [],
   "source": [
    "k_tbi_gg$variable <- c(\"Intercept\",  # Change variable names\n",
    "                        \"Dose N\",\n",
    "                        \"site #10\", \"site #45\", \"site #9\", \"site #A9\")"
   ]
  },
  {
   "cell_type": "markdown",
   "metadata": {},
   "source": [
    "Create a facet column to separate effects by effect category in the plot."
   ]
  },
  {
   "cell_type": "code",
   "execution_count": 300,
   "metadata": {},
   "outputs": [
    {
     "data": {
      "text/html": [
       "<table>\n",
       "<thead><tr><th scope=col>lower</th><th scope=col>est.</th><th scope=col>upper</th><th scope=col>variable</th><th scope=col>pvalue</th><th scope=col>is_significant</th><th scope=col>facet</th></tr></thead>\n",
       "<tbody>\n",
       "\t<tr><td>-5.497670873                 </td><td>-5.198405035                 </td><td>-4.899139197                 </td><td>Intercept                    </td><td>7.349407e-50                 </td><td>Significant at 0.05 level    </td><td>Intercept                    </td></tr>\n",
       "\t<tr><td>-0.001125443                 </td><td> 0.003086023                 </td><td> 0.007297489                 </td><td>Dose N                       </td><td>1.486858e-01                 </td><td>Not significant at 0.05 level</td><td>Nitrogen dose                </td></tr>\n",
       "\t<tr><td>          NA                 </td><td>-0.331870467                 </td><td>          NA                 </td><td>site #10                     </td><td>          NA                 </td><td>NA                           </td><td>Random effect                </td></tr>\n",
       "\t<tr><td>          NA                 </td><td> 0.127705060                 </td><td>          NA                 </td><td>site #45                     </td><td>          NA                 </td><td>NA                           </td><td>Random effect                </td></tr>\n",
       "\t<tr><td>          NA                 </td><td> 0.110760034                 </td><td>          NA                 </td><td>site #9                      </td><td>          NA                 </td><td>NA                           </td><td>Random effect                </td></tr>\n",
       "\t<tr><td>          NA                 </td><td> 0.093405373                 </td><td>          NA                 </td><td>site #A9                     </td><td>          NA                 </td><td>NA                           </td><td>Random effect                </td></tr>\n",
       "</tbody>\n",
       "</table>\n"
      ],
      "text/latex": [
       "\\begin{tabular}{r|lllllll}\n",
       " lower & est. & upper & variable & pvalue & is\\_significant & facet\\\\\n",
       "\\hline\n",
       "\t -5.497670873                  & -5.198405035                  & -4.899139197                  & Intercept                     & 7.349407e-50                  & Significant at 0.05 level     & Intercept                    \\\\\n",
       "\t -0.001125443                  &  0.003086023                  &  0.007297489                  & Dose N                        & 1.486858e-01                  & Not significant at 0.05 level & Nitrogen dose                \\\\\n",
       "\t           NA                  & -0.331870467                  &           NA                  & site \\#10                    &           NA                  & NA                            & Random effect                \\\\\n",
       "\t           NA                  &  0.127705060                  &           NA                  & site \\#45                    &           NA                  & NA                            & Random effect                \\\\\n",
       "\t           NA                  &  0.110760034                  &           NA                  & site \\#9                     &           NA                  & NA                            & Random effect                \\\\\n",
       "\t           NA                  &  0.093405373                  &           NA                  & site \\#A9                    &           NA                  & NA                            & Random effect                \\\\\n",
       "\\end{tabular}\n"
      ],
      "text/markdown": [
       "\n",
       "| lower | est. | upper | variable | pvalue | is_significant | facet |\n",
       "|---|---|---|---|---|---|---|\n",
       "| -5.497670873                  | -5.198405035                  | -4.899139197                  | Intercept                     | 7.349407e-50                  | Significant at 0.05 level     | Intercept                     |\n",
       "| -0.001125443                  |  0.003086023                  |  0.007297489                  | Dose N                        | 1.486858e-01                  | Not significant at 0.05 level | Nitrogen dose                 |\n",
       "|           NA                  | -0.331870467                  |           NA                  | site #10                      |           NA                  | NA                            | Random effect                 |\n",
       "|           NA                  |  0.127705060                  |           NA                  | site #45                      |           NA                  | NA                            | Random effect                 |\n",
       "|           NA                  |  0.110760034                  |           NA                  | site #9                       |           NA                  | NA                            | Random effect                 |\n",
       "|           NA                  |  0.093405373                  |           NA                  | site #A9                      |           NA                  | NA                            | Random effect                 |\n",
       "\n"
      ],
      "text/plain": [
       "  lower        est.         upper        variable  pvalue      \n",
       "1 -5.497670873 -5.198405035 -4.899139197 Intercept 7.349407e-50\n",
       "2 -0.001125443  0.003086023  0.007297489 Dose N    1.486858e-01\n",
       "3           NA -0.331870467           NA site #10            NA\n",
       "4           NA  0.127705060           NA site #45            NA\n",
       "5           NA  0.110760034           NA site #9             NA\n",
       "6           NA  0.093405373           NA site #A9            NA\n",
       "  is_significant                facet        \n",
       "1 Significant at 0.05 level     Intercept    \n",
       "2 Not significant at 0.05 level Nitrogen dose\n",
       "3 NA                            Random effect\n",
       "4 NA                            Random effect\n",
       "5 NA                            Random effect\n",
       "6 NA                            Random effect"
      ]
     },
     "metadata": {},
     "output_type": "display_data"
    }
   ],
   "source": [
    "k_tbi_gg$facet <- factor(c('Intercept',\n",
    "                        \"Nitrogen dose\",\n",
    "                           \"Random effect\", \"Random effect\", \"Random effect\", \"Random effect\"))\n",
    "\n",
    "k_tbi_gg <- k_tbi_gg %>%\n",
    "  mutate(facet = factor(facet, levels = rev(c(\"Random effect\", \n",
    "                                              \"Nitrogen dose\", \"Intercept\"))))\n",
    "k_tbi_gg"
   ]
  },
  {
   "cell_type": "markdown",
   "metadata": {},
   "source": [
    "The `k_tbi_gg` table is now set up for the plot."
   ]
  },
  {
   "cell_type": "code",
   "execution_count": 307,
   "metadata": {},
   "outputs": [
    {
     "name": "stderr",
     "output_type": "stream",
     "text": [
      "Warning message:\n",
      "\"Removed 4 rows containing missing values (geom_segment).\"Warning message:\n",
      "\"Removed 4 rows containing missing values (geom_segment).\""
     ]
    },
    {
     "data": {
      "image/png": "[encoded data removed]",
      "text/plain": [
       "plot without title"
      ]
     },
     "metadata": {},
     "output_type": "display_data"
    }
   ],
   "source": [
    "options(repr.plot.width = 6, repr.plot.height = 4)\n",
    "k_tbi_gg %>%\n",
    "  filter(variable != \"Intercept\") %>%\n",
    "  ggplot(aes(x = est., y = variable)) +\n",
    "  facet_grid(facet ~ ., scales = 'free', space = 'free') +\n",
    "  geom_vline(xintercept = 0, colour='grey70') +\n",
    "  geom_point() +\n",
    "  geom_segment(aes(x = lower, xend = upper, y = variable, yend = variable)) +\n",
    "  xlab('Coefficient') +\n",
    "  ylab('') +\n",
    "  theme_bw() +\n",
    "  theme(strip.text.y = element_text(angle=0),\n",
    "        legend.title = element_blank(),\n",
    "        legend.position = \"bottom\",\n",
    "        text = element_text(size = 14)) +\n",
    "  ggsave(\"figures/k_tbi-mixed-model-coefficients.png\", width = 6, height = 3, dpi = 600)"
   ]
  },
  {
   "cell_type": "markdown",
   "metadata": {},
   "source": [
    "## 10. **Question 2**: Where cranberry soils are placed among the axes of the *TBI*?"
   ]
  },
  {
   "cell_type": "markdown",
   "metadata": {},
   "source": [
    "Here, we extracted data from Keuskamp et al.2013 in order to compare with cranberry ecosystem"
   ]
  },
  {
   "cell_type": "markdown",
   "metadata": {},
   "source": [
    "### 10.1 Import data\n",
    "\n",
    "We adapted keuskamp's data by adding cranberry ecosystem"
   ]
  },
  {
   "cell_type": "code",
   "execution_count": 275,
   "metadata": {},
   "outputs": [
    {
     "name": "stderr",
     "output_type": "stream",
     "text": [
      "Parsed with column specification:\n",
      "cols(\n",
      "  Nombre = col_double(),\n",
      "  Region = col_character(),\n",
      "  Stabilisation_factor_S = col_double(),\n",
      "  Decomposition_rate_K = col_double()\n",
      ")\n"
     ]
    }
   ],
   "source": [
    "df_keuskamp <- read_csv(\"data/keuskamp_tbi_data.csv\")# Import Keuskamp data"
   ]
  },
  {
   "cell_type": "markdown",
   "metadata": {},
   "source": [
    "Create a logic column (`is_cranberry`) in order to identify `Cranberries` by color in the plot below"
   ]
  },
  {
   "cell_type": "code",
   "execution_count": 30,
   "metadata": {},
   "outputs": [],
   "source": [
    "df_keuskamp <- df_keuskamp %>%\n",
    "  mutate(is_cranberry = Region == \"Cranberries\")"
   ]
  },
  {
   "cell_type": "markdown",
   "metadata": {},
   "source": [
    "### 10.2 Figure TBI"
   ]
  },
  {
   "cell_type": "markdown",
   "metadata": {},
   "source": [
    "TBI of Quebec cranberry agroecosystem compared to the TBI of ecosystems reported by Keuskamp et al 2013. United States–Florida = US-FL, China = CN, Panama = PA, the Netherlands = NL, Austria = AU, Ireland = IE, and Iceland = IS."
   ]
  },
  {
   "cell_type": "code",
   "execution_count": 31,
   "metadata": {},
   "outputs": [
    {
     "name": "stderr",
     "output_type": "stream",
     "text": [
      "Warning message:\n",
      "\"`expand_scale()` is deprecated; use `expansion()` instead.\"Warning message:\n",
      "\"`expand_scale()` is deprecated; use `expansion()` instead.\""
     ]
    },
    {
     "data": {
      "image/png": "[encoded data removed]",
      "text/plain": [
       "plot without title"
      ]
     },
     "metadata": {},
     "output_type": "display_data"
    }
   ],
   "source": [
    "options(repr.plot.width = 6.5, repr.plot.height = 6)\n",
    "ggplot(data = df_keuskamp, aes(x = Stabilisation_factor_S, y = Decomposition_rate_K)) +\n",
    "  geom_point() +\n",
    "scale_x_continuous(breaks = 0.05*0:1000,\n",
    "                   expand = expand_scale(add = 0.05)) +\n",
    "scale_y_continuous(breaks = 0.005*0:1000,\n",
    "                   expand = expand_scale(add = 0.005)) +\n",
    "  geom_label_repel(aes(label = Region, fill = is_cranberry, colour = is_cranberry),\n",
    "                   size = 3.5) +\n",
    "  scale_fill_manual(values = c(\"white\", \"black\")) +\n",
    "  scale_colour_manual(values = c(\"black\", \"white\")) +\n",
    "  theme_bw() +\n",
    "  theme(legend.position = \"none\") +\n",
    "  labs(x = expression(paste(\"Stabilization factor\",(italic(\"S\")))), y = expression(paste(\"Decomposition rate\", (italic(\"k\"))))) +\n",
    "  ggsave(\"figures/TBI_keuskamp.png\", width = 6, height = 6, dpi = 120)"
   ]
  },
  {
   "cell_type": "markdown",
   "metadata": {},
   "source": [
    "### 11. **Question 3**:What is the fractal kinetics of litter matterials ?\n",
    "\n",
    "Depending on the nature of decaying material and its immediate environment, the decomposition rate of plant residues can decrease gradually through time as follow: \n",
    "\n",
    "$$k_t = k_1 t^{{-h}}$$\n",
    "\n",
    "$$log \\left( k_t \\right) = log \\left( k_1 t^{-h} \\right)$$\n",
    "\n",
    "$$log \\left( k_t \\right) = log \\left( k_1 \\right) + log \\left(t^{-h} \\right)$$\n",
    "\n",
    "$$log \\left( k_t \\right) = log \\left( k_1 \\right) - h \\times log \\left(t\\right)$$\n",
    "\n",
    "Where $k_t$ is first order kinetics, $k_1$ is reaction rate at time t = 1 and $h$ is a fractal coefficient (0 ≤ h ≤ 1) accounting for the decreasing decomposition rate through time"
   ]
  },
  {
   "cell_type": "markdown",
   "metadata": {},
   "source": [
    "#### 11.1 Fractal coefficient computation"
   ]
  },
  {
   "cell_type": "markdown",
   "metadata": {},
   "source": [
    "##### 11.1.1 Import data"
   ]
  },
  {
   "cell_type": "markdown",
   "metadata": {},
   "source": [
    "Fractal data set from 2018 trial contained information on `Final carbon (%)` `Final weight (g)` `Initial weight (g)` `Initial carbon (%)`   "
   ]
  },
  {
   "cell_type": "code",
   "execution_count": 63,
   "metadata": {},
   "outputs": [
    {
     "name": "stderr",
     "output_type": "stream",
     "text": [
      "Using ',' as decimal and '.' as grouping mark. Use read_delim() for more control.\n",
      "Parsed with column specification:\n",
      "cols(\n",
      "  `Tea type` = col_character(),\n",
      "  Prelevement = col_double(),\n",
      "  `Final carbon (%)` = col_double(),\n",
      "  `Final weight (g)` = col_double(),\n",
      "  `Initial weight (g)` = col_double(),\n",
      "  `Initial carbon (%)` = col_double()\n",
      ")\n"
     ]
    }
   ],
   "source": [
    "data_fractal <- read_csv2(\"data/data_fractal.csv\")"
   ]
  },
  {
   "cell_type": "markdown",
   "metadata": {},
   "source": [
    "##### 11.1.1 Adding some variables\n",
    "`First order kinetic names (k)`, `log(k)` and `Log(t)` has been computed. Then we select the variables needed in order compute the fractal coefficient `h`"
   ]
  },
  {
   "cell_type": "code",
   "execution_count": 64,
   "metadata": {},
   "outputs": [
    {
     "name": "stderr",
     "output_type": "stream",
     "text": [
      "Warning message:\n",
      "\"production de NaN\""
     ]
    }
   ],
   "source": [
    "data_lm_fractal <- data_fractal %>%\n",
    "  mutate(\n",
    "    # time and k\n",
    "    time = Prelevement * 21,\n",
    "    k = -log(`Final weight (g)` / `Initial weight (g)`)/ time,\n",
    "  ) %>%\n",
    "  mutate(\n",
    "    # log.time and log.k\n",
    "    log.time = log10(time),\n",
    "    log.k = log10(k)\n",
    "  ) %>%\n",
    "  select(`Tea type`, `k`,`log.time`, `log.k`, `time`)"
   ]
  },
  {
   "cell_type": "markdown",
   "metadata": {},
   "source": [
    "Then, we create data to store the results `intercept`, `slope` and r square `r_sq`"
   ]
  },
  {
   "cell_type": "code",
   "execution_count": 65,
   "metadata": {},
   "outputs": [],
   "source": [
    "fractal_kinetics <- tibble(\n",
    "    tea_types = c(\"Rooibos tea\", \"Cranberry litter\", \"Green tea\"),\n",
    "    intercept_ll = NA,\n",
    "    intercept = NA,\n",
    "    intercept_ul = NA,\n",
    "    slope_ll = NA,\n",
    "    slope = NA,\n",
    "    slope_ul = NA,\n",
    "    r_sq = NA\n",
    ")"
   ]
  },
  {
   "cell_type": "markdown",
   "metadata": {},
   "source": [
    "```\n",
    "lm(log.k ~ log.time)\n",
    "k1 = 10^intercept\n",
    "h = -slope\n",
    "```\n"
   ]
  },
  {
   "cell_type": "markdown",
   "metadata": {},
   "source": [
    "Computation of median value of `log.time` and `log.k` by `time` and `tea type` to determine `h`"
   ]
  },
  {
   "cell_type": "code",
   "execution_count": 66,
   "metadata": {},
   "outputs": [],
   "source": [
    "data_median_lm_fractal <- aggregate(cbind(log.time, log.k) ~ time + `Tea type`, data = data_lm_fractal, FUN = median)"
   ]
  },
  {
   "cell_type": "markdown",
   "metadata": {},
   "source": [
    "Applying `lm` in a loop `for` in order to compute `h`, r square `r_sq` and `k1` by `tea type`"
   ]
  },
  {
   "cell_type": "code",
   "execution_count": 67,
   "metadata": {},
   "outputs": [],
   "source": [
    "conf_level <- 0.95\n",
    "\n",
    "for (i in 1:nrow(fractal_kinetics)) {\n",
    "    \n",
    "    lm_fractal <- data_median_lm_fractal %>%\n",
    "      filter(`Tea type` == fractal_kinetics$tea_types[i]) %>%\n",
    "      lm(log.k ~ log.time, data = .)\n",
    "    \n",
    "    # intercept\n",
    "    fractal_kinetics$intercept_ll[i] <- confint(lm_fractal, level = conf_level)[1, 1]\n",
    "    fractal_kinetics$intercept[i] <- coef(lm_fractal)[1]\n",
    "    fractal_kinetics$intercept_ul[i] <- confint(lm_fractal, level = conf_level)[1, 2]\n",
    "    \n",
    "    # Slope\n",
    "    fractal_kinetics$slope_ll[i] <- confint(lm_fractal, level = conf_level)[2, 1]\n",
    "    fractal_kinetics$slope[i] <- coef(lm_fractal)[2]\n",
    "    fractal_kinetics$slope_ul[i] <- confint(lm_fractal, level = conf_level)[2, 2]\n",
    "    \n",
    "    # statistics\n",
    "    fractal_kinetics$r_sq[i] <- summary(lm_fractal)$r.squared\n",
    "}"
   ]
  },
  {
   "cell_type": "code",
   "execution_count": 68,
   "metadata": {},
   "outputs": [],
   "source": [
    "fractal_kinetics <-  fractal_kinetics %>%\n",
    "  mutate(h_ll = -slope_ul,\n",
    "         h = -slope,\n",
    "         h_ul = -slope_ll,\n",
    "         k1_ll = 10^intercept_ll,\n",
    "         k1 = 10^intercept,\n",
    "        k1_ul = 10^intercept_ul)%>%\n",
    "  select(tea_types, r_sq, h_ll, h, h_ul, k1_ll, k1, k1_ul)"
   ]
  },
  {
   "cell_type": "code",
   "execution_count": 69,
   "metadata": {},
   "outputs": [
    {
     "data": {
      "text/html": [
       "<table>\n",
       "<thead><tr><th scope=col>tea_types</th><th scope=col>r_sq</th><th scope=col>h_ll</th><th scope=col>h</th><th scope=col>h_ul</th><th scope=col>k1_ll</th><th scope=col>k1</th><th scope=col>k1_ul</th></tr></thead>\n",
       "<tbody>\n",
       "\t<tr><td>Rooibos tea     </td><td>0.9390858023    </td><td> 0.2584239      </td><td>0.3654122       </td><td>0.4724005       </td><td>1.117193e-02    </td><td>0.0177156624    </td><td>0.02809224      </td></tr>\n",
       "\t<tr><td>Cranberry litter</td><td>0.0004111749    </td><td>-1.1554032      </td><td>0.0207501       </td><td>1.1969034       </td><td>4.652317e-06    </td><td>0.0007393424    </td><td>0.11749569      </td></tr>\n",
       "\t<tr><td>Green tea       </td><td>0.9943128412    </td><td> 0.6377774      </td><td>0.6985075       </td><td>0.7592375       </td><td>1.523378e-01    </td><td>0.1979084002    </td><td>0.25711108      </td></tr>\n",
       "</tbody>\n",
       "</table>\n"
      ],
      "text/latex": [
       "\\begin{tabular}{r|llllllll}\n",
       " tea\\_types & r\\_sq & h\\_ll & h & h\\_ul & k1\\_ll & k1 & k1\\_ul\\\\\n",
       "\\hline\n",
       "\t Rooibos tea      & 0.9390858023     &  0.2584239       & 0.3654122        & 0.4724005        & 1.117193e-02     & 0.0177156624     & 0.02809224      \\\\\n",
       "\t Cranberry litter & 0.0004111749     & -1.1554032       & 0.0207501        & 1.1969034        & 4.652317e-06     & 0.0007393424     & 0.11749569      \\\\\n",
       "\t Green tea        & 0.9943128412     &  0.6377774       & 0.6985075        & 0.7592375        & 1.523378e-01     & 0.1979084002     & 0.25711108      \\\\\n",
       "\\end{tabular}\n"
      ],
      "text/markdown": [
       "\n",
       "| tea_types | r_sq | h_ll | h | h_ul | k1_ll | k1 | k1_ul |\n",
       "|---|---|---|---|---|---|---|---|\n",
       "| Rooibos tea      | 0.9390858023     |  0.2584239       | 0.3654122        | 0.4724005        | 1.117193e-02     | 0.0177156624     | 0.02809224       |\n",
       "| Cranberry litter | 0.0004111749     | -1.1554032       | 0.0207501        | 1.1969034        | 4.652317e-06     | 0.0007393424     | 0.11749569       |\n",
       "| Green tea        | 0.9943128412     |  0.6377774       | 0.6985075        | 0.7592375        | 1.523378e-01     | 0.1979084002     | 0.25711108       |\n",
       "\n"
      ],
      "text/plain": [
       "  tea_types        r_sq         h_ll       h         h_ul      k1_ll       \n",
       "1 Rooibos tea      0.9390858023  0.2584239 0.3654122 0.4724005 1.117193e-02\n",
       "2 Cranberry litter 0.0004111749 -1.1554032 0.0207501 1.1969034 4.652317e-06\n",
       "3 Green tea        0.9943128412  0.6377774 0.6985075 0.7592375 1.523378e-01\n",
       "  k1           k1_ul     \n",
       "1 0.0177156624 0.02809224\n",
       "2 0.0007393424 0.11749569\n",
       "3 0.1979084002 0.25711108"
      ]
     },
     "metadata": {},
     "output_type": "display_data"
    }
   ],
   "source": [
    "fractal_kinetics"
   ]
  },
  {
   "cell_type": "markdown",
   "metadata": {},
   "source": [
    "Fractal first order parameters of teas and cranberry litter decomposition under field conditions"
   ]
  },
  {
   "cell_type": "code",
   "execution_count": 186,
   "metadata": {},
   "outputs": [
    {
     "name": "stderr",
     "output_type": "stream",
     "text": [
      "`geom_smooth()` using formula 'y ~ x'\n",
      "`geom_smooth()` using formula 'y ~ x'\n"
     ]
    },
    {
     "data": {
      "image/png": "[encoded data removed]",
      "text/plain": [
       "plot without title"
      ]
     },
     "metadata": {},
     "output_type": "display_data"
    }
   ],
   "source": [
    "options(repr.plot.width = 10, repr.plot.height = 6)\n",
    "data_median_lm_fractal %>%\n",
    "  ggplot(aes(x = log.time, y  = log.k)) +\n",
    "  geom_point() + geom_smooth(method = \"lm\", se = FALSE, colour=\"black\") +\n",
    "  facet_grid(. ~ `Tea type`) +\n",
    "  geom_text(data = fractal_kinetics %>%\n",
    "              rename(`Tea type`= tea_types),\n",
    "            parse = TRUE,\n",
    "            aes(label = paste(\"italic(h) ==\", round(h, 1), \"%+-%\", round(h-h_ll, 1))),\n",
    "            x = 1.60, y = -2.66) +\n",
    "  geom_text(data = fractal_kinetics %>%\n",
    "              rename(`Tea type`= tea_types),  \n",
    "            parse = TRUE,\n",
    "            aes(label = paste((\"italic(k[1]) ==\"), round(k1, 3), \"%+-%\", round(k1- k1_ll, 3))),\n",
    "            x = 1.60, y = -2.56) +\n",
    "geom_text(data = fractal_kinetics %>%\n",
    "              rename(`Tea type`= tea_types),\n",
    "          parse = TRUE,\n",
    "            aes(label = paste((\"R^2 ==\"), round(r_sq, 2))),\n",
    "            x = 1.5, y = -2.45) +\n",
    "labs(x = expression(paste(\"log.\",italic(\"t\"))), y=expression(paste(\"log.\",italic(\"k\")))) +\n",
    "  theme_bw() + \n",
    "theme(strip.text = element_text(size = 13), axis.text=element_text(size=13),\n",
    "        axis.title=element_text(size=13)) \n",
    "ggsave(\"figures/Fractal first order parameters of teas and cranberry litter decomposition under field conditions.png\", width = 8, height = 6, dpi = 80)"
   ]
  },
  {
   "cell_type": "markdown",
   "metadata": {},
   "source": [
    "Mean and standard deviation of first order kinetics"
   ]
  },
  {
   "cell_type": "code",
   "execution_count": 246,
   "metadata": {},
   "outputs": [
    {
     "data": {
      "text/html": [
       "<table>\n",
       "<thead><tr><th scope=col>Tea type</th><th scope=col>k</th></tr></thead>\n",
       "<tbody>\n",
       "\t<tr><td>Cranberry litter</td><td>7.491976e-05    </td></tr>\n",
       "\t<tr><td>Green tea       </td><td>1.148394e-02    </td></tr>\n",
       "\t<tr><td>Rooibos tea     </td><td>3.977654e-03    </td></tr>\n",
       "</tbody>\n",
       "</table>\n"
      ],
      "text/latex": [
       "\\begin{tabular}{r|ll}\n",
       " Tea type & k\\\\\n",
       "\\hline\n",
       "\t Cranberry litter & 7.491976e-05    \\\\\n",
       "\t Green tea        & 1.148394e-02    \\\\\n",
       "\t Rooibos tea      & 3.977654e-03    \\\\\n",
       "\\end{tabular}\n"
      ],
      "text/markdown": [
       "\n",
       "| Tea type | k |\n",
       "|---|---|\n",
       "| Cranberry litter | 7.491976e-05     |\n",
       "| Green tea        | 1.148394e-02     |\n",
       "| Rooibos tea      | 3.977654e-03     |\n",
       "\n"
      ],
      "text/plain": [
       "  Tea type         k           \n",
       "1 Cranberry litter 7.491976e-05\n",
       "2 Green tea        1.148394e-02\n",
       "3 Rooibos tea      3.977654e-03"
      ]
     },
     "metadata": {},
     "output_type": "display_data"
    },
    {
     "data": {
      "text/html": [
       "<table>\n",
       "<thead><tr><th scope=col>Tea type</th><th scope=col>k</th></tr></thead>\n",
       "<tbody>\n",
       "\t<tr><td>Cranberry litter</td><td>0.001614161     </td></tr>\n",
       "\t<tr><td>Green tea       </td><td>0.005593548     </td></tr>\n",
       "\t<tr><td>Rooibos tea     </td><td>0.001449430     </td></tr>\n",
       "</tbody>\n",
       "</table>\n"
      ],
      "text/latex": [
       "\\begin{tabular}{r|ll}\n",
       " Tea type & k\\\\\n",
       "\\hline\n",
       "\t Cranberry litter & 0.001614161     \\\\\n",
       "\t Green tea        & 0.005593548     \\\\\n",
       "\t Rooibos tea      & 0.001449430     \\\\\n",
       "\\end{tabular}\n"
      ],
      "text/markdown": [
       "\n",
       "| Tea type | k |\n",
       "|---|---|\n",
       "| Cranberry litter | 0.001614161      |\n",
       "| Green tea        | 0.005593548      |\n",
       "| Rooibos tea      | 0.001449430      |\n",
       "\n"
      ],
      "text/plain": [
       "  Tea type         k          \n",
       "1 Cranberry litter 0.001614161\n",
       "2 Green tea        0.005593548\n",
       "3 Rooibos tea      0.001449430"
      ]
     },
     "metadata": {},
     "output_type": "display_data"
    },
    {
     "data": {
      "text/html": [
       "<table>\n",
       "<thead><tr><th scope=col>Tea type</th><th scope=col>k</th></tr></thead>\n",
       "<tbody>\n",
       "\t<tr><td>Cranberry litter</td><td>768             </td></tr>\n",
       "\t<tr><td>Green tea       </td><td>936             </td></tr>\n",
       "\t<tr><td>Rooibos tea     </td><td>909             </td></tr>\n",
       "</tbody>\n",
       "</table>\n"
      ],
      "text/latex": [
       "\\begin{tabular}{r|ll}\n",
       " Tea type & k\\\\\n",
       "\\hline\n",
       "\t Cranberry litter & 768             \\\\\n",
       "\t Green tea        & 936             \\\\\n",
       "\t Rooibos tea      & 909             \\\\\n",
       "\\end{tabular}\n"
      ],
      "text/markdown": [
       "\n",
       "| Tea type | k |\n",
       "|---|---|\n",
       "| Cranberry litter | 768              |\n",
       "| Green tea        | 936              |\n",
       "| Rooibos tea      | 909              |\n",
       "\n"
      ],
      "text/plain": [
       "  Tea type         k  \n",
       "1 Cranberry litter 768\n",
       "2 Green tea        936\n",
       "3 Rooibos tea      909"
      ]
     },
     "metadata": {},
     "output_type": "display_data"
    },
    {
     "data": {
      "text/html": [
       "0.0001141601061216"
      ],
      "text/latex": [
       "0.0001141601061216"
      ],
      "text/markdown": [
       "0.0001141601061216"
      ],
      "text/plain": [
       "[1] 0.0001141601"
      ]
     },
     "metadata": {},
     "output_type": "display_data"
    },
    {
     "data": {
      "text/html": [
       "0.000358341828734169"
      ],
      "text/latex": [
       "0.000358341828734169"
      ],
      "text/markdown": [
       "0.000358341828734169"
      ],
      "text/plain": [
       "[1] 0.0003583418"
      ]
     },
     "metadata": {},
     "output_type": "display_data"
    },
    {
     "data": {
      "text/html": [
       "9.42244190349215e-05"
      ],
      "text/latex": [
       "9.42244190349215e-05"
      ],
      "text/markdown": [
       "9.42244190349215e-05"
      ],
      "text/plain": [
       "[1] 9.422442e-05"
      ]
     },
     "metadata": {},
     "output_type": "display_data"
    }
   ],
   "source": [
    "data_fractal_mean <- aggregate(`k` ~ `Tea type`, data = data_lm_fractal, FUN = mean)\n",
    "data_fractal_mean\n",
    "data_fractal_sd <- aggregate(`k` ~ `Tea type`, data = data_lm_fractal, FUN = sd)\n",
    "data_fractal_sd\n",
    "data_fractal_length <- aggregate(`k` ~ `Tea type`, data = data_lm_fractal, FUN = length)\n",
    "data_fractal_length\n",
    "error_cranberry <- qnorm(0.975)*data_fractal_sd[1,2]/sqrt(data_fractal_length[1,2])\n",
    "error_cranberry\n",
    "error_green <- qnorm(0.975)*data_fractal_sd[2,2]/sqrt(data_fractal_length[2,2])\n",
    "error_green\n",
    "error_rooibos <- qnorm(0.975)*data_fractal_sd[3,2]/sqrt(data_fractal_length[3,2])\n",
    "error_rooibos"
   ]
  },
  {
   "cell_type": "markdown",
   "metadata": {},
   "source": [
    "## 11.3.4 Estimation of the carbon decreasing rate of teas and cranberry residue"
   ]
  },
  {
   "cell_type": "markdown",
   "metadata": {},
   "source": [
    "Reaction rate $k_1$ at time t = 1 and fractal coefficient $h$"
   ]
  },
  {
   "cell_type": "code",
   "execution_count": 72,
   "metadata": {},
   "outputs": [],
   "source": [
    "k1_rooibos <- fractal_kinetics %>%\n",
    "  filter(tea_types == \"Rooibos tea\") %>%\n",
    "  pull(k1)\n",
    "\n",
    "k1_green <- fractal_kinetics %>%\n",
    "  filter(tea_types == \"Green tea\") %>%\n",
    "  pull(k1)\n",
    "\n",
    "k1_cranberry <- fractal_kinetics %>%\n",
    "  filter(tea_types == \"Cranberry litter\") %>%\n",
    "  pull(k1)\n",
    "\n",
    "h_rooibos <- fractal_kinetics %>%\n",
    "  filter(tea_types == \"Rooibos tea\") %>%\n",
    "  pull(h)\n",
    "\n",
    "h_green <- fractal_kinetics %>%\n",
    "  filter(tea_types == \"Green tea\") %>%\n",
    "  pull(h)\n",
    "\n",
    "h_cranberry <- fractal_kinetics %>%\n",
    "  filter(tea_types == \"Cranberry litter\") %>%\n",
    "  pull(h)"
   ]
  },
  {
   "cell_type": "markdown",
   "metadata": {},
   "source": [
    "Computing  $k_t$ for each tea type and renaming somes variables to be able to group plot\n",
    "\n",
    "$$k_t = k_1 t^{{-h}}$$"
   ]
  },
  {
   "cell_type": "code",
   "execution_count": 73,
   "metadata": {},
   "outputs": [],
   "source": [
    "data_rate <- data.frame(Prelevement = 1:7) %>%\n",
    "                            mutate(`Time (days)` = Prelevement * 21,\n",
    "                                  `Rate cranberry` = k1_cranberry *  `Time (days)`**-h_cranberry,\n",
    "                                  `Rate rooibos` = k1_rooibos * `Time (days)`**-h_rooibos,\n",
    "                                  `Rate green` = k1_green * `Time (days)`**-h_green) %>%\n",
    "                            rename(`Cranberry litter` = `Rate cranberry`,\n",
    "                                  `Rooibos tea` = `Rate rooibos`,\n",
    "                                   `Green tea` = `Rate green`)"
   ]
  },
  {
   "cell_type": "markdown",
   "metadata": {},
   "source": [
    "Tranforming data_rate into long format data in order to generate the plot"
   ]
  },
  {
   "cell_type": "code",
   "execution_count": 74,
   "metadata": {},
   "outputs": [],
   "source": [
    "data_long <- gather(data = data_rate, key = `tea type`, value = Rate, c(`Cranberry litter`, `Rooibos tea`, `Green tea`),\n",
    "                    factor_key=TRUE)\n",
    "data_long <- data_long %>%\n",
    "             rename(`Litter type`= `tea type`)"
   ]
  },
  {
   "cell_type": "markdown",
   "metadata": {},
   "source": [
    "Plot of litter decomposition rate over time under field conditions"
   ]
  },
  {
   "cell_type": "code",
   "execution_count": 316,
   "metadata": {},
   "outputs": [
    {
     "name": "stderr",
     "output_type": "stream",
     "text": [
      "Warning message:\n",
      "\"`expand_scale()` is deprecated; use `expansion()` instead.\"Warning message:\n",
      "\"`expand_scale()` is deprecated; use `expansion()` instead.\""
     ]
    },
    {
     "data": {
      "image/png": "[encoded data removed]",
      "text/plain": [
       "plot without title"
      ]
     },
     "metadata": {},
     "output_type": "display_data"
    }
   ],
   "source": [
    "options(repr.plot.width = 10, repr.plot.height = 6)\n",
    "ggplot(data_long, aes(x = `Time (days)`, y = `Rate`, group = `Litter type`)) +\n",
    "geom_line(aes(linetype= `Litter type`)) +\n",
    "geom_point(aes(shape = `Litter type`), size = 2)+\n",
    "#geom_smooth(method = \"lm\", formula = y ~ poly(x, 6) , color = 'grey', se = FALSE) + \n",
    "labs(x = \"Elapsed time (days)\" , y = expression(\"Decomposition rate (day\"^\" -1\"~\")\"))  +\n",
    "theme(axis.title.x = element_text(size = 14), \n",
    "  axis.title.y = element_text(size = 14),\n",
    "     legend.text=element_text(size=14)) +\n",
    "scale_y_continuous(breaks = 0.002*0:1000,\n",
    "                     expand = expand_scale(add = 0.002)) +\n",
    "scale_x_continuous(breaks = 10*0:1000,\n",
    "                     expand = expand_scale(add = 10)) +\n",
    "theme_bw() +\n",
    "ggsave(\"figures/K(t).png\", width = 6, height = 4, dpi = 120)"
   ]
  },
  {
   "cell_type": "markdown",
   "metadata": {},
   "source": [
    "## 12. **Question 4**: What is the fractal kinetics of litter biochemical composition ?"
   ]
  },
  {
   "cell_type": "markdown",
   "metadata": {},
   "source": [
    "### 12.1 Biochemical composition data analysis \n",
    "Here, we load `data.csv`, `data_fiber_initial.csv` and `data_fiber.csv`available for the project in the `data` folder. The `data_2018.csv` contained incubation tea bag details and soil carateristics from the second essay in 2018; `data_fiber_initial.csv` contained only initial tea bag caracteristics and `data_fiber.csv` contained mostly tea bag biochemical details as soluble, holocellulose and lignin content. \n",
    "We wanted to use only data about `green tea`, `rooibos tea` and `cranberry residu`. In order to do that, we used `subset` function to get `data_subset`"
   ]
  },
  {
   "cell_type": "code",
   "execution_count": 45,
   "metadata": {},
   "outputs": [
    {
     "name": "stderr",
     "output_type": "stream",
     "text": [
      "Using ',' as decimal and '.' as grouping mark. Use read_delim() for more control.\n",
      "Parsed with column specification:\n",
      "cols(\n",
      "  `Iden fiber` = col_character(),\n",
      "  `SOL perc ILR (%)` = col_double(),\n",
      "  `HOLO perc ILR (%)` = col_double(),\n",
      "  `LIC perc ILR (%)` = col_double()\n",
      ")\n",
      "Parsed with column specification:\n",
      "cols(\n",
      "  `Biomass type` = col_character(),\n",
      "  `SOL perc initial (%)` = col_double(),\n",
      "  `HOLO perc initial (%)` = col_double(),\n",
      "  `LIC perc initial (%)` = col_double()\n",
      ")\n"
     ]
    }
   ],
   "source": [
    "data <- read_csv2('data/data_2018.csv', col_types = \"??????????????f????????????????????\")\n",
    "data_fiber <- read_csv('data/data_fiber.csv')\n",
    "data_fiber_initial <- read_csv('data/data_fiber_initial.csv')"
   ]
  },
  {
   "cell_type": "code",
   "execution_count": 46,
   "metadata": {},
   "outputs": [],
   "source": [
    "data_subset <- subset(data,  (`Sampling period (3 weeks)`> 0 & (`Biomass type`== \"Cranberry residu\" | \n",
    "`Biomass type` == \"Green tea\"| `Biomass type` == \"Rooibos tea\")))"
   ]
  },
  {
   "cell_type": "markdown",
   "metadata": {},
   "source": [
    "Join all 3 data with with `left_join` function. The obtained data is called `data_join_02`"
   ]
  },
  {
   "cell_type": "code",
   "execution_count": 47,
   "metadata": {},
   "outputs": [],
   "source": [
    "data_join <- data_subset %>%\n",
    "  left_join(data_fiber, by = 'Iden fiber')\n",
    "\n",
    "data_join_02 <- data_join %>%\n",
    "  left_join(data_fiber_initial, by = 'Biomass type')%>%\n",
    "mutate(`Sample final weight (g)` = as.numeric(`Sample final weight (g)`),\n",
    "       `Sample final weight (g)` = as.numeric(`Sample final weight (g)`),\n",
    "       `Sample final weight (g)` = as.numeric(`Sample final weight (g)`))"
   ]
  },
  {
   "cell_type": "markdown",
   "metadata": {},
   "source": [
    "## 12.2 Some calculations \n",
    "### Initial and final content of carbon, soluble, holocellulose and lignin"
   ]
  },
  {
   "cell_type": "code",
   "execution_count": 48,
   "metadata": {},
   "outputs": [],
   "source": [
    "data_join_02 <- data_join_02 %>%\n",
    "mutate(`Initial SOL content (g)` = `SOL perc initial (%)` * `Sample initial weight (g)` / 100,\n",
    "       `Initial HOLO content (g)` = `HOLO perc initial (%)` * `Sample initial weight (g)` / 100,\n",
    "       `Initial LIC content (g)` = `LIC perc initial (%)` * `Sample initial weight (g)` / 100,\n",
    "       `Final SOL content (g)` = `SOL perc ILR (%)` * `Sample final weight (g)` / 100,\n",
    "       `Final LIC content (g)` = `LIC perc ILR (%)` * `Sample final weight (g)` / 100,\n",
    "       `Final HOLO content (g)` = `HOLO perc ILR (%)` * `Sample final weight (g)` / 100,\n",
    "       `Initial Hydrolyzable content (g)` = `Initial SOL content (g)` +  `Initial HOLO content (g)`,\n",
    "       `Final Hydrolyzable content (g)` = `Final SOL content (g)` + `Final HOLO content (g)`)"
   ]
  },
  {
   "cell_type": "markdown",
   "metadata": {},
   "source": [
    "### 12.2.1 First order kinetic\n",
    "Here,we compute decomposition rate of carbon, soluble, holocellulose and lignin using first order kinetic."
   ]
  },
  {
   "cell_type": "code",
   "execution_count": 49,
   "metadata": {},
   "outputs": [],
   "source": [
    "kinetics_1st <- function(rw, iw, t) { # first order kinetic function\n",
    "    -log10(rw/iw)/t\n",
    "}"
   ]
  },
  {
   "cell_type": "code",
   "execution_count": 50,
   "metadata": {},
   "outputs": [],
   "source": [
    "data_join_02 <- data_join_02 %>%\n",
    "mutate(`rate SOL` = kinetics_1st(rw = `Final SOL content (g)`,\n",
    "                      iw = `Initial SOL content (g)`,\n",
    "                      t = `Sampling period (3 weeks)` * 21),\n",
    "       `rate HOLO` = kinetics_1st(rw = `Final HOLO content (g)`,\n",
    "                      iw = `Initial HOLO content (g)`,\n",
    "                      t = `Sampling period (3 weeks)` * 21),\n",
    "       `rate LIC` = kinetics_1st(rw = `Final LIC content (g)`,\n",
    "                      iw = `Initial LIC content (g)`,\n",
    "                      t = `Sampling period (3 weeks)` * 21),\n",
    "       `rate Hydrolyzable` = kinetics_1st(rw = `Final Hydrolyzable content (g)`,\n",
    "                      iw = `Initial Hydrolyzable content (g)`,\n",
    "                      t = `Sampling period (3 weeks)` * 21),\n",
    "      `Sampling period (days)` = `Sampling period (3 weeks)` * 21)"
   ]
  },
  {
   "cell_type": "markdown",
   "metadata": {},
   "source": [
    "### 12.2.2 Selection all variables we interested in data_join_02. Our final data is called `data_filtre`"
   ]
  },
  {
   "cell_type": "code",
   "execution_count": 51,
   "metadata": {},
   "outputs": [],
   "source": [
    "na.action = na.exclude\n",
    "data_filtre <- data_join_02 %>%\n",
    "select(`Iden fiber`, `Biomass type`,  `Sampling period (days)`, `Site`, `Producer`,`Repetition`,\n",
    " `Initial SOL content (g)`, `Initial HOLO content (g)`, `Initial LIC content (g)`, `Final SOL content (g)`,`Final HOLO content (g)`, `Final LIC content (g)`,\n",
    "       `Sample final weight (g)`, `Initial Hydrolyzable content (g)`, `Final Hydrolyzable content (g)`,\n",
    "       `rate SOL`, `rate HOLO`, `rate LIC`, `rate Hydrolyzable`) %>% \n",
    "rename(Lignin = `rate LIC`, \n",
    "       Holocelulose = `rate HOLO`, \n",
    "       Soluble = `rate SOL`,\n",
    "       Hydrolyzable = `rate Hydrolyzable`)"
   ]
  },
  {
   "cell_type": "markdown",
   "metadata": {},
   "source": [
    "## 12.3 Biochemical fractal kinetics"
   ]
  },
  {
   "cell_type": "markdown",
   "metadata": {},
   "source": [
    "Transforming `data_filtre` to long format data `data_long` in order to use a `facet_grid` in the plot below"
   ]
  },
  {
   "cell_type": "code",
   "execution_count": 52,
   "metadata": {},
   "outputs": [],
   "source": [
    "data_long <- gather(data = data_filtre, key = `Biochemical composition`, value = `Biochemical decomposition rate`, c(`Soluble`,\n",
    "                                                                                                                    `Lignin`, `Holocelulose`, `Hydrolyzable`),\n",
    "                    factor_key=TRUE)"
   ]
  },
  {
   "cell_type": "markdown",
   "metadata": {},
   "source": [
    "Extract data_long according to biomass type `Rooibos and Green tea`; and Biochemical composition `Lignin and Hydrolyzable` fraction"
   ]
  },
  {
   "cell_type": "code",
   "execution_count": 53,
   "metadata": {},
   "outputs": [],
   "source": [
    "data_long <- subset(data_long, `Biomass type` == \"Green tea\" | `Biomass type` == \"Rooibos tea\")\n",
    "data_long <- subset(data_long, `Biochemical composition` == \"Lignin\" | `Biochemical composition` == \"Hydrolyzable\")"
   ]
  },
  {
   "cell_type": "code",
   "execution_count": 54,
   "metadata": {},
   "outputs": [
    {
     "name": "stderr",
     "output_type": "stream",
     "text": [
      "Warning message:\n",
      "\"production de NaN\""
     ]
    }
   ],
   "source": [
    "data_long <- data_long %>%\n",
    "        mutate(`log.K` = log10(`Biochemical decomposition rate`),\n",
    "                `log.T` = log10(`Sampling period (days)`))"
   ]
  },
  {
   "cell_type": "markdown",
   "metadata": {},
   "source": [
    "Create new facet names for variable `Biochemical composition`"
   ]
  },
  {
   "cell_type": "code",
   "execution_count": 55,
   "metadata": {},
   "outputs": [],
   "source": [
    "New.labs <- c(\"Non-Hydrolyzable\", \"Hydrolyzsable\") \n",
    "names(New.labs) <- c(\"Lignin\", \"Hydrolyzable\")"
   ]
  },
  {
   "cell_type": "markdown",
   "metadata": {},
   "source": [
    "Selection of all variables needed in `data_lm_fractal_biochemical`"
   ]
  },
  {
   "cell_type": "code",
   "execution_count": 56,
   "metadata": {},
   "outputs": [],
   "source": [
    "data_lm_fractal_biochemical <- data_long %>%\n",
    "  select(`Biomass type`, `Biochemical decomposition rate`, `log.T`, `log.K`, `Biochemical composition`, `Sampling period (days)`)"
   ]
  },
  {
   "cell_type": "markdown",
   "metadata": {},
   "source": [
    "Then, we create data to store the results `intercept`, `slope` and r square `r_sq`"
   ]
  },
  {
   "cell_type": "code",
   "execution_count": 57,
   "metadata": {},
   "outputs": [],
   "source": [
    "fractal_biochemical_kinetics <- tibble(\n",
    "    `Biomass type` = c(\"Green tea\", \"Rooibos tea\", \"Green tea\", \"Rooibos tea\"),\n",
    "    Biochemical_composition = c(rep(\"Lignin\", 2), rep(\"Hydrolyzable\", 2)),\n",
    "    intercept_ll = NA,\n",
    "    intercept = NA,\n",
    "    intercept_ul = NA,\n",
    "    slope_ll = NA,\n",
    "    slope = NA,\n",
    "    slope_ul = NA,\n",
    "    r_sq = NA\n",
    ")"
   ]
  },
  {
   "cell_type": "markdown",
   "metadata": {},
   "source": [
    "```\n",
    "lm(log.K ~ log.T)\n",
    "K1 = 10^intercept\n",
    "h = -slope\n",
    "```\n"
   ]
  },
  {
   "cell_type": "markdown",
   "metadata": {},
   "source": [
    "Computation of median value of `log.time` and `log.k` by `time` and `tea type` to determine `h`"
   ]
  },
  {
   "cell_type": "code",
   "execution_count": 58,
   "metadata": {},
   "outputs": [],
   "source": [
    "data_median_fractal_biochemical <- aggregate(cbind(`log.T`, `log.K`) ~ `Sampling period (days)` + \n",
    "                                             `Biomass type` + `Biochemical composition`, \n",
    "                                             data = data_lm_fractal_biochemical, \n",
    "                                             FUN = median)"
   ]
  },
  {
   "cell_type": "markdown",
   "metadata": {},
   "source": [
    "Applying `lm` in a loop `for` in order to compute `h`, r square `r_sq` and `k1`; by `Biomass type` and `Biochemical composition`"
   ]
  },
  {
   "cell_type": "code",
   "execution_count": 59,
   "metadata": {},
   "outputs": [],
   "source": [
    "conf_level <- 0.95\n",
    "\n",
    "for (i in 1:nrow(fractal_biochemical_kinetics)) {\n",
    "    \n",
    "    lm_fractal <- data_median_fractal_biochemical %>%\n",
    "      filter((`Biomass type` == fractal_biochemical_kinetics$`Biomass type`[i]) &\n",
    "             (`Biochemical composition` == fractal_biochemical_kinetics$Biochemical_composition[i])) %>%\n",
    "      lm(`log.K` ~ `log.T`, data = .)\n",
    "    \n",
    "    # interept\n",
    "    fractal_biochemical_kinetics$intercept_ll[i] <- confint(lm_fractal, level = conf_level)[1, 1]\n",
    "    fractal_biochemical_kinetics$intercept[i] <- coef(lm_fractal)[1]\n",
    "    fractal_biochemical_kinetics$intercept_ul[i] <- confint(lm_fractal, level = conf_level)[1, 2]\n",
    "    \n",
    "    # slope\n",
    "    fractal_biochemical_kinetics$slope_ll[i] <- confint(lm_fractal, level = conf_level)[2, 1]\n",
    "    fractal_biochemical_kinetics$slope[i] <- coef(lm_fractal)[2]\n",
    "    fractal_biochemical_kinetics$slope_ul[i] <- confint(lm_fractal, level = conf_level)[2, 2]\n",
    "    \n",
    "    # statistics\n",
    "    fractal_biochemical_kinetics$r_sq[i] <- summary(lm_fractal)$r.squared    \n",
    "}"
   ]
  },
  {
   "cell_type": "markdown",
   "metadata": {},
   "source": [
    "Computation of `h`, r square `r_sq` and `k1`; by `Biomass type` and `Biochemical composition`"
   ]
  },
  {
   "cell_type": "code",
   "execution_count": 60,
   "metadata": {},
   "outputs": [
    {
     "data": {
      "text/html": [
       "<table>\n",
       "<thead><tr><th scope=col>Biomass type</th><th scope=col>Biochemical_composition</th><th scope=col>r_sq</th><th scope=col>h_ll</th><th scope=col>h</th><th scope=col>h_ul</th><th scope=col>k1_ll</th><th scope=col>k1</th><th scope=col>k1_ul</th></tr></thead>\n",
       "<tbody>\n",
       "\t<tr><td>Green tea   </td><td>Lignin      </td><td>0.9516462   </td><td> 0.70350580 </td><td>0.9495719   </td><td>1.1956380   </td><td>0.0885222069</td><td>0.25560310  </td><td> 0.73804015 </td></tr>\n",
       "\t<tr><td>Rooibos tea </td><td>Lignin      </td><td>0.6150621   </td><td>-0.13331043 </td><td>1.3570685   </td><td>2.8474473   </td><td>0.0001371925</td><td>0.09628857  </td><td>67.58014716 </td></tr>\n",
       "\t<tr><td>Green tea   </td><td>Hydrolyzable</td><td>0.9610390   </td><td> 0.47026946 </td><td>0.6119060   </td><td>0.7535426   </td><td>0.0317590141</td><td>0.05847100  </td><td> 0.10765000 </td></tr>\n",
       "\t<tr><td>Rooibos tea </td><td>Hydrolyzable</td><td>0.6724302   </td><td> 0.08026771 </td><td>0.4061517   </td><td>0.7320357   </td><td>0.0031553935</td><td>0.01285130  </td><td> 0.05234079 </td></tr>\n",
       "</tbody>\n",
       "</table>\n"
      ],
      "text/latex": [
       "\\begin{tabular}{r|lllllllll}\n",
       " Biomass type & Biochemical\\_composition & r\\_sq & h\\_ll & h & h\\_ul & k1\\_ll & k1 & k1\\_ul\\\\\n",
       "\\hline\n",
       "\t Green tea    & Lignin       & 0.9516462    &  0.70350580  & 0.9495719    & 1.1956380    & 0.0885222069 & 0.25560310   &  0.73804015 \\\\\n",
       "\t Rooibos tea  & Lignin       & 0.6150621    & -0.13331043  & 1.3570685    & 2.8474473    & 0.0001371925 & 0.09628857   & 67.58014716 \\\\\n",
       "\t Green tea    & Hydrolyzable & 0.9610390    &  0.47026946  & 0.6119060    & 0.7535426    & 0.0317590141 & 0.05847100   &  0.10765000 \\\\\n",
       "\t Rooibos tea  & Hydrolyzable & 0.6724302    &  0.08026771  & 0.4061517    & 0.7320357    & 0.0031553935 & 0.01285130   &  0.05234079 \\\\\n",
       "\\end{tabular}\n"
      ],
      "text/markdown": [
       "\n",
       "| Biomass type | Biochemical_composition | r_sq | h_ll | h | h_ul | k1_ll | k1 | k1_ul |\n",
       "|---|---|---|---|---|---|---|---|---|\n",
       "| Green tea    | Lignin       | 0.9516462    |  0.70350580  | 0.9495719    | 1.1956380    | 0.0885222069 | 0.25560310   |  0.73804015  |\n",
       "| Rooibos tea  | Lignin       | 0.6150621    | -0.13331043  | 1.3570685    | 2.8474473    | 0.0001371925 | 0.09628857   | 67.58014716  |\n",
       "| Green tea    | Hydrolyzable | 0.9610390    |  0.47026946  | 0.6119060    | 0.7535426    | 0.0317590141 | 0.05847100   |  0.10765000  |\n",
       "| Rooibos tea  | Hydrolyzable | 0.6724302    |  0.08026771  | 0.4061517    | 0.7320357    | 0.0031553935 | 0.01285130   |  0.05234079  |\n",
       "\n"
      ],
      "text/plain": [
       "  Biomass type Biochemical_composition r_sq      h_ll        h        \n",
       "1 Green tea    Lignin                  0.9516462  0.70350580 0.9495719\n",
       "2 Rooibos tea  Lignin                  0.6150621 -0.13331043 1.3570685\n",
       "3 Green tea    Hydrolyzable            0.9610390  0.47026946 0.6119060\n",
       "4 Rooibos tea  Hydrolyzable            0.6724302  0.08026771 0.4061517\n",
       "  h_ul      k1_ll        k1         k1_ul      \n",
       "1 1.1956380 0.0885222069 0.25560310  0.73804015\n",
       "2 2.8474473 0.0001371925 0.09628857 67.58014716\n",
       "3 0.7535426 0.0317590141 0.05847100  0.10765000\n",
       "4 0.7320357 0.0031553935 0.01285130  0.05234079"
      ]
     },
     "metadata": {},
     "output_type": "display_data"
    }
   ],
   "source": [
    "fractal_biochemical_kinetics <- fractal_biochemical_kinetics %>%\n",
    "  mutate(h_ll = -slope_ul,\n",
    "         h = -slope,\n",
    "         h_ul = -slope_ll,\n",
    "         k1_ll = 10^intercept_ll,\n",
    "         k1 = 10^intercept,\n",
    "         k1_ul = 10^intercept_ul) %>%\n",
    "  select(`Biomass type`,\n",
    "         Biochemical_composition,\n",
    "         r_sq,\n",
    "         h_ll, h, h_ul,\n",
    "         k1_ll, k1, k1_ul)\n",
    "fractal_biochemical_kinetics"
   ]
  },
  {
   "cell_type": "markdown",
   "metadata": {},
   "source": [
    "Fractal first order parameters of decomposition of teas biochemicals compositions under field conditions"
   ]
  },
  {
   "cell_type": "code",
   "execution_count": 184,
   "metadata": {},
   "outputs": [
    {
     "name": "stderr",
     "output_type": "stream",
     "text": [
      "`geom_smooth()` using formula 'y ~ x'\n",
      "`geom_smooth()` using formula 'y ~ x'\n"
     ]
    },
    {
     "data": {
      "image/png": "[encoded data removed]",
      "text/plain": [
       "plot without title"
      ]
     },
     "metadata": {},
     "output_type": "display_data"
    }
   ],
   "source": [
    "options(repr.plot.width = 10, repr.plot.height = 6)\n",
    "data_median_fractal_biochemical %>%\n",
    "  ggplot(aes(x = log.T, y  = log.K)) +\n",
    "  geom_point() + geom_smooth(method = \"lm\", se = FALSE, colour=\"black\") +\n",
    "  facet_grid(`Biochemical composition` ~ `Biomass type`, labeller = labeller(`Biochemical composition` = New.labs)) +\n",
    "  geom_text(data = fractal_biochemical_kinetics %>%\n",
    "              rename(`Biochemical composition`= Biochemical_composition),\n",
    "            parse = TRUE,\n",
    "            aes(label = paste(\"italic(h) ==\", round(h, 1), \"%+-%\", round(h-h_ll, 1))),\n",
    "            x = 1.5, y = -4) +\n",
    "  geom_text(data = fractal_biochemical_kinetics%>%\n",
    "              rename(`Biochemical composition`= Biochemical_composition),  \n",
    "            parse = TRUE,\n",
    "            aes(label = paste(\"italic(k[1]) ==\", round(k1, 3), \"%+-%\", round(k1-k1_ll, 3))),\n",
    "            x = 1.5, y = -3.75) +\n",
    "\n",
    "geom_text(data = fractal_biochemical_kinetics %>%\n",
    "              rename(`Biochemical composition`= Biochemical_composition),\n",
    "          parse = TRUE,\n",
    "          aes(label = paste((\"R^2 ==\"), round(r_sq, 2))),                 \n",
    "           x = 1.5, y = -3.5) + \n",
    "labs(x = expression(paste(\"log.\", italic(\"t\"))), y = expression(paste(\"log.\", italic(\"k\")))) +\n",
    "  theme_bw() +\n",
    "theme(strip.text = element_text(size = 13), axis.text=element_text(size=13),\n",
    "        axis.title=element_text(size=13)) \n",
    "ggsave(\"figures/Fractal first order parameters of decomposition of teas biochemicals compositions under field conditions.png\", width = 8, height = 6, dpi = 80)"
   ]
  },
  {
   "cell_type": "code",
   "execution_count": null,
   "metadata": {},
   "outputs": [],
   "source": []
  },
  {
   "cell_type": "code",
   "execution_count": null,
   "metadata": {},
   "outputs": [],
   "source": []
  }
 ],
 "metadata": {
  "kernelspec": {
   "display_name": "R",
   "language": "R",
   "name": "ir"
  },
  "language_info": {
   "codemirror_mode": "r",
   "file_extension": ".r",
   "mimetype": "text/x-r-source",
   "name": "R",
   "pygments_lexer": "r",
   "version": "3.6.1"
  }
 },
 "nbformat": 4,
 "nbformat_minor": 4
}
