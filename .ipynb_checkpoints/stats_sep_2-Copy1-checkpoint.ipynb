{
 "cells": [
  {
   "cell_type": "markdown",
   "metadata": {},
   "source": [
    "# Organic matter decomposition kinetics and potential carbon sequestration in cranberry agroecosystems \n",
    "\n",
    "*Wilfried Dossou-Yovo, Serge Étienne Parent,Noura Ziadi, Élizabeth Parent and Léon Étienne Parent*"
   ]
  },
  {
   "cell_type": "code",
   "execution_count": 1,
   "metadata": {},
   "outputs": [
    {
     "name": "stdout",
     "output_type": "stream",
     "text": [
      "[1] \"2020-09-04\"\n"
     ]
    }
   ],
   "source": [
    "print(Sys.Date())"
   ]
  },
  {
   "cell_type": "markdown",
   "metadata": {},
   "source": [
    "## 1. Objective"
   ]
  },
  {
   "cell_type": "markdown",
   "metadata": {},
   "source": [
    "This notebook generates the results included in the manuscript *Organic matter decomposition kinetics and potential carbon sequestration in cranberry agroecosystems*. Two trials have been made, first one in 2017 (data.csv) and the second in 2018 (data_fractal.csv).Data set from trials are a collection of incubated tea bag weight, nitrogen, carbon and sulfur content, nitrogen type and doses on trials fieds. The aims of this study was to assess soil carbon sequestration capacity of cranberry stands in eastern Canada."
   ]
  },
  {
   "cell_type": "markdown",
   "metadata": {},
   "source": [
    "## 2. Statistical questions\n",
    "\n",
    "In addition to data exploration, this notebook will answer the following statistical questions.\n",
    "\n",
    "1. What's affecting 1st order kinetics?\n",
    "2. What affecting TBI parameters (k)?\n",
    "3. Where cranberry soils are placed among the axes of the *TBI*?\n",
    "4. What is the fractal kinetics of litter matterials ?\n",
    "5. What is the fractal kinetics of litter biochemical composition ?"
   ]
  },
  {
   "cell_type": "markdown",
   "metadata": {},
   "source": [
    "## 3. Packages and Function"
   ]
  },
  {
   "cell_type": "markdown",
   "metadata": {},
   "source": [
    "### 3.1 Packages"
   ]
  },
  {
   "cell_type": "markdown",
   "metadata": {},
   "source": [
    "We need package [tidyverse](https://www.tidyverse.org/) which loads a set of packages for easy data manipulation (e.g. [dplyr](https://www.rdocumentation.org/packages/dplyr/versions/0.7.8)) and visualization (e.g. [ggplot2](https://www.rdocumentation.org/packages/ggplot2/versions/3.2.1)). A set of other packages is used: [nlme](https://www.rdocumentation.org/packages/nlme/versions/3.1-143/topics/nlme) for fitting nonlinear mixed-effects models, the broom package summarises model outputs in a \"tidy\" way, [e1071](https://www.rdocumentation.org/packages/e1071/versions/1.7-3) to test distributions, [ggmap](https://www.rdocumentation.org/packages/ggmap/versions/3.0.0) for mapping, [ggrepel](https://www.rdocumentation.org/packages/ggrepel/versions/0.8.1) to avoid text overlaping on ggplot2, [patchwork](https://www.rdocumentation.org/packages/patchwork/versions/1.0.0/topics/patchwork-package) to assemble plots in grids, [composition](https://www.rdocumentation.org/packages/compositions/versions/1.40-5) for compositional data transformations."
   ]
  },
  {
   "cell_type": "code",
   "execution_count": 2,
   "metadata": {},
   "outputs": [
    {
     "name": "stderr",
     "output_type": "stream",
     "text": [
      "Warning message:\n",
      "\"package 'tidyverse' was built under R version 3.6.2\"-- Attaching packages --------------------------------------- tidyverse 1.3.0 --\n",
      "v ggplot2 3.2.1     v purrr   0.3.3\n",
      "v tibble  2.1.3     v dplyr   0.8.3\n",
      "v tidyr   1.0.0     v stringr 1.4.0\n",
      "v readr   1.3.1     v forcats 0.4.0\n",
      "Warning message:\n",
      "\"package 'ggplot2' was built under R version 3.6.2\"Warning message:\n",
      "\"package 'tibble' was built under R version 3.6.2\"Warning message:\n",
      "\"package 'tidyr' was built under R version 3.6.2\"Warning message:\n",
      "\"package 'readr' was built under R version 3.6.2\"Warning message:\n",
      "\"package 'purrr' was built under R version 3.6.2\"Warning message:\n",
      "\"package 'dplyr' was built under R version 3.6.2\"Warning message:\n",
      "\"package 'stringr' was built under R version 3.6.2\"Warning message:\n",
      "\"package 'forcats' was built under R version 3.6.2\"-- Conflicts ------------------------------------------ tidyverse_conflicts() --\n",
      "x dplyr::filter() masks stats::filter()\n",
      "x dplyr::lag()    masks stats::lag()\n",
      "Warning message:\n",
      "\"package 'nlme' was built under R version 3.6.2\"\n",
      "Attaching package: 'nlme'\n",
      "\n",
      "The following object is masked from 'package:dplyr':\n",
      "\n",
      "    collapse\n",
      "\n",
      "Warning message:\n",
      "\"package 'broom' was built under R version 3.6.2\"Warning message:\n",
      "\"package 'e1071' was built under R version 3.6.2\"Warning message:\n",
      "\"package 'ggmap' was built under R version 3.6.2\"Google's Terms of Service: https://cloud.google.com/maps-platform/terms/.\n",
      "Please cite ggmap if you use it! See citation(\"ggmap\") for details.\n",
      "Warning message:\n",
      "\"package 'ggrepel' was built under R version 3.6.2\"Warning message:\n",
      "\"package 'compositions' was built under R version 3.6.2\"Loading required package: tensorA\n",
      "\n",
      "Attaching package: 'tensorA'\n",
      "\n",
      "The following object is masked from 'package:base':\n",
      "\n",
      "    norm\n",
      "\n",
      "Loading required package: robustbase\n",
      "Warning message:\n",
      "\"package 'robustbase' was built under R version 3.6.2\"Loading required package: bayesm\n",
      "Warning message:\n",
      "\"package 'bayesm' was built under R version 3.6.2\"Welcome to compositions, a package for compositional data analysis.\n",
      "Find an intro with \"? compositions\"\n",
      "\n",
      "\n",
      "Attaching package: 'compositions'\n",
      "\n",
      "The following objects are masked from 'package:stats':\n",
      "\n",
      "    cor, cov, dist, var\n",
      "\n",
      "The following objects are masked from 'package:base':\n",
      "\n",
      "    %*%, scale, scale.default\n",
      "\n",
      "Warning message:\n",
      "\"package 'patchwork' was built under R version 3.6.3\""
     ]
    }
   ],
   "source": [
    "library(\"tidyverse\")\n",
    "library(\"nlme\")\n",
    "library(\"broom\")\n",
    "library(\"e1071\")\n",
    "library(\"ggmap\")\n",
    "library(\"ggrepel\")\n",
    "library(\"compositions\")\n",
    "library(\"patchwork\")"
   ]
  },
  {
   "cell_type": "markdown",
   "metadata": {},
   "source": [
    "## 3.2 Some custom functions.\n",
    "### Pseudo R-square\n",
    "Pseudo R-square allows to measure how well variables of our model explain organic matter decomposition"
   ]
  },
  {
   "cell_type": "code",
   "execution_count": 3,
   "metadata": {},
   "outputs": [],
   "source": [
    "pseudoR2 <- function(y, y_hat) {\n",
    "  1 - (sum((y - y_hat)^2) / sum((y - mean(y))^2))\n",
    "}\n",
    "\n",
    "# Residuals\n",
    "residues <- function(model, level = 0, computeResidues = TRUE, residues,\n",
    "                   main = \"\") {\n",
    "  if (computeResidues) {\n",
    "    r = residuals(model, type=\"normalized\", level)\n",
    "  } else {\n",
    "    r = residues\n",
    "  }\n",
    "  hist(r, freq=F, main = main, breaks=20)\n",
    "  xfit<-seq(min(r),max(r),length=40)\n",
    "  yfit<-dnorm(xfit)\n",
    "  lines(xfit, yfit, col=\"red\", lwd=2)\n",
    "  print(\"Shapiro-Wilk:\")\n",
    "  print(shapiro.test(r))\n",
    "  print(paste(\"Kurtosis:\", kurtosis(r)))\n",
    "  print(paste(\"Skewness:\", skewness(r)))\n",
    "}\n"
   ]
  },
  {
   "cell_type": "markdown",
   "metadata": {},
   "source": [
    "## 4. Import data\n",
    "Here, we load our data `data.csv` available for the project in the `data` folder."
   ]
  },
  {
   "cell_type": "code",
   "execution_count": 4,
   "metadata": {},
   "outputs": [
    {
     "name": "stderr",
     "output_type": "stream",
     "text": [
      "Parsed with column specification:\n",
      "cols(\n",
      "  No = col_double(),\n",
      "  `Tea type abbr` = col_character(),\n",
      "  `Tea type` = col_character(),\n",
      "  `Initial tea weight (g)` = col_double(),\n",
      "  `Initial total weight (g)` = col_double(),\n",
      "  `Initial bag weight (g)` = col_double(),\n",
      "  `Remaining tea weight (g)` = col_double(),\n",
      "  Farm = col_character(),\n",
      "  Site = col_character(),\n",
      "  `Farming system` = col_character(),\n",
      "  `Nitrogen type` = col_character(),\n",
      "  `Nitrogen dose` = col_double(),\n",
      "  Repetition = col_double(),\n",
      "  `Remaining C (%)` = col_double(),\n",
      "  `Remaining N (%)` = col_double(),\n",
      "  `Remaining S (%)` = col_double(),\n",
      "  `Initial C fraction` = col_double()\n",
      ")\n"
     ]
    }
   ],
   "source": [
    "df <- read_csv(\"data/data.csv\")"
   ]
  },
  {
   "cell_type": "markdown",
   "metadata": {},
   "source": [
    "We create a label `Dose repetition` to create unique identifiers for blocks."
   ]
  },
  {
   "cell_type": "code",
   "execution_count": 5,
   "metadata": {},
   "outputs": [],
   "source": [
    "df$`Dose repetition` <- paste0(df$`Nitrogen dose`, '_', df$Repetition,'_', df$Site)"
   ]
  },
  {
   "cell_type": "markdown",
   "metadata": {},
   "source": [
    "*Cranberry litter* category will be used for the reference category in modeling."
   ]
  },
  {
   "cell_type": "code",
   "execution_count": 6,
   "metadata": {},
   "outputs": [],
   "source": [
    "df$`Tea type` <- relevel(factor(df$`Tea type`), ref = 'Cranberry litter')"
   ]
  },
  {
   "cell_type": "markdown",
   "metadata": {},
   "source": [
    "## 5. Mapping experimental sites"
   ]
  },
  {
   "cell_type": "markdown",
   "metadata": {},
   "source": [
    "We design a map of our four experimental sites with geographical position collected from Stamen maps. Warnings appear, but it seems its a bug that comes out when mixing ggmap and geom_label_repel."
   ]
  },
  {
   "cell_type": "code",
   "execution_count": 7,
   "metadata": {},
   "outputs": [
    {
     "name": "stderr",
     "output_type": "stream",
     "text": [
      "Source : http://tile.stamen.com/toner-lite/4/4/4.png\n",
      "Source : http://tile.stamen.com/toner-lite/4/5/4.png\n",
      "Source : http://tile.stamen.com/toner-lite/4/4/5.png\n",
      "Source : http://tile.stamen.com/toner-lite/4/5/5.png\n",
      "Source : http://tile.stamen.com/toner-lite/8/76/90.png\n",
      "Source : http://tile.stamen.com/toner-lite/8/77/90.png\n",
      "Source : http://tile.stamen.com/toner-lite/8/76/91.png\n",
      "Source : http://tile.stamen.com/toner-lite/8/77/91.png\n",
      "Warning message in min(x):\n",
      "\"aucun argument trouvé pour min ; Inf est renvoyé\"Warning message in max(x):\n",
      "\"aucun argument pour max ; -Inf est renvoyé\"Warning message in min(x):\n",
      "\"aucun argument trouvé pour min ; Inf est renvoyé\"Warning message in max(x):\n",
      "\"aucun argument pour max ; -Inf est renvoyé\""
     ]
    }
   ],
   "source": [
    "# table including sites and their geograhic position\n",
    "sites <- tibble(names = c(\"Fortier/45\", \"Fortier/9\", \"Belanger/A9\", \"Belanger/10\"),\n",
    "                lat = c(46.2759555, 46.2759555, 46.2329064, 46.3277404),\n",
    "                lon = c(-71.8584291, -71.8584291, -72.0461854, -71.7486645))\n",
    "\n",
    "# create two frames, one for zoom out, the other for zoom in\n",
    "frame_map_zoom_out <- c(left = -90, bottom = 44, right = -53, top = 63)\n",
    "frame_map_zoom_in <- c(left = -73, bottom = 46, right = -70.5, top = 47)\n",
    "\n",
    "# to draw the zoom in frame on the zoom out map\n",
    "rect_zoom <- data.frame(t(data.frame(frame_map_zoom_in)))\n",
    "\n",
    "# the map with zoom out\n",
    "map_out <- get_stamenmap(frame_map_zoom_out, zoom = 4, maptype = \"toner-lite\") %>%\n",
    "  ggmap() +\n",
    "  geom_rect(data = rect_zoom, aes(xmin = left, xmax = right,\n",
    "                                  ymin = bottom, ymax = top,\n",
    "                                  x = NULL, y = NULL),\n",
    "            fill = rgb(0, 0, 0, 0.2), colour = \"black\") +\n",
    "  #geom_label_repel(data = sites, aes(x = lon, y = lat, label = names)) +\n",
    "  labs(x = \"Longitude\", y = \"Latiude\", title = \"A\")\n",
    "\n",
    "# the map with zoom in\n",
    "map_in <- get_stamenmap(frame_map_zoom_in, zoom = 8, maptype = \"toner-lite\") %>%\n",
    "  ggmap() +\n",
    "  geom_label_repel(data = sites, aes(x = lon, y = lat, label = names)) +\n",
    "  labs(x = \"Longitude\", y = \"Latiude\", title = \"B\")\n",
    "\n",
    "# combining the plots\n",
    "maps_ <- map_out + map_in\n",
    "\n",
    "ggsave(\"figures/site_map.png\", plot = maps_, width = 8, height = 6, dpi = 600)"
   ]
  },
  {
   "cell_type": "markdown",
   "metadata": {},
   "source": [
    "## 6. Monthly weather data (2008-2018) at Lemieux, Quebec (46° 09′ 56″ N 72° 19′ 28″ W), for experimental sites (Gouvernement du Canada, 2018)"
   ]
  },
  {
   "cell_type": "markdown",
   "metadata": {},
   "source": [
    "### 6.1 Import data weather\n",
    "\n",
    "`Data weather` has been collected from environnement canada. The content is the collection of data history about temperature and precipitation from years of field trial (2017 and 2018) and 10 years average (2008 to 2018)."
   ]
  },
  {
   "cell_type": "code",
   "execution_count": 8,
   "metadata": {},
   "outputs": [
    {
     "name": "stderr",
     "output_type": "stream",
     "text": [
      "Using ',' as decimal and '.' as grouping mark. Use read_delim() for more control.\n",
      "Parsed with column specification:\n",
      "cols(\n",
      "  Years = col_character(),\n",
      "  Months = col_character(),\n",
      "  `Precipitations(mm)` = col_double(),\n",
      "  `Temperatures(oC)` = col_double()\n",
      ")\n"
     ]
    }
   ],
   "source": [
    "df_weather <- read_csv2(\"data/data_weather.csv\")"
   ]
  },
  {
   "cell_type": "markdown",
   "metadata": {},
   "source": [
    "### 6.2 Plot weather data"
   ]
  },
  {
   "cell_type": "code",
   "execution_count": 9,
   "metadata": {},
   "outputs": [
    {
     "data": {
      "image/png": "[encoded data removed]",
      "text/plain": [
       "plot without title"
      ]
     },
     "metadata": {},
     "output_type": "display_data"
    }
   ],
   "source": [
    "df_weather$Months <- factor(df_weather$Months,levels = c(\"June\", \"July\", \"August\", \"September\")) #  Sorting bars by Months\n",
    "\n",
    "df_weather_long <- df_weather %>%\n",
    "  pivot_longer(cols = -c(Years, Months))\n",
    "\n",
    "Weather <- df_weather_long %>%\n",
    "  filter(Years %in% c(\"2017\", \"2018\")) %>%\n",
    "  ggplot(aes(x = `Months`, y = value)) +\n",
    "  facet_grid(name ~ ., scales = \"free\", switch = \"y\") +\n",
    "  geom_bar(aes(fill= Years), colour = \"black\", stat=\"identity\", position=\"dodge\") +\n",
    "  geom_errorbar(data = df_weather_long %>% filter(Years == \"10 Years average\"),\n",
    "                mapping = aes(x = `Months`, ymax = value, ymin = value)) +\n",
    "  geom_label(data = df_weather_long %>% filter(Years == \"10 Years average\"),\n",
    "            mapping = aes(label = paste(\"10-y. av. = \", value), hjust = 0.6, vjust = 0.5)) +\n",
    "  #scale_fill_brewer(palette = \"Set2\") +\n",
    "  theme_bw() +\n",
    "  theme(axis.title.y = element_blank(),\n",
    "        strip.background = element_rect(fill = \"transparent\", colour = \"transparent\"),\n",
    "        strip.placement = \"outside\")\n",
    "Weather\n",
    "ggsave(\"figures/Weather.png\", plot = Weather, width = 7, height = 8, dpi = 120)"
   ]
  },
  {
   "cell_type": "markdown",
   "metadata": {},
   "source": [
    "## 7. Compute the 1st order kinetics"
   ]
  },
  {
   "cell_type": "markdown",
   "metadata": {},
   "source": [
    "Weight loss rate has been estimated with the function\n",
    "\n",
    "$k_1 = \\frac{-ln \\left( \\frac{M(t)}{M_0} \\right) }{t}$,\n",
    "\n",
    "where $M_0$ is initial litter organic mass, $M(t)$ is litter organic mass that remains after incubation time $t = 90~days$, and $k_1$ is decomposition rate. "
   ]
  },
  {
   "cell_type": "code",
   "execution_count": 10,
   "metadata": {},
   "outputs": [],
   "source": [
    "kinetics_1st <- function(rw, iw, t) { # First order kinetic function\n",
    "    -log(rw/iw)/t\n",
    "}"
   ]
  },
  {
   "cell_type": "markdown",
   "metadata": {},
   "source": [
    "We can compute `k1` for each row of the `df` table."
   ]
  },
  {
   "cell_type": "code",
   "execution_count": 11,
   "metadata": {},
   "outputs": [],
   "source": [
    "df$k1 <- kinetics_1st(rw = df$`Remaining tea weight (g)`,\n",
    "                      iw = df$`Initial tea weight (g)`,\n",
    "                      t = 90)"
   ]
  },
  {
   "cell_type": "markdown",
   "metadata": {},
   "source": [
    "## 8. Data exploration"
   ]
  },
  {
   "cell_type": "markdown",
   "metadata": {},
   "source": [
    "Boxplot of $k_1$ for different N dosages per litter."
   ]
  },
  {
   "cell_type": "code",
   "execution_count": 12,
   "metadata": {},
   "outputs": [
    {
     "name": "stderr",
     "output_type": "stream",
     "text": [
      "Warning message:\n",
      "\"Removed 49 rows containing non-finite values (stat_boxplot).\""
     ]
    },
    {
     "data": {
      "image/png": "[encoded data removed]",
      "text/plain": [
       "plot without title"
      ]
     },
     "metadata": {},
     "output_type": "display_data"
    }
   ],
   "source": [
    "options(repr.plot.width = 6, repr.plot.height = 10)\n",
    "ggplot(data = df,\n",
    "       mapping = aes(x = `Nitrogen type`, y = k1)) +\n",
    "  facet_grid(`Tea type` ~ ., scales = \"free\") +\n",
    "  geom_boxplot()"
   ]
  },
  {
   "cell_type": "markdown",
   "metadata": {},
   "source": [
    "## 9. Mixed model"
   ]
  },
  {
   "cell_type": "markdown",
   "metadata": {},
   "source": [
    "## 9.1 **Question 1**: What's affecting 1st order kinetics?"
   ]
  },
  {
   "cell_type": "markdown",
   "metadata": {},
   "source": [
    "The dose is standardized to zero mean and unit variance."
   ]
  },
  {
   "cell_type": "code",
   "execution_count": 13,
   "metadata": {},
   "outputs": [],
   "source": [
    "df <- df %>%\n",
    "  mutate(`Nitrogen dose scaled` = scale(`Nitrogen dose`))"
   ]
  },
  {
   "cell_type": "markdown",
   "metadata": {},
   "source": [
    "We rename variables without special characters to avoid errors, make sure litters and N dose types are categories, remove NAs in the table and remove categories that might still be in the description but now removed from the table, just in case."
   ]
  },
  {
   "cell_type": "code",
   "execution_count": 14,
   "metadata": {},
   "outputs": [],
   "source": [
    "df_mm <- df %>%\n",
    "  rename(tea = `Tea type`,\n",
    "         Ntype = `Nitrogen type`,\n",
    "         Ndose = `Nitrogen dose scaled`) %>%\n",
    "  mutate(tea = factor(tea),\n",
    "         Ntype = factor(Ntype)) %>%\n",
    "  drop_na() %>%\n",
    "  droplevels()"
   ]
  },
  {
   "cell_type": "markdown",
   "metadata": {},
   "source": [
    "The model investigates the effect of the type of the dose (`Ntype`), the magnitude of the dose (`Ndose`) and the litter (`tea`) on `k1`, considering the random effect of sites (`Site`) nested in farms (`Farm`)."
   ]
  },
  {
   "cell_type": "code",
   "execution_count": 15,
   "metadata": {},
   "outputs": [
    {
     "data": {
      "text/plain": [
       "Approximate 95% confidence intervals\n",
       "\n",
       " Fixed effects:\n",
       "                              lower          est.         upper\n",
       "(Intercept)           -9.462499e-04  1.239422e-04  1.194134e-03\n",
       "NtypeN-6-1-1          -3.665047e-04  3.700764e-04  1.106658e-03\n",
       "NtypeN-8-0-0          -1.743339e-04  6.346989e-04  1.443732e-03\n",
       "NtypeN-SCU            -3.796524e-04  4.694389e-05  4.735401e-04\n",
       "Ndose                 -4.208384e-05  1.652003e-04  3.724843e-04\n",
       "teaGreen tea           9.339279e-03  9.623519e-03  9.907758e-03\n",
       "teaHibiscus Tea        2.407132e-03  3.666307e-03  4.925482e-03\n",
       "teaRooibos tea         2.814486e-03  3.098231e-03  3.381976e-03\n",
       "teaSencha Tea          1.174453e-02  1.300483e-02  1.426513e-02\n",
       "Ndose:teaGreen tea    -5.759244e-04 -2.997410e-04 -2.355757e-05\n",
       "Ndose:teaHibiscus Tea -1.100256e-03  2.016238e-04  1.503503e-03\n",
       "Ndose:teaRooibos tea  -4.628685e-04 -1.901865e-04  8.249546e-05\n",
       "Ndose:teaSencha Tea   -2.914566e-03 -1.612294e-03 -3.100234e-04\n",
       "attr(,\"label\")\n",
       "[1] \"Fixed effects:\"\n",
       "\n",
       " Random Effects:\n",
       "  Level: Farm \n",
       "                       lower         est.       upper\n",
       "sd((Intercept)) 0.0001098398 0.0006631735 0.004004004\n",
       "  Level: Site \n",
       "                      lower         est.       upper\n",
       "sd((Intercept)) 0.000139708 0.0004607784 0.001519718\n",
       "\n",
       " Within-group standard error:\n",
       "       lower         est.        upper \n",
       "0.0009592645 0.0010334818 0.0011134412 "
      ]
     },
     "metadata": {},
     "output_type": "display_data"
    }
   ],
   "source": [
    "k1_mm <- lme(fixed = k1 ~ Ntype + Ndose * tea,\n",
    "                     random = ~ 1 | Farm/Site,\n",
    "                     data = df_mm)\n",
    "intervals(k1_mm, level = 0.95)"
   ]
  },
  {
   "cell_type": "markdown",
   "metadata": {},
   "source": [
    "### 9.2.1 P-value"
   ]
  },
  {
   "cell_type": "code",
   "execution_count": 16,
   "metadata": {},
   "outputs": [
    {
     "data": {
      "text/html": [
       "<table>\n",
       "<thead><tr><th></th><th scope=col>numDF</th><th scope=col>denDF</th><th scope=col>F-value</th><th scope=col>p-value</th></tr></thead>\n",
       "<tbody>\n",
       "\t<tr><th scope=row>(Intercept)</th><td>1           </td><td>346         </td><td>  90.4235185</td><td>0.000000e+00</td></tr>\n",
       "\t<tr><th scope=row>Ntype</th><td>3           </td><td>346         </td><td>   9.2425070</td><td>6.769315e-06</td></tr>\n",
       "\t<tr><th scope=row>Ndose</th><td>1           </td><td>346         </td><td>   0.4951898</td><td>4.820946e-01</td></tr>\n",
       "\t<tr><th scope=row>tea</th><td>4           </td><td>346         </td><td>1309.7307309</td><td>0.000000e+00</td></tr>\n",
       "\t<tr><th scope=row>Ndose:tea</th><td>4           </td><td>346         </td><td>   2.4427939</td><td>4.649410e-02</td></tr>\n",
       "</tbody>\n",
       "</table>\n"
      ],
      "text/latex": [
       "\\begin{tabular}{r|llll}\n",
       "  & numDF & denDF & F-value & p-value\\\\\n",
       "\\hline\n",
       "\t(Intercept) & 1            & 346          &   90.4235185 & 0.000000e+00\\\\\n",
       "\tNtype & 3            & 346          &    9.2425070 & 6.769315e-06\\\\\n",
       "\tNdose & 1            & 346          &    0.4951898 & 4.820946e-01\\\\\n",
       "\ttea & 4            & 346          & 1309.7307309 & 0.000000e+00\\\\\n",
       "\tNdose:tea & 4            & 346          &    2.4427939 & 4.649410e-02\\\\\n",
       "\\end{tabular}\n"
      ],
      "text/markdown": [
       "\n",
       "| <!--/--> | numDF | denDF | F-value | p-value |\n",
       "|---|---|---|---|---|\n",
       "| (Intercept) | 1            | 346          |   90.4235185 | 0.000000e+00 |\n",
       "| Ntype | 3            | 346          |    9.2425070 | 6.769315e-06 |\n",
       "| Ndose | 1            | 346          |    0.4951898 | 4.820946e-01 |\n",
       "| tea | 4            | 346          | 1309.7307309 | 0.000000e+00 |\n",
       "| Ndose:tea | 4            | 346          |    2.4427939 | 4.649410e-02 |\n",
       "\n"
      ],
      "text/plain": [
       "            numDF denDF F-value      p-value     \n",
       "(Intercept) 1     346     90.4235185 0.000000e+00\n",
       "Ntype       3     346      9.2425070 6.769315e-06\n",
       "Ndose       1     346      0.4951898 4.820946e-01\n",
       "tea         4     346   1309.7307309 0.000000e+00\n",
       "Ndose:tea   4     346      2.4427939 4.649410e-02"
      ]
     },
     "metadata": {},
     "output_type": "display_data"
    }
   ],
   "source": [
    "anova(k1_mm)"
   ]
  },
  {
   "cell_type": "markdown",
   "metadata": {},
   "source": [
    "### 9.1.2 Pseudo r-square\n",
    "Pseudo r-square was high with(0.94) and without(0.91) random effect indicated the influence of random effects was not impotant. Moreover, pseudo r-square was high, indicated mixed model was well fit to data.   "
   ]
  },
  {
   "cell_type": "code",
   "execution_count": 17,
   "metadata": {},
   "outputs": [
    {
     "data": {
      "text/html": [
       "0.917998181500839"
      ],
      "text/latex": [
       "0.917998181500839"
      ],
      "text/markdown": [
       "0.917998181500839"
      ],
      "text/plain": [
       "[1] 0.9179982"
      ]
     },
     "metadata": {},
     "output_type": "display_data"
    },
    {
     "data": {
      "text/html": [
       "0.940505395382787"
      ],
      "text/latex": [
       "0.940505395382787"
      ],
      "text/markdown": [
       "0.940505395382787"
      ],
      "text/plain": [
       "[1] 0.9405054"
      ]
     },
     "metadata": {},
     "output_type": "display_data"
    }
   ],
   "source": [
    "pseudoR2(y = df_mm$k1,\n",
    "         y_hat = predict(k1_mm, level = 0))\n",
    "\n",
    "pseudoR2(y = df_mm$k1,\n",
    "         y_hat = predict(k1_mm, level = 2))"
   ]
  },
  {
   "cell_type": "markdown",
   "metadata": {},
   "source": [
    "### 9.1.3 Shapiro-Wilk normality test"
   ]
  },
  {
   "cell_type": "code",
   "execution_count": 18,
   "metadata": {},
   "outputs": [
    {
     "name": "stdout",
     "output_type": "stream",
     "text": [
      "[1] \"Shapiro-Wilk:\"\n",
      "\n",
      "\tShapiro-Wilk normality test\n",
      "\n",
      "data:  r\n",
      "W = 0.93463, p-value = 1.636e-11\n",
      "\n",
      "[1] \"Kurtosis: 4.72506311595992\"\n",
      "[1] \"Skewness: 0.0203648806888307\"\n"
     ]
    },
    {
     "data": {
      "image/png": "[encoded data removed]",
      "text/plain": [
       "Plot with title \"\""
      ]
     },
     "metadata": {},
     "output_type": "display_data"
    }
   ],
   "source": [
    "options(repr.plot.width = 6, repr.plot.height = 4)\n",
    "residues(k1_mm)"
   ]
  },
  {
   "cell_type": "markdown",
   "metadata": {},
   "source": [
    "### 9.1.4 Reporting the results of the mixed models"
   ]
  },
  {
   "cell_type": "markdown",
   "metadata": {},
   "source": [
    "I create a table including the results I need: estimates, confidence intervals and p-values."
   ]
  },
  {
   "cell_type": "code",
   "execution_count": 19,
   "metadata": {},
   "outputs": [],
   "source": [
    "k1_gg <- data.frame(intervals(k1_mm, which = \"fixed\")$fixed)\n",
    "k1_gg <- k1_gg %>%\n",
    "  mutate(variable = rownames(k1_gg))\n",
    "k1_gg <- k1_gg %>%\n",
    "  mutate(pvalue = summary(k1_mm)$tTable[, 5],\n",
    "         is_significant = ifelse(pvalue <= 0.05, 'Significant at 0.05 level', 'Not significant at 0.05 level'))\n",
    "\n",
    "k1_gg$variable <- c(\"Intercept\", \"N 6-1-1\", \"N 8-0-0\", \"N SCU-39-0-0\", # Ajust names\n",
    "                    \"Dose N (scaled)\", \"Green tea\", \"Hibiscus tea\", \"Rooibos tea\", \"Sencha tea\",\n",
    "                     \"Green tea : Dose N\", \"Hibiscus tea : Dose N\", \"Rooibos tea : Dose N\", \"Sencha tea : Dose N\")"
   ]
  },
  {
   "cell_type": "markdown",
   "metadata": {},
   "source": [
    "Adding random effects to the table."
   ]
  },
  {
   "cell_type": "code",
   "execution_count": 20,
   "metadata": {},
   "outputs": [],
   "source": [
    "k1_re <- data.frame(matrix(ncol = ncol(k1_gg), nrow = 6))\n",
    "names(k1_re) <- names(k1_gg)\n",
    "k1_re$est. <- c(ranef(k1_mm)$Farm[, 1], ranef(k1_mm)$Site[, 1])\n",
    "k1_re$variable <- c(rownames(ranef(k1_mm)$Farm),\n",
    "                    rownames(ranef(k1_mm)$Site))\n",
    "\n",
    "if (!(\"Belanger\" %in% k1_gg$variable)) k1_gg <- bind_rows(k1_gg, k1_re) # with an if to make sure ranefs are stacked only once"
   ]
  },
  {
   "cell_type": "markdown",
   "metadata": {},
   "source": [
    "Create a facet column to separate effects by effect category in the plot."
   ]
  },
  {
   "cell_type": "code",
   "execution_count": 21,
   "metadata": {},
   "outputs": [],
   "source": [
    "k1_gg$facet <- factor(c('Intercept',\n",
    "                        'N source', 'N source', 'N source',\n",
    "                        \"N dosage\",\n",
    "                        'Tea type', 'Tea type', 'Tea type', 'Tea type',\n",
    "                        'Tea type × N dosage', 'Tea type × N dosage', \n",
    "                        'Tea type × N dosage', 'Tea type × N dosage',\n",
    "                        \"Random effect\", \"Random effect\", \"Random effect\", \"Random effect\", \"Random effect\", \"Random effect\"))\n",
    "\n",
    "k1_gg <- k1_gg %>%\n",
    "  mutate(facet = factor(facet, levels = rev(c(\"Random effect\", \"Tea type × N dosage\", \"Tea type\", \"N dosage\", \"N source\"))))"
   ]
  },
  {
   "cell_type": "markdown",
   "metadata": {},
   "source": [
    "The `k1_gg` table is now set up for the plot."
   ]
  },
  {
   "cell_type": "code",
   "execution_count": 22,
   "metadata": {},
   "outputs": [
    {
     "data": {
      "text/html": [
       "<table>\n",
       "<thead><tr><th scope=col>lower</th><th scope=col>est.</th><th scope=col>upper</th><th scope=col>variable</th><th scope=col>pvalue</th><th scope=col>is_significant</th><th scope=col>facet</th></tr></thead>\n",
       "<tbody>\n",
       "\t<tr><td>-9.462499e-04                </td><td>1.239422e-04                 </td><td>0.0011941343                 </td><td>Intercept                    </td><td> 8.199471e-01                </td><td>Not significant at 0.05 level</td><td>NA                           </td></tr>\n",
       "\t<tr><td>-3.665047e-04                </td><td>3.700764e-04                 </td><td>0.0011066576                 </td><td>N 6-1-1                      </td><td> 3.237498e-01                </td><td>Not significant at 0.05 level</td><td>N source                     </td></tr>\n",
       "\t<tr><td>-1.743339e-04                </td><td>6.346989e-04                 </td><td>0.0014437317                 </td><td>N 8-0-0                      </td><td> 1.237400e-01                </td><td>Not significant at 0.05 level</td><td>N source                     </td></tr>\n",
       "\t<tr><td>-3.796524e-04                </td><td>4.694389e-05                 </td><td>0.0004735401                 </td><td>N SCU-39-0-0                 </td><td> 8.287745e-01                </td><td>Not significant at 0.05 level</td><td>N source                     </td></tr>\n",
       "\t<tr><td>-4.208384e-05                </td><td>1.652003e-04                 </td><td>0.0003724843                 </td><td>Dose N (scaled)              </td><td> 1.179060e-01                </td><td>Not significant at 0.05 level</td><td>N dosage                     </td></tr>\n",
       "\t<tr><td> 9.339279e-03                </td><td>9.623519e-03                 </td><td>0.0099077584                 </td><td>Green tea                    </td><td>2.294584e-199                </td><td>Significant at 0.05 level    </td><td>Tea type                     </td></tr>\n",
       "</tbody>\n",
       "</table>\n"
      ],
      "text/latex": [
       "\\begin{tabular}{r|lllllll}\n",
       " lower & est. & upper & variable & pvalue & is\\_significant & facet\\\\\n",
       "\\hline\n",
       "\t -9.462499e-04                 & 1.239422e-04                  & 0.0011941343                  & Intercept                     &  8.199471e-01                 & Not significant at 0.05 level & NA                           \\\\\n",
       "\t -3.665047e-04                 & 3.700764e-04                  & 0.0011066576                  & N 6-1-1                       &  3.237498e-01                 & Not significant at 0.05 level & N source                     \\\\\n",
       "\t -1.743339e-04                 & 6.346989e-04                  & 0.0014437317                  & N 8-0-0                       &  1.237400e-01                 & Not significant at 0.05 level & N source                     \\\\\n",
       "\t -3.796524e-04                 & 4.694389e-05                  & 0.0004735401                  & N SCU-39-0-0                  &  8.287745e-01                 & Not significant at 0.05 level & N source                     \\\\\n",
       "\t -4.208384e-05                 & 1.652003e-04                  & 0.0003724843                  & Dose N (scaled)               &  1.179060e-01                 & Not significant at 0.05 level & N dosage                     \\\\\n",
       "\t  9.339279e-03                 & 9.623519e-03                  & 0.0099077584                  & Green tea                     & 2.294584e-199                 & Significant at 0.05 level     & Tea type                     \\\\\n",
       "\\end{tabular}\n"
      ],
      "text/markdown": [
       "\n",
       "| lower | est. | upper | variable | pvalue | is_significant | facet |\n",
       "|---|---|---|---|---|---|---|\n",
       "| -9.462499e-04                 | 1.239422e-04                  | 0.0011941343                  | Intercept                     |  8.199471e-01                 | Not significant at 0.05 level | NA                            |\n",
       "| -3.665047e-04                 | 3.700764e-04                  | 0.0011066576                  | N 6-1-1                       |  3.237498e-01                 | Not significant at 0.05 level | N source                      |\n",
       "| -1.743339e-04                 | 6.346989e-04                  | 0.0014437317                  | N 8-0-0                       |  1.237400e-01                 | Not significant at 0.05 level | N source                      |\n",
       "| -3.796524e-04                 | 4.694389e-05                  | 0.0004735401                  | N SCU-39-0-0                  |  8.287745e-01                 | Not significant at 0.05 level | N source                      |\n",
       "| -4.208384e-05                 | 1.652003e-04                  | 0.0003724843                  | Dose N (scaled)               |  1.179060e-01                 | Not significant at 0.05 level | N dosage                      |\n",
       "|  9.339279e-03                 | 9.623519e-03                  | 0.0099077584                  | Green tea                     | 2.294584e-199                 | Significant at 0.05 level     | Tea type                      |\n",
       "\n"
      ],
      "text/plain": [
       "  lower         est.         upper        variable        pvalue       \n",
       "1 -9.462499e-04 1.239422e-04 0.0011941343 Intercept        8.199471e-01\n",
       "2 -3.665047e-04 3.700764e-04 0.0011066576 N 6-1-1          3.237498e-01\n",
       "3 -1.743339e-04 6.346989e-04 0.0014437317 N 8-0-0          1.237400e-01\n",
       "4 -3.796524e-04 4.694389e-05 0.0004735401 N SCU-39-0-0     8.287745e-01\n",
       "5 -4.208384e-05 1.652003e-04 0.0003724843 Dose N (scaled)  1.179060e-01\n",
       "6  9.339279e-03 9.623519e-03 0.0099077584 Green tea       2.294584e-199\n",
       "  is_significant                facet   \n",
       "1 Not significant at 0.05 level NA      \n",
       "2 Not significant at 0.05 level N source\n",
       "3 Not significant at 0.05 level N source\n",
       "4 Not significant at 0.05 level N source\n",
       "5 Not significant at 0.05 level N dosage\n",
       "6 Significant at 0.05 level     Tea type"
      ]
     },
     "metadata": {},
     "output_type": "display_data"
    }
   ],
   "source": [
    "head(k1_gg)"
   ]
  },
  {
   "cell_type": "code",
   "execution_count": 23,
   "metadata": {},
   "outputs": [
    {
     "name": "stderr",
     "output_type": "stream",
     "text": [
      "Warning message:\n",
      "\"Removed 6 rows containing missing values (geom_segment).\"Warning message:\n",
      "\"Removed 6 rows containing missing values (geom_segment).\""
     ]
    },
    {
     "data": {
      "image/png": "[encoded data removed]",
      "text/plain": [
       "plot without title"
      ]
     },
     "metadata": {},
     "output_type": "display_data"
    }
   ],
   "source": [
    "options(repr.plot.width = 12, repr.plot.height = 6)\n",
    "k1_gg %>%\n",
    "  filter(variable != \"Intercept\") %>%\n",
    "  ggplot(aes(x = est., y = variable)) +\n",
    "  facet_grid(facet ~ ., scales = 'free', space = 'free') +\n",
    "  geom_vline(xintercept = 0, colour='grey70') +\n",
    "  geom_point() +\n",
    "  geom_segment(aes(x = lower, xend = upper, y = variable, yend = variable)) +\n",
    "  xlab('Coefficient') +\n",
    "  ylab('') +\n",
    "  theme_bw() +\n",
    "  theme(strip.text.y = element_text(angle=0),\n",
    "        legend.title = element_blank(),\n",
    "        legend.position = \"bottom\",\n",
    "        text = element_text(size = 20)) +\n",
    "  ggsave(\"figures/mixed-model-coefficients.png\", width = 8, height = 6, dpi = 600)"
   ]
  },
  {
   "cell_type": "markdown",
   "metadata": {},
   "source": [
    "How did $k_1$ react across tea types and nitrogen sources for a range of doses, according to the model? To answer this question, I create a grid of values and categories, predict the model for each row of the grid, then put nitrogen dosage back to its original scale."
   ]
  },
  {
   "cell_type": "code",
   "execution_count": 24,
   "metadata": {},
   "outputs": [],
   "source": [
    "pred_grid <- expand.grid(tea = unique(df_mm$tea),\n",
    "                         Ndose = c(min(df_mm$Ndose), max(df_mm$Ndose)),\n",
    "                         Ntype = unique(df_mm$Ntype))\n",
    "pred_grid <- pred_grid %>%\n",
    "  mutate(k1 = predict(k1_mm, newdata = pred_grid,\n",
    "                              level = 0),\n",
    "         Ndose = Ndose * sd(df$`Nitrogen dose`) + mean(df$`Nitrogen dose`)) %>%\n",
    "  rename(`Tea type` = tea,\n",
    "         `Nitrogen dose` = Ndose,\n",
    "         `Nitrogen type` = Ntype)"
   ]
  },
  {
   "cell_type": "code",
   "execution_count": 25,
   "metadata": {},
   "outputs": [
    {
     "data": {
      "text/html": [
       "<table>\n",
       "<thead><tr><th scope=col>Tea type</th><th scope=col>Nitrogen dose</th><th scope=col>Nitrogen type</th><th scope=col>k1</th></tr></thead>\n",
       "<tbody>\n",
       "\t<tr><td>Rooibos tea     </td><td>6.000000e+01    </td><td>N-SCU           </td><td>0.0032355683    </td></tr>\n",
       "\t<tr><td>Sencha Tea      </td><td>6.000000e+01    </td><td>N-21-0-0        </td><td>0.0111857761    </td></tr>\n",
       "\t<tr><td>Green tea       </td><td>6.000000e+01    </td><td>N-6-1-1         </td><td>0.0099368910    </td></tr>\n",
       "\t<tr><td>Sencha Tea      </td><td>3.552714e-15    </td><td>N-SCU           </td><td>0.0153928259    </td></tr>\n",
       "\t<tr><td>Hibiscus Tea    </td><td>3.552714e-15    </td><td>N-21-0-0        </td><td>0.0032282335    </td></tr>\n",
       "\t<tr><td>Green tea       </td><td>3.552714e-15    </td><td>N-21-0-0        </td><td>0.0099535922    </td></tr>\n",
       "\t<tr><td>Sencha Tea      </td><td>6.000000e+01    </td><td>N-6-1-1         </td><td>0.0115558525    </td></tr>\n",
       "\t<tr><td>Cranberry litter</td><td>6.000000e+01    </td><td>N-21-0-0        </td><td>0.0003457545    </td></tr>\n",
       "\t<tr><td>Sencha Tea      </td><td>6.000000e+01    </td><td>N-8-0-0         </td><td>0.0118204750    </td></tr>\n",
       "\t<tr><td>Sencha Tea      </td><td>3.552714e-15    </td><td>N-6-1-1         </td><td>0.0157159584    </td></tr>\n",
       "</tbody>\n",
       "</table>\n"
      ],
      "text/latex": [
       "\\begin{tabular}{r|llll}\n",
       " Tea type & Nitrogen dose & Nitrogen type & k1\\\\\n",
       "\\hline\n",
       "\t Rooibos tea      & 6.000000e+01     & N-SCU            & 0.0032355683    \\\\\n",
       "\t Sencha Tea       & 6.000000e+01     & N-21-0-0         & 0.0111857761    \\\\\n",
       "\t Green tea        & 6.000000e+01     & N-6-1-1          & 0.0099368910    \\\\\n",
       "\t Sencha Tea       & 3.552714e-15     & N-SCU            & 0.0153928259    \\\\\n",
       "\t Hibiscus Tea     & 3.552714e-15     & N-21-0-0         & 0.0032282335    \\\\\n",
       "\t Green tea        & 3.552714e-15     & N-21-0-0         & 0.0099535922    \\\\\n",
       "\t Sencha Tea       & 6.000000e+01     & N-6-1-1          & 0.0115558525    \\\\\n",
       "\t Cranberry litter & 6.000000e+01     & N-21-0-0         & 0.0003457545    \\\\\n",
       "\t Sencha Tea       & 6.000000e+01     & N-8-0-0          & 0.0118204750    \\\\\n",
       "\t Sencha Tea       & 3.552714e-15     & N-6-1-1          & 0.0157159584    \\\\\n",
       "\\end{tabular}\n"
      ],
      "text/markdown": [
       "\n",
       "| Tea type | Nitrogen dose | Nitrogen type | k1 |\n",
       "|---|---|---|---|\n",
       "| Rooibos tea      | 6.000000e+01     | N-SCU            | 0.0032355683     |\n",
       "| Sencha Tea       | 6.000000e+01     | N-21-0-0         | 0.0111857761     |\n",
       "| Green tea        | 6.000000e+01     | N-6-1-1          | 0.0099368910     |\n",
       "| Sencha Tea       | 3.552714e-15     | N-SCU            | 0.0153928259     |\n",
       "| Hibiscus Tea     | 3.552714e-15     | N-21-0-0         | 0.0032282335     |\n",
       "| Green tea        | 3.552714e-15     | N-21-0-0         | 0.0099535922     |\n",
       "| Sencha Tea       | 6.000000e+01     | N-6-1-1          | 0.0115558525     |\n",
       "| Cranberry litter | 6.000000e+01     | N-21-0-0         | 0.0003457545     |\n",
       "| Sencha Tea       | 6.000000e+01     | N-8-0-0          | 0.0118204750     |\n",
       "| Sencha Tea       | 3.552714e-15     | N-6-1-1          | 0.0157159584     |\n",
       "\n"
      ],
      "text/plain": [
       "   Tea type         Nitrogen dose Nitrogen type k1          \n",
       "1  Rooibos tea      6.000000e+01  N-SCU         0.0032355683\n",
       "2  Sencha Tea       6.000000e+01  N-21-0-0      0.0111857761\n",
       "3  Green tea        6.000000e+01  N-6-1-1       0.0099368910\n",
       "4  Sencha Tea       3.552714e-15  N-SCU         0.0153928259\n",
       "5  Hibiscus Tea     3.552714e-15  N-21-0-0      0.0032282335\n",
       "6  Green tea        3.552714e-15  N-21-0-0      0.0099535922\n",
       "7  Sencha Tea       6.000000e+01  N-6-1-1       0.0115558525\n",
       "8  Cranberry litter 6.000000e+01  N-21-0-0      0.0003457545\n",
       "9  Sencha Tea       6.000000e+01  N-8-0-0       0.0118204750\n",
       "10 Sencha Tea       3.552714e-15  N-6-1-1       0.0157159584"
      ]
     },
     "metadata": {},
     "output_type": "display_data"
    }
   ],
   "source": [
    "pred_grid %>% sample_n(10)"
   ]
  },
  {
   "cell_type": "markdown",
   "metadata": {},
   "source": [
    "This table allows to plot the model and data superimposed."
   ]
  },
  {
   "cell_type": "code",
   "execution_count": 26,
   "metadata": {},
   "outputs": [
    {
     "name": "stderr",
     "output_type": "stream",
     "text": [
      "Warning message:\n",
      "\"Removed 49 rows containing missing values (geom_point).\"Warning message:\n",
      "\"Removed 49 rows containing missing values (geom_point).\""
     ]
    },
    {
     "data": {
      "image/png": "[encoded data removed]",
      "text/plain": [
       "plot without title"
      ]
     },
     "metadata": {},
     "output_type": "display_data"
    }
   ],
   "source": [
    "options(repr.plot.width = 10, repr.plot.height = 10)\n",
    "\n",
    "ggplot(df, aes(x = `Nitrogen dose`, y = `k1`)) +\n",
    "  facet_grid(`Nitrogen type` ~ `Tea type`) +\n",
    "  geom_point() +\n",
    "  geom_line(data = pred_grid) +\n",
    "  labs(x = expression(\"Dose N (kg ha\"^\"-1\"~\")\"), y = \"First order kinetics\") +\n",
    "  theme_bw() +\n",
    "  theme(text = element_text(size = 20)) + \n",
    "  ggsave(\"figures/k1-model-lines.png\", width = 10, height = 6, dpi = 600)# nomme figure"
   ]
  },
  {
   "cell_type": "markdown",
   "metadata": {},
   "source": [
    "## 9.2 **Question 2**: What affected TBI parameters (k)?\n",
    "\n",
    "Adding `M / M0` variable to data `df`."
   ]
  },
  {
   "cell_type": "code",
   "execution_count": 27,
   "metadata": {},
   "outputs": [],
   "source": [
    "df <- df %>%\n",
    "  mutate(`M / M0` = `Remaining tea weight (g)` / `Initial tea weight (g)`)"
   ]
  },
  {
   "cell_type": "markdown",
   "metadata": {},
   "source": [
    "I store hydrolysable fractions of green tea and rooibos."
   ]
  },
  {
   "cell_type": "code",
   "execution_count": 28,
   "metadata": {},
   "outputs": [],
   "source": [
    "Hf_g <- 0.805   # Hydrolysable fraction for Green tea\n",
    "Hf_r <- 0.826   # Hydrolysable fraction for Rooibos tea"
   ]
  },
  {
   "cell_type": "markdown",
   "metadata": {},
   "source": [
    "For comparaison purpose, [Keuskamp et al. (2013)](https://besjournals.onlinelibrary.wiley.com/doi/full/10.1111/2041-210X.12097) hydrolysable fractions were:\n",
    "\n",
    "- Green tea `Hf_g = 0.842`  \n",
    "- Rooibos tea `Hf_r = 0.552`"
   ]
  },
  {
   "cell_type": "markdown",
   "metadata": {},
   "source": [
    "### 9.2.1 Computation of the labile fraction (a) and the stabilization factor (s) of green tea\n",
    "\n",
    "Decomposition rate `k_tbi` is computed from Rooibos tea after 90 days of incubation. The *TBI* assumes that the decomposition of Green tea has stablilized while Rooibos tea is still decomposing. Stabilization factor `S` is computed from Green tea."
   ]
  },
  {
   "cell_type": "code",
   "execution_count": 29,
   "metadata": {},
   "outputs": [],
   "source": [
    "df <- df %>%\n",
    "  mutate(a = ifelse(`Tea type` == \"Green tea\",\n",
    "                    (`Initial tea weight (g)` - `Remaining tea weight (g)`) / `Initial tea weight (g)`,\n",
    "                    NA),\n",
    "         S = 1 - a / Hf_g)"
   ]
  },
  {
   "cell_type": "markdown",
   "metadata": {},
   "source": [
    "Compute litter stability `Sg` (Green tea) and decomposition constant `k_tbi` (Rooibos) for each experimental unit."
   ]
  },
  {
   "cell_type": "code",
   "execution_count": 30,
   "metadata": {},
   "outputs": [],
   "source": [
    "df <- df %>%\n",
    "  mutate(sdr = paste(df$Site, df$`Nitrogen dose`, df$Repetition))\n",
    "sdr_u <- unique(df$sdr)"
   ]
  },
  {
   "cell_type": "code",
   "execution_count": 31,
   "metadata": {},
   "outputs": [],
   "source": [
    "# Initialize k_tbi column\n",
    "df$k_tbi <- NA\n",
    "\n",
    "# For each rep, compute a and k_tbi\n",
    "for (i in 1:length(sdr_u)) {\n",
    "  # Green tea\n",
    "  Sg_i <- mean(df$S[df$sdr == sdr_u[i] & df$`Tea type` == \"Green tea\"], na.rm = TRUE)\n",
    "  \n",
    "  # Rooibos\n",
    "  df$a[df$sdr == sdr_u[i] & df$`Tea type` == \"Rooibos tea\"] <- Hf_r * (1 - Sg_i)\n",
    "  ar_i <- df$a[df$sdr == sdr_u[i] & df$`Tea type` == \"Rooibos tea\"]\n",
    "  M_M0i <- df$`M / M0`[df$sdr == sdr_u[i] & df$`Tea type` == \"Rooibos tea\"]\n",
    "  df$k_tbi[df$sdr == sdr_u[i] & df$`Tea type` == \"Rooibos tea\"] <- log(ar_i / (M_M0i - (1-ar_i))) / 90\n",
    "}"
   ]
  },
  {
   "cell_type": "markdown",
   "metadata": {},
   "source": [
    "Data exploration for N dose type."
   ]
  },
  {
   "cell_type": "code",
   "execution_count": 32,
   "metadata": {},
   "outputs": [
    {
     "name": "stderr",
     "output_type": "stream",
     "text": [
      "Warning message:\n",
      "\"Removed 388 rows containing missing values (geom_point).\""
     ]
    },
    {
     "data": {
      "image/png": "[encoded data removed]",
      "text/plain": [
       "plot without title"
      ]
     },
     "metadata": {},
     "output_type": "display_data"
    }
   ],
   "source": [
    "options(repr.plot.width=12, repr.plot.height=4)\n",
    "ggplot(data = df,\n",
    "       mapping = aes(x = `Nitrogen dose`, y = k_tbi)) +\n",
    "  geom_point(aes(colour = `Nitrogen type`)) +\n",
    "  geom_line(data = . %>%\n",
    "    group_by(`Nitrogen dose`, `Nitrogen type`) %>%\n",
    "    summarise(k_tbi = mean(k_tbi, na.rm = TRUE)),\n",
    "           aes(colour = `Nitrogen type`))"
   ]
  },
  {
   "cell_type": "markdown",
   "metadata": {},
   "source": [
    "### 9.3 What affecting TBI parameters (k)?\n",
    "\n",
    "Because `k_tbi` is computed from Rooibos tea, we create a new Rooibos data table named `df_rooibos`."
   ]
  },
  {
   "cell_type": "code",
   "execution_count": 33,
   "metadata": {},
   "outputs": [],
   "source": [
    "df_rooibos <- df %>% \n",
    "  filter(`Tea type` == \"Rooibos tea\")\n",
    "\n",
    "TBI_data <- df %>%\n",
    "  select(k_tbi, `Tea type`, Farm, `Nitrogen dose`, Site,\n",
    "         `Nitrogen type`) %>%\n",
    "  rename(Ntype = `Nitrogen type`,\n",
    "         Ndose = `Nitrogen dose`) %>%\n",
    "  drop_na() %>%\n",
    "  droplevels()\n",
    "\n",
    "TBI_rooibos <- TBI_data %>%\n",
    "  filter(`Tea type` == \"Rooibos tea\")"
   ]
  },
  {
   "cell_type": "markdown",
   "metadata": {},
   "source": [
    "### 9.3.1 `k_tbi` mixed model"
   ]
  },
  {
   "cell_type": "markdown",
   "metadata": {},
   "source": [
    "lme_TBI model investigates the effect of the type of the dose (`Ntype`), the magnitude of the dose (`Ndose`) on `k_tbi`, considering the random effect of sites (`Site`) nested in farms (`Farm`)."
   ]
  },
  {
   "cell_type": "code",
   "execution_count": 34,
   "metadata": {},
   "outputs": [],
   "source": [
    "lme_TBI <- lme(fixed = k_tbi ~  Ndose + Ntype,\n",
    "    random = ~ 1 | Farm/Site,\n",
    "    data = TBI_rooibos)"
   ]
  },
  {
   "cell_type": "code",
   "execution_count": 35,
   "metadata": {},
   "outputs": [
    {
     "data": {
      "text/html": [
       "<table>\n",
       "<thead><tr><th></th><th scope=col>Value</th><th scope=col>Std.Error</th><th scope=col>DF</th><th scope=col>t-value</th><th scope=col>p-value</th></tr></thead>\n",
       "<tbody>\n",
       "\t<tr><th scope=row>(Intercept)</th><td> 6.164356e-03</td><td>8.636613e-04 </td><td>120          </td><td> 7.1374693   </td><td>7.871002e-11 </td></tr>\n",
       "\t<tr><th scope=row>Ndose</th><td> 3.116282e-06</td><td>6.663922e-06 </td><td>120          </td><td> 0.4676347   </td><td>6.408939e-01 </td></tr>\n",
       "\t<tr><th scope=row>NtypeN-6-1-1</th><td> 2.000522e-03</td><td>5.863409e-04 </td><td>120          </td><td> 3.4118758   </td><td>8.799726e-04 </td></tr>\n",
       "\t<tr><th scope=row>NtypeN-8-0-0</th><td> 6.682900e-04</td><td>6.995885e-04 </td><td>120          </td><td> 0.9552616   </td><td>3.413659e-01 </td></tr>\n",
       "\t<tr><th scope=row>NtypeN-SCU</th><td>-4.075112e-04</td><td>6.884892e-04 </td><td>120          </td><td>-0.5918920   </td><td>5.550364e-01 </td></tr>\n",
       "</tbody>\n",
       "</table>\n"
      ],
      "text/latex": [
       "\\begin{tabular}{r|lllll}\n",
       "  & Value & Std.Error & DF & t-value & p-value\\\\\n",
       "\\hline\n",
       "\t(Intercept) &  6.164356e-03 & 8.636613e-04  & 120           &  7.1374693    & 7.871002e-11 \\\\\n",
       "\tNdose &  3.116282e-06 & 6.663922e-06  & 120           &  0.4676347    & 6.408939e-01 \\\\\n",
       "\tNtypeN-6-1-1 &  2.000522e-03 & 5.863409e-04  & 120           &  3.4118758    & 8.799726e-04 \\\\\n",
       "\tNtypeN-8-0-0 &  6.682900e-04 & 6.995885e-04  & 120           &  0.9552616    & 3.413659e-01 \\\\\n",
       "\tNtypeN-SCU & -4.075112e-04 & 6.884892e-04  & 120           & -0.5918920    & 5.550364e-01 \\\\\n",
       "\\end{tabular}\n"
      ],
      "text/markdown": [
       "\n",
       "| <!--/--> | Value | Std.Error | DF | t-value | p-value |\n",
       "|---|---|---|---|---|---|\n",
       "| (Intercept) |  6.164356e-03 | 8.636613e-04  | 120           |  7.1374693    | 7.871002e-11  |\n",
       "| Ndose |  3.116282e-06 | 6.663922e-06  | 120           |  0.4676347    | 6.408939e-01  |\n",
       "| NtypeN-6-1-1 |  2.000522e-03 | 5.863409e-04  | 120           |  3.4118758    | 8.799726e-04  |\n",
       "| NtypeN-8-0-0 |  6.682900e-04 | 6.995885e-04  | 120           |  0.9552616    | 3.413659e-01  |\n",
       "| NtypeN-SCU | -4.075112e-04 | 6.884892e-04  | 120           | -0.5918920    | 5.550364e-01  |\n",
       "\n"
      ],
      "text/plain": [
       "             Value         Std.Error    DF  t-value    p-value     \n",
       "(Intercept)   6.164356e-03 8.636613e-04 120  7.1374693 7.871002e-11\n",
       "Ndose         3.116282e-06 6.663922e-06 120  0.4676347 6.408939e-01\n",
       "NtypeN-6-1-1  2.000522e-03 5.863409e-04 120  3.4118758 8.799726e-04\n",
       "NtypeN-8-0-0  6.682900e-04 6.995885e-04 120  0.9552616 3.413659e-01\n",
       "NtypeN-SCU   -4.075112e-04 6.884892e-04 120 -0.5918920 5.550364e-01"
      ]
     },
     "metadata": {},
     "output_type": "display_data"
    }
   ],
   "source": [
    "summary(lme_TBI)$tTable # Get p-values"
   ]
  },
  {
   "cell_type": "markdown",
   "metadata": {},
   "source": [
    "### 9.3.2 Mixed model graphic"
   ]
  },
  {
   "cell_type": "markdown",
   "metadata": {},
   "source": [
    "> SÉP. Expliques ce que tu fais."
   ]
  },
  {
   "cell_type": "code",
   "execution_count": 36,
   "metadata": {},
   "outputs": [],
   "source": [
    "ktbi_gg <- data.frame(intervals(lme_TBI, which = \"fixed\")$fixed)\n",
    "ktbi_gg <- ktbi_gg %>%\n",
    "  mutate(variable = rownames(ktbi_gg))\n",
    "ktbi_gg <- ktbi_gg %>%\n",
    "  mutate(pvalue = summary(lme_TBI)$tTable[, 5],\n",
    "         is_significant = ifelse(pvalue <= 0.05, 'Significant at 0.05 level', 'Not significant at 0.05 level'))"
   ]
  },
  {
   "cell_type": "markdown",
   "metadata": {},
   "source": [
    "Ajust names."
   ]
  },
  {
   "cell_type": "code",
   "execution_count": 37,
   "metadata": {},
   "outputs": [],
   "source": [
    "ktbi_gg$variable <- c(\"Intercept\", \"Dose N\", \"N 6-1-1\", \"N 8-0-0\", \"N SCU-39-0-0\")"
   ]
  },
  {
   "cell_type": "markdown",
   "metadata": {},
   "source": [
    "Add random effects to the table."
   ]
  },
  {
   "cell_type": "code",
   "execution_count": 38,
   "metadata": {},
   "outputs": [],
   "source": [
    "ktbi_re <- data.frame(matrix(ncol = ncol(ktbi_gg), nrow = 6))\n",
    "names(ktbi_re) <- names(ktbi_gg)\n",
    "ktbi_re$est. <- c(ranef(lme_TBI)$Farm[, 1], ranef(lme_TBI)$Site[, 1])\n",
    "ktbi_re$variable <- c(rownames(ranef(lme_TBI)$Farm),\n",
    "                    rownames(ranef(lme_TBI)$Site))"
   ]
  },
  {
   "cell_type": "markdown",
   "metadata": {},
   "source": [
    "> SÉP. Expliques ce que tu fais."
   ]
  },
  {
   "cell_type": "code",
   "execution_count": 39,
   "metadata": {},
   "outputs": [],
   "source": [
    "if (!(\"Belanger\" %in% ktbi_gg$variable)) ktbi_gg <- bind_rows(ktbi_gg, ktbi_re) # with an if to make sure ranefs are stacked only once"
   ]
  },
  {
   "cell_type": "markdown",
   "metadata": {},
   "source": [
    "Create a facet column to separate effects by effect category in the plot."
   ]
  },
  {
   "cell_type": "code",
   "execution_count": 40,
   "metadata": {},
   "outputs": [],
   "source": [
    "ktbi_gg$facet <- factor(c('Intercept',\n",
    "                        \"N dosage\",\n",
    "                        'N source', 'N source', 'N source',\n",
    "                        \"Random effect\", \"Random effect\", \"Random effect\", \"Random effect\", \"Random effect\", \"Random effect\"))\n",
    "\n",
    "ktbi_gg <- ktbi_gg %>%\n",
    "  mutate(facet = factor(facet, levels = rev(c(\"Random effect\", \"N dosage\", \"N source\", \"Intercept\")))) # reorder facets for ploting"
   ]
  },
  {
   "cell_type": "markdown",
   "metadata": {},
   "source": [
    "Fire the plot!"
   ]
  },
  {
   "cell_type": "code",
   "execution_count": 41,
   "metadata": {},
   "outputs": [
    {
     "name": "stderr",
     "output_type": "stream",
     "text": [
      "Warning message:\n",
      "\"Removed 6 rows containing missing values (geom_segment).\"Warning message:\n",
      "\"Removed 6 rows containing missing values (geom_segment).\""
     ]
    },
    {
     "data": {
      "image/png": "[encoded data removed]",
      "text/plain": [
       "plot without title"
      ]
     },
     "metadata": {},
     "output_type": "display_data"
    }
   ],
   "source": [
    "options(repr.plot.width = 12, repr.plot.height = 6)\n",
    "\n",
    "ktbi_gg %>%\n",
    "  filter(variable != \"Intercept\") %>%\n",
    "  ggplot(aes(x = est., y = variable)) +\n",
    "  facet_grid(facet ~ ., scales = 'free', space = 'free') +\n",
    "  geom_vline(xintercept = 0, colour='grey70') +\n",
    "  geom_point() +\n",
    "  geom_segment(aes(x = lower, xend = upper, y = variable, yend = variable)) +\n",
    "  xlab('Coefficient') +\n",
    "  ylab('') +\n",
    "  theme_bw() +\n",
    "  theme(strip.text.y = element_text(angle=0),\n",
    "        legend.title = element_blank(),\n",
    "        legend.position = \"bottom\",\n",
    "        text = element_text(size = 20)) +\n",
    "  ggsave(\"figures/ktbi-lme-effects.png\", width = 8, height = 5, dpi = 600)"
   ]
  },
  {
   "cell_type": "markdown",
   "metadata": {},
   "source": [
    "## 10. Litters biochemical composition balance"
   ]
  },
  {
   "cell_type": "markdown",
   "metadata": {},
   "source": [
    "> SÉP. Expliques ce à quoi cette section est vouée."
   ]
  },
  {
   "cell_type": "markdown",
   "metadata": {},
   "source": [
    "### 10.1 Import data"
   ]
  },
  {
   "cell_type": "markdown",
   "metadata": {},
   "source": [
    "> SÉP. Quelques mots sur les données que tu importes. Quelles sont-elles?"
   ]
  },
  {
   "cell_type": "code",
   "execution_count": 42,
   "metadata": {},
   "outputs": [
    {
     "name": "stderr",
     "output_type": "stream",
     "text": [
      "Parsed with column specification:\n",
      "cols(\n",
      "  `Biomass type` = col_character(),\n",
      "  `SOL perc initial (%)` = col_double(),\n",
      "  `HOLO perc initial (%)` = col_double(),\n",
      "  `LIC perc initial (%)` = col_double()\n",
      ")\n"
     ]
    }
   ],
   "source": [
    "data_fiber <- read_csv('data/data_fiber_initial.csv')"
   ]
  },
  {
   "cell_type": "markdown",
   "metadata": {},
   "source": [
    "### 10.2 Isometic log ratio (Ilr)"
   ]
  },
  {
   "cell_type": "markdown",
   "metadata": {},
   "source": [
    "> SÉP. Expliques ce que tu fais!"
   ]
  },
  {
   "cell_type": "markdown",
   "metadata": {},
   "source": [
    "I isolate the parts of the compostion in table then, with `acomp`, make sure that all rows are summing to 1."
   ]
  },
  {
   "cell_type": "code",
   "execution_count": 43,
   "metadata": {},
   "outputs": [],
   "source": [
    "TeaCompositionComp <- acomp(\n",
    "    data_fiber %>%\n",
    "      select(`LIC perc initial (%)`, `SOL perc initial (%)`,  `HOLO perc initial (%)`)\n",
    ")"
   ]
  },
  {
   "cell_type": "markdown",
   "metadata": {},
   "source": [
    "I create a sewuential binary partition that serves as a basis for the balance system ."
   ]
  },
  {
   "cell_type": "code",
   "execution_count": 44,
   "metadata": {},
   "outputs": [],
   "source": [
    "TeaCompositionSBP <- matrix(c(-1, 1, 1,\n",
    "                               0, 1,-1),\n",
    "                            byrow = TRUE,\n",
    "                            ncol = 3)\n",
    "colnames(TeaCompositionSBP) <- c('Lignine', 'Soluble', 'Holocelulose')"
   ]
  },
  {
   "cell_type": "markdown",
   "metadata": {},
   "source": [
    "The 3 components are transformed to 2 balances based on the SBP."
   ]
  },
  {
   "cell_type": "code",
   "execution_count": 45,
   "metadata": {},
   "outputs": [],
   "source": [
    "TeaCompositionBal <- ilr(TeaCompositionComp, V = gsi.buildilrBase(t(TeaCompositionSBP)))"
   ]
  },
  {
   "cell_type": "markdown",
   "metadata": {},
   "source": [
    "These balances are added to the `data_fiber` table."
   ]
  },
  {
   "cell_type": "code",
   "execution_count": 46,
   "metadata": {},
   "outputs": [],
   "source": [
    "data_fiber$TeaComposition_L.HS <- TeaCompositionBal[, 1] # ilr1 [Lignin | Soluble.Holocelulose]\n",
    "data_fiber$TeaComposition_S.H <- TeaCompositionBal[, 2] # ilr2 [Soluble | Holocelulose]"
   ]
  },
  {
   "cell_type": "markdown",
   "metadata": {},
   "source": [
    "### Plot of classification of litters using balances among biochemical components"
   ]
  },
  {
   "cell_type": "markdown",
   "metadata": {},
   "source": [
    "> SÉP. Expliques ce que tu fais!"
   ]
  },
  {
   "cell_type": "code",
   "execution_count": 47,
   "metadata": {},
   "outputs": [
    {
     "name": "stderr",
     "output_type": "stream",
     "text": [
      "Scale for 'x' is already present. Adding another scale for 'x', which will\n",
      "replace the existing scale.\n"
     ]
    },
    {
     "data": {
      "image/png": "[encoded data removed]",
      "text/plain": [
       "plot without title"
      ]
     },
     "metadata": {},
     "output_type": "display_data"
    }
   ],
   "source": [
    "options(repr.plot.width = 6.5, repr.plot.height = 4)\n",
    "ggplot(data_fiber, aes(x =  `TeaComposition_S.H`, y = `TeaComposition_L.HS`)) +\n",
    "geom_point()+\n",
    "geom_label_repel(aes(label = `Biomass type`), size = 3) +\n",
    "labs(x = \"[Soluble | Holocelulose]\" , y = \"[Lignin + Cutin | Soluble.Holocelulose]\") +\n",
    "theme(axis.title.x = element_text(size = 14), axis.title.y = element_text(size = 14)) +\n",
    "xlim(-1.5, 1.5) +\n",
    "scale_y_continuous(breaks=seq(-2,2,0.2)) + \n",
    "scale_x_continuous(breaks=seq(-2,2,0.2)) +\n",
    "geom_hline(yintercept = 0, linetype = \"dashed\") +\n",
    "geom_vline(xintercept = 0, linetype = \"dashed\") +\n",
    "theme_bw() +\n",
    "geom_point(size = 1, alpha = 0.5, pch = 21, fill = \"white\") \n",
    "ggsave(\"figures/Classification of litters using balances among biochemical components.png\", width = 6.2, height = 4, dpi = 120)"
   ]
  },
  {
   "cell_type": "markdown",
   "metadata": {},
   "source": [
    "## 11. **Question 3**: Where cranberry soils are placed among the axes of the *TBI*?"
   ]
  },
  {
   "cell_type": "markdown",
   "metadata": {},
   "source": [
    "> SÉP. Expliques ce que tu fais!"
   ]
  },
  {
   "cell_type": "markdown",
   "metadata": {},
   "source": [
    "### 11.1 Import data\n",
    "\n",
    "We adapted keuskamp's TBI by adding cranberry ecosystem"
   ]
  },
  {
   "cell_type": "code",
   "execution_count": 48,
   "metadata": {},
   "outputs": [
    {
     "name": "stderr",
     "output_type": "stream",
     "text": [
      "Parsed with column specification:\n",
      "cols(\n",
      "  Nombre = col_double(),\n",
      "  Region = col_character(),\n",
      "  Stabilisation_factor_S = col_double(),\n",
      "  Decomposition_rate_K = col_double()\n",
      ")\n"
     ]
    }
   ],
   "source": [
    "df_keuskamp <- read_csv(\"data/keuskamp_tbi_data.csv\")# Import Keuskamp data"
   ]
  },
  {
   "cell_type": "code",
   "execution_count": 49,
   "metadata": {},
   "outputs": [],
   "source": [
    "df_keuskamp <- df_keuskamp %>%\n",
    "  mutate(is_cranberry = Region == \"Cranberries\")"
   ]
  },
  {
   "cell_type": "markdown",
   "metadata": {},
   "source": [
    "### 11.2 Figure TBI_ Keuskamp"
   ]
  },
  {
   "cell_type": "markdown",
   "metadata": {},
   "source": [
    "> SÉP. Expliques ce que tu fais!"
   ]
  },
  {
   "cell_type": "code",
   "execution_count": 50,
   "metadata": {},
   "outputs": [
    {
     "data": {
      "image/png": "[encoded data removed]",
      "text/plain": [
       "plot without title"
      ]
     },
     "metadata": {},
     "output_type": "display_data"
    }
   ],
   "source": [
    "options(repr.plot.width = 6.5, repr.plot.height = 6)\n",
    "ggplot(data = df_keuskamp, aes(x = Stabilisation_factor_S, y = Decomposition_rate_K)) +\n",
    "  geom_point() +\n",
    "  geom_label_repel(aes(label = Region, fill = is_cranberry, colour = is_cranberry),\n",
    "                   size = 3.5) +\n",
    "  scale_fill_manual(values = c(\"white\", \"black\")) +\n",
    "  scale_colour_manual(values = c(\"black\", \"white\")) +\n",
    "  theme_bw() +\n",
    "  theme(legend.position = \"none\") +\n",
    "  labs(x = \"Stabilization factor (S)\", y = \"Decomposition rate (k1)\") +\n",
    "  ggsave(\"figures/TBI_keuskamp.png\", width = 6, height = 6, dpi = 120)"
   ]
  },
  {
   "cell_type": "markdown",
   "metadata": {},
   "source": [
    "### 12. **Question 4**:What is the fractal kinetics of litter matterials ?\n",
    "\n",
    "Depending on the nature of decaying material and its immediate environment, the decomposition rate of plant residues can decrease gradually through time as follow: \n",
    "\n",
    "$$k_t = k_1 t^{{-h}}$$\n",
    "\n",
    "$$log \\left( k_t \\right) = log \\left( k_1 t^{-h} \\right)$$\n",
    "\n",
    "$$log \\left( k_t \\right) = log \\left( k_1 \\right) + log \\left(t^{-h} \\right)$$\n",
    "\n",
    "$$log \\left( k_t \\right) = log \\left( k_1 \\right) - h \\times log \\left(t\\right)$$\n",
    "\n",
    "Where $k_t$ is first order kinetics, $k_1$ is reaction rate at time t = 1 and $h$ is a fractal coefficient (0 ≤ h ≤ 1) accounting for the decreasing decomposition rate through time"
   ]
  },
  {
   "cell_type": "markdown",
   "metadata": {},
   "source": [
    "#### 12.1 Fractal coefficient computation"
   ]
  },
  {
   "cell_type": "markdown",
   "metadata": {},
   "source": [
    "##### 12.1.1 Import data"
   ]
  },
  {
   "cell_type": "markdown",
   "metadata": {},
   "source": [
    "> SÉP. Expliques ce que tu fais!"
   ]
  },
  {
   "cell_type": "code",
   "execution_count": 51,
   "metadata": {},
   "outputs": [
    {
     "name": "stderr",
     "output_type": "stream",
     "text": [
      "Using ',' as decimal and '.' as grouping mark. Use read_delim() for more control.\n",
      "Parsed with column specification:\n",
      "cols(\n",
      "  `Tea type` = col_character(),\n",
      "  Prelevement = col_double(),\n",
      "  `Final carbon (%)` = col_double(),\n",
      "  `Final weight (g)` = col_double(),\n",
      "  `Initial weight (g)` = col_double(),\n",
      "  `Initial carbon (%)` = col_double()\n",
      ")\n"
     ]
    }
   ],
   "source": [
    "data_fractal <- read_csv2(\"data/data_fractal.csv\")"
   ]
  },
  {
   "cell_type": "markdown",
   "metadata": {},
   "source": [
    "##### 12.1.1 Adding some variables\n",
    "`First order kinetic names (k)`, `log(k)` and `Log(t)` has been computed. `Filter(k>0)` has been added to be able to compute the logarithme `log(k)`. Then we select the variables needed in order compute the fractal coefficient `h`"
   ]
  },
  {
   "cell_type": "markdown",
   "metadata": {},
   "source": [
    "> SÉP. Expliques ce que tu fais!"
   ]
  },
  {
   "cell_type": "code",
   "execution_count": 52,
   "metadata": {},
   "outputs": [],
   "source": [
    "data_lm_fractal <- data_fractal %>%\n",
    "  mutate(\n",
    "    # time and k\n",
    "    time = Prelevement * 21,\n",
    "    k = -log(`Final weight (g)` / `Initial weight (g)`)/ time,\n",
    "  ) %>%\n",
    "  filter(k > 0) %>%\n",
    "  mutate(\n",
    "    # log.time and log.k\n",
    "    log.time = log10(time),\n",
    "    log.k = log10(k)\n",
    "  ) %>%\n",
    "  select(`Tea type`, `k`,`log.time`, `log.k`, `time`)\n",
    "\n",
    "#data_lm_fractal# %>%\n",
    " # sample_n(6)"
   ]
  },
  {
   "cell_type": "markdown",
   "metadata": {},
   "source": [
    "Then, we create data to store the results `intercept`, `slope` and r square `r_sq`"
   ]
  },
  {
   "cell_type": "code",
   "execution_count": 53,
   "metadata": {},
   "outputs": [],
   "source": [
    "fractal_kinetics <- tibble(\n",
    "    tea_types = c(\"Rooibos tea\", \"Cranberry litter\", \"Green tea\"),\n",
    "    intercept = NA,\n",
    "    slope = NA,\n",
    "    r_sq = NA\n",
    ")"
   ]
  },
  {
   "cell_type": "markdown",
   "metadata": {},
   "source": [
    "```\n",
    "lm(log.k ~ log.time)\n",
    "log.k1 = 10^intercept\n",
    "h = -slope\n",
    "```\n"
   ]
  },
  {
   "cell_type": "markdown",
   "metadata": {},
   "source": [
    "data_lm_fractal %>%\n",
    "  ggplot(aes(x = log.time, y = log.k)) +\n",
    "  geom_point() +\n",
    "  geom_smooth(method = \"lm\") +\n",
    "  facet_wrap(~ `Tea type`)"
   ]
  },
  {
   "cell_type": "markdown",
   "metadata": {},
   "source": [
    "Computation of median value of `log.time` and `log.k` by `time` and `tea type` to determine `h`"
   ]
  },
  {
   "cell_type": "code",
   "execution_count": 83,
   "metadata": {},
   "outputs": [
    {
     "data": {
      "text/html": [
       "<table>\n",
       "<thead><tr><th scope=col>time</th><th scope=col>Tea type</th><th scope=col>log.time</th><th scope=col>log.k</th></tr></thead>\n",
       "<tbody>\n",
       "\t<tr><td> 21             </td><td>Cranberry litter</td><td>1.322219        </td><td>-3.106817       </td></tr>\n",
       "\t<tr><td> 42             </td><td>Cranberry litter</td><td>1.623249        </td><td>-2.798478       </td></tr>\n",
       "\t<tr><td> 63             </td><td>Cranberry litter</td><td>1.799341        </td><td>-3.717693       </td></tr>\n",
       "\t<tr><td> 84             </td><td>Cranberry litter</td><td>1.924279        </td><td>-3.421914       </td></tr>\n",
       "\t<tr><td>105             </td><td>Cranberry litter</td><td>2.021189        </td><td>-3.105826       </td></tr>\n",
       "\t<tr><td>126             </td><td>Cranberry litter</td><td>2.100371        </td><td>-3.023167       </td></tr>\n",
       "\t<tr><td>147             </td><td>Cranberry litter</td><td>2.167317        </td><td>-3.013066       </td></tr>\n",
       "\t<tr><td> 21             </td><td>Green tea       </td><td>1.322219        </td><td>-1.631823       </td></tr>\n",
       "\t<tr><td> 42             </td><td>Green tea       </td><td>1.623249        </td><td>-1.849878       </td></tr>\n",
       "\t<tr><td> 63             </td><td>Green tea       </td><td>1.799341        </td><td>-1.940302       </td></tr>\n",
       "\t<tr><td> 84             </td><td>Green tea       </td><td>1.924279        </td><td>-2.044345       </td></tr>\n",
       "\t<tr><td>105             </td><td>Green tea       </td><td>2.021189        </td><td>-2.094382       </td></tr>\n",
       "\t<tr><td>126             </td><td>Green tea       </td><td>2.100371        </td><td>-2.177941       </td></tr>\n",
       "\t<tr><td>147             </td><td>Green tea       </td><td>2.167317        </td><td>-2.237316       </td></tr>\n",
       "\t<tr><td> 21             </td><td>Rooibos tea     </td><td>1.322219        </td><td>-2.239687       </td></tr>\n",
       "\t<tr><td> 42             </td><td>Rooibos tea     </td><td>1.623249        </td><td>-2.354318       </td></tr>\n",
       "\t<tr><td> 63             </td><td>Rooibos tea     </td><td>1.799341        </td><td>-2.387086       </td></tr>\n",
       "\t<tr><td> 84             </td><td>Rooibos tea     </td><td>1.924279        </td><td>-2.460274       </td></tr>\n",
       "\t<tr><td>105             </td><td>Rooibos tea     </td><td>2.021189        </td><td>-2.493564       </td></tr>\n",
       "\t<tr><td>126             </td><td>Rooibos tea     </td><td>2.100371        </td><td>-2.474091       </td></tr>\n",
       "\t<tr><td>147             </td><td>Rooibos tea     </td><td>2.167317        </td><td>-2.587478       </td></tr>\n",
       "</tbody>\n",
       "</table>\n"
      ],
      "text/latex": [
       "\\begin{tabular}{r|llll}\n",
       " time & Tea type & log.time & log.k\\\\\n",
       "\\hline\n",
       "\t  21              & Cranberry litter & 1.322219         & -3.106817       \\\\\n",
       "\t  42              & Cranberry litter & 1.623249         & -2.798478       \\\\\n",
       "\t  63              & Cranberry litter & 1.799341         & -3.717693       \\\\\n",
       "\t  84              & Cranberry litter & 1.924279         & -3.421914       \\\\\n",
       "\t 105              & Cranberry litter & 2.021189         & -3.105826       \\\\\n",
       "\t 126              & Cranberry litter & 2.100371         & -3.023167       \\\\\n",
       "\t 147              & Cranberry litter & 2.167317         & -3.013066       \\\\\n",
       "\t  21              & Green tea        & 1.322219         & -1.631823       \\\\\n",
       "\t  42              & Green tea        & 1.623249         & -1.849878       \\\\\n",
       "\t  63              & Green tea        & 1.799341         & -1.940302       \\\\\n",
       "\t  84              & Green tea        & 1.924279         & -2.044345       \\\\\n",
       "\t 105              & Green tea        & 2.021189         & -2.094382       \\\\\n",
       "\t 126              & Green tea        & 2.100371         & -2.177941       \\\\\n",
       "\t 147              & Green tea        & 2.167317         & -2.237316       \\\\\n",
       "\t  21              & Rooibos tea      & 1.322219         & -2.239687       \\\\\n",
       "\t  42              & Rooibos tea      & 1.623249         & -2.354318       \\\\\n",
       "\t  63              & Rooibos tea      & 1.799341         & -2.387086       \\\\\n",
       "\t  84              & Rooibos tea      & 1.924279         & -2.460274       \\\\\n",
       "\t 105              & Rooibos tea      & 2.021189         & -2.493564       \\\\\n",
       "\t 126              & Rooibos tea      & 2.100371         & -2.474091       \\\\\n",
       "\t 147              & Rooibos tea      & 2.167317         & -2.587478       \\\\\n",
       "\\end{tabular}\n"
      ],
      "text/markdown": [
       "\n",
       "| time | Tea type | log.time | log.k |\n",
       "|---|---|---|---|\n",
       "|  21              | Cranberry litter | 1.322219         | -3.106817        |\n",
       "|  42              | Cranberry litter | 1.623249         | -2.798478        |\n",
       "|  63              | Cranberry litter | 1.799341         | -3.717693        |\n",
       "|  84              | Cranberry litter | 1.924279         | -3.421914        |\n",
       "| 105              | Cranberry litter | 2.021189         | -3.105826        |\n",
       "| 126              | Cranberry litter | 2.100371         | -3.023167        |\n",
       "| 147              | Cranberry litter | 2.167317         | -3.013066        |\n",
       "|  21              | Green tea        | 1.322219         | -1.631823        |\n",
       "|  42              | Green tea        | 1.623249         | -1.849878        |\n",
       "|  63              | Green tea        | 1.799341         | -1.940302        |\n",
       "|  84              | Green tea        | 1.924279         | -2.044345        |\n",
       "| 105              | Green tea        | 2.021189         | -2.094382        |\n",
       "| 126              | Green tea        | 2.100371         | -2.177941        |\n",
       "| 147              | Green tea        | 2.167317         | -2.237316        |\n",
       "|  21              | Rooibos tea      | 1.322219         | -2.239687        |\n",
       "|  42              | Rooibos tea      | 1.623249         | -2.354318        |\n",
       "|  63              | Rooibos tea      | 1.799341         | -2.387086        |\n",
       "|  84              | Rooibos tea      | 1.924279         | -2.460274        |\n",
       "| 105              | Rooibos tea      | 2.021189         | -2.493564        |\n",
       "| 126              | Rooibos tea      | 2.100371         | -2.474091        |\n",
       "| 147              | Rooibos tea      | 2.167317         | -2.587478        |\n",
       "\n"
      ],
      "text/plain": [
       "   time Tea type         log.time log.k    \n",
       "1   21  Cranberry litter 1.322219 -3.106817\n",
       "2   42  Cranberry litter 1.623249 -2.798478\n",
       "3   63  Cranberry litter 1.799341 -3.717693\n",
       "4   84  Cranberry litter 1.924279 -3.421914\n",
       "5  105  Cranberry litter 2.021189 -3.105826\n",
       "6  126  Cranberry litter 2.100371 -3.023167\n",
       "7  147  Cranberry litter 2.167317 -3.013066\n",
       "8   21  Green tea        1.322219 -1.631823\n",
       "9   42  Green tea        1.623249 -1.849878\n",
       "10  63  Green tea        1.799341 -1.940302\n",
       "11  84  Green tea        1.924279 -2.044345\n",
       "12 105  Green tea        2.021189 -2.094382\n",
       "13 126  Green tea        2.100371 -2.177941\n",
       "14 147  Green tea        2.167317 -2.237316\n",
       "15  21  Rooibos tea      1.322219 -2.239687\n",
       "16  42  Rooibos tea      1.623249 -2.354318\n",
       "17  63  Rooibos tea      1.799341 -2.387086\n",
       "18  84  Rooibos tea      1.924279 -2.460274\n",
       "19 105  Rooibos tea      2.021189 -2.493564\n",
       "20 126  Rooibos tea      2.100371 -2.474091\n",
       "21 147  Rooibos tea      2.167317 -2.587478"
      ]
     },
     "metadata": {},
     "output_type": "display_data"
    }
   ],
   "source": [
    "data_median_lm_fractal <- aggregate(cbind(log.time, log.k) ~ time + `Tea type`, data = data_lm_fractal, FUN = median)\n",
    "data_median_lm_fractal"
   ]
  },
  {
   "cell_type": "markdown",
   "metadata": {},
   "source": [
    "Applying `lm` in a loop `for` in order to compute `h`, r square `r_sq` and `k1` by `tea type`"
   ]
  },
  {
   "cell_type": "code",
   "execution_count": 55,
   "metadata": {},
   "outputs": [
    {
     "data": {
      "text/html": [
       "<table>\n",
       "<thead><tr><th scope=col>tea_types</th><th scope=col>intercept</th><th scope=col>slope</th><th scope=col>r_sq</th></tr></thead>\n",
       "<tbody>\n",
       "\t<tr><td>Rooibos tea     </td><td>-1.7516426      </td><td>-0.3654122      </td><td>0.9390858023    </td></tr>\n",
       "\t<tr><td>Cranberry litter</td><td>-3.1311544      </td><td>-0.0207501      </td><td>0.0004111749    </td></tr>\n",
       "\t<tr><td>Green tea       </td><td>-0.7035358      </td><td>-0.6985075      </td><td>0.9943128412    </td></tr>\n",
       "</tbody>\n",
       "</table>\n"
      ],
      "text/latex": [
       "\\begin{tabular}{r|llll}\n",
       " tea\\_types & intercept & slope & r\\_sq\\\\\n",
       "\\hline\n",
       "\t Rooibos tea      & -1.7516426       & -0.3654122       & 0.9390858023    \\\\\n",
       "\t Cranberry litter & -3.1311544       & -0.0207501       & 0.0004111749    \\\\\n",
       "\t Green tea        & -0.7035358       & -0.6985075       & 0.9943128412    \\\\\n",
       "\\end{tabular}\n"
      ],
      "text/markdown": [
       "\n",
       "| tea_types | intercept | slope | r_sq |\n",
       "|---|---|---|---|\n",
       "| Rooibos tea      | -1.7516426       | -0.3654122       | 0.9390858023     |\n",
       "| Cranberry litter | -3.1311544       | -0.0207501       | 0.0004111749     |\n",
       "| Green tea        | -0.7035358       | -0.6985075       | 0.9943128412     |\n",
       "\n"
      ],
      "text/plain": [
       "  tea_types        intercept  slope      r_sq        \n",
       "1 Rooibos tea      -1.7516426 -0.3654122 0.9390858023\n",
       "2 Cranberry litter -3.1311544 -0.0207501 0.0004111749\n",
       "3 Green tea        -0.7035358 -0.6985075 0.9943128412"
      ]
     },
     "metadata": {},
     "output_type": "display_data"
    }
   ],
   "source": [
    "for (i in 1:nrow(fractal_kinetics)) {\n",
    "    \n",
    "    lm_fractal <- data_median_lm_fractal %>%\n",
    "      filter(`Tea type` == fractal_kinetics$tea_types[i]) %>%\n",
    "      lm(log.k ~ log.time, data = .)\n",
    "\n",
    "    fractal_kinetics$intercept[i] <- coef(lm_fractal)[1]\n",
    "    fractal_kinetics$slope[i] <- coef(lm_fractal)[2]\n",
    "    fractal_kinetics$r_sq[i] <- summary(lm_fractal)$r.squared\n",
    "\n",
    "    \n",
    "}\n",
    "\n",
    "fractal_kinetics"
   ]
  },
  {
   "cell_type": "code",
   "execution_count": 56,
   "metadata": {},
   "outputs": [
    {
     "data": {
      "text/html": [
       "<table>\n",
       "<thead><tr><th scope=col>tea_types</th><th scope=col>intercept</th><th scope=col>slope</th><th scope=col>r_sq</th><th scope=col>h</th><th scope=col>k1</th></tr></thead>\n",
       "<tbody>\n",
       "\t<tr><td>Rooibos tea     </td><td>-1.7516426      </td><td>-0.3654122      </td><td>0.9390858023    </td><td>0.3654122       </td><td>0.0177156624    </td></tr>\n",
       "\t<tr><td>Cranberry litter</td><td>-3.1311544      </td><td>-0.0207501      </td><td>0.0004111749    </td><td>0.0207501       </td><td>0.0007393424    </td></tr>\n",
       "\t<tr><td>Green tea       </td><td>-0.7035358      </td><td>-0.6985075      </td><td>0.9943128412    </td><td>0.6985075       </td><td>0.1979084002    </td></tr>\n",
       "</tbody>\n",
       "</table>\n"
      ],
      "text/latex": [
       "\\begin{tabular}{r|llllll}\n",
       " tea\\_types & intercept & slope & r\\_sq & h & k1\\\\\n",
       "\\hline\n",
       "\t Rooibos tea      & -1.7516426       & -0.3654122       & 0.9390858023     & 0.3654122        & 0.0177156624    \\\\\n",
       "\t Cranberry litter & -3.1311544       & -0.0207501       & 0.0004111749     & 0.0207501        & 0.0007393424    \\\\\n",
       "\t Green tea        & -0.7035358       & -0.6985075       & 0.9943128412     & 0.6985075        & 0.1979084002    \\\\\n",
       "\\end{tabular}\n"
      ],
      "text/markdown": [
       "\n",
       "| tea_types | intercept | slope | r_sq | h | k1 |\n",
       "|---|---|---|---|---|---|\n",
       "| Rooibos tea      | -1.7516426       | -0.3654122       | 0.9390858023     | 0.3654122        | 0.0177156624     |\n",
       "| Cranberry litter | -3.1311544       | -0.0207501       | 0.0004111749     | 0.0207501        | 0.0007393424     |\n",
       "| Green tea        | -0.7035358       | -0.6985075       | 0.9943128412     | 0.6985075        | 0.1979084002     |\n",
       "\n"
      ],
      "text/plain": [
       "  tea_types        intercept  slope      r_sq         h         k1          \n",
       "1 Rooibos tea      -1.7516426 -0.3654122 0.9390858023 0.3654122 0.0177156624\n",
       "2 Cranberry litter -3.1311544 -0.0207501 0.0004111749 0.0207501 0.0007393424\n",
       "3 Green tea        -0.7035358 -0.6985075 0.9943128412 0.6985075 0.1979084002"
      ]
     },
     "metadata": {},
     "output_type": "display_data"
    }
   ],
   "source": [
    "fractal_kinetics <-  fractal_kinetics %>%\n",
    "  mutate(h = -slope,\n",
    "         k1 = 10^intercept)\n",
    "fractal_kinetics"
   ]
  },
  {
   "cell_type": "markdown",
   "metadata": {},
   "source": [
    "Mean and standard deviation of first order kinetics"
   ]
  },
  {
   "cell_type": "code",
   "execution_count": 57,
   "metadata": {},
   "outputs": [
    {
     "data": {
      "text/html": [
       "<table>\n",
       "<thead><tr><th scope=col>Tea type</th><th scope=col>time</th><th scope=col>k</th></tr></thead>\n",
       "<tbody>\n",
       "\t<tr><td>Cranberry litter</td><td>104.15823       </td><td>0.0008353905    </td></tr>\n",
       "\t<tr><td>Green tea       </td><td> 81.77885       </td><td>0.0114839423    </td></tr>\n",
       "\t<tr><td>Rooibos tea     </td><td> 81.87459       </td><td>0.0039776542    </td></tr>\n",
       "</tbody>\n",
       "</table>\n"
      ],
      "text/latex": [
       "\\begin{tabular}{r|lll}\n",
       " Tea type & time & k\\\\\n",
       "\\hline\n",
       "\t Cranberry litter & 104.15823        & 0.0008353905    \\\\\n",
       "\t Green tea        &  81.77885        & 0.0114839423    \\\\\n",
       "\t Rooibos tea      &  81.87459        & 0.0039776542    \\\\\n",
       "\\end{tabular}\n"
      ],
      "text/markdown": [
       "\n",
       "| Tea type | time | k |\n",
       "|---|---|---|\n",
       "| Cranberry litter | 104.15823        | 0.0008353905     |\n",
       "| Green tea        |  81.77885        | 0.0114839423     |\n",
       "| Rooibos tea      |  81.87459        | 0.0039776542     |\n",
       "\n"
      ],
      "text/plain": [
       "  Tea type         time      k           \n",
       "1 Cranberry litter 104.15823 0.0008353905\n",
       "2 Green tea         81.77885 0.0114839423\n",
       "3 Rooibos tea       81.87459 0.0039776542"
      ]
     },
     "metadata": {},
     "output_type": "display_data"
    },
    {
     "data": {
      "text/html": [
       "<table>\n",
       "<thead><tr><th scope=col>Tea type</th><th scope=col>time</th><th scope=col>k</th></tr></thead>\n",
       "<tbody>\n",
       "\t<tr><td>Cranberry litter</td><td>32.31796        </td><td>0.0009684872    </td></tr>\n",
       "\t<tr><td>Green tea       </td><td>42.23812        </td><td>0.0055935476    </td></tr>\n",
       "\t<tr><td>Rooibos tea     </td><td>42.69211        </td><td>0.0014494302    </td></tr>\n",
       "</tbody>\n",
       "</table>\n"
      ],
      "text/latex": [
       "\\begin{tabular}{r|lll}\n",
       " Tea type & time & k\\\\\n",
       "\\hline\n",
       "\t Cranberry litter & 32.31796         & 0.0009684872    \\\\\n",
       "\t Green tea        & 42.23812         & 0.0055935476    \\\\\n",
       "\t Rooibos tea      & 42.69211         & 0.0014494302    \\\\\n",
       "\\end{tabular}\n"
      ],
      "text/markdown": [
       "\n",
       "| Tea type | time | k |\n",
       "|---|---|---|\n",
       "| Cranberry litter | 32.31796         | 0.0009684872     |\n",
       "| Green tea        | 42.23812         | 0.0055935476     |\n",
       "| Rooibos tea      | 42.69211         | 0.0014494302     |\n",
       "\n"
      ],
      "text/plain": [
       "  Tea type         time     k           \n",
       "1 Cranberry litter 32.31796 0.0009684872\n",
       "2 Green tea        42.23812 0.0055935476\n",
       "3 Rooibos tea      42.69211 0.0014494302"
      ]
     },
     "metadata": {},
     "output_type": "display_data"
    }
   ],
   "source": [
    "data_fractal_mean <- aggregate(cbind(time, `k`) ~ `Tea type`, data = data_lm_fractal, FUN = mean)\n",
    "data_fractal_mean\n",
    "data_fractal_sd <- aggregate(cbind(time, `k`) ~ `Tea type`, data = data_lm_fractal, FUN = sd)\n",
    "data_fractal_sd"
   ]
  },
  {
   "cell_type": "markdown",
   "metadata": {},
   "source": [
    "## 12.3.4 Estimation of the carbon decreasing rate of teas and cranberry residue"
   ]
  },
  {
   "cell_type": "markdown",
   "metadata": {},
   "source": [
    "Reaction rate $k_1$ at time t = 1 and fractal coefficient $h$"
   ]
  },
  {
   "cell_type": "code",
   "execution_count": 58,
   "metadata": {},
   "outputs": [],
   "source": [
    "k1_rooibos <- fractal_kinetics %>%\n",
    "  filter(tea_types == \"Rooibos tea\") %>%\n",
    "  pull(k1)\n",
    "\n",
    "k1_green <- fractal_kinetics %>%\n",
    "  filter(tea_types == \"Green tea\") %>%\n",
    "  pull(k1)\n",
    "\n",
    "k1_cranberry <- fractal_kinetics %>%\n",
    "  filter(tea_types == \"Cranberry litter\") %>%\n",
    "  pull(k1)\n",
    "\n",
    "h_rooibos <- fractal_kinetics %>%\n",
    "  filter(tea_types == \"Rooibos tea\") %>%\n",
    "  pull(h)\n",
    "\n",
    "h_green <- fractal_kinetics %>%\n",
    "  filter(tea_types == \"Green tea\") %>%\n",
    "  pull(h)\n",
    "\n",
    "h_cranberry <- fractal_kinetics %>%\n",
    "  filter(tea_types == \"Cranberry litter\") %>%\n",
    "  pull(h)"
   ]
  },
  {
   "cell_type": "markdown",
   "metadata": {},
   "source": [
    "Computing  $k_t$ for each tea type and renaming somes variables to be able to group plot\n",
    "\n",
    "$$k_t = k_1 t^{{-h}}$$"
   ]
  },
  {
   "cell_type": "code",
   "execution_count": 59,
   "metadata": {},
   "outputs": [],
   "source": [
    "data_rate <- data.frame(Prelevement = 1:7) %>%\n",
    "                            mutate(`Time (days)` = Prelevement * 21,\n",
    "                                  `Rate cranberry` = k1_cranberry *  `Time (days)`**-h_cranberry,\n",
    "                                  `Rate rooibos` = k1_rooibos * `Time (days)`**-h_rooibos,\n",
    "                                  `Rate green` = k1_green * `Time (days)`**-h_green) %>%\n",
    "                            rename(`Cranberry litter` = `Rate cranberry`,\n",
    "                                  `Rooibos tea` = `Rate rooibos`,\n",
    "                                   `Green tea` = `Rate green`)"
   ]
  },
  {
   "cell_type": "markdown",
   "metadata": {},
   "source": [
    "Tranforming data_rate into long format data in order to generate the plot"
   ]
  },
  {
   "cell_type": "code",
   "execution_count": 60,
   "metadata": {},
   "outputs": [],
   "source": [
    "data_long <- gather(data = data_rate, key = `tea type`, value = Rate, c(`Cranberry litter`, `Rooibos tea`, `Green tea`),\n",
    "                    factor_key=TRUE)\n",
    "data_long <- data_long %>%\n",
    "             rename(`Litter type`= `tea type`)"
   ]
  },
  {
   "cell_type": "markdown",
   "metadata": {},
   "source": [
    "Plot of litter decomposition rate over time under field conditions"
   ]
  },
  {
   "cell_type": "code",
   "execution_count": 61,
   "metadata": {},
   "outputs": [
    {
     "data": {
      "image/png": "[encoded data removed]",
      "text/plain": [
       "plot without title"
      ]
     },
     "metadata": {},
     "output_type": "display_data"
    }
   ],
   "source": [
    "options(repr.plot.width = 10, repr.plot.height = 6)\n",
    "ggplot(data_long, aes(x = `Time (days)`, y = `Rate`, group = `Litter type`, color = `Litter type`)) +\n",
    "geom_line() +\n",
    "geom_point(aes(shape = `Litter type`), size = 2)+\n",
    "#geom_smooth(method = \"lm\", formula = y ~ poly(x, 6) , color = 'grey', se = FALSE) + \n",
    "labs(x = \"Elapsed time (days)\" , y = expression(\"Decomposition rate (d\"^\" -1\"~\")\"))  +\n",
    "theme(axis.title.x = element_text(size = 14), \n",
    "  axis.title.y = element_text(size = 14),\n",
    "     legend.text=element_text(size=14)) +\n",
    "scale_y_continuous(breaks = 0.002*0:1000,\n",
    "                     expand = expand_scale(add = 0.002)) +\n",
    "scale_x_continuous(breaks = 10*0:1000,\n",
    "                     expand = expand_scale(add = 10)) +\n",
    "theme_bw() +\n",
    "ggsave(\"figures/K(t).png\", width = 6, height = 4, dpi = 120)"
   ]
  },
  {
   "cell_type": "markdown",
   "metadata": {},
   "source": [
    "## 13. **Question 4**: What is the fractal kinetics of litter biochemical composition ?"
   ]
  },
  {
   "cell_type": "markdown",
   "metadata": {},
   "source": [
    "### 13.1 Biochemical composition data analysis \n",
    "Here, we load `data.csv`, `data_fiber_initial.csv` and `data_fiber.csv`available for the project in the `data` folder. The `data_2018.csv` contained incubation tea bag details and soil carateristics from the second essay in 2018; `data_fiber_initial.csv` contained only initial tea bag caracteristics and `data_fiber.csv` contained mostly tea bag biochemical details as soluble, holocellulose and lignin content. \n",
    "We wanted to use only data about `green tea`, `rooibos tea` and `cranberry residu`. In order to do that, we used `subset` function to get `data_subset`"
   ]
  },
  {
   "cell_type": "code",
   "execution_count": 62,
   "metadata": {},
   "outputs": [
    {
     "name": "stderr",
     "output_type": "stream",
     "text": [
      "Parsed with column specification:\n",
      "cols(\n",
      "  `Iden fiber` = col_character(),\n",
      "  `SOL perc ILR (%)` = col_double(),\n",
      "  `HOLO perc ILR (%)` = col_double(),\n",
      "  `LIC perc ILR (%)` = col_double()\n",
      ")\n",
      "Parsed with column specification:\n",
      "cols(\n",
      "  `Biomass type` = col_character(),\n",
      "  `SOL perc initial (%)` = col_double(),\n",
      "  `HOLO perc initial (%)` = col_double(),\n",
      "  `LIC perc initial (%)` = col_double()\n",
      ")\n"
     ]
    }
   ],
   "source": [
    "data <- read_csv('data/data_2018.csv', col_types = \"??????????????f????????????????????\")\n",
    "data_fiber <- read_csv('data/data_fiber.csv')\n",
    "data_fiber_initial <- read_csv('data/data_fiber_initial.csv')\n",
    "\n",
    "data_subset <- subset(data,  (`Sampling period (3 weeks)`> 0 & (`Biomass type`== \"Cranberry residu\" | \n",
    "`Biomass type` == \"Green tea\"| `Biomass type` == \"Rooibos tea\")))"
   ]
  },
  {
   "cell_type": "markdown",
   "metadata": {},
   "source": [
    "Join all 3 data with with `left_join` function. The obtained data is called `data_join_02`"
   ]
  },
  {
   "cell_type": "code",
   "execution_count": 63,
   "metadata": {},
   "outputs": [],
   "source": [
    "data_join <- data_subset %>%\n",
    "  left_join(data_fiber, by = 'Iden fiber')\n",
    "\n",
    "data_join_02 <- data_join %>%\n",
    "  left_join(data_fiber_initial, by = 'Biomass type')"
   ]
  },
  {
   "cell_type": "markdown",
   "metadata": {},
   "source": [
    "## 13.2 Some calculations \n",
    "### Initial and final content of carbon, soluble, holocellulose and lignin"
   ]
  },
  {
   "cell_type": "code",
   "execution_count": 64,
   "metadata": {},
   "outputs": [],
   "source": [
    "data_join_02 <- data_join_02 %>%\n",
    "mutate(`Initial SOL content (g)` = `SOL perc initial (%)` * `Sample initial weight (g)` / 100,\n",
    "       `Initial HOLO content (g)` = `HOLO perc initial (%)` * `Sample initial weight (g)` / 100,\n",
    "       `Initial LIC content (g)` = `LIC perc initial (%)` * `Sample initial weight (g)` / 100,\n",
    "       `Final SOL content (g)` = `SOL perc ILR (%)` * `Sample final weight (g)` / 100,\n",
    "       `Final LIC content (g)` = `LIC perc ILR (%)` * `Sample final weight (g)` / 100,\n",
    "       `Final HOLO content (g)` = `HOLO perc ILR (%)` * `Sample final weight (g)` / 100,\n",
    "       `Initial Hydrolyzable content (g)` = `Initial SOL content (g)` +  `Initial HOLO content (g)`,\n",
    "       `Final Hydrolyzable content (g)` = `Final SOL content (g)` + `Final HOLO content (g)`)"
   ]
  },
  {
   "cell_type": "markdown",
   "metadata": {},
   "source": [
    "### 13.2.1 First order kinetic\n",
    "Here,we compute decomposition rate of carbon, soluble, holocellulose and lignin using first order kinetic."
   ]
  },
  {
   "cell_type": "code",
   "execution_count": 65,
   "metadata": {},
   "outputs": [],
   "source": [
    "kinetics_1st <- function(rw, iw, t) { # first order kinetic function\n",
    "    -log10(rw/iw)/t\n",
    "}"
   ]
  },
  {
   "cell_type": "code",
   "execution_count": 66,
   "metadata": {},
   "outputs": [],
   "source": [
    "data_join_02 <- data_join_02 %>%\n",
    "mutate(`rate SOL` = kinetics_1st(rw = `Final SOL content (g)`,\n",
    "                      iw = `Initial SOL content (g)`,\n",
    "                      t = `Sampling period (3 weeks)` * 21),\n",
    "       `rate HOLO` = kinetics_1st(rw = `Final HOLO content (g)`,\n",
    "                      iw = `Initial HOLO content (g)`,\n",
    "                      t = `Sampling period (3 weeks)` * 21),\n",
    "       `rate LIC` = kinetics_1st(rw = `Final LIC content (g)`,\n",
    "                      iw = `Initial LIC content (g)`,\n",
    "                      t = `Sampling period (3 weeks)` * 21),\n",
    "       `rate Hydrolyzable` = kinetics_1st(rw = `Final Hydrolyzable content (g)`,\n",
    "                      iw = `Initial Hydrolyzable content (g)`,\n",
    "                      t = `Sampling period (3 weeks)` * 21),\n",
    "      `Sampling period (days)` = `Sampling period (3 weeks)` * 21)"
   ]
  },
  {
   "cell_type": "markdown",
   "metadata": {},
   "source": [
    "### 13.2.2 Selection all variables we interested in data_join_02. Our final data is called `data_filtre`"
   ]
  },
  {
   "cell_type": "code",
   "execution_count": 67,
   "metadata": {},
   "outputs": [],
   "source": [
    "na.action = na.exclude\n",
    "data_filtre <- data_join_02 %>%\n",
    "select(`Iden fiber`, `Biomass type`,  `Sampling period (days)`, `Site`, `Producer`,`Repetition`,\n",
    " `Initial SOL content (g)`, `Initial HOLO content (g)`, `Initial LIC content (g)`, `Final SOL content (g)`,`Final HOLO content (g)`, `Final LIC content (g)`,\n",
    "       `Sample final weight (g)`, `Initial Hydrolyzable content (g)`, `Final Hydrolyzable content (g)`,\n",
    "       `rate SOL`, `rate HOLO`, `rate LIC`, `rate Hydrolyzable`) %>% \n",
    "rename(Lignin = `rate LIC`, \n",
    "       Holocelulose = `rate HOLO`, \n",
    "       Soluble = `rate SOL`,\n",
    "       Hydrolyzable = `rate Hydrolyzable`)"
   ]
  },
  {
   "cell_type": "markdown",
   "metadata": {},
   "source": [
    "## 13.3 Missing values visualization"
   ]
  },
  {
   "cell_type": "code",
   "execution_count": 68,
   "metadata": {},
   "outputs": [
    {
     "name": "stderr",
     "output_type": "stream",
     "text": [
      "Warning message:\n",
      "\"package 'VIM' was built under R version 3.6.2\"Loading required package: colorspace\n",
      "Loading required package: grid\n",
      "Loading required package: data.table\n",
      "Warning message:\n",
      "\"package 'data.table' was built under R version 3.6.2\"\n",
      "Attaching package: 'data.table'\n",
      "\n",
      "The following objects are masked from 'package:dplyr':\n",
      "\n",
      "    between, first, last\n",
      "\n",
      "The following object is masked from 'package:purrr':\n",
      "\n",
      "    transpose\n",
      "\n",
      "VIM is ready to use. \n",
      " Since version 4.0.0 the GUI is in its own package VIMGUI.\n",
      "\n",
      "          Please use the package to use the new (and old) GUI.\n",
      "\n",
      "Suggestions and bug-reports can be submitted at: https://github.com/alexkowa/VIM/issues\n",
      "\n",
      "Attaching package: 'VIM'\n",
      "\n",
      "The following object is masked from 'package:datasets':\n",
      "\n",
      "    sleep\n",
      "\n"
     ]
    },
    {
     "data": {
      "image/png": "[encoded data removed]",
      "text/plain": [
       "plot without title"
      ]
     },
     "metadata": {},
     "output_type": "display_data"
    },
    {
     "data": {
      "image/png": "[encoded data removed]",
      "text/plain": [
       "plot without title"
      ]
     },
     "metadata": {},
     "output_type": "display_data"
    },
    {
     "data": {
      "image/png": "[encoded data removed]",
      "text/plain": [
       "plot without title"
      ]
     },
     "metadata": {},
     "output_type": "display_data"
    }
   ],
   "source": [
    "library(VIM)\n",
    "aggr(data_filtre, numbers = TRUE, prop = FALSE)\n",
    "aggr(data_subset, numbers = TRUE, prop = FALSE)\n",
    "aggr(data_fiber, numbers = TRUE, prop = FALSE)\n"
   ]
  },
  {
   "cell_type": "code",
   "execution_count": 69,
   "metadata": {},
   "outputs": [
    {
     "data": {
      "text/html": [
       "1858"
      ],
      "text/latex": [
       "1858"
      ],
      "text/markdown": [
       "1858"
      ],
      "text/plain": [
       "[1] 1858"
      ]
     },
     "metadata": {},
     "output_type": "display_data"
    },
    {
     "data": {
      "text/html": [
       "4040"
      ],
      "text/latex": [
       "4040"
      ],
      "text/markdown": [
       "4040"
      ],
      "text/plain": [
       "[1] 4040"
      ]
     },
     "metadata": {},
     "output_type": "display_data"
    }
   ],
   "source": [
    "data_filtre_2 <- data_filtre[complete.cases(data_filtre), ]\n",
    "nrow(data_filtre_2)\n",
    "nrow(data_filtre)"
   ]
  },
  {
   "cell_type": "markdown",
   "metadata": {},
   "source": [
    "## 13.4 Linear regressions of materials biochemical composition"
   ]
  },
  {
   "cell_type": "markdown",
   "metadata": {},
   "source": [
    "### 13.4.1 Linear regression of remaining soluble content"
   ]
  },
  {
   "cell_type": "code",
   "execution_count": 70,
   "metadata": {},
   "outputs": [],
   "source": [
    "data_long <- gather(data = data_filtre, key = `Biochemical composition`, value = `Biochemical decomposition rate`, c(`Soluble`,\n",
    "                                                                                                                    `Lignin`, `Holocelulose`, `Hydrolyzable`),\n",
    "                    factor_key=TRUE)"
   ]
  },
  {
   "cell_type": "code",
   "execution_count": 71,
   "metadata": {},
   "outputs": [],
   "source": [
    "data_long <- subset(data_long, `Biochemical decomposition rate` > 0 & `Biomass type` == \"Green tea\" | `Biomass type` == \"Rooibos tea\")\n",
    "data_long <- subset(data_long, `Biochemical composition` == \"Lignin\" | `Biochemical composition` == \"Hydrolyzable\")"
   ]
  },
  {
   "cell_type": "code",
   "execution_count": 72,
   "metadata": {},
   "outputs": [
    {
     "name": "stderr",
     "output_type": "stream",
     "text": [
      "Warning message:\n",
      "\"production de NaN\""
     ]
    }
   ],
   "source": [
    "data_long <- data_long %>%\n",
    "        mutate(`log.K` = log10(`Biochemical decomposition rate`),\n",
    "                `log.T` = log10(`Sampling period (days)`))"
   ]
  },
  {
   "cell_type": "code",
   "execution_count": 73,
   "metadata": {},
   "outputs": [],
   "source": [
    "New.labs <- c(\"Non-Hydrolyzable\", \"Hydrolyzsable\") # New facet names for variable `Biochemical composition`\n",
    "names(New.labs) <- c(\"Lignin\", \"Hydrolyzable\")"
   ]
  },
  {
   "cell_type": "code",
   "execution_count": 74,
   "metadata": {},
   "outputs": [
    {
     "name": "stderr",
     "output_type": "stream",
     "text": [
      "Warning message:\n",
      "\"Removed 832 rows containing non-finite values (stat_smooth).\"Warning message:\n",
      "\"Removed 832 rows containing missing values (geom_point).\"Warning message:\n",
      "\"Removed 832 rows containing non-finite values (stat_smooth).\"Warning message:\n",
      "\"Removed 832 rows containing missing values (geom_point).\""
     ]
    },
    {
     "data": {
      "image/png": "[encoded data removed]",
      "text/plain": [
       "plot without title"
      ]
     },
     "metadata": {},
     "output_type": "display_data"
    }
   ],
   "source": [
    "options(repr.plot.width = 10, repr.plot.height = 6)\n",
    "ggplot(data_long, aes(x =  `Sampling period (days)`, y = `Biochemical decomposition rate`)) +\n",
    "#geom_point(aes(shape = `Biomass type`), size = 4)+\n",
    "facet_grid( `Biochemical composition` ~ `Biomass type`, scales = \"free\",\n",
    "           labeller = labeller(`Biochemical composition` = New.labs)) +\n",
    "geom_smooth(method = \"lm\" , color = 'black', se = FALSE) + \n",
    "labs(x = \"Time (days)\" , y = \"Biochemical decomposition rate\") +\n",
    "theme(axis.title.x = element_text(size = 18, face = \"bold\"), \n",
    "  axis.title.y = element_text(size = 18, face = \"bold\"),\n",
    "     legend.text=element_text(size=14, face = \"bold\")) +\n",
    "ylim(-0.05, 0.05) +\n",
    "theme_bw() +\n",
    "  geom_point(size = 1, alpha = 0.5, pch = 21, fill = \"white\") \n",
    "ggsave(\"figures/Linear regression of Biochemical decomposition rate.png\", width = 8, height = 6, dpi = 80)"
   ]
  },
  {
   "cell_type": "markdown",
   "metadata": {},
   "source": [
    "## 13.5 Biochemical fractal kinetics"
   ]
  },
  {
   "cell_type": "code",
   "execution_count": 75,
   "metadata": {},
   "outputs": [
    {
     "data": {
      "text/html": [
       "<table>\n",
       "<thead><tr><th scope=col>Iden fiber</th><th scope=col>Biomass type</th><th scope=col>Sampling period (days)</th><th scope=col>Site</th><th scope=col>Producer</th><th scope=col>Repetition</th><th scope=col>Initial SOL content (g)</th><th scope=col>Initial HOLO content (g)</th><th scope=col>Initial LIC content (g)</th><th scope=col>Final SOL content (g)</th><th scope=col>...</th><th scope=col>Initial Hydrolyzable content (g)</th><th scope=col>Final Hydrolyzable content (g)</th><th scope=col>Biochemical composition</th><th scope=col>Biochemical decomposition rate</th><th scope=col>log.K</th><th scope=col>log.T</th><th scope=col>Log ratio LIC</th><th scope=col>Log ratio HOLO</th><th scope=col>Log ratio SOL</th><th scope=col>Log ratio Hydrolyzable</th></tr></thead>\n",
       "<tbody>\n",
       "\t<tr><td>G09_P1_R1 </td><td>Green tea </td><td>21        </td><td>9         </td><td>Fortier   </td><td>1         </td><td>1.198848  </td><td>0.237272  </td><td>0.347880  </td><td>0.5951746 </td><td>...       </td><td>1.436120  </td><td>0.9463119 </td><td>Lignin    </td><td>0.02620268</td><td>-1.581654 </td><td>1.322219  </td><td>1.267012  </td><td>-0.3919703</td><td>0.7002616 </td><td>0.4171280 </td></tr>\n",
       "\t<tr><td>G09_P1_R1 </td><td>Green tea </td><td>21        </td><td>9         </td><td>Fortier   </td><td>1         </td><td>1.181376  </td><td>0.233814  </td><td>0.342810  </td><td>0.6005319 </td><td>...       </td><td>1.415190  </td><td>0.9548299 </td><td>Lignin    </td><td>0.02571374</td><td>-1.589835 </td><td>1.322219  </td><td>1.243370  </td><td>-0.4156125</td><td>0.6766194 </td><td>0.3934858 </td></tr>\n",
       "\t<tr><td>G09_P1_R1 </td><td>Green tea </td><td>21        </td><td>9         </td><td>Fortier   </td><td>1         </td><td>1.206240  </td><td>0.238735  </td><td>0.350025  </td><td>0.5831491 </td><td>...       </td><td>1.444975  </td><td>0.9271918 </td><td>Lignin    </td><td>0.02675194</td><td>-1.572645 </td><td>1.322219  </td><td>1.293571  </td><td>-0.3654115</td><td>0.7268204 </td><td>0.4436869 </td></tr>\n",
       "\t<tr><td>G09_P1_R1 </td><td>Green tea </td><td>21        </td><td>9         </td><td>Fortier   </td><td>1         </td><td>1.188096  </td><td>0.235144  </td><td>0.344760  </td><td>0.5970553 </td><td>...       </td><td>1.423240  </td><td>0.9493023 </td><td>Lignin    </td><td>0.02595112</td><td>-1.585844 </td><td>1.322219  </td><td>1.254848  </td><td>-0.4041344</td><td>0.6880975 </td><td>0.4049640 </td></tr>\n",
       "\t<tr><td>G09_P1_R1 </td><td>Green tea </td><td>21        </td><td>9         </td><td>Fortier   </td><td>1         </td><td>1.187424  </td><td>0.235011  </td><td>0.344565  </td><td>0.6276034 </td><td>...       </td><td>1.422435  </td><td>0.9978729 </td><td>Lignin    </td><td>0.02490748</td><td>-1.603670 </td><td>1.322219  </td><td>1.204383  </td><td>-0.4545989</td><td>0.6376331 </td><td>0.3544995 </td></tr>\n",
       "\t<tr><td>G09_P1_R1 </td><td>Green tea </td><td>21        </td><td>9         </td><td>Fortier   </td><td>1         </td><td>1.199520  </td><td>0.237405  </td><td>0.348075  </td><td>0.6012728 </td><td>...       </td><td>1.436925  </td><td>0.9560079 </td><td>Lignin    </td><td>0.02600345</td><td>-1.584969 </td><td>1.322219  </td><td>1.257378  </td><td>-0.4016039</td><td>0.6906280 </td><td>0.4074945 </td></tr>\n",
       "</tbody>\n",
       "</table>\n"
      ],
      "text/latex": [
       "\\begin{tabular}{r|lllllllllllllllllllllll}\n",
       " Iden fiber & Biomass type & Sampling period (days) & Site & Producer & Repetition & Initial SOL content (g) & Initial HOLO content (g) & Initial LIC content (g) & Final SOL content (g) & ... & Initial Hydrolyzable content (g) & Final Hydrolyzable content (g) & Biochemical composition & Biochemical decomposition rate & log.K & log.T & Log ratio LIC & Log ratio HOLO & Log ratio SOL & Log ratio Hydrolyzable\\\\\n",
       "\\hline\n",
       "\t G09\\_P1\\_R1 & Green tea     & 21            & 9             & Fortier       & 1             & 1.198848      & 0.237272      & 0.347880      & 0.5951746     & ...           & 1.436120      & 0.9463119     & Lignin        & 0.02620268    & -1.581654     & 1.322219      & 1.267012      & -0.3919703    & 0.7002616     & 0.4171280    \\\\\n",
       "\t G09\\_P1\\_R1 & Green tea     & 21            & 9             & Fortier       & 1             & 1.181376      & 0.233814      & 0.342810      & 0.6005319     & ...           & 1.415190      & 0.9548299     & Lignin        & 0.02571374    & -1.589835     & 1.322219      & 1.243370      & -0.4156125    & 0.6766194     & 0.3934858    \\\\\n",
       "\t G09\\_P1\\_R1 & Green tea     & 21            & 9             & Fortier       & 1             & 1.206240      & 0.238735      & 0.350025      & 0.5831491     & ...           & 1.444975      & 0.9271918     & Lignin        & 0.02675194    & -1.572645     & 1.322219      & 1.293571      & -0.3654115    & 0.7268204     & 0.4436869    \\\\\n",
       "\t G09\\_P1\\_R1 & Green tea     & 21            & 9             & Fortier       & 1             & 1.188096      & 0.235144      & 0.344760      & 0.5970553     & ...           & 1.423240      & 0.9493023     & Lignin        & 0.02595112    & -1.585844     & 1.322219      & 1.254848      & -0.4041344    & 0.6880975     & 0.4049640    \\\\\n",
       "\t G09\\_P1\\_R1 & Green tea     & 21            & 9             & Fortier       & 1             & 1.187424      & 0.235011      & 0.344565      & 0.6276034     & ...           & 1.422435      & 0.9978729     & Lignin        & 0.02490748    & -1.603670     & 1.322219      & 1.204383      & -0.4545989    & 0.6376331     & 0.3544995    \\\\\n",
       "\t G09\\_P1\\_R1 & Green tea     & 21            & 9             & Fortier       & 1             & 1.199520      & 0.237405      & 0.348075      & 0.6012728     & ...           & 1.436925      & 0.9560079     & Lignin        & 0.02600345    & -1.584969     & 1.322219      & 1.257378      & -0.4016039    & 0.6906280     & 0.4074945    \\\\\n",
       "\\end{tabular}\n"
      ],
      "text/markdown": [
       "\n",
       "| Iden fiber | Biomass type | Sampling period (days) | Site | Producer | Repetition | Initial SOL content (g) | Initial HOLO content (g) | Initial LIC content (g) | Final SOL content (g) | ... | Initial Hydrolyzable content (g) | Final Hydrolyzable content (g) | Biochemical composition | Biochemical decomposition rate | log.K | log.T | Log ratio LIC | Log ratio HOLO | Log ratio SOL | Log ratio Hydrolyzable |\n",
       "|---|---|---|---|---|---|---|---|---|---|---|---|---|---|---|---|---|---|---|---|---|\n",
       "| G09_P1_R1  | Green tea  | 21         | 9          | Fortier    | 1          | 1.198848   | 0.237272   | 0.347880   | 0.5951746  | ...        | 1.436120   | 0.9463119  | Lignin     | 0.02620268 | -1.581654  | 1.322219   | 1.267012   | -0.3919703 | 0.7002616  | 0.4171280  |\n",
       "| G09_P1_R1  | Green tea  | 21         | 9          | Fortier    | 1          | 1.181376   | 0.233814   | 0.342810   | 0.6005319  | ...        | 1.415190   | 0.9548299  | Lignin     | 0.02571374 | -1.589835  | 1.322219   | 1.243370   | -0.4156125 | 0.6766194  | 0.3934858  |\n",
       "| G09_P1_R1  | Green tea  | 21         | 9          | Fortier    | 1          | 1.206240   | 0.238735   | 0.350025   | 0.5831491  | ...        | 1.444975   | 0.9271918  | Lignin     | 0.02675194 | -1.572645  | 1.322219   | 1.293571   | -0.3654115 | 0.7268204  | 0.4436869  |\n",
       "| G09_P1_R1  | Green tea  | 21         | 9          | Fortier    | 1          | 1.188096   | 0.235144   | 0.344760   | 0.5970553  | ...        | 1.423240   | 0.9493023  | Lignin     | 0.02595112 | -1.585844  | 1.322219   | 1.254848   | -0.4041344 | 0.6880975  | 0.4049640  |\n",
       "| G09_P1_R1  | Green tea  | 21         | 9          | Fortier    | 1          | 1.187424   | 0.235011   | 0.344565   | 0.6276034  | ...        | 1.422435   | 0.9978729  | Lignin     | 0.02490748 | -1.603670  | 1.322219   | 1.204383   | -0.4545989 | 0.6376331  | 0.3544995  |\n",
       "| G09_P1_R1  | Green tea  | 21         | 9          | Fortier    | 1          | 1.199520   | 0.237405   | 0.348075   | 0.6012728  | ...        | 1.436925   | 0.9560079  | Lignin     | 0.02600345 | -1.584969  | 1.322219   | 1.257378   | -0.4016039 | 0.6906280  | 0.4074945  |\n",
       "\n"
      ],
      "text/plain": [
       "  Iden fiber Biomass type Sampling period (days) Site Producer Repetition\n",
       "1 G09_P1_R1  Green tea    21                     9    Fortier  1         \n",
       "2 G09_P1_R1  Green tea    21                     9    Fortier  1         \n",
       "3 G09_P1_R1  Green tea    21                     9    Fortier  1         \n",
       "4 G09_P1_R1  Green tea    21                     9    Fortier  1         \n",
       "5 G09_P1_R1  Green tea    21                     9    Fortier  1         \n",
       "6 G09_P1_R1  Green tea    21                     9    Fortier  1         \n",
       "  Initial SOL content (g) Initial HOLO content (g) Initial LIC content (g)\n",
       "1 1.198848                0.237272                 0.347880               \n",
       "2 1.181376                0.233814                 0.342810               \n",
       "3 1.206240                0.238735                 0.350025               \n",
       "4 1.188096                0.235144                 0.344760               \n",
       "5 1.187424                0.235011                 0.344565               \n",
       "6 1.199520                0.237405                 0.348075               \n",
       "  Final SOL content (g) ... Initial Hydrolyzable content (g)\n",
       "1 0.5951746             ... 1.436120                        \n",
       "2 0.6005319             ... 1.415190                        \n",
       "3 0.5831491             ... 1.444975                        \n",
       "4 0.5970553             ... 1.423240                        \n",
       "5 0.6276034             ... 1.422435                        \n",
       "6 0.6012728             ... 1.436925                        \n",
       "  Final Hydrolyzable content (g) Biochemical composition\n",
       "1 0.9463119                      Lignin                 \n",
       "2 0.9548299                      Lignin                 \n",
       "3 0.9271918                      Lignin                 \n",
       "4 0.9493023                      Lignin                 \n",
       "5 0.9978729                      Lignin                 \n",
       "6 0.9560079                      Lignin                 \n",
       "  Biochemical decomposition rate log.K     log.T    Log ratio LIC\n",
       "1 0.02620268                     -1.581654 1.322219 1.267012     \n",
       "2 0.02571374                     -1.589835 1.322219 1.243370     \n",
       "3 0.02675194                     -1.572645 1.322219 1.293571     \n",
       "4 0.02595112                     -1.585844 1.322219 1.254848     \n",
       "5 0.02490748                     -1.603670 1.322219 1.204383     \n",
       "6 0.02600345                     -1.584969 1.322219 1.257378     \n",
       "  Log ratio HOLO Log ratio SOL Log ratio Hydrolyzable\n",
       "1 -0.3919703     0.7002616     0.4171280             \n",
       "2 -0.4156125     0.6766194     0.3934858             \n",
       "3 -0.3654115     0.7268204     0.4436869             \n",
       "4 -0.4041344     0.6880975     0.4049640             \n",
       "5 -0.4545989     0.6376331     0.3544995             \n",
       "6 -0.4016039     0.6906280     0.4074945             "
      ]
     },
     "metadata": {},
     "output_type": "display_data"
    }
   ],
   "source": [
    "data_fractal_biochemical <- data_long %>%\n",
    "mutate(`Log ratio LIC` = - log(`Final LIC content (g)`/`Initial LIC content (g)`),\n",
    "        `Log ratio HOLO` = - log(`Final HOLO content (g)`/`Initial HOLO content (g)`),\n",
    "        `Log ratio SOL` = - log(`Final SOL content (g)`/`Initial SOL content (g)`),\n",
    "        `Log ratio Hydrolyzable` = - log(`Final Hydrolyzable content (g)`/`Initial Hydrolyzable content (g)`))\n",
    "head(data_fractal_biochemical)\n",
    "     "
   ]
  },
  {
   "cell_type": "markdown",
   "metadata": {},
   "source": [
    "### 13.5.1 Fractal of Rooibos tea Lignin content \n",
    "\n",
    "`H_LIC_Rooibos = 0`"
   ]
  },
  {
   "cell_type": "code",
   "execution_count": 76,
   "metadata": {},
   "outputs": [],
   "source": [
    "data_lm_fractal_biochemical <- data_fractal_biochemical %>%\n",
    "  filter(`Biochemical decomposition rate` > 0) %>%\n",
    "  select(`Biomass type`, `Biochemical decomposition rate`,`log.T`, `log.K`, `Biochemical composition`, `Sampling period (days)`)"
   ]
  },
  {
   "cell_type": "markdown",
   "metadata": {},
   "source": [
    "Then, we create data to store the results `intercept`, `slope` and r square `r_sq`"
   ]
  },
  {
   "cell_type": "code",
   "execution_count": 77,
   "metadata": {},
   "outputs": [
    {
     "data": {
      "text/html": [
       "<table>\n",
       "<thead><tr><th scope=col>Biomass_type</th><th scope=col>Biochemical_composition</th><th scope=col>intercept</th><th scope=col>slope</th><th scope=col>r_sq</th></tr></thead>\n",
       "<tbody>\n",
       "\t<tr><td>Green tea   </td><td>Lignin      </td><td>NA          </td><td>NA          </td><td>NA          </td></tr>\n",
       "\t<tr><td>Rooibos tea </td><td>Lignin      </td><td>NA          </td><td>NA          </td><td>NA          </td></tr>\n",
       "\t<tr><td>Green tea   </td><td>Hydrolyzable</td><td>NA          </td><td>NA          </td><td>NA          </td></tr>\n",
       "\t<tr><td>Rooibos tea </td><td>Hydrolyzable</td><td>NA          </td><td>NA          </td><td>NA          </td></tr>\n",
       "</tbody>\n",
       "</table>\n"
      ],
      "text/latex": [
       "\\begin{tabular}{r|lllll}\n",
       " Biomass\\_type & Biochemical\\_composition & intercept & slope & r\\_sq\\\\\n",
       "\\hline\n",
       "\t Green tea    & Lignin       & NA           & NA           & NA          \\\\\n",
       "\t Rooibos tea  & Lignin       & NA           & NA           & NA          \\\\\n",
       "\t Green tea    & Hydrolyzable & NA           & NA           & NA          \\\\\n",
       "\t Rooibos tea  & Hydrolyzable & NA           & NA           & NA          \\\\\n",
       "\\end{tabular}\n"
      ],
      "text/markdown": [
       "\n",
       "| Biomass_type | Biochemical_composition | intercept | slope | r_sq |\n",
       "|---|---|---|---|---|\n",
       "| Green tea    | Lignin       | NA           | NA           | NA           |\n",
       "| Rooibos tea  | Lignin       | NA           | NA           | NA           |\n",
       "| Green tea    | Hydrolyzable | NA           | NA           | NA           |\n",
       "| Rooibos tea  | Hydrolyzable | NA           | NA           | NA           |\n",
       "\n"
      ],
      "text/plain": [
       "  Biomass_type Biochemical_composition intercept slope r_sq\n",
       "1 Green tea    Lignin                  NA        NA    NA  \n",
       "2 Rooibos tea  Lignin                  NA        NA    NA  \n",
       "3 Green tea    Hydrolyzable            NA        NA    NA  \n",
       "4 Rooibos tea  Hydrolyzable            NA        NA    NA  "
      ]
     },
     "metadata": {},
     "output_type": "display_data"
    }
   ],
   "source": [
    "fractal_biochemical_kinetics <- tibble(\n",
    "    Biomass_type = c(\"Green tea\", \"Rooibos tea\", \"Green tea\", \"Rooibos tea\"),\n",
    "    Biochemical_composition = c(rep(\"Lignin\", 2), rep(\"Hydrolyzable\", 2)),\n",
    "    intercept = NA,\n",
    "    slope = NA,\n",
    "    r_sq = NA\n",
    ")\n",
    "\n",
    "fractal_biochemical_kinetics"
   ]
  },
  {
   "cell_type": "markdown",
   "metadata": {},
   "source": [
    "```\n",
    "lm(log.K ~ log.T)\n",
    "log.K1 = 10^intercept\n",
    "h = -slope\n",
    "```\n"
   ]
  },
  {
   "cell_type": "markdown",
   "metadata": {},
   "source": [
    "Computation of median value of `log.time` and `log.k` by `time` and `tea type` to determine `h`"
   ]
  },
  {
   "cell_type": "code",
   "execution_count": 82,
   "metadata": {},
   "outputs": [
    {
     "data": {
      "text/html": [
       "<table>\n",
       "<thead><tr><th scope=col>Sampling period (days)</th><th scope=col>Biomass type</th><th scope=col>Biochemical composition</th><th scope=col>log.T</th><th scope=col>log.K</th></tr></thead>\n",
       "<tbody>\n",
       "\t<tr><td> 21         </td><td>Green tea   </td><td>Lignin      </td><td>1.322219    </td><td>-1.774361   </td></tr>\n",
       "\t<tr><td> 42         </td><td>Green tea   </td><td>Lignin      </td><td>1.623249    </td><td>-2.236410   </td></tr>\n",
       "\t<tr><td> 63         </td><td>Green tea   </td><td>Lignin      </td><td>1.799341    </td><td>-2.357945   </td></tr>\n",
       "\t<tr><td> 84         </td><td>Green tea   </td><td>Lignin      </td><td>1.924279    </td><td>-2.395033   </td></tr>\n",
       "\t<tr><td>105         </td><td>Green tea   </td><td>Lignin      </td><td>2.021189    </td><td>-2.476851   </td></tr>\n",
       "\t<tr><td>126         </td><td>Green tea   </td><td>Lignin      </td><td>2.100371    </td><td>-2.535195   </td></tr>\n",
       "\t<tr><td>147         </td><td>Green tea   </td><td>Lignin      </td><td>2.167317    </td><td>-2.675763   </td></tr>\n",
       "\t<tr><td> 21         </td><td>Rooibos tea </td><td>Lignin      </td><td>1.322219    </td><td>-2.616615   </td></tr>\n",
       "\t<tr><td> 63         </td><td>Rooibos tea </td><td>Lignin      </td><td>1.799341    </td><td>-3.938774   </td></tr>\n",
       "\t<tr><td> 84         </td><td>Rooibos tea </td><td>Lignin      </td><td>1.924279    </td><td>-3.465807   </td></tr>\n",
       "\t<tr><td>105         </td><td>Rooibos tea </td><td>Lignin      </td><td>2.021189    </td><td>-4.098497   </td></tr>\n",
       "\t<tr><td>126         </td><td>Rooibos tea </td><td>Lignin      </td><td>2.100371    </td><td>-3.524196   </td></tr>\n",
       "\t<tr><td>147         </td><td>Rooibos tea </td><td>Lignin      </td><td>2.167317    </td><td>-3.836650   </td></tr>\n",
       "\t<tr><td> 21         </td><td>Green tea   </td><td>Hydrolyzable</td><td>1.322219    </td><td>-2.079730   </td></tr>\n",
       "\t<tr><td> 42         </td><td>Green tea   </td><td>Hydrolyzable</td><td>1.623249    </td><td>-2.206932   </td></tr>\n",
       "\t<tr><td> 63         </td><td>Green tea   </td><td>Hydrolyzable</td><td>1.799341    </td><td>-2.285579   </td></tr>\n",
       "\t<tr><td> 84         </td><td>Green tea   </td><td>Hydrolyzable</td><td>1.924279    </td><td>-2.409205   </td></tr>\n",
       "\t<tr><td>105         </td><td>Green tea   </td><td>Hydrolyzable</td><td>2.021189    </td><td>-2.431669   </td></tr>\n",
       "\t<tr><td>126         </td><td>Green tea   </td><td>Hydrolyzable</td><td>2.100371    </td><td>-2.556147   </td></tr>\n",
       "\t<tr><td>147         </td><td>Green tea   </td><td>Hydrolyzable</td><td>2.167317    </td><td>-2.591210   </td></tr>\n",
       "\t<tr><td> 21         </td><td>Rooibos tea </td><td>Hydrolyzable</td><td>1.322219    </td><td>-2.528232   </td></tr>\n",
       "\t<tr><td> 42         </td><td>Rooibos tea </td><td>Hydrolyzable</td><td>1.623249    </td><td>-2.432091   </td></tr>\n",
       "\t<tr><td> 63         </td><td>Rooibos tea </td><td>Hydrolyzable</td><td>1.799341    </td><td>-2.541205   </td></tr>\n",
       "\t<tr><td> 84         </td><td>Rooibos tea </td><td>Hydrolyzable</td><td>1.924279    </td><td>-2.733613   </td></tr>\n",
       "\t<tr><td>105         </td><td>Rooibos tea </td><td>Hydrolyzable</td><td>2.021189    </td><td>-2.683045   </td></tr>\n",
       "\t<tr><td>126         </td><td>Rooibos tea </td><td>Hydrolyzable</td><td>2.100371    </td><td>-2.725728   </td></tr>\n",
       "\t<tr><td>147         </td><td>Rooibos tea </td><td>Hydrolyzable</td><td>2.167317    </td><td>-2.856358   </td></tr>\n",
       "</tbody>\n",
       "</table>\n"
      ],
      "text/latex": [
       "\\begin{tabular}{r|lllll}\n",
       " Sampling period (days) & Biomass type & Biochemical composition & log.T & log.K\\\\\n",
       "\\hline\n",
       "\t  21          & Green tea    & Lignin       & 1.322219     & -1.774361   \\\\\n",
       "\t  42          & Green tea    & Lignin       & 1.623249     & -2.236410   \\\\\n",
       "\t  63          & Green tea    & Lignin       & 1.799341     & -2.357945   \\\\\n",
       "\t  84          & Green tea    & Lignin       & 1.924279     & -2.395033   \\\\\n",
       "\t 105          & Green tea    & Lignin       & 2.021189     & -2.476851   \\\\\n",
       "\t 126          & Green tea    & Lignin       & 2.100371     & -2.535195   \\\\\n",
       "\t 147          & Green tea    & Lignin       & 2.167317     & -2.675763   \\\\\n",
       "\t  21          & Rooibos tea  & Lignin       & 1.322219     & -2.616615   \\\\\n",
       "\t  63          & Rooibos tea  & Lignin       & 1.799341     & -3.938774   \\\\\n",
       "\t  84          & Rooibos tea  & Lignin       & 1.924279     & -3.465807   \\\\\n",
       "\t 105          & Rooibos tea  & Lignin       & 2.021189     & -4.098497   \\\\\n",
       "\t 126          & Rooibos tea  & Lignin       & 2.100371     & -3.524196   \\\\\n",
       "\t 147          & Rooibos tea  & Lignin       & 2.167317     & -3.836650   \\\\\n",
       "\t  21          & Green tea    & Hydrolyzable & 1.322219     & -2.079730   \\\\\n",
       "\t  42          & Green tea    & Hydrolyzable & 1.623249     & -2.206932   \\\\\n",
       "\t  63          & Green tea    & Hydrolyzable & 1.799341     & -2.285579   \\\\\n",
       "\t  84          & Green tea    & Hydrolyzable & 1.924279     & -2.409205   \\\\\n",
       "\t 105          & Green tea    & Hydrolyzable & 2.021189     & -2.431669   \\\\\n",
       "\t 126          & Green tea    & Hydrolyzable & 2.100371     & -2.556147   \\\\\n",
       "\t 147          & Green tea    & Hydrolyzable & 2.167317     & -2.591210   \\\\\n",
       "\t  21          & Rooibos tea  & Hydrolyzable & 1.322219     & -2.528232   \\\\\n",
       "\t  42          & Rooibos tea  & Hydrolyzable & 1.623249     & -2.432091   \\\\\n",
       "\t  63          & Rooibos tea  & Hydrolyzable & 1.799341     & -2.541205   \\\\\n",
       "\t  84          & Rooibos tea  & Hydrolyzable & 1.924279     & -2.733613   \\\\\n",
       "\t 105          & Rooibos tea  & Hydrolyzable & 2.021189     & -2.683045   \\\\\n",
       "\t 126          & Rooibos tea  & Hydrolyzable & 2.100371     & -2.725728   \\\\\n",
       "\t 147          & Rooibos tea  & Hydrolyzable & 2.167317     & -2.856358   \\\\\n",
       "\\end{tabular}\n"
      ],
      "text/markdown": [
       "\n",
       "| Sampling period (days) | Biomass type | Biochemical composition | log.T | log.K |\n",
       "|---|---|---|---|---|\n",
       "|  21          | Green tea    | Lignin       | 1.322219     | -1.774361    |\n",
       "|  42          | Green tea    | Lignin       | 1.623249     | -2.236410    |\n",
       "|  63          | Green tea    | Lignin       | 1.799341     | -2.357945    |\n",
       "|  84          | Green tea    | Lignin       | 1.924279     | -2.395033    |\n",
       "| 105          | Green tea    | Lignin       | 2.021189     | -2.476851    |\n",
       "| 126          | Green tea    | Lignin       | 2.100371     | -2.535195    |\n",
       "| 147          | Green tea    | Lignin       | 2.167317     | -2.675763    |\n",
       "|  21          | Rooibos tea  | Lignin       | 1.322219     | -2.616615    |\n",
       "|  63          | Rooibos tea  | Lignin       | 1.799341     | -3.938774    |\n",
       "|  84          | Rooibos tea  | Lignin       | 1.924279     | -3.465807    |\n",
       "| 105          | Rooibos tea  | Lignin       | 2.021189     | -4.098497    |\n",
       "| 126          | Rooibos tea  | Lignin       | 2.100371     | -3.524196    |\n",
       "| 147          | Rooibos tea  | Lignin       | 2.167317     | -3.836650    |\n",
       "|  21          | Green tea    | Hydrolyzable | 1.322219     | -2.079730    |\n",
       "|  42          | Green tea    | Hydrolyzable | 1.623249     | -2.206932    |\n",
       "|  63          | Green tea    | Hydrolyzable | 1.799341     | -2.285579    |\n",
       "|  84          | Green tea    | Hydrolyzable | 1.924279     | -2.409205    |\n",
       "| 105          | Green tea    | Hydrolyzable | 2.021189     | -2.431669    |\n",
       "| 126          | Green tea    | Hydrolyzable | 2.100371     | -2.556147    |\n",
       "| 147          | Green tea    | Hydrolyzable | 2.167317     | -2.591210    |\n",
       "|  21          | Rooibos tea  | Hydrolyzable | 1.322219     | -2.528232    |\n",
       "|  42          | Rooibos tea  | Hydrolyzable | 1.623249     | -2.432091    |\n",
       "|  63          | Rooibos tea  | Hydrolyzable | 1.799341     | -2.541205    |\n",
       "|  84          | Rooibos tea  | Hydrolyzable | 1.924279     | -2.733613    |\n",
       "| 105          | Rooibos tea  | Hydrolyzable | 2.021189     | -2.683045    |\n",
       "| 126          | Rooibos tea  | Hydrolyzable | 2.100371     | -2.725728    |\n",
       "| 147          | Rooibos tea  | Hydrolyzable | 2.167317     | -2.856358    |\n",
       "\n"
      ],
      "text/plain": [
       "   Sampling period (days) Biomass type Biochemical composition log.T   \n",
       "1   21                    Green tea    Lignin                  1.322219\n",
       "2   42                    Green tea    Lignin                  1.623249\n",
       "3   63                    Green tea    Lignin                  1.799341\n",
       "4   84                    Green tea    Lignin                  1.924279\n",
       "5  105                    Green tea    Lignin                  2.021189\n",
       "6  126                    Green tea    Lignin                  2.100371\n",
       "7  147                    Green tea    Lignin                  2.167317\n",
       "8   21                    Rooibos tea  Lignin                  1.322219\n",
       "9   63                    Rooibos tea  Lignin                  1.799341\n",
       "10  84                    Rooibos tea  Lignin                  1.924279\n",
       "11 105                    Rooibos tea  Lignin                  2.021189\n",
       "12 126                    Rooibos tea  Lignin                  2.100371\n",
       "13 147                    Rooibos tea  Lignin                  2.167317\n",
       "14  21                    Green tea    Hydrolyzable            1.322219\n",
       "15  42                    Green tea    Hydrolyzable            1.623249\n",
       "16  63                    Green tea    Hydrolyzable            1.799341\n",
       "17  84                    Green tea    Hydrolyzable            1.924279\n",
       "18 105                    Green tea    Hydrolyzable            2.021189\n",
       "19 126                    Green tea    Hydrolyzable            2.100371\n",
       "20 147                    Green tea    Hydrolyzable            2.167317\n",
       "21  21                    Rooibos tea  Hydrolyzable            1.322219\n",
       "22  42                    Rooibos tea  Hydrolyzable            1.623249\n",
       "23  63                    Rooibos tea  Hydrolyzable            1.799341\n",
       "24  84                    Rooibos tea  Hydrolyzable            1.924279\n",
       "25 105                    Rooibos tea  Hydrolyzable            2.021189\n",
       "26 126                    Rooibos tea  Hydrolyzable            2.100371\n",
       "27 147                    Rooibos tea  Hydrolyzable            2.167317\n",
       "   log.K    \n",
       "1  -1.774361\n",
       "2  -2.236410\n",
       "3  -2.357945\n",
       "4  -2.395033\n",
       "5  -2.476851\n",
       "6  -2.535195\n",
       "7  -2.675763\n",
       "8  -2.616615\n",
       "9  -3.938774\n",
       "10 -3.465807\n",
       "11 -4.098497\n",
       "12 -3.524196\n",
       "13 -3.836650\n",
       "14 -2.079730\n",
       "15 -2.206932\n",
       "16 -2.285579\n",
       "17 -2.409205\n",
       "18 -2.431669\n",
       "19 -2.556147\n",
       "20 -2.591210\n",
       "21 -2.528232\n",
       "22 -2.432091\n",
       "23 -2.541205\n",
       "24 -2.733613\n",
       "25 -2.683045\n",
       "26 -2.725728\n",
       "27 -2.856358"
      ]
     },
     "metadata": {},
     "output_type": "display_data"
    }
   ],
   "source": [
    "data_median_fractal_biochemical <- aggregate(cbind(`log.T`, `log.K`) ~ `Sampling period (days)` + \n",
    "                                             `Biomass type` + `Biochemical composition`, \n",
    "                                             data = data_lm_fractal_biochemical, \n",
    "                                             FUN = median)\n",
    "data_median_fractal_biochemical"
   ]
  },
  {
   "cell_type": "markdown",
   "metadata": {},
   "source": [
    "Applying `lm` in a loop `for` in order to compute `h`, r square `r_sq` and `k1` by `tea type`"
   ]
  },
  {
   "cell_type": "code",
   "execution_count": 79,
   "metadata": {},
   "outputs": [
    {
     "data": {
      "text/html": [
       "<table>\n",
       "<thead><tr><th scope=col>Biomass_type</th><th scope=col>Biochemical_composition</th><th scope=col>intercept</th><th scope=col>slope</th><th scope=col>r_sq</th></tr></thead>\n",
       "<tbody>\n",
       "\t<tr><td>Green tea   </td><td>Lignin      </td><td>-0.5924339  </td><td>-0.9495719  </td><td>0.9516462   </td></tr>\n",
       "\t<tr><td>Rooibos tea </td><td>Lignin      </td><td>-1.0164253  </td><td>-1.3570685  </td><td>0.6150621   </td></tr>\n",
       "\t<tr><td>Green tea   </td><td>Hydrolyzable</td><td>-1.2330595  </td><td>-0.6119060  </td><td>0.9610390   </td></tr>\n",
       "\t<tr><td>Rooibos tea </td><td>Hydrolyzable</td><td>-1.8910531  </td><td>-0.4061517  </td><td>0.6724302   </td></tr>\n",
       "</tbody>\n",
       "</table>\n"
      ],
      "text/latex": [
       "\\begin{tabular}{r|lllll}\n",
       " Biomass\\_type & Biochemical\\_composition & intercept & slope & r\\_sq\\\\\n",
       "\\hline\n",
       "\t Green tea    & Lignin       & -0.5924339   & -0.9495719   & 0.9516462   \\\\\n",
       "\t Rooibos tea  & Lignin       & -1.0164253   & -1.3570685   & 0.6150621   \\\\\n",
       "\t Green tea    & Hydrolyzable & -1.2330595   & -0.6119060   & 0.9610390   \\\\\n",
       "\t Rooibos tea  & Hydrolyzable & -1.8910531   & -0.4061517   & 0.6724302   \\\\\n",
       "\\end{tabular}\n"
      ],
      "text/markdown": [
       "\n",
       "| Biomass_type | Biochemical_composition | intercept | slope | r_sq |\n",
       "|---|---|---|---|---|\n",
       "| Green tea    | Lignin       | -0.5924339   | -0.9495719   | 0.9516462    |\n",
       "| Rooibos tea  | Lignin       | -1.0164253   | -1.3570685   | 0.6150621    |\n",
       "| Green tea    | Hydrolyzable | -1.2330595   | -0.6119060   | 0.9610390    |\n",
       "| Rooibos tea  | Hydrolyzable | -1.8910531   | -0.4061517   | 0.6724302    |\n",
       "\n"
      ],
      "text/plain": [
       "  Biomass_type Biochemical_composition intercept  slope      r_sq     \n",
       "1 Green tea    Lignin                  -0.5924339 -0.9495719 0.9516462\n",
       "2 Rooibos tea  Lignin                  -1.0164253 -1.3570685 0.6150621\n",
       "3 Green tea    Hydrolyzable            -1.2330595 -0.6119060 0.9610390\n",
       "4 Rooibos tea  Hydrolyzable            -1.8910531 -0.4061517 0.6724302"
      ]
     },
     "metadata": {},
     "output_type": "display_data"
    }
   ],
   "source": [
    "for (i in 1:nrow(fractal_biochemical_kinetics)) {\n",
    "    \n",
    "    lm_fractal <- data_median_fractal_biochemical %>%\n",
    "      filter((`Biomass type` == fractal_biochemical_kinetics$Biomass_type[i]) &\n",
    "             (`Biochemical composition` == fractal_biochemical_kinetics$Biochemical_composition[i])) %>%\n",
    "      lm(`log.K` ~ `log.T`, data = .)\n",
    "\n",
    "    fractal_biochemical_kinetics$intercept[i] <- coef(lm_fractal)[1]\n",
    "    fractal_biochemical_kinetics$slope[i] <- coef(lm_fractal)[2]\n",
    "    fractal_biochemical_kinetics$r_sq[i] <- summary(lm_fractal)$r.squared\n",
    "\n",
    "    \n",
    "}\n",
    "\n",
    "fractal_biochemical_kinetics"
   ]
  },
  {
   "cell_type": "code",
   "execution_count": 80,
   "metadata": {},
   "outputs": [
    {
     "data": {
      "text/html": [
       "<table>\n",
       "<thead><tr><th scope=col>Biomass_type</th><th scope=col>Biochemical_composition</th><th scope=col>intercept</th><th scope=col>slope</th><th scope=col>r_sq</th><th scope=col>h</th><th scope=col>k1</th></tr></thead>\n",
       "<tbody>\n",
       "\t<tr><td>Green tea   </td><td>Lignin      </td><td>-0.5924339  </td><td>-0.9495719  </td><td>0.9516462   </td><td>0.9495719   </td><td>0.25560310  </td></tr>\n",
       "\t<tr><td>Rooibos tea </td><td>Lignin      </td><td>-1.0164253  </td><td>-1.3570685  </td><td>0.6150621   </td><td>1.3570685   </td><td>0.09628857  </td></tr>\n",
       "\t<tr><td>Green tea   </td><td>Hydrolyzable</td><td>-1.2330595  </td><td>-0.6119060  </td><td>0.9610390   </td><td>0.6119060   </td><td>0.05847100  </td></tr>\n",
       "\t<tr><td>Rooibos tea </td><td>Hydrolyzable</td><td>-1.8910531  </td><td>-0.4061517  </td><td>0.6724302   </td><td>0.4061517   </td><td>0.01285130  </td></tr>\n",
       "</tbody>\n",
       "</table>\n"
      ],
      "text/latex": [
       "\\begin{tabular}{r|lllllll}\n",
       " Biomass\\_type & Biochemical\\_composition & intercept & slope & r\\_sq & h & k1\\\\\n",
       "\\hline\n",
       "\t Green tea    & Lignin       & -0.5924339   & -0.9495719   & 0.9516462    & 0.9495719    & 0.25560310  \\\\\n",
       "\t Rooibos tea  & Lignin       & -1.0164253   & -1.3570685   & 0.6150621    & 1.3570685    & 0.09628857  \\\\\n",
       "\t Green tea    & Hydrolyzable & -1.2330595   & -0.6119060   & 0.9610390    & 0.6119060    & 0.05847100  \\\\\n",
       "\t Rooibos tea  & Hydrolyzable & -1.8910531   & -0.4061517   & 0.6724302    & 0.4061517    & 0.01285130  \\\\\n",
       "\\end{tabular}\n"
      ],
      "text/markdown": [
       "\n",
       "| Biomass_type | Biochemical_composition | intercept | slope | r_sq | h | k1 |\n",
       "|---|---|---|---|---|---|---|\n",
       "| Green tea    | Lignin       | -0.5924339   | -0.9495719   | 0.9516462    | 0.9495719    | 0.25560310   |\n",
       "| Rooibos tea  | Lignin       | -1.0164253   | -1.3570685   | 0.6150621    | 1.3570685    | 0.09628857   |\n",
       "| Green tea    | Hydrolyzable | -1.2330595   | -0.6119060   | 0.9610390    | 0.6119060    | 0.05847100   |\n",
       "| Rooibos tea  | Hydrolyzable | -1.8910531   | -0.4061517   | 0.6724302    | 0.4061517    | 0.01285130   |\n",
       "\n"
      ],
      "text/plain": [
       "  Biomass_type Biochemical_composition intercept  slope      r_sq     \n",
       "1 Green tea    Lignin                  -0.5924339 -0.9495719 0.9516462\n",
       "2 Rooibos tea  Lignin                  -1.0164253 -1.3570685 0.6150621\n",
       "3 Green tea    Hydrolyzable            -1.2330595 -0.6119060 0.9610390\n",
       "4 Rooibos tea  Hydrolyzable            -1.8910531 -0.4061517 0.6724302\n",
       "  h         k1        \n",
       "1 0.9495719 0.25560310\n",
       "2 1.3570685 0.09628857\n",
       "3 0.6119060 0.05847100\n",
       "4 0.4061517 0.01285130"
      ]
     },
     "metadata": {},
     "output_type": "display_data"
    }
   ],
   "source": [
    "fractal_biochemical_kinetics <-  fractal_biochemical_kinetics %>%\n",
    "  mutate(h = -slope,\n",
    "         k1 = 10^intercept)\n",
    "fractal_biochemical_kinetics"
   ]
  },
  {
   "cell_type": "code",
   "execution_count": 81,
   "metadata": {},
   "outputs": [
    {
     "ename": "ERROR",
     "evalue": "Error in eval(e, x, parent.frame()): objet 'Biomass type' introuvable\n",
     "output_type": "error",
     "traceback": [
      "Error in eval(e, x, parent.frame()): objet 'Biomass type' introuvable\nTraceback:\n",
      "1. subset(data_fractal, `Biomass type` == \"Rooibos tea\" & `Biochemical composition` == \n .     \"Lignin\")",
      "2. subset.data.frame(data_fractal, `Biomass type` == \"Rooibos tea\" & \n .     `Biochemical composition` == \"Lignin\")",
      "3. eval(e, x, parent.frame())",
      "4. eval(e, x, parent.frame())"
     ]
    }
   ],
   "source": [
    "data_LIC_rooibos <- subset(data_fractal, `Biomass type` == \"Rooibos tea\"  & `Biochemical composition` == \"Lignin\" )\n",
    "\n",
    "H_LIC_Rooibos = 0\n",
    "P_LIC_Rooibos = 1- H_LIC_Rooibos\n",
    "\n",
    "data_LIC_rooibos <- data_LIC_rooibos %>%\n",
    "                mutate(Time = (`Sampling period (days)`) ** P_LIC_Rooibos)%>%\n",
    "                select(`Sampling period (days)`, Time, `Log ratio LIC`, `Biomass type`)%>%\n",
    "                rename(Log = `Log ratio LIC`, `Biomass.type` = `Biomass type`, `Prelevement`= `Sampling period (days)`)\n",
    "\n",
    "data_LIC_rooibos <- rbind(data_LIC_rooibos, data.frame(\"Log\" = 0, \"Time\" = 0, \"Prelevement\" = 0,\n",
    "                                              \"Biomass.type\" = \"Rooibos tea\")) \n",
    "\n",
    "data_median_LIC_rooibos <- aggregate(cbind(Time, Log) ~ Prelevement + Biomass.type, data = data_LIC_rooibos, FUN = median)\n",
    "\n",
    "Slope = coef(lm(`Log` ~ `Time`, data_median_LIC_rooibos))[2]\n",
    "Intercept = coef(lm(`Log` ~ `Time`, data_median_LIC_rooibos))[1]\n",
    "R.squared = summary(lm(Log ~ Time, data_median_LIC_rooibos))$r.squared\n",
    "R.squared\n",
    "Slope\n",
    "Intercept"
   ]
  },
  {
   "cell_type": "markdown",
   "metadata": {},
   "source": [
    "### 13.5.2 Fractal of Rooibos tea Hydrolyzable content \n",
    "\n",
    "`H_Hydro_Rooibos = 0.5`"
   ]
  },
  {
   "cell_type": "code",
   "execution_count": null,
   "metadata": {},
   "outputs": [],
   "source": [
    "data_Hydro_rooibos <- subset(data_fractal, `Biomass type` == \"Rooibos tea\"  & `Biochemical composition` == \"Hydrolyzable\" )\n",
    "\n",
    "H_Hydro_Rooibos = 0.5\n",
    "P_Hydro_Rooibos = 1- H_Hydro_Rooibos\n",
    "\n",
    "data_Hydro_rooibos <- data_Hydro_rooibos %>%\n",
    "                mutate(Time = (`Sampling period (days)`) ** P_Hydro_Rooibos)%>%\n",
    "                select(`Sampling period (days)`, Time, `Log ratio Hydrolyzable`, `Biomass type`)%>%\n",
    "                rename(Log = `Log ratio Hydrolyzable`, `Biomass.type` = `Biomass type`, `Prelevement`= `Sampling period (days)`)\n",
    "\n",
    "data_Hydro_rooibos <- rbind(data_Hydro_rooibos, data.frame(\"Log\" = 0, \"Time\" = 0, \"Prelevement\" = 0,\n",
    "                                              \"Biomass.type\" = \"Rooibos tea\")) \n",
    "\n",
    "data_median_Hydro_rooibos <- aggregate(cbind(Time, Log) ~ Prelevement + Biomass.type, data = data_Hydro_rooibos, FUN = median)\n",
    "\n",
    "Slope = coef(lm(`Log` ~ `Time`, data_median_Hydro_rooibos))[2]\n",
    "Intercept = coef(lm(`Log` ~ `Time`, data_median_Hydro_rooibos))[1]\n",
    "R.squared = summary(lm(Log ~ Time, data_median_Hydro_rooibos))$r.squared\n",
    "R.squared\n",
    "Slope\n",
    "Intercept"
   ]
  },
  {
   "cell_type": "markdown",
   "metadata": {},
   "source": [
    "### 13.5.3 Fractal of Green tea Lignin content\n",
    "\n",
    "`H_LIC_Green = 0.96`"
   ]
  },
  {
   "cell_type": "code",
   "execution_count": null,
   "metadata": {},
   "outputs": [],
   "source": [
    "data_LIC_Green <- subset(data_fractal, `Biomass type` == \"Green tea\"  & `Biochemical composition` == \"Lignin\" )\n",
    "\n",
    "H_LIC_Green = 0.96\n",
    "P_LIC_Green = 1- H_LIC_Green\n",
    "\n",
    "data_LIC_Green <- data_LIC_Green %>%\n",
    "                mutate(Time = (`Sampling period (days)`) ** P_LIC_Green)%>%\n",
    "                select(`Sampling period (days)`, Time, `Log ratio LIC`, `Biomass type`)%>%\n",
    "                rename(Log = `Log ratio LIC`, `Biomass.type` = `Biomass type`, `Prelevement`= `Sampling period (days)`)\n",
    "\n",
    "data_LIC_Green <- rbind(data_LIC_Green, data.frame(\"Log\" = 0, \"Time\" = 0, \"Prelevement\" = 0,\n",
    "                                              \"Biomass.type\" = \"Green tea\")) \n",
    "\n",
    "data_median_LIC_Green <- aggregate(cbind(Time, Log) ~ Prelevement + Biomass.type, data = data_LIC_Green, FUN = median)\n",
    "\n",
    "Slope = coef(lm(`Log` ~ `Time`, data_median_LIC_Green))[2]\n",
    "Intercept = coef(lm(`Log` ~ `Time`, data_median_LIC_Green))[1]\n",
    "R.squared = summary(lm(Log ~ Time, data_median_LIC_Green))$r.squared\n",
    "R.squared\n",
    "Slope\n",
    "Intercept"
   ]
  },
  {
   "cell_type": "markdown",
   "metadata": {},
   "source": [
    "### 13.5.4 Fractal of Green tea Hydrolyzable content \n",
    "\n",
    "`H_Hydro_Green = 0.7`"
   ]
  },
  {
   "cell_type": "code",
   "execution_count": null,
   "metadata": {},
   "outputs": [],
   "source": [
    "data_Hydro_Green <- subset(data_fractal, `Biomass type` == \"Green tea\"  & `Biochemical composition` == \"Hydrolyzable\" )\n",
    "\n",
    "H_Hydro_Green = 0.7\n",
    "P_Hydro_Green = 1- H_Hydro_Green\n",
    "\n",
    "data_Hydro_Green <- data_Hydro_Green %>%\n",
    "                mutate(Time = (`Sampling period (days)`) ** P_Hydro_Green)%>%\n",
    "                select(`Sampling period (days)`, Time, `Log ratio Hydrolyzable`, `Biomass type`)%>%\n",
    "                rename(Log = `Log ratio Hydrolyzable`, `Biomass.type` = `Biomass type`, `Prelevement`= `Sampling period (days)`)\n",
    "\n",
    "data_Hydro_Green <- rbind(data_Hydro_Green, data.frame(\"Log\" = 0, \"Time\" = 0, \"Prelevement\" = 0,\n",
    "                                              \"Biomass.type\" = \"Green tea\")) \n",
    "\n",
    "data_median_Hydro_Green <- aggregate(cbind(Time, Log) ~ Prelevement + Biomass.type, data = data_Hydro_Green, FUN = median)\n",
    "\n",
    "Slope = coef(lm(`Log` ~ `Time`, data_median_Hydro_Green))[2]\n",
    "Intercept = coef(lm(`Log` ~ `Time`, data_median_Hydro_Green))[1]\n",
    "R.squared = summary(lm(Log ~ Time, data_median_Hydro_Green))$r.squared\n",
    "R.squared\n",
    "Slope\n",
    "Intercept"
   ]
  },
  {
   "cell_type": "code",
   "execution_count": null,
   "metadata": {},
   "outputs": [],
   "source": []
  },
  {
   "cell_type": "code",
   "execution_count": null,
   "metadata": {},
   "outputs": [],
   "source": []
  },
  {
   "cell_type": "code",
   "execution_count": null,
   "metadata": {},
   "outputs": [],
   "source": []
  },
  {
   "cell_type": "code",
   "execution_count": null,
   "metadata": {},
   "outputs": [],
   "source": []
  },
  {
   "cell_type": "code",
   "execution_count": null,
   "metadata": {},
   "outputs": [],
   "source": []
  },
  {
   "cell_type": "code",
   "execution_count": null,
   "metadata": {},
   "outputs": [],
   "source": []
  },
  {
   "cell_type": "code",
   "execution_count": null,
   "metadata": {},
   "outputs": [],
   "source": []
  }
 ],
 "metadata": {
  "kernelspec": {
   "display_name": "R",
   "language": "R",
   "name": "ir"
  },
  "language_info": {
   "codemirror_mode": "r",
   "file_extension": ".r",
   "mimetype": "text/x-r-source",
   "name": "R",
   "pygments_lexer": "r",
   "version": "3.6.1"
  }
 },
 "nbformat": 4,
 "nbformat_minor": 4
}
