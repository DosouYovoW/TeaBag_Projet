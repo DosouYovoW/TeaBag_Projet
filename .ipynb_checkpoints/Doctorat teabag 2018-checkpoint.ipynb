{
 "cells": [
  {
   "cell_type": "raw",
   "metadata": {},
   "source": [
    "setwd(\"C:/Users/WIDOY/Dropbox (Fertilisation)/DOCTORAT/THÈSE/TEA BAG DONNEES/AUTRES 2\")"
   ]
  },
  {
   "cell_type": "code",
   "execution_count": 110,
   "metadata": {},
   "outputs": [],
   "source": [
    "donnee_2018 <- read.csv2(\"donnee_2018.csv\", dec='.', sep=';')"
   ]
  },
  {
   "cell_type": "markdown",
   "metadata": {},
   "source": [
    "CHARGEMENT DES PACKAGES"
   ]
  },
  {
   "cell_type": "code",
   "execution_count": 111,
   "metadata": {},
   "outputs": [],
   "source": [
    "library(tidyverse) # imports ggplot2, dplyr, etc."
   ]
  },
  {
   "cell_type": "code",
   "execution_count": 59,
   "metadata": {},
   "outputs": [],
   "source": [
    "library(nlme)"
   ]
  },
  {
   "cell_type": "markdown",
   "metadata": {},
   "source": [
    " R²"
   ]
  },
  {
   "cell_type": "code",
   "execution_count": 60,
   "metadata": {},
   "outputs": [],
   "source": [
    "pseudoR2 <- function(y, y_hat) {\n",
    "  1 - (sum((y - y_hat)^2) / sum((y - mean(y))^2))\n",
    "}\n",
    "\n",
    "# Residuals\n",
    "residues <- function(model, level = 0, computeResidues = TRUE, residues,\n",
    "                     main = \"\") {\n",
    "  library(e1071)\n",
    "  if (computeResidues) {\n",
    "    r = residuals(model, type=\"normalized\", level)\n",
    "  } else {\n",
    "    r = residues\n",
    "  }\n",
    "  hist(r, freq=F, main = main, breaks=20)\n",
    "  xfit<-seq(min(r),max(r),length=40)\n",
    "  yfit<-dnorm(xfit)\n",
    "  lines(xfit, yfit, col=\"red\", lwd=2)\n",
    "  print(\"Shapiro-Wilk:\")\n",
    "  print(shapiro.test(r))\n",
    "  print(paste(\"Kurtosis:\", kurtosis(r)))\n",
    "  print(paste(\"Skewness:\", skewness(r)))\n",
    "}\n"
   ]
  },
  {
   "cell_type": "markdown",
   "metadata": {},
   "source": [
    " PREPROCESS"
   ]
  },
  {
   "cell_type": "code",
   "execution_count": 61,
   "metadata": {},
   "outputs": [
    {
     "name": "stderr",
     "output_type": "stream",
     "text": [
      "Warning message in eval(expr, envir, enclos):\n",
      "\"NAs introduits lors de la conversion automatique\""
     ]
    }
   ],
   "source": [
    "donnee_2018$Poids_final_g <- as.numeric(as.character(donnee_2018$Poids_final_g))"
   ]
  },
  {
   "cell_type": "code",
   "execution_count": 62,
   "metadata": {},
   "outputs": [],
   "source": [
    "donnee_2018$Poids_Contenu..g. <- as.numeric(donnee_2018$Poids_Contenu..g.)"
   ]
  },
  {
   "cell_type": "code",
   "execution_count": 63,
   "metadata": {},
   "outputs": [],
   "source": [
    "donnee_2018$PertePoids <- (donnee_2018$Poids_Contenu..g. - donnee_2018$Poids_final_g) / donnee_2018$Poids_Contenu..g."
   ]
  },
  {
   "cell_type": "code",
   "execution_count": null,
   "metadata": {},
   "outputs": [],
   "source": []
  },
  {
   "cell_type": "code",
   "execution_count": null,
   "metadata": {},
   "outputs": [],
   "source": []
  },
  {
   "cell_type": "code",
   "execution_count": null,
   "metadata": {},
   "outputs": [],
   "source": []
  },
  {
   "cell_type": "code",
   "execution_count": null,
   "metadata": {},
   "outputs": [],
   "source": []
  },
  {
   "cell_type": "code",
   "execution_count": 64,
   "metadata": {},
   "outputs": [
    {
     "name": "stdout",
     "output_type": "stream",
     "text": [
      "Observations: 3,360\n",
      "Variables: 12\n",
      "$ NoOriginal        <fct> 946G, 947G, 948G, 949G, 950G, 951G, 952G, 953G, 9...\n",
      "$ Farmers           <fct> Fortier, Fortier, Fortier, Fortier, Fortier, Fort...\n",
      "$ Site              <fct> 45, 45, 45, 45, 45, 45, 45, 45, 45, 45, 45, 45, 4...\n",
      "$ Regie             <fct> Conventionel, Conventionel, Conventionel, Convent...\n",
      "$ Prélèvement       <int> 1, 1, 1, 1, 1, 1, 1, 1, 1, 1, 1, 1, 1, 1, 1, 1, 1...\n",
      "$ TeaType           <fct> Green tea, Green tea, Green tea, Green tea, Green...\n",
      "$ Répétition        <int> 1, 1, 1, 1, 1, 1, 1, 1, 1, 1, 1, 1, 1, 1, 1, 1, 1...\n",
      "$ Poids_Contenu..g. <dbl> 1.774, 1.802, 1.810, 1.754, 1.751, 1.785, 1.793, ...\n",
      "$ Poids_Total._g    <fct> 2.127, 2.159, 2.171, 2.11, 2.108, 2.145, 2.151, 2...\n",
      "$ Poids_sac._g      <dbl> 0.353, 0.357, 0.361, 0.357, 0.357, 0.359, 0.361, ...\n",
      "$ Poids_final_g     <dbl> 1.0455, 1.0219, 1.0950, 1.0212, 1.0413, 1.0841, 1...\n",
      "$ PertePoids        <dbl> 0.4106539, 0.4329079, 0.3950276, 0.4177879, 0.405...\n"
     ]
    }
   ],
   "source": [
    "glimpse(donnee_2018)"
   ]
  },
  {
   "cell_type": "code",
   "execution_count": 65,
   "metadata": {},
   "outputs": [],
   "source": [
    "# Label repetitions in such a way they are unique per field and dose\n",
    "donnee_2018$DoseRepPrel = paste0(donnee_2018$Dose, '_', donnee_2018$Repetition,'_', donnee_2018$Site, '_', \n",
    "                            donnee_2018$Prélèvement)\n",
    "#donnee_2018_CNS$DoseRep = paste0(donnee_2018$Dose, '_', donnee_2018$Repetition)"
   ]
  },
  {
   "cell_type": "code",
   "execution_count": 66,
   "metadata": {},
   "outputs": [],
   "source": [
    "# Cranberry residues are the reference to assess the effect\n",
    "# of the kind of matter analysed\n",
    "donnee_2018$TeaType = relevel(donnee_2018$TeaType, ref = 'Cranberry litter')\n",
    "#donnee_2018$TeaType = relevel(donnee_2018$SorteThe, ref = 'ResidusCanneberge')\n",
    "#donnee_2018_CNS$SorteThe = relevel(donnee_2018_CNS$SorteThe, ref = 'ResidusCanneberge')\n",
    "\n",
    "######################\n",
    "# "
   ]
  },
  {
   "cell_type": "markdown",
   "metadata": {},
   "source": [
    "MODELISATION MIXTE \n",
    "1. What's affecting weight difference?\n",
    " prepare data"
   ]
  },
  {
   "cell_type": "code",
   "execution_count": 67,
   "metadata": {},
   "outputs": [],
   "source": [
    "weightdiff_data_2018 = donnee_2018 %>%\n",
    "  select(PertePoids,#C_over_N,\n",
    "         TeaType, Farmers,Prélèvement, Site, DoseRepPrel) %>%\n",
    "  drop_na(.) %>%\n",
    "  droplevels(.)"
   ]
  },
  {
   "cell_type": "code",
   "execution_count": 68,
   "metadata": {},
   "outputs": [],
   "source": [
    "weightdiff_data_factor_2018 <- weightdiff_data_2018"
   ]
  },
  {
   "cell_type": "code",
   "execution_count": 69,
   "metadata": {},
   "outputs": [],
   "source": [
    "weightdiff_data_factor_2018$TeaType <- factor(weightdiff_data_2018$TeaType, \n",
    "                                         levels = levels(weightdiff_data_2018$TeaType)[c(2,3,1)]) # Reorder"
   ]
  },
  {
   "cell_type": "code",
   "execution_count": 70,
   "metadata": {},
   "outputs": [
    {
     "data": {},
     "metadata": {},
     "output_type": "display_data"
    },
    {
     "data": {
      "image/png": "[encoded data removed]",
      "text/plain": [
       "plot without title"
      ]
     },
     "metadata": {},
     "output_type": "display_data",
     "source": "R display func"
    }
   ],
   "source": [
    "ggplot(weightdiff_data_factor_2018, aes(x=Prélèvement, y=PertePoids)) +\n",
    "  facet_grid(. ~ TeaType) +\n",
    "  geom_smooth(method='lm') +\n",
    "  labs(x = expression(\"Prélèvement (Semaines)\"),\n",
    "       y = \"PertePoids (g)\") +     #expression(frac(-ln(frac(Final~weight, Initial~weight)), 90))) +\n",
    "  geom_point()"
   ]
  },
  {
   "cell_type": "code",
   "execution_count": 71,
   "metadata": {},
   "outputs": [],
   "source": [
    "ggsave(\"Figure1.png\", width = 10, height = 6, dpi = 600)# export plot high resolution"
   ]
  },
  {
   "cell_type": "code",
   "execution_count": 72,
   "metadata": {},
   "outputs": [],
   "source": [
    "##############\n",
    "library(ggplot2)\n",
    "# Basic line plot with points\n",
    "#donnee_moy <- aggregate(PertePoids ~ Prélèvement +  TeaType, data = donnee_2018, FUN = mean)\n",
    "#donnee_sd <- aggregate(PertePoids ~ Prélèvement +  TeaType, data = donnee_2018, FUN = sd)\n",
    "\n",
    "#str(donnee_moy)\n",
    "#ggplot(data=donnee_moy, aes(x=Prélèvement, y=PertePoids, group=TeaType)) +\n",
    "#  geom_line()+\n",
    " # geom_point()"
   ]
  },
  {
   "cell_type": "code",
   "execution_count": 73,
   "metadata": {},
   "outputs": [],
   "source": [
    "#?aggregate"
   ]
  },
  {
   "cell_type": "code",
   "execution_count": 74,
   "metadata": {},
   "outputs": [],
   "source": [
    "donnee_mean_sd <- data.frame(aggregate(PertePoids ~ Prélèvement +  TeaType, data = donnee_2018, FUN = mean),\n",
    "                            sd = aggregate(PertePoids ~ Prélèvement +  TeaType, data = donnee_2018, FUN = sd))"
   ]
  },
  {
   "cell_type": "code",
   "execution_count": 75,
   "metadata": {},
   "outputs": [
    {
     "data": {
      "text/html": [
       "<table>\n",
       "<thead><tr><th scope=col>Prélèvement</th><th scope=col>TeaType</th><th scope=col>PertePoids</th><th scope=col>sd.Prélèvement</th><th scope=col>sd.TeaType</th><th scope=col>sd.PertePoids</th></tr></thead>\n",
       "<tbody>\n",
       "\t<tr><td>1               </td><td>Cranberry litter</td><td>-0.026479607    </td><td>1               </td><td>Cranberry litter</td><td>0.02596777      </td></tr>\n",
       "\t<tr><td>2               </td><td>Cranberry litter</td><td>-0.026168378    </td><td>2               </td><td>Cranberry litter</td><td>0.05913304      </td></tr>\n",
       "\t<tr><td>3               </td><td>Cranberry litter</td><td> 0.007059908    </td><td>3               </td><td>Cranberry litter</td><td>0.02693037      </td></tr>\n",
       "\t<tr><td>4               </td><td>Cranberry litter</td><td> 0.033107677    </td><td>4               </td><td>Cranberry litter</td><td>0.04116150      </td></tr>\n",
       "\t<tr><td>5               </td><td>Cranberry litter</td><td> 0.067594813    </td><td>5               </td><td>Cranberry litter</td><td>0.03131521      </td></tr>\n",
       "\t<tr><td>7               </td><td>Cranberry litter</td><td> 0.147924319    </td><td>7               </td><td>Cranberry litter</td><td>0.06048507      </td></tr>\n",
       "</tbody>\n",
       "</table>\n"
      ],
      "text/latex": [
       "\\begin{tabular}{r|llllll}\n",
       " Prélèvement & TeaType & PertePoids & sd.Prélèvement & sd.TeaType & sd.PertePoids\\\\\n",
       "\\hline\n",
       "\t 1                & Cranberry litter & -0.026479607     & 1                & Cranberry litter & 0.02596777      \\\\\n",
       "\t 2                & Cranberry litter & -0.026168378     & 2                & Cranberry litter & 0.05913304      \\\\\n",
       "\t 3                & Cranberry litter &  0.007059908     & 3                & Cranberry litter & 0.02693037      \\\\\n",
       "\t 4                & Cranberry litter &  0.033107677     & 4                & Cranberry litter & 0.04116150      \\\\\n",
       "\t 5                & Cranberry litter &  0.067594813     & 5                & Cranberry litter & 0.03131521      \\\\\n",
       "\t 7                & Cranberry litter &  0.147924319     & 7                & Cranberry litter & 0.06048507      \\\\\n",
       "\\end{tabular}\n"
      ],
      "text/markdown": [
       "\n",
       "Prélèvement | TeaType | PertePoids | sd.Prélèvement | sd.TeaType | sd.PertePoids | \n",
       "|---|---|---|---|---|---|\n",
       "| 1                | Cranberry litter | -0.026479607     | 1                | Cranberry litter | 0.02596777       | \n",
       "| 2                | Cranberry litter | -0.026168378     | 2                | Cranberry litter | 0.05913304       | \n",
       "| 3                | Cranberry litter |  0.007059908     | 3                | Cranberry litter | 0.02693037       | \n",
       "| 4                | Cranberry litter |  0.033107677     | 4                | Cranberry litter | 0.04116150       | \n",
       "| 5                | Cranberry litter |  0.067594813     | 5                | Cranberry litter | 0.03131521       | \n",
       "| 7                | Cranberry litter |  0.147924319     | 7                | Cranberry litter | 0.06048507       | \n",
       "\n",
       "\n"
      ],
      "text/plain": [
       "  Prélèvement TeaType          PertePoids   sd.Prélèvement sd.TeaType      \n",
       "1 1           Cranberry litter -0.026479607 1              Cranberry litter\n",
       "2 2           Cranberry litter -0.026168378 2              Cranberry litter\n",
       "3 3           Cranberry litter  0.007059908 3              Cranberry litter\n",
       "4 4           Cranberry litter  0.033107677 4              Cranberry litter\n",
       "5 5           Cranberry litter  0.067594813 5              Cranberry litter\n",
       "6 7           Cranberry litter  0.147924319 7              Cranberry litter\n",
       "  sd.PertePoids\n",
       "1 0.02596777   \n",
       "2 0.05913304   \n",
       "3 0.02693037   \n",
       "4 0.04116150   \n",
       "5 0.03131521   \n",
       "6 0.06048507   "
      ]
     },
     "metadata": {},
     "output_type": "display_data"
    }
   ],
   "source": [
    "head(donnee_mean_sd)"
   ]
  },
  {
   "cell_type": "code",
   "execution_count": 76,
   "metadata": {},
   "outputs": [],
   "source": [
    "donnee_mean_sd$sd.Prélèvement<- NULL\n",
    "donnee_mean_sd$sd.TeaType <- NULL"
   ]
  },
  {
   "cell_type": "code",
   "execution_count": 77,
   "metadata": {},
   "outputs": [
    {
     "data": {
      "text/html": [
       "<table>\n",
       "<thead><tr><th scope=col>Prélèvement</th><th scope=col>TeaType</th><th scope=col>PertePoids</th><th scope=col>sd.PertePoids</th></tr></thead>\n",
       "<tbody>\n",
       "\t<tr><td>1               </td><td>Cranberry litter</td><td>-0.026479607    </td><td>0.02596777      </td></tr>\n",
       "\t<tr><td>2               </td><td>Cranberry litter</td><td>-0.026168378    </td><td>0.05913304      </td></tr>\n",
       "\t<tr><td>3               </td><td>Cranberry litter</td><td> 0.007059908    </td><td>0.02693037      </td></tr>\n",
       "\t<tr><td>4               </td><td>Cranberry litter</td><td> 0.033107677    </td><td>0.04116150      </td></tr>\n",
       "\t<tr><td>5               </td><td>Cranberry litter</td><td> 0.067594813    </td><td>0.03131521      </td></tr>\n",
       "\t<tr><td>7               </td><td>Cranberry litter</td><td> 0.147924319    </td><td>0.06048507      </td></tr>\n",
       "</tbody>\n",
       "</table>\n"
      ],
      "text/latex": [
       "\\begin{tabular}{r|llll}\n",
       " Prélèvement & TeaType & PertePoids & sd.PertePoids\\\\\n",
       "\\hline\n",
       "\t 1                & Cranberry litter & -0.026479607     & 0.02596777      \\\\\n",
       "\t 2                & Cranberry litter & -0.026168378     & 0.05913304      \\\\\n",
       "\t 3                & Cranberry litter &  0.007059908     & 0.02693037      \\\\\n",
       "\t 4                & Cranberry litter &  0.033107677     & 0.04116150      \\\\\n",
       "\t 5                & Cranberry litter &  0.067594813     & 0.03131521      \\\\\n",
       "\t 7                & Cranberry litter &  0.147924319     & 0.06048507      \\\\\n",
       "\\end{tabular}\n"
      ],
      "text/markdown": [
       "\n",
       "Prélèvement | TeaType | PertePoids | sd.PertePoids | \n",
       "|---|---|---|---|---|---|\n",
       "| 1                | Cranberry litter | -0.026479607     | 0.02596777       | \n",
       "| 2                | Cranberry litter | -0.026168378     | 0.05913304       | \n",
       "| 3                | Cranberry litter |  0.007059908     | 0.02693037       | \n",
       "| 4                | Cranberry litter |  0.033107677     | 0.04116150       | \n",
       "| 5                | Cranberry litter |  0.067594813     | 0.03131521       | \n",
       "| 7                | Cranberry litter |  0.147924319     | 0.06048507       | \n",
       "\n",
       "\n"
      ],
      "text/plain": [
       "  Prélèvement TeaType          PertePoids   sd.PertePoids\n",
       "1 1           Cranberry litter -0.026479607 0.02596777   \n",
       "2 2           Cranberry litter -0.026168378 0.05913304   \n",
       "3 3           Cranberry litter  0.007059908 0.02693037   \n",
       "4 4           Cranberry litter  0.033107677 0.04116150   \n",
       "5 5           Cranberry litter  0.067594813 0.03131521   \n",
       "6 7           Cranberry litter  0.147924319 0.06048507   "
      ]
     },
     "metadata": {},
     "output_type": "display_data"
    }
   ],
   "source": [
    "head(donnee_mean_sd)"
   ]
  },
  {
   "cell_type": "code",
   "execution_count": 78,
   "metadata": {},
   "outputs": [],
   "source": [
    "colnames(donnee_mean_sd)[4]<- 'sd' "
   ]
  },
  {
   "cell_type": "code",
   "execution_count": 79,
   "metadata": {},
   "outputs": [
    {
     "data": {
      "text/html": [
       "<table>\n",
       "<thead><tr><th scope=col>Prélèvement</th><th scope=col>TeaType</th><th scope=col>PertePoids</th><th scope=col>sd</th></tr></thead>\n",
       "<tbody>\n",
       "\t<tr><td>1               </td><td>Cranberry litter</td><td>-0.026479607    </td><td>0.02596777      </td></tr>\n",
       "\t<tr><td>2               </td><td>Cranberry litter</td><td>-0.026168378    </td><td>0.05913304      </td></tr>\n",
       "\t<tr><td>3               </td><td>Cranberry litter</td><td> 0.007059908    </td><td>0.02693037      </td></tr>\n",
       "\t<tr><td>4               </td><td>Cranberry litter</td><td> 0.033107677    </td><td>0.04116150      </td></tr>\n",
       "\t<tr><td>5               </td><td>Cranberry litter</td><td> 0.067594813    </td><td>0.03131521      </td></tr>\n",
       "\t<tr><td>7               </td><td>Cranberry litter</td><td> 0.147924319    </td><td>0.06048507      </td></tr>\n",
       "\t<tr><td>1               </td><td>Green tea       </td><td> 0.357728085    </td><td>0.07916717      </td></tr>\n",
       "\t<tr><td>2               </td><td>Green tea       </td><td> 0.448230977    </td><td>0.03163775      </td></tr>\n",
       "\t<tr><td>3               </td><td>Green tea       </td><td> 0.525909928    </td><td>0.04403647      </td></tr>\n",
       "\t<tr><td>4               </td><td>Green tea       </td><td> 0.553113963    </td><td>0.05845648      </td></tr>\n",
       "\t<tr><td>5               </td><td>Green tea       </td><td> 0.522479695    </td><td>0.02950286      </td></tr>\n",
       "\t<tr><td>7               </td><td>Green tea       </td><td> 0.580477057    </td><td>0.06674430      </td></tr>\n",
       "\t<tr><td>1               </td><td>Rooibos tea     </td><td> 0.119693838    </td><td>0.03268486      </td></tr>\n",
       "\t<tr><td>2               </td><td>Rooibos tea     </td><td> 0.167902991    </td><td>0.03189055      </td></tr>\n",
       "\t<tr><td>3               </td><td>Rooibos tea     </td><td> 0.232317806    </td><td>0.03003049      </td></tr>\n",
       "\t<tr><td>4               </td><td>Rooibos tea     </td><td> 0.250646785    </td><td>0.03524150      </td></tr>\n",
       "\t<tr><td>5               </td><td>Rooibos tea     </td><td> 0.288727645    </td><td>0.03789440      </td></tr>\n",
       "\t<tr><td>7               </td><td>Rooibos tea     </td><td> 0.321402559    </td><td>0.05839478      </td></tr>\n",
       "</tbody>\n",
       "</table>\n"
      ],
      "text/latex": [
       "\\begin{tabular}{r|llll}\n",
       " Prélèvement & TeaType & PertePoids & sd\\\\\n",
       "\\hline\n",
       "\t 1                & Cranberry litter & -0.026479607     & 0.02596777      \\\\\n",
       "\t 2                & Cranberry litter & -0.026168378     & 0.05913304      \\\\\n",
       "\t 3                & Cranberry litter &  0.007059908     & 0.02693037      \\\\\n",
       "\t 4                & Cranberry litter &  0.033107677     & 0.04116150      \\\\\n",
       "\t 5                & Cranberry litter &  0.067594813     & 0.03131521      \\\\\n",
       "\t 7                & Cranberry litter &  0.147924319     & 0.06048507      \\\\\n",
       "\t 1                & Green tea        &  0.357728085     & 0.07916717      \\\\\n",
       "\t 2                & Green tea        &  0.448230977     & 0.03163775      \\\\\n",
       "\t 3                & Green tea        &  0.525909928     & 0.04403647      \\\\\n",
       "\t 4                & Green tea        &  0.553113963     & 0.05845648      \\\\\n",
       "\t 5                & Green tea        &  0.522479695     & 0.02950286      \\\\\n",
       "\t 7                & Green tea        &  0.580477057     & 0.06674430      \\\\\n",
       "\t 1                & Rooibos tea      &  0.119693838     & 0.03268486      \\\\\n",
       "\t 2                & Rooibos tea      &  0.167902991     & 0.03189055      \\\\\n",
       "\t 3                & Rooibos tea      &  0.232317806     & 0.03003049      \\\\\n",
       "\t 4                & Rooibos tea      &  0.250646785     & 0.03524150      \\\\\n",
       "\t 5                & Rooibos tea      &  0.288727645     & 0.03789440      \\\\\n",
       "\t 7                & Rooibos tea      &  0.321402559     & 0.05839478      \\\\\n",
       "\\end{tabular}\n"
      ],
      "text/markdown": [
       "\n",
       "Prélèvement | TeaType | PertePoids | sd | \n",
       "|---|---|---|---|---|---|---|---|---|---|---|---|---|---|---|---|---|---|\n",
       "| 1                | Cranberry litter | -0.026479607     | 0.02596777       | \n",
       "| 2                | Cranberry litter | -0.026168378     | 0.05913304       | \n",
       "| 3                | Cranberry litter |  0.007059908     | 0.02693037       | \n",
       "| 4                | Cranberry litter |  0.033107677     | 0.04116150       | \n",
       "| 5                | Cranberry litter |  0.067594813     | 0.03131521       | \n",
       "| 7                | Cranberry litter |  0.147924319     | 0.06048507       | \n",
       "| 1                | Green tea        |  0.357728085     | 0.07916717       | \n",
       "| 2                | Green tea        |  0.448230977     | 0.03163775       | \n",
       "| 3                | Green tea        |  0.525909928     | 0.04403647       | \n",
       "| 4                | Green tea        |  0.553113963     | 0.05845648       | \n",
       "| 5                | Green tea        |  0.522479695     | 0.02950286       | \n",
       "| 7                | Green tea        |  0.580477057     | 0.06674430       | \n",
       "| 1                | Rooibos tea      |  0.119693838     | 0.03268486       | \n",
       "| 2                | Rooibos tea      |  0.167902991     | 0.03189055       | \n",
       "| 3                | Rooibos tea      |  0.232317806     | 0.03003049       | \n",
       "| 4                | Rooibos tea      |  0.250646785     | 0.03524150       | \n",
       "| 5                | Rooibos tea      |  0.288727645     | 0.03789440       | \n",
       "| 7                | Rooibos tea      |  0.321402559     | 0.05839478       | \n",
       "\n",
       "\n"
      ],
      "text/plain": [
       "   Prélèvement TeaType          PertePoids   sd        \n",
       "1  1           Cranberry litter -0.026479607 0.02596777\n",
       "2  2           Cranberry litter -0.026168378 0.05913304\n",
       "3  3           Cranberry litter  0.007059908 0.02693037\n",
       "4  4           Cranberry litter  0.033107677 0.04116150\n",
       "5  5           Cranberry litter  0.067594813 0.03131521\n",
       "6  7           Cranberry litter  0.147924319 0.06048507\n",
       "7  1           Green tea         0.357728085 0.07916717\n",
       "8  2           Green tea         0.448230977 0.03163775\n",
       "9  3           Green tea         0.525909928 0.04403647\n",
       "10 4           Green tea         0.553113963 0.05845648\n",
       "11 5           Green tea         0.522479695 0.02950286\n",
       "12 7           Green tea         0.580477057 0.06674430\n",
       "13 1           Rooibos tea       0.119693838 0.03268486\n",
       "14 2           Rooibos tea       0.167902991 0.03189055\n",
       "15 3           Rooibos tea       0.232317806 0.03003049\n",
       "16 4           Rooibos tea       0.250646785 0.03524150\n",
       "17 5           Rooibos tea       0.288727645 0.03789440\n",
       "18 7           Rooibos tea       0.321402559 0.05839478"
      ]
     },
     "metadata": {},
     "output_type": "display_data"
    }
   ],
   "source": [
    "donnee_mean_sd"
   ]
  },
  {
   "cell_type": "code",
   "execution_count": 80,
   "metadata": {},
   "outputs": [],
   "source": [
    "#donnee_moy"
   ]
  },
  {
   "cell_type": "code",
   "execution_count": 81,
   "metadata": {},
   "outputs": [],
   "source": [
    "#donnee_moy$sd <- sd(donnee_2018$PertePoids )"
   ]
  },
  {
   "cell_type": "code",
   "execution_count": 82,
   "metadata": {},
   "outputs": [],
   "source": [
    "#donnee_moy"
   ]
  },
  {
   "cell_type": "code",
   "execution_count": 83,
   "metadata": {},
   "outputs": [],
   "source": [
    "# Change the line type\n",
    "#ggplot(data=donnee_moy, aes(x=Prélèvement, y=PertePoids, group= TeaType)) +\n",
    " # geom_line(linetype = \"dashed\")+\n",
    " # geom_point()"
   ]
  },
  {
   "cell_type": "code",
   "execution_count": 84,
   "metadata": {},
   "outputs": [
    {
     "data": {
      "text/html": [
       "<table>\n",
       "<thead><tr><th scope=col>Prélèvement</th><th scope=col>TeaType</th><th scope=col>PertePoids</th><th scope=col>sd</th></tr></thead>\n",
       "<tbody>\n",
       "\t<tr><td>1               </td><td>Cranberry litter</td><td>-0.026479607    </td><td>0.02596777      </td></tr>\n",
       "\t<tr><td>2               </td><td>Cranberry litter</td><td>-0.026168378    </td><td>0.05913304      </td></tr>\n",
       "\t<tr><td>3               </td><td>Cranberry litter</td><td> 0.007059908    </td><td>0.02693037      </td></tr>\n",
       "\t<tr><td>4               </td><td>Cranberry litter</td><td> 0.033107677    </td><td>0.04116150      </td></tr>\n",
       "\t<tr><td>5               </td><td>Cranberry litter</td><td> 0.067594813    </td><td>0.03131521      </td></tr>\n",
       "\t<tr><td>7               </td><td>Cranberry litter</td><td> 0.147924319    </td><td>0.06048507      </td></tr>\n",
       "</tbody>\n",
       "</table>\n"
      ],
      "text/latex": [
       "\\begin{tabular}{r|llll}\n",
       " Prélèvement & TeaType & PertePoids & sd\\\\\n",
       "\\hline\n",
       "\t 1                & Cranberry litter & -0.026479607     & 0.02596777      \\\\\n",
       "\t 2                & Cranberry litter & -0.026168378     & 0.05913304      \\\\\n",
       "\t 3                & Cranberry litter &  0.007059908     & 0.02693037      \\\\\n",
       "\t 4                & Cranberry litter &  0.033107677     & 0.04116150      \\\\\n",
       "\t 5                & Cranberry litter &  0.067594813     & 0.03131521      \\\\\n",
       "\t 7                & Cranberry litter &  0.147924319     & 0.06048507      \\\\\n",
       "\\end{tabular}\n"
      ],
      "text/markdown": [
       "\n",
       "Prélèvement | TeaType | PertePoids | sd | \n",
       "|---|---|---|---|---|---|\n",
       "| 1                | Cranberry litter | -0.026479607     | 0.02596777       | \n",
       "| 2                | Cranberry litter | -0.026168378     | 0.05913304       | \n",
       "| 3                | Cranberry litter |  0.007059908     | 0.02693037       | \n",
       "| 4                | Cranberry litter |  0.033107677     | 0.04116150       | \n",
       "| 5                | Cranberry litter |  0.067594813     | 0.03131521       | \n",
       "| 7                | Cranberry litter |  0.147924319     | 0.06048507       | \n",
       "\n",
       "\n"
      ],
      "text/plain": [
       "  Prélèvement TeaType          PertePoids   sd        \n",
       "1 1           Cranberry litter -0.026479607 0.02596777\n",
       "2 2           Cranberry litter -0.026168378 0.05913304\n",
       "3 3           Cranberry litter  0.007059908 0.02693037\n",
       "4 4           Cranberry litter  0.033107677 0.04116150\n",
       "5 5           Cranberry litter  0.067594813 0.03131521\n",
       "6 7           Cranberry litter  0.147924319 0.06048507"
      ]
     },
     "metadata": {},
     "output_type": "display_data"
    }
   ],
   "source": [
    "head(donnee_mean_sd)"
   ]
  },
  {
   "cell_type": "code",
   "execution_count": 85,
   "metadata": {},
   "outputs": [
    {
     "data": {},
     "metadata": {},
     "output_type": "display_data"
    },
    {
     "data": {
      "image/png": "[encoded data removed]",
      "text/plain": [
       "plot without title"
      ]
     },
     "metadata": {},
     "output_type": "display_data",
     "source": "R display func"
    }
   ],
   "source": [
    "# Change the color\n",
    "ggplot(data=donnee_mean_sd, aes(x=Prélèvement , y=PertePoids , group=TeaType)) +\n",
    "  geom_line(aes(color=TeaType))+\n",
    "  geom_point(aes(color=TeaType)) +\n",
    "  geom_errorbar(aes(ymin=PertePoids-sd, ymax=PertePoids+sd), width=.1, \n",
    "                position=position_dodge(0.05)) #+\n",
    "  #geom_line() + geom_point()+\n",
    "  #scale_color_brewer(palette=\"Paired\")+theme_minimal()"
   ]
  },
  {
   "cell_type": "code",
   "execution_count": 86,
   "metadata": {},
   "outputs": [],
   "source": [
    "ggsave(\"Figure10.png\", width = 10, height = 6, dpi = 600)# export plot high resolution"
   ]
  },
  {
   "cell_type": "code",
   "execution_count": 87,
   "metadata": {},
   "outputs": [
    {
     "data": {},
     "metadata": {},
     "output_type": "display_data"
    },
    {
     "data": {
      "image/png": "[encoded data removed]",
      "text/plain": [
       "plot without title"
      ]
     },
     "metadata": {},
     "output_type": "display_data",
     "source": "R display func"
    }
   ],
   "source": [
    "options(repr.plot.width=6, repr.plot.height=4)\n",
    "ggplot(data=donnee_mean_sd, aes(x=Prélèvement, y=PertePoids, fill=TeaType)) + \n",
    "  geom_bar(stat=\"identity\", color=\"black\", position=position_dodge()) +\n",
    "  geom_errorbar(aes(ymin=PertePoids-sd, ymax=PertePoids+sd), width=.2,\n",
    "                 position=position_dodge(.9)) "
   ]
  },
  {
   "cell_type": "raw",
   "metadata": {},
   "source": [
    "# vérifier comment le modèle se comporte\n",
    "wfrac_f <- function(a, k, t, h) a*exp(-k*t^(1-h)) + (1-a)\n",
    "t <- seq(0, 120, 1)\n",
    "wfrac <- wfrac_f(a = 2, k = 0.25, t = t, h = 0)\n",
    "plot(t, wfrac, type='l')\n",
    "lines(t, wfrac_f(a = 2, k = 0.25, t = t, h = 0.9), col = 'red')"
   ]
  },
  {
   "cell_type": "raw",
   "metadata": {},
   "source": [
    "# lisser le modèle non linéaire\n",
    "t <- seq(0, 7, 1) *21\n",
    "wfrac <- wfrac_f(a = 0.8, k = 0.05, t = t, h = 0.2) + rnorm(length(t), 0, 0.01)\n",
    "plot(t, wfrac)\n",
    "df <- data.frame(t, W = wfrac)\n",
    "md_nl <- nls(W ~ a*exp(-k*t^(1-h)) + (1-a),\n",
    "data = df,\n",
    "start = list(a = 0.5, k = 0.02, h = 0.3),\n",
    "algorithm = \"plinear\")\n",
    "md_nl\n",
    "newdata = data.frame(t = 0:150)\n",
    "W_fit <- predict(md_nl, newdata = newdata)\n",
    "lines(newdata$t, W_fit, col = \"red\", lty = 2)"
   ]
  },
  {
   "cell_type": "raw",
   "metadata": {},
   "source": [
    "wfrac"
   ]
  },
  {
   "cell_type": "raw",
   "metadata": {},
   "source": [
    "df"
   ]
  },
  {
   "cell_type": "code",
   "execution_count": 92,
   "metadata": {},
   "outputs": [],
   "source": [
    "donnee_2018$M_surM0 <- donnee_2018$Poids_final_g / donnee_2018$Poids_Contenu..g."
   ]
  },
  {
   "cell_type": "code",
   "execution_count": 175,
   "metadata": {},
   "outputs": [],
   "source": [
    "date <- as.Date(c(\"05/14/2018\", \"06/04/2018\", \"06/25/2018\", \"07/16/2018\", \"08/06/2018\",\n",
    "                \"08/27/2018\", \"09/17/2018\", \"10/08/2018\"), format = \"%m/%d/%Y\")\n"
   ]
  },
  {
   "cell_type": "code",
   "execution_count": null,
   "metadata": {},
   "outputs": [],
   "source": []
  },
  {
   "cell_type": "code",
   "execution_count": 176,
   "metadata": {},
   "outputs": [],
   "source": [
    "Prélèvement <- 0:7"
   ]
  },
  {
   "cell_type": "code",
   "execution_count": 177,
   "metadata": {},
   "outputs": [],
   "source": [
    "donnee0 <- data.frame(date, Prélèvement)"
   ]
  },
  {
   "cell_type": "code",
   "execution_count": 178,
   "metadata": {},
   "outputs": [
    {
     "data": {
      "text/html": [
       "<table>\n",
       "<thead><tr><th scope=col>date</th><th scope=col>Prélèvement</th></tr></thead>\n",
       "<tbody>\n",
       "\t<tr><td>2018-05-14</td><td>0         </td></tr>\n",
       "\t<tr><td>2018-06-04</td><td>1         </td></tr>\n",
       "\t<tr><td>2018-06-25</td><td>2         </td></tr>\n",
       "\t<tr><td>2018-07-16</td><td>3         </td></tr>\n",
       "\t<tr><td>2018-08-06</td><td>4         </td></tr>\n",
       "\t<tr><td>2018-08-27</td><td>5         </td></tr>\n",
       "\t<tr><td>2018-09-17</td><td>6         </td></tr>\n",
       "\t<tr><td>2018-10-08</td><td>7         </td></tr>\n",
       "</tbody>\n",
       "</table>\n"
      ],
      "text/latex": [
       "\\begin{tabular}{r|ll}\n",
       " date & Prélèvement\\\\\n",
       "\\hline\n",
       "\t 2018-05-14 & 0         \\\\\n",
       "\t 2018-06-04 & 1         \\\\\n",
       "\t 2018-06-25 & 2         \\\\\n",
       "\t 2018-07-16 & 3         \\\\\n",
       "\t 2018-08-06 & 4         \\\\\n",
       "\t 2018-08-27 & 5         \\\\\n",
       "\t 2018-09-17 & 6         \\\\\n",
       "\t 2018-10-08 & 7         \\\\\n",
       "\\end{tabular}\n"
      ],
      "text/markdown": [
       "\n",
       "date | Prélèvement | \n",
       "|---|---|---|---|---|---|---|---|\n",
       "| 2018-05-14 | 0          | \n",
       "| 2018-06-04 | 1          | \n",
       "| 2018-06-25 | 2          | \n",
       "| 2018-07-16 | 3          | \n",
       "| 2018-08-06 | 4          | \n",
       "| 2018-08-27 | 5          | \n",
       "| 2018-09-17 | 6          | \n",
       "| 2018-10-08 | 7          | \n",
       "\n",
       "\n"
      ],
      "text/plain": [
       "  date       Prélèvement\n",
       "1 2018-05-14 0          \n",
       "2 2018-06-04 1          \n",
       "3 2018-06-25 2          \n",
       "4 2018-07-16 3          \n",
       "5 2018-08-06 4          \n",
       "6 2018-08-27 5          \n",
       "7 2018-09-17 6          \n",
       "8 2018-10-08 7          "
      ]
     },
     "metadata": {},
     "output_type": "display_data"
    }
   ],
   "source": [
    "donnee0"
   ]
  },
  {
   "cell_type": "code",
   "execution_count": 179,
   "metadata": {},
   "outputs": [],
   "source": [
    "donnee1 <- donnee_2018 %>%\n",
    "  select(PertePoids, Poids_Contenu..g., Poids_final_g, Prélèvement, TeaType)\n",
    "#%>%\n",
    "#  drop_na(.) %>%\n",
    " # droplevels(.)"
   ]
  },
  {
   "cell_type": "code",
   "execution_count": 180,
   "metadata": {},
   "outputs": [
    {
     "data": {
      "text/html": [
       "<table>\n",
       "<thead><tr><th scope=col>PertePoids</th><th scope=col>Poids_Contenu..g.</th><th scope=col>Poids_final_g</th><th scope=col>Prélèvement</th><th scope=col>TeaType</th></tr></thead>\n",
       "<tbody>\n",
       "\t<tr><td>0.4106539</td><td>1.774    </td><td>1.0455   </td><td>1        </td><td>Green tea</td></tr>\n",
       "\t<tr><td>0.4329079</td><td>1.802    </td><td>1.0219   </td><td>1        </td><td>Green tea</td></tr>\n",
       "\t<tr><td>0.3950276</td><td>1.810    </td><td>1.0950   </td><td>1        </td><td>Green tea</td></tr>\n",
       "\t<tr><td>0.4177879</td><td>1.754    </td><td>1.0212   </td><td>1        </td><td>Green tea</td></tr>\n",
       "\t<tr><td>0.4053113</td><td>1.751    </td><td>1.0413   </td><td>1        </td><td>Green tea</td></tr>\n",
       "\t<tr><td>0.3926611</td><td>1.785    </td><td>1.0841   </td><td>1        </td><td>Green tea</td></tr>\n",
       "</tbody>\n",
       "</table>\n"
      ],
      "text/latex": [
       "\\begin{tabular}{r|lllll}\n",
       " PertePoids & Poids\\_Contenu..g. & Poids\\_final\\_g & Prélèvement & TeaType\\\\\n",
       "\\hline\n",
       "\t 0.4106539 & 1.774     & 1.0455    & 1         & Green tea\\\\\n",
       "\t 0.4329079 & 1.802     & 1.0219    & 1         & Green tea\\\\\n",
       "\t 0.3950276 & 1.810     & 1.0950    & 1         & Green tea\\\\\n",
       "\t 0.4177879 & 1.754     & 1.0212    & 1         & Green tea\\\\\n",
       "\t 0.4053113 & 1.751     & 1.0413    & 1         & Green tea\\\\\n",
       "\t 0.3926611 & 1.785     & 1.0841    & 1         & Green tea\\\\\n",
       "\\end{tabular}\n"
      ],
      "text/markdown": [
       "\n",
       "PertePoids | Poids_Contenu..g. | Poids_final_g | Prélèvement | TeaType | \n",
       "|---|---|---|---|---|---|\n",
       "| 0.4106539 | 1.774     | 1.0455    | 1         | Green tea | \n",
       "| 0.4329079 | 1.802     | 1.0219    | 1         | Green tea | \n",
       "| 0.3950276 | 1.810     | 1.0950    | 1         | Green tea | \n",
       "| 0.4177879 | 1.754     | 1.0212    | 1         | Green tea | \n",
       "| 0.4053113 | 1.751     | 1.0413    | 1         | Green tea | \n",
       "| 0.3926611 | 1.785     | 1.0841    | 1         | Green tea | \n",
       "\n",
       "\n"
      ],
      "text/plain": [
       "  PertePoids Poids_Contenu..g. Poids_final_g Prélèvement TeaType  \n",
       "1 0.4106539  1.774             1.0455        1           Green tea\n",
       "2 0.4329079  1.802             1.0219        1           Green tea\n",
       "3 0.3950276  1.810             1.0950        1           Green tea\n",
       "4 0.4177879  1.754             1.0212        1           Green tea\n",
       "5 0.4053113  1.751             1.0413        1           Green tea\n",
       "6 0.3926611  1.785             1.0841        1           Green tea"
      ]
     },
     "metadata": {},
     "output_type": "display_data"
    }
   ],
   "source": [
    "head(donnee1)"
   ]
  },
  {
   "cell_type": "code",
   "execution_count": 181,
   "metadata": {},
   "outputs": [],
   "source": [
    "donnee2 <- left_join(donnee1, donnee0, by = \"Prélèvement\")"
   ]
  },
  {
   "cell_type": "code",
   "execution_count": 182,
   "metadata": {},
   "outputs": [
    {
     "data": {
      "text/html": [
       "<table>\n",
       "<thead><tr><th scope=col>PertePoids</th><th scope=col>Poids_Contenu..g.</th><th scope=col>Poids_final_g</th><th scope=col>Prélèvement</th><th scope=col>TeaType</th><th scope=col>date</th></tr></thead>\n",
       "<tbody>\n",
       "\t<tr><td>0.4106539 </td><td>1.774     </td><td>1.0455    </td><td>1         </td><td>Green tea </td><td>2018-06-04</td></tr>\n",
       "\t<tr><td>0.4329079 </td><td>1.802     </td><td>1.0219    </td><td>1         </td><td>Green tea </td><td>2018-06-04</td></tr>\n",
       "\t<tr><td>0.3950276 </td><td>1.810     </td><td>1.0950    </td><td>1         </td><td>Green tea </td><td>2018-06-04</td></tr>\n",
       "\t<tr><td>0.4177879 </td><td>1.754     </td><td>1.0212    </td><td>1         </td><td>Green tea </td><td>2018-06-04</td></tr>\n",
       "\t<tr><td>0.4053113 </td><td>1.751     </td><td>1.0413    </td><td>1         </td><td>Green tea </td><td>2018-06-04</td></tr>\n",
       "\t<tr><td>0.3926611 </td><td>1.785     </td><td>1.0841    </td><td>1         </td><td>Green tea </td><td>2018-06-04</td></tr>\n",
       "</tbody>\n",
       "</table>\n"
      ],
      "text/latex": [
       "\\begin{tabular}{r|llllll}\n",
       " PertePoids & Poids\\_Contenu..g. & Poids\\_final\\_g & Prélèvement & TeaType & date\\\\\n",
       "\\hline\n",
       "\t 0.4106539  & 1.774      & 1.0455     & 1          & Green tea  & 2018-06-04\\\\\n",
       "\t 0.4329079  & 1.802      & 1.0219     & 1          & Green tea  & 2018-06-04\\\\\n",
       "\t 0.3950276  & 1.810      & 1.0950     & 1          & Green tea  & 2018-06-04\\\\\n",
       "\t 0.4177879  & 1.754      & 1.0212     & 1          & Green tea  & 2018-06-04\\\\\n",
       "\t 0.4053113  & 1.751      & 1.0413     & 1          & Green tea  & 2018-06-04\\\\\n",
       "\t 0.3926611  & 1.785      & 1.0841     & 1          & Green tea  & 2018-06-04\\\\\n",
       "\\end{tabular}\n"
      ],
      "text/markdown": [
       "\n",
       "PertePoids | Poids_Contenu..g. | Poids_final_g | Prélèvement | TeaType | date | \n",
       "|---|---|---|---|---|---|\n",
       "| 0.4106539  | 1.774      | 1.0455     | 1          | Green tea  | 2018-06-04 | \n",
       "| 0.4329079  | 1.802      | 1.0219     | 1          | Green tea  | 2018-06-04 | \n",
       "| 0.3950276  | 1.810      | 1.0950     | 1          | Green tea  | 2018-06-04 | \n",
       "| 0.4177879  | 1.754      | 1.0212     | 1          | Green tea  | 2018-06-04 | \n",
       "| 0.4053113  | 1.751      | 1.0413     | 1          | Green tea  | 2018-06-04 | \n",
       "| 0.3926611  | 1.785      | 1.0841     | 1          | Green tea  | 2018-06-04 | \n",
       "\n",
       "\n"
      ],
      "text/plain": [
       "  PertePoids Poids_Contenu..g. Poids_final_g Prélèvement TeaType   date      \n",
       "1 0.4106539  1.774             1.0455        1           Green tea 2018-06-04\n",
       "2 0.4329079  1.802             1.0219        1           Green tea 2018-06-04\n",
       "3 0.3950276  1.810             1.0950        1           Green tea 2018-06-04\n",
       "4 0.4177879  1.754             1.0212        1           Green tea 2018-06-04\n",
       "5 0.4053113  1.751             1.0413        1           Green tea 2018-06-04\n",
       "6 0.3926611  1.785             1.0841        1           Green tea 2018-06-04"
      ]
     },
     "metadata": {},
     "output_type": "display_data"
    }
   ],
   "source": [
    "head(donnee2)"
   ]
  },
  {
   "cell_type": "code",
   "execution_count": 188,
   "metadata": {},
   "outputs": [],
   "source": [
    "donnee2$Time <- difftime(donnee2$date, \"2018/05/14\", units = \"days\")"
   ]
  },
  {
   "cell_type": "code",
   "execution_count": 189,
   "metadata": {},
   "outputs": [],
   "source": [
    "donnee2$Time <- round(donnee2$Time, 0)"
   ]
  },
  {
   "cell_type": "code",
   "execution_count": null,
   "metadata": {},
   "outputs": [],
   "source": [
    "colnames(donnee2)[c(2,3)] <- c(\"M0\",\"Mt\")"
   ]
  },
  {
   "cell_type": "code",
   "execution_count": 196,
   "metadata": {},
   "outputs": [
    {
     "data": {
      "text/html": [
       "<table>\n",
       "<thead><tr><th scope=col>PertePoids</th><th scope=col>M0</th><th scope=col>Mt</th><th scope=col>Prélèvement</th><th scope=col>TeaType</th><th scope=col>date</th><th scope=col>Time</th></tr></thead>\n",
       "<tbody>\n",
       "\t<tr><td>0.4106539 </td><td>1.774     </td><td>1.0455    </td><td>1         </td><td>Green tea </td><td>2018-06-04</td><td>21 days   </td></tr>\n",
       "\t<tr><td>0.4329079 </td><td>1.802     </td><td>1.0219    </td><td>1         </td><td>Green tea </td><td>2018-06-04</td><td>21 days   </td></tr>\n",
       "\t<tr><td>0.3950276 </td><td>1.810     </td><td>1.0950    </td><td>1         </td><td>Green tea </td><td>2018-06-04</td><td>21 days   </td></tr>\n",
       "\t<tr><td>0.4177879 </td><td>1.754     </td><td>1.0212    </td><td>1         </td><td>Green tea </td><td>2018-06-04</td><td>21 days   </td></tr>\n",
       "\t<tr><td>0.4053113 </td><td>1.751     </td><td>1.0413    </td><td>1         </td><td>Green tea </td><td>2018-06-04</td><td>21 days   </td></tr>\n",
       "\t<tr><td>0.3926611 </td><td>1.785     </td><td>1.0841    </td><td>1         </td><td>Green tea </td><td>2018-06-04</td><td>21 days   </td></tr>\n",
       "</tbody>\n",
       "</table>\n"
      ],
      "text/latex": [
       "\\begin{tabular}{r|lllllll}\n",
       " PertePoids & M0 & Mt & Prélèvement & TeaType & date & Time\\\\\n",
       "\\hline\n",
       "\t 0.4106539  & 1.774      & 1.0455     & 1          & Green tea  & 2018-06-04 & 21 days   \\\\\n",
       "\t 0.4329079  & 1.802      & 1.0219     & 1          & Green tea  & 2018-06-04 & 21 days   \\\\\n",
       "\t 0.3950276  & 1.810      & 1.0950     & 1          & Green tea  & 2018-06-04 & 21 days   \\\\\n",
       "\t 0.4177879  & 1.754      & 1.0212     & 1          & Green tea  & 2018-06-04 & 21 days   \\\\\n",
       "\t 0.4053113  & 1.751      & 1.0413     & 1          & Green tea  & 2018-06-04 & 21 days   \\\\\n",
       "\t 0.3926611  & 1.785      & 1.0841     & 1          & Green tea  & 2018-06-04 & 21 days   \\\\\n",
       "\\end{tabular}\n"
      ],
      "text/markdown": [
       "\n",
       "PertePoids | M0 | Mt | Prélèvement | TeaType | date | Time | \n",
       "|---|---|---|---|---|---|\n",
       "| 0.4106539  | 1.774      | 1.0455     | 1          | Green tea  | 2018-06-04 | 21 days    | \n",
       "| 0.4329079  | 1.802      | 1.0219     | 1          | Green tea  | 2018-06-04 | 21 days    | \n",
       "| 0.3950276  | 1.810      | 1.0950     | 1          | Green tea  | 2018-06-04 | 21 days    | \n",
       "| 0.4177879  | 1.754      | 1.0212     | 1          | Green tea  | 2018-06-04 | 21 days    | \n",
       "| 0.4053113  | 1.751      | 1.0413     | 1          | Green tea  | 2018-06-04 | 21 days    | \n",
       "| 0.3926611  | 1.785      | 1.0841     | 1          | Green tea  | 2018-06-04 | 21 days    | \n",
       "\n",
       "\n"
      ],
      "text/plain": [
       "  PertePoids M0    Mt     Prélèvement TeaType   date       Time   \n",
       "1 0.4106539  1.774 1.0455 1           Green tea 2018-06-04 21 days\n",
       "2 0.4329079  1.802 1.0219 1           Green tea 2018-06-04 21 days\n",
       "3 0.3950276  1.810 1.0950 1           Green tea 2018-06-04 21 days\n",
       "4 0.4177879  1.754 1.0212 1           Green tea 2018-06-04 21 days\n",
       "5 0.4053113  1.751 1.0413 1           Green tea 2018-06-04 21 days\n",
       "6 0.3926611  1.785 1.0841 1           Green tea 2018-06-04 21 days"
      ]
     },
     "metadata": {},
     "output_type": "display_data"
    }
   ],
   "source": [
    "head(donnee2)"
   ]
  },
  {
   "cell_type": "code",
   "execution_count": 199,
   "metadata": {},
   "outputs": [
    {
     "data": {
      "text/html": [
       "\n",
       "<table width=\"100%\" summary=\"page for difftime {base}\"><tr><td>difftime {base}</td><td style=\"text-align: right;\">R Documentation</td></tr></table>\n",
       "\n",
       "<h2>Time Intervals / Differences</h2>\n",
       "\n",
       "<h3>Description</h3>\n",
       "\n",
       "<p>Time intervals creation, printing, and some arithmetic.  The\n",
       "<code>print()</code> method calls these &ldquo;time differences&rdquo;.\n",
       "</p>\n",
       "\n",
       "\n",
       "<h3>Usage</h3>\n",
       "\n",
       "<pre>\n",
       "time1 - time2\n",
       "\n",
       "difftime(time1, time2, tz,\n",
       "         units = c(\"auto\", \"secs\", \"mins\", \"hours\",\n",
       "                   \"days\", \"weeks\"))\n",
       "\n",
       "as.difftime(tim, format = \"%X\", units = \"auto\")\n",
       "\n",
       "## S3 method for class 'difftime'\n",
       "format(x, ...)\n",
       "## S3 method for class 'difftime'\n",
       "units(x)\n",
       "## S3 replacement method for class 'difftime'\n",
       "units(x) &lt;- value\n",
       "## S3 method for class 'difftime'\n",
       "as.double(x, units = \"auto\", ...)\n",
       "\n",
       "## Group methods, notably for round(), signif(), floor(),\n",
       "## ceiling(), trunc(), abs(); called directly, *not* as Math():\n",
       "## S3 method for class 'difftime'\n",
       "Math(x, ...)\n",
       "</pre>\n",
       "\n",
       "\n",
       "<h3>Arguments</h3>\n",
       "\n",
       "<table summary=\"R argblock\">\n",
       "<tr valign=\"top\"><td><code>time1, time2</code></td>\n",
       "<td>\n",
       "<p>date-time or date objects.</p>\n",
       "</td></tr>\n",
       "<tr valign=\"top\"><td><code>tz</code></td>\n",
       "<td>\n",
       "<p>an optional time zone specification to be used for the\n",
       "conversion, mainly for <code>\"POSIXlt\"</code> objects.</p>\n",
       "</td></tr>\n",
       "<tr valign=\"top\"><td><code>units</code></td>\n",
       "<td>\n",
       "<p>character string.  Units in which the results are\n",
       "desired.  Can be abbreviated.</p>\n",
       "</td></tr>\n",
       "<tr valign=\"top\"><td><code>value</code></td>\n",
       "<td>\n",
       "<p>character string.  Like <code>units</code>, except that\n",
       "abbreviations are not allowed.</p>\n",
       "</td></tr>\n",
       "<tr valign=\"top\"><td><code>tim</code></td>\n",
       "<td>\n",
       "<p>character string or numeric value specifying a time interval.</p>\n",
       "</td></tr>\n",
       "<tr valign=\"top\"><td><code>format</code></td>\n",
       "<td>\n",
       "<p>character specifying the format of <code>tim</code>: see\n",
       "<code>strptime</code>.  The default is a locale-specific time format.</p>\n",
       "</td></tr>\n",
       "<tr valign=\"top\"><td><code>x</code></td>\n",
       "<td>\n",
       "<p>an object inheriting from class <code>\"difftime\"</code>.</p>\n",
       "</td></tr>\n",
       "<tr valign=\"top\"><td><code>...</code></td>\n",
       "<td>\n",
       "<p>arguments to be passed to or from other methods.</p>\n",
       "</td></tr>\n",
       "</table>\n",
       "\n",
       "\n",
       "<h3>Details</h3>\n",
       "\n",
       "<p>Function <code>difftime</code> calculates a difference of two date/time\n",
       "objects and returns an object of class <code>\"difftime\"</code> with an\n",
       "attribute indicating the units.  The\n",
       "<code>Math</code> group method provides\n",
       "<code>round</code>, <code>signif</code>, <code>floor</code>,\n",
       "<code>ceiling</code>, <code>trunc</code>, <code>abs</code>, and\n",
       "<code>sign</code> methods for objects of this class, and there are\n",
       "methods for the group-generic (see\n",
       "<code>Ops</code>) logical and arithmetic\n",
       "operations.\n",
       "</p>\n",
       "<p>If <code>units = \"auto\"</code>, a suitable set of units is chosen, the largest\n",
       "possible (excluding <code>\"weeks\"</code>) in which all the absolute\n",
       "differences are greater than one.\n",
       "</p>\n",
       "<p>Subtraction of date-time objects gives an object of this class,\n",
       "by calling <code>difftime</code> with <code>units = \"auto\"</code>.  Alternatively,\n",
       "<code>as.difftime()</code> works on character-coded or numeric time\n",
       "intervals; in the latter case, units must be specified, and\n",
       "<code>format</code> has no effect.\n",
       "</p>\n",
       "<p>Limited arithmetic is available on <code>\"difftime\"</code> objects: they can\n",
       "be added or subtracted, and multiplied or divided by a numeric vector.\n",
       "In addition, adding or subtracting a numeric vector by a\n",
       "<code>\"difftime\"</code> object implicitly converts the numeric vector to a\n",
       "<code>\"difftime\"</code> object with the same units as the <code>\"difftime\"</code>\n",
       "object.  There are methods for <code>mean</code> and\n",
       "<code>sum</code> (via the <code>Summary</code>\n",
       "group generic), and <code>diff</code> via <code>diff.default</code>\n",
       "building on the <code>\"difftime\"</code> method for arithmetic, notably\n",
       "<code>-</code>.\n",
       "</p>\n",
       "<p>The units of a <code>\"difftime\"</code> object can be extracted by the\n",
       "<code>units</code> function, which also has a replacement form.  If the\n",
       "units are changed, the numerical value is scaled accordingly.  The\n",
       "replacement version keeps attributes such as names and dimensions.\n",
       "</p>\n",
       "<p>Note that <code>units = \"days\"</code> means a period of 24 hours, hence\n",
       "takes no account of Daylight Savings Time.  Differences in objects\n",
       "of class <code>\"Date\"</code> are computed as if in the UTC time zone.\n",
       "</p>\n",
       "<p>The <code>as.double</code> method returns the numeric value expressed in\n",
       "the specified units.  Using  <code>units = \"auto\"</code> means the units of the\n",
       "object.\n",
       "</p>\n",
       "<p>The <code>format</code> method simply formats the numeric value and appends\n",
       "the units as a text string.\n",
       "</p>\n",
       "\n",
       "\n",
       "<h3>Note</h3>\n",
       "\n",
       "<p>Units such as <code>\"months\"</code> are not possible as they are not of\n",
       "constant length.  To create intervals of months, quarters or years\n",
       "use <code>seq.Date</code> or <code>seq.POSIXt</code>.\n",
       "</p>\n",
       "\n",
       "\n",
       "<h3>See Also</h3>\n",
       "\n",
       "<p><code>DateTimeClasses</code>.\n",
       "</p>\n",
       "\n",
       "\n",
       "<h3>Examples</h3>\n",
       "\n",
       "<pre>\n",
       "(z &lt;- Sys.time() - 3600)\n",
       "Sys.time() - z                # just over 3600 seconds.\n",
       "\n",
       "## time interval between release days of R 1.2.2 and 1.2.3.\n",
       "ISOdate(2001, 4, 26) - ISOdate(2001, 2, 26)\n",
       "\n",
       "as.difftime(c(\"0:3:20\", \"11:23:15\"))\n",
       "as.difftime(c(\"3:20\", \"23:15\", \"2:\"), format = \"%H:%M\") # 3rd gives NA\n",
       "(z &lt;- as.difftime(c(0,30,60), units = \"mins\"))\n",
       "as.numeric(z, units = \"secs\")\n",
       "as.numeric(z, units = \"hours\")\n",
       "format(z)\n",
       "</pre>\n",
       "\n",
       "<hr /><div style=\"text-align: center;\">[Package <em>base</em> version 3.5.1 ]</div>"
      ],
      "text/latex": [
       "\\inputencoding{utf8}\n",
       "\\HeaderA{difftime}{Time Intervals / Differences}{difftime}\n",
       "\\aliasA{*.difftime}{difftime}{*.difftime}\n",
       "\\aliasA{/.difftime}{difftime}{/.difftime}\n",
       "\\aliasA{[.difftime}{difftime}{[.difftime}\n",
       "\\aliasA{as.difftime}{difftime}{as.difftime}\n",
       "\\aliasA{as.double.difftime}{difftime}{as.double.difftime}\n",
       "\\aliasA{c.difftime}{difftime}{c.difftime}\n",
       "\\aliasA{diff.difftime}{difftime}{diff.difftime}\n",
       "\\aliasA{format.difftime}{difftime}{format.difftime}\n",
       "\\aliasA{is.numeric.difftime}{difftime}{is.numeric.difftime}\n",
       "\\aliasA{length<\\Rdash{}.difftime}{difftime}{length<.Rdash..difftime}\n",
       "\\aliasA{Math.difftime}{difftime}{Math.difftime}\n",
       "\\aliasA{mean.difftime}{difftime}{mean.difftime}\n",
       "\\aliasA{Ops.difftime}{difftime}{Ops.difftime}\n",
       "\\aliasA{print.difftime}{difftime}{print.difftime}\n",
       "\\aliasA{Summary.difftime}{difftime}{Summary.difftime}\n",
       "\\aliasA{time interval}{difftime}{time interval}\n",
       "\\aliasA{units}{difftime}{units}\n",
       "\\methaliasA{units.difftime}{difftime}{units.difftime}\n",
       "\\aliasA{units<\\Rdash{}}{difftime}{units<.Rdash.}\n",
       "\\methaliasA{units<\\Rdash{}.difftime}{difftime}{units<.Rdash..difftime}\n",
       "\\keyword{utilities}{difftime}\n",
       "\\keyword{chron}{difftime}\n",
       "%\n",
       "\\begin{Description}\\relax\n",
       "Time intervals creation, printing, and some arithmetic.  The\n",
       "\\code{\\LinkA{print}{print}()} method calls these ``time differences''.\n",
       "\\end{Description}\n",
       "%\n",
       "\\begin{Usage}\n",
       "\\begin{verbatim}\n",
       "time1 - time2\n",
       "\n",
       "difftime(time1, time2, tz,\n",
       "         units = c(\"auto\", \"secs\", \"mins\", \"hours\",\n",
       "                   \"days\", \"weeks\"))\n",
       "\n",
       "as.difftime(tim, format = \"%X\", units = \"auto\")\n",
       "\n",
       "## S3 method for class 'difftime'\n",
       "format(x, ...)\n",
       "## S3 method for class 'difftime'\n",
       "units(x)\n",
       "## S3 replacement method for class 'difftime'\n",
       "units(x) <- value\n",
       "## S3 method for class 'difftime'\n",
       "as.double(x, units = \"auto\", ...)\n",
       "\n",
       "## Group methods, notably for round(), signif(), floor(),\n",
       "## ceiling(), trunc(), abs(); called directly, *not* as Math():\n",
       "## S3 method for class 'difftime'\n",
       "Math(x, ...)\n",
       "\\end{verbatim}\n",
       "\\end{Usage}\n",
       "%\n",
       "\\begin{Arguments}\n",
       "\\begin{ldescription}\n",
       "\\item[\\code{time1, time2}] \\LinkA{date-time}{date.Rdash.time} or \\LinkA{date}{Dates} objects.\n",
       "\\item[\\code{tz}] an optional \\LinkA{time zone}{time zone} specification to be used for the\n",
       "conversion, mainly for \\code{\"POSIXlt\"} objects.\n",
       "\\item[\\code{units}] character string.  Units in which the results are\n",
       "desired.  Can be abbreviated.\n",
       "\\item[\\code{value}] character string.  Like \\code{units}, except that\n",
       "abbreviations are not allowed.\n",
       "\\item[\\code{tim}] character string or numeric value specifying a time interval.\n",
       "\\item[\\code{format}] character specifying the format of \\code{tim}: see\n",
       "\\code{\\LinkA{strptime}{strptime}}.  The default is a locale-specific time format.\n",
       "\\item[\\code{x}] an object inheriting from class \\code{\"difftime\"}.\n",
       "\\item[\\code{...}] arguments to be passed to or from other methods.\n",
       "\\end{ldescription}\n",
       "\\end{Arguments}\n",
       "%\n",
       "\\begin{Details}\\relax\n",
       "Function \\code{difftime} calculates a difference of two date/time\n",
       "objects and returns an object of class \\code{\"difftime\"} with an\n",
       "attribute indicating the units.  The\n",
       "\\code{\\LinkA{Math}{S3groupGeneric}} group method provides\n",
       "\\code{\\LinkA{round}{round}}, \\code{\\LinkA{signif}{signif}}, \\code{\\LinkA{floor}{floor}},\n",
       "\\code{\\LinkA{ceiling}{ceiling}}, \\code{\\LinkA{trunc}{trunc}}, \\code{\\LinkA{abs}{abs}}, and\n",
       "\\code{\\LinkA{sign}{sign}} methods for objects of this class, and there are\n",
       "methods for the group-generic (see\n",
       "\\code{\\LinkA{Ops}{S3groupGeneric}}) logical and arithmetic\n",
       "operations.\n",
       "\n",
       "If \\code{units = \"auto\"}, a suitable set of units is chosen, the largest\n",
       "possible (excluding \\code{\"weeks\"}) in which all the absolute\n",
       "differences are greater than one.\n",
       "\n",
       "Subtraction of date-time objects gives an object of this class,\n",
       "by calling \\code{difftime} with \\code{units = \"auto\"}.  Alternatively,\n",
       "\\code{as.difftime()} works on character-coded or numeric time\n",
       "intervals; in the latter case, units must be specified, and\n",
       "\\code{format} has no effect.\n",
       "\n",
       "Limited arithmetic is available on \\code{\"difftime\"} objects: they can\n",
       "be added or subtracted, and multiplied or divided by a numeric vector.\n",
       "In addition, adding or subtracting a numeric vector by a\n",
       "\\code{\"difftime\"} object implicitly converts the numeric vector to a\n",
       "\\code{\"difftime\"} object with the same units as the \\code{\"difftime\"}\n",
       "object.  There are methods for \\code{\\LinkA{mean}{mean}} and\n",
       "\\code{\\LinkA{sum}{sum}} (via the \\code{\\LinkA{Summary}{S3groupGeneric}}\n",
       "group generic), and \\code{\\LinkA{diff}{diff}} via \\code{\\LinkA{diff.default}{diff.default}}\n",
       "building on the \\code{\"difftime\"} method for arithmetic, notably\n",
       "\\code{-}.\n",
       "\n",
       "The units of a \\code{\"difftime\"} object can be extracted by the\n",
       "\\code{units} function, which also has a replacement form.  If the\n",
       "units are changed, the numerical value is scaled accordingly.  The\n",
       "replacement version keeps attributes such as names and dimensions.\n",
       "\n",
       "Note that \\code{units = \"days\"} means a period of 24 hours, hence\n",
       "takes no account of Daylight Savings Time.  Differences in objects\n",
       "of class \\code{\"\\LinkA{Date}{Date}\"} are computed as if in the UTC time zone.\n",
       "\n",
       "The \\code{as.double} method returns the numeric value expressed in\n",
       "the specified units.  Using  \\code{units = \"auto\"} means the units of the\n",
       "object.\n",
       "\n",
       "The \\code{format} method simply formats the numeric value and appends\n",
       "the units as a text string.\n",
       "\\end{Details}\n",
       "%\n",
       "\\begin{Note}\\relax\n",
       "Units such as \\code{\"months\"} are not possible as they are not of\n",
       "constant length.  To create intervals of months, quarters or years\n",
       "use \\code{\\LinkA{seq.Date}{seq.Date}} or \\code{\\LinkA{seq.POSIXt}{seq.POSIXt}}.\n",
       "\\end{Note}\n",
       "%\n",
       "\\begin{SeeAlso}\\relax\n",
       "\\code{\\LinkA{DateTimeClasses}{DateTimeClasses}}.\n",
       "\\end{SeeAlso}\n",
       "%\n",
       "\\begin{Examples}\n",
       "\\begin{ExampleCode}\n",
       "\n",
       "(z <- Sys.time() - 3600)\n",
       "Sys.time() - z                # just over 3600 seconds.\n",
       "\n",
       "## time interval between release days of R 1.2.2 and 1.2.3.\n",
       "ISOdate(2001, 4, 26) - ISOdate(2001, 2, 26)\n",
       "\n",
       "as.difftime(c(\"0:3:20\", \"11:23:15\"))\n",
       "as.difftime(c(\"3:20\", \"23:15\", \"2:\"), format = \"%H:%M\") # 3rd gives NA\n",
       "(z <- as.difftime(c(0,30,60), units = \"mins\"))\n",
       "as.numeric(z, units = \"secs\")\n",
       "as.numeric(z, units = \"hours\")\n",
       "format(z)\n",
       "\\end{ExampleCode}\n",
       "\\end{Examples}"
      ],
      "text/plain": [
       "difftime                 package:base                  R Documentation\n",
       "\n",
       "_\bT_\bi_\bm_\be _\bI_\bn_\bt_\be_\br_\bv_\ba_\bl_\bs / _\bD_\bi_\bf_\bf_\be_\br_\be_\bn_\bc_\be_\bs\n",
       "\n",
       "_\bD_\be_\bs_\bc_\br_\bi_\bp_\bt_\bi_\bo_\bn:\n",
       "\n",
       "     Time intervals creation, printing, and some arithmetic.  The\n",
       "     'print()' method calls these \"time differences\".\n",
       "\n",
       "_\bU_\bs_\ba_\bg_\be:\n",
       "\n",
       "     time1 - time2\n",
       "     \n",
       "     difftime(time1, time2, tz,\n",
       "              units = c(\"auto\", \"secs\", \"mins\", \"hours\",\n",
       "                        \"days\", \"weeks\"))\n",
       "     \n",
       "     as.difftime(tim, format = \"%X\", units = \"auto\")\n",
       "     \n",
       "     ## S3 method for class 'difftime'\n",
       "     format(x, ...)\n",
       "     ## S3 method for class 'difftime'\n",
       "     units(x)\n",
       "     ## S3 replacement method for class 'difftime'\n",
       "     units(x) <- value\n",
       "     ## S3 method for class 'difftime'\n",
       "     as.double(x, units = \"auto\", ...)\n",
       "     \n",
       "     ## Group methods, notably for round(), signif(), floor(),\n",
       "     ## ceiling(), trunc(), abs(); called directly, *not* as Math():\n",
       "     ## S3 method for class 'difftime'\n",
       "     Math(x, ...)\n",
       "     \n",
       "_\bA_\br_\bg_\bu_\bm_\be_\bn_\bt_\bs:\n",
       "\n",
       "time1, time2: date-time or date objects.\n",
       "\n",
       "      tz: an optional time zone specification to be used for the\n",
       "          conversion, mainly for '\"POSIXlt\"' objects.\n",
       "\n",
       "   units: character string.  Units in which the results are desired.\n",
       "          Can be abbreviated.\n",
       "\n",
       "   value: character string.  Like 'units', except that abbreviations\n",
       "          are not allowed.\n",
       "\n",
       "     tim: character string or numeric value specifying a time interval.\n",
       "\n",
       "  format: character specifying the format of 'tim': see 'strptime'.\n",
       "          The default is a locale-specific time format.\n",
       "\n",
       "       x: an object inheriting from class '\"difftime\"'.\n",
       "\n",
       "     ...: arguments to be passed to or from other methods.\n",
       "\n",
       "_\bD_\be_\bt_\ba_\bi_\bl_\bs:\n",
       "\n",
       "     Function 'difftime' calculates a difference of two date/time\n",
       "     objects and returns an object of class '\"difftime\"' with an\n",
       "     attribute indicating the units.  The 'Math' group method provides\n",
       "     'round', 'signif', 'floor', 'ceiling', 'trunc', 'abs', and 'sign'\n",
       "     methods for objects of this class, and there are methods for the\n",
       "     group-generic (see 'Ops') logical and arithmetic operations.\n",
       "\n",
       "     If 'units = \"auto\"', a suitable set of units is chosen, the\n",
       "     largest possible (excluding '\"weeks\"') in which all the absolute\n",
       "     differences are greater than one.\n",
       "\n",
       "     Subtraction of date-time objects gives an object of this class, by\n",
       "     calling 'difftime' with 'units = \"auto\"'.  Alternatively,\n",
       "     'as.difftime()' works on character-coded or numeric time\n",
       "     intervals; in the latter case, units must be specified, and\n",
       "     'format' has no effect.\n",
       "\n",
       "     Limited arithmetic is available on '\"difftime\"' objects: they can\n",
       "     be added or subtracted, and multiplied or divided by a numeric\n",
       "     vector.  In addition, adding or subtracting a numeric vector by a\n",
       "     '\"difftime\"' object implicitly converts the numeric vector to a\n",
       "     '\"difftime\"' object with the same units as the '\"difftime\"'\n",
       "     object.  There are methods for 'mean' and 'sum' (via the 'Summary'\n",
       "     group generic), and 'diff' via 'diff.default' building on the\n",
       "     '\"difftime\"' method for arithmetic, notably '-'.\n",
       "\n",
       "     The units of a '\"difftime\"' object can be extracted by the 'units'\n",
       "     function, which also has a replacement form.  If the units are\n",
       "     changed, the numerical value is scaled accordingly.  The\n",
       "     replacement version keeps attributes such as names and dimensions.\n",
       "\n",
       "     Note that 'units = \"days\"' means a period of 24 hours, hence takes\n",
       "     no account of Daylight Savings Time.  Differences in objects of\n",
       "     class '\"Date\"' are computed as if in the UTC time zone.\n",
       "\n",
       "     The 'as.double' method returns the numeric value expressed in the\n",
       "     specified units.  Using 'units = \"auto\"' means the units of the\n",
       "     object.\n",
       "\n",
       "     The 'format' method simply formats the numeric value and appends\n",
       "     the units as a text string.\n",
       "\n",
       "_\bN_\bo_\bt_\be:\n",
       "\n",
       "     Units such as '\"months\"' are not possible as they are not of\n",
       "     constant length.  To create intervals of months, quarters or years\n",
       "     use 'seq.Date' or 'seq.POSIXt'.\n",
       "\n",
       "_\bS_\be_\be _\bA_\bl_\bs_\bo:\n",
       "\n",
       "     'DateTimeClasses'.\n",
       "\n",
       "_\bE_\bx_\ba_\bm_\bp_\bl_\be_\bs:\n",
       "\n",
       "     (z <- Sys.time() - 3600)\n",
       "     Sys.time() - z                # just over 3600 seconds.\n",
       "     \n",
       "     ## time interval between release days of R 1.2.2 and 1.2.3.\n",
       "     ISOdate(2001, 4, 26) - ISOdate(2001, 2, 26)\n",
       "     \n",
       "     as.difftime(c(\"0:3:20\", \"11:23:15\"))\n",
       "     as.difftime(c(\"3:20\", \"23:15\", \"2:\"), format = \"%H:%M\") # 3rd gives NA\n",
       "     (z <- as.difftime(c(0,30,60), units = \"mins\"))\n",
       "     as.numeric(z, units = \"secs\")\n",
       "     as.numeric(z, units = \"hours\")\n",
       "     format(z)\n",
       "     "
      ]
     },
     "metadata": {},
     "output_type": "display_data"
    }
   ],
   "source": [
    "?difftime"
   ]
  },
  {
   "cell_type": "code",
   "execution_count": 197,
   "metadata": {},
   "outputs": [
    {
     "name": "stderr",
     "output_type": "stream",
     "text": [
      "Warning message in eval(expr, envir, enclos):\n",
      "\"production de NaN\""
     ]
    },
    {
     "ename": "ERROR",
     "evalue": "Error in `/.difftime`(log(0, 598/((donnee2$Mt/donnee2$M0) - 1 + 0.598)), : second argument of / cannot be a \"difftime\" object\n",
     "execution_count": 197,
     "output_type": "error",
     "traceback": [
      "Error in `/.difftime`(log(0, 598/((donnee2$Mt/donnee2$M0) - 1 + 0.598)), : second argument of / cannot be a \"difftime\" object\nTraceback:\n",
      "1. `/.difftime`(log(0, 598/((donnee2$Mt/donnee2$M0) - 1 + 0.598)), \n .     donnee2$Time)",
      "2. stop(\"second argument of / cannot be a \\\"difftime\\\" object\")"
     ]
    }
   ],
   "source": [
    "k(t) <- log(0,598/((donnee2$Mt/donnee2$M0) - 1 + 0.598))/donnee2$Time"
   ]
  },
  {
   "cell_type": "code",
   "execution_count": 86,
   "metadata": {},
   "outputs": [],
   "source": [
    "library(dplyr)"
   ]
  },
  {
   "cell_type": "code",
   "execution_count": 66,
   "metadata": {},
   "outputs": [
    {
     "ename": "ERROR",
     "evalue": "Error in UseMethod(\"tbl_vars\"): pas de méthode pour 'tbl_vars' applicable pour un objet de classe \"Date\"\n",
     "execution_count": 66,
     "output_type": "error",
     "traceback": [
      "Error in UseMethod(\"tbl_vars\"): pas de méthode pour 'tbl_vars' applicable pour un objet de classe \"Date\"\nTraceback:\n",
      "1. tbl_vars(left_join(donnee_2018, date, by = c(Prélèvement = \"date\")))",
      "2. left_join(donnee_2018, date, by = c(Prélèvement = \"date\"))",
      "3. left_join.data.frame(donnee_2018, date, by = c(Prélèvement = \"date\"))",
      "4. as.data.frame(left_join(tbl_df(x), y, by = by, copy = copy, ...))",
      "5. left_join(tbl_df(x), y, by = by, copy = copy, ...)",
      "6. left_join.tbl_df(tbl_df(x), y, by = by, copy = copy, ...)",
      "7. check_valid_names(tbl_vars(y))",
      "8. tbl_vars(y)"
     ]
    }
   ],
   "source": [
    "DATA <- tbl_vars(left_join(donnee_2018, date, by = c(\"Prélèvement\"=\"date\")))"
   ]
  },
  {
   "cell_type": "code",
   "execution_count": null,
   "metadata": {},
   "outputs": [],
   "source": []
  },
  {
   "cell_type": "code",
   "execution_count": null,
   "metadata": {},
   "outputs": [],
   "source": []
  },
  {
   "cell_type": "code",
   "execution_count": null,
   "metadata": {},
   "outputs": [],
   "source": []
  },
  {
   "cell_type": "code",
   "execution_count": 49,
   "metadata": {},
   "outputs": [
    {
     "data": {
      "text/html": [
       "<ol class=list-inline>\n",
       "\t<li>'05/14/2018'</li>\n",
       "\t<li>'06/04/2018'</li>\n",
       "\t<li>'06/25/2018'</li>\n",
       "\t<li>'07/16/2018'</li>\n",
       "\t<li>'08/06/2018'</li>\n",
       "\t<li>'08/27/2018'</li>\n",
       "\t<li>'09/17/2018'</li>\n",
       "\t<li>'10/08/2018'</li>\n",
       "</ol>\n"
      ],
      "text/latex": [
       "\\begin{enumerate*}\n",
       "\\item '05/14/2018'\n",
       "\\item '06/04/2018'\n",
       "\\item '06/25/2018'\n",
       "\\item '07/16/2018'\n",
       "\\item '08/06/2018'\n",
       "\\item '08/27/2018'\n",
       "\\item '09/17/2018'\n",
       "\\item '10/08/2018'\n",
       "\\end{enumerate*}\n"
      ],
      "text/markdown": [
       "1. '05/14/2018'\n",
       "2. '06/04/2018'\n",
       "3. '06/25/2018'\n",
       "4. '07/16/2018'\n",
       "5. '08/06/2018'\n",
       "6. '08/27/2018'\n",
       "7. '09/17/2018'\n",
       "8. '10/08/2018'\n",
       "\n",
       "\n"
      ],
      "text/plain": [
       "[1] \"05/14/2018\" \"06/04/2018\" \"06/25/2018\" \"07/16/2018\" \"08/06/2018\"\n",
       "[6] \"08/27/2018\" \"09/17/2018\" \"10/08/2018\""
      ]
     },
     "metadata": {},
     "output_type": "display_data"
    }
   ],
   "source": []
  },
  {
   "cell_type": "code",
   "execution_count": 26,
   "metadata": {},
   "outputs": [
    {
     "data": {
      "text/html": [
       "\n",
       "<table width=\"100%\" summary=\"page for date {base}\"><tr><td>date {base}</td><td style=\"text-align: right;\">R Documentation</td></tr></table>\n",
       "\n",
       "<h2>System Date and Time</h2>\n",
       "\n",
       "<h3>Description</h3>\n",
       "\n",
       "<p>Returns a character string of the current system date and time.\n",
       "</p>\n",
       "\n",
       "\n",
       "<h3>Usage</h3>\n",
       "\n",
       "<pre>date()</pre>\n",
       "\n",
       "\n",
       "<h3>Value</h3>\n",
       "\n",
       "<p>The string has the form <code>\"Fri Aug 20 11:11:00 1999\"</code>, i.e.,\n",
       "length 24, since it relies on POSIX's <code>ctime</code> ensuring the above\n",
       "fixed format.  Timezone and Daylight Saving Time are taken account of,\n",
       "but <em>not</em> indicated in the result.\n",
       "</p>\n",
       "<p>The day and month abbreviations are always in English, irrespective\n",
       "of locale.\n",
       "</p>\n",
       "\n",
       "\n",
       "<h3>References</h3>\n",
       "\n",
       "<p>Becker, R. A., Chambers, J. M. and Wilks, A. R. (1988)\n",
       "<em>The New S Language</em>.\n",
       "Wadsworth &amp; Brooks/Cole.\n",
       "</p>\n",
       "\n",
       "\n",
       "<h3>See Also</h3>\n",
       "\n",
       "<p><code>Sys.Date</code> and <code>Sys.time</code>; <code>Date</code>\n",
       "and\n",
       "<code>DateTimeClasses</code> for objects representing date and time.\n",
       "</p>\n",
       "\n",
       "\n",
       "<h3>Examples</h3>\n",
       "\n",
       "<pre>\n",
       "(d &lt;- date())\n",
       "nchar(d) == 24\n",
       "\n",
       "## something similar in the current locale\n",
       "format(Sys.time(), \"%a %b %d %H:%M:%S %Y\")\n",
       "</pre>\n",
       "\n",
       "<hr /><div style=\"text-align: center;\">[Package <em>base</em> version 3.5.1 ]</div>"
      ],
      "text/latex": [
       "\\inputencoding{utf8}\n",
       "\\HeaderA{date}{System Date and Time}{date}\n",
       "\\keyword{utilities}{date}\n",
       "%\n",
       "\\begin{Description}\\relax\n",
       "Returns a character string of the current system date and time.\n",
       "\\end{Description}\n",
       "%\n",
       "\\begin{Usage}\n",
       "\\begin{verbatim}\n",
       "date()\n",
       "\\end{verbatim}\n",
       "\\end{Usage}\n",
       "%\n",
       "\\begin{Value}\n",
       "The string has the form \\code{\"Fri Aug 20 11:11:00 1999\"}, i.e.,\n",
       "length 24, since it relies on POSIX's \\code{ctime} ensuring the above\n",
       "fixed format.  Timezone and Daylight Saving Time are taken account of,\n",
       "but \\emph{not} indicated in the result.\n",
       "\n",
       "The day and month abbreviations are always in English, irrespective\n",
       "of locale.\n",
       "\\end{Value}\n",
       "%\n",
       "\\begin{References}\\relax\n",
       "Becker, R. A., Chambers, J. M. and Wilks, A. R. (1988)\n",
       "\\emph{The New S Language}.\n",
       "Wadsworth \\& Brooks/Cole.\n",
       "\\end{References}\n",
       "%\n",
       "\\begin{SeeAlso}\\relax\n",
       "\\code{\\LinkA{Sys.Date}{Sys.Date}} and \\code{\\LinkA{Sys.time}{Sys.time}}; \\code{\\LinkA{Date}{Date}}\n",
       "and\n",
       "\\code{\\LinkA{DateTimeClasses}{DateTimeClasses}} for objects representing date and time.\n",
       "\\end{SeeAlso}\n",
       "%\n",
       "\\begin{Examples}\n",
       "\\begin{ExampleCode}\n",
       "\n",
       "(d <- date())\n",
       "nchar(d) == 24\n",
       "\n",
       "## something similar in the current locale\n",
       "format(Sys.time(), \"%a %b %d %H:%M:%S %Y\")\n",
       "\\end{ExampleCode}\n",
       "\\end{Examples}"
      ],
      "text/plain": [
       "date                   package:base                    R Documentation\n",
       "\n",
       "_\bS_\by_\bs_\bt_\be_\bm _\bD_\ba_\bt_\be _\ba_\bn_\bd _\bT_\bi_\bm_\be\n",
       "\n",
       "_\bD_\be_\bs_\bc_\br_\bi_\bp_\bt_\bi_\bo_\bn:\n",
       "\n",
       "     Returns a character string of the current system date and time.\n",
       "\n",
       "_\bU_\bs_\ba_\bg_\be:\n",
       "\n",
       "     date()\n",
       "     \n",
       "_\bV_\ba_\bl_\bu_\be:\n",
       "\n",
       "     The string has the form '\"Fri Aug 20 11:11:00 1999\"', i.e., length\n",
       "     24, since it relies on POSIX's 'ctime' ensuring the above fixed\n",
       "     format.  Timezone and Daylight Saving Time are taken account of,\n",
       "     but _not_ indicated in the result.\n",
       "\n",
       "     The day and month abbreviations are always in English,\n",
       "     irrespective of locale.\n",
       "\n",
       "_\bR_\be_\bf_\be_\br_\be_\bn_\bc_\be_\bs:\n",
       "\n",
       "     Becker, R. A., Chambers, J. M. and Wilks, A. R. (1988) _The New S\n",
       "     Language_.  Wadsworth & Brooks/Cole.\n",
       "\n",
       "_\bS_\be_\be _\bA_\bl_\bs_\bo:\n",
       "\n",
       "     'Sys.Date' and 'Sys.time'; 'Date' and 'DateTimeClasses' for\n",
       "     objects representing date and time.\n",
       "\n",
       "_\bE_\bx_\ba_\bm_\bp_\bl_\be_\bs:\n",
       "\n",
       "     (d <- date())\n",
       "     nchar(d) == 24\n",
       "     \n",
       "     ## something similar in the current locale\n",
       "     format(Sys.time(), \"%a %b %d %H:%M:%S %Y\")\n",
       "     "
      ]
     },
     "metadata": {},
     "output_type": "display_data"
    }
   ],
   "source": [
    "?dates"
   ]
  },
  {
   "cell_type": "code",
   "execution_count": 23,
   "metadata": {},
   "outputs": [],
   "source": [
    "betterDates <- as.Date(dates,\n",
    "format = \"%m %d %Y\")\n",
    "\n",
    "#> betterDates\n",
    "#[1] \"1984-05-27\" \"2005-07-07\""
   ]
  },
  {
   "cell_type": "code",
   "execution_count": 24,
   "metadata": {},
   "outputs": [
    {
     "data": {
      "text/html": [
       "<ol class=list-inline>\n",
       "\t<li><time datetime=\"&lt;NA&gt;\">&lt;NA&gt;</time></li>\n",
       "\t<li><time datetime=\"&lt;NA&gt;\">&lt;NA&gt;</time></li>\n",
       "\t<li><time datetime=\"&lt;NA&gt;\">&lt;NA&gt;</time></li>\n",
       "\t<li><time datetime=\"&lt;NA&gt;\">&lt;NA&gt;</time></li>\n",
       "\t<li><time datetime=\"&lt;NA&gt;\">&lt;NA&gt;</time></li>\n",
       "\t<li><time datetime=\"&lt;NA&gt;\">&lt;NA&gt;</time></li>\n",
       "\t<li><time datetime=\"&lt;NA&gt;\">&lt;NA&gt;</time></li>\n",
       "\t<li><time datetime=\"&lt;NA&gt;\">&lt;NA&gt;</time></li>\n",
       "</ol>\n"
      ],
      "text/latex": [
       "\\begin{enumerate*}\n",
       "\\item <NA>\n",
       "\\item <NA>\n",
       "\\item <NA>\n",
       "\\item <NA>\n",
       "\\item <NA>\n",
       "\\item <NA>\n",
       "\\item <NA>\n",
       "\\item <NA>\n",
       "\\end{enumerate*}\n"
      ],
      "text/markdown": [
       "1. &lt;NA&gt;\n",
       "2. &lt;NA&gt;\n",
       "3. &lt;NA&gt;\n",
       "4. &lt;NA&gt;\n",
       "5. &lt;NA&gt;\n",
       "6. &lt;NA&gt;\n",
       "7. &lt;NA&gt;\n",
       "8. &lt;NA&gt;\n",
       "\n",
       "\n"
      ],
      "text/plain": [
       "[1] NA NA NA NA NA NA NA NA"
      ]
     },
     "metadata": {},
     "output_type": "display_data"
    }
   ],
   "source": [
    "betterDates"
   ]
  },
  {
   "cell_type": "code",
   "execution_count": 93,
   "metadata": {},
   "outputs": [
    {
     "data": {
      "text/html": [
       "<table>\n",
       "<thead><tr><th scope=col>NoOriginal</th><th scope=col>Farmers</th><th scope=col>Site</th><th scope=col>Regie</th><th scope=col>Prélèvement</th><th scope=col>TeaType</th><th scope=col>Répétition</th><th scope=col>Poids_Contenu..g.</th><th scope=col>Poids_Total._g</th><th scope=col>Poids_sac._g</th><th scope=col>Poids_final_g</th><th scope=col>PertePoids</th><th scope=col>DoseRepPrel</th><th scope=col>M_surM0</th></tr></thead>\n",
       "<tbody>\n",
       "\t<tr><td>946G        </td><td>Fortier     </td><td>45          </td><td>Conventionel</td><td>1           </td><td>Green tea   </td><td>1           </td><td>1.774       </td><td>2.127       </td><td>0.353       </td><td>1.0455      </td><td>0.4106539   </td><td>__45_1      </td><td>0.5893461   </td></tr>\n",
       "\t<tr><td>947G        </td><td>Fortier     </td><td>45          </td><td>Conventionel</td><td>1           </td><td>Green tea   </td><td>1           </td><td>1.802       </td><td>2.159       </td><td>0.357       </td><td>1.0219      </td><td>0.4329079   </td><td>__45_1      </td><td>0.5670921   </td></tr>\n",
       "\t<tr><td>948G        </td><td>Fortier     </td><td>45          </td><td>Conventionel</td><td>1           </td><td>Green tea   </td><td>1           </td><td>1.810       </td><td>2.171       </td><td>0.361       </td><td>1.0950      </td><td>0.3950276   </td><td>__45_1      </td><td>0.6049724   </td></tr>\n",
       "\t<tr><td>949G        </td><td>Fortier     </td><td>45          </td><td>Conventionel</td><td>1           </td><td>Green tea   </td><td>1           </td><td>1.754       </td><td>2.11        </td><td>0.357       </td><td>1.0212      </td><td>0.4177879   </td><td>__45_1      </td><td>0.5822121   </td></tr>\n",
       "\t<tr><td>950G        </td><td>Fortier     </td><td>45          </td><td>Conventionel</td><td>1           </td><td>Green tea   </td><td>1           </td><td>1.751       </td><td>2.108       </td><td>0.357       </td><td>1.0413      </td><td>0.4053113   </td><td>__45_1      </td><td>0.5946887   </td></tr>\n",
       "\t<tr><td>951G        </td><td>Fortier     </td><td>45          </td><td>Conventionel</td><td>1           </td><td>Green tea   </td><td>1           </td><td>1.785       </td><td>2.145       </td><td>0.359       </td><td>1.0841      </td><td>0.3926611   </td><td>__45_1      </td><td>0.6073389   </td></tr>\n",
       "</tbody>\n",
       "</table>\n"
      ],
      "text/latex": [
       "\\begin{tabular}{r|llllllllllllll}\n",
       " NoOriginal & Farmers & Site & Regie & Prélèvement & TeaType & Répétition & Poids\\_Contenu..g. & Poids\\_Total.\\_g & Poids\\_sac.\\_g & Poids\\_final\\_g & PertePoids & DoseRepPrel & M\\_surM0\\\\\n",
       "\\hline\n",
       "\t 946G         & Fortier      & 45           & Conventionel & 1            & Green tea    & 1            & 1.774        & 2.127        & 0.353        & 1.0455       & 0.4106539    & \\_\\_45\\_1 & 0.5893461   \\\\\n",
       "\t 947G         & Fortier      & 45           & Conventionel & 1            & Green tea    & 1            & 1.802        & 2.159        & 0.357        & 1.0219       & 0.4329079    & \\_\\_45\\_1 & 0.5670921   \\\\\n",
       "\t 948G         & Fortier      & 45           & Conventionel & 1            & Green tea    & 1            & 1.810        & 2.171        & 0.361        & 1.0950       & 0.3950276    & \\_\\_45\\_1 & 0.6049724   \\\\\n",
       "\t 949G         & Fortier      & 45           & Conventionel & 1            & Green tea    & 1            & 1.754        & 2.11         & 0.357        & 1.0212       & 0.4177879    & \\_\\_45\\_1 & 0.5822121   \\\\\n",
       "\t 950G         & Fortier      & 45           & Conventionel & 1            & Green tea    & 1            & 1.751        & 2.108        & 0.357        & 1.0413       & 0.4053113    & \\_\\_45\\_1 & 0.5946887   \\\\\n",
       "\t 951G         & Fortier      & 45           & Conventionel & 1            & Green tea    & 1            & 1.785        & 2.145        & 0.359        & 1.0841       & 0.3926611    & \\_\\_45\\_1 & 0.6073389   \\\\\n",
       "\\end{tabular}\n"
      ],
      "text/markdown": [
       "\n",
       "NoOriginal | Farmers | Site | Regie | Prélèvement | TeaType | Répétition | Poids_Contenu..g. | Poids_Total._g | Poids_sac._g | Poids_final_g | PertePoids | DoseRepPrel | M_surM0 | \n",
       "|---|---|---|---|---|---|\n",
       "| 946G         | Fortier      | 45           | Conventionel | 1            | Green tea    | 1            | 1.774        | 2.127        | 0.353        | 1.0455       | 0.4106539    | __45_1       | 0.5893461    | \n",
       "| 947G         | Fortier      | 45           | Conventionel | 1            | Green tea    | 1            | 1.802        | 2.159        | 0.357        | 1.0219       | 0.4329079    | __45_1       | 0.5670921    | \n",
       "| 948G         | Fortier      | 45           | Conventionel | 1            | Green tea    | 1            | 1.810        | 2.171        | 0.361        | 1.0950       | 0.3950276    | __45_1       | 0.6049724    | \n",
       "| 949G         | Fortier      | 45           | Conventionel | 1            | Green tea    | 1            | 1.754        | 2.11         | 0.357        | 1.0212       | 0.4177879    | __45_1       | 0.5822121    | \n",
       "| 950G         | Fortier      | 45           | Conventionel | 1            | Green tea    | 1            | 1.751        | 2.108        | 0.357        | 1.0413       | 0.4053113    | __45_1       | 0.5946887    | \n",
       "| 951G         | Fortier      | 45           | Conventionel | 1            | Green tea    | 1            | 1.785        | 2.145        | 0.359        | 1.0841       | 0.3926611    | __45_1       | 0.6073389    | \n",
       "\n",
       "\n"
      ],
      "text/plain": [
       "  NoOriginal Farmers Site Regie        Prélèvement TeaType   Répétition\n",
       "1 946G       Fortier 45   Conventionel 1           Green tea 1         \n",
       "2 947G       Fortier 45   Conventionel 1           Green tea 1         \n",
       "3 948G       Fortier 45   Conventionel 1           Green tea 1         \n",
       "4 949G       Fortier 45   Conventionel 1           Green tea 1         \n",
       "5 950G       Fortier 45   Conventionel 1           Green tea 1         \n",
       "6 951G       Fortier 45   Conventionel 1           Green tea 1         \n",
       "  Poids_Contenu..g. Poids_Total._g Poids_sac._g Poids_final_g PertePoids\n",
       "1 1.774             2.127          0.353        1.0455        0.4106539 \n",
       "2 1.802             2.159          0.357        1.0219        0.4329079 \n",
       "3 1.810             2.171          0.361        1.0950        0.3950276 \n",
       "4 1.754             2.11           0.357        1.0212        0.4177879 \n",
       "5 1.751             2.108          0.357        1.0413        0.4053113 \n",
       "6 1.785             2.145          0.359        1.0841        0.3926611 \n",
       "  DoseRepPrel M_surM0  \n",
       "1 __45_1      0.5893461\n",
       "2 __45_1      0.5670921\n",
       "3 __45_1      0.6049724\n",
       "4 __45_1      0.5822121\n",
       "5 __45_1      0.5946887\n",
       "6 __45_1      0.6073389"
      ]
     },
     "metadata": {},
     "output_type": "display_data"
    }
   ],
   "source": [
    "head(donnee_2018)"
   ]
  },
  {
   "cell_type": "code",
   "execution_count": 94,
   "metadata": {},
   "outputs": [],
   "source": [
    "Hf_g = 0.805 #pour nos donnee\n",
    "Hf_r = 0.826"
   ]
  },
  {
   "cell_type": "code",
   "execution_count": 95,
   "metadata": {},
   "outputs": [],
   "source": [
    "donnee_2018$a = NA\n",
    "donnee_2018$k_tbi = NA"
   ]
  },
  {
   "cell_type": "code",
   "execution_count": 96,
   "metadata": {},
   "outputs": [],
   "source": [
    "donnee_2018$a[donnee_2018$TeaType == \"Green tea\"] = (donnee_2018$Poids_Contenu..g.[donnee_2018$TeaType == \"Green tea\"] -\n",
    "                                            donnee_2018$Poids_final_g[donnee_2018$TeaType == \"Green tea\"]) /\n",
    "                                            donnee_2018$Poids_Contenu..g.[donnee_2018$TeaType == \"Green tea\"]"
   ]
  },
  {
   "cell_type": "code",
   "execution_count": 97,
   "metadata": {},
   "outputs": [],
   "source": [
    "donnee_2018$S = 1 - donnee_2018$a/Hf_g"
   ]
  },
  {
   "cell_type": "code",
   "execution_count": 98,
   "metadata": {},
   "outputs": [],
   "source": [
    "#head(donnee_2018$S)"
   ]
  },
  {
   "cell_type": "code",
   "execution_count": 99,
   "metadata": {},
   "outputs": [],
   "source": [
    "sdr = paste(donnee_2018$Site, donnee_2018$Prélèvement, donnee_2018$Repetition)\n",
    "sdr_u = unique(sdr)"
   ]
  },
  {
   "cell_type": "code",
   "execution_count": 100,
   "metadata": {},
   "outputs": [],
   "source": [
    "#sdr_u"
   ]
  },
  {
   "cell_type": "code",
   "execution_count": 101,
   "metadata": {},
   "outputs": [],
   "source": [
    "for (i in 1:length(sdr_u)) {\n",
    "  Sg_i = mean(donnee_2018$S[sdr == sdr_u[i] & donnee_2018$TeaType == \"Green tea\"], na.rm = TRUE)\n",
    "  \n",
    "  # Rooibos\n",
    "  donnee_2018$a[sdr == sdr_u[i] & donnee_2018$TeaType == \"Rooibos tea\"] = Hf_r * (1 - Sg_i)\n",
    "  ar_i = donnee_2018$a[sdr == sdr_u[i] & donnee_2018$TeaType == \"Rooibos tea\"]\n",
    "  M_surM0_i = donnee_2018$M_surM0[sdr == sdr_u[i] & donnee_2018$TeaType == \"Rooibos tea\"]\n",
    "  donnee_2018$k_tbi[sdr == sdr_u[i] & donnee_2018$TeaType == \"Rooibos tea\"] = log(ar_i / (M_surM0_i - (1-ar_i))) / 90\n",
    "  \n",
    "  \n",
    "}"
   ]
  },
  {
   "cell_type": "code",
   "execution_count": 102,
   "metadata": {},
   "outputs": [],
   "source": [
    "TBI_data_2018 = donnee_2018 %>%\n",
    "  select(k_tbi, TeaType, Farmers,Prélèvement, Site, a) %>%\n",
    "  drop_na(.) %>%\n",
    "  droplevels(.)"
   ]
  },
  {
   "cell_type": "markdown",
   "metadata": {},
   "source": [
    "lme_TBI_2018 <- lme(fixed = k_tbi ~ Prélèvement,\n",
    "    random = ~ 1 | Farmers/Site, #/DoseRep,\n",
    "    data = TBI_rooibos) # [omdecomp_data$TauxDecomposition_C > 0, ]"
   ]
  },
  {
   "cell_type": "code",
   "execution_count": 103,
   "metadata": {},
   "outputs": [
    {
     "data": {
      "text/html": [
       "<table>\n",
       "<thead><tr><th></th><th scope=col>k_tbi</th><th scope=col>TeaType</th><th scope=col>Farmers</th><th scope=col>Prélèvement</th><th scope=col>Site</th><th scope=col>a</th></tr></thead>\n",
       "<tbody>\n",
       "\t<tr><th scope=row>21</th><td>0.004213891</td><td>Rooibos tea</td><td>Fortier    </td><td>1          </td><td>45         </td><td>0.4136085  </td></tr>\n",
       "\t<tr><th scope=row>22</th><td>0.004293703</td><td>Rooibos tea</td><td>Fortier    </td><td>1          </td><td>45         </td><td>0.4136085  </td></tr>\n",
       "\t<tr><th scope=row>23</th><td>0.004011456</td><td>Rooibos tea</td><td>Fortier    </td><td>1          </td><td>45         </td><td>0.4136085  </td></tr>\n",
       "\t<tr><th scope=row>24</th><td>0.004313499</td><td>Rooibos tea</td><td>Fortier    </td><td>1          </td><td>45         </td><td>0.4136085  </td></tr>\n",
       "\t<tr><th scope=row>25</th><td>0.004176709</td><td>Rooibos tea</td><td>Fortier    </td><td>1          </td><td>45         </td><td>0.4136085  </td></tr>\n",
       "\t<tr><th scope=row>26</th><td>0.004298403</td><td>Rooibos tea</td><td>Fortier    </td><td>1          </td><td>45         </td><td>0.4136085  </td></tr>\n",
       "</tbody>\n",
       "</table>\n"
      ],
      "text/latex": [
       "\\begin{tabular}{r|llllll}\n",
       "  & k\\_tbi & TeaType & Farmers & Prélèvement & Site & a\\\\\n",
       "\\hline\n",
       "\t21 & 0.004213891 & Rooibos tea & Fortier     & 1           & 45          & 0.4136085  \\\\\n",
       "\t22 & 0.004293703 & Rooibos tea & Fortier     & 1           & 45          & 0.4136085  \\\\\n",
       "\t23 & 0.004011456 & Rooibos tea & Fortier     & 1           & 45          & 0.4136085  \\\\\n",
       "\t24 & 0.004313499 & Rooibos tea & Fortier     & 1           & 45          & 0.4136085  \\\\\n",
       "\t25 & 0.004176709 & Rooibos tea & Fortier     & 1           & 45          & 0.4136085  \\\\\n",
       "\t26 & 0.004298403 & Rooibos tea & Fortier     & 1           & 45          & 0.4136085  \\\\\n",
       "\\end{tabular}\n"
      ],
      "text/markdown": [
       "\n",
       "| <!--/--> | k_tbi | TeaType | Farmers | Prélèvement | Site | a | \n",
       "|---|---|---|---|---|---|\n",
       "| 21 | 0.004213891 | Rooibos tea | Fortier     | 1           | 45          | 0.4136085   | \n",
       "| 22 | 0.004293703 | Rooibos tea | Fortier     | 1           | 45          | 0.4136085   | \n",
       "| 23 | 0.004011456 | Rooibos tea | Fortier     | 1           | 45          | 0.4136085   | \n",
       "| 24 | 0.004313499 | Rooibos tea | Fortier     | 1           | 45          | 0.4136085   | \n",
       "| 25 | 0.004176709 | Rooibos tea | Fortier     | 1           | 45          | 0.4136085   | \n",
       "| 26 | 0.004298403 | Rooibos tea | Fortier     | 1           | 45          | 0.4136085   | \n",
       "\n",
       "\n"
      ],
      "text/plain": [
       "   k_tbi       TeaType     Farmers Prélèvement Site a        \n",
       "21 0.004213891 Rooibos tea Fortier 1           45   0.4136085\n",
       "22 0.004293703 Rooibos tea Fortier 1           45   0.4136085\n",
       "23 0.004011456 Rooibos tea Fortier 1           45   0.4136085\n",
       "24 0.004313499 Rooibos tea Fortier 1           45   0.4136085\n",
       "25 0.004176709 Rooibos tea Fortier 1           45   0.4136085\n",
       "26 0.004298403 Rooibos tea Fortier 1           45   0.4136085"
      ]
     },
     "metadata": {},
     "output_type": "display_data"
    }
   ],
   "source": [
    "head(TBI_data_2018) "
   ]
  },
  {
   "cell_type": "code",
   "execution_count": null,
   "metadata": {},
   "outputs": [],
   "source": []
  },
  {
   "cell_type": "code",
   "execution_count": null,
   "metadata": {},
   "outputs": [],
   "source": []
  },
  {
   "cell_type": "code",
   "execution_count": 104,
   "metadata": {},
   "outputs": [
    {
     "data": {
      "image/png": "[encoded data removed]",
      "text/plain": [
       "plot without title"
      ]
     },
     "metadata": {},
     "output_type": "display_data",
     "source": "R display func"
    }
   ],
   "source": [
    "# vérifier comment le modèle se comporte\n",
    "wfrac_f <- function(a, k, t, h) a*exp(-k*t^(1-h)) + (1-a)\n",
    "t <- seq(0, 120, 1)\n",
    "wfrac <- wfrac_f(a = 2, k = 0.25, t = t, h = 0)\n",
    "plot(t, wfrac, type='l')\n",
    "lines(t, wfrac_f(a = 2, k = 0.25, t = t, h = 0.9), col = 'red')"
   ]
  },
  {
   "cell_type": "code",
   "execution_count": 105,
   "metadata": {},
   "outputs": [],
   "source": [
    "# lisser le modèle non linéaire\n",
    "t <- seq(0, 7, 1) *21"
   ]
  },
  {
   "cell_type": "code",
   "execution_count": 106,
   "metadata": {},
   "outputs": [],
   "source": [
    "wfrac <- wfrac_f(a = 0.8, k = 0.05, t = t, h = 0.2) + rnorm(length(t), 0, 0.01)"
   ]
  },
  {
   "cell_type": "code",
   "execution_count": 107,
   "metadata": {},
   "outputs": [
    {
     "data": {
      "image/png": "[encoded data removed]",
      "text/plain": [
       "plot without title"
      ]
     },
     "metadata": {},
     "output_type": "display_data",
     "source": "R display func"
    }
   ],
   "source": [
    "plot(t, wfrac)"
   ]
  },
  {
   "cell_type": "code",
   "execution_count": 108,
   "metadata": {},
   "outputs": [],
   "source": [
    "df <- data.frame(t, W = TBI_data_2018)"
   ]
  },
  {
   "cell_type": "code",
   "execution_count": 116,
   "metadata": {},
   "outputs": [
    {
     "data": {
      "image/png": "[encoded data removed]",
      "text/plain": [
       "plot without title"
      ]
     },
     "metadata": {},
     "output_type": "display_data",
     "source": "R display func"
    }
   ],
   "source": [
    "plot(df$t, df$W.k_tbi)"
   ]
  },
  {
   "cell_type": "code",
   "execution_count": 113,
   "metadata": {},
   "outputs": [
    {
     "ename": "ERROR",
     "evalue": "Error in numericDeriv(form[[3L]], names(ind), env): Valeur manquante ou infinie obtenue au cours du calcul du modèle\n",
     "execution_count": 113,
     "output_type": "error",
     "traceback": [
      "Error in numericDeriv(form[[3L]], names(ind), env): Valeur manquante ou infinie obtenue au cours du calcul du modèle\nTraceback:\n",
      "1. nls(W.k_tbi ~ a * exp(-k * t^(1 - h)) + (1 - a), data = df, start = list(a = 0.5, \n .     k = 0.02, h = 0.3), algorithm = \"plinear\")",
      "2. (function (newPars) \n . {\n .     setPars(newPars)\n .     assign(\"QR.rhs\", qr(.swts * assign(\"rhs\", getRHS(), envir = thisEnv)), \n .         envir = thisEnv)\n .     assign(\"resid\", qr.resid(QR.rhs, .swts * lhs), envir = thisEnv)\n .     assign(\"dev\", sum(resid^2), envir = thisEnv)\n .     if (QR.rhs$rank < p1) {\n .         return(1)\n .     }\n .     else {\n .         assign(\"lin\", qr.coef(QR.rhs, .swts * lhs), envir = thisEnv)\n .         return(0)\n .     }\n . })(c(a = 179.683238407499, k = -1.81111336341212, h = 2.92154131035981\n . ))",
      "3. assign(\"QR.rhs\", qr(.swts * assign(\"rhs\", getRHS(), envir = thisEnv)), \n .     envir = thisEnv)",
      "4. qr(.swts * assign(\"rhs\", getRHS(), envir = thisEnv))",
      "5. assign(\"rhs\", getRHS(), envir = thisEnv)",
      "6. getRHS()",
      "7. numericDeriv(form[[3L]], names(ind), env)"
     ]
    }
   ],
   "source": [
    "md_nl <- nls(W.k_tbi ~ a*exp(-k*t^(1-h)) + (1-a),\n",
    "             data = df,\n",
    "             start = list(a = 0.5, k = 0.02, h = 0.3),\n",
    "             algorithm = \"plinear\")"
   ]
  },
  {
   "cell_type": "code",
   "execution_count": null,
   "metadata": {},
   "outputs": [],
   "source": [
    "md_nl\n",
    "newdata = data.frame(t = 0:150)\n",
    "W_fit <- predict(md_nl, newdata = newdata)\n",
    "lines(newdata$t, W_fit, col = \"red\", lty = 2)"
   ]
  },
  {
   "cell_type": "code",
   "execution_count": null,
   "metadata": {},
   "outputs": [],
   "source": [
    "head(donnee_2018)"
   ]
  },
  {
   "cell_type": "code",
   "execution_count": null,
   "metadata": {},
   "outputs": [],
   "source": []
  },
  {
   "cell_type": "code",
   "execution_count": null,
   "metadata": {},
   "outputs": [],
   "source": []
  },
  {
   "cell_type": "code",
   "execution_count": null,
   "metadata": {},
   "outputs": [],
   "source": []
  },
  {
   "cell_type": "code",
   "execution_count": null,
   "metadata": {},
   "outputs": [],
   "source": []
  },
  {
   "cell_type": "code",
   "execution_count": null,
   "metadata": {},
   "outputs": [],
   "source": []
  },
  {
   "cell_type": "code",
   "execution_count": null,
   "metadata": {},
   "outputs": [],
   "source": []
  },
  {
   "cell_type": "code",
   "execution_count": null,
   "metadata": {},
   "outputs": [],
   "source": []
  },
  {
   "cell_type": "code",
   "execution_count": null,
   "metadata": {},
   "outputs": [],
   "source": []
  },
  {
   "cell_type": "code",
   "execution_count": null,
   "metadata": {},
   "outputs": [],
   "source": []
  },
  {
   "cell_type": "code",
   "execution_count": null,
   "metadata": {},
   "outputs": [],
   "source": []
  }
 ],
 "metadata": {
  "kernelspec": {
   "display_name": "R",
   "language": "R",
   "name": "ir"
  },
  "language_info": {
   "codemirror_mode": "r",
   "file_extension": ".r",
   "mimetype": "text/x-r-source",
   "name": "R",
   "pygments_lexer": "r",
   "version": "3.5.1"
  }
 },
 "nbformat": 4,
 "nbformat_minor": 2
}
