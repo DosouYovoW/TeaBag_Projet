{
 "cells": [
  {
   "cell_type": "markdown",
   "metadata": {},
   "source": [
    "# Organic matter decomposition kinetics and potential carbon sequestration in cranberry agroecosystems \n",
    "\n",
    "*Wilfried Dossou-Yovo, Serge Étienne Parent,Noura Ziadi, Élizabeth Parent and Léon Étienne Parent*"
   ]
  },
  {
   "cell_type": "code",
   "execution_count": 2,
   "metadata": {},
   "outputs": [
    {
     "name": "stdout",
     "output_type": "stream",
     "text": [
      "[1] \"2020-09-15\"\n"
     ]
    }
   ],
   "source": [
    "print(Sys.Date())"
   ]
  },
  {
   "cell_type": "markdown",
   "metadata": {},
   "source": [
    "## 1. Objective"
   ]
  },
  {
   "cell_type": "markdown",
   "metadata": {},
   "source": [
    "This notebook generates the results included in the manuscript *Organic matter decomposition kinetics and potential carbon sequestration in cranberry agroecosystems*. Two trials have been made, first one in 2017 (data.csv) and the second in 2018 (data_fractal.csv).Data set from trials are a collection of incubated tea bag weight, nitrogen, carbon and sulfur content, nitrogen type and doses on trials fieds. The aims of this study was to assess soil carbon sequestration capacity of cranberry stands in eastern Canada."
   ]
  },
  {
   "cell_type": "markdown",
   "metadata": {},
   "source": [
    "## 2. Statistical questions\n",
    "\n",
    "In addition to data exploration, this notebook will answer the following statistical questions.\n",
    "\n",
    "1. What's affecting 1st order kinetics?\n",
    "2. What affecting TBI parameters (k)?\n",
    "3. Where cranberry soils are placed among the axes of the *TBI*?\n",
    "4. What is the fractal kinetics of litter matterials ?\n",
    "5. What is the fractal kinetics of litter biochemical composition ?"
   ]
  },
  {
   "cell_type": "markdown",
   "metadata": {},
   "source": [
    "## 3. Packages and Function"
   ]
  },
  {
   "cell_type": "markdown",
   "metadata": {},
   "source": [
    "### 3.1 Packages"
   ]
  },
  {
   "cell_type": "markdown",
   "metadata": {},
   "source": [
    "We need package [tidyverse](https://www.tidyverse.org/) which loads a set of packages for easy data manipulation (e.g. [dplyr](https://www.rdocumentation.org/packages/dplyr/versions/0.7.8)) and visualization (e.g. [ggplot2](https://www.rdocumentation.org/packages/ggplot2/versions/3.2.1)). A set of other packages is used: [nlme](https://www.rdocumentation.org/packages/nlme/versions/3.1-143/topics/nlme) for fitting nonlinear mixed-effects models, the broom package summarises model outputs in a \"tidy\" way, [e1071](https://www.rdocumentation.org/packages/e1071/versions/1.7-3) to test distributions, [ggmap](https://www.rdocumentation.org/packages/ggmap/versions/3.0.0) for mapping, [ggrepel](https://www.rdocumentation.org/packages/ggrepel/versions/0.8.1) to avoid text overlaping on ggplot2, [patchwork](https://www.rdocumentation.org/packages/patchwork/versions/1.0.0/topics/patchwork-package) to assemble plots in grids, [composition](https://www.rdocumentation.org/packages/compositions/versions/1.40-5) for compositional data transformations."
   ]
  },
  {
   "cell_type": "code",
   "execution_count": 3,
   "metadata": {},
   "outputs": [
    {
     "name": "stderr",
     "output_type": "stream",
     "text": [
      "Warning message:\n",
      "\"package 'tidyverse' was built under R version 3.6.2\"-- Attaching packages --------------------------------------- tidyverse 1.3.0 --\n",
      "v ggplot2 3.2.1     v purrr   0.3.3\n",
      "v tibble  2.1.3     v dplyr   0.8.3\n",
      "v tidyr   1.0.0     v stringr 1.4.0\n",
      "v readr   1.3.1     v forcats 0.4.0\n",
      "Warning message:\n",
      "\"package 'ggplot2' was built under R version 3.6.2\"Warning message:\n",
      "\"package 'tibble' was built under R version 3.6.2\"Warning message:\n",
      "\"package 'tidyr' was built under R version 3.6.2\"Warning message:\n",
      "\"package 'readr' was built under R version 3.6.2\"Warning message:\n",
      "\"package 'purrr' was built under R version 3.6.2\"Warning message:\n",
      "\"package 'dplyr' was built under R version 3.6.2\"Warning message:\n",
      "\"package 'stringr' was built under R version 3.6.2\"Warning message:\n",
      "\"package 'forcats' was built under R version 3.6.2\"-- Conflicts ------------------------------------------ tidyverse_conflicts() --\n",
      "x dplyr::filter() masks stats::filter()\n",
      "x dplyr::lag()    masks stats::lag()\n",
      "Warning message:\n",
      "\"package 'nlme' was built under R version 3.6.2\"\n",
      "Attaching package: 'nlme'\n",
      "\n",
      "The following object is masked from 'package:dplyr':\n",
      "\n",
      "    collapse\n",
      "\n",
      "Warning message:\n",
      "\"package 'broom' was built under R version 3.6.2\"Warning message:\n",
      "\"package 'e1071' was built under R version 3.6.2\"Warning message:\n",
      "\"package 'ggmap' was built under R version 3.6.2\"Google's Terms of Service: https://cloud.google.com/maps-platform/terms/.\n",
      "Please cite ggmap if you use it! See citation(\"ggmap\") for details.\n",
      "Warning message:\n",
      "\"package 'ggrepel' was built under R version 3.6.2\"Warning message:\n",
      "\"package 'compositions' was built under R version 3.6.2\"Loading required package: tensorA\n",
      "\n",
      "Attaching package: 'tensorA'\n",
      "\n",
      "The following object is masked from 'package:base':\n",
      "\n",
      "    norm\n",
      "\n",
      "Loading required package: robustbase\n",
      "Warning message:\n",
      "\"package 'robustbase' was built under R version 3.6.2\"Loading required package: bayesm\n",
      "Warning message:\n",
      "\"package 'bayesm' was built under R version 3.6.2\"Welcome to compositions, a package for compositional data analysis.\n",
      "Find an intro with \"? compositions\"\n",
      "\n",
      "\n",
      "Attaching package: 'compositions'\n",
      "\n",
      "The following objects are masked from 'package:stats':\n",
      "\n",
      "    cor, cov, dist, var\n",
      "\n",
      "The following objects are masked from 'package:base':\n",
      "\n",
      "    %*%, scale, scale.default\n",
      "\n",
      "Warning message:\n",
      "\"package 'patchwork' was built under R version 3.6.3\""
     ]
    }
   ],
   "source": [
    "library(\"tidyverse\")\n",
    "library(\"nlme\")\n",
    "library(\"broom\")\n",
    "library(\"e1071\")\n",
    "library(\"ggmap\")\n",
    "library(\"ggrepel\")\n",
    "library(\"compositions\")\n",
    "library(\"patchwork\")"
   ]
  },
  {
   "cell_type": "markdown",
   "metadata": {},
   "source": [
    "## 3.2 Some custom functions.\n",
    "### Pseudo R-square\n",
    "Pseudo R-square allows to measure how well variables of our model explain organic matter decomposition"
   ]
  },
  {
   "cell_type": "code",
   "execution_count": 4,
   "metadata": {},
   "outputs": [],
   "source": [
    "pseudoR2 <- function(y, y_hat) {\n",
    "  1 - (sum((y - y_hat)^2) / sum((y - mean(y))^2))\n",
    "}\n",
    "\n",
    "# Residuals\n",
    "residues <- function(model, level = 0, computeResidues = TRUE, residues,\n",
    "                   main = \"\") {\n",
    "  if (computeResidues) {\n",
    "    r = residuals(model, type=\"normalized\", level)\n",
    "  } else {\n",
    "    r = residues\n",
    "  }\n",
    "  hist(r, freq=F, main = main, breaks=20)\n",
    "  xfit<-seq(min(r),max(r),length=40)\n",
    "  yfit<-dnorm(xfit)\n",
    "  lines(xfit, yfit, col=\"red\", lwd=2)\n",
    "  print(\"Shapiro-Wilk:\")\n",
    "  print(shapiro.test(r))\n",
    "  print(paste(\"Kurtosis:\", kurtosis(r)))\n",
    "  print(paste(\"Skewness:\", skewness(r)))\n",
    "}\n"
   ]
  },
  {
   "cell_type": "markdown",
   "metadata": {},
   "source": [
    "## 4. Import data\n",
    "Here, we load our data `data.csv` available for the project in the `data` folder."
   ]
  },
  {
   "cell_type": "code",
   "execution_count": 5,
   "metadata": {},
   "outputs": [
    {
     "name": "stderr",
     "output_type": "stream",
     "text": [
      "Parsed with column specification:\n",
      "cols(\n",
      "  No = col_double(),\n",
      "  `Tea type abbr` = col_character(),\n",
      "  `Tea type` = col_character(),\n",
      "  `Initial tea weight (g)` = col_double(),\n",
      "  `Initial total weight (g)` = col_double(),\n",
      "  `Initial bag weight (g)` = col_double(),\n",
      "  `Remaining tea weight (g)` = col_double(),\n",
      "  Farm = col_character(),\n",
      "  Site = col_character(),\n",
      "  `Farming system` = col_character(),\n",
      "  `Nitrogen type` = col_character(),\n",
      "  `Nitrogen dose` = col_double(),\n",
      "  Repetition = col_double(),\n",
      "  `Remaining C (%)` = col_double(),\n",
      "  `Remaining N (%)` = col_double(),\n",
      "  `Remaining S (%)` = col_double(),\n",
      "  `Initial C fraction` = col_double()\n",
      ")\n"
     ]
    }
   ],
   "source": [
    "df <- read_csv(\"data/data.csv\")"
   ]
  },
  {
   "cell_type": "markdown",
   "metadata": {},
   "source": [
    "We create a label `Dose repetition` to create unique identifiers for blocks."
   ]
  },
  {
   "cell_type": "code",
   "execution_count": 6,
   "metadata": {},
   "outputs": [],
   "source": [
    "df$`Dose repetition` <- paste0(df$`Nitrogen dose`, '_', df$Repetition,'_', df$Site)"
   ]
  },
  {
   "cell_type": "markdown",
   "metadata": {},
   "source": [
    "*Cranberry litter* category will be used for the reference category in modeling."
   ]
  },
  {
   "cell_type": "code",
   "execution_count": 7,
   "metadata": {},
   "outputs": [],
   "source": [
    "df$`Tea type` <- relevel(factor(df$`Tea type`), ref = 'Cranberry litter')"
   ]
  },
  {
   "cell_type": "markdown",
   "metadata": {},
   "source": [
    "## 5. Mapping experimental sites"
   ]
  },
  {
   "cell_type": "markdown",
   "metadata": {},
   "source": [
    "We design a map of our four experimental sites with geographical position collected from Stamen maps. Warnings appear, but it seems its a bug that comes out when mixing ggmap and geom_label_repel."
   ]
  },
  {
   "cell_type": "code",
   "execution_count": 8,
   "metadata": {},
   "outputs": [
    {
     "name": "stderr",
     "output_type": "stream",
     "text": [
      "Source : http://tile.stamen.com/toner-lite/4/4/4.png\n",
      "Source : http://tile.stamen.com/toner-lite/4/5/4.png\n",
      "Source : http://tile.stamen.com/toner-lite/4/4/5.png\n",
      "Source : http://tile.stamen.com/toner-lite/4/5/5.png\n",
      "Source : http://tile.stamen.com/toner-lite/8/76/90.png\n",
      "Source : http://tile.stamen.com/toner-lite/8/77/90.png\n",
      "Source : http://tile.stamen.com/toner-lite/8/76/91.png\n",
      "Source : http://tile.stamen.com/toner-lite/8/77/91.png\n",
      "Warning message in min(x):\n",
      "\"aucun argument trouvé pour min ; Inf est renvoyé\"Warning message in max(x):\n",
      "\"aucun argument pour max ; -Inf est renvoyé\"Warning message in min(x):\n",
      "\"aucun argument trouvé pour min ; Inf est renvoyé\"Warning message in max(x):\n",
      "\"aucun argument pour max ; -Inf est renvoyé\""
     ]
    }
   ],
   "source": [
    "# table including sites and their geograhic position\n",
    "sites <- tibble(names = c(\"Fortier/45\", \"Fortier/9\", \"Belanger/A9\", \"Belanger/10\"),\n",
    "                lat = c(46.2759555, 46.2759555, 46.2329064, 46.3277404),\n",
    "                lon = c(-71.8584291, -71.8584291, -72.0461854, -71.7486645))\n",
    "\n",
    "# create two frames, one for zoom out, the other for zoom in\n",
    "frame_map_zoom_out <- c(left = -90, bottom = 44, right = -53, top = 63)\n",
    "frame_map_zoom_in <- c(left = -73, bottom = 46, right = -70.5, top = 47)\n",
    "\n",
    "# to draw the zoom in frame on the zoom out map\n",
    "rect_zoom <- data.frame(t(data.frame(frame_map_zoom_in)))\n",
    "\n",
    "# the map with zoom out\n",
    "map_out <- get_stamenmap(frame_map_zoom_out, zoom = 4, maptype = \"toner-lite\") %>%\n",
    "  ggmap() +\n",
    "  geom_rect(data = rect_zoom, aes(xmin = left, xmax = right,\n",
    "                                  ymin = bottom, ymax = top,\n",
    "                                  x = NULL, y = NULL),\n",
    "            fill = rgb(0, 0, 0, 0.2), colour = \"black\") +\n",
    "  #geom_label_repel(data = sites, aes(x = lon, y = lat, label = names)) +\n",
    "  labs(x = \"Longitude\", y = \"Latiude\", title = \"A\")\n",
    "\n",
    "# the map with zoom in\n",
    "map_in <- get_stamenmap(frame_map_zoom_in, zoom = 8, maptype = \"toner-lite\") %>%\n",
    "  ggmap() +\n",
    "  geom_label_repel(data = sites, aes(x = lon, y = lat, label = names)) +\n",
    "  labs(x = \"Longitude\", y = \"Latiude\", title = \"B\")\n",
    "\n",
    "# combining the plots\n",
    "maps_ <- map_out + map_in\n",
    "\n",
    "ggsave(\"figures/site_map.png\", plot = maps_, width = 8, height = 6, dpi = 600)"
   ]
  },
  {
   "cell_type": "markdown",
   "metadata": {},
   "source": [
    "## 6. Monthly weather data (2008-2018) at Lemieux, Quebec (46° 09′ 56″ N 72° 19′ 28″ W), for experimental sites (Gouvernement du Canada, 2018)"
   ]
  },
  {
   "cell_type": "markdown",
   "metadata": {},
   "source": [
    "### 6.1 Import data weather\n",
    "\n",
    "`Data weather` has been collected from environnement canada. The content is the collection of data history about temperature and precipitation from years of field trial (2017 and 2018) and 10 years average (2008 to 2018)."
   ]
  },
  {
   "cell_type": "code",
   "execution_count": 9,
   "metadata": {},
   "outputs": [
    {
     "name": "stderr",
     "output_type": "stream",
     "text": [
      "Using ',' as decimal and '.' as grouping mark. Use read_delim() for more control.\n",
      "Parsed with column specification:\n",
      "cols(\n",
      "  Years = col_character(),\n",
      "  Months = col_character(),\n",
      "  `Precipitations(mm)` = col_double(),\n",
      "  `Temperatures(oC)` = col_double()\n",
      ")\n"
     ]
    }
   ],
   "source": [
    "df_weather <- read_csv2(\"data/data_weather.csv\")"
   ]
  },
  {
   "cell_type": "markdown",
   "metadata": {},
   "source": [
    "### 6.2 Plot weather data"
   ]
  },
  {
   "cell_type": "code",
   "execution_count": 10,
   "metadata": {},
   "outputs": [
    {
     "data": {
      "image/png": "[encoded data removed]",
      "text/plain": [
       "plot without title"
      ]
     },
     "metadata": {},
     "output_type": "display_data"
    }
   ],
   "source": [
    "df_weather$Months <- factor(df_weather$Months,levels = c(\"June\", \"July\", \"August\", \"September\")) #  Sorting bars by Months\n",
    "\n",
    "df_weather_long <- df_weather %>%\n",
    "  pivot_longer(cols = -c(Years, Months))\n",
    "\n",
    "Weather <- df_weather_long %>%\n",
    "  filter(Years %in% c(\"2017\", \"2018\")) %>%\n",
    "  ggplot(aes(x = `Months`, y = value)) +\n",
    "  facet_grid(name ~ ., scales = \"free\", switch = \"y\") +\n",
    "  geom_bar(aes(fill= Years), colour = \"black\", stat=\"identity\", position=\"dodge\") +\n",
    "  geom_errorbar(data = df_weather_long %>% filter(Years == \"10 Years average\"),\n",
    "                mapping = aes(x = `Months`, ymax = value, ymin = value)) +\n",
    "  geom_label(data = df_weather_long %>% filter(Years == \"10 Years average\"),\n",
    "            mapping = aes(label = paste(\"10-y. av. = \", value), hjust = 0.6, vjust = 0.5)) +\n",
    "  #scale_fill_brewer(palette = \"Set2\") +\n",
    "  theme_bw() +\n",
    "  theme(axis.title.y = element_blank(),\n",
    "        strip.background = element_rect(fill = \"transparent\", colour = \"transparent\"),\n",
    "        strip.placement = \"outside\")\n",
    "Weather\n",
    "ggsave(\"figures/Weather.png\", plot = Weather, width = 7, height = 8, dpi = 120)"
   ]
  },
  {
   "cell_type": "markdown",
   "metadata": {},
   "source": [
    "## 7. Compute the 1st order kinetics"
   ]
  },
  {
   "cell_type": "markdown",
   "metadata": {},
   "source": [
    "Weight loss rate has been estimated with the function\n",
    "\n",
    "$k_1 = \\frac{-ln \\left( \\frac{M(t)}{M_0} \\right) }{t}$,\n",
    "\n",
    "where $M_0$ is initial litter organic mass, $M(t)$ is litter organic mass that remains after incubation time $t = 90~days$, and $k_1$ is decomposition rate. "
   ]
  },
  {
   "cell_type": "code",
   "execution_count": 11,
   "metadata": {},
   "outputs": [],
   "source": [
    "kinetics_1st <- function(rw, iw, t) { # First order kinetic function\n",
    "    -log(rw/iw)/t\n",
    "}"
   ]
  },
  {
   "cell_type": "markdown",
   "metadata": {},
   "source": [
    "We can compute `k1` for each row of the `df` table."
   ]
  },
  {
   "cell_type": "code",
   "execution_count": 12,
   "metadata": {},
   "outputs": [],
   "source": [
    "df$k1 <- kinetics_1st(rw = df$`Remaining tea weight (g)`,\n",
    "                      iw = df$`Initial tea weight (g)`,\n",
    "                      t = 90)"
   ]
  },
  {
   "cell_type": "markdown",
   "metadata": {},
   "source": [
    "## 8. Data exploration"
   ]
  },
  {
   "cell_type": "markdown",
   "metadata": {},
   "source": [
    "Boxplot of $k_1$ for different N dosages per litter."
   ]
  },
  {
   "cell_type": "code",
   "execution_count": 13,
   "metadata": {},
   "outputs": [
    {
     "name": "stderr",
     "output_type": "stream",
     "text": [
      "Warning message:\n",
      "\"Removed 49 rows containing non-finite values (stat_boxplot).\""
     ]
    },
    {
     "data": {
      "image/png": "[encoded data removed]",
      "text/plain": [
       "plot without title"
      ]
     },
     "metadata": {},
     "output_type": "display_data"
    }
   ],
   "source": [
    "options(repr.plot.width = 6, repr.plot.height = 10)\n",
    "ggplot(data = df,\n",
    "       mapping = aes(x = `Nitrogen type`, y = k1)) +\n",
    "  facet_grid(`Tea type` ~ ., scales = \"free\") +\n",
    "  geom_boxplot()"
   ]
  },
  {
   "cell_type": "markdown",
   "metadata": {},
   "source": [
    "## 9. Mixed model"
   ]
  },
  {
   "cell_type": "markdown",
   "metadata": {},
   "source": [
    "## 9.1 **Question 1**: What's affecting 1st order kinetics?"
   ]
  },
  {
   "cell_type": "markdown",
   "metadata": {},
   "source": [
    "The dose is standardized to zero mean and unit variance."
   ]
  },
  {
   "cell_type": "code",
   "execution_count": 14,
   "metadata": {},
   "outputs": [],
   "source": [
    "df <- df %>%\n",
    "  mutate(`Nitrogen dose scaled` = scale(`Nitrogen dose`))"
   ]
  },
  {
   "cell_type": "markdown",
   "metadata": {},
   "source": [
    "We rename variables without special characters to avoid errors, make sure litters and N dose types are categories, remove NAs in the table and remove categories that might still be in the description but now removed from the table, just in case."
   ]
  },
  {
   "cell_type": "code",
   "execution_count": 15,
   "metadata": {},
   "outputs": [],
   "source": [
    "df_mm <- df %>%\n",
    "  rename(tea = `Tea type`,\n",
    "         Ntype = `Nitrogen type`,\n",
    "         Ndose = `Nitrogen dose scaled`) %>%\n",
    "  mutate(tea = factor(tea),\n",
    "         Ntype = factor(Ntype)) %>%\n",
    "  drop_na() %>%\n",
    "  droplevels()"
   ]
  },
  {
   "cell_type": "markdown",
   "metadata": {},
   "source": [
    "The model investigates the effect of the type of the dose (`Ntype`), the magnitude of the dose (`Ndose`) and the litter (`tea`) on `k1`, considering the random effect of sites (`Site`) nested in farms (`Farm`)."
   ]
  },
  {
   "cell_type": "code",
   "execution_count": 16,
   "metadata": {},
   "outputs": [
    {
     "data": {
      "text/plain": [
       "Approximate 95% confidence intervals\n",
       "\n",
       " Fixed effects:\n",
       "                              lower          est.         upper\n",
       "(Intercept)           -9.462499e-04  1.239422e-04  1.194134e-03\n",
       "NtypeN-6-1-1          -3.665047e-04  3.700764e-04  1.106658e-03\n",
       "NtypeN-8-0-0          -1.743339e-04  6.346989e-04  1.443732e-03\n",
       "NtypeN-SCU            -3.796524e-04  4.694389e-05  4.735401e-04\n",
       "Ndose                 -4.208384e-05  1.652003e-04  3.724843e-04\n",
       "teaGreen tea           9.339279e-03  9.623519e-03  9.907758e-03\n",
       "teaHibiscus Tea        2.407132e-03  3.666307e-03  4.925482e-03\n",
       "teaRooibos tea         2.814486e-03  3.098231e-03  3.381976e-03\n",
       "teaSencha Tea          1.174453e-02  1.300483e-02  1.426513e-02\n",
       "Ndose:teaGreen tea    -5.759244e-04 -2.997410e-04 -2.355757e-05\n",
       "Ndose:teaHibiscus Tea -1.100256e-03  2.016238e-04  1.503503e-03\n",
       "Ndose:teaRooibos tea  -4.628685e-04 -1.901865e-04  8.249546e-05\n",
       "Ndose:teaSencha Tea   -2.914566e-03 -1.612294e-03 -3.100234e-04\n",
       "attr(,\"label\")\n",
       "[1] \"Fixed effects:\"\n",
       "\n",
       " Random Effects:\n",
       "  Level: Farm \n",
       "                       lower         est.       upper\n",
       "sd((Intercept)) 0.0001098398 0.0006631735 0.004004004\n",
       "  Level: Site \n",
       "                      lower         est.       upper\n",
       "sd((Intercept)) 0.000139708 0.0004607784 0.001519718\n",
       "\n",
       " Within-group standard error:\n",
       "       lower         est.        upper \n",
       "0.0009592645 0.0010334818 0.0011134412 "
      ]
     },
     "metadata": {},
     "output_type": "display_data"
    }
   ],
   "source": [
    "k1_mm <- lme(fixed = k1 ~ Ntype + Ndose * tea,\n",
    "                     random = ~ 1 | Farm/Site,\n",
    "                     data = df_mm)\n",
    "intervals(k1_mm, level = 0.95)"
   ]
  },
  {
   "cell_type": "markdown",
   "metadata": {},
   "source": [
    "### 9.2.1 P-value"
   ]
  },
  {
   "cell_type": "code",
   "execution_count": 17,
   "metadata": {},
   "outputs": [
    {
     "data": {
      "text/html": [
       "<table>\n",
       "<thead><tr><th></th><th scope=col>numDF</th><th scope=col>denDF</th><th scope=col>F-value</th><th scope=col>p-value</th></tr></thead>\n",
       "<tbody>\n",
       "\t<tr><th scope=row>(Intercept)</th><td>1           </td><td>346         </td><td>  90.4235185</td><td>0.000000e+00</td></tr>\n",
       "\t<tr><th scope=row>Ntype</th><td>3           </td><td>346         </td><td>   9.2425070</td><td>6.769315e-06</td></tr>\n",
       "\t<tr><th scope=row>Ndose</th><td>1           </td><td>346         </td><td>   0.4951898</td><td>4.820946e-01</td></tr>\n",
       "\t<tr><th scope=row>tea</th><td>4           </td><td>346         </td><td>1309.7307309</td><td>0.000000e+00</td></tr>\n",
       "\t<tr><th scope=row>Ndose:tea</th><td>4           </td><td>346         </td><td>   2.4427939</td><td>4.649410e-02</td></tr>\n",
       "</tbody>\n",
       "</table>\n"
      ],
      "text/latex": [
       "\\begin{tabular}{r|llll}\n",
       "  & numDF & denDF & F-value & p-value\\\\\n",
       "\\hline\n",
       "\t(Intercept) & 1            & 346          &   90.4235185 & 0.000000e+00\\\\\n",
       "\tNtype & 3            & 346          &    9.2425070 & 6.769315e-06\\\\\n",
       "\tNdose & 1            & 346          &    0.4951898 & 4.820946e-01\\\\\n",
       "\ttea & 4            & 346          & 1309.7307309 & 0.000000e+00\\\\\n",
       "\tNdose:tea & 4            & 346          &    2.4427939 & 4.649410e-02\\\\\n",
       "\\end{tabular}\n"
      ],
      "text/markdown": [
       "\n",
       "| <!--/--> | numDF | denDF | F-value | p-value |\n",
       "|---|---|---|---|---|\n",
       "| (Intercept) | 1            | 346          |   90.4235185 | 0.000000e+00 |\n",
       "| Ntype | 3            | 346          |    9.2425070 | 6.769315e-06 |\n",
       "| Ndose | 1            | 346          |    0.4951898 | 4.820946e-01 |\n",
       "| tea | 4            | 346          | 1309.7307309 | 0.000000e+00 |\n",
       "| Ndose:tea | 4            | 346          |    2.4427939 | 4.649410e-02 |\n",
       "\n"
      ],
      "text/plain": [
       "            numDF denDF F-value      p-value     \n",
       "(Intercept) 1     346     90.4235185 0.000000e+00\n",
       "Ntype       3     346      9.2425070 6.769315e-06\n",
       "Ndose       1     346      0.4951898 4.820946e-01\n",
       "tea         4     346   1309.7307309 0.000000e+00\n",
       "Ndose:tea   4     346      2.4427939 4.649410e-02"
      ]
     },
     "metadata": {},
     "output_type": "display_data"
    }
   ],
   "source": [
    "anova(k1_mm)"
   ]
  },
  {
   "cell_type": "markdown",
   "metadata": {},
   "source": [
    "### 9.1.2 Pseudo r-square\n",
    "Pseudo r-square was high with(0.94) and without(0.91) random effect indicated the influence of random effects was not impotant. Moreover, pseudo r-square was high, indicated mixed model was well fit to data.   "
   ]
  },
  {
   "cell_type": "code",
   "execution_count": 18,
   "metadata": {},
   "outputs": [
    {
     "data": {
      "text/html": [
       "0.917998181500839"
      ],
      "text/latex": [
       "0.917998181500839"
      ],
      "text/markdown": [
       "0.917998181500839"
      ],
      "text/plain": [
       "[1] 0.9179982"
      ]
     },
     "metadata": {},
     "output_type": "display_data"
    },
    {
     "data": {
      "text/html": [
       "0.940505395382787"
      ],
      "text/latex": [
       "0.940505395382787"
      ],
      "text/markdown": [
       "0.940505395382787"
      ],
      "text/plain": [
       "[1] 0.9405054"
      ]
     },
     "metadata": {},
     "output_type": "display_data"
    }
   ],
   "source": [
    "pseudoR2(y = df_mm$k1,\n",
    "         y_hat = predict(k1_mm, level = 0))\n",
    "\n",
    "pseudoR2(y = df_mm$k1,\n",
    "         y_hat = predict(k1_mm, level = 2))"
   ]
  },
  {
   "cell_type": "markdown",
   "metadata": {},
   "source": [
    "### 9.1.3 Shapiro-Wilk normality test"
   ]
  },
  {
   "cell_type": "code",
   "execution_count": 19,
   "metadata": {},
   "outputs": [
    {
     "name": "stdout",
     "output_type": "stream",
     "text": [
      "[1] \"Shapiro-Wilk:\"\n",
      "\n",
      "\tShapiro-Wilk normality test\n",
      "\n",
      "data:  r\n",
      "W = 0.93463, p-value = 1.636e-11\n",
      "\n",
      "[1] \"Kurtosis: 4.72506311595992\"\n",
      "[1] \"Skewness: 0.0203648806888307\"\n"
     ]
    },
    {
     "data": {
      "image/png": "[encoded data removed]",
      "text/plain": [
       "Plot with title \"\""
      ]
     },
     "metadata": {},
     "output_type": "display_data"
    }
   ],
   "source": [
    "options(repr.plot.width = 6, repr.plot.height = 4)\n",
    "residues(k1_mm)"
   ]
  },
  {
   "cell_type": "markdown",
   "metadata": {},
   "source": [
    "### 9.1.4 Reporting the results of the mixed models"
   ]
  },
  {
   "cell_type": "markdown",
   "metadata": {},
   "source": [
    "I create a table including the results I need: estimates, confidence intervals and p-values."
   ]
  },
  {
   "cell_type": "code",
   "execution_count": 20,
   "metadata": {},
   "outputs": [],
   "source": [
    "k1_gg <- data.frame(intervals(k1_mm, which = \"fixed\")$fixed)\n",
    "k1_gg <- k1_gg %>%\n",
    "  mutate(variable = rownames(k1_gg))\n",
    "k1_gg <- k1_gg %>%\n",
    "  mutate(pvalue = summary(k1_mm)$tTable[, 5],\n",
    "         is_significant = ifelse(pvalue <= 0.05, 'Significant at 0.05 level', 'Not significant at 0.05 level'))\n",
    "\n",
    "k1_gg$variable <- c(\"Intercept\", \"N 6-1-1\", \"N 8-0-0\", \"N SCU-39-0-0\", # Ajust names\n",
    "                    \"Dose N (scaled)\", \"Green tea\", \"Hibiscus tea\", \"Rooibos tea\", \"Sencha tea\",\n",
    "                     \"Green tea : Dose N\", \"Hibiscus tea : Dose N\", \"Rooibos tea : Dose N\", \"Sencha tea : Dose N\")"
   ]
  },
  {
   "cell_type": "markdown",
   "metadata": {},
   "source": [
    "Adding random effects to the table."
   ]
  },
  {
   "cell_type": "code",
   "execution_count": 21,
   "metadata": {},
   "outputs": [],
   "source": [
    "k1_re <- data.frame(matrix(ncol = ncol(k1_gg), nrow = 6))\n",
    "names(k1_re) <- names(k1_gg)\n",
    "k1_re$est. <- c(ranef(k1_mm)$Farm[, 1], ranef(k1_mm)$Site[, 1])\n",
    "k1_re$variable <- c(rownames(ranef(k1_mm)$Farm),\n",
    "                    rownames(ranef(k1_mm)$Site))\n",
    "\n",
    "if (!(\"Belanger\" %in% k1_gg$variable)) k1_gg <- bind_rows(k1_gg, k1_re) # with an if to make sure ranefs are stacked only once"
   ]
  },
  {
   "cell_type": "markdown",
   "metadata": {},
   "source": [
    "Create a facet column to separate effects by effect category in the plot."
   ]
  },
  {
   "cell_type": "code",
   "execution_count": 22,
   "metadata": {},
   "outputs": [],
   "source": [
    "k1_gg$facet <- factor(c('Intercept',\n",
    "                        'N source', 'N source', 'N source',\n",
    "                        \"N dosage\",\n",
    "                        'Tea type', 'Tea type', 'Tea type', 'Tea type',\n",
    "                        'Tea type × N dosage', 'Tea type × N dosage', \n",
    "                        'Tea type × N dosage', 'Tea type × N dosage',\n",
    "                        \"Random effect\", \"Random effect\", \"Random effect\", \"Random effect\", \"Random effect\", \"Random effect\"))\n",
    "\n",
    "k1_gg <- k1_gg %>%\n",
    "  mutate(facet = factor(facet, levels = rev(c(\"Random effect\", \"Tea type × N dosage\", \"Tea type\", \"N dosage\", \"N source\"))))"
   ]
  },
  {
   "cell_type": "markdown",
   "metadata": {},
   "source": [
    "The `k1_gg` table is now set up for the plot."
   ]
  },
  {
   "cell_type": "code",
   "execution_count": 23,
   "metadata": {},
   "outputs": [
    {
     "data": {
      "text/html": [
       "<table>\n",
       "<thead><tr><th scope=col>lower</th><th scope=col>est.</th><th scope=col>upper</th><th scope=col>variable</th><th scope=col>pvalue</th><th scope=col>is_significant</th><th scope=col>facet</th></tr></thead>\n",
       "<tbody>\n",
       "\t<tr><td>-9.462499e-04                </td><td>1.239422e-04                 </td><td>0.0011941343                 </td><td>Intercept                    </td><td> 8.199471e-01                </td><td>Not significant at 0.05 level</td><td>NA                           </td></tr>\n",
       "\t<tr><td>-3.665047e-04                </td><td>3.700764e-04                 </td><td>0.0011066576                 </td><td>N 6-1-1                      </td><td> 3.237498e-01                </td><td>Not significant at 0.05 level</td><td>N source                     </td></tr>\n",
       "\t<tr><td>-1.743339e-04                </td><td>6.346989e-04                 </td><td>0.0014437317                 </td><td>N 8-0-0                      </td><td> 1.237400e-01                </td><td>Not significant at 0.05 level</td><td>N source                     </td></tr>\n",
       "\t<tr><td>-3.796524e-04                </td><td>4.694389e-05                 </td><td>0.0004735401                 </td><td>N SCU-39-0-0                 </td><td> 8.287745e-01                </td><td>Not significant at 0.05 level</td><td>N source                     </td></tr>\n",
       "\t<tr><td>-4.208384e-05                </td><td>1.652003e-04                 </td><td>0.0003724843                 </td><td>Dose N (scaled)              </td><td> 1.179060e-01                </td><td>Not significant at 0.05 level</td><td>N dosage                     </td></tr>\n",
       "\t<tr><td> 9.339279e-03                </td><td>9.623519e-03                 </td><td>0.0099077584                 </td><td>Green tea                    </td><td>2.294584e-199                </td><td>Significant at 0.05 level    </td><td>Tea type                     </td></tr>\n",
       "</tbody>\n",
       "</table>\n"
      ],
      "text/latex": [
       "\\begin{tabular}{r|lllllll}\n",
       " lower & est. & upper & variable & pvalue & is\\_significant & facet\\\\\n",
       "\\hline\n",
       "\t -9.462499e-04                 & 1.239422e-04                  & 0.0011941343                  & Intercept                     &  8.199471e-01                 & Not significant at 0.05 level & NA                           \\\\\n",
       "\t -3.665047e-04                 & 3.700764e-04                  & 0.0011066576                  & N 6-1-1                       &  3.237498e-01                 & Not significant at 0.05 level & N source                     \\\\\n",
       "\t -1.743339e-04                 & 6.346989e-04                  & 0.0014437317                  & N 8-0-0                       &  1.237400e-01                 & Not significant at 0.05 level & N source                     \\\\\n",
       "\t -3.796524e-04                 & 4.694389e-05                  & 0.0004735401                  & N SCU-39-0-0                  &  8.287745e-01                 & Not significant at 0.05 level & N source                     \\\\\n",
       "\t -4.208384e-05                 & 1.652003e-04                  & 0.0003724843                  & Dose N (scaled)               &  1.179060e-01                 & Not significant at 0.05 level & N dosage                     \\\\\n",
       "\t  9.339279e-03                 & 9.623519e-03                  & 0.0099077584                  & Green tea                     & 2.294584e-199                 & Significant at 0.05 level     & Tea type                     \\\\\n",
       "\\end{tabular}\n"
      ],
      "text/markdown": [
       "\n",
       "| lower | est. | upper | variable | pvalue | is_significant | facet |\n",
       "|---|---|---|---|---|---|---|\n",
       "| -9.462499e-04                 | 1.239422e-04                  | 0.0011941343                  | Intercept                     |  8.199471e-01                 | Not significant at 0.05 level | NA                            |\n",
       "| -3.665047e-04                 | 3.700764e-04                  | 0.0011066576                  | N 6-1-1                       |  3.237498e-01                 | Not significant at 0.05 level | N source                      |\n",
       "| -1.743339e-04                 | 6.346989e-04                  | 0.0014437317                  | N 8-0-0                       |  1.237400e-01                 | Not significant at 0.05 level | N source                      |\n",
       "| -3.796524e-04                 | 4.694389e-05                  | 0.0004735401                  | N SCU-39-0-0                  |  8.287745e-01                 | Not significant at 0.05 level | N source                      |\n",
       "| -4.208384e-05                 | 1.652003e-04                  | 0.0003724843                  | Dose N (scaled)               |  1.179060e-01                 | Not significant at 0.05 level | N dosage                      |\n",
       "|  9.339279e-03                 | 9.623519e-03                  | 0.0099077584                  | Green tea                     | 2.294584e-199                 | Significant at 0.05 level     | Tea type                      |\n",
       "\n"
      ],
      "text/plain": [
       "  lower         est.         upper        variable        pvalue       \n",
       "1 -9.462499e-04 1.239422e-04 0.0011941343 Intercept        8.199471e-01\n",
       "2 -3.665047e-04 3.700764e-04 0.0011066576 N 6-1-1          3.237498e-01\n",
       "3 -1.743339e-04 6.346989e-04 0.0014437317 N 8-0-0          1.237400e-01\n",
       "4 -3.796524e-04 4.694389e-05 0.0004735401 N SCU-39-0-0     8.287745e-01\n",
       "5 -4.208384e-05 1.652003e-04 0.0003724843 Dose N (scaled)  1.179060e-01\n",
       "6  9.339279e-03 9.623519e-03 0.0099077584 Green tea       2.294584e-199\n",
       "  is_significant                facet   \n",
       "1 Not significant at 0.05 level NA      \n",
       "2 Not significant at 0.05 level N source\n",
       "3 Not significant at 0.05 level N source\n",
       "4 Not significant at 0.05 level N source\n",
       "5 Not significant at 0.05 level N dosage\n",
       "6 Significant at 0.05 level     Tea type"
      ]
     },
     "metadata": {},
     "output_type": "display_data"
    }
   ],
   "source": [
    "head(k1_gg)"
   ]
  },
  {
   "cell_type": "code",
   "execution_count": 24,
   "metadata": {},
   "outputs": [
    {
     "name": "stderr",
     "output_type": "stream",
     "text": [
      "Warning message:\n",
      "\"Removed 6 rows containing missing values (geom_segment).\"Warning message:\n",
      "\"Removed 6 rows containing missing values (geom_segment).\""
     ]
    },
    {
     "data": {
      "image/png": "[encoded data removed]",
      "text/plain": [
       "plot without title"
      ]
     },
     "metadata": {},
     "output_type": "display_data"
    }
   ],
   "source": [
    "options(repr.plot.width = 12, repr.plot.height = 6)\n",
    "k1_gg %>%\n",
    "  filter(variable != \"Intercept\") %>%\n",
    "  ggplot(aes(x = est., y = variable)) +\n",
    "  facet_grid(facet ~ ., scales = 'free', space = 'free') +\n",
    "  geom_vline(xintercept = 0, colour='grey70') +\n",
    "  geom_point() +\n",
    "  geom_segment(aes(x = lower, xend = upper, y = variable, yend = variable)) +\n",
    "  xlab('Coefficient') +\n",
    "  ylab('') +\n",
    "  theme_bw() +\n",
    "  theme(strip.text.y = element_text(angle=0),\n",
    "        legend.title = element_blank(),\n",
    "        legend.position = \"bottom\",\n",
    "        text = element_text(size = 20)) +\n",
    "  ggsave(\"figures/mixed-model-coefficients.png\", width = 8, height = 6, dpi = 600)"
   ]
  },
  {
   "cell_type": "markdown",
   "metadata": {},
   "source": [
    "How did $k_1$ react across tea types and nitrogen sources for a range of doses, according to the model? To answer this question, I create a grid of values and categories, predict the model for each row of the grid, then put nitrogen dosage back to its original scale."
   ]
  },
  {
   "cell_type": "code",
   "execution_count": 25,
   "metadata": {},
   "outputs": [],
   "source": [
    "pred_grid <- expand.grid(tea = unique(df_mm$tea),\n",
    "                         Ndose = c(min(df_mm$Ndose), max(df_mm$Ndose)),\n",
    "                         Ntype = unique(df_mm$Ntype))\n",
    "pred_grid <- pred_grid %>%\n",
    "  mutate(k1 = predict(k1_mm, newdata = pred_grid,\n",
    "                              level = 0),\n",
    "         Ndose = Ndose * sd(df$`Nitrogen dose`) + mean(df$`Nitrogen dose`)) %>%\n",
    "  rename(`Tea type` = tea,\n",
    "         `Nitrogen dose` = Ndose,\n",
    "         `Nitrogen type` = Ntype)"
   ]
  },
  {
   "cell_type": "code",
   "execution_count": 26,
   "metadata": {},
   "outputs": [
    {
     "data": {
      "text/html": [
       "<table>\n",
       "<thead><tr><th scope=col>Tea type</th><th scope=col>Nitrogen dose</th><th scope=col>Nitrogen type</th><th scope=col>k1</th></tr></thead>\n",
       "<tbody>\n",
       "\t<tr><td>Rooibos tea </td><td>3.552714e-15</td><td>N-8-0-0     </td><td>0.003895154 </td></tr>\n",
       "\t<tr><td>Sencha Tea  </td><td>6.000000e+01</td><td>N-21-0-0    </td><td>0.011185776 </td></tr>\n",
       "\t<tr><td>Green tea   </td><td>6.000000e+01</td><td>N-21-0-0    </td><td>0.009566815 </td></tr>\n",
       "\t<tr><td>Green tea   </td><td>3.552714e-15</td><td>N-6-1-1     </td><td>0.010323669 </td></tr>\n",
       "\t<tr><td>Green tea   </td><td>6.000000e+01</td><td>N-6-1-1     </td><td>0.009936891 </td></tr>\n",
       "\t<tr><td>Hibiscus Tea</td><td>3.552714e-15</td><td>N-SCU       </td><td>0.003275177 </td></tr>\n",
       "\t<tr><td>Sencha Tea  </td><td>3.552714e-15</td><td>N-21-0-0    </td><td>0.015345882 </td></tr>\n",
       "\t<tr><td>Hibiscus Tea</td><td>6.000000e+01</td><td>N-6-1-1     </td><td>0.004652856 </td></tr>\n",
       "\t<tr><td>Rooibos tea </td><td>6.000000e+01</td><td>N-SCU       </td><td>0.003235568 </td></tr>\n",
       "\t<tr><td>Rooibos tea </td><td>6.000000e+01</td><td>N-21-0-0    </td><td>0.003188624 </td></tr>\n",
       "</tbody>\n",
       "</table>\n"
      ],
      "text/latex": [
       "\\begin{tabular}{r|llll}\n",
       " Tea type & Nitrogen dose & Nitrogen type & k1\\\\\n",
       "\\hline\n",
       "\t Rooibos tea  & 3.552714e-15 & N-8-0-0      & 0.003895154 \\\\\n",
       "\t Sencha Tea   & 6.000000e+01 & N-21-0-0     & 0.011185776 \\\\\n",
       "\t Green tea    & 6.000000e+01 & N-21-0-0     & 0.009566815 \\\\\n",
       "\t Green tea    & 3.552714e-15 & N-6-1-1      & 0.010323669 \\\\\n",
       "\t Green tea    & 6.000000e+01 & N-6-1-1      & 0.009936891 \\\\\n",
       "\t Hibiscus Tea & 3.552714e-15 & N-SCU        & 0.003275177 \\\\\n",
       "\t Sencha Tea   & 3.552714e-15 & N-21-0-0     & 0.015345882 \\\\\n",
       "\t Hibiscus Tea & 6.000000e+01 & N-6-1-1      & 0.004652856 \\\\\n",
       "\t Rooibos tea  & 6.000000e+01 & N-SCU        & 0.003235568 \\\\\n",
       "\t Rooibos tea  & 6.000000e+01 & N-21-0-0     & 0.003188624 \\\\\n",
       "\\end{tabular}\n"
      ],
      "text/markdown": [
       "\n",
       "| Tea type | Nitrogen dose | Nitrogen type | k1 |\n",
       "|---|---|---|---|\n",
       "| Rooibos tea  | 3.552714e-15 | N-8-0-0      | 0.003895154  |\n",
       "| Sencha Tea   | 6.000000e+01 | N-21-0-0     | 0.011185776  |\n",
       "| Green tea    | 6.000000e+01 | N-21-0-0     | 0.009566815  |\n",
       "| Green tea    | 3.552714e-15 | N-6-1-1      | 0.010323669  |\n",
       "| Green tea    | 6.000000e+01 | N-6-1-1      | 0.009936891  |\n",
       "| Hibiscus Tea | 3.552714e-15 | N-SCU        | 0.003275177  |\n",
       "| Sencha Tea   | 3.552714e-15 | N-21-0-0     | 0.015345882  |\n",
       "| Hibiscus Tea | 6.000000e+01 | N-6-1-1      | 0.004652856  |\n",
       "| Rooibos tea  | 6.000000e+01 | N-SCU        | 0.003235568  |\n",
       "| Rooibos tea  | 6.000000e+01 | N-21-0-0     | 0.003188624  |\n",
       "\n"
      ],
      "text/plain": [
       "   Tea type     Nitrogen dose Nitrogen type k1         \n",
       "1  Rooibos tea  3.552714e-15  N-8-0-0       0.003895154\n",
       "2  Sencha Tea   6.000000e+01  N-21-0-0      0.011185776\n",
       "3  Green tea    6.000000e+01  N-21-0-0      0.009566815\n",
       "4  Green tea    3.552714e-15  N-6-1-1       0.010323669\n",
       "5  Green tea    6.000000e+01  N-6-1-1       0.009936891\n",
       "6  Hibiscus Tea 3.552714e-15  N-SCU         0.003275177\n",
       "7  Sencha Tea   3.552714e-15  N-21-0-0      0.015345882\n",
       "8  Hibiscus Tea 6.000000e+01  N-6-1-1       0.004652856\n",
       "9  Rooibos tea  6.000000e+01  N-SCU         0.003235568\n",
       "10 Rooibos tea  6.000000e+01  N-21-0-0      0.003188624"
      ]
     },
     "metadata": {},
     "output_type": "display_data"
    }
   ],
   "source": [
    "pred_grid %>% sample_n(10)"
   ]
  },
  {
   "cell_type": "markdown",
   "metadata": {},
   "source": [
    "This table allows to plot the model and data superimposed."
   ]
  },
  {
   "cell_type": "code",
   "execution_count": 27,
   "metadata": {},
   "outputs": [
    {
     "name": "stderr",
     "output_type": "stream",
     "text": [
      "Warning message:\n",
      "\"Removed 49 rows containing missing values (geom_point).\"Warning message:\n",
      "\"Removed 49 rows containing missing values (geom_point).\""
     ]
    },
    {
     "data": {
      "image/png": "[encoded data removed]",
      "text/plain": [
       "plot without title"
      ]
     },
     "metadata": {},
     "output_type": "display_data"
    }
   ],
   "source": [
    "options(repr.plot.width = 10, repr.plot.height = 10)\n",
    "\n",
    "ggplot(df, aes(x = `Nitrogen dose`, y = `k1`)) +\n",
    "  facet_grid(`Nitrogen type` ~ `Tea type`) +\n",
    "  geom_point() +\n",
    "  geom_line(data = pred_grid) +\n",
    "  labs(x = expression(\"Dose N (kg ha\"^\"-1\"~\")\"), y = \"First order kinetics\") +\n",
    "  theme_bw() +\n",
    "  theme(text = element_text(size = 20)) + \n",
    "  ggsave(\"figures/k1-model-lines.png\", width = 10, height = 6, dpi = 600)# nomme figure"
   ]
  },
  {
   "cell_type": "markdown",
   "metadata": {},
   "source": [
    "## 9.2 **Question 2**: What affected TBI parameters (k)?\n",
    "\n",
    "Adding `M / M0` variable to data `df`."
   ]
  },
  {
   "cell_type": "code",
   "execution_count": 28,
   "metadata": {},
   "outputs": [],
   "source": [
    "df <- df %>%\n",
    "  mutate(`M / M0` = `Remaining tea weight (g)` / `Initial tea weight (g)`)"
   ]
  },
  {
   "cell_type": "markdown",
   "metadata": {},
   "source": [
    "I store hydrolysable fractions of green tea and rooibos."
   ]
  },
  {
   "cell_type": "code",
   "execution_count": 29,
   "metadata": {},
   "outputs": [],
   "source": [
    "Hf_g <- 0.805   # Hydrolysable fraction for Green tea\n",
    "Hf_r <- 0.826   # Hydrolysable fraction for Rooibos tea"
   ]
  },
  {
   "cell_type": "markdown",
   "metadata": {},
   "source": [
    "For comparaison purpose, [Keuskamp et al. (2013)](https://besjournals.onlinelibrary.wiley.com/doi/full/10.1111/2041-210X.12097) hydrolysable fractions were:\n",
    "\n",
    "- Green tea `Hf_g = 0.842`  \n",
    "- Rooibos tea `Hf_r = 0.552`"
   ]
  },
  {
   "cell_type": "markdown",
   "metadata": {},
   "source": [
    "### 9.2.1 Computation of the labile fraction (a) and the stabilization factor (s) of green tea\n",
    "\n",
    "Decomposition rate `k_tbi` is computed from Rooibos tea after 90 days of incubation. The *TBI* assumes that the decomposition of Green tea has stablilized while Rooibos tea is still decomposing. Stabilization factor `S` is computed from Green tea."
   ]
  },
  {
   "cell_type": "code",
   "execution_count": 30,
   "metadata": {},
   "outputs": [],
   "source": [
    "df <- df %>%\n",
    "  mutate(a = ifelse(`Tea type` == \"Green tea\",\n",
    "                    (`Initial tea weight (g)` - `Remaining tea weight (g)`) / `Initial tea weight (g)`,\n",
    "                    NA),\n",
    "         S = 1 - a / Hf_g)"
   ]
  },
  {
   "cell_type": "markdown",
   "metadata": {},
   "source": [
    "Compute litter stability `Sg` (Green tea) and decomposition constant `k_tbi` (Rooibos) for each experimental unit."
   ]
  },
  {
   "cell_type": "code",
   "execution_count": 31,
   "metadata": {},
   "outputs": [],
   "source": [
    "df <- df %>%\n",
    "  mutate(sdr = paste(df$Site, df$`Nitrogen dose`, df$Repetition))\n",
    "sdr_u <- unique(df$sdr)"
   ]
  },
  {
   "cell_type": "code",
   "execution_count": 32,
   "metadata": {},
   "outputs": [],
   "source": [
    "# Initialize k_tbi column\n",
    "df$k_tbi <- NA\n",
    "\n",
    "# For each rep, compute a and k_tbi\n",
    "for (i in 1:length(sdr_u)) {\n",
    "  # Green tea\n",
    "  Sg_i <- mean(df$S[df$sdr == sdr_u[i] & df$`Tea type` == \"Green tea\"], na.rm = TRUE)\n",
    "  \n",
    "  # Rooibos\n",
    "  df$a[df$sdr == sdr_u[i] & df$`Tea type` == \"Rooibos tea\"] <- Hf_r * (1 - Sg_i)\n",
    "  ar_i <- df$a[df$sdr == sdr_u[i] & df$`Tea type` == \"Rooibos tea\"]\n",
    "  M_M0i <- df$`M / M0`[df$sdr == sdr_u[i] & df$`Tea type` == \"Rooibos tea\"]\n",
    "  df$k_tbi[df$sdr == sdr_u[i] & df$`Tea type` == \"Rooibos tea\"] <- log(ar_i / (M_M0i - (1-ar_i))) / 90\n",
    "}"
   ]
  },
  {
   "cell_type": "markdown",
   "metadata": {},
   "source": [
    "Data exploration for N dose type."
   ]
  },
  {
   "cell_type": "code",
   "execution_count": 33,
   "metadata": {},
   "outputs": [
    {
     "name": "stderr",
     "output_type": "stream",
     "text": [
      "Warning message:\n",
      "\"Removed 388 rows containing missing values (geom_point).\""
     ]
    },
    {
     "data": {
      "image/png": "[encoded data removed]",
      "text/plain": [
       "plot without title"
      ]
     },
     "metadata": {},
     "output_type": "display_data"
    }
   ],
   "source": [
    "options(repr.plot.width=12, repr.plot.height=4)\n",
    "ggplot(data = df,\n",
    "       mapping = aes(x = `Nitrogen dose`, y = k_tbi)) +\n",
    "  geom_point(aes(colour = `Nitrogen type`)) +\n",
    "  geom_line(data = . %>%\n",
    "    group_by(`Nitrogen dose`, `Nitrogen type`) %>%\n",
    "    summarise(k_tbi = mean(k_tbi, na.rm = TRUE)),\n",
    "           aes(colour = `Nitrogen type`))"
   ]
  },
  {
   "cell_type": "markdown",
   "metadata": {},
   "source": [
    "### 9.3 What affecting TBI parameters (k)?\n",
    "\n",
    "Because `k_tbi` is computed from Rooibos tea, we create a new Rooibos data table named `df_rooibos`."
   ]
  },
  {
   "cell_type": "code",
   "execution_count": 34,
   "metadata": {},
   "outputs": [],
   "source": [
    "df_rooibos <- df %>% \n",
    "  filter(`Tea type` == \"Rooibos tea\")\n",
    "\n",
    "TBI_data <- df %>%\n",
    "  select(k_tbi, `Tea type`, Farm, `Nitrogen dose`, Site,\n",
    "         `Nitrogen type`) %>%\n",
    "  rename(Ntype = `Nitrogen type`,\n",
    "         Ndose = `Nitrogen dose`) %>%\n",
    "  drop_na() %>%\n",
    "  droplevels()\n",
    "\n",
    "TBI_rooibos <- TBI_data %>%\n",
    "  filter(`Tea type` == \"Rooibos tea\")"
   ]
  },
  {
   "cell_type": "markdown",
   "metadata": {},
   "source": [
    "### 9.3.1 `k_tbi` mixed model"
   ]
  },
  {
   "cell_type": "markdown",
   "metadata": {},
   "source": [
    "lme_TBI model investigates the effect of the type of the dose (`Ntype`), the magnitude of the dose (`Ndose`) on `k_tbi`, considering the random effect of sites (`Site`) nested in farms (`Farm`)."
   ]
  },
  {
   "cell_type": "code",
   "execution_count": 35,
   "metadata": {},
   "outputs": [],
   "source": [
    "lme_TBI <- lme(fixed = k_tbi ~  Ndose + Ntype,\n",
    "    random = ~ 1 | Farm/Site,\n",
    "    data = TBI_rooibos)"
   ]
  },
  {
   "cell_type": "code",
   "execution_count": 36,
   "metadata": {},
   "outputs": [
    {
     "data": {
      "text/html": [
       "<table>\n",
       "<thead><tr><th></th><th scope=col>Value</th><th scope=col>Std.Error</th><th scope=col>DF</th><th scope=col>t-value</th><th scope=col>p-value</th></tr></thead>\n",
       "<tbody>\n",
       "\t<tr><th scope=row>(Intercept)</th><td> 6.164356e-03</td><td>8.636613e-04 </td><td>120          </td><td> 7.1374693   </td><td>7.871002e-11 </td></tr>\n",
       "\t<tr><th scope=row>Ndose</th><td> 3.116282e-06</td><td>6.663922e-06 </td><td>120          </td><td> 0.4676347   </td><td>6.408939e-01 </td></tr>\n",
       "\t<tr><th scope=row>NtypeN-6-1-1</th><td> 2.000522e-03</td><td>5.863409e-04 </td><td>120          </td><td> 3.4118758   </td><td>8.799726e-04 </td></tr>\n",
       "\t<tr><th scope=row>NtypeN-8-0-0</th><td> 6.682900e-04</td><td>6.995885e-04 </td><td>120          </td><td> 0.9552616   </td><td>3.413659e-01 </td></tr>\n",
       "\t<tr><th scope=row>NtypeN-SCU</th><td>-4.075112e-04</td><td>6.884892e-04 </td><td>120          </td><td>-0.5918920   </td><td>5.550364e-01 </td></tr>\n",
       "</tbody>\n",
       "</table>\n"
      ],
      "text/latex": [
       "\\begin{tabular}{r|lllll}\n",
       "  & Value & Std.Error & DF & t-value & p-value\\\\\n",
       "\\hline\n",
       "\t(Intercept) &  6.164356e-03 & 8.636613e-04  & 120           &  7.1374693    & 7.871002e-11 \\\\\n",
       "\tNdose &  3.116282e-06 & 6.663922e-06  & 120           &  0.4676347    & 6.408939e-01 \\\\\n",
       "\tNtypeN-6-1-1 &  2.000522e-03 & 5.863409e-04  & 120           &  3.4118758    & 8.799726e-04 \\\\\n",
       "\tNtypeN-8-0-0 &  6.682900e-04 & 6.995885e-04  & 120           &  0.9552616    & 3.413659e-01 \\\\\n",
       "\tNtypeN-SCU & -4.075112e-04 & 6.884892e-04  & 120           & -0.5918920    & 5.550364e-01 \\\\\n",
       "\\end{tabular}\n"
      ],
      "text/markdown": [
       "\n",
       "| <!--/--> | Value | Std.Error | DF | t-value | p-value |\n",
       "|---|---|---|---|---|---|\n",
       "| (Intercept) |  6.164356e-03 | 8.636613e-04  | 120           |  7.1374693    | 7.871002e-11  |\n",
       "| Ndose |  3.116282e-06 | 6.663922e-06  | 120           |  0.4676347    | 6.408939e-01  |\n",
       "| NtypeN-6-1-1 |  2.000522e-03 | 5.863409e-04  | 120           |  3.4118758    | 8.799726e-04  |\n",
       "| NtypeN-8-0-0 |  6.682900e-04 | 6.995885e-04  | 120           |  0.9552616    | 3.413659e-01  |\n",
       "| NtypeN-SCU | -4.075112e-04 | 6.884892e-04  | 120           | -0.5918920    | 5.550364e-01  |\n",
       "\n"
      ],
      "text/plain": [
       "             Value         Std.Error    DF  t-value    p-value     \n",
       "(Intercept)   6.164356e-03 8.636613e-04 120  7.1374693 7.871002e-11\n",
       "Ndose         3.116282e-06 6.663922e-06 120  0.4676347 6.408939e-01\n",
       "NtypeN-6-1-1  2.000522e-03 5.863409e-04 120  3.4118758 8.799726e-04\n",
       "NtypeN-8-0-0  6.682900e-04 6.995885e-04 120  0.9552616 3.413659e-01\n",
       "NtypeN-SCU   -4.075112e-04 6.884892e-04 120 -0.5918920 5.550364e-01"
      ]
     },
     "metadata": {},
     "output_type": "display_data"
    }
   ],
   "source": [
    "summary(lme_TBI)$tTable # Get p-values"
   ]
  },
  {
   "cell_type": "markdown",
   "metadata": {},
   "source": [
    "### 9.3.2 Mixed model graphic"
   ]
  },
  {
   "cell_type": "markdown",
   "metadata": {},
   "source": [
    "Creating data containing the estimated values of fixed effects(est.), upper and lower and p-values "
   ]
  },
  {
   "cell_type": "code",
   "execution_count": 37,
   "metadata": {},
   "outputs": [],
   "source": [
    "ktbi_gg <- data.frame(intervals(lme_TBI, which = \"fixed\")$fixed)\n",
    "ktbi_gg <- ktbi_gg %>%\n",
    "  mutate(variable = rownames(ktbi_gg))\n",
    "ktbi_gg <- ktbi_gg %>%\n",
    "  mutate(pvalue = summary(lme_TBI)$tTable[, 5],\n",
    "         is_significant = ifelse(pvalue <= 0.05, 'Significant at 0.05 level', 'Not significant at 0.05 level'))"
   ]
  },
  {
   "cell_type": "markdown",
   "metadata": {},
   "source": [
    "Ajust names."
   ]
  },
  {
   "cell_type": "code",
   "execution_count": 38,
   "metadata": {},
   "outputs": [],
   "source": [
    "ktbi_gg$variable <- c(\"Intercept\", \"Dose N\", \"N 6-1-1\", \"N 8-0-0\", \"N SCU-39-0-0\")"
   ]
  },
  {
   "cell_type": "markdown",
   "metadata": {},
   "source": [
    "Add random effects to the table."
   ]
  },
  {
   "cell_type": "code",
   "execution_count": 39,
   "metadata": {},
   "outputs": [],
   "source": [
    "ktbi_re <- data.frame(matrix(ncol = ncol(ktbi_gg), nrow = 6))\n",
    "names(ktbi_re) <- names(ktbi_gg)\n",
    "ktbi_re$est. <- c(ranef(lme_TBI)$Farm[, 1], ranef(lme_TBI)$Site[, 1])\n",
    "ktbi_re$variable <- c(rownames(ranef(lme_TBI)$Farm),\n",
    "                    rownames(ranef(lme_TBI)$Site))"
   ]
  },
  {
   "cell_type": "markdown",
   "metadata": {},
   "source": [
    "Using if to make sure ranefs are stacked only once"
   ]
  },
  {
   "cell_type": "code",
   "execution_count": 40,
   "metadata": {},
   "outputs": [],
   "source": [
    "if (!(\"Belanger\" %in% ktbi_gg$variable)) ktbi_gg <- bind_rows(ktbi_gg, ktbi_re) "
   ]
  },
  {
   "cell_type": "markdown",
   "metadata": {},
   "source": [
    "Create a facet column to separate effects by effect category in the plot."
   ]
  },
  {
   "cell_type": "code",
   "execution_count": 41,
   "metadata": {},
   "outputs": [],
   "source": [
    "ktbi_gg$facet <- factor(c('Intercept',\n",
    "                        \"N dosage\",\n",
    "                        'N source', 'N source', 'N source',\n",
    "                        \"Random effect\", \"Random effect\", \"Random effect\", \"Random effect\", \"Random effect\", \"Random effect\"))\n",
    "\n",
    "ktbi_gg <- ktbi_gg %>%\n",
    "  mutate(facet = factor(facet, levels = rev(c(\"Random effect\", \"N dosage\", \"N source\", \"Intercept\")))) # reorder facets for ploting"
   ]
  },
  {
   "cell_type": "markdown",
   "metadata": {},
   "source": [
    "Fire the plot!"
   ]
  },
  {
   "cell_type": "code",
   "execution_count": 42,
   "metadata": {},
   "outputs": [
    {
     "name": "stderr",
     "output_type": "stream",
     "text": [
      "Warning message:\n",
      "\"Removed 6 rows containing missing values (geom_segment).\"Warning message:\n",
      "\"Removed 6 rows containing missing values (geom_segment).\""
     ]
    },
    {
     "data": {
      "image/png": "[encoded data removed]",
      "text/plain": [
       "plot without title"
      ]
     },
     "metadata": {},
     "output_type": "display_data"
    }
   ],
   "source": [
    "options(repr.plot.width = 12, repr.plot.height = 6)\n",
    "\n",
    "ktbi_gg %>%\n",
    "  filter(variable != \"Intercept\") %>%\n",
    "  ggplot(aes(x = est., y = variable)) +\n",
    "  facet_grid(facet ~ ., scales = 'free', space = 'free') +\n",
    "  geom_vline(xintercept = 0, colour='grey70') +\n",
    "  geom_point() +\n",
    "  geom_segment(aes(x = lower, xend = upper, y = variable, yend = variable)) +\n",
    "  xlab('Coefficient') +\n",
    "  ylab('') +\n",
    "  theme_bw() +\n",
    "  theme(strip.text.y = element_text(angle=0),\n",
    "        legend.title = element_blank(),\n",
    "        legend.position = \"bottom\",\n",
    "        text = element_text(size = 20)) +\n",
    "  ggsave(\"figures/ktbi-lme-effects.png\", width = 8, height = 5, dpi = 600)"
   ]
  },
  {
   "cell_type": "markdown",
   "metadata": {},
   "source": [
    "## 10. Litters biochemical composition balance"
   ]
  },
  {
   "cell_type": "markdown",
   "metadata": {},
   "source": [
    "Classification of litters using balances among biochemical components"
   ]
  },
  {
   "cell_type": "markdown",
   "metadata": {},
   "source": [
    "### 10.1 Import data"
   ]
  },
  {
   "cell_type": "markdown",
   "metadata": {},
   "source": [
    "The data (`data_fiber`) contained the initials biochemicals components of teas and cranberry residues"
   ]
  },
  {
   "cell_type": "code",
   "execution_count": 43,
   "metadata": {},
   "outputs": [
    {
     "name": "stderr",
     "output_type": "stream",
     "text": [
      "Parsed with column specification:\n",
      "cols(\n",
      "  `Biomass type` = col_character(),\n",
      "  `SOL perc initial (%)` = col_double(),\n",
      "  `HOLO perc initial (%)` = col_double(),\n",
      "  `LIC perc initial (%)` = col_double()\n",
      ")\n"
     ]
    },
    {
     "data": {
      "text/html": [
       "<table>\n",
       "<thead><tr><th scope=col>Biomass type</th><th scope=col>SOL perc initial (%)</th><th scope=col>HOLO perc initial (%)</th><th scope=col>LIC perc initial (%)</th></tr></thead>\n",
       "<tbody>\n",
       "\t<tr><td>Green tea         </td><td>67.2              </td><td>13.3              </td><td>19.5              </td></tr>\n",
       "\t<tr><td>Rooibos tea       </td><td>28.2              </td><td>54.4              </td><td>17.4              </td></tr>\n",
       "\t<tr><td>Cranberry residues</td><td>19.3              </td><td>28.3              </td><td>52.4              </td></tr>\n",
       "\t<tr><td>Sencha tea        </td><td>77.6              </td><td>14.0              </td><td> 8.4              </td></tr>\n",
       "\t<tr><td>Hibiscus tea      </td><td>25.4              </td><td>59.9              </td><td>14.7              </td></tr>\n",
       "</tbody>\n",
       "</table>\n"
      ],
      "text/latex": [
       "\\begin{tabular}{r|llll}\n",
       " Biomass type & SOL perc initial (\\%) & HOLO perc initial (\\%) & LIC perc initial (\\%)\\\\\n",
       "\\hline\n",
       "\t Green tea          & 67.2               & 13.3               & 19.5              \\\\\n",
       "\t Rooibos tea        & 28.2               & 54.4               & 17.4              \\\\\n",
       "\t Cranberry residues & 19.3               & 28.3               & 52.4              \\\\\n",
       "\t Sencha tea         & 77.6               & 14.0               &  8.4              \\\\\n",
       "\t Hibiscus tea       & 25.4               & 59.9               & 14.7              \\\\\n",
       "\\end{tabular}\n"
      ],
      "text/markdown": [
       "\n",
       "| Biomass type | SOL perc initial (%) | HOLO perc initial (%) | LIC perc initial (%) |\n",
       "|---|---|---|---|\n",
       "| Green tea          | 67.2               | 13.3               | 19.5               |\n",
       "| Rooibos tea        | 28.2               | 54.4               | 17.4               |\n",
       "| Cranberry residues | 19.3               | 28.3               | 52.4               |\n",
       "| Sencha tea         | 77.6               | 14.0               |  8.4               |\n",
       "| Hibiscus tea       | 25.4               | 59.9               | 14.7               |\n",
       "\n"
      ],
      "text/plain": [
       "  Biomass type       SOL perc initial (%) HOLO perc initial (%)\n",
       "1 Green tea          67.2                 13.3                 \n",
       "2 Rooibos tea        28.2                 54.4                 \n",
       "3 Cranberry residues 19.3                 28.3                 \n",
       "4 Sencha tea         77.6                 14.0                 \n",
       "5 Hibiscus tea       25.4                 59.9                 \n",
       "  LIC perc initial (%)\n",
       "1 19.5                \n",
       "2 17.4                \n",
       "3 52.4                \n",
       "4  8.4                \n",
       "5 14.7                "
      ]
     },
     "metadata": {},
     "output_type": "display_data"
    }
   ],
   "source": [
    "data_fiber <- read_csv('data/data_fiber_initial.csv')\n",
    "data_fiber"
   ]
  },
  {
   "cell_type": "markdown",
   "metadata": {},
   "source": [
    "### 10.2 Isometic log ratio (Ilr)"
   ]
  },
  {
   "cell_type": "markdown",
   "metadata": {},
   "source": [
    "I isolate the parts of the compostion in table then, with `acomp`, make sure that all rows are summing to 1."
   ]
  },
  {
   "cell_type": "code",
   "execution_count": 44,
   "metadata": {},
   "outputs": [],
   "source": [
    "TeaCompositionComp <- acomp(\n",
    "    data_fiber %>%\n",
    "      select(`LIC perc initial (%)`, `SOL perc initial (%)`,  `HOLO perc initial (%)`)\n",
    ")"
   ]
  },
  {
   "cell_type": "markdown",
   "metadata": {},
   "source": [
    "I create a sequential binary partition that serves as a basis for the balance system ."
   ]
  },
  {
   "cell_type": "code",
   "execution_count": 45,
   "metadata": {},
   "outputs": [],
   "source": [
    "TeaCompositionSBP <- matrix(c(-1, 1, 1,\n",
    "                               0, 1,-1),\n",
    "                            byrow = TRUE,\n",
    "                            ncol = 3)\n",
    "colnames(TeaCompositionSBP) <- c('Lignine', 'Soluble', 'Holocelulose')"
   ]
  },
  {
   "cell_type": "markdown",
   "metadata": {},
   "source": [
    "The 3 components are transformed to 2 balances based on the SBP."
   ]
  },
  {
   "cell_type": "code",
   "execution_count": 46,
   "metadata": {},
   "outputs": [],
   "source": [
    "TeaCompositionBal <- ilr(TeaCompositionComp, V = gsi.buildilrBase(t(TeaCompositionSBP)))"
   ]
  },
  {
   "cell_type": "markdown",
   "metadata": {},
   "source": [
    "These balances are added to the `data_fiber` table."
   ]
  },
  {
   "cell_type": "code",
   "execution_count": 47,
   "metadata": {},
   "outputs": [],
   "source": [
    "data_fiber$TeaComposition_L.HS <- TeaCompositionBal[, 1] # ilr1 [Lignin | Soluble.Holocelulose]\n",
    "data_fiber$TeaComposition_S.H <- TeaCompositionBal[, 2] # ilr2 [Soluble | Holocelulose]"
   ]
  },
  {
   "cell_type": "markdown",
   "metadata": {},
   "source": [
    "### Plot of classification of litters using balances among biochemical components"
   ]
  },
  {
   "cell_type": "code",
   "execution_count": 48,
   "metadata": {},
   "outputs": [
    {
     "name": "stderr",
     "output_type": "stream",
     "text": [
      "Scale for 'x' is already present. Adding another scale for 'x', which will\n",
      "replace the existing scale.\n"
     ]
    },
    {
     "data": {
      "image/png": "[encoded data removed]",
      "text/plain": [
       "plot without title"
      ]
     },
     "metadata": {},
     "output_type": "display_data"
    }
   ],
   "source": [
    "options(repr.plot.width = 6.5, repr.plot.height = 4)\n",
    "ggplot(data_fiber, aes(x =  `TeaComposition_S.H`, y = `TeaComposition_L.HS`)) +\n",
    "geom_point()+\n",
    "geom_label_repel(aes(label = `Biomass type`), size = 3) +\n",
    "labs(x = \"[Soluble | Holocelulose]\" , y = \"[Lignin + Cutin | Soluble.Holocelulose]\") +\n",
    "theme(axis.title.x = element_text(size = 14), axis.title.y = element_text(size = 14)) +\n",
    "xlim(-1.5, 1.5) +\n",
    "scale_y_continuous(breaks=seq(-2,2,0.2)) + \n",
    "scale_x_continuous(breaks=seq(-2,2,0.2)) +\n",
    "geom_hline(yintercept = 0, linetype = \"dashed\") +\n",
    "geom_vline(xintercept = 0, linetype = \"dashed\") +\n",
    "theme_bw() +\n",
    "geom_point(size = 1, alpha = 0.5, pch = 21, fill = \"white\") \n",
    "ggsave(\"figures/Classification of litters using balances among biochemical components.png\", width = 6.2, height = 4, dpi = 120)"
   ]
  },
  {
   "cell_type": "markdown",
   "metadata": {},
   "source": [
    "## 11. **Question 3**: Where cranberry soils are placed among the axes of the *TBI*?"
   ]
  },
  {
   "cell_type": "markdown",
   "metadata": {},
   "source": [
    "Here, we extracted data from Keuskamp et al.2013 in order to compare with cranberry ecosystem"
   ]
  },
  {
   "cell_type": "markdown",
   "metadata": {},
   "source": [
    "### 11.1 Import data\n",
    "\n",
    "We adapted keuskamp's data by adding cranberry ecosystem"
   ]
  },
  {
   "cell_type": "code",
   "execution_count": 49,
   "metadata": {},
   "outputs": [
    {
     "name": "stderr",
     "output_type": "stream",
     "text": [
      "Parsed with column specification:\n",
      "cols(\n",
      "  Nombre = col_double(),\n",
      "  Region = col_character(),\n",
      "  Stabilisation_factor_S = col_double(),\n",
      "  Decomposition_rate_K = col_double()\n",
      ")\n"
     ]
    }
   ],
   "source": [
    "df_keuskamp <- read_csv(\"data/keuskamp_tbi_data.csv\")# Import Keuskamp data"
   ]
  },
  {
   "cell_type": "markdown",
   "metadata": {},
   "source": [
    "Create a logic column (`is_cranberry`) in order to identify `Cranberries` by color in the plot below"
   ]
  },
  {
   "cell_type": "code",
   "execution_count": 50,
   "metadata": {},
   "outputs": [],
   "source": [
    "df_keuskamp <- df_keuskamp %>%\n",
    "  mutate(is_cranberry = Region == \"Cranberries\")"
   ]
  },
  {
   "cell_type": "markdown",
   "metadata": {},
   "source": [
    "### 11.2 Figure TBI"
   ]
  },
  {
   "cell_type": "markdown",
   "metadata": {},
   "source": [
    "TBI of Quebec cranberry agroecosystem compared to the TBI of ecosystems reported by Keuskamp et al 2013. United States–Florida = US-FL, China = CN, Panama = PA, the Netherlands = NL, Austria = AU, Ireland = IE, and Iceland = IS."
   ]
  },
  {
   "cell_type": "code",
   "execution_count": 51,
   "metadata": {},
   "outputs": [
    {
     "data": {
      "image/png": "[encoded data removed]",
      "text/plain": [
       "plot without title"
      ]
     },
     "metadata": {},
     "output_type": "display_data"
    }
   ],
   "source": [
    "options(repr.plot.width = 6.5, repr.plot.height = 6)\n",
    "ggplot(data = df_keuskamp, aes(x = Stabilisation_factor_S, y = Decomposition_rate_K)) +\n",
    "  geom_point() +\n",
    "  geom_label_repel(aes(label = Region, fill = is_cranberry, colour = is_cranberry),\n",
    "                   size = 3.5) +\n",
    "  scale_fill_manual(values = c(\"white\", \"black\")) +\n",
    "  scale_colour_manual(values = c(\"black\", \"white\")) +\n",
    "  theme_bw() +\n",
    "  theme(legend.position = \"none\") +\n",
    "  labs(x = \"Stabilization factor (S)\", y = \"Decomposition rate (k1)\") +\n",
    "  ggsave(\"figures/TBI_keuskamp.png\", width = 6, height = 6, dpi = 120)"
   ]
  },
  {
   "cell_type": "markdown",
   "metadata": {},
   "source": [
    "### 12. **Question 4**:What is the fractal kinetics of litter matterials ?\n",
    "\n",
    "Depending on the nature of decaying material and its immediate environment, the decomposition rate of plant residues can decrease gradually through time as follow: \n",
    "\n",
    "$$k_t = k_1 t^{{-h}}$$\n",
    "\n",
    "$$log \\left( k_t \\right) = log \\left( k_1 t^{-h} \\right)$$\n",
    "\n",
    "$$log \\left( k_t \\right) = log \\left( k_1 \\right) + log \\left(t^{-h} \\right)$$\n",
    "\n",
    "$$log \\left( k_t \\right) = log \\left( k_1 \\right) - h \\times log \\left(t\\right)$$\n",
    "\n",
    "Where $k_t$ is first order kinetics, $k_1$ is reaction rate at time t = 1 and $h$ is a fractal coefficient (0 ≤ h ≤ 1) accounting for the decreasing decomposition rate through time"
   ]
  },
  {
   "cell_type": "markdown",
   "metadata": {},
   "source": [
    "#### 12.1 Fractal coefficient computation"
   ]
  },
  {
   "cell_type": "markdown",
   "metadata": {},
   "source": [
    "##### 12.1.1 Import data"
   ]
  },
  {
   "cell_type": "markdown",
   "metadata": {},
   "source": [
    "Fractal data set from 2018 trial contained information on `Final carbon (%)` `Final weight (g)` `Initial weight (g)` `Initial carbon (%)`   "
   ]
  },
  {
   "cell_type": "code",
   "execution_count": 52,
   "metadata": {},
   "outputs": [
    {
     "name": "stderr",
     "output_type": "stream",
     "text": [
      "Using ',' as decimal and '.' as grouping mark. Use read_delim() for more control.\n",
      "Parsed with column specification:\n",
      "cols(\n",
      "  `Tea type` = col_character(),\n",
      "  Prelevement = col_double(),\n",
      "  `Final carbon (%)` = col_double(),\n",
      "  `Final weight (g)` = col_double(),\n",
      "  `Initial weight (g)` = col_double(),\n",
      "  `Initial carbon (%)` = col_double()\n",
      ")\n"
     ]
    }
   ],
   "source": [
    "data_fractal <- read_csv2(\"data/data_fractal.csv\")"
   ]
  },
  {
   "cell_type": "markdown",
   "metadata": {},
   "source": [
    "##### 12.1.1 Adding some variables\n",
    "`First order kinetic names (k)`, `log(k)` and `Log(t)` has been computed. Then we select the variables needed in order compute the fractal coefficient `h`"
   ]
  },
  {
   "cell_type": "code",
   "execution_count": 53,
   "metadata": {},
   "outputs": [
    {
     "name": "stderr",
     "output_type": "stream",
     "text": [
      "Warning message:\n",
      "\"production de NaN\""
     ]
    }
   ],
   "source": [
    "data_lm_fractal <- data_fractal %>%\n",
    "  mutate(\n",
    "    # time and k\n",
    "    time = Prelevement * 21,\n",
    "    k = -log(`Final weight (g)` / `Initial weight (g)`)/ time,\n",
    "  ) %>%\n",
    "  mutate(\n",
    "    # log.time and log.k\n",
    "    log.time = log10(time),\n",
    "    log.k = log10(k)\n",
    "  ) %>%\n",
    "  select(`Tea type`, `k`,`log.time`, `log.k`, `time`)"
   ]
  },
  {
   "cell_type": "markdown",
   "metadata": {},
   "source": [
    "Then, we create data to store the results `intercept`, `slope` and r square `r_sq`"
   ]
  },
  {
   "cell_type": "code",
   "execution_count": 54,
   "metadata": {},
   "outputs": [],
   "source": [
    "fractal_kinetics <- tibble(\n",
    "    tea_types = c(\"Rooibos tea\", \"Cranberry litter\", \"Green tea\"),\n",
    "    intercept = NA,\n",
    "    slope = NA,\n",
    "    r_sq = NA\n",
    ")"
   ]
  },
  {
   "cell_type": "markdown",
   "metadata": {},
   "source": [
    "```\n",
    "lm(log.k ~ log.time)\n",
    "log.k1 = 10^intercept\n",
    "h = -slope\n",
    "```\n"
   ]
  },
  {
   "cell_type": "markdown",
   "metadata": {},
   "source": [
    "Computation of median value of `log.time` and `log.k` by `time` and `tea type` to determine `h`"
   ]
  },
  {
   "cell_type": "code",
   "execution_count": 55,
   "metadata": {},
   "outputs": [],
   "source": [
    "data_median_lm_fractal <- aggregate(cbind(log.time, log.k) ~ time + `Tea type`, data = data_lm_fractal, FUN = median)"
   ]
  },
  {
   "cell_type": "markdown",
   "metadata": {},
   "source": [
    "Applying `lm` in a loop `for` in order to compute `h`, r square `r_sq` and `k1` by `tea type`"
   ]
  },
  {
   "cell_type": "code",
   "execution_count": 56,
   "metadata": {},
   "outputs": [],
   "source": [
    "for (i in 1:nrow(fractal_kinetics)) {\n",
    "    \n",
    "    lm_fractal <- data_median_lm_fractal %>%\n",
    "      filter(`Tea type` == fractal_kinetics$tea_types[i]) %>%\n",
    "      lm(log.k ~ log.time, data = .)\n",
    "\n",
    "    fractal_kinetics$intercept[i] <- coef(lm_fractal)[1]\n",
    "    fractal_kinetics$slope[i] <- coef(lm_fractal)[2]\n",
    "    fractal_kinetics$r_sq[i] <- summary(lm_fractal)$r.squared   \n",
    "}"
   ]
  },
  {
   "cell_type": "code",
   "execution_count": 57,
   "metadata": {},
   "outputs": [
    {
     "data": {
      "text/html": [
       "<table>\n",
       "<thead><tr><th scope=col>tea_types</th><th scope=col>intercept</th><th scope=col>slope</th><th scope=col>r_sq</th><th scope=col>h</th><th scope=col>k1</th></tr></thead>\n",
       "<tbody>\n",
       "\t<tr><td>Rooibos tea     </td><td>-1.7516426      </td><td>-0.3654122      </td><td>0.9390858023    </td><td>0.3654122       </td><td>0.0177156624    </td></tr>\n",
       "\t<tr><td>Cranberry litter</td><td>-3.1311544      </td><td>-0.0207501      </td><td>0.0004111749    </td><td>0.0207501       </td><td>0.0007393424    </td></tr>\n",
       "\t<tr><td>Green tea       </td><td>-0.7035358      </td><td>-0.6985075      </td><td>0.9943128412    </td><td>0.6985075       </td><td>0.1979084002    </td></tr>\n",
       "</tbody>\n",
       "</table>\n"
      ],
      "text/latex": [
       "\\begin{tabular}{r|llllll}\n",
       " tea\\_types & intercept & slope & r\\_sq & h & k1\\\\\n",
       "\\hline\n",
       "\t Rooibos tea      & -1.7516426       & -0.3654122       & 0.9390858023     & 0.3654122        & 0.0177156624    \\\\\n",
       "\t Cranberry litter & -3.1311544       & -0.0207501       & 0.0004111749     & 0.0207501        & 0.0007393424    \\\\\n",
       "\t Green tea        & -0.7035358       & -0.6985075       & 0.9943128412     & 0.6985075        & 0.1979084002    \\\\\n",
       "\\end{tabular}\n"
      ],
      "text/markdown": [
       "\n",
       "| tea_types | intercept | slope | r_sq | h | k1 |\n",
       "|---|---|---|---|---|---|\n",
       "| Rooibos tea      | -1.7516426       | -0.3654122       | 0.9390858023     | 0.3654122        | 0.0177156624     |\n",
       "| Cranberry litter | -3.1311544       | -0.0207501       | 0.0004111749     | 0.0207501        | 0.0007393424     |\n",
       "| Green tea        | -0.7035358       | -0.6985075       | 0.9943128412     | 0.6985075        | 0.1979084002     |\n",
       "\n"
      ],
      "text/plain": [
       "  tea_types        intercept  slope      r_sq         h         k1          \n",
       "1 Rooibos tea      -1.7516426 -0.3654122 0.9390858023 0.3654122 0.0177156624\n",
       "2 Cranberry litter -3.1311544 -0.0207501 0.0004111749 0.0207501 0.0007393424\n",
       "3 Green tea        -0.7035358 -0.6985075 0.9943128412 0.6985075 0.1979084002"
      ]
     },
     "metadata": {},
     "output_type": "display_data"
    }
   ],
   "source": [
    "fractal_kinetics <-  fractal_kinetics %>%\n",
    "  mutate(h = -slope,\n",
    "         k1 = 10^intercept)\n",
    "fractal_kinetics"
   ]
  },
  {
   "cell_type": "markdown",
   "metadata": {},
   "source": [
    "Mean and standard deviation of first order kinetics"
   ]
  },
  {
   "cell_type": "code",
   "execution_count": 58,
   "metadata": {},
   "outputs": [
    {
     "data": {
      "text/html": [
       "<table>\n",
       "<thead><tr><th scope=col>Tea type</th><th scope=col>time</th><th scope=col>k</th></tr></thead>\n",
       "<tbody>\n",
       "\t<tr><td>Cranberry litter</td><td>79.76172        </td><td>7.491976e-05    </td></tr>\n",
       "\t<tr><td>Green tea       </td><td>81.77885        </td><td>1.148394e-02    </td></tr>\n",
       "\t<tr><td>Rooibos tea     </td><td>81.87459        </td><td>3.977654e-03    </td></tr>\n",
       "</tbody>\n",
       "</table>\n"
      ],
      "text/latex": [
       "\\begin{tabular}{r|lll}\n",
       " Tea type & time & k\\\\\n",
       "\\hline\n",
       "\t Cranberry litter & 79.76172         & 7.491976e-05    \\\\\n",
       "\t Green tea        & 81.77885         & 1.148394e-02    \\\\\n",
       "\t Rooibos tea      & 81.87459         & 3.977654e-03    \\\\\n",
       "\\end{tabular}\n"
      ],
      "text/markdown": [
       "\n",
       "| Tea type | time | k |\n",
       "|---|---|---|\n",
       "| Cranberry litter | 79.76172         | 7.491976e-05     |\n",
       "| Green tea        | 81.77885         | 1.148394e-02     |\n",
       "| Rooibos tea      | 81.87459         | 3.977654e-03     |\n",
       "\n"
      ],
      "text/plain": [
       "  Tea type         time     k           \n",
       "1 Cranberry litter 79.76172 7.491976e-05\n",
       "2 Green tea        81.77885 1.148394e-02\n",
       "3 Rooibos tea      81.87459 3.977654e-03"
      ]
     },
     "metadata": {},
     "output_type": "display_data"
    },
    {
     "data": {
      "text/html": [
       "<table>\n",
       "<thead><tr><th scope=col>Tea type</th><th scope=col>time</th><th scope=col>k</th></tr></thead>\n",
       "<tbody>\n",
       "\t<tr><td>Cranberry litter</td><td>42.02544        </td><td>0.001614161     </td></tr>\n",
       "\t<tr><td>Green tea       </td><td>42.23812        </td><td>0.005593548     </td></tr>\n",
       "\t<tr><td>Rooibos tea     </td><td>42.69211        </td><td>0.001449430     </td></tr>\n",
       "</tbody>\n",
       "</table>\n"
      ],
      "text/latex": [
       "\\begin{tabular}{r|lll}\n",
       " Tea type & time & k\\\\\n",
       "\\hline\n",
       "\t Cranberry litter & 42.02544         & 0.001614161     \\\\\n",
       "\t Green tea        & 42.23812         & 0.005593548     \\\\\n",
       "\t Rooibos tea      & 42.69211         & 0.001449430     \\\\\n",
       "\\end{tabular}\n"
      ],
      "text/markdown": [
       "\n",
       "| Tea type | time | k |\n",
       "|---|---|---|\n",
       "| Cranberry litter | 42.02544         | 0.001614161      |\n",
       "| Green tea        | 42.23812         | 0.005593548      |\n",
       "| Rooibos tea      | 42.69211         | 0.001449430      |\n",
       "\n"
      ],
      "text/plain": [
       "  Tea type         time     k          \n",
       "1 Cranberry litter 42.02544 0.001614161\n",
       "2 Green tea        42.23812 0.005593548\n",
       "3 Rooibos tea      42.69211 0.001449430"
      ]
     },
     "metadata": {},
     "output_type": "display_data"
    }
   ],
   "source": [
    "data_fractal_mean <- aggregate(cbind(time, `k`) ~ `Tea type`, data = data_lm_fractal, FUN = mean)\n",
    "data_fractal_mean\n",
    "data_fractal_sd <- aggregate(cbind(time, `k`) ~ `Tea type`, data = data_lm_fractal, FUN = sd)\n",
    "data_fractal_sd"
   ]
  },
  {
   "cell_type": "markdown",
   "metadata": {},
   "source": [
    "## 12.3.4 Estimation of the carbon decreasing rate of teas and cranberry residue"
   ]
  },
  {
   "cell_type": "markdown",
   "metadata": {},
   "source": [
    "Reaction rate $k_1$ at time t = 1 and fractal coefficient $h$"
   ]
  },
  {
   "cell_type": "code",
   "execution_count": 59,
   "metadata": {},
   "outputs": [],
   "source": [
    "k1_rooibos <- fractal_kinetics %>%\n",
    "  filter(tea_types == \"Rooibos tea\") %>%\n",
    "  pull(k1)\n",
    "\n",
    "k1_green <- fractal_kinetics %>%\n",
    "  filter(tea_types == \"Green tea\") %>%\n",
    "  pull(k1)\n",
    "\n",
    "k1_cranberry <- fractal_kinetics %>%\n",
    "  filter(tea_types == \"Cranberry litter\") %>%\n",
    "  pull(k1)\n",
    "\n",
    "h_rooibos <- fractal_kinetics %>%\n",
    "  filter(tea_types == \"Rooibos tea\") %>%\n",
    "  pull(h)\n",
    "\n",
    "h_green <- fractal_kinetics %>%\n",
    "  filter(tea_types == \"Green tea\") %>%\n",
    "  pull(h)\n",
    "\n",
    "h_cranberry <- fractal_kinetics %>%\n",
    "  filter(tea_types == \"Cranberry litter\") %>%\n",
    "  pull(h)"
   ]
  },
  {
   "cell_type": "markdown",
   "metadata": {},
   "source": [
    "Computing  $k_t$ for each tea type and renaming somes variables to be able to group plot\n",
    "\n",
    "$$k_t = k_1 t^{{-h}}$$"
   ]
  },
  {
   "cell_type": "code",
   "execution_count": 60,
   "metadata": {},
   "outputs": [],
   "source": [
    "data_rate <- data.frame(Prelevement = 1:7) %>%\n",
    "                            mutate(`Time (days)` = Prelevement * 21,\n",
    "                                  `Rate cranberry` = k1_cranberry *  `Time (days)`**-h_cranberry,\n",
    "                                  `Rate rooibos` = k1_rooibos * `Time (days)`**-h_rooibos,\n",
    "                                  `Rate green` = k1_green * `Time (days)`**-h_green) %>%\n",
    "                            rename(`Cranberry litter` = `Rate cranberry`,\n",
    "                                  `Rooibos tea` = `Rate rooibos`,\n",
    "                                   `Green tea` = `Rate green`)"
   ]
  },
  {
   "cell_type": "markdown",
   "metadata": {},
   "source": [
    "Tranforming data_rate into long format data in order to generate the plot"
   ]
  },
  {
   "cell_type": "code",
   "execution_count": 61,
   "metadata": {},
   "outputs": [],
   "source": [
    "data_long <- gather(data = data_rate, key = `tea type`, value = Rate, c(`Cranberry litter`, `Rooibos tea`, `Green tea`),\n",
    "                    factor_key=TRUE)\n",
    "data_long <- data_long %>%\n",
    "             rename(`Litter type`= `tea type`)"
   ]
  },
  {
   "cell_type": "markdown",
   "metadata": {},
   "source": [
    "Plot of litter decomposition rate over time under field conditions"
   ]
  },
  {
   "cell_type": "code",
   "execution_count": 62,
   "metadata": {},
   "outputs": [
    {
     "data": {
      "image/png": "[encoded data removed]",
      "text/plain": [
       "plot without title"
      ]
     },
     "metadata": {},
     "output_type": "display_data"
    }
   ],
   "source": [
    "options(repr.plot.width = 10, repr.plot.height = 6)\n",
    "ggplot(data_long, aes(x = `Time (days)`, y = `Rate`, group = `Litter type`, color = `Litter type`)) +\n",
    "geom_line() +\n",
    "geom_point(aes(shape = `Litter type`), size = 2)+\n",
    "#geom_smooth(method = \"lm\", formula = y ~ poly(x, 6) , color = 'grey', se = FALSE) + \n",
    "labs(x = \"Elapsed time (days)\" , y = expression(\"Decomposition rate (d\"^\" -1\"~\")\"))  +\n",
    "theme(axis.title.x = element_text(size = 14), \n",
    "  axis.title.y = element_text(size = 14),\n",
    "     legend.text=element_text(size=14)) +\n",
    "scale_y_continuous(breaks = 0.002*0:1000,\n",
    "                     expand = expand_scale(add = 0.002)) +\n",
    "scale_x_continuous(breaks = 10*0:1000,\n",
    "                     expand = expand_scale(add = 10)) +\n",
    "theme_bw() +\n",
    "ggsave(\"figures/K(t).png\", width = 6, height = 4, dpi = 120)"
   ]
  },
  {
   "cell_type": "markdown",
   "metadata": {},
   "source": [
    "## 13. **Question 4**: What is the fractal kinetics of litter biochemical composition ?"
   ]
  },
  {
   "cell_type": "markdown",
   "metadata": {},
   "source": [
    "### 13.1 Biochemical composition data analysis \n",
    "Here, we load `data.csv`, `data_fiber_initial.csv` and `data_fiber.csv`available for the project in the `data` folder. The `data_2018.csv` contained incubation tea bag details and soil carateristics from the second essay in 2018; `data_fiber_initial.csv` contained only initial tea bag caracteristics and `data_fiber.csv` contained mostly tea bag biochemical details as soluble, holocellulose and lignin content. \n",
    "We wanted to use only data about `green tea`, `rooibos tea` and `cranberry residu`. In order to do that, we used `subset` function to get `data_subset`"
   ]
  },
  {
   "cell_type": "code",
   "execution_count": 63,
   "metadata": {},
   "outputs": [
    {
     "name": "stderr",
     "output_type": "stream",
     "text": [
      "Parsed with column specification:\n",
      "cols(\n",
      "  `Iden fiber` = col_character(),\n",
      "  `SOL perc ILR (%)` = col_double(),\n",
      "  `HOLO perc ILR (%)` = col_double(),\n",
      "  `LIC perc ILR (%)` = col_double()\n",
      ")\n",
      "Parsed with column specification:\n",
      "cols(\n",
      "  `Biomass type` = col_character(),\n",
      "  `SOL perc initial (%)` = col_double(),\n",
      "  `HOLO perc initial (%)` = col_double(),\n",
      "  `LIC perc initial (%)` = col_double()\n",
      ")\n"
     ]
    }
   ],
   "source": [
    "data <- read_csv('data/data_2018.csv', col_types = \"??????????????f????????????????????\")\n",
    "data_fiber <- read_csv('data/data_fiber.csv')\n",
    "data_fiber_initial <- read_csv('data/data_fiber_initial.csv')\n",
    "\n",
    "data_subset <- subset(data,  (`Sampling period (3 weeks)`> 0 & (`Biomass type`== \"Cranberry residu\" | \n",
    "`Biomass type` == \"Green tea\"| `Biomass type` == \"Rooibos tea\")))"
   ]
  },
  {
   "cell_type": "markdown",
   "metadata": {},
   "source": [
    "Join all 3 data with with `left_join` function. The obtained data is called `data_join_02`"
   ]
  },
  {
   "cell_type": "code",
   "execution_count": 64,
   "metadata": {},
   "outputs": [],
   "source": [
    "data_join <- data_subset %>%\n",
    "  left_join(data_fiber, by = 'Iden fiber')\n",
    "\n",
    "data_join_02 <- data_join %>%\n",
    "  left_join(data_fiber_initial, by = 'Biomass type')"
   ]
  },
  {
   "cell_type": "markdown",
   "metadata": {},
   "source": [
    "## 13.2 Some calculations \n",
    "### Initial and final content of carbon, soluble, holocellulose and lignin"
   ]
  },
  {
   "cell_type": "code",
   "execution_count": 65,
   "metadata": {},
   "outputs": [],
   "source": [
    "data_join_02 <- data_join_02 %>%\n",
    "mutate(`Initial SOL content (g)` = `SOL perc initial (%)` * `Sample initial weight (g)` / 100,\n",
    "       `Initial HOLO content (g)` = `HOLO perc initial (%)` * `Sample initial weight (g)` / 100,\n",
    "       `Initial LIC content (g)` = `LIC perc initial (%)` * `Sample initial weight (g)` / 100,\n",
    "       `Final SOL content (g)` = `SOL perc ILR (%)` * `Sample final weight (g)` / 100,\n",
    "       `Final LIC content (g)` = `LIC perc ILR (%)` * `Sample final weight (g)` / 100,\n",
    "       `Final HOLO content (g)` = `HOLO perc ILR (%)` * `Sample final weight (g)` / 100,\n",
    "       `Initial Hydrolyzable content (g)` = `Initial SOL content (g)` +  `Initial HOLO content (g)`,\n",
    "       `Final Hydrolyzable content (g)` = `Final SOL content (g)` + `Final HOLO content (g)`)"
   ]
  },
  {
   "cell_type": "markdown",
   "metadata": {},
   "source": [
    "### 13.2.1 First order kinetic\n",
    "Here,we compute decomposition rate of carbon, soluble, holocellulose and lignin using first order kinetic."
   ]
  },
  {
   "cell_type": "code",
   "execution_count": 66,
   "metadata": {},
   "outputs": [],
   "source": [
    "kinetics_1st <- function(rw, iw, t) { # first order kinetic function\n",
    "    -log10(rw/iw)/t\n",
    "}"
   ]
  },
  {
   "cell_type": "code",
   "execution_count": 67,
   "metadata": {},
   "outputs": [],
   "source": [
    "data_join_02 <- data_join_02 %>%\n",
    "mutate(`rate SOL` = kinetics_1st(rw = `Final SOL content (g)`,\n",
    "                      iw = `Initial SOL content (g)`,\n",
    "                      t = `Sampling period (3 weeks)` * 21),\n",
    "       `rate HOLO` = kinetics_1st(rw = `Final HOLO content (g)`,\n",
    "                      iw = `Initial HOLO content (g)`,\n",
    "                      t = `Sampling period (3 weeks)` * 21),\n",
    "       `rate LIC` = kinetics_1st(rw = `Final LIC content (g)`,\n",
    "                      iw = `Initial LIC content (g)`,\n",
    "                      t = `Sampling period (3 weeks)` * 21),\n",
    "       `rate Hydrolyzable` = kinetics_1st(rw = `Final Hydrolyzable content (g)`,\n",
    "                      iw = `Initial Hydrolyzable content (g)`,\n",
    "                      t = `Sampling period (3 weeks)` * 21),\n",
    "      `Sampling period (days)` = `Sampling period (3 weeks)` * 21)"
   ]
  },
  {
   "cell_type": "markdown",
   "metadata": {},
   "source": [
    "### 13.2.2 Selection all variables we interested in data_join_02. Our final data is called `data_filtre`"
   ]
  },
  {
   "cell_type": "code",
   "execution_count": 68,
   "metadata": {},
   "outputs": [],
   "source": [
    "na.action = na.exclude\n",
    "data_filtre <- data_join_02 %>%\n",
    "select(`Iden fiber`, `Biomass type`,  `Sampling period (days)`, `Site`, `Producer`,`Repetition`,\n",
    " `Initial SOL content (g)`, `Initial HOLO content (g)`, `Initial LIC content (g)`, `Final SOL content (g)`,`Final HOLO content (g)`, `Final LIC content (g)`,\n",
    "       `Sample final weight (g)`, `Initial Hydrolyzable content (g)`, `Final Hydrolyzable content (g)`,\n",
    "       `rate SOL`, `rate HOLO`, `rate LIC`, `rate Hydrolyzable`) %>% \n",
    "rename(Lignin = `rate LIC`, \n",
    "       Holocelulose = `rate HOLO`, \n",
    "       Soluble = `rate SOL`,\n",
    "       Hydrolyzable = `rate Hydrolyzable`)"
   ]
  },
  {
   "cell_type": "markdown",
   "metadata": {},
   "source": [
    "## 13.3 Linear regressions of materials biochemical composition"
   ]
  },
  {
   "cell_type": "markdown",
   "metadata": {},
   "source": [
    "Transforming `data_filtre` to long format data `data_long` in order to use a `facet_grid` in the plot below"
   ]
  },
  {
   "cell_type": "code",
   "execution_count": 69,
   "metadata": {},
   "outputs": [],
   "source": [
    "data_long <- gather(data = data_filtre, key = `Biochemical composition`, value = `Biochemical decomposition rate`, c(`Soluble`,\n",
    "                                                                                                                    `Lignin`, `Holocelulose`, `Hydrolyzable`),\n",
    "                    factor_key=TRUE)"
   ]
  },
  {
   "cell_type": "markdown",
   "metadata": {},
   "source": [
    "Extract data_long according to biomass type `Rooibos and Green tea`; and Biochemical composition `Lignin and Hydrolyzable` fraction"
   ]
  },
  {
   "cell_type": "code",
   "execution_count": 70,
   "metadata": {},
   "outputs": [],
   "source": [
    "data_long <- subset(data_long, `Biomass type` == \"Green tea\" | `Biomass type` == \"Rooibos tea\")\n",
    "data_long <- subset(data_long, `Biochemical composition` == \"Lignin\" | `Biochemical composition` == \"Hydrolyzable\")"
   ]
  },
  {
   "cell_type": "code",
   "execution_count": 71,
   "metadata": {},
   "outputs": [
    {
     "name": "stderr",
     "output_type": "stream",
     "text": [
      "Warning message:\n",
      "\"production de NaN\""
     ]
    }
   ],
   "source": [
    "data_long <- data_long %>%\n",
    "        mutate(`log.K` = log10(`Biochemical decomposition rate`),\n",
    "                `log.T` = log10(`Sampling period (days)`))"
   ]
  },
  {
   "cell_type": "markdown",
   "metadata": {},
   "source": [
    "Create new facet names for variable `Biochemical composition`"
   ]
  },
  {
   "cell_type": "code",
   "execution_count": 72,
   "metadata": {},
   "outputs": [],
   "source": [
    "New.labs <- c(\"Non-Hydrolyzable\", \"Hydrolyzsable\") \n",
    "names(New.labs) <- c(\"Lignin\", \"Hydrolyzable\")"
   ]
  },
  {
   "cell_type": "markdown",
   "metadata": {},
   "source": [
    "Plot showing the kinetics of decomposition of the hydrolyzable (soluble and holocellulose fractions) and Non-hydrolyzable (Lignin) fraction of green and rooibos teas."
   ]
  },
  {
   "cell_type": "code",
   "execution_count": 73,
   "metadata": {},
   "outputs": [
    {
     "name": "stderr",
     "output_type": "stream",
     "text": [
      "Warning message:\n",
      "\"Removed 1666 rows containing non-finite values (stat_smooth).\"Warning message:\n",
      "\"Removed 1666 rows containing missing values (geom_point).\"Warning message:\n",
      "\"Removed 1666 rows containing non-finite values (stat_smooth).\"Warning message:\n",
      "\"Removed 1666 rows containing missing values (geom_point).\""
     ]
    },
    {
     "data": {
      "image/png": "[encoded data removed]",
      "text/plain": [
       "plot without title"
      ]
     },
     "metadata": {},
     "output_type": "display_data"
    }
   ],
   "source": [
    "options(repr.plot.width = 10, repr.plot.height = 6)\n",
    "ggplot(data_long, aes(x =  `Sampling period (days)`, y = `Biochemical decomposition rate`)) +\n",
    "facet_grid( `Biochemical composition` ~ `Biomass type`, scales = \"free\",\n",
    "           labeller = labeller(`Biochemical composition` = New.labs)) +\n",
    "geom_smooth(method = \"lm\" , color = 'black', se = FALSE) + \n",
    "labs(x = \"Time (days)\" , y = \"Biochemical decomposition rate\") +\n",
    "theme(axis.title.x = element_text(size = 18, face = \"bold\"), \n",
    "  axis.title.y = element_text(size = 18, face = \"bold\"),\n",
    "     legend.text=element_text(size=14, face = \"bold\")) +\n",
    "ylim(-0.05, 0.05) +\n",
    "theme_bw() +\n",
    "  geom_point(size = 1, alpha = 0.5, pch = 21, fill = \"white\") \n",
    "ggsave(\"figures/Linear regression of Biochemical decomposition rate.png\", width = 8, height = 6, dpi = 80)"
   ]
  },
  {
   "cell_type": "markdown",
   "metadata": {},
   "source": [
    "## 13.4 Biochemical fractal kinetics"
   ]
  },
  {
   "cell_type": "markdown",
   "metadata": {},
   "source": [
    "Selection of all variables needed in `data_lm_fractal_biochemical`"
   ]
  },
  {
   "cell_type": "code",
   "execution_count": 75,
   "metadata": {},
   "outputs": [],
   "source": [
    "data_lm_fractal_biochemical <- data_long %>%\n",
    "  select(`Biomass type`, `Biochemical decomposition rate`, `log.T`, `log.K`, `Biochemical composition`, `Sampling period (days)`)"
   ]
  },
  {
   "cell_type": "markdown",
   "metadata": {},
   "source": [
    "Then, we create data to store the results `intercept`, `slope` and r square `r_sq`"
   ]
  },
  {
   "cell_type": "code",
   "execution_count": 76,
   "metadata": {},
   "outputs": [],
   "source": [
    "fractal_biochemical_kinetics <- tibble(\n",
    "    Biomass_type = c(\"Green tea\", \"Rooibos tea\", \"Green tea\", \"Rooibos tea\"),\n",
    "    Biochemical_composition = c(rep(\"Lignin\", 2), rep(\"Hydrolyzable\", 2)),\n",
    "    intercept = NA,\n",
    "    slope = NA,\n",
    "    r_sq = NA\n",
    ")"
   ]
  },
  {
   "cell_type": "markdown",
   "metadata": {},
   "source": [
    "```\n",
    "lm(log.K ~ log.T)\n",
    "log.K1 = 10^intercept\n",
    "h = -slope\n",
    "```\n"
   ]
  },
  {
   "cell_type": "markdown",
   "metadata": {},
   "source": [
    "Computation of median value of `log.time` and `log.k` by `time` and `tea type` to determine `h`"
   ]
  },
  {
   "cell_type": "code",
   "execution_count": 77,
   "metadata": {},
   "outputs": [],
   "source": [
    "data_median_fractal_biochemical <- aggregate(cbind(`log.T`, `log.K`) ~ `Sampling period (days)` + \n",
    "                                             `Biomass type` + `Biochemical composition`, \n",
    "                                             data = data_lm_fractal_biochemical, \n",
    "                                             FUN = median)"
   ]
  },
  {
   "cell_type": "markdown",
   "metadata": {},
   "source": [
    "Applying `lm` in a loop `for` in order to compute `h`, r square `r_sq` and `k1`; by `Biomass type` and `Biochemical composition`"
   ]
  },
  {
   "cell_type": "code",
   "execution_count": 78,
   "metadata": {},
   "outputs": [],
   "source": [
    "for (i in 1:nrow(fractal_biochemical_kinetics)) {\n",
    "    \n",
    "    lm_fractal <- data_median_fractal_biochemical %>%\n",
    "      filter((`Biomass type` == fractal_biochemical_kinetics$Biomass_type[i]) &\n",
    "             (`Biochemical composition` == fractal_biochemical_kinetics$Biochemical_composition[i])) %>%\n",
    "      lm(`log.K` ~ `log.T`, data = .)\n",
    "\n",
    "    fractal_biochemical_kinetics$intercept[i] <- coef(lm_fractal)[1]\n",
    "    fractal_biochemical_kinetics$slope[i] <- coef(lm_fractal)[2]\n",
    "    fractal_biochemical_kinetics$r_sq[i] <- summary(lm_fractal)$r.squared    \n",
    "}"
   ]
  },
  {
   "cell_type": "markdown",
   "metadata": {},
   "source": [
    "Computation of `h`, r square `r_sq` and `k1`; by `Biomass type` and `Biochemical composition`"
   ]
  },
  {
   "cell_type": "code",
   "execution_count": 81,
   "metadata": {},
   "outputs": [
    {
     "data": {
      "text/html": [
       "<table>\n",
       "<thead><tr><th scope=col>Biomass_type</th><th scope=col>Biochemical_composition</th><th scope=col>intercept</th><th scope=col>slope</th><th scope=col>r_sq</th><th scope=col>h</th><th scope=col>k1</th></tr></thead>\n",
       "<tbody>\n",
       "\t<tr><td>Green tea   </td><td>Lignin      </td><td>-0.5924339  </td><td>-0.9495719  </td><td>0.9516462   </td><td>0.9495719   </td><td>0.25560310  </td></tr>\n",
       "\t<tr><td>Rooibos tea </td><td>Lignin      </td><td>-1.0164253  </td><td>-1.3570685  </td><td>0.6150621   </td><td>1.3570685   </td><td>0.09628857  </td></tr>\n",
       "\t<tr><td>Green tea   </td><td>Hydrolyzable</td><td>-1.2330595  </td><td>-0.6119060  </td><td>0.9610390   </td><td>0.6119060   </td><td>0.05847100  </td></tr>\n",
       "\t<tr><td>Rooibos tea </td><td>Hydrolyzable</td><td>-1.8910531  </td><td>-0.4061517  </td><td>0.6724302   </td><td>0.4061517   </td><td>0.01285130  </td></tr>\n",
       "</tbody>\n",
       "</table>\n"
      ],
      "text/latex": [
       "\\begin{tabular}{r|lllllll}\n",
       " Biomass\\_type & Biochemical\\_composition & intercept & slope & r\\_sq & h & k1\\\\\n",
       "\\hline\n",
       "\t Green tea    & Lignin       & -0.5924339   & -0.9495719   & 0.9516462    & 0.9495719    & 0.25560310  \\\\\n",
       "\t Rooibos tea  & Lignin       & -1.0164253   & -1.3570685   & 0.6150621    & 1.3570685    & 0.09628857  \\\\\n",
       "\t Green tea    & Hydrolyzable & -1.2330595   & -0.6119060   & 0.9610390    & 0.6119060    & 0.05847100  \\\\\n",
       "\t Rooibos tea  & Hydrolyzable & -1.8910531   & -0.4061517   & 0.6724302    & 0.4061517    & 0.01285130  \\\\\n",
       "\\end{tabular}\n"
      ],
      "text/markdown": [
       "\n",
       "| Biomass_type | Biochemical_composition | intercept | slope | r_sq | h | k1 |\n",
       "|---|---|---|---|---|---|---|\n",
       "| Green tea    | Lignin       | -0.5924339   | -0.9495719   | 0.9516462    | 0.9495719    | 0.25560310   |\n",
       "| Rooibos tea  | Lignin       | -1.0164253   | -1.3570685   | 0.6150621    | 1.3570685    | 0.09628857   |\n",
       "| Green tea    | Hydrolyzable | -1.2330595   | -0.6119060   | 0.9610390    | 0.6119060    | 0.05847100   |\n",
       "| Rooibos tea  | Hydrolyzable | -1.8910531   | -0.4061517   | 0.6724302    | 0.4061517    | 0.01285130   |\n",
       "\n"
      ],
      "text/plain": [
       "  Biomass_type Biochemical_composition intercept  slope      r_sq     \n",
       "1 Green tea    Lignin                  -0.5924339 -0.9495719 0.9516462\n",
       "2 Rooibos tea  Lignin                  -1.0164253 -1.3570685 0.6150621\n",
       "3 Green tea    Hydrolyzable            -1.2330595 -0.6119060 0.9610390\n",
       "4 Rooibos tea  Hydrolyzable            -1.8910531 -0.4061517 0.6724302\n",
       "  h         k1        \n",
       "1 0.9495719 0.25560310\n",
       "2 1.3570685 0.09628857\n",
       "3 0.6119060 0.05847100\n",
       "4 0.4061517 0.01285130"
      ]
     },
     "metadata": {},
     "output_type": "display_data"
    }
   ],
   "source": [
    "fractal_biochemical_kinetics <-  fractal_biochemical_kinetics %>%\n",
    "  mutate(h = -slope,\n",
    "         k1 = 10^intercept)\n",
    "fractal_biochemical_kinetics"
   ]
  }
 ],
 "metadata": {
  "kernelspec": {
   "display_name": "R",
   "language": "R",
   "name": "ir"
  },
  "language_info": {
   "codemirror_mode": "r",
   "file_extension": ".r",
   "mimetype": "text/x-r-source",
   "name": "R",
   "pygments_lexer": "r",
   "version": "3.6.1"
  }
 },
 "nbformat": 4,
 "nbformat_minor": 4
}
