{
 "cells": [
  {
   "cell_type": "code",
   "execution_count": 4,
   "metadata": {},
   "outputs": [],
   "source": [
    "library(readxl)\n",
    "donnee_tbi <- read_excel('KEUSKAMP TBI DATA.xlsx')"
   ]
  },
  {
   "cell_type": "code",
   "execution_count": null,
   "metadata": {},
   "outputs": [],
   "source": [
    " #geom_line(aes(color=Sorte_The))+\n",
    "  # +\n",
    "  #geom_errorbar(aes(ymin=PertePoids-sd, ymax=PertePoids+sd), width=.1, \n",
    "         #       position=position_dodge(0.05)) #+\n",
    "  #geom_line() + geom_point()+\n",
    "  #scale_color_brewer(palette=\"Paired\")+theme_minimal()"
   ]
  },
  {
   "cell_type": "code",
   "execution_count": null,
   "metadata": {},
   "outputs": [],
   "source": []
  },
  {
   "cell_type": "code",
   "execution_count": 12,
   "metadata": {},
   "outputs": [
    {
     "ename": "ERROR",
     "evalue": "Error in parse(text = x, srcfile = src): <text>:1:45: unexpected symbol\n1: ggplot(data=donnee_tbi, aes(x=Stabilisation factor\n                                                ^\n",
     "execution_count": 12,
     "output_type": "error",
     "traceback": [
      "Error in parse(text = x, srcfile = src): <text>:1:45: unexpected symbol\n1: ggplot(data=donnee_tbi, aes(x=Stabilisation factor\n                                                ^\nTraceback:\n"
     ]
    }
   ],
   "source": [
    "ggplot(data=donnee_tbi, aes(x=Stabilisation factor (S) , y=Decomposition rate(k) , group=Region)) +\n",
    "   geom_point(aes(color=Region))\n",
    " "
   ]
  },
  {
   "cell_type": "code",
   "execution_count": null,
   "metadata": {},
   "outputs": [],
   "source": []
  }
 ],
 "metadata": {
  "kernelspec": {
   "display_name": "R",
   "language": "R",
   "name": "ir"
  },
  "language_info": {
   "codemirror_mode": "r",
   "file_extension": ".r",
   "mimetype": "text/x-r-source",
   "name": "R",
   "pygments_lexer": "r",
   "version": "3.5.1"
  }
 },
 "nbformat": 4,
 "nbformat_minor": 4
}
